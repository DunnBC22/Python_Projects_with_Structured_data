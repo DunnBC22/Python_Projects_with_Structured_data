{
 "cells": [
  {
   "cell_type": "markdown",
   "id": "af59e200",
   "metadata": {},
   "source": [
    "# Decision: Promote Employee or Not"
   ]
  },
  {
   "cell_type": "markdown",
   "id": "5c11c0e5",
   "metadata": {},
   "source": [
    "##### Dataset Source: https://www.kaggle.com/arashnic/hr-ana"
   ]
  },
  {
   "cell_type": "markdown",
   "id": "31375602",
   "metadata": {},
   "source": [
    "#### Notes About Outcome:\n",
    "* For some reason, the Validation AUC Score never rose above 0.81 as the pricision for the Validation Dataset results were always in the 0.20-0.40 range. I tried tuning the following: \n",
    "\n",
    "1) The size of the train/test/validation datasets, \n",
    "\n",
    "2) The regularizers (both the type [bias, kernel, & activity] and weights [both L1 and L2 regularizers], \n",
    "\n",
    "3) The number of nodes in each layer, \n",
    "\n",
    "4) The value of the dropout layer, \n",
    "\n",
    "5) Both including and not including a dropout layer, \n",
    "\n",
    "6) Using one layer versus two layers,\n",
    "\n",
    "7) Adjusting the patience (number of epochs) of the early stopping function,\n",
    "\n",
    "8) The Batch size for training,\n",
    "\n",
    "9) Evaluating the results both with and without removing outliers.\n",
    "\n",
    "Other Items to Keep in Mind:\n",
    "\n",
    "* This dataset was imbalanced. As I calculate and state in the code: 'Of the 44303 total samples, 3931 are positive, which accounts for 8.873% of the total dataset.'\n",
    "\n",
    "* To Combat the imbalance in the data, I tried both undersampling and SMOTE. Originally I thought undersampling would have worked better as there are plenty of observations, but in practice, SMOTE returned superior results.\n",
    "\n",
    "** That said, I am aware of tools like Weights and Balances that allow for automating the testing to tune the hyperparameters for the best results. That is definitely something that I will consider in the future to further improve this model."
   ]
  },
  {
   "cell_type": "markdown",
   "id": "e33e0cf3",
   "metadata": {},
   "source": [
    "#### Import Necessary Libraries"
   ]
  },
  {
   "cell_type": "code",
   "execution_count": 1,
   "id": "6e2e1a30",
   "metadata": {},
   "outputs": [],
   "source": [
    "import pandas as pd\n",
    "import numpy as np\n",
    "\n",
    "from tensorflow import keras\n",
    "import tensorflow as tf\n",
    "from tensorflow.keras import layers, regularizers\n",
    "import tensorflow_addons as tfa\n",
    "\n",
    "import matplotlib as mlt\n",
    "import matplotlib.pyplot as plt\n",
    "import seaborn as sns\n",
    "\n",
    "import os\n",
    "import tempfile\n",
    "\n",
    "import sklearn\n",
    "from sklearn.metrics import confusion_matrix\n",
    "from sklearn.model_selection import train_test_split\n",
    "from sklearn.preprocessing import StandardScaler\n",
    "from sklearn.utils.class_weight import compute_class_weight\n",
    "\n",
    "import imblearn\n",
    "from imblearn.under_sampling import RandomUnderSampler\n",
    "from imblearn.over_sampling import SMOTE, SMOTENC, SVMSMOTE, ADASYN"
   ]
  },
  {
   "cell_type": "markdown",
   "id": "4f0792aa",
   "metadata": {},
   "source": [
    "#### Versions of Many Libraries Used"
   ]
  },
  {
   "cell_type": "code",
   "execution_count": 2,
   "id": "85eee613",
   "metadata": {},
   "outputs": [
    {
     "name": "stdout",
     "output_type": "stream",
     "text": [
      "Pandas 1.4.2\n",
      "NumPy 1.21.5\n",
      "Sklearn 1.0.2\n",
      "Tensorflow 2.9.1\n",
      "Keras 2.9.0\n",
      "imblearn 0.7.0\n"
     ]
    }
   ],
   "source": [
    "print(\"Pandas\", pd.__version__)\n",
    "print(\"NumPy\", np.__version__)\n",
    "print(\"Sklearn\", sklearn.__version__)\n",
    "print(\"Tensorflow\", tf.__version__)\n",
    "print(\"Keras\", keras.__version__)\n",
    "print(\"imblearn\", imblearn.__version__)"
   ]
  },
  {
   "cell_type": "markdown",
   "id": "bc1113ea",
   "metadata": {},
   "source": [
    "#### Colors Used in Visuals"
   ]
  },
  {
   "cell_type": "code",
   "execution_count": 3,
   "id": "a3667730",
   "metadata": {},
   "outputs": [],
   "source": [
    "colors= ['blue', 'orange', 'green', 'red']"
   ]
  },
  {
   "cell_type": "markdown",
   "id": "22b756c9",
   "metadata": {},
   "source": [
    "#### Ingest Dataset"
   ]
  },
  {
   "cell_type": "code",
   "execution_count": 4,
   "id": "8826abe9",
   "metadata": {},
   "outputs": [
    {
     "data": {
      "text/html": [
       "<div>\n",
       "<style scoped>\n",
       "    .dataframe tbody tr th:only-of-type {\n",
       "        vertical-align: middle;\n",
       "    }\n",
       "\n",
       "    .dataframe tbody tr th {\n",
       "        vertical-align: top;\n",
       "    }\n",
       "\n",
       "    .dataframe thead th {\n",
       "        text-align: right;\n",
       "    }\n",
       "</style>\n",
       "<table border=\"1\" class=\"dataframe\">\n",
       "  <thead>\n",
       "    <tr style=\"text-align: right;\">\n",
       "      <th></th>\n",
       "      <th>employee_id</th>\n",
       "      <th>department</th>\n",
       "      <th>region</th>\n",
       "      <th>education</th>\n",
       "      <th>gender</th>\n",
       "      <th>recruitment_channel</th>\n",
       "      <th>no_of_trainings</th>\n",
       "      <th>age</th>\n",
       "      <th>previous_year_rating</th>\n",
       "      <th>length_of_service</th>\n",
       "      <th>awards_won?</th>\n",
       "      <th>avg_training_score</th>\n",
       "      <th>is_promoted</th>\n",
       "    </tr>\n",
       "  </thead>\n",
       "  <tbody>\n",
       "    <tr>\n",
       "      <th>0</th>\n",
       "      <td>65438</td>\n",
       "      <td>Sales &amp; Marketing</td>\n",
       "      <td>region_7</td>\n",
       "      <td>Master's &amp; above</td>\n",
       "      <td>f</td>\n",
       "      <td>sourcing</td>\n",
       "      <td>1</td>\n",
       "      <td>35</td>\n",
       "      <td>5.0</td>\n",
       "      <td>8</td>\n",
       "      <td>0</td>\n",
       "      <td>49</td>\n",
       "      <td>0</td>\n",
       "    </tr>\n",
       "    <tr>\n",
       "      <th>1</th>\n",
       "      <td>65141</td>\n",
       "      <td>Operations</td>\n",
       "      <td>region_22</td>\n",
       "      <td>Bachelor's</td>\n",
       "      <td>m</td>\n",
       "      <td>other</td>\n",
       "      <td>1</td>\n",
       "      <td>30</td>\n",
       "      <td>5.0</td>\n",
       "      <td>4</td>\n",
       "      <td>0</td>\n",
       "      <td>60</td>\n",
       "      <td>0</td>\n",
       "    </tr>\n",
       "    <tr>\n",
       "      <th>2</th>\n",
       "      <td>7513</td>\n",
       "      <td>Sales &amp; Marketing</td>\n",
       "      <td>region_19</td>\n",
       "      <td>Bachelor's</td>\n",
       "      <td>m</td>\n",
       "      <td>sourcing</td>\n",
       "      <td>1</td>\n",
       "      <td>34</td>\n",
       "      <td>3.0</td>\n",
       "      <td>7</td>\n",
       "      <td>0</td>\n",
       "      <td>50</td>\n",
       "      <td>0</td>\n",
       "    </tr>\n",
       "    <tr>\n",
       "      <th>3</th>\n",
       "      <td>2542</td>\n",
       "      <td>Sales &amp; Marketing</td>\n",
       "      <td>region_23</td>\n",
       "      <td>Bachelor's</td>\n",
       "      <td>m</td>\n",
       "      <td>other</td>\n",
       "      <td>2</td>\n",
       "      <td>39</td>\n",
       "      <td>1.0</td>\n",
       "      <td>10</td>\n",
       "      <td>0</td>\n",
       "      <td>50</td>\n",
       "      <td>0</td>\n",
       "    </tr>\n",
       "    <tr>\n",
       "      <th>4</th>\n",
       "      <td>48945</td>\n",
       "      <td>Technology</td>\n",
       "      <td>region_26</td>\n",
       "      <td>Bachelor's</td>\n",
       "      <td>m</td>\n",
       "      <td>other</td>\n",
       "      <td>1</td>\n",
       "      <td>45</td>\n",
       "      <td>3.0</td>\n",
       "      <td>2</td>\n",
       "      <td>0</td>\n",
       "      <td>73</td>\n",
       "      <td>0</td>\n",
       "    </tr>\n",
       "    <tr>\n",
       "      <th>...</th>\n",
       "      <td>...</td>\n",
       "      <td>...</td>\n",
       "      <td>...</td>\n",
       "      <td>...</td>\n",
       "      <td>...</td>\n",
       "      <td>...</td>\n",
       "      <td>...</td>\n",
       "      <td>...</td>\n",
       "      <td>...</td>\n",
       "      <td>...</td>\n",
       "      <td>...</td>\n",
       "      <td>...</td>\n",
       "      <td>...</td>\n",
       "    </tr>\n",
       "    <tr>\n",
       "      <th>54803</th>\n",
       "      <td>3030</td>\n",
       "      <td>Technology</td>\n",
       "      <td>region_14</td>\n",
       "      <td>Bachelor's</td>\n",
       "      <td>m</td>\n",
       "      <td>sourcing</td>\n",
       "      <td>1</td>\n",
       "      <td>48</td>\n",
       "      <td>3.0</td>\n",
       "      <td>17</td>\n",
       "      <td>0</td>\n",
       "      <td>78</td>\n",
       "      <td>0</td>\n",
       "    </tr>\n",
       "    <tr>\n",
       "      <th>54804</th>\n",
       "      <td>74592</td>\n",
       "      <td>Operations</td>\n",
       "      <td>region_27</td>\n",
       "      <td>Master's &amp; above</td>\n",
       "      <td>f</td>\n",
       "      <td>other</td>\n",
       "      <td>1</td>\n",
       "      <td>37</td>\n",
       "      <td>2.0</td>\n",
       "      <td>6</td>\n",
       "      <td>0</td>\n",
       "      <td>56</td>\n",
       "      <td>0</td>\n",
       "    </tr>\n",
       "    <tr>\n",
       "      <th>54805</th>\n",
       "      <td>13918</td>\n",
       "      <td>Analytics</td>\n",
       "      <td>region_1</td>\n",
       "      <td>Bachelor's</td>\n",
       "      <td>m</td>\n",
       "      <td>other</td>\n",
       "      <td>1</td>\n",
       "      <td>27</td>\n",
       "      <td>5.0</td>\n",
       "      <td>3</td>\n",
       "      <td>0</td>\n",
       "      <td>79</td>\n",
       "      <td>0</td>\n",
       "    </tr>\n",
       "    <tr>\n",
       "      <th>54806</th>\n",
       "      <td>13614</td>\n",
       "      <td>Sales &amp; Marketing</td>\n",
       "      <td>region_9</td>\n",
       "      <td>NaN</td>\n",
       "      <td>m</td>\n",
       "      <td>sourcing</td>\n",
       "      <td>1</td>\n",
       "      <td>29</td>\n",
       "      <td>1.0</td>\n",
       "      <td>2</td>\n",
       "      <td>0</td>\n",
       "      <td>45</td>\n",
       "      <td>0</td>\n",
       "    </tr>\n",
       "    <tr>\n",
       "      <th>54807</th>\n",
       "      <td>51526</td>\n",
       "      <td>HR</td>\n",
       "      <td>region_22</td>\n",
       "      <td>Bachelor's</td>\n",
       "      <td>m</td>\n",
       "      <td>other</td>\n",
       "      <td>1</td>\n",
       "      <td>27</td>\n",
       "      <td>1.0</td>\n",
       "      <td>5</td>\n",
       "      <td>0</td>\n",
       "      <td>49</td>\n",
       "      <td>0</td>\n",
       "    </tr>\n",
       "  </tbody>\n",
       "</table>\n",
       "<p>54808 rows × 13 columns</p>\n",
       "</div>"
      ],
      "text/plain": [
       "       employee_id         department     region         education gender  \\\n",
       "0            65438  Sales & Marketing   region_7  Master's & above      f   \n",
       "1            65141         Operations  region_22        Bachelor's      m   \n",
       "2             7513  Sales & Marketing  region_19        Bachelor's      m   \n",
       "3             2542  Sales & Marketing  region_23        Bachelor's      m   \n",
       "4            48945         Technology  region_26        Bachelor's      m   \n",
       "...            ...                ...        ...               ...    ...   \n",
       "54803         3030         Technology  region_14        Bachelor's      m   \n",
       "54804        74592         Operations  region_27  Master's & above      f   \n",
       "54805        13918          Analytics   region_1        Bachelor's      m   \n",
       "54806        13614  Sales & Marketing   region_9               NaN      m   \n",
       "54807        51526                 HR  region_22        Bachelor's      m   \n",
       "\n",
       "      recruitment_channel  no_of_trainings  age  previous_year_rating  \\\n",
       "0                sourcing                1   35                   5.0   \n",
       "1                   other                1   30                   5.0   \n",
       "2                sourcing                1   34                   3.0   \n",
       "3                   other                2   39                   1.0   \n",
       "4                   other                1   45                   3.0   \n",
       "...                   ...              ...  ...                   ...   \n",
       "54803            sourcing                1   48                   3.0   \n",
       "54804               other                1   37                   2.0   \n",
       "54805               other                1   27                   5.0   \n",
       "54806            sourcing                1   29                   1.0   \n",
       "54807               other                1   27                   1.0   \n",
       "\n",
       "       length_of_service  awards_won?  avg_training_score  is_promoted  \n",
       "0                      8            0                  49            0  \n",
       "1                      4            0                  60            0  \n",
       "2                      7            0                  50            0  \n",
       "3                     10            0                  50            0  \n",
       "4                      2            0                  73            0  \n",
       "...                  ...          ...                 ...          ...  \n",
       "54803                 17            0                  78            0  \n",
       "54804                  6            0                  56            0  \n",
       "54805                  3            0                  79            0  \n",
       "54806                  2            0                  45            0  \n",
       "54807                  5            0                  49            0  \n",
       "\n",
       "[54808 rows x 13 columns]"
      ]
     },
     "execution_count": 4,
     "metadata": {},
     "output_type": "execute_result"
    }
   ],
   "source": [
    "data = pd.read_csv('HR Analytics- Employee Promotion Data/train.csv', engine='c')\n",
    "data"
   ]
  },
  {
   "cell_type": "markdown",
   "id": "16d2ff97",
   "metadata": {},
   "source": [
    "#### More Information About Dataset"
   ]
  },
  {
   "cell_type": "code",
   "execution_count": 5,
   "id": "ab268f75",
   "metadata": {},
   "outputs": [
    {
     "name": "stdout",
     "output_type": "stream",
     "text": [
      "<class 'pandas.core.frame.DataFrame'>\n",
      "RangeIndex: 54808 entries, 0 to 54807\n",
      "Data columns (total 13 columns):\n",
      " #   Column                Non-Null Count  Dtype  \n",
      "---  ------                --------------  -----  \n",
      " 0   employee_id           54808 non-null  int64  \n",
      " 1   department            54808 non-null  object \n",
      " 2   region                54808 non-null  object \n",
      " 3   education             52399 non-null  object \n",
      " 4   gender                54808 non-null  object \n",
      " 5   recruitment_channel   54808 non-null  object \n",
      " 6   no_of_trainings       54808 non-null  int64  \n",
      " 7   age                   54808 non-null  int64  \n",
      " 8   previous_year_rating  50684 non-null  float64\n",
      " 9   length_of_service     54808 non-null  int64  \n",
      " 10  awards_won?           54808 non-null  int64  \n",
      " 11  avg_training_score    54808 non-null  int64  \n",
      " 12  is_promoted           54808 non-null  int64  \n",
      "dtypes: float64(1), int64(7), object(5)\n",
      "memory usage: 5.4+ MB\n"
     ]
    }
   ],
   "source": [
    "data.info()"
   ]
  },
  {
   "cell_type": "markdown",
   "id": "f0c72d05",
   "metadata": {},
   "source": [
    "#### Data Preprocessing"
   ]
  },
  {
   "cell_type": "code",
   "execution_count": 6,
   "id": "8fd71507",
   "metadata": {
    "scrolled": false
   },
   "outputs": [
    {
     "data": {
      "text/html": [
       "<div>\n",
       "<style scoped>\n",
       "    .dataframe tbody tr th:only-of-type {\n",
       "        vertical-align: middle;\n",
       "    }\n",
       "\n",
       "    .dataframe tbody tr th {\n",
       "        vertical-align: top;\n",
       "    }\n",
       "\n",
       "    .dataframe thead th {\n",
       "        text-align: right;\n",
       "    }\n",
       "</style>\n",
       "<table border=\"1\" class=\"dataframe\">\n",
       "  <thead>\n",
       "    <tr style=\"text-align: right;\">\n",
       "      <th></th>\n",
       "      <th>no_of_trainings</th>\n",
       "      <th>age</th>\n",
       "      <th>previous_year_rating</th>\n",
       "      <th>length_of_service</th>\n",
       "      <th>awards_won</th>\n",
       "      <th>avg_training_score</th>\n",
       "      <th>target</th>\n",
       "    </tr>\n",
       "  </thead>\n",
       "  <tbody>\n",
       "    <tr>\n",
       "      <th>count</th>\n",
       "      <td>48660.000000</td>\n",
       "      <td>48660.000000</td>\n",
       "      <td>48660.000000</td>\n",
       "      <td>48660.00000</td>\n",
       "      <td>48660.00000</td>\n",
       "      <td>48660.000000</td>\n",
       "      <td>48660.000000</td>\n",
       "    </tr>\n",
       "    <tr>\n",
       "      <th>mean</th>\n",
       "      <td>1.251993</td>\n",
       "      <td>35.589437</td>\n",
       "      <td>3.337526</td>\n",
       "      <td>6.31157</td>\n",
       "      <td>0.02314</td>\n",
       "      <td>63.603309</td>\n",
       "      <td>0.086971</td>\n",
       "    </tr>\n",
       "    <tr>\n",
       "      <th>std</th>\n",
       "      <td>0.604994</td>\n",
       "      <td>7.534571</td>\n",
       "      <td>1.257922</td>\n",
       "      <td>4.20476</td>\n",
       "      <td>0.15035</td>\n",
       "      <td>13.273502</td>\n",
       "      <td>0.281795</td>\n",
       "    </tr>\n",
       "    <tr>\n",
       "      <th>min</th>\n",
       "      <td>1.000000</td>\n",
       "      <td>20.000000</td>\n",
       "      <td>1.000000</td>\n",
       "      <td>1.00000</td>\n",
       "      <td>0.00000</td>\n",
       "      <td>39.000000</td>\n",
       "      <td>0.000000</td>\n",
       "    </tr>\n",
       "    <tr>\n",
       "      <th>25%</th>\n",
       "      <td>1.000000</td>\n",
       "      <td>30.000000</td>\n",
       "      <td>3.000000</td>\n",
       "      <td>3.00000</td>\n",
       "      <td>0.00000</td>\n",
       "      <td>51.000000</td>\n",
       "      <td>0.000000</td>\n",
       "    </tr>\n",
       "    <tr>\n",
       "      <th>50%</th>\n",
       "      <td>1.000000</td>\n",
       "      <td>34.000000</td>\n",
       "      <td>3.000000</td>\n",
       "      <td>5.00000</td>\n",
       "      <td>0.00000</td>\n",
       "      <td>60.000000</td>\n",
       "      <td>0.000000</td>\n",
       "    </tr>\n",
       "    <tr>\n",
       "      <th>75%</th>\n",
       "      <td>1.000000</td>\n",
       "      <td>39.000000</td>\n",
       "      <td>4.000000</td>\n",
       "      <td>8.00000</td>\n",
       "      <td>0.00000</td>\n",
       "      <td>76.000000</td>\n",
       "      <td>0.000000</td>\n",
       "    </tr>\n",
       "    <tr>\n",
       "      <th>max</th>\n",
       "      <td>10.000000</td>\n",
       "      <td>60.000000</td>\n",
       "      <td>5.000000</td>\n",
       "      <td>37.00000</td>\n",
       "      <td>1.00000</td>\n",
       "      <td>99.000000</td>\n",
       "      <td>1.000000</td>\n",
       "    </tr>\n",
       "  </tbody>\n",
       "</table>\n",
       "</div>"
      ],
      "text/plain": [
       "       no_of_trainings           age  previous_year_rating  length_of_service  \\\n",
       "count     48660.000000  48660.000000          48660.000000        48660.00000   \n",
       "mean          1.251993     35.589437              3.337526            6.31157   \n",
       "std           0.604994      7.534571              1.257922            4.20476   \n",
       "min           1.000000     20.000000              1.000000            1.00000   \n",
       "25%           1.000000     30.000000              3.000000            3.00000   \n",
       "50%           1.000000     34.000000              3.000000            5.00000   \n",
       "75%           1.000000     39.000000              4.000000            8.00000   \n",
       "max          10.000000     60.000000              5.000000           37.00000   \n",
       "\n",
       "        awards_won  avg_training_score        target  \n",
       "count  48660.00000        48660.000000  48660.000000  \n",
       "mean       0.02314           63.603309      0.086971  \n",
       "std        0.15035           13.273502      0.281795  \n",
       "min        0.00000           39.000000      0.000000  \n",
       "25%        0.00000           51.000000      0.000000  \n",
       "50%        0.00000           60.000000      0.000000  \n",
       "75%        0.00000           76.000000      0.000000  \n",
       "max        1.00000           99.000000      1.000000  "
      ]
     },
     "execution_count": 6,
     "metadata": {},
     "output_type": "execute_result"
    }
   ],
   "source": [
    "# Remove rows with missing values\n",
    "data = data.dropna()\n",
    "\n",
    "# Remove the employee_id feature\n",
    "data = data.drop(columns={'employee_id'})\n",
    "\n",
    "# Rename the 'is_promoted' feature to 'target' and removing the ? from 'awards won'\n",
    "data.rename(columns={'is_promoted' : 'target', 'awards_won?' : 'awards_won'}, inplace=True)\n",
    "\n",
    "data.describe()"
   ]
  },
  {
   "cell_type": "markdown",
   "id": "8a622f2e",
   "metadata": {},
   "source": [
    "#### Remove Outliers (Using IQR * 1.5 Rule)"
   ]
  },
  {
   "cell_type": "code",
   "execution_count": 7,
   "id": "8daeb5c4",
   "metadata": {},
   "outputs": [],
   "source": [
    "# Remove outliers using the 'IQR * 1.5' rule\n",
    "def remove_outliers(df, feature):\n",
    "    q1, q3 = np.percentile(df[feature], [25,75])\n",
    "    iqr = q3-q1\n",
    "    ul = q3 + (iqr * 1.5)\n",
    "    ll = q1 - (iqr * 1.5)\n",
    "    neo_data = df[(df[feature].values > ll) & (df[feature].values < ul)]\n",
    "    return neo_data\n",
    "\n",
    "data = remove_outliers(data, 'length_of_service')\n",
    "data = remove_outliers(data, 'age')"
   ]
  },
  {
   "cell_type": "markdown",
   "id": "06db798f",
   "metadata": {},
   "source": [
    "#### Unique Values in Each Feature"
   ]
  },
  {
   "cell_type": "code",
   "execution_count": 8,
   "id": "52067a32",
   "metadata": {},
   "outputs": [
    {
     "name": "stdout",
     "output_type": "stream",
     "text": [
      "department \t\t object \n",
      " ['Analytics', 'Finance', 'HR', 'Legal', 'Operations', 'Procurement', 'R&D', 'Sales & Marketing', 'Technology'] \n",
      "\n",
      "region \t\t object \n",
      " ['region_1', 'region_10', 'region_11', 'region_12', 'region_13', 'region_14', 'region_15', 'region_16', 'region_17', 'region_18', 'region_19', 'region_2', 'region_20', 'region_21', 'region_22', 'region_23', 'region_24', 'region_25', 'region_26', 'region_27', 'region_28', 'region_29', 'region_3', 'region_30', 'region_31', 'region_32', 'region_33', 'region_34', 'region_4', 'region_5', 'region_6', 'region_7', 'region_8', 'region_9'] \n",
      "\n",
      "education \t\t object \n",
      " [\"Bachelor's\", 'Below Secondary', \"Master's & above\"] \n",
      "\n",
      "gender \t\t object \n",
      " ['f', 'm'] \n",
      "\n",
      "recruitment_channel \t\t object \n",
      " ['other', 'referred', 'sourcing'] \n",
      "\n",
      "no_of_trainings \t\t int64 \n",
      " [1, 2, 3, 4, 5, 6, 7, 8, 9, 10] \n",
      "\n",
      "age \t\t int64 \n",
      " [20, 21, 22, 23, 24, 25, 26, 27, 28, 29, 30, 31, 32, 33, 34, 35, 36, 37, 38, 39, 40, 41, 42, 43, 44, 45, 46, 47, 48, 49] \n",
      "\n",
      "previous_year_rating \t\t float64 \n",
      " [1.0, 2.0, 3.0, 4.0, 5.0] \n",
      "\n",
      "length_of_service \t\t int64 \n",
      " [1, 2, 3, 4, 5, 6, 7, 8, 9, 10, 11, 12, 13, 14, 15] \n",
      "\n",
      "awards_won \t\t int64 \n",
      " [0, 1] \n",
      "\n",
      "avg_training_score \t\t int64 \n",
      " [39, 40, 41, 42, 43, 44, 45, 46, 47, 48, 49, 50, 51, 52, 53, 54, 55, 56, 57, 58, 59, 60, 61, 62, 63, 64, 65, 66, 67, 68, 69, 70, 71, 72, 73, 74, 75, 76, 77, 78, 79, 80, 81, 82, 83, 84, 85, 86, 87, 88, 89, 90, 91, 92, 93, 94, 95, 96, 97, 98, 99] \n",
      "\n",
      "target \t\t int64 \n",
      " [0, 1] \n",
      "\n"
     ]
    }
   ],
   "source": [
    "for col in data:\n",
    "    print(data[col].name, '\\t\\t', data[col].dtype, '\\n', sorted(data[col].unique()), '\\n')"
   ]
  },
  {
   "cell_type": "markdown",
   "id": "23226af0",
   "metadata": {},
   "source": [
    "#### Additional Information About Dataset After Edits"
   ]
  },
  {
   "cell_type": "code",
   "execution_count": 9,
   "id": "1d6a9bed",
   "metadata": {},
   "outputs": [
    {
     "name": "stdout",
     "output_type": "stream",
     "text": [
      "<class 'pandas.core.frame.DataFrame'>\n",
      "Int64Index: 44303 entries, 0 to 54807\n",
      "Data columns (total 12 columns):\n",
      " #   Column                Non-Null Count  Dtype  \n",
      "---  ------                --------------  -----  \n",
      " 0   department            44303 non-null  object \n",
      " 1   region                44303 non-null  object \n",
      " 2   education             44303 non-null  object \n",
      " 3   gender                44303 non-null  object \n",
      " 4   recruitment_channel   44303 non-null  object \n",
      " 5   no_of_trainings       44303 non-null  int64  \n",
      " 6   age                   44303 non-null  int64  \n",
      " 7   previous_year_rating  44303 non-null  float64\n",
      " 8   length_of_service     44303 non-null  int64  \n",
      " 9   awards_won            44303 non-null  int64  \n",
      " 10  avg_training_score    44303 non-null  int64  \n",
      " 11  target                44303 non-null  int64  \n",
      "dtypes: float64(1), int64(6), object(5)\n",
      "memory usage: 4.4+ MB\n"
     ]
    }
   ],
   "source": [
    "data.info()"
   ]
  },
  {
   "cell_type": "markdown",
   "id": "8b095030",
   "metadata": {},
   "source": [
    "#### Additional Information About Dataset After Edits"
   ]
  },
  {
   "cell_type": "code",
   "execution_count": 10,
   "id": "0b2b3c60",
   "metadata": {},
   "outputs": [
    {
     "data": {
      "text/html": [
       "<div>\n",
       "<style scoped>\n",
       "    .dataframe tbody tr th:only-of-type {\n",
       "        vertical-align: middle;\n",
       "    }\n",
       "\n",
       "    .dataframe tbody tr th {\n",
       "        vertical-align: top;\n",
       "    }\n",
       "\n",
       "    .dataframe thead th {\n",
       "        text-align: right;\n",
       "    }\n",
       "</style>\n",
       "<table border=\"1\" class=\"dataframe\">\n",
       "  <thead>\n",
       "    <tr style=\"text-align: right;\">\n",
       "      <th></th>\n",
       "      <th>no_of_trainings</th>\n",
       "      <th>age</th>\n",
       "      <th>previous_year_rating</th>\n",
       "      <th>length_of_service</th>\n",
       "      <th>awards_won</th>\n",
       "      <th>avg_training_score</th>\n",
       "      <th>target</th>\n",
       "    </tr>\n",
       "  </thead>\n",
       "  <tbody>\n",
       "    <tr>\n",
       "      <th>count</th>\n",
       "      <td>44303.000000</td>\n",
       "      <td>44303.000000</td>\n",
       "      <td>44303.000000</td>\n",
       "      <td>44303.000000</td>\n",
       "      <td>44303.000000</td>\n",
       "      <td>44303.000000</td>\n",
       "      <td>44303.000000</td>\n",
       "    </tr>\n",
       "    <tr>\n",
       "      <th>mean</th>\n",
       "      <td>1.260276</td>\n",
       "      <td>33.961018</td>\n",
       "      <td>3.339368</td>\n",
       "      <td>5.565560</td>\n",
       "      <td>0.023678</td>\n",
       "      <td>63.726317</td>\n",
       "      <td>0.088730</td>\n",
       "    </tr>\n",
       "    <tr>\n",
       "      <th>std</th>\n",
       "      <td>0.610277</td>\n",
       "      <td>5.542368</td>\n",
       "      <td>1.260114</td>\n",
       "      <td>2.964149</td>\n",
       "      <td>0.152045</td>\n",
       "      <td>13.361678</td>\n",
       "      <td>0.284357</td>\n",
       "    </tr>\n",
       "    <tr>\n",
       "      <th>min</th>\n",
       "      <td>1.000000</td>\n",
       "      <td>20.000000</td>\n",
       "      <td>1.000000</td>\n",
       "      <td>1.000000</td>\n",
       "      <td>0.000000</td>\n",
       "      <td>39.000000</td>\n",
       "      <td>0.000000</td>\n",
       "    </tr>\n",
       "    <tr>\n",
       "      <th>25%</th>\n",
       "      <td>1.000000</td>\n",
       "      <td>30.000000</td>\n",
       "      <td>3.000000</td>\n",
       "      <td>3.000000</td>\n",
       "      <td>0.000000</td>\n",
       "      <td>52.000000</td>\n",
       "      <td>0.000000</td>\n",
       "    </tr>\n",
       "    <tr>\n",
       "      <th>50%</th>\n",
       "      <td>1.000000</td>\n",
       "      <td>33.000000</td>\n",
       "      <td>3.000000</td>\n",
       "      <td>5.000000</td>\n",
       "      <td>0.000000</td>\n",
       "      <td>60.000000</td>\n",
       "      <td>0.000000</td>\n",
       "    </tr>\n",
       "    <tr>\n",
       "      <th>75%</th>\n",
       "      <td>1.000000</td>\n",
       "      <td>38.000000</td>\n",
       "      <td>4.000000</td>\n",
       "      <td>7.000000</td>\n",
       "      <td>0.000000</td>\n",
       "      <td>76.000000</td>\n",
       "      <td>0.000000</td>\n",
       "    </tr>\n",
       "    <tr>\n",
       "      <th>max</th>\n",
       "      <td>10.000000</td>\n",
       "      <td>49.000000</td>\n",
       "      <td>5.000000</td>\n",
       "      <td>15.000000</td>\n",
       "      <td>1.000000</td>\n",
       "      <td>99.000000</td>\n",
       "      <td>1.000000</td>\n",
       "    </tr>\n",
       "  </tbody>\n",
       "</table>\n",
       "</div>"
      ],
      "text/plain": [
       "       no_of_trainings           age  previous_year_rating  length_of_service  \\\n",
       "count     44303.000000  44303.000000          44303.000000       44303.000000   \n",
       "mean          1.260276     33.961018              3.339368           5.565560   \n",
       "std           0.610277      5.542368              1.260114           2.964149   \n",
       "min           1.000000     20.000000              1.000000           1.000000   \n",
       "25%           1.000000     30.000000              3.000000           3.000000   \n",
       "50%           1.000000     33.000000              3.000000           5.000000   \n",
       "75%           1.000000     38.000000              4.000000           7.000000   \n",
       "max          10.000000     49.000000              5.000000          15.000000   \n",
       "\n",
       "         awards_won  avg_training_score        target  \n",
       "count  44303.000000        44303.000000  44303.000000  \n",
       "mean       0.023678           63.726317      0.088730  \n",
       "std        0.152045           13.361678      0.284357  \n",
       "min        0.000000           39.000000      0.000000  \n",
       "25%        0.000000           52.000000      0.000000  \n",
       "50%        0.000000           60.000000      0.000000  \n",
       "75%        0.000000           76.000000      0.000000  \n",
       "max        1.000000           99.000000      1.000000  "
      ]
     },
     "execution_count": 10,
     "metadata": {},
     "output_type": "execute_result"
    }
   ],
   "source": [
    "data.describe()"
   ]
  },
  {
   "cell_type": "markdown",
   "id": "3feb591a",
   "metadata": {},
   "source": [
    "#### Convert Object Features to Numeric Values"
   ]
  },
  {
   "cell_type": "code",
   "execution_count": 11,
   "id": "06637c1c",
   "metadata": {},
   "outputs": [
    {
     "name": "stdout",
     "output_type": "stream",
     "text": [
      "<class 'pandas.core.frame.DataFrame'>\n",
      "RangeIndex: 44303 entries, 0 to 44302\n",
      "Data columns (total 57 columns):\n",
      " #   Column                Non-Null Count  Dtype  \n",
      "---  ------                --------------  -----  \n",
      " 0   is_male               44303 non-null  int64  \n",
      " 1   no_of_trainings       44303 non-null  int64  \n",
      " 2   age                   44303 non-null  int64  \n",
      " 3   previous_year_rating  44303 non-null  float64\n",
      " 4   length_of_service     44303 non-null  int64  \n",
      " 5   awards_won            44303 non-null  int64  \n",
      " 6   avg_training_score    44303 non-null  int64  \n",
      " 7   target                44303 non-null  int64  \n",
      " 8   Analytics             44303 non-null  uint8  \n",
      " 9   Finance               44303 non-null  uint8  \n",
      " 10  HR                    44303 non-null  uint8  \n",
      " 11  Legal                 44303 non-null  uint8  \n",
      " 12  Operations            44303 non-null  uint8  \n",
      " 13  Procurement           44303 non-null  uint8  \n",
      " 14  R&D                   44303 non-null  uint8  \n",
      " 15  Sales & Marketing     44303 non-null  uint8  \n",
      " 16  Technology            44303 non-null  uint8  \n",
      " 17  region_1              44303 non-null  uint8  \n",
      " 18  region_10             44303 non-null  uint8  \n",
      " 19  region_11             44303 non-null  uint8  \n",
      " 20  region_12             44303 non-null  uint8  \n",
      " 21  region_13             44303 non-null  uint8  \n",
      " 22  region_14             44303 non-null  uint8  \n",
      " 23  region_15             44303 non-null  uint8  \n",
      " 24  region_16             44303 non-null  uint8  \n",
      " 25  region_17             44303 non-null  uint8  \n",
      " 26  region_18             44303 non-null  uint8  \n",
      " 27  region_19             44303 non-null  uint8  \n",
      " 28  region_2              44303 non-null  uint8  \n",
      " 29  region_20             44303 non-null  uint8  \n",
      " 30  region_21             44303 non-null  uint8  \n",
      " 31  region_22             44303 non-null  uint8  \n",
      " 32  region_23             44303 non-null  uint8  \n",
      " 33  region_24             44303 non-null  uint8  \n",
      " 34  region_25             44303 non-null  uint8  \n",
      " 35  region_26             44303 non-null  uint8  \n",
      " 36  region_27             44303 non-null  uint8  \n",
      " 37  region_28             44303 non-null  uint8  \n",
      " 38  region_29             44303 non-null  uint8  \n",
      " 39  region_3              44303 non-null  uint8  \n",
      " 40  region_30             44303 non-null  uint8  \n",
      " 41  region_31             44303 non-null  uint8  \n",
      " 42  region_32             44303 non-null  uint8  \n",
      " 43  region_33             44303 non-null  uint8  \n",
      " 44  region_34             44303 non-null  uint8  \n",
      " 45  region_4              44303 non-null  uint8  \n",
      " 46  region_5              44303 non-null  uint8  \n",
      " 47  region_6              44303 non-null  uint8  \n",
      " 48  region_7              44303 non-null  uint8  \n",
      " 49  region_8              44303 non-null  uint8  \n",
      " 50  region_9              44303 non-null  uint8  \n",
      " 51  Bachelor's            44303 non-null  uint8  \n",
      " 52  Below Secondary       44303 non-null  uint8  \n",
      " 53  Master's & above      44303 non-null  uint8  \n",
      " 54  other                 44303 non-null  uint8  \n",
      " 55  referred              44303 non-null  uint8  \n",
      " 56  sourcing              44303 non-null  uint8  \n",
      "dtypes: float64(1), int64(7), uint8(49)\n",
      "memory usage: 4.8 MB\n"
     ]
    }
   ],
   "source": [
    "data.rename(columns={'gender' : 'is_male'}, inplace=True)\n",
    "\n",
    "data['is_male'].replace({'m' : 1, 'f': 0}, inplace=True)\n",
    "\n",
    "cat_features = ['department', 'region', \n",
    "               'education', 'recruitment_channel']\n",
    "\n",
    "# use panda's get_dummies and then merge them to the base table\n",
    "for x in cat_features:\n",
    "    sparse_data = pd.DataFrame(pd.get_dummies(data[x]))\n",
    "    data = data.join(sparse_data)\n",
    "\n",
    "# Remove the unnecessary features\n",
    "data.drop(columns=cat_features, inplace=True)\n",
    "\n",
    "data.reset_index(drop=True, inplace=True)\n",
    "data.info()"
   ]
  },
  {
   "cell_type": "markdown",
   "id": "6e205e40",
   "metadata": {},
   "source": [
    "Normally, I would inspect the dataset for duplicates and determine whether to remove duplicates or not, but this dataset does not look to have any. Next, I am checking to see if there is an imbalance in the target values. As you can see, there is (1 means the employee was promoted)!"
   ]
  },
  {
   "cell_type": "markdown",
   "id": "24080a60",
   "metadata": {},
   "source": [
    "#### Calculating Distribution of Imbalanced Data"
   ]
  },
  {
   "cell_type": "code",
   "execution_count": 12,
   "id": "5f30277c",
   "metadata": {},
   "outputs": [
    {
     "name": "stdout",
     "output_type": "stream",
     "text": [
      "Of the 44303 total samples, 3931 are positive, which accounts for 8.873% of the total dataset\n"
     ]
    }
   ],
   "source": [
    "neg, pos = np.bincount(data['target'])\n",
    "total = neg + pos\n",
    "\n",
    "print(\"Of the {} total samples, {} are positive, which accounts for {}% of the total dataset\".\n",
    "      format(total, pos, round(pos/total*100,3)))"
   ]
  },
  {
   "cell_type": "markdown",
   "id": "09d11ab5",
   "metadata": {},
   "source": [
    "#### Split Dataset into Train/Test/Validation Datasets"
   ]
  },
  {
   "cell_type": "code",
   "execution_count": 13,
   "id": "e3768f41",
   "metadata": {},
   "outputs": [],
   "source": [
    "#split and shuffle your dataset.\n",
    "train_data, test_val_data = train_test_split(data, test_size=0.40, shuffle=True, random_state=42)\n",
    "val_data, test_data = train_test_split(test_val_data, test_size=0.50, shuffle=True, random_state=42)\n",
    "\n",
    "# Form np arrays of labels and features.\n",
    "train_labels = np.array(train_data.pop('target'))\n",
    "\n",
    "train_features = np.array(train_data)\n",
    "\n",
    "smote = SMOTE(sampling_strategy='all', random_state=63)\n",
    "train_features, train_labels = smote.fit_resample(train_features, train_labels)\n",
    "\n",
    "bool_train_labels = train_labels != 0\n",
    "val_labels = np.array(val_data.pop('target'))\n",
    "test_labels = np.array(test_data.pop('target'))\n",
    "\n",
    "val_features = np.array(val_data)\n",
    "test_features = np.array(test_data)"
   ]
  },
  {
   "cell_type": "markdown",
   "id": "f2be8e8b",
   "metadata": {},
   "source": [
    "#### Apply Sklearn StandardScaler"
   ]
  },
  {
   "cell_type": "code",
   "execution_count": 14,
   "id": "cf7aaf60",
   "metadata": {},
   "outputs": [
    {
     "name": "stdout",
     "output_type": "stream",
     "text": [
      "Train labels shape: (48576,)\n",
      "Val labels shape: (8861,)\n",
      "Test labels shape: (8861,)\n",
      "Train features shape: (48576, 56)\n",
      "Val features shape: (8861, 56)\n",
      "Test features shape: (8861, 56)\n"
     ]
    }
   ],
   "source": [
    "scaler = StandardScaler()\n",
    "\n",
    "train_features = scaler.fit_transform(train_features)\n",
    "\n",
    "val_features = scaler.transform(val_features)\n",
    "test_features = scaler.transform(test_features)\n",
    "\n",
    "# Use np.clip afterwards\n",
    "train_features = np.clip(train_features, -4, 4)\n",
    "val_features = np.clip(val_features, -4, 4)\n",
    "test_features = np.clip(test_features, -4, 4)\n",
    "\n",
    "print('Train labels shape:', train_labels.shape)\n",
    "print('Val labels shape:', val_labels.shape)\n",
    "print('Test labels shape:', test_labels.shape)\n",
    "\n",
    "print('Train features shape:', train_features.shape)\n",
    "print('Val features shape:', val_features.shape)\n",
    "print('Test features shape:', test_features.shape)"
   ]
  },
  {
   "cell_type": "markdown",
   "id": "3a1d7992",
   "metadata": {},
   "source": [
    "#### Visualize Data So Far"
   ]
  },
  {
   "cell_type": "code",
   "execution_count": 15,
   "id": "47d0f71b",
   "metadata": {},
   "outputs": [
    {
     "data": {
      "image/png": "[encoded data removed]",
      "text/plain": [
       "<Figure size 432x432 with 3 Axes>"
      ]
     },
     "metadata": {
      "needs_background": "light"
     },
     "output_type": "display_data"
    },
    {
     "data": {
      "image/png": "[encoded data removed]",
      "text/plain": [
       "<Figure size 432x432 with 3 Axes>"
      ]
     },
     "metadata": {
      "needs_background": "light"
     },
     "output_type": "display_data"
    }
   ],
   "source": [
    "pos_data = pd.DataFrame(train_features[bool_train_labels], \n",
    "                        columns=train_data.columns)\n",
    "neg_data = pd.DataFrame(train_features[~bool_train_labels], \n",
    "                        columns=train_data.columns)\n",
    "\n",
    "sns.jointplot(x=pos_data['no_of_trainings'], \n",
    "              y=pos_data['length_of_service'], \n",
    "              kind='hex', xlim=(-5,5), ylim=(-5,5))\n",
    "\n",
    "plt.suptitle(\"Positive Distribution\")\n",
    "\n",
    "sns.jointplot(x=neg_data['no_of_trainings'], \n",
    "              y=neg_data['length_of_service'],\n",
    "             kind='hex', xlim=(-5,5), ylim=(-5, 5))\n",
    "\n",
    "_ = plt.suptitle('Negative Distribution')"
   ]
  },
  {
   "cell_type": "markdown",
   "id": "d336a0a0",
   "metadata": {},
   "source": [
    "#### Define Metrics for Model"
   ]
  },
  {
   "cell_type": "code",
   "execution_count": 16,
   "id": "d352da59",
   "metadata": {},
   "outputs": [
    {
     "name": "stderr",
     "output_type": "stream",
     "text": [
      "2022-09-27 21:26:19.718118: I tensorflow/core/platform/cpu_feature_guard.cc:193] This TensorFlow binary is optimized with oneAPI Deep Neural Network Library (oneDNN) to use the following CPU instructions in performance-critical operations:  AVX2 FMA\n",
      "To enable them in other operations, rebuild TensorFlow with the appropriate compiler flags.\n"
     ]
    }
   ],
   "source": [
    "METRICS = [\n",
    "    keras.metrics.TruePositives(name='tp'),\n",
    "    keras.metrics.FalsePositives(name='fp'),\n",
    "    keras.metrics.TrueNegatives(name='tn'),\n",
    "    keras.metrics.FalseNegatives(name='fn'),\n",
    "    keras.metrics.BinaryAccuracy(name='accuracy'),\n",
    "    keras.metrics.Precision(name='precision'),\n",
    "    keras.metrics.Recall(name='recall'),\n",
    "    keras.metrics.AUC(name='auc'),\n",
    "]"
   ]
  },
  {
   "cell_type": "markdown",
   "id": "6e5bf96a",
   "metadata": {},
   "source": [
    "#### Build & Compile Model"
   ]
  },
  {
   "cell_type": "code",
   "execution_count": 17,
   "id": "e889d166",
   "metadata": {},
   "outputs": [],
   "source": [
    "def make_model(metrics=METRICS):\n",
    "    l1_val = 0.003\n",
    "    l2_val = 0.08\n",
    "    model = keras.Sequential([\n",
    "        keras.layers.Dense(12, \n",
    "                           activation='relu', \n",
    "                           kernel_regularizer=regularizers.L1L2(l1=l1_val, l2=l2_val),\n",
    "                           bias_regularizer=regularizers.L1(l1_val), \n",
    "                           activity_regularizer=regularizers.L1(l1_val), \n",
    "                           input_shape=(train_features.shape[-1],)),\n",
    "        keras.layers.Dropout(0.20),\n",
    "        keras.layers.Dense(12, \n",
    "                           activation='relu', \n",
    "                           kernel_regularizer=regularizers.L1L2(l1=l1_val, l2=l2_val),\n",
    "                           bias_regularizer=regularizers.L1(l1_val), \n",
    "                           activity_regularizer=regularizers.L1(l1_val)),\n",
    "        keras.layers.Dense(1, activation='sigmoid'),\n",
    "    ])\n",
    "    \n",
    "    model.compile(\n",
    "    optimizer=keras.optimizers.Adam(learning_rate=.001),\n",
    "    loss=keras.losses.BinaryCrossentropy(),\n",
    "    metrics=METRICS)\n",
    "    \n",
    "    return model"
   ]
  },
  {
   "cell_type": "markdown",
   "id": "b24a8040",
   "metadata": {},
   "source": [
    "#### Early Stopping Callback for Baseline Model"
   ]
  },
  {
   "cell_type": "code",
   "execution_count": 18,
   "id": "74c31ec3",
   "metadata": {},
   "outputs": [],
   "source": [
    "EPOCHS = 250\n",
    "BATCH_SIZE = 2048\n",
    "\n",
    "early_stopping = tf.keras.callbacks.EarlyStopping(verbose=1, \n",
    "                                                  patience=8,\n",
    "                                                  monitor='val_auc', \n",
    "                                                  mode='max') "
   ]
  },
  {
   "cell_type": "markdown",
   "id": "8b2c1bbe",
   "metadata": {},
   "source": [
    "#### Summary of Inputs"
   ]
  },
  {
   "cell_type": "code",
   "execution_count": 19,
   "id": "762b0191",
   "metadata": {
    "scrolled": false
   },
   "outputs": [
    {
     "name": "stdout",
     "output_type": "stream",
     "text": [
      "Model: \"sequential\"\n",
      "_________________________________________________________________\n",
      " Layer (type)                Output Shape              Param #   \n",
      "=================================================================\n",
      " dense (Dense)               (None, 12)                684       \n",
      "                                                                 \n",
      " dropout (Dropout)           (None, 12)                0         \n",
      "                                                                 \n",
      " dense_1 (Dense)             (None, 12)                156       \n",
      "                                                                 \n",
      " dense_2 (Dense)             (None, 1)                 13        \n",
      "                                                                 \n",
      "=================================================================\n",
      "Total params: 853\n",
      "Trainable params: 853\n",
      "Non-trainable params: 0\n",
      "_________________________________________________________________\n"
     ]
    }
   ],
   "source": [
    "model = make_model()\n",
    "\n",
    "model.summary()"
   ]
  },
  {
   "cell_type": "markdown",
   "id": "b5d355f0",
   "metadata": {},
   "source": [
    "#### Train Baseline Model"
   ]
  },
  {
   "cell_type": "code",
   "execution_count": 20,
   "id": "f6d97970",
   "metadata": {
    "scrolled": true
   },
   "outputs": [
    {
     "name": "stdout",
     "output_type": "stream",
     "text": [
      "Epoch 1/250\n",
      "24/24 [==============================] - 3s 46ms/step - loss: 3.3291 - tp: 15741.0000 - fp: 16167.0000 - tn: 8121.0000 - fn: 8547.0000 - accuracy: 0.4912 - precision: 0.4933 - recall: 0.6481 - auc: 0.4814 - val_loss: 3.0567 - val_tp: 461.0000 - val_fp: 4637.0000 - val_tn: 3406.0000 - val_fn: 357.0000 - val_accuracy: 0.4364 - val_precision: 0.0904 - val_recall: 0.5636 - val_auc: 0.4970\n",
      "Epoch 2/250\n",
      "24/24 [==============================] - 0s 7ms/step - loss: 2.8280 - tp: 12145.0000 - fp: 12262.0000 - tn: 12026.0000 - fn: 12143.0000 - accuracy: 0.4976 - precision: 0.4976 - recall: 0.5000 - auc: 0.5011 - val_loss: 2.5858 - val_tp: 367.0000 - val_fp: 3576.0000 - val_tn: 4467.0000 - val_fn: 451.0000 - val_accuracy: 0.5455 - val_precision: 0.0931 - val_recall: 0.4487 - val_auc: 0.5150\n",
      "Epoch 3/250\n",
      "24/24 [==============================] - 0s 7ms/step - loss: 2.4175 - tp: 10611.0000 - fp: 10334.0000 - tn: 13954.0000 - fn: 13677.0000 - accuracy: 0.5057 - precision: 0.5066 - recall: 0.4369 - auc: 0.5152 - val_loss: 2.2167 - val_tp: 368.0000 - val_fp: 3294.0000 - val_tn: 4749.0000 - val_fn: 450.0000 - val_accuracy: 0.5775 - val_precision: 0.1005 - val_recall: 0.4499 - val_auc: 0.5313\n",
      "Epoch 4/250\n",
      "24/24 [==============================] - 0s 7ms/step - loss: 2.0828 - tp: 11256.0000 - fp: 10578.0000 - tn: 13710.0000 - fn: 13032.0000 - accuracy: 0.5140 - precision: 0.5155 - recall: 0.4634 - auc: 0.5281 - val_loss: 1.9208 - val_tp: 386.0000 - val_fp: 3354.0000 - val_tn: 4689.0000 - val_fn: 432.0000 - val_accuracy: 0.5727 - val_precision: 0.1032 - val_recall: 0.4719 - val_auc: 0.5479\n",
      "Epoch 5/250\n",
      "24/24 [==============================] - 0s 5ms/step - loss: 1.8108 - tp: 12011.0000 - fp: 10763.0000 - tn: 13525.0000 - fn: 12277.0000 - accuracy: 0.5257 - precision: 0.5274 - recall: 0.4945 - auc: 0.5444 - val_loss: 1.6807 - val_tp: 421.0000 - val_fp: 3436.0000 - val_tn: 4607.0000 - val_fn: 397.0000 - val_accuracy: 0.5674 - val_precision: 0.1092 - val_recall: 0.5147 - val_auc: 0.5680\n",
      "Epoch 6/250\n",
      "24/24 [==============================] - 0s 5ms/step - loss: 1.5900 - tp: 13574.0000 - fp: 11482.0000 - tn: 12806.0000 - fn: 10714.0000 - accuracy: 0.5431 - precision: 0.5417 - recall: 0.5589 - auc: 0.5665 - val_loss: 1.4888 - val_tp: 469.0000 - val_fp: 3694.0000 - val_tn: 4349.0000 - val_fn: 349.0000 - val_accuracy: 0.5437 - val_precision: 0.1127 - val_recall: 0.5733 - val_auc: 0.5891\n",
      "Epoch 7/250\n",
      "24/24 [==============================] - 0s 5ms/step - loss: 1.4112 - tp: 14477.0000 - fp: 11495.0000 - tn: 12793.0000 - fn: 9811.0000 - accuracy: 0.5614 - precision: 0.5574 - recall: 0.5961 - auc: 0.5929 - val_loss: 1.3306 - val_tp: 503.0000 - val_fp: 3618.0000 - val_tn: 4425.0000 - val_fn: 315.0000 - val_accuracy: 0.5561 - val_precision: 0.1221 - val_recall: 0.6149 - val_auc: 0.6214\n",
      "Epoch 8/250\n",
      "24/24 [==============================] - 0s 5ms/step - loss: 1.2658 - tp: 15358.0000 - fp: 11199.0000 - tn: 13089.0000 - fn: 8930.0000 - accuracy: 0.5856 - precision: 0.5783 - recall: 0.6323 - auc: 0.6293 - val_loss: 1.2040 - val_tp: 543.0000 - val_fp: 3588.0000 - val_tn: 4455.0000 - val_fn: 275.0000 - val_accuracy: 0.5640 - val_precision: 0.1314 - val_recall: 0.6638 - val_auc: 0.6564\n",
      "Epoch 9/250\n",
      "24/24 [==============================] - 0s 7ms/step - loss: 1.1490 - tp: 16008.0000 - fp: 10903.0000 - tn: 13385.0000 - fn: 8280.0000 - accuracy: 0.6051 - precision: 0.5948 - recall: 0.6591 - auc: 0.6582 - val_loss: 1.1009 - val_tp: 551.0000 - val_fp: 3354.0000 - val_tn: 4689.0000 - val_fn: 267.0000 - val_accuracy: 0.5914 - val_precision: 0.1411 - val_recall: 0.6736 - val_auc: 0.6891\n",
      "Epoch 10/250\n",
      "24/24 [==============================] - 0s 7ms/step - loss: 1.0547 - tp: 16040.0000 - fp: 10051.0000 - tn: 14237.0000 - fn: 8248.0000 - accuracy: 0.6233 - precision: 0.6148 - recall: 0.6604 - auc: 0.6828 - val_loss: 1.0152 - val_tp: 530.0000 - val_fp: 2876.0000 - val_tn: 5167.0000 - val_fn: 288.0000 - val_accuracy: 0.6429 - val_precision: 0.1556 - val_recall: 0.6479 - val_auc: 0.7091\n",
      "Epoch 11/250\n",
      "24/24 [==============================] - 0s 6ms/step - loss: 0.9795 - tp: 14543.0000 - fp: 7972.0000 - tn: 16316.0000 - fn: 9745.0000 - accuracy: 0.6353 - precision: 0.6459 - recall: 0.5988 - auc: 0.6998 - val_loss: 0.9468 - val_tp: 523.0000 - val_fp: 2660.0000 - val_tn: 5383.0000 - val_fn: 295.0000 - val_accuracy: 0.6665 - val_precision: 0.1643 - val_recall: 0.6394 - val_auc: 0.7228\n",
      "Epoch 12/250\n",
      "24/24 [==============================] - 0s 7ms/step - loss: 0.9192 - tp: 14532.0000 - fp: 7955.0000 - tn: 16333.0000 - fn: 9756.0000 - accuracy: 0.6354 - precision: 0.6462 - recall: 0.5983 - auc: 0.7087 - val_loss: 0.8937 - val_tp: 544.0000 - val_fp: 2688.0000 - val_tn: 5355.0000 - val_fn: 274.0000 - val_accuracy: 0.6657 - val_precision: 0.1683 - val_recall: 0.6650 - val_auc: 0.7345\n",
      "Epoch 13/250\n",
      "24/24 [==============================] - 0s 6ms/step - loss: 0.8709 - tp: 14399.0000 - fp: 7659.0000 - tn: 16629.0000 - fn: 9889.0000 - accuracy: 0.6388 - precision: 0.6528 - recall: 0.5928 - auc: 0.7168 - val_loss: 0.8496 - val_tp: 544.0000 - val_fp: 2592.0000 - val_tn: 5451.0000 - val_fn: 274.0000 - val_accuracy: 0.6766 - val_precision: 0.1735 - val_recall: 0.6650 - val_auc: 0.7422\n",
      "Epoch 14/250\n",
      "24/24 [==============================] - 0s 5ms/step - loss: 0.8324 - tp: 14523.0000 - fp: 7575.0000 - tn: 16713.0000 - fn: 9765.0000 - accuracy: 0.6430 - precision: 0.6572 - recall: 0.5979 - auc: 0.7209 - val_loss: 0.8151 - val_tp: 547.0000 - val_fp: 2536.0000 - val_tn: 5507.0000 - val_fn: 271.0000 - val_accuracy: 0.6832 - val_precision: 0.1774 - val_recall: 0.6687 - val_auc: 0.7480\n",
      "Epoch 15/250\n",
      "24/24 [==============================] - 0s 5ms/step - loss: 0.8020 - tp: 14694.0000 - fp: 7818.0000 - tn: 16470.0000 - fn: 9594.0000 - accuracy: 0.6416 - precision: 0.6527 - recall: 0.6050 - auc: 0.7204 - val_loss: 0.7871 - val_tp: 553.0000 - val_fp: 2483.0000 - val_tn: 5560.0000 - val_fn: 265.0000 - val_accuracy: 0.6899 - val_precision: 0.1821 - val_recall: 0.6760 - val_auc: 0.7510\n",
      "Epoch 16/250\n",
      "24/24 [==============================] - 0s 5ms/step - loss: 0.7772 - tp: 14628.0000 - fp: 7511.0000 - tn: 16777.0000 - fn: 9660.0000 - accuracy: 0.6465 - precision: 0.6607 - recall: 0.6023 - auc: 0.7243 - val_loss: 0.7644 - val_tp: 546.0000 - val_fp: 2418.0000 - val_tn: 5625.0000 - val_fn: 272.0000 - val_accuracy: 0.6964 - val_precision: 0.1842 - val_recall: 0.6675 - val_auc: 0.7533\n",
      "Epoch 17/250\n",
      "24/24 [==============================] - 0s 5ms/step - loss: 0.7572 - tp: 14500.0000 - fp: 7322.0000 - tn: 16966.0000 - fn: 9788.0000 - accuracy: 0.6478 - precision: 0.6645 - recall: 0.5970 - auc: 0.7265 - val_loss: 0.7460 - val_tp: 542.0000 - val_fp: 2376.0000 - val_tn: 5667.0000 - val_fn: 276.0000 - val_accuracy: 0.7007 - val_precision: 0.1857 - val_recall: 0.6626 - val_auc: 0.7548\n",
      "Epoch 18/250\n",
      "24/24 [==============================] - 0s 5ms/step - loss: 0.7415 - tp: 14594.0000 - fp: 7494.0000 - tn: 16794.0000 - fn: 9694.0000 - accuracy: 0.6462 - precision: 0.6607 - recall: 0.6009 - auc: 0.7262 - val_loss: 0.7326 - val_tp: 551.0000 - val_fp: 2423.0000 - val_tn: 5620.0000 - val_fn: 267.0000 - val_accuracy: 0.6964 - val_precision: 0.1853 - val_recall: 0.6736 - val_auc: 0.7554\n",
      "Epoch 19/250\n",
      "24/24 [==============================] - 0s 6ms/step - loss: 0.7288 - tp: 14668.0000 - fp: 7402.0000 - tn: 16886.0000 - fn: 9620.0000 - accuracy: 0.6496 - precision: 0.6646 - recall: 0.6039 - auc: 0.7287 - val_loss: 0.7222 - val_tp: 551.0000 - val_fp: 2442.0000 - val_tn: 5601.0000 - val_fn: 267.0000 - val_accuracy: 0.6943 - val_precision: 0.1841 - val_recall: 0.6736 - val_auc: 0.7557\n",
      "Epoch 20/250\n",
      "24/24 [==============================] - 0s 5ms/step - loss: 0.7193 - tp: 14597.0000 - fp: 7498.0000 - tn: 16790.0000 - fn: 9691.0000 - accuracy: 0.6461 - precision: 0.6606 - recall: 0.6010 - auc: 0.7253 - val_loss: 0.7121 - val_tp: 545.0000 - val_fp: 2387.0000 - val_tn: 5656.0000 - val_fn: 273.0000 - val_accuracy: 0.6998 - val_precision: 0.1859 - val_recall: 0.6663 - val_auc: 0.7565\n",
      "Epoch 21/250\n"
     ]
    },
    {
     "name": "stdout",
     "output_type": "stream",
     "text": [
      "24/24 [==============================] - 0s 5ms/step - loss: 0.7111 - tp: 14651.0000 - fp: 7478.0000 - tn: 16810.0000 - fn: 9637.0000 - accuracy: 0.6477 - precision: 0.6621 - recall: 0.6032 - auc: 0.7284 - val_loss: 0.7068 - val_tp: 554.0000 - val_fp: 2472.0000 - val_tn: 5571.0000 - val_fn: 264.0000 - val_accuracy: 0.6912 - val_precision: 0.1831 - val_recall: 0.6773 - val_auc: 0.7575\n",
      "Epoch 22/250\n",
      "24/24 [==============================] - 0s 5ms/step - loss: 0.7041 - tp: 14811.0000 - fp: 7455.0000 - tn: 16833.0000 - fn: 9477.0000 - accuracy: 0.6514 - precision: 0.6652 - recall: 0.6098 - auc: 0.7317 - val_loss: 0.6963 - val_tp: 540.0000 - val_fp: 2285.0000 - val_tn: 5758.0000 - val_fn: 278.0000 - val_accuracy: 0.7108 - val_precision: 0.1912 - val_recall: 0.6601 - val_auc: 0.7592\n",
      "Epoch 23/250\n",
      "24/24 [==============================] - 0s 5ms/step - loss: 0.6994 - tp: 14547.0000 - fp: 7158.0000 - tn: 17130.0000 - fn: 9741.0000 - accuracy: 0.6521 - precision: 0.6702 - recall: 0.5989 - auc: 0.7313 - val_loss: 0.6930 - val_tp: 545.0000 - val_fp: 2334.0000 - val_tn: 5709.0000 - val_fn: 273.0000 - val_accuracy: 0.7058 - val_precision: 0.1893 - val_recall: 0.6663 - val_auc: 0.7594\n",
      "Epoch 24/250\n",
      "24/24 [==============================] - 0s 4ms/step - loss: 0.6950 - tp: 14700.0000 - fp: 7309.0000 - tn: 16979.0000 - fn: 9588.0000 - accuracy: 0.6522 - precision: 0.6679 - recall: 0.6052 - auc: 0.7317 - val_loss: 0.6866 - val_tp: 545.0000 - val_fp: 2275.0000 - val_tn: 5768.0000 - val_fn: 273.0000 - val_accuracy: 0.7124 - val_precision: 0.1933 - val_recall: 0.6663 - val_auc: 0.7612\n",
      "Epoch 25/250\n",
      "24/24 [==============================] - 0s 5ms/step - loss: 0.6906 - tp: 14698.0000 - fp: 7220.0000 - tn: 17068.0000 - fn: 9590.0000 - accuracy: 0.6539 - precision: 0.6706 - recall: 0.6052 - auc: 0.7344 - val_loss: 0.6850 - val_tp: 555.0000 - val_fp: 2350.0000 - val_tn: 5693.0000 - val_fn: 263.0000 - val_accuracy: 0.7051 - val_precision: 0.1910 - val_recall: 0.6785 - val_auc: 0.7616\n",
      "Epoch 26/250\n",
      "24/24 [==============================] - 0s 5ms/step - loss: 0.6870 - tp: 14815.0000 - fp: 7257.0000 - tn: 17031.0000 - fn: 9473.0000 - accuracy: 0.6556 - precision: 0.6712 - recall: 0.6100 - auc: 0.7369 - val_loss: 0.6779 - val_tp: 543.0000 - val_fp: 2226.0000 - val_tn: 5817.0000 - val_fn: 275.0000 - val_accuracy: 0.7178 - val_precision: 0.1961 - val_recall: 0.6638 - val_auc: 0.7625\n",
      "Epoch 27/250\n",
      "24/24 [==============================] - 0s 5ms/step - loss: 0.6838 - tp: 14834.0000 - fp: 7146.0000 - tn: 17142.0000 - fn: 9454.0000 - accuracy: 0.6583 - precision: 0.6749 - recall: 0.6108 - auc: 0.7393 - val_loss: 0.6778 - val_tp: 557.0000 - val_fp: 2306.0000 - val_tn: 5737.0000 - val_fn: 261.0000 - val_accuracy: 0.7103 - val_precision: 0.1946 - val_recall: 0.6809 - val_auc: 0.7640\n",
      "Epoch 28/250\n",
      "24/24 [==============================] - 0s 5ms/step - loss: 0.6812 - tp: 14763.0000 - fp: 7061.0000 - tn: 17227.0000 - fn: 9525.0000 - accuracy: 0.6586 - precision: 0.6765 - recall: 0.6078 - auc: 0.7408 - val_loss: 0.6733 - val_tp: 553.0000 - val_fp: 2257.0000 - val_tn: 5786.0000 - val_fn: 265.0000 - val_accuracy: 0.7154 - val_precision: 0.1968 - val_recall: 0.6760 - val_auc: 0.7650\n",
      "Epoch 29/250\n",
      "24/24 [==============================] - 0s 5ms/step - loss: 0.6794 - tp: 14820.0000 - fp: 7185.0000 - tn: 17103.0000 - fn: 9468.0000 - accuracy: 0.6572 - precision: 0.6735 - recall: 0.6102 - auc: 0.7407 - val_loss: 0.6721 - val_tp: 549.0000 - val_fp: 2294.0000 - val_tn: 5749.0000 - val_fn: 269.0000 - val_accuracy: 0.7108 - val_precision: 0.1931 - val_recall: 0.6711 - val_auc: 0.7663\n",
      "Epoch 30/250\n",
      "24/24 [==============================] - 0s 5ms/step - loss: 0.6769 - tp: 14876.0000 - fp: 7124.0000 - tn: 17164.0000 - fn: 9412.0000 - accuracy: 0.6596 - precision: 0.6762 - recall: 0.6125 - auc: 0.7440 - val_loss: 0.6638 - val_tp: 541.0000 - val_fp: 2148.0000 - val_tn: 5895.0000 - val_fn: 277.0000 - val_accuracy: 0.7263 - val_precision: 0.2012 - val_recall: 0.6614 - val_auc: 0.7662\n",
      "Epoch 31/250\n",
      "24/24 [==============================] - 0s 4ms/step - loss: 0.6734 - tp: 14841.0000 - fp: 6906.0000 - tn: 17382.0000 - fn: 9447.0000 - accuracy: 0.6634 - precision: 0.6824 - recall: 0.6110 - auc: 0.7482 - val_loss: 0.6623 - val_tp: 544.0000 - val_fp: 2185.0000 - val_tn: 5858.0000 - val_fn: 274.0000 - val_accuracy: 0.7225 - val_precision: 0.1993 - val_recall: 0.6650 - val_auc: 0.7676\n",
      "Epoch 32/250\n",
      "24/24 [==============================] - 0s 5ms/step - loss: 0.6720 - tp: 14842.0000 - fp: 6930.0000 - tn: 17358.0000 - fn: 9446.0000 - accuracy: 0.6629 - precision: 0.6817 - recall: 0.6111 - auc: 0.7488 - val_loss: 0.6597 - val_tp: 541.0000 - val_fp: 2176.0000 - val_tn: 5867.0000 - val_fn: 277.0000 - val_accuracy: 0.7232 - val_precision: 0.1991 - val_recall: 0.6614 - val_auc: 0.7688\n",
      "Epoch 33/250\n",
      "24/24 [==============================] - 0s 5ms/step - loss: 0.6696 - tp: 14845.0000 - fp: 6798.0000 - tn: 17490.0000 - fn: 9443.0000 - accuracy: 0.6657 - precision: 0.6859 - recall: 0.6112 - auc: 0.7514 - val_loss: 0.6592 - val_tp: 548.0000 - val_fp: 2181.0000 - val_tn: 5862.0000 - val_fn: 270.0000 - val_accuracy: 0.7234 - val_precision: 0.2008 - val_recall: 0.6699 - val_auc: 0.7706\n",
      "Epoch 34/250\n",
      "24/24 [==============================] - 0s 4ms/step - loss: 0.6678 - tp: 14964.0000 - fp: 7000.0000 - tn: 17288.0000 - fn: 9324.0000 - accuracy: 0.6639 - precision: 0.6813 - recall: 0.6161 - auc: 0.7527 - val_loss: 0.6521 - val_tp: 533.0000 - val_fp: 2122.0000 - val_tn: 5921.0000 - val_fn: 285.0000 - val_accuracy: 0.7284 - val_precision: 0.2008 - val_recall: 0.6516 - val_auc: 0.7711\n",
      "Epoch 35/250\n",
      "24/24 [==============================] - 0s 5ms/step - loss: 0.6663 - tp: 14817.0000 - fp: 6678.0000 - tn: 17610.0000 - fn: 9471.0000 - accuracy: 0.6676 - precision: 0.6893 - recall: 0.6101 - auc: 0.7550 - val_loss: 0.6586 - val_tp: 556.0000 - val_fp: 2274.0000 - val_tn: 5769.0000 - val_fn: 262.0000 - val_accuracy: 0.7138 - val_precision: 0.1965 - val_recall: 0.6797 - val_auc: 0.7714\n",
      "Epoch 36/250\n",
      "24/24 [==============================] - 0s 5ms/step - loss: 0.6648 - tp: 14802.0000 - fp: 6815.0000 - tn: 17473.0000 - fn: 9486.0000 - accuracy: 0.6644 - precision: 0.6847 - recall: 0.6094 - auc: 0.7565 - val_loss: 0.6511 - val_tp: 546.0000 - val_fp: 2159.0000 - val_tn: 5884.0000 - val_fn: 272.0000 - val_accuracy: 0.7257 - val_precision: 0.2018 - val_recall: 0.6675 - val_auc: 0.7718\n",
      "Epoch 37/250\n",
      "24/24 [==============================] - 0s 5ms/step - loss: 0.6636 - tp: 14783.0000 - fp: 6760.0000 - tn: 17528.0000 - fn: 9505.0000 - accuracy: 0.6652 - precision: 0.6862 - recall: 0.6087 - auc: 0.7578 - val_loss: 0.6417 - val_tp: 531.0000 - val_fp: 2003.0000 - val_tn: 6040.0000 - val_fn: 287.0000 - val_accuracy: 0.7416 - val_precision: 0.2096 - val_recall: 0.6491 - val_auc: 0.7732\n",
      "Epoch 38/250\n",
      "24/24 [==============================] - 0s 4ms/step - loss: 0.6619 - tp: 15051.0000 - fp: 6763.0000 - tn: 17525.0000 - fn: 9237.0000 - accuracy: 0.6706 - precision: 0.6900 - recall: 0.6197 - auc: 0.7602 - val_loss: 0.6590 - val_tp: 564.0000 - val_fp: 2365.0000 - val_tn: 5678.0000 - val_fn: 254.0000 - val_accuracy: 0.7044 - val_precision: 0.1926 - val_recall: 0.6895 - val_auc: 0.7735\n",
      "Epoch 39/250\n",
      "24/24 [==============================] - 0s 5ms/step - loss: 0.6597 - tp: 15932.0000 - fp: 7147.0000 - tn: 17141.0000 - fn: 8356.0000 - accuracy: 0.6809 - precision: 0.6903 - recall: 0.6560 - auc: 0.7639 - val_loss: 0.6415 - val_tp: 536.0000 - val_fp: 2068.0000 - val_tn: 5975.0000 - val_fn: 282.0000 - val_accuracy: 0.7348 - val_precision: 0.2058 - val_recall: 0.6553 - val_auc: 0.7740\n",
      "Epoch 40/250\n",
      "24/24 [==============================] - 0s 4ms/step - loss: 0.6589 - tp: 15884.0000 - fp: 6955.0000 - tn: 17333.0000 - fn: 8404.0000 - accuracy: 0.6838 - precision: 0.6955 - recall: 0.6540 - auc: 0.7643 - val_loss: 0.6492 - val_tp: 556.0000 - val_fp: 2217.0000 - val_tn: 5826.0000 - val_fn: 262.0000 - val_accuracy: 0.7202 - val_precision: 0.2005 - val_recall: 0.6797 - val_auc: 0.7742\n",
      "Epoch 41/250\n"
     ]
    },
    {
     "name": "stdout",
     "output_type": "stream",
     "text": [
      "24/24 [==============================] - 0s 5ms/step - loss: 0.6573 - tp: 16529.0000 - fp: 7311.0000 - tn: 16977.0000 - fn: 7759.0000 - accuracy: 0.6898 - precision: 0.6933 - recall: 0.6805 - auc: 0.7665 - val_loss: 0.6375 - val_tp: 534.0000 - val_fp: 2023.0000 - val_tn: 6020.0000 - val_fn: 284.0000 - val_accuracy: 0.7396 - val_precision: 0.2088 - val_recall: 0.6528 - val_auc: 0.7757\n",
      "Epoch 42/250\n",
      "24/24 [==============================] - 0s 4ms/step - loss: 0.6552 - tp: 16515.0000 - fp: 7163.0000 - tn: 17125.0000 - fn: 7773.0000 - accuracy: 0.6925 - precision: 0.6975 - recall: 0.6800 - auc: 0.7703 - val_loss: 0.6342 - val_tp: 536.0000 - val_fp: 1997.0000 - val_tn: 6046.0000 - val_fn: 282.0000 - val_accuracy: 0.7428 - val_precision: 0.2116 - val_recall: 0.6553 - val_auc: 0.7765\n",
      "Epoch 43/250\n",
      "24/24 [==============================] - 0s 4ms/step - loss: 0.6548 - tp: 16435.0000 - fp: 7055.0000 - tn: 17233.0000 - fn: 7853.0000 - accuracy: 0.6931 - precision: 0.6997 - recall: 0.6767 - auc: 0.7709 - val_loss: 0.6357 - val_tp: 540.0000 - val_fp: 2045.0000 - val_tn: 5998.0000 - val_fn: 278.0000 - val_accuracy: 0.7378 - val_precision: 0.2089 - val_recall: 0.6601 - val_auc: 0.7769\n",
      "Epoch 44/250\n",
      "24/24 [==============================] - 0s 4ms/step - loss: 0.6527 - tp: 16523.0000 - fp: 6888.0000 - tn: 17400.0000 - fn: 7765.0000 - accuracy: 0.6983 - precision: 0.7058 - recall: 0.6803 - auc: 0.7741 - val_loss: 0.6426 - val_tp: 548.0000 - val_fp: 2191.0000 - val_tn: 5852.0000 - val_fn: 270.0000 - val_accuracy: 0.7223 - val_precision: 0.2001 - val_recall: 0.6699 - val_auc: 0.7754\n",
      "Epoch 45/250\n",
      "24/24 [==============================] - 0s 4ms/step - loss: 0.6521 - tp: 16778.0000 - fp: 7005.0000 - tn: 17283.0000 - fn: 7510.0000 - accuracy: 0.7012 - precision: 0.7055 - recall: 0.6908 - auc: 0.7749 - val_loss: 0.6371 - val_tp: 545.0000 - val_fp: 2081.0000 - val_tn: 5962.0000 - val_fn: 273.0000 - val_accuracy: 0.7343 - val_precision: 0.2075 - val_recall: 0.6663 - val_auc: 0.7777\n",
      "Epoch 46/250\n",
      "24/24 [==============================] - 0s 4ms/step - loss: 0.6507 - tp: 16803.0000 - fp: 7114.0000 - tn: 17174.0000 - fn: 7485.0000 - accuracy: 0.6995 - precision: 0.7026 - recall: 0.6918 - auc: 0.7760 - val_loss: 0.6336 - val_tp: 544.0000 - val_fp: 2045.0000 - val_tn: 5998.0000 - val_fn: 274.0000 - val_accuracy: 0.7383 - val_precision: 0.2101 - val_recall: 0.6650 - val_auc: 0.7782\n",
      "Epoch 47/250\n",
      "24/24 [==============================] - 0s 5ms/step - loss: 0.6504 - tp: 16856.0000 - fp: 7085.0000 - tn: 17203.0000 - fn: 7432.0000 - accuracy: 0.7011 - precision: 0.7041 - recall: 0.6940 - auc: 0.7766 - val_loss: 0.6314 - val_tp: 539.0000 - val_fp: 2033.0000 - val_tn: 6010.0000 - val_fn: 279.0000 - val_accuracy: 0.7391 - val_precision: 0.2096 - val_recall: 0.6589 - val_auc: 0.7774\n",
      "Epoch 48/250\n",
      "24/24 [==============================] - 0s 5ms/step - loss: 0.6487 - tp: 16986.0000 - fp: 7054.0000 - tn: 17234.0000 - fn: 7302.0000 - accuracy: 0.7045 - precision: 0.7066 - recall: 0.6994 - auc: 0.7789 - val_loss: 0.6358 - val_tp: 550.0000 - val_fp: 2112.0000 - val_tn: 5931.0000 - val_fn: 268.0000 - val_accuracy: 0.7314 - val_precision: 0.2066 - val_recall: 0.6724 - val_auc: 0.7784\n",
      "Epoch 49/250\n",
      "24/24 [==============================] - 0s 5ms/step - loss: 0.6492 - tp: 16926.0000 - fp: 7109.0000 - tn: 17179.0000 - fn: 7362.0000 - accuracy: 0.7021 - precision: 0.7042 - recall: 0.6969 - auc: 0.7774 - val_loss: 0.6358 - val_tp: 551.0000 - val_fp: 2108.0000 - val_tn: 5935.0000 - val_fn: 267.0000 - val_accuracy: 0.7320 - val_precision: 0.2072 - val_recall: 0.6736 - val_auc: 0.7797\n",
      "Epoch 50/250\n",
      "24/24 [==============================] - 0s 5ms/step - loss: 0.6467 - tp: 17119.0000 - fp: 7114.0000 - tn: 17174.0000 - fn: 7169.0000 - accuracy: 0.7060 - precision: 0.7064 - recall: 0.7048 - auc: 0.7813 - val_loss: 0.6187 - val_tp: 526.0000 - val_fp: 1892.0000 - val_tn: 6151.0000 - val_fn: 292.0000 - val_accuracy: 0.7535 - val_precision: 0.2175 - val_recall: 0.6430 - val_auc: 0.7788\n",
      "Epoch 51/250\n",
      "24/24 [==============================] - 0s 5ms/step - loss: 0.6467 - tp: 17019.0000 - fp: 7002.0000 - tn: 17286.0000 - fn: 7269.0000 - accuracy: 0.7062 - precision: 0.7085 - recall: 0.7007 - auc: 0.7806 - val_loss: 0.6309 - val_tp: 540.0000 - val_fp: 2066.0000 - val_tn: 5977.0000 - val_fn: 278.0000 - val_accuracy: 0.7355 - val_precision: 0.2072 - val_recall: 0.6601 - val_auc: 0.7792\n",
      "Epoch 52/250\n",
      "24/24 [==============================] - 0s 5ms/step - loss: 0.6456 - tp: 16961.0000 - fp: 6911.0000 - tn: 17377.0000 - fn: 7327.0000 - accuracy: 0.7069 - precision: 0.7105 - recall: 0.6983 - auc: 0.7824 - val_loss: 0.6321 - val_tp: 553.0000 - val_fp: 2104.0000 - val_tn: 5939.0000 - val_fn: 265.0000 - val_accuracy: 0.7326 - val_precision: 0.2081 - val_recall: 0.6760 - val_auc: 0.7806\n",
      "Epoch 53/250\n",
      "24/24 [==============================] - 0s 5ms/step - loss: 0.6450 - tp: 17095.0000 - fp: 7004.0000 - tn: 17284.0000 - fn: 7193.0000 - accuracy: 0.7077 - precision: 0.7094 - recall: 0.7038 - auc: 0.7820 - val_loss: 0.6374 - val_tp: 555.0000 - val_fp: 2184.0000 - val_tn: 5859.0000 - val_fn: 263.0000 - val_accuracy: 0.7238 - val_precision: 0.2026 - val_recall: 0.6785 - val_auc: 0.7804\n",
      "Epoch 54/250\n",
      "24/24 [==============================] - 0s 5ms/step - loss: 0.6434 - tp: 17276.0000 - fp: 7185.0000 - tn: 17103.0000 - fn: 7012.0000 - accuracy: 0.7077 - precision: 0.7063 - recall: 0.7113 - auc: 0.7841 - val_loss: 0.6264 - val_tp: 544.0000 - val_fp: 2052.0000 - val_tn: 5991.0000 - val_fn: 274.0000 - val_accuracy: 0.7375 - val_precision: 0.2096 - val_recall: 0.6650 - val_auc: 0.7807\n",
      "Epoch 55/250\n",
      "24/24 [==============================] - 0s 5ms/step - loss: 0.6443 - tp: 17049.0000 - fp: 7023.0000 - tn: 17265.0000 - fn: 7239.0000 - accuracy: 0.7064 - precision: 0.7083 - recall: 0.7020 - auc: 0.7818 - val_loss: 0.6325 - val_tp: 554.0000 - val_fp: 2101.0000 - val_tn: 5942.0000 - val_fn: 264.0000 - val_accuracy: 0.7331 - val_precision: 0.2087 - val_recall: 0.6773 - val_auc: 0.7817\n",
      "Epoch 56/250\n",
      "24/24 [==============================] - 0s 4ms/step - loss: 0.6425 - tp: 17171.0000 - fp: 7027.0000 - tn: 17261.0000 - fn: 7117.0000 - accuracy: 0.7088 - precision: 0.7096 - recall: 0.7070 - auc: 0.7842 - val_loss: 0.6332 - val_tp: 554.0000 - val_fp: 2145.0000 - val_tn: 5898.0000 - val_fn: 264.0000 - val_accuracy: 0.7281 - val_precision: 0.2053 - val_recall: 0.6773 - val_auc: 0.7805\n",
      "Epoch 57/250\n",
      "24/24 [==============================] - 0s 5ms/step - loss: 0.6416 - tp: 17183.0000 - fp: 6973.0000 - tn: 17315.0000 - fn: 7105.0000 - accuracy: 0.7102 - precision: 0.7113 - recall: 0.7075 - auc: 0.7855 - val_loss: 0.6282 - val_tp: 551.0000 - val_fp: 2073.0000 - val_tn: 5970.0000 - val_fn: 267.0000 - val_accuracy: 0.7359 - val_precision: 0.2100 - val_recall: 0.6736 - val_auc: 0.7812\n",
      "Epoch 58/250\n",
      "24/24 [==============================] - 0s 5ms/step - loss: 0.6410 - tp: 17223.0000 - fp: 7055.0000 - tn: 17233.0000 - fn: 7065.0000 - accuracy: 0.7093 - precision: 0.7094 - recall: 0.7091 - auc: 0.7859 - val_loss: 0.6303 - val_tp: 555.0000 - val_fp: 2134.0000 - val_tn: 5909.0000 - val_fn: 263.0000 - val_accuracy: 0.7295 - val_precision: 0.2064 - val_recall: 0.6785 - val_auc: 0.7814\n",
      "Epoch 59/250\n",
      "24/24 [==============================] - 0s 5ms/step - loss: 0.6399 - tp: 17160.0000 - fp: 6965.0000 - tn: 17323.0000 - fn: 7128.0000 - accuracy: 0.7099 - precision: 0.7113 - recall: 0.7065 - auc: 0.7864 - val_loss: 0.6390 - val_tp: 562.0000 - val_fp: 2246.0000 - val_tn: 5797.0000 - val_fn: 256.0000 - val_accuracy: 0.7176 - val_precision: 0.2001 - val_recall: 0.6870 - val_auc: 0.7820\n",
      "Epoch 60/250\n",
      "24/24 [==============================] - 0s 5ms/step - loss: 0.6400 - tp: 17365.0000 - fp: 7024.0000 - tn: 17264.0000 - fn: 6923.0000 - accuracy: 0.7129 - precision: 0.7120 - recall: 0.7150 - auc: 0.7866 - val_loss: 0.6280 - val_tp: 556.0000 - val_fp: 2108.0000 - val_tn: 5935.0000 - val_fn: 262.0000 - val_accuracy: 0.7325 - val_precision: 0.2087 - val_recall: 0.6797 - val_auc: 0.7826\n",
      "Epoch 61/250\n"
     ]
    },
    {
     "name": "stdout",
     "output_type": "stream",
     "text": [
      "24/24 [==============================] - 0s 5ms/step - loss: 0.6386 - tp: 17347.0000 - fp: 7050.0000 - tn: 17238.0000 - fn: 6941.0000 - accuracy: 0.7120 - precision: 0.7110 - recall: 0.7142 - auc: 0.7877 - val_loss: 0.6244 - val_tp: 550.0000 - val_fp: 2073.0000 - val_tn: 5970.0000 - val_fn: 268.0000 - val_accuracy: 0.7358 - val_precision: 0.2097 - val_recall: 0.6724 - val_auc: 0.7820\n",
      "Epoch 62/250\n",
      "24/24 [==============================] - 0s 5ms/step - loss: 0.6387 - tp: 17238.0000 - fp: 6922.0000 - tn: 17366.0000 - fn: 7050.0000 - accuracy: 0.7124 - precision: 0.7135 - recall: 0.7097 - auc: 0.7874 - val_loss: 0.6182 - val_tp: 538.0000 - val_fp: 1981.0000 - val_tn: 6062.0000 - val_fn: 280.0000 - val_accuracy: 0.7448 - val_precision: 0.2136 - val_recall: 0.6577 - val_auc: 0.7819\n",
      "Epoch 63/250\n",
      "24/24 [==============================] - 0s 4ms/step - loss: 0.6398 - tp: 17171.0000 - fp: 7044.0000 - tn: 17244.0000 - fn: 7117.0000 - accuracy: 0.7085 - precision: 0.7091 - recall: 0.7070 - auc: 0.7849 - val_loss: 0.6195 - val_tp: 543.0000 - val_fp: 1997.0000 - val_tn: 6046.0000 - val_fn: 275.0000 - val_accuracy: 0.7436 - val_precision: 0.2138 - val_recall: 0.6638 - val_auc: 0.7841\n",
      "Epoch 64/250\n",
      "24/24 [==============================] - 0s 4ms/step - loss: 0.6355 - tp: 17297.0000 - fp: 6849.0000 - tn: 17439.0000 - fn: 6991.0000 - accuracy: 0.7151 - precision: 0.7164 - recall: 0.7122 - auc: 0.7915 - val_loss: 0.6186 - val_tp: 545.0000 - val_fp: 2012.0000 - val_tn: 6031.0000 - val_fn: 273.0000 - val_accuracy: 0.7421 - val_precision: 0.2131 - val_recall: 0.6663 - val_auc: 0.7829\n",
      "Epoch 65/250\n",
      "24/24 [==============================] - 0s 4ms/step - loss: 0.6368 - tp: 17340.0000 - fp: 7013.0000 - tn: 17275.0000 - fn: 6948.0000 - accuracy: 0.7126 - precision: 0.7120 - recall: 0.7139 - auc: 0.7889 - val_loss: 0.6360 - val_tp: 565.0000 - val_fp: 2212.0000 - val_tn: 5831.0000 - val_fn: 253.0000 - val_accuracy: 0.7218 - val_precision: 0.2035 - val_recall: 0.6907 - val_auc: 0.7837\n",
      "Epoch 66/250\n",
      "24/24 [==============================] - 0s 4ms/step - loss: 0.6352 - tp: 17347.0000 - fp: 6999.0000 - tn: 17289.0000 - fn: 6941.0000 - accuracy: 0.7130 - precision: 0.7125 - recall: 0.7142 - auc: 0.7910 - val_loss: 0.6148 - val_tp: 542.0000 - val_fp: 1975.0000 - val_tn: 6068.0000 - val_fn: 276.0000 - val_accuracy: 0.7460 - val_precision: 0.2153 - val_recall: 0.6626 - val_auc: 0.7839\n",
      "Epoch 67/250\n",
      "24/24 [==============================] - 0s 4ms/step - loss: 0.6351 - tp: 17386.0000 - fp: 6946.0000 - tn: 17342.0000 - fn: 6902.0000 - accuracy: 0.7149 - precision: 0.7145 - recall: 0.7158 - auc: 0.7915 - val_loss: 0.6247 - val_tp: 552.0000 - val_fp: 2084.0000 - val_tn: 5959.0000 - val_fn: 266.0000 - val_accuracy: 0.7348 - val_precision: 0.2094 - val_recall: 0.6748 - val_auc: 0.7848\n",
      "Epoch 68/250\n",
      "24/24 [==============================] - 0s 4ms/step - loss: 0.6335 - tp: 17409.0000 - fp: 6863.0000 - tn: 17425.0000 - fn: 6879.0000 - accuracy: 0.7171 - precision: 0.7172 - recall: 0.7168 - auc: 0.7927 - val_loss: 0.6326 - val_tp: 563.0000 - val_fp: 2204.0000 - val_tn: 5839.0000 - val_fn: 255.0000 - val_accuracy: 0.7225 - val_precision: 0.2035 - val_recall: 0.6883 - val_auc: 0.7847\n",
      "Epoch 69/250\n",
      "24/24 [==============================] - 0s 5ms/step - loss: 0.6328 - tp: 17420.0000 - fp: 6922.0000 - tn: 17366.0000 - fn: 6868.0000 - accuracy: 0.7161 - precision: 0.7156 - recall: 0.7172 - auc: 0.7935 - val_loss: 0.6238 - val_tp: 555.0000 - val_fp: 2112.0000 - val_tn: 5931.0000 - val_fn: 263.0000 - val_accuracy: 0.7320 - val_precision: 0.2081 - val_recall: 0.6785 - val_auc: 0.7848\n",
      "Epoch 70/250\n",
      "24/24 [==============================] - 0s 4ms/step - loss: 0.6322 - tp: 17474.0000 - fp: 7001.0000 - tn: 17287.0000 - fn: 6814.0000 - accuracy: 0.7156 - precision: 0.7140 - recall: 0.7194 - auc: 0.7933 - val_loss: 0.6161 - val_tp: 544.0000 - val_fp: 1983.0000 - val_tn: 6060.0000 - val_fn: 274.0000 - val_accuracy: 0.7453 - val_precision: 0.2153 - val_recall: 0.6650 - val_auc: 0.7852\n",
      "Epoch 71/250\n",
      "24/24 [==============================] - 0s 4ms/step - loss: 0.6324 - tp: 17341.0000 - fp: 6889.0000 - tn: 17399.0000 - fn: 6947.0000 - accuracy: 0.7152 - precision: 0.7157 - recall: 0.7140 - auc: 0.7933 - val_loss: 0.6077 - val_tp: 538.0000 - val_fp: 1896.0000 - val_tn: 6147.0000 - val_fn: 280.0000 - val_accuracy: 0.7544 - val_precision: 0.2210 - val_recall: 0.6577 - val_auc: 0.7852\n",
      "Epoch 72/250\n",
      "24/24 [==============================] - 0s 4ms/step - loss: 0.6320 - tp: 17363.0000 - fp: 6866.0000 - tn: 17422.0000 - fn: 6925.0000 - accuracy: 0.7161 - precision: 0.7166 - recall: 0.7149 - auc: 0.7931 - val_loss: 0.6011 - val_tp: 529.0000 - val_fp: 1804.0000 - val_tn: 6239.0000 - val_fn: 289.0000 - val_accuracy: 0.7638 - val_precision: 0.2267 - val_recall: 0.6467 - val_auc: 0.7858\n",
      "Epoch 73/250\n",
      "24/24 [==============================] - 0s 4ms/step - loss: 0.6312 - tp: 17261.0000 - fp: 6728.0000 - tn: 17560.0000 - fn: 7027.0000 - accuracy: 0.7168 - precision: 0.7195 - recall: 0.7107 - auc: 0.7943 - val_loss: 0.6090 - val_tp: 537.0000 - val_fp: 1901.0000 - val_tn: 6142.0000 - val_fn: 281.0000 - val_accuracy: 0.7538 - val_precision: 0.2203 - val_recall: 0.6565 - val_auc: 0.7849\n",
      "Epoch 74/250\n",
      "24/24 [==============================] - 0s 4ms/step - loss: 0.6304 - tp: 17448.0000 - fp: 6851.0000 - tn: 17437.0000 - fn: 6840.0000 - accuracy: 0.7182 - precision: 0.7181 - recall: 0.7184 - auc: 0.7954 - val_loss: 0.6169 - val_tp: 547.0000 - val_fp: 2006.0000 - val_tn: 6037.0000 - val_fn: 271.0000 - val_accuracy: 0.7430 - val_precision: 0.2143 - val_recall: 0.6687 - val_auc: 0.7862\n",
      "Epoch 75/250\n",
      "24/24 [==============================] - 0s 4ms/step - loss: 0.6297 - tp: 17461.0000 - fp: 6858.0000 - tn: 17430.0000 - fn: 6827.0000 - accuracy: 0.7183 - precision: 0.7180 - recall: 0.7189 - auc: 0.7953 - val_loss: 0.6144 - val_tp: 548.0000 - val_fp: 1993.0000 - val_tn: 6050.0000 - val_fn: 270.0000 - val_accuracy: 0.7446 - val_precision: 0.2157 - val_recall: 0.6699 - val_auc: 0.7859\n",
      "Epoch 76/250\n",
      "24/24 [==============================] - 0s 4ms/step - loss: 0.6295 - tp: 17432.0000 - fp: 6760.0000 - tn: 17528.0000 - fn: 6856.0000 - accuracy: 0.7197 - precision: 0.7206 - recall: 0.7177 - auc: 0.7959 - val_loss: 0.6116 - val_tp: 541.0000 - val_fp: 1936.0000 - val_tn: 6107.0000 - val_fn: 277.0000 - val_accuracy: 0.7503 - val_precision: 0.2184 - val_recall: 0.6614 - val_auc: 0.7866\n",
      "Epoch 77/250\n",
      "24/24 [==============================] - 0s 4ms/step - loss: 0.6283 - tp: 17439.0000 - fp: 6809.0000 - tn: 17479.0000 - fn: 6849.0000 - accuracy: 0.7188 - precision: 0.7192 - recall: 0.7180 - auc: 0.7970 - val_loss: 0.6154 - val_tp: 544.0000 - val_fp: 2012.0000 - val_tn: 6031.0000 - val_fn: 274.0000 - val_accuracy: 0.7420 - val_precision: 0.2128 - val_recall: 0.6650 - val_auc: 0.7847\n",
      "Epoch 78/250\n",
      "24/24 [==============================] - 0s 4ms/step - loss: 0.6278 - tp: 17516.0000 - fp: 6881.0000 - tn: 17407.0000 - fn: 6772.0000 - accuracy: 0.7189 - precision: 0.7180 - recall: 0.7212 - auc: 0.7969 - val_loss: 0.6049 - val_tp: 530.0000 - val_fp: 1876.0000 - val_tn: 6167.0000 - val_fn: 288.0000 - val_accuracy: 0.7558 - val_precision: 0.2203 - val_recall: 0.6479 - val_auc: 0.7857\n",
      "Epoch 79/250\n",
      "24/24 [==============================] - 0s 4ms/step - loss: 0.6283 - tp: 17484.0000 - fp: 6916.0000 - tn: 17372.0000 - fn: 6804.0000 - accuracy: 0.7176 - precision: 0.7166 - recall: 0.7199 - auc: 0.7967 - val_loss: 0.5969 - val_tp: 530.0000 - val_fp: 1813.0000 - val_tn: 6230.0000 - val_fn: 288.0000 - val_accuracy: 0.7629 - val_precision: 0.2262 - val_recall: 0.6479 - val_auc: 0.7862\n",
      "Epoch 80/250\n",
      "24/24 [==============================] - 0s 5ms/step - loss: 0.6275 - tp: 17425.0000 - fp: 6806.0000 - tn: 17482.0000 - fn: 6863.0000 - accuracy: 0.7186 - precision: 0.7191 - recall: 0.7174 - auc: 0.7971 - val_loss: 0.6146 - val_tp: 544.0000 - val_fp: 1990.0000 - val_tn: 6053.0000 - val_fn: 274.0000 - val_accuracy: 0.7445 - val_precision: 0.2147 - val_recall: 0.6650 - val_auc: 0.7865\n",
      "Epoch 81/250\n"
     ]
    },
    {
     "name": "stdout",
     "output_type": "stream",
     "text": [
      "24/24 [==============================] - 0s 4ms/step - loss: 0.6268 - tp: 17446.0000 - fp: 6761.0000 - tn: 17527.0000 - fn: 6842.0000 - accuracy: 0.7200 - precision: 0.7207 - recall: 0.7183 - auc: 0.7980 - val_loss: 0.6139 - val_tp: 547.0000 - val_fp: 2011.0000 - val_tn: 6032.0000 - val_fn: 271.0000 - val_accuracy: 0.7425 - val_precision: 0.2138 - val_recall: 0.6687 - val_auc: 0.7867\n",
      "Epoch 82/250\n",
      "24/24 [==============================] - 0s 4ms/step - loss: 0.6246 - tp: 17497.0000 - fp: 6650.0000 - tn: 17638.0000 - fn: 6791.0000 - accuracy: 0.7233 - precision: 0.7246 - recall: 0.7204 - auc: 0.8004 - val_loss: 0.6059 - val_tp: 540.0000 - val_fp: 1923.0000 - val_tn: 6120.0000 - val_fn: 278.0000 - val_accuracy: 0.7516 - val_precision: 0.2192 - val_recall: 0.6601 - val_auc: 0.7875\n",
      "Epoch 83/250\n",
      "24/24 [==============================] - 0s 4ms/step - loss: 0.6256 - tp: 17556.0000 - fp: 6776.0000 - tn: 17512.0000 - fn: 6732.0000 - accuracy: 0.7219 - precision: 0.7215 - recall: 0.7228 - auc: 0.7990 - val_loss: 0.6129 - val_tp: 546.0000 - val_fp: 2012.0000 - val_tn: 6031.0000 - val_fn: 272.0000 - val_accuracy: 0.7422 - val_precision: 0.2134 - val_recall: 0.6675 - val_auc: 0.7863\n",
      "Epoch 84/250\n",
      "24/24 [==============================] - 0s 4ms/step - loss: 0.6245 - tp: 17533.0000 - fp: 6772.0000 - tn: 17516.0000 - fn: 6755.0000 - accuracy: 0.7215 - precision: 0.7214 - recall: 0.7219 - auc: 0.7998 - val_loss: 0.6168 - val_tp: 554.0000 - val_fp: 2065.0000 - val_tn: 5978.0000 - val_fn: 264.0000 - val_accuracy: 0.7372 - val_precision: 0.2115 - val_recall: 0.6773 - val_auc: 0.7879\n",
      "Epoch 85/250\n",
      "24/24 [==============================] - 0s 5ms/step - loss: 0.6240 - tp: 17548.0000 - fp: 6820.0000 - tn: 17468.0000 - fn: 6740.0000 - accuracy: 0.7208 - precision: 0.7201 - recall: 0.7225 - auc: 0.8006 - val_loss: 0.6049 - val_tp: 538.0000 - val_fp: 1910.0000 - val_tn: 6133.0000 - val_fn: 280.0000 - val_accuracy: 0.7528 - val_precision: 0.2198 - val_recall: 0.6577 - val_auc: 0.7875\n",
      "Epoch 86/250\n",
      "24/24 [==============================] - 0s 6ms/step - loss: 0.6231 - tp: 17372.0000 - fp: 6581.0000 - tn: 17707.0000 - fn: 6916.0000 - accuracy: 0.7221 - precision: 0.7253 - recall: 0.7153 - auc: 0.8014 - val_loss: 0.6086 - val_tp: 539.0000 - val_fp: 1959.0000 - val_tn: 6084.0000 - val_fn: 279.0000 - val_accuracy: 0.7474 - val_precision: 0.2158 - val_recall: 0.6589 - val_auc: 0.7874\n",
      "Epoch 87/250\n",
      "24/24 [==============================] - 0s 6ms/step - loss: 0.6233 - tp: 17513.0000 - fp: 6745.0000 - tn: 17543.0000 - fn: 6775.0000 - accuracy: 0.7217 - precision: 0.7219 - recall: 0.7211 - auc: 0.8002 - val_loss: 0.6041 - val_tp: 541.0000 - val_fp: 1925.0000 - val_tn: 6118.0000 - val_fn: 277.0000 - val_accuracy: 0.7515 - val_precision: 0.2194 - val_recall: 0.6614 - val_auc: 0.7881\n",
      "Epoch 88/250\n",
      "24/24 [==============================] - 0s 7ms/step - loss: 0.6223 - tp: 17615.0000 - fp: 6819.0000 - tn: 17469.0000 - fn: 6673.0000 - accuracy: 0.7222 - precision: 0.7209 - recall: 0.7253 - auc: 0.8012 - val_loss: 0.5992 - val_tp: 531.0000 - val_fp: 1854.0000 - val_tn: 6189.0000 - val_fn: 287.0000 - val_accuracy: 0.7584 - val_precision: 0.2226 - val_recall: 0.6491 - val_auc: 0.7876\n",
      "Epoch 89/250\n",
      "24/24 [==============================] - 0s 7ms/step - loss: 0.6224 - tp: 17414.0000 - fp: 6667.0000 - tn: 17621.0000 - fn: 6874.0000 - accuracy: 0.7212 - precision: 0.7231 - recall: 0.7170 - auc: 0.8012 - val_loss: 0.5981 - val_tp: 532.0000 - val_fp: 1836.0000 - val_tn: 6207.0000 - val_fn: 286.0000 - val_accuracy: 0.7605 - val_precision: 0.2247 - val_recall: 0.6504 - val_auc: 0.7891\n",
      "Epoch 90/250\n",
      "24/24 [==============================] - 0s 5ms/step - loss: 0.6217 - tp: 17541.0000 - fp: 6712.0000 - tn: 17576.0000 - fn: 6747.0000 - accuracy: 0.7229 - precision: 0.7233 - recall: 0.7222 - auc: 0.8017 - val_loss: 0.6063 - val_tp: 541.0000 - val_fp: 1969.0000 - val_tn: 6074.0000 - val_fn: 277.0000 - val_accuracy: 0.7465 - val_precision: 0.2155 - val_recall: 0.6614 - val_auc: 0.7885\n",
      "Epoch 91/250\n",
      "24/24 [==============================] - 0s 7ms/step - loss: 0.6202 - tp: 17595.0000 - fp: 6681.0000 - tn: 17607.0000 - fn: 6693.0000 - accuracy: 0.7247 - precision: 0.7248 - recall: 0.7244 - auc: 0.8038 - val_loss: 0.6081 - val_tp: 544.0000 - val_fp: 1950.0000 - val_tn: 6093.0000 - val_fn: 274.0000 - val_accuracy: 0.7490 - val_precision: 0.2181 - val_recall: 0.6650 - val_auc: 0.7877\n",
      "Epoch 92/250\n",
      "24/24 [==============================] - 0s 7ms/step - loss: 0.6203 - tp: 17509.0000 - fp: 6684.0000 - tn: 17604.0000 - fn: 6779.0000 - accuracy: 0.7228 - precision: 0.7237 - recall: 0.7209 - auc: 0.8035 - val_loss: 0.6014 - val_tp: 539.0000 - val_fp: 1894.0000 - val_tn: 6149.0000 - val_fn: 279.0000 - val_accuracy: 0.7548 - val_precision: 0.2215 - val_recall: 0.6589 - val_auc: 0.7888\n",
      "Epoch 93/250\n",
      "24/24 [==============================] - 0s 6ms/step - loss: 0.6211 - tp: 17561.0000 - fp: 6752.0000 - tn: 17536.0000 - fn: 6727.0000 - accuracy: 0.7225 - precision: 0.7223 - recall: 0.7230 - auc: 0.8024 - val_loss: 0.5956 - val_tp: 530.0000 - val_fp: 1830.0000 - val_tn: 6213.0000 - val_fn: 288.0000 - val_accuracy: 0.7610 - val_precision: 0.2246 - val_recall: 0.6479 - val_auc: 0.7896\n",
      "Epoch 94/250\n",
      "24/24 [==============================] - 0s 6ms/step - loss: 0.6186 - tp: 17532.0000 - fp: 6619.0000 - tn: 17669.0000 - fn: 6756.0000 - accuracy: 0.7247 - precision: 0.7259 - recall: 0.7218 - auc: 0.8054 - val_loss: 0.6010 - val_tp: 540.0000 - val_fp: 1905.0000 - val_tn: 6138.0000 - val_fn: 278.0000 - val_accuracy: 0.7536 - val_precision: 0.2209 - val_recall: 0.6601 - val_auc: 0.7895\n",
      "Epoch 95/250\n",
      "24/24 [==============================] - 0s 5ms/step - loss: 0.6190 - tp: 17686.0000 - fp: 6720.0000 - tn: 17568.0000 - fn: 6602.0000 - accuracy: 0.7257 - precision: 0.7247 - recall: 0.7282 - auc: 0.8046 - val_loss: 0.6013 - val_tp: 537.0000 - val_fp: 1900.0000 - val_tn: 6143.0000 - val_fn: 281.0000 - val_accuracy: 0.7539 - val_precision: 0.2204 - val_recall: 0.6565 - val_auc: 0.7884\n",
      "Epoch 96/250\n",
      "24/24 [==============================] - 0s 6ms/step - loss: 0.6189 - tp: 17501.0000 - fp: 6638.0000 - tn: 17650.0000 - fn: 6787.0000 - accuracy: 0.7236 - precision: 0.7250 - recall: 0.7206 - auc: 0.8039 - val_loss: 0.6005 - val_tp: 541.0000 - val_fp: 1897.0000 - val_tn: 6146.0000 - val_fn: 277.0000 - val_accuracy: 0.7547 - val_precision: 0.2219 - val_recall: 0.6614 - val_auc: 0.7908\n",
      "Epoch 97/250\n",
      "24/24 [==============================] - 0s 5ms/step - loss: 0.6184 - tp: 17474.0000 - fp: 6545.0000 - tn: 17743.0000 - fn: 6814.0000 - accuracy: 0.7250 - precision: 0.7275 - recall: 0.7194 - auc: 0.8058 - val_loss: 0.6014 - val_tp: 541.0000 - val_fp: 1903.0000 - val_tn: 6140.0000 - val_fn: 277.0000 - val_accuracy: 0.7540 - val_precision: 0.2214 - val_recall: 0.6614 - val_auc: 0.7908\n",
      "Epoch 98/250\n",
      "24/24 [==============================] - 0s 5ms/step - loss: 0.6166 - tp: 17699.0000 - fp: 6624.0000 - tn: 17664.0000 - fn: 6589.0000 - accuracy: 0.7280 - precision: 0.7277 - recall: 0.7287 - auc: 0.8074 - val_loss: 0.5986 - val_tp: 537.0000 - val_fp: 1885.0000 - val_tn: 6158.0000 - val_fn: 281.0000 - val_accuracy: 0.7556 - val_precision: 0.2217 - val_recall: 0.6565 - val_auc: 0.7894\n",
      "Epoch 99/250\n",
      "24/24 [==============================] - 0s 5ms/step - loss: 0.6179 - tp: 17509.0000 - fp: 6545.0000 - tn: 17743.0000 - fn: 6779.0000 - accuracy: 0.7257 - precision: 0.7279 - recall: 0.7209 - auc: 0.8053 - val_loss: 0.6101 - val_tp: 548.0000 - val_fp: 2010.0000 - val_tn: 6033.0000 - val_fn: 270.0000 - val_accuracy: 0.7427 - val_precision: 0.2142 - val_recall: 0.6699 - val_auc: 0.7904\n",
      "Epoch 100/250\n",
      "24/24 [==============================] - 0s 5ms/step - loss: 0.6166 - tp: 17638.0000 - fp: 6552.0000 - tn: 17736.0000 - fn: 6650.0000 - accuracy: 0.7282 - precision: 0.7291 - recall: 0.7262 - auc: 0.8070 - val_loss: 0.6067 - val_tp: 548.0000 - val_fp: 1967.0000 - val_tn: 6076.0000 - val_fn: 270.0000 - val_accuracy: 0.7475 - val_precision: 0.2179 - val_recall: 0.6699 - val_auc: 0.7906\n",
      "Epoch 101/250\n"
     ]
    },
    {
     "name": "stdout",
     "output_type": "stream",
     "text": [
      "24/24 [==============================] - 0s 4ms/step - loss: 0.6169 - tp: 17554.0000 - fp: 6567.0000 - tn: 17721.0000 - fn: 6734.0000 - accuracy: 0.7262 - precision: 0.7277 - recall: 0.7227 - auc: 0.8061 - val_loss: 0.6013 - val_tp: 540.0000 - val_fp: 1913.0000 - val_tn: 6130.0000 - val_fn: 278.0000 - val_accuracy: 0.7527 - val_precision: 0.2201 - val_recall: 0.6601 - val_auc: 0.7894\n",
      "Epoch 102/250\n",
      "24/24 [==============================] - 0s 4ms/step - loss: 0.6169 - tp: 17552.0000 - fp: 6560.0000 - tn: 17728.0000 - fn: 6736.0000 - accuracy: 0.7263 - precision: 0.7279 - recall: 0.7227 - auc: 0.8060 - val_loss: 0.5974 - val_tp: 539.0000 - val_fp: 1882.0000 - val_tn: 6161.0000 - val_fn: 279.0000 - val_accuracy: 0.7561 - val_precision: 0.2226 - val_recall: 0.6589 - val_auc: 0.7916\n",
      "Epoch 103/250\n",
      "24/24 [==============================] - 0s 4ms/step - loss: 0.6138 - tp: 17738.0000 - fp: 6561.0000 - tn: 17727.0000 - fn: 6550.0000 - accuracy: 0.7301 - precision: 0.7300 - recall: 0.7303 - auc: 0.8095 - val_loss: 0.5948 - val_tp: 533.0000 - val_fp: 1843.0000 - val_tn: 6200.0000 - val_fn: 285.0000 - val_accuracy: 0.7598 - val_precision: 0.2243 - val_recall: 0.6516 - val_auc: 0.7910\n",
      "Epoch 104/250\n",
      "24/24 [==============================] - 0s 4ms/step - loss: 0.6136 - tp: 17520.0000 - fp: 6434.0000 - tn: 17854.0000 - fn: 6768.0000 - accuracy: 0.7282 - precision: 0.7314 - recall: 0.7213 - auc: 0.8097 - val_loss: 0.5847 - val_tp: 520.0000 - val_fp: 1708.0000 - val_tn: 6335.0000 - val_fn: 298.0000 - val_accuracy: 0.7736 - val_precision: 0.2334 - val_recall: 0.6357 - val_auc: 0.7913\n",
      "Epoch 105/250\n",
      "24/24 [==============================] - 0s 4ms/step - loss: 0.6148 - tp: 17671.0000 - fp: 6584.0000 - tn: 17704.0000 - fn: 6617.0000 - accuracy: 0.7282 - precision: 0.7286 - recall: 0.7276 - auc: 0.8084 - val_loss: 0.5994 - val_tp: 538.0000 - val_fp: 1904.0000 - val_tn: 6139.0000 - val_fn: 280.0000 - val_accuracy: 0.7535 - val_precision: 0.2203 - val_recall: 0.6577 - val_auc: 0.7914\n",
      "Epoch 106/250\n",
      "24/24 [==============================] - 0s 4ms/step - loss: 0.6146 - tp: 17591.0000 - fp: 6511.0000 - tn: 17777.0000 - fn: 6697.0000 - accuracy: 0.7281 - precision: 0.7299 - recall: 0.7243 - auc: 0.8087 - val_loss: 0.5875 - val_tp: 529.0000 - val_fp: 1755.0000 - val_tn: 6288.0000 - val_fn: 289.0000 - val_accuracy: 0.7693 - val_precision: 0.2316 - val_recall: 0.6467 - val_auc: 0.7917\n",
      "Epoch 107/250\n",
      "24/24 [==============================] - 0s 5ms/step - loss: 0.6137 - tp: 17640.0000 - fp: 6494.0000 - tn: 17794.0000 - fn: 6648.0000 - accuracy: 0.7295 - precision: 0.7309 - recall: 0.7263 - auc: 0.8094 - val_loss: 0.5966 - val_tp: 537.0000 - val_fp: 1850.0000 - val_tn: 6193.0000 - val_fn: 281.0000 - val_accuracy: 0.7595 - val_precision: 0.2250 - val_recall: 0.6565 - val_auc: 0.7915\n",
      "Epoch 108/250\n",
      "24/24 [==============================] - 0s 5ms/step - loss: 0.6134 - tp: 17723.0000 - fp: 6572.0000 - tn: 17716.0000 - fn: 6565.0000 - accuracy: 0.7296 - precision: 0.7295 - recall: 0.7297 - auc: 0.8095 - val_loss: 0.5948 - val_tp: 540.0000 - val_fp: 1830.0000 - val_tn: 6213.0000 - val_fn: 278.0000 - val_accuracy: 0.7621 - val_precision: 0.2278 - val_recall: 0.6601 - val_auc: 0.7915\n",
      "Epoch 109/250\n",
      "24/24 [==============================] - 0s 5ms/step - loss: 0.6130 - tp: 17662.0000 - fp: 6380.0000 - tn: 17908.0000 - fn: 6626.0000 - accuracy: 0.7323 - precision: 0.7346 - recall: 0.7272 - auc: 0.8109 - val_loss: 0.6094 - val_tp: 549.0000 - val_fp: 1999.0000 - val_tn: 6044.0000 - val_fn: 269.0000 - val_accuracy: 0.7440 - val_precision: 0.2155 - val_recall: 0.6711 - val_auc: 0.7910\n",
      "Epoch 110/250\n",
      "24/24 [==============================] - 0s 4ms/step - loss: 0.6119 - tp: 17739.0000 - fp: 6525.0000 - tn: 17763.0000 - fn: 6549.0000 - accuracy: 0.7309 - precision: 0.7311 - recall: 0.7304 - auc: 0.8116 - val_loss: 0.5946 - val_tp: 536.0000 - val_fp: 1869.0000 - val_tn: 6174.0000 - val_fn: 282.0000 - val_accuracy: 0.7573 - val_precision: 0.2229 - val_recall: 0.6553 - val_auc: 0.7911\n",
      "Epoch 111/250\n",
      "24/24 [==============================] - 0s 4ms/step - loss: 0.6121 - tp: 17525.0000 - fp: 6384.0000 - tn: 17904.0000 - fn: 6763.0000 - accuracy: 0.7294 - precision: 0.7330 - recall: 0.7215 - auc: 0.8099 - val_loss: 0.5987 - val_tp: 542.0000 - val_fp: 1887.0000 - val_tn: 6156.0000 - val_fn: 276.0000 - val_accuracy: 0.7559 - val_precision: 0.2231 - val_recall: 0.6626 - val_auc: 0.7917\n",
      "Epoch 112/250\n",
      "24/24 [==============================] - 0s 5ms/step - loss: 0.6112 - tp: 17753.0000 - fp: 6528.0000 - tn: 17760.0000 - fn: 6535.0000 - accuracy: 0.7311 - precision: 0.7311 - recall: 0.7309 - auc: 0.8119 - val_loss: 0.5971 - val_tp: 540.0000 - val_fp: 1878.0000 - val_tn: 6165.0000 - val_fn: 278.0000 - val_accuracy: 0.7567 - val_precision: 0.2233 - val_recall: 0.6601 - val_auc: 0.7922\n",
      "Epoch 113/250\n",
      "24/24 [==============================] - 0s 4ms/step - loss: 0.6110 - tp: 17611.0000 - fp: 6349.0000 - tn: 17939.0000 - fn: 6677.0000 - accuracy: 0.7318 - precision: 0.7350 - recall: 0.7251 - auc: 0.8122 - val_loss: 0.6021 - val_tp: 549.0000 - val_fp: 1929.0000 - val_tn: 6114.0000 - val_fn: 269.0000 - val_accuracy: 0.7519 - val_precision: 0.2215 - val_recall: 0.6711 - val_auc: 0.7922\n",
      "Epoch 114/250\n",
      "24/24 [==============================] - 0s 5ms/step - loss: 0.6111 - tp: 17616.0000 - fp: 6369.0000 - tn: 17919.0000 - fn: 6672.0000 - accuracy: 0.7315 - precision: 0.7345 - recall: 0.7253 - auc: 0.8114 - val_loss: 0.6152 - val_tp: 552.0000 - val_fp: 2051.0000 - val_tn: 5992.0000 - val_fn: 266.0000 - val_accuracy: 0.7385 - val_precision: 0.2121 - val_recall: 0.6748 - val_auc: 0.7924\n",
      "Epoch 115/250\n",
      "24/24 [==============================] - 0s 5ms/step - loss: 0.6108 - tp: 17746.0000 - fp: 6454.0000 - tn: 17834.0000 - fn: 6542.0000 - accuracy: 0.7325 - precision: 0.7333 - recall: 0.7306 - auc: 0.8126 - val_loss: 0.6014 - val_tp: 544.0000 - val_fp: 1923.0000 - val_tn: 6120.0000 - val_fn: 274.0000 - val_accuracy: 0.7521 - val_precision: 0.2205 - val_recall: 0.6650 - val_auc: 0.7919\n",
      "Epoch 116/250\n",
      "24/24 [==============================] - 0s 5ms/step - loss: 0.6081 - tp: 17836.0000 - fp: 6488.0000 - tn: 17800.0000 - fn: 6452.0000 - accuracy: 0.7336 - precision: 0.7333 - recall: 0.7344 - auc: 0.8151 - val_loss: 0.6008 - val_tp: 543.0000 - val_fp: 1919.0000 - val_tn: 6124.0000 - val_fn: 275.0000 - val_accuracy: 0.7524 - val_precision: 0.2206 - val_recall: 0.6638 - val_auc: 0.7921\n",
      "Epoch 117/250\n",
      "24/24 [==============================] - 0s 5ms/step - loss: 0.6092 - tp: 17728.0000 - fp: 6511.0000 - tn: 17777.0000 - fn: 6560.0000 - accuracy: 0.7309 - precision: 0.7314 - recall: 0.7299 - auc: 0.8132 - val_loss: 0.5889 - val_tp: 538.0000 - val_fp: 1804.0000 - val_tn: 6239.0000 - val_fn: 280.0000 - val_accuracy: 0.7648 - val_precision: 0.2297 - val_recall: 0.6577 - val_auc: 0.7931\n",
      "Epoch 118/250\n",
      "24/24 [==============================] - 0s 5ms/step - loss: 0.6080 - tp: 17785.0000 - fp: 6381.0000 - tn: 17907.0000 - fn: 6503.0000 - accuracy: 0.7348 - precision: 0.7360 - recall: 0.7323 - auc: 0.8152 - val_loss: 0.5923 - val_tp: 537.0000 - val_fp: 1822.0000 - val_tn: 6221.0000 - val_fn: 281.0000 - val_accuracy: 0.7627 - val_precision: 0.2276 - val_recall: 0.6565 - val_auc: 0.7931\n",
      "Epoch 119/250\n",
      "24/24 [==============================] - 0s 5ms/step - loss: 0.6083 - tp: 17757.0000 - fp: 6523.0000 - tn: 17765.0000 - fn: 6531.0000 - accuracy: 0.7313 - precision: 0.7313 - recall: 0.7311 - auc: 0.8145 - val_loss: 0.5818 - val_tp: 522.0000 - val_fp: 1726.0000 - val_tn: 6317.0000 - val_fn: 296.0000 - val_accuracy: 0.7718 - val_precision: 0.2322 - val_recall: 0.6381 - val_auc: 0.7926\n",
      "Epoch 120/250\n",
      "24/24 [==============================] - 0s 5ms/step - loss: 0.6078 - tp: 17688.0000 - fp: 6332.0000 - tn: 17956.0000 - fn: 6600.0000 - accuracy: 0.7338 - precision: 0.7364 - recall: 0.7283 - auc: 0.8155 - val_loss: 0.5863 - val_tp: 533.0000 - val_fp: 1786.0000 - val_tn: 6257.0000 - val_fn: 285.0000 - val_accuracy: 0.7663 - val_precision: 0.2298 - val_recall: 0.6516 - val_auc: 0.7920\n",
      "Epoch 121/250\n"
     ]
    },
    {
     "name": "stdout",
     "output_type": "stream",
     "text": [
      "24/24 [==============================] - 0s 5ms/step - loss: 0.6061 - tp: 17754.0000 - fp: 6337.0000 - tn: 17951.0000 - fn: 6534.0000 - accuracy: 0.7350 - precision: 0.7370 - recall: 0.7310 - auc: 0.8172 - val_loss: 0.5867 - val_tp: 537.0000 - val_fp: 1786.0000 - val_tn: 6257.0000 - val_fn: 281.0000 - val_accuracy: 0.7667 - val_precision: 0.2312 - val_recall: 0.6565 - val_auc: 0.7928\n",
      "Epoch 122/250\n",
      "24/24 [==============================] - 0s 5ms/step - loss: 0.6075 - tp: 17774.0000 - fp: 6423.0000 - tn: 17865.0000 - fn: 6514.0000 - accuracy: 0.7337 - precision: 0.7346 - recall: 0.7318 - auc: 0.8149 - val_loss: 0.5827 - val_tp: 522.0000 - val_fp: 1731.0000 - val_tn: 6312.0000 - val_fn: 296.0000 - val_accuracy: 0.7712 - val_precision: 0.2317 - val_recall: 0.6381 - val_auc: 0.7924\n",
      "Epoch 123/250\n",
      "24/24 [==============================] - 0s 5ms/step - loss: 0.6064 - tp: 17663.0000 - fp: 6355.0000 - tn: 17933.0000 - fn: 6625.0000 - accuracy: 0.7328 - precision: 0.7354 - recall: 0.7272 - auc: 0.8157 - val_loss: 0.5770 - val_tp: 517.0000 - val_fp: 1672.0000 - val_tn: 6371.0000 - val_fn: 301.0000 - val_accuracy: 0.7773 - val_precision: 0.2362 - val_recall: 0.6320 - val_auc: 0.7937\n",
      "Epoch 124/250\n",
      "24/24 [==============================] - 0s 5ms/step - loss: 0.6060 - tp: 17762.0000 - fp: 6360.0000 - tn: 17928.0000 - fn: 6526.0000 - accuracy: 0.7347 - precision: 0.7363 - recall: 0.7313 - auc: 0.8172 - val_loss: 0.5837 - val_tp: 528.0000 - val_fp: 1767.0000 - val_tn: 6276.0000 - val_fn: 290.0000 - val_accuracy: 0.7679 - val_precision: 0.2301 - val_recall: 0.6455 - val_auc: 0.7921\n",
      "Epoch 125/250\n",
      "24/24 [==============================] - 0s 5ms/step - loss: 0.6057 - tp: 17684.0000 - fp: 6290.0000 - tn: 17998.0000 - fn: 6604.0000 - accuracy: 0.7346 - precision: 0.7376 - recall: 0.7281 - auc: 0.8166 - val_loss: 0.5712 - val_tp: 514.0000 - val_fp: 1614.0000 - val_tn: 6429.0000 - val_fn: 304.0000 - val_accuracy: 0.7835 - val_precision: 0.2415 - val_recall: 0.6284 - val_auc: 0.7933\n",
      "Epoch 126/250\n",
      "24/24 [==============================] - 0s 5ms/step - loss: 0.6046 - tp: 17840.0000 - fp: 6303.0000 - tn: 17985.0000 - fn: 6448.0000 - accuracy: 0.7375 - precision: 0.7389 - recall: 0.7345 - auc: 0.8181 - val_loss: 0.5813 - val_tp: 533.0000 - val_fp: 1759.0000 - val_tn: 6284.0000 - val_fn: 285.0000 - val_accuracy: 0.7693 - val_precision: 0.2325 - val_recall: 0.6516 - val_auc: 0.7933\n",
      "Epoch 127/250\n",
      "24/24 [==============================] - 0s 5ms/step - loss: 0.6048 - tp: 17720.0000 - fp: 6285.0000 - tn: 18003.0000 - fn: 6568.0000 - accuracy: 0.7354 - precision: 0.7382 - recall: 0.7296 - auc: 0.8172 - val_loss: 0.5842 - val_tp: 519.0000 - val_fp: 1753.0000 - val_tn: 6290.0000 - val_fn: 299.0000 - val_accuracy: 0.7684 - val_precision: 0.2284 - val_recall: 0.6345 - val_auc: 0.7919\n",
      "Epoch 128/250\n",
      "24/24 [==============================] - 0s 5ms/step - loss: 0.6028 - tp: 17842.0000 - fp: 6275.0000 - tn: 18013.0000 - fn: 6446.0000 - accuracy: 0.7381 - precision: 0.7398 - recall: 0.7346 - auc: 0.8204 - val_loss: 0.5722 - val_tp: 512.0000 - val_fp: 1649.0000 - val_tn: 6394.0000 - val_fn: 306.0000 - val_accuracy: 0.7794 - val_precision: 0.2369 - val_recall: 0.6259 - val_auc: 0.7931\n",
      "Epoch 129/250\n",
      "24/24 [==============================] - 0s 5ms/step - loss: 0.6044 - tp: 17704.0000 - fp: 6262.0000 - tn: 18026.0000 - fn: 6584.0000 - accuracy: 0.7355 - precision: 0.7387 - recall: 0.7289 - auc: 0.8181 - val_loss: 0.5853 - val_tp: 529.0000 - val_fp: 1772.0000 - val_tn: 6271.0000 - val_fn: 289.0000 - val_accuracy: 0.7674 - val_precision: 0.2299 - val_recall: 0.6467 - val_auc: 0.7935\n",
      "Epoch 130/250\n",
      "24/24 [==============================] - 0s 5ms/step - loss: 0.6025 - tp: 17850.0000 - fp: 6218.0000 - tn: 18070.0000 - fn: 6438.0000 - accuracy: 0.7395 - precision: 0.7416 - recall: 0.7349 - auc: 0.8208 - val_loss: 0.5882 - val_tp: 532.0000 - val_fp: 1811.0000 - val_tn: 6232.0000 - val_fn: 286.0000 - val_accuracy: 0.7633 - val_precision: 0.2271 - val_recall: 0.6504 - val_auc: 0.7939\n",
      "Epoch 131/250\n",
      "24/24 [==============================] - 0s 5ms/step - loss: 0.6027 - tp: 17871.0000 - fp: 6266.0000 - tn: 18022.0000 - fn: 6417.0000 - accuracy: 0.7389 - precision: 0.7404 - recall: 0.7358 - auc: 0.8199 - val_loss: 0.5637 - val_tp: 513.0000 - val_fp: 1582.0000 - val_tn: 6461.0000 - val_fn: 305.0000 - val_accuracy: 0.7870 - val_precision: 0.2449 - val_recall: 0.6271 - val_auc: 0.7940\n",
      "Epoch 132/250\n",
      "24/24 [==============================] - 0s 5ms/step - loss: 0.6024 - tp: 17830.0000 - fp: 6241.0000 - tn: 18047.0000 - fn: 6458.0000 - accuracy: 0.7386 - precision: 0.7407 - recall: 0.7341 - auc: 0.8205 - val_loss: 0.5789 - val_tp: 524.0000 - val_fp: 1723.0000 - val_tn: 6320.0000 - val_fn: 294.0000 - val_accuracy: 0.7724 - val_precision: 0.2332 - val_recall: 0.6406 - val_auc: 0.7932\n",
      "Epoch 133/250\n",
      "24/24 [==============================] - 0s 5ms/step - loss: 0.6029 - tp: 17822.0000 - fp: 6240.0000 - tn: 18048.0000 - fn: 6466.0000 - accuracy: 0.7384 - precision: 0.7407 - recall: 0.7338 - auc: 0.8198 - val_loss: 0.5836 - val_tp: 530.0000 - val_fp: 1776.0000 - val_tn: 6267.0000 - val_fn: 288.0000 - val_accuracy: 0.7671 - val_precision: 0.2298 - val_recall: 0.6479 - val_auc: 0.7930\n",
      "Epoch 134/250\n",
      "24/24 [==============================] - 0s 5ms/step - loss: 0.6022 - tp: 17858.0000 - fp: 6281.0000 - tn: 18007.0000 - fn: 6430.0000 - accuracy: 0.7383 - precision: 0.7398 - recall: 0.7353 - auc: 0.8203 - val_loss: 0.5864 - val_tp: 534.0000 - val_fp: 1790.0000 - val_tn: 6253.0000 - val_fn: 284.0000 - val_accuracy: 0.7659 - val_precision: 0.2298 - val_recall: 0.6528 - val_auc: 0.7944\n",
      "Epoch 135/250\n",
      "24/24 [==============================] - 0s 5ms/step - loss: 0.6008 - tp: 17848.0000 - fp: 6174.0000 - tn: 18114.0000 - fn: 6440.0000 - accuracy: 0.7403 - precision: 0.7430 - recall: 0.7348 - auc: 0.8224 - val_loss: 0.5825 - val_tp: 531.0000 - val_fp: 1750.0000 - val_tn: 6293.0000 - val_fn: 287.0000 - val_accuracy: 0.7701 - val_precision: 0.2328 - val_recall: 0.6491 - val_auc: 0.7951\n",
      "Epoch 136/250\n",
      "24/24 [==============================] - 0s 5ms/step - loss: 0.6014 - tp: 17833.0000 - fp: 6175.0000 - tn: 18113.0000 - fn: 6455.0000 - accuracy: 0.7400 - precision: 0.7428 - recall: 0.7342 - auc: 0.8215 - val_loss: 0.5862 - val_tp: 525.0000 - val_fp: 1765.0000 - val_tn: 6278.0000 - val_fn: 293.0000 - val_accuracy: 0.7677 - val_precision: 0.2293 - val_recall: 0.6418 - val_auc: 0.7937\n",
      "Epoch 137/250\n",
      "24/24 [==============================] - 0s 5ms/step - loss: 0.6011 - tp: 17818.0000 - fp: 6151.0000 - tn: 18137.0000 - fn: 6470.0000 - accuracy: 0.7402 - precision: 0.7434 - recall: 0.7336 - auc: 0.8215 - val_loss: 0.5949 - val_tp: 544.0000 - val_fp: 1888.0000 - val_tn: 6155.0000 - val_fn: 274.0000 - val_accuracy: 0.7560 - val_precision: 0.2237 - val_recall: 0.6650 - val_auc: 0.7942\n",
      "Epoch 138/250\n",
      "24/24 [==============================] - 0s 4ms/step - loss: 0.6017 - tp: 17893.0000 - fp: 6274.0000 - tn: 18014.0000 - fn: 6395.0000 - accuracy: 0.7392 - precision: 0.7404 - recall: 0.7367 - auc: 0.8210 - val_loss: 0.5712 - val_tp: 513.0000 - val_fp: 1647.0000 - val_tn: 6396.0000 - val_fn: 305.0000 - val_accuracy: 0.7797 - val_precision: 0.2375 - val_recall: 0.6271 - val_auc: 0.7940\n",
      "Epoch 139/250\n",
      "24/24 [==============================] - 0s 5ms/step - loss: 0.6005 - tp: 17762.0000 - fp: 6217.0000 - tn: 18071.0000 - fn: 6526.0000 - accuracy: 0.7377 - precision: 0.7407 - recall: 0.7313 - auc: 0.8217 - val_loss: 0.5799 - val_tp: 529.0000 - val_fp: 1697.0000 - val_tn: 6346.0000 - val_fn: 289.0000 - val_accuracy: 0.7759 - val_precision: 0.2376 - val_recall: 0.6467 - val_auc: 0.7945\n",
      "Epoch 140/250\n",
      "24/24 [==============================] - 0s 5ms/step - loss: 0.5998 - tp: 17820.0000 - fp: 6200.0000 - tn: 18088.0000 - fn: 6468.0000 - accuracy: 0.7392 - precision: 0.7419 - recall: 0.7337 - auc: 0.8223 - val_loss: 0.5796 - val_tp: 528.0000 - val_fp: 1713.0000 - val_tn: 6330.0000 - val_fn: 290.0000 - val_accuracy: 0.7740 - val_precision: 0.2356 - val_recall: 0.6455 - val_auc: 0.7954\n",
      "Epoch 141/250\n"
     ]
    },
    {
     "name": "stdout",
     "output_type": "stream",
     "text": [
      "24/24 [==============================] - 0s 5ms/step - loss: 0.5994 - tp: 17784.0000 - fp: 6051.0000 - tn: 18237.0000 - fn: 6504.0000 - accuracy: 0.7415 - precision: 0.7461 - recall: 0.7322 - auc: 0.8232 - val_loss: 0.5792 - val_tp: 526.0000 - val_fp: 1725.0000 - val_tn: 6318.0000 - val_fn: 292.0000 - val_accuracy: 0.7724 - val_precision: 0.2337 - val_recall: 0.6430 - val_auc: 0.7939\n",
      "Epoch 142/250\n",
      "24/24 [==============================] - 0s 4ms/step - loss: 0.5987 - tp: 17964.0000 - fp: 6232.0000 - tn: 18056.0000 - fn: 6324.0000 - accuracy: 0.7415 - precision: 0.7424 - recall: 0.7396 - auc: 0.8240 - val_loss: 0.5699 - val_tp: 521.0000 - val_fp: 1625.0000 - val_tn: 6418.0000 - val_fn: 297.0000 - val_accuracy: 0.7831 - val_precision: 0.2428 - val_recall: 0.6369 - val_auc: 0.7949\n",
      "Epoch 143/250\n",
      "24/24 [==============================] - 0s 5ms/step - loss: 0.5981 - tp: 17842.0000 - fp: 6039.0000 - tn: 18249.0000 - fn: 6446.0000 - accuracy: 0.7430 - precision: 0.7471 - recall: 0.7346 - auc: 0.8247 - val_loss: 0.5747 - val_tp: 522.0000 - val_fp: 1669.0000 - val_tn: 6374.0000 - val_fn: 296.0000 - val_accuracy: 0.7782 - val_precision: 0.2382 - val_recall: 0.6381 - val_auc: 0.7946\n",
      "Epoch 144/250\n",
      "24/24 [==============================] - 0s 5ms/step - loss: 0.5972 - tp: 17947.0000 - fp: 6135.0000 - tn: 18153.0000 - fn: 6341.0000 - accuracy: 0.7432 - precision: 0.7452 - recall: 0.7389 - auc: 0.8254 - val_loss: 0.5792 - val_tp: 520.0000 - val_fp: 1728.0000 - val_tn: 6315.0000 - val_fn: 298.0000 - val_accuracy: 0.7714 - val_precision: 0.2313 - val_recall: 0.6357 - val_auc: 0.7938\n",
      "Epoch 145/250\n",
      "24/24 [==============================] - 0s 5ms/step - loss: 0.5982 - tp: 17751.0000 - fp: 6130.0000 - tn: 18158.0000 - fn: 6537.0000 - accuracy: 0.7392 - precision: 0.7433 - recall: 0.7309 - auc: 0.8237 - val_loss: 0.5786 - val_tp: 528.0000 - val_fp: 1699.0000 - val_tn: 6344.0000 - val_fn: 290.0000 - val_accuracy: 0.7755 - val_precision: 0.2371 - val_recall: 0.6455 - val_auc: 0.7953\n",
      "Epoch 146/250\n",
      "24/24 [==============================] - 0s 5ms/step - loss: 0.5960 - tp: 17984.0000 - fp: 6155.0000 - tn: 18133.0000 - fn: 6304.0000 - accuracy: 0.7435 - precision: 0.7450 - recall: 0.7404 - auc: 0.8264 - val_loss: 0.5858 - val_tp: 531.0000 - val_fp: 1800.0000 - val_tn: 6243.0000 - val_fn: 287.0000 - val_accuracy: 0.7645 - val_precision: 0.2278 - val_recall: 0.6491 - val_auc: 0.7950\n",
      "Epoch 147/250\n",
      "24/24 [==============================] - 0s 5ms/step - loss: 0.5955 - tp: 17923.0000 - fp: 6088.0000 - tn: 18200.0000 - fn: 6365.0000 - accuracy: 0.7436 - precision: 0.7464 - recall: 0.7379 - auc: 0.8272 - val_loss: 0.5888 - val_tp: 534.0000 - val_fp: 1814.0000 - val_tn: 6229.0000 - val_fn: 284.0000 - val_accuracy: 0.7632 - val_precision: 0.2274 - val_recall: 0.6528 - val_auc: 0.7952\n",
      "Epoch 148/250\n",
      "24/24 [==============================] - 0s 4ms/step - loss: 0.5959 - tp: 17902.0000 - fp: 6127.0000 - tn: 18161.0000 - fn: 6386.0000 - accuracy: 0.7424 - precision: 0.7450 - recall: 0.7371 - auc: 0.8259 - val_loss: 0.5717 - val_tp: 517.0000 - val_fp: 1639.0000 - val_tn: 6404.0000 - val_fn: 301.0000 - val_accuracy: 0.7811 - val_precision: 0.2398 - val_recall: 0.6320 - val_auc: 0.7948\n",
      "Epoch 148: early stopping\n"
     ]
    }
   ],
   "source": [
    "model = make_model()\n",
    "history = model.fit(\n",
    "    train_features, \n",
    "    train_labels, \n",
    "    batch_size=BATCH_SIZE, \n",
    "    epochs=EPOCHS, \n",
    "    callbacks=[early_stopping],\n",
    "    validation_data=(val_features, val_labels))"
   ]
  },
  {
   "cell_type": "markdown",
   "id": "b12cda4c",
   "metadata": {},
   "source": [
    "#### Create Function to Plot metrics"
   ]
  },
  {
   "cell_type": "code",
   "execution_count": 21,
   "id": "bfc3cbb7",
   "metadata": {},
   "outputs": [],
   "source": [
    "def plot_metrics(history):\n",
    "    metrics = ['loss', 'precision', 'recall']\n",
    "    for n, metric in enumerate(metrics):\n",
    "        name = metric.replace('_', '').capitalize()\n",
    "        plt.plot(history.epoch, history.history[metric], color=colors[0], label='Train')\n",
    "        plt.plot(history.epoch, history.history['val_'+metric], color=colors[2], label='Val')\n",
    "        plt.xlabel('Epoch')\n",
    "        plt.ylabel(name)\n",
    "        if metric == 'loss':\n",
    "            plt.ylim([0, plt.ylim()[1]])\n",
    "        elif metric =='auc':\n",
    "            plt.ylim([0.8,1])\n",
    "        else:\n",
    "            plt.ylim([0,1])\n",
    "            \n",
    "        plt.legend()\n",
    "        plt.show()"
   ]
  },
  {
   "cell_type": "markdown",
   "id": "f046edc1",
   "metadata": {},
   "source": [
    "#### Plotting Metrics for Baseline Metrics"
   ]
  },
  {
   "cell_type": "code",
   "execution_count": 22,
   "id": "6b8d92ca",
   "metadata": {},
   "outputs": [
    {
     "data": {
      "image/png": "[encoded data removed]",
      "text/plain": [
       "<Figure size 432x288 with 1 Axes>"
      ]
     },
     "metadata": {
      "needs_background": "light"
     },
     "output_type": "display_data"
    },
    {
     "data": {
      "image/png": "[encoded data removed]",
      "text/plain": [
       "<Figure size 432x288 with 1 Axes>"
      ]
     },
     "metadata": {
      "needs_background": "light"
     },
     "output_type": "display_data"
    },
    {
     "data": {
      "image/png": "[encoded data removed]",
      "text/plain": [
       "<Figure size 432x288 with 1 Axes>"
      ]
     },
     "metadata": {
      "needs_background": "light"
     },
     "output_type": "display_data"
    }
   ],
   "source": [
    "plot_metrics(history)"
   ]
  },
  {
   "cell_type": "markdown",
   "id": "357e67a4",
   "metadata": {},
   "source": [
    "#### Inference"
   ]
  },
  {
   "cell_type": "code",
   "execution_count": 23,
   "id": "cd4add1f",
   "metadata": {},
   "outputs": [
    {
     "name": "stdout",
     "output_type": "stream",
     "text": [
      "24/24 [==============================] - 0s 2ms/step\n",
      "5/5 [==============================] - 0s 2ms/step\n"
     ]
    }
   ],
   "source": [
    "train_preds = model.predict(train_features, batch_size=BATCH_SIZE)\n",
    "test_preds = model.predict(test_features, batch_size=BATCH_SIZE)"
   ]
  },
  {
   "cell_type": "markdown",
   "id": "2341775e",
   "metadata": {},
   "source": [
    "#### Create Function to Plot Confusion Matrix"
   ]
  },
  {
   "cell_type": "code",
   "execution_count": 24,
   "id": "42568114",
   "metadata": {},
   "outputs": [],
   "source": [
    "def plot_cm(labels, predictions, p=0.50):\n",
    "    cm = confusion_matrix(labels, predictions > p)\n",
    "    plt.figure(figsize=(5,5))\n",
    "    sns.heatmap(cm, annot=True, fmt=\"d\")\n",
    "    plt.title('Confusion Matrix @{:.2f}'.format(p))\n",
    "    plt.ylabel('Actual Label')\n",
    "    plt.xlabel('Predicted Label')"
   ]
  },
  {
   "cell_type": "markdown",
   "id": "6a104e4b",
   "metadata": {},
   "source": [
    "#### Evaluate Metrics"
   ]
  },
  {
   "cell_type": "code",
   "execution_count": 25,
   "id": "61cf19e9",
   "metadata": {},
   "outputs": [
    {
     "name": "stdout",
     "output_type": "stream",
     "text": [
      "loss : 0.5765640735626221\n",
      "tp : 519.0\n",
      "fp : 1665.0\n",
      "tn : 6376.0\n",
      "fn : 301.0\n",
      "accuracy : 0.7781288623809814\n",
      "precision : 0.23763735592365265\n",
      "recall : 0.6329268217086792\n",
      "auc : 0.790950357913971\n",
      "\n"
     ]
    },
    {
     "data": {
      "image/png": "[encoded data removed]",
      "text/plain": [
       "<Figure size 360x360 with 2 Axes>"
      ]
     },
     "metadata": {
      "needs_background": "light"
     },
     "output_type": "display_data"
    }
   ],
   "source": [
    "results = model.evaluate(test_features, test_labels,\n",
    "                                  batch_size=BATCH_SIZE,\n",
    "                                  verbose=0)\n",
    "\n",
    "for name, value in zip(model.metrics_names, results):\n",
    "    print(name, ':', value)\n",
    "print()\n",
    "\n",
    "plot_cm(test_labels, test_preds)"
   ]
  },
  {
   "cell_type": "markdown",
   "id": "89b2fa34",
   "metadata": {},
   "source": [
    "#### Define Function to Plot ROC"
   ]
  },
  {
   "cell_type": "code",
   "execution_count": 26,
   "id": "288b6bdd",
   "metadata": {},
   "outputs": [],
   "source": [
    "def plot_roc(name, labels, predictions, **kwargs):\n",
    "    fp, tp, _ = sklearn.metrics.roc_curve(labels, predictions)\n",
    "    plt.plot(100*fp, 100*tp, label=name, linewidth=2, **kwargs)\n",
    "    plt.title('ROC Curve')\n",
    "    plt.xlabel('False Positives [%]')\n",
    "    plt.ylabel('True Positives [%]')\n",
    "    plt.grid(True)\n",
    "    plt.xlim([-2,102])\n",
    "    plt.ylim([-2,102])\n",
    "    ax = plt.gca()\n",
    "    ax.plot([0,1],[0,1], transform=ax.transAxes, color=colors[3])\n",
    "    ax.set_aspect('equal')"
   ]
  },
  {
   "cell_type": "markdown",
   "id": "1c476cbf",
   "metadata": {},
   "source": [
    "#### Plot ROC for Baseline Model"
   ]
  },
  {
   "cell_type": "code",
   "execution_count": 27,
   "id": "8a9add96",
   "metadata": {},
   "outputs": [
    {
     "data": {
      "image/png": "[encoded data removed]",
      "text/plain": [
       "<Figure size 432x288 with 1 Axes>"
      ]
     },
     "metadata": {
      "needs_background": "light"
     },
     "output_type": "display_data"
    }
   ],
   "source": [
    "plot_roc(\"Train\", train_labels, \n",
    "         train_preds, \n",
    "         color=colors[0])\n",
    "\n",
    "plot_roc(\"Test\", test_labels, \n",
    "         test_preds, \n",
    "         color=colors[2])\n",
    "\n",
    "plt.legend(loc='lower right')\n",
    "plt.show()"
   ]
  },
  {
   "cell_type": "markdown",
   "id": "c44537a4",
   "metadata": {},
   "source": [
    "#### Save the Model"
   ]
  },
  {
   "cell_type": "code",
   "execution_count": 28,
   "id": "43300490",
   "metadata": {},
   "outputs": [
    {
     "name": "stdout",
     "output_type": "stream",
     "text": [
      "INFO:tensorflow:Assets written to: Decision:PromoteOrNot/assets\n"
     ]
    }
   ],
   "source": [
    "model.save('Decision:PromoteOrNot')"
   ]
  }
 ],
 "metadata": {
  "kernelspec": {
   "display_name": "Python 3 (ipykernel)",
   "language": "python",
   "name": "python3"
  },
  "language_info": {
   "codemirror_mode": {
    "name": "ipython",
    "version": 3
   },
   "file_extension": ".py",
   "mimetype": "text/x-python",
   "name": "python",
   "nbconvert_exporter": "python",
   "pygments_lexer": "ipython3",
   "version": "3.9.12"
  }
 },
 "nbformat": 4,
 "nbformat_minor": 5
}
