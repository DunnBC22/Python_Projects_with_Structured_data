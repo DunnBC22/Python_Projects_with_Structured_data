{
 "cells": [
  {
   "cell_type": "markdown",
   "id": "9baaca7e",
   "metadata": {},
   "source": [
    "# MSRP Predictor- Keras Regression"
   ]
  },
  {
   "cell_type": "markdown",
   "id": "4acb7082",
   "metadata": {},
   "source": [
    "#### Dataset Source: https://www.kaggle.com/CooperUnion/cardataset"
   ]
  },
  {
   "cell_type": "markdown",
   "id": "0aa0fc9f",
   "metadata": {},
   "source": [
    "#### Importing Necessary Libraries"
   ]
  },
  {
   "cell_type": "code",
   "execution_count": 1,
   "id": "6f9db646",
   "metadata": {},
   "outputs": [],
   "source": [
    "import pandas as pd\n",
    "import numpy as np\n",
    "\n",
    "import matplotlib.pyplot as plt\n",
    "import seaborn as sns\n",
    "\n",
    "import tensorflow as tf\n",
    "from tensorflow import keras\n",
    "from tensorflow.keras import layers, regularizers\n",
    "from tensorflow.keras.layers import Normalization\n",
    "from tensorflow.keras.callbacks import EarlyStopping\n",
    "\n",
    "plt.rcParams[\"figure.figsize\"] = (18,8)"
   ]
  },
  {
   "cell_type": "markdown",
   "id": "28572d20",
   "metadata": {},
   "source": [
    "#### Versions of Main Libraries"
   ]
  },
  {
   "cell_type": "code",
   "execution_count": 2,
   "id": "f5d902ca",
   "metadata": {},
   "outputs": [
    {
     "name": "stdout",
     "output_type": "stream",
     "text": [
      "pandas:      1.4.2\n",
      "numpy:       1.21.5\n",
      "Seaborn:     0.11.2\n",
      "Tensorflow:  2.9.1\n",
      "Keras:       2.9.0\n"
     ]
    }
   ],
   "source": [
    "print(\"pandas:\".ljust(12, ' '), pd.__version__)\n",
    "print(\"numpy:\".ljust(12, ' '), np.__version__)\n",
    "print(\"Seaborn:\".ljust(12, ' '), sns.__version__)\n",
    "print(\"Tensorflow:\".ljust(12, ' '), tf.__version__)\n",
    "print(\"Keras:\".ljust(12, ' '), keras.__version__)"
   ]
  },
  {
   "cell_type": "markdown",
   "id": "a863b4b9",
   "metadata": {},
   "source": [
    "#### Ingest Data, Drop Unnecessary, & Rename Features"
   ]
  },
  {
   "cell_type": "code",
   "execution_count": 3,
   "id": "3fc7d548",
   "metadata": {},
   "outputs": [
    {
     "name": "stdout",
     "output_type": "stream",
     "text": [
      "<class 'pandas.core.frame.DataFrame'>\n",
      "Int64Index: 11812 entries, 0 to 11913\n",
      "Data columns (total 14 columns):\n",
      " #   Column            Non-Null Count  Dtype  \n",
      "---  ------            --------------  -----  \n",
      " 0   Make              11812 non-null  object \n",
      " 1   model_year        11812 non-null  int64  \n",
      " 2   fuel_type         11812 non-null  object \n",
      " 3   hp                11812 non-null  float64\n",
      " 4   cylinders         11812 non-null  float64\n",
      " 5   transmission      11812 non-null  object \n",
      " 6   drivetrain        11812 non-null  object \n",
      " 7   num_of_doors      11812 non-null  float64\n",
      " 8   Vehicle Size      11812 non-null  object \n",
      " 9   Vehicle Style     11812 non-null  object \n",
      " 10  higway_fuel_econ  11812 non-null  int64  \n",
      " 11  city_fuel_econ    11812 non-null  int64  \n",
      " 12  Popularity        11812 non-null  int64  \n",
      " 13  target            11812 non-null  int64  \n",
      "dtypes: float64(3), int64(5), object(6)\n",
      "memory usage: 1.4+ MB\n"
     ]
    }
   ],
   "source": [
    "data = pd.read_csv('Car Features and MSRP/data.csv')\n",
    "data.drop(columns=['Market Category', 'Model'], inplace=True)\n",
    "data.rename(columns={'Engine Fuel Type' : 'fuel_type', \n",
    "                     'Engine HP' : 'hp', \n",
    "                     'Engine Cylinders' : 'cylinders', \n",
    "                     'Transmission Type' : 'transmission', \n",
    "                     'Number of Doors' : 'num_of_doors',\n",
    "                     'Year' : 'model_year',\n",
    "                     'highway MPG' : 'higway_fuel_econ',\n",
    "                     'city mpg' : 'city_fuel_econ',\n",
    "                     'Driven_Wheels' : 'drivetrain',\n",
    "                     'MSRP' : 'target'}, inplace=True)\n",
    "\n",
    "data = data.dropna()\n",
    "data.info()"
   ]
  },
  {
   "cell_type": "markdown",
   "id": "1904ccc0",
   "metadata": {},
   "source": [
    "#### More Information About Dataset"
   ]
  },
  {
   "cell_type": "code",
   "execution_count": 4,
   "id": "4673afd9",
   "metadata": {},
   "outputs": [
    {
     "data": {
      "text/html": [
       "<div>\n",
       "<style scoped>\n",
       "    .dataframe tbody tr th:only-of-type {\n",
       "        vertical-align: middle;\n",
       "    }\n",
       "\n",
       "    .dataframe tbody tr th {\n",
       "        vertical-align: top;\n",
       "    }\n",
       "\n",
       "    .dataframe thead th {\n",
       "        text-align: right;\n",
       "    }\n",
       "</style>\n",
       "<table border=\"1\" class=\"dataframe\">\n",
       "  <thead>\n",
       "    <tr style=\"text-align: right;\">\n",
       "      <th></th>\n",
       "      <th>model_year</th>\n",
       "      <th>hp</th>\n",
       "      <th>cylinders</th>\n",
       "      <th>num_of_doors</th>\n",
       "      <th>higway_fuel_econ</th>\n",
       "      <th>city_fuel_econ</th>\n",
       "      <th>Popularity</th>\n",
       "      <th>target</th>\n",
       "    </tr>\n",
       "  </thead>\n",
       "  <tbody>\n",
       "    <tr>\n",
       "      <th>count</th>\n",
       "      <td>11812.000000</td>\n",
       "      <td>11812.000000</td>\n",
       "      <td>11812.000000</td>\n",
       "      <td>11812.000000</td>\n",
       "      <td>11812.000000</td>\n",
       "      <td>11812.000000</td>\n",
       "      <td>11812.000000</td>\n",
       "      <td>1.181200e+04</td>\n",
       "    </tr>\n",
       "    <tr>\n",
       "      <th>mean</th>\n",
       "      <td>2010.361581</td>\n",
       "      <td>249.504487</td>\n",
       "      <td>5.649424</td>\n",
       "      <td>3.432526</td>\n",
       "      <td>26.320945</td>\n",
       "      <td>19.328141</td>\n",
       "      <td>1553.679902</td>\n",
       "      <td>4.055994e+04</td>\n",
       "    </tr>\n",
       "    <tr>\n",
       "      <th>std</th>\n",
       "      <td>7.594647</td>\n",
       "      <td>109.206947</td>\n",
       "      <td>1.751646</td>\n",
       "      <td>0.882919</td>\n",
       "      <td>7.443589</td>\n",
       "      <td>6.527734</td>\n",
       "      <td>1440.067820</td>\n",
       "      <td>6.028413e+04</td>\n",
       "    </tr>\n",
       "    <tr>\n",
       "      <th>min</th>\n",
       "      <td>1990.000000</td>\n",
       "      <td>55.000000</td>\n",
       "      <td>0.000000</td>\n",
       "      <td>2.000000</td>\n",
       "      <td>12.000000</td>\n",
       "      <td>7.000000</td>\n",
       "      <td>2.000000</td>\n",
       "      <td>2.000000e+03</td>\n",
       "    </tr>\n",
       "    <tr>\n",
       "      <th>25%</th>\n",
       "      <td>2007.000000</td>\n",
       "      <td>170.000000</td>\n",
       "      <td>4.000000</td>\n",
       "      <td>2.000000</td>\n",
       "      <td>22.000000</td>\n",
       "      <td>16.000000</td>\n",
       "      <td>549.000000</td>\n",
       "      <td>2.099000e+04</td>\n",
       "    </tr>\n",
       "    <tr>\n",
       "      <th>50%</th>\n",
       "      <td>2015.000000</td>\n",
       "      <td>227.000000</td>\n",
       "      <td>6.000000</td>\n",
       "      <td>4.000000</td>\n",
       "      <td>26.000000</td>\n",
       "      <td>18.000000</td>\n",
       "      <td>1385.000000</td>\n",
       "      <td>2.997000e+04</td>\n",
       "    </tr>\n",
       "    <tr>\n",
       "      <th>75%</th>\n",
       "      <td>2016.000000</td>\n",
       "      <td>300.000000</td>\n",
       "      <td>6.000000</td>\n",
       "      <td>4.000000</td>\n",
       "      <td>30.000000</td>\n",
       "      <td>22.000000</td>\n",
       "      <td>2009.000000</td>\n",
       "      <td>4.220500e+04</td>\n",
       "    </tr>\n",
       "    <tr>\n",
       "      <th>max</th>\n",
       "      <td>2017.000000</td>\n",
       "      <td>1001.000000</td>\n",
       "      <td>16.000000</td>\n",
       "      <td>4.000000</td>\n",
       "      <td>354.000000</td>\n",
       "      <td>137.000000</td>\n",
       "      <td>5657.000000</td>\n",
       "      <td>2.065902e+06</td>\n",
       "    </tr>\n",
       "  </tbody>\n",
       "</table>\n",
       "</div>"
      ],
      "text/plain": [
       "         model_year            hp     cylinders  num_of_doors  \\\n",
       "count  11812.000000  11812.000000  11812.000000  11812.000000   \n",
       "mean    2010.361581    249.504487      5.649424      3.432526   \n",
       "std        7.594647    109.206947      1.751646      0.882919   \n",
       "min     1990.000000     55.000000      0.000000      2.000000   \n",
       "25%     2007.000000    170.000000      4.000000      2.000000   \n",
       "50%     2015.000000    227.000000      6.000000      4.000000   \n",
       "75%     2016.000000    300.000000      6.000000      4.000000   \n",
       "max     2017.000000   1001.000000     16.000000      4.000000   \n",
       "\n",
       "       higway_fuel_econ  city_fuel_econ    Popularity        target  \n",
       "count      11812.000000    11812.000000  11812.000000  1.181200e+04  \n",
       "mean          26.320945       19.328141   1553.679902  4.055994e+04  \n",
       "std            7.443589        6.527734   1440.067820  6.028413e+04  \n",
       "min           12.000000        7.000000      2.000000  2.000000e+03  \n",
       "25%           22.000000       16.000000    549.000000  2.099000e+04  \n",
       "50%           26.000000       18.000000   1385.000000  2.997000e+04  \n",
       "75%           30.000000       22.000000   2009.000000  4.220500e+04  \n",
       "max          354.000000      137.000000   5657.000000  2.065902e+06  "
      ]
     },
     "execution_count": 4,
     "metadata": {},
     "output_type": "execute_result"
    }
   ],
   "source": [
    "data.describe()"
   ]
  },
  {
   "cell_type": "markdown",
   "id": "820a0d8b",
   "metadata": {},
   "source": [
    "#### Numerical vs Categorical Features"
   ]
  },
  {
   "cell_type": "code",
   "execution_count": 5,
   "id": "7f28fcc9",
   "metadata": {},
   "outputs": [
    {
     "name": "stdout",
     "output_type": "stream",
     "text": [
      "Numerical Features\n",
      "hp                 355\n",
      "cylinders          9\n",
      "num_of_doors       3\n",
      "higway_fuel_econ   44\n",
      "city_fuel_econ     50\n",
      "Popularity         47\n",
      "\n",
      "-----------------------\n",
      "\n",
      "Categorical Features\n",
      "model_year         28\n",
      "Make               47\n",
      "fuel_type          9\n",
      "transmission       5\n",
      "drivetrain         4\n",
      "Vehicle Size       3\n",
      "Vehicle Style      16\n"
     ]
    }
   ],
   "source": [
    "print('Numerical Features')\n",
    "\n",
    "numerical_features = ['hp', 'cylinders', 'num_of_doors', 'higway_fuel_econ', 'city_fuel_econ', 'Popularity']\n",
    "\n",
    "for x in numerical_features:\n",
    "    print(x.ljust(18, ' '), len(data[x].unique()))\n",
    "\n",
    "print('\\n-----------------------\\n')\n",
    "\n",
    "print('Categorical Features')\n",
    "\n",
    "categorical_features = ['model_year', 'Make', 'fuel_type', 'transmission', 'drivetrain', 'Vehicle Size', 'Vehicle Style']\n",
    "\n",
    "for x in categorical_features:\n",
    "    print(x.ljust(18, ' '), len(data[x].unique()))\n"
   ]
  },
  {
   "cell_type": "markdown",
   "id": "f8635dfc",
   "metadata": {},
   "source": [
    "#### Remove Outliers"
   ]
  },
  {
   "cell_type": "code",
   "execution_count": 6,
   "id": "5b910c7d",
   "metadata": {},
   "outputs": [],
   "source": [
    "cols_to_check = ['hp', 'cylinders', 'num_of_doors', 'higway_fuel_econ','city_fuel_econ', 'Popularity', 'target']\n",
    "\n",
    "# Remove outliers using the 'IQR * 1.5' rule\n",
    "def remove_outliers(df, feature):\n",
    "    q1, q3 = np.percentile(df[feature], [25,75])\n",
    "    iqr = q3-q1\n",
    "    ul = q3 + (iqr * 1.5)\n",
    "    ll = q1 - (iqr * 1.5)\n",
    "    neo_data = df[(df[feature].values > ll) & (df[feature].values < ul)]\n",
    "    return neo_data\n",
    "\n",
    "\n",
    "for x in cols_to_check:\n",
    "    data = remove_outliers(data, x)"
   ]
  },
  {
   "cell_type": "markdown",
   "id": "0ce21eb9",
   "metadata": {},
   "source": [
    "#### Clean Up Feature Names"
   ]
  },
  {
   "cell_type": "code",
   "execution_count": 7,
   "id": "549c80f9",
   "metadata": {},
   "outputs": [],
   "source": [
    "data['drivetrain'].replace({'all wheel drive' : 'AWD', \n",
    "                                 'four wheel drive' : '4WD', \n",
    "                                 'front wheel drive' : 'FWD', \n",
    "                                 'rear wheel drive' : 'RWD'}, \n",
    "                          inplace=True)\n",
    "\n",
    "data['transmission'].replace({'AUTOMATED_MANUAL' : 'automated_manual', \n",
    "                                   'AUTOMATIC' : 'automatic', \n",
    "                                   'DIRECT_DRIVE' : 'direct_drive',\n",
    "                                   'MANUAL' : 'manual',\n",
    "                                   'UNKNOWN' : 'unknown_transmission',}, \n",
    "                            inplace=True)\n",
    "\n",
    "data['fuel_type'].replace({'natural gas' : 'natural_gas'}, inplace=True)\n"
   ]
  },
  {
   "cell_type": "markdown",
   "id": "a66d22a3",
   "metadata": {},
   "source": [
    "#### Visualize Correlation Matrix"
   ]
  },
  {
   "cell_type": "code",
   "execution_count": 8,
   "id": "ceb81d03",
   "metadata": {},
   "outputs": [
    {
     "data": {
      "image/png": "[encoded data removed]",
      "text/plain": [
       "<Figure size 720x720 with 2 Axes>"
      ]
     },
     "metadata": {
      "needs_background": "light"
     },
     "output_type": "display_data"
    }
   ],
   "source": [
    "plt.figure(figsize=(10, 10))\n",
    "plt.title('Correlation Matrix\\n')\n",
    "sns.heatmap(data.corr(), annot=True, cmap=\"Blues\", xticklabels=True, yticklabels=True, square=True)\n",
    "\n",
    "plt.show()"
   ]
  },
  {
   "cell_type": "markdown",
   "id": "02e26606",
   "metadata": {},
   "source": [
    "#### Make Dataset Sparse"
   ]
  },
  {
   "cell_type": "code",
   "execution_count": 9,
   "id": "b4836324",
   "metadata": {},
   "outputs": [],
   "source": [
    "# use pandas get_dummies and then merge them to the base table\n",
    "for x in categorical_features:\n",
    "    sparse_data = pd.DataFrame(pd.get_dummies(data[x], prefix='', prefix_sep=''))\n",
    "    data = data.join(sparse_data)\n",
    "    \n",
    "# Remove the unnecessary features\n",
    "data.drop(columns=data.select_dtypes(include='object'), inplace=True)\n",
    "data.drop(columns=['model_year'], inplace=True)"
   ]
  },
  {
   "cell_type": "markdown",
   "id": "0a6fca1d",
   "metadata": {},
   "source": [
    "#### Split Dataset into Training & Testing Datasets"
   ]
  },
  {
   "cell_type": "code",
   "execution_count": 10,
   "id": "54aa9439",
   "metadata": {},
   "outputs": [
    {
     "data": {
      "text/html": [
       "<div>\n",
       "<style scoped>\n",
       "    .dataframe tbody tr th:only-of-type {\n",
       "        vertical-align: middle;\n",
       "    }\n",
       "\n",
       "    .dataframe tbody tr th {\n",
       "        vertical-align: top;\n",
       "    }\n",
       "\n",
       "    .dataframe thead th {\n",
       "        text-align: right;\n",
       "    }\n",
       "</style>\n",
       "<table border=\"1\" class=\"dataframe\">\n",
       "  <thead>\n",
       "    <tr style=\"text-align: right;\">\n",
       "      <th></th>\n",
       "      <th>hp</th>\n",
       "      <th>cylinders</th>\n",
       "      <th>num_of_doors</th>\n",
       "      <th>higway_fuel_econ</th>\n",
       "      <th>city_fuel_econ</th>\n",
       "      <th>Popularity</th>\n",
       "      <th>target</th>\n",
       "      <th>1990</th>\n",
       "      <th>1991</th>\n",
       "      <th>1992</th>\n",
       "      <th>...</th>\n",
       "      <th>Convertible</th>\n",
       "      <th>Convertible SUV</th>\n",
       "      <th>Coupe</th>\n",
       "      <th>Crew Cab Pickup</th>\n",
       "      <th>Extended Cab Pickup</th>\n",
       "      <th>Passenger Minivan</th>\n",
       "      <th>Passenger Van</th>\n",
       "      <th>Regular Cab Pickup</th>\n",
       "      <th>Sedan</th>\n",
       "      <th>Wagon</th>\n",
       "    </tr>\n",
       "  </thead>\n",
       "  <tbody>\n",
       "    <tr>\n",
       "      <th>7024</th>\n",
       "      <td>265.0</td>\n",
       "      <td>6.0</td>\n",
       "      <td>2.0</td>\n",
       "      <td>22</td>\n",
       "      <td>17</td>\n",
       "      <td>2009</td>\n",
       "      <td>44540</td>\n",
       "      <td>0</td>\n",
       "      <td>0</td>\n",
       "      <td>0</td>\n",
       "      <td>...</td>\n",
       "      <td>0</td>\n",
       "      <td>1</td>\n",
       "      <td>0</td>\n",
       "      <td>0</td>\n",
       "      <td>0</td>\n",
       "      <td>0</td>\n",
       "      <td>0</td>\n",
       "      <td>0</td>\n",
       "      <td>0</td>\n",
       "      <td>0</td>\n",
       "    </tr>\n",
       "    <tr>\n",
       "      <th>7585</th>\n",
       "      <td>116.0</td>\n",
       "      <td>4.0</td>\n",
       "      <td>2.0</td>\n",
       "      <td>20</td>\n",
       "      <td>17</td>\n",
       "      <td>2031</td>\n",
       "      <td>2409</td>\n",
       "      <td>0</td>\n",
       "      <td>0</td>\n",
       "      <td>0</td>\n",
       "      <td>...</td>\n",
       "      <td>0</td>\n",
       "      <td>0</td>\n",
       "      <td>0</td>\n",
       "      <td>0</td>\n",
       "      <td>0</td>\n",
       "      <td>0</td>\n",
       "      <td>0</td>\n",
       "      <td>1</td>\n",
       "      <td>0</td>\n",
       "      <td>0</td>\n",
       "    </tr>\n",
       "    <tr>\n",
       "      <th>10400</th>\n",
       "      <td>172.0</td>\n",
       "      <td>6.0</td>\n",
       "      <td>2.0</td>\n",
       "      <td>24</td>\n",
       "      <td>17</td>\n",
       "      <td>1439</td>\n",
       "      <td>21270</td>\n",
       "      <td>0</td>\n",
       "      <td>0</td>\n",
       "      <td>0</td>\n",
       "      <td>...</td>\n",
       "      <td>0</td>\n",
       "      <td>0</td>\n",
       "      <td>0</td>\n",
       "      <td>0</td>\n",
       "      <td>0</td>\n",
       "      <td>0</td>\n",
       "      <td>0</td>\n",
       "      <td>0</td>\n",
       "      <td>0</td>\n",
       "      <td>0</td>\n",
       "    </tr>\n",
       "    <tr>\n",
       "      <th>1889</th>\n",
       "      <td>210.0</td>\n",
       "      <td>4.0</td>\n",
       "      <td>2.0</td>\n",
       "      <td>30</td>\n",
       "      <td>24</td>\n",
       "      <td>873</td>\n",
       "      <td>31625</td>\n",
       "      <td>0</td>\n",
       "      <td>0</td>\n",
       "      <td>0</td>\n",
       "      <td>...</td>\n",
       "      <td>0</td>\n",
       "      <td>0</td>\n",
       "      <td>0</td>\n",
       "      <td>0</td>\n",
       "      <td>0</td>\n",
       "      <td>0</td>\n",
       "      <td>0</td>\n",
       "      <td>0</td>\n",
       "      <td>0</td>\n",
       "      <td>0</td>\n",
       "    </tr>\n",
       "    <tr>\n",
       "      <th>9098</th>\n",
       "      <td>130.0</td>\n",
       "      <td>4.0</td>\n",
       "      <td>4.0</td>\n",
       "      <td>38</td>\n",
       "      <td>29</td>\n",
       "      <td>2009</td>\n",
       "      <td>17760</td>\n",
       "      <td>0</td>\n",
       "      <td>0</td>\n",
       "      <td>0</td>\n",
       "      <td>...</td>\n",
       "      <td>0</td>\n",
       "      <td>0</td>\n",
       "      <td>0</td>\n",
       "      <td>0</td>\n",
       "      <td>0</td>\n",
       "      <td>0</td>\n",
       "      <td>0</td>\n",
       "      <td>0</td>\n",
       "      <td>1</td>\n",
       "      <td>0</td>\n",
       "    </tr>\n",
       "  </tbody>\n",
       "</table>\n",
       "<p>5 rows × 107 columns</p>\n",
       "</div>"
      ],
      "text/plain": [
       "          hp  cylinders  num_of_doors  higway_fuel_econ  city_fuel_econ  \\\n",
       "7024   265.0        6.0           2.0                22              17   \n",
       "7585   116.0        4.0           2.0                20              17   \n",
       "10400  172.0        6.0           2.0                24              17   \n",
       "1889   210.0        4.0           2.0                30              24   \n",
       "9098   130.0        4.0           4.0                38              29   \n",
       "\n",
       "       Popularity  target  1990  1991  1992  ...  Convertible  \\\n",
       "7024         2009   44540     0     0     0  ...            0   \n",
       "7585         2031    2409     0     0     0  ...            0   \n",
       "10400        1439   21270     0     0     0  ...            0   \n",
       "1889          873   31625     0     0     0  ...            0   \n",
       "9098         2009   17760     0     0     0  ...            0   \n",
       "\n",
       "       Convertible SUV  Coupe  Crew Cab Pickup  Extended Cab Pickup  \\\n",
       "7024                 1      0                0                    0   \n",
       "7585                 0      0                0                    0   \n",
       "10400                0      0                0                    0   \n",
       "1889                 0      0                0                    0   \n",
       "9098                 0      0                0                    0   \n",
       "\n",
       "       Passenger Minivan  Passenger Van  Regular Cab Pickup  Sedan  Wagon  \n",
       "7024                   0              0                   0      0      0  \n",
       "7585                   0              0                   1      0      0  \n",
       "10400                  0              0                   0      0      0  \n",
       "1889                   0              0                   0      0      0  \n",
       "9098                   0              0                   0      1      0  \n",
       "\n",
       "[5 rows x 107 columns]"
      ]
     },
     "execution_count": 10,
     "metadata": {},
     "output_type": "execute_result"
    }
   ],
   "source": [
    "training_data = data.sample(frac=0.75, random_state=42)\n",
    "testing_data = data.drop(training_data.index)\n",
    "training_data.head()"
   ]
  },
  {
   "cell_type": "markdown",
   "id": "6a610877",
   "metadata": {},
   "source": [
    "#### Display Descriptive Statistics About Prepared Dataset"
   ]
  },
  {
   "cell_type": "code",
   "execution_count": 11,
   "id": "4566a291",
   "metadata": {},
   "outputs": [
    {
     "data": {
      "text/html": [
       "<div>\n",
       "<style scoped>\n",
       "    .dataframe tbody tr th:only-of-type {\n",
       "        vertical-align: middle;\n",
       "    }\n",
       "\n",
       "    .dataframe tbody tr th {\n",
       "        vertical-align: top;\n",
       "    }\n",
       "\n",
       "    .dataframe thead th {\n",
       "        text-align: right;\n",
       "    }\n",
       "</style>\n",
       "<table border=\"1\" class=\"dataframe\">\n",
       "  <thead>\n",
       "    <tr style=\"text-align: right;\">\n",
       "      <th></th>\n",
       "      <th>count</th>\n",
       "      <th>mean</th>\n",
       "      <th>std</th>\n",
       "      <th>min</th>\n",
       "      <th>25%</th>\n",
       "      <th>50%</th>\n",
       "      <th>75%</th>\n",
       "      <th>max</th>\n",
       "    </tr>\n",
       "  </thead>\n",
       "  <tbody>\n",
       "    <tr>\n",
       "      <th>hp</th>\n",
       "      <td>7154.0</td>\n",
       "      <td>228.745457</td>\n",
       "      <td>77.409330</td>\n",
       "      <td>66.0</td>\n",
       "      <td>170.0</td>\n",
       "      <td>210.5</td>\n",
       "      <td>285.0</td>\n",
       "      <td>485.0</td>\n",
       "    </tr>\n",
       "    <tr>\n",
       "      <th>cylinders</th>\n",
       "      <td>7154.0</td>\n",
       "      <td>5.366508</td>\n",
       "      <td>1.385704</td>\n",
       "      <td>3.0</td>\n",
       "      <td>4.0</td>\n",
       "      <td>6.0</td>\n",
       "      <td>6.0</td>\n",
       "      <td>8.0</td>\n",
       "    </tr>\n",
       "    <tr>\n",
       "      <th>num_of_doors</th>\n",
       "      <td>7154.0</td>\n",
       "      <td>3.488538</td>\n",
       "      <td>0.857004</td>\n",
       "      <td>2.0</td>\n",
       "      <td>3.0</td>\n",
       "      <td>4.0</td>\n",
       "      <td>4.0</td>\n",
       "      <td>4.0</td>\n",
       "    </tr>\n",
       "    <tr>\n",
       "      <th>higway_fuel_econ</th>\n",
       "      <td>7154.0</td>\n",
       "      <td>26.429969</td>\n",
       "      <td>5.648215</td>\n",
       "      <td>12.0</td>\n",
       "      <td>23.0</td>\n",
       "      <td>26.0</td>\n",
       "      <td>30.0</td>\n",
       "      <td>42.0</td>\n",
       "    </tr>\n",
       "    <tr>\n",
       "      <th>city_fuel_econ</th>\n",
       "      <td>7154.0</td>\n",
       "      <td>19.252306</td>\n",
       "      <td>4.233265</td>\n",
       "      <td>10.0</td>\n",
       "      <td>16.0</td>\n",
       "      <td>19.0</td>\n",
       "      <td>22.0</td>\n",
       "      <td>30.0</td>\n",
       "    </tr>\n",
       "    <tr>\n",
       "      <th>...</th>\n",
       "      <td>...</td>\n",
       "      <td>...</td>\n",
       "      <td>...</td>\n",
       "      <td>...</td>\n",
       "      <td>...</td>\n",
       "      <td>...</td>\n",
       "      <td>...</td>\n",
       "      <td>...</td>\n",
       "    </tr>\n",
       "    <tr>\n",
       "      <th>Passenger Minivan</th>\n",
       "      <td>7154.0</td>\n",
       "      <td>0.037462</td>\n",
       "      <td>0.189903</td>\n",
       "      <td>0.0</td>\n",
       "      <td>0.0</td>\n",
       "      <td>0.0</td>\n",
       "      <td>0.0</td>\n",
       "      <td>1.0</td>\n",
       "    </tr>\n",
       "    <tr>\n",
       "      <th>Passenger Van</th>\n",
       "      <td>7154.0</td>\n",
       "      <td>0.005731</td>\n",
       "      <td>0.075492</td>\n",
       "      <td>0.0</td>\n",
       "      <td>0.0</td>\n",
       "      <td>0.0</td>\n",
       "      <td>0.0</td>\n",
       "      <td>1.0</td>\n",
       "    </tr>\n",
       "    <tr>\n",
       "      <th>Regular Cab Pickup</th>\n",
       "      <td>7154.0</td>\n",
       "      <td>0.035085</td>\n",
       "      <td>0.184008</td>\n",
       "      <td>0.0</td>\n",
       "      <td>0.0</td>\n",
       "      <td>0.0</td>\n",
       "      <td>0.0</td>\n",
       "      <td>1.0</td>\n",
       "    </tr>\n",
       "    <tr>\n",
       "      <th>Sedan</th>\n",
       "      <td>7154.0</td>\n",
       "      <td>0.264467</td>\n",
       "      <td>0.441080</td>\n",
       "      <td>0.0</td>\n",
       "      <td>0.0</td>\n",
       "      <td>0.0</td>\n",
       "      <td>1.0</td>\n",
       "      <td>1.0</td>\n",
       "    </tr>\n",
       "    <tr>\n",
       "      <th>Wagon</th>\n",
       "      <td>7154.0</td>\n",
       "      <td>0.051020</td>\n",
       "      <td>0.220055</td>\n",
       "      <td>0.0</td>\n",
       "      <td>0.0</td>\n",
       "      <td>0.0</td>\n",
       "      <td>0.0</td>\n",
       "      <td>1.0</td>\n",
       "    </tr>\n",
       "  </tbody>\n",
       "</table>\n",
       "<p>107 rows × 8 columns</p>\n",
       "</div>"
      ],
      "text/plain": [
       "                     count        mean        std   min    25%    50%    75%  \\\n",
       "hp                  7154.0  228.745457  77.409330  66.0  170.0  210.5  285.0   \n",
       "cylinders           7154.0    5.366508   1.385704   3.0    4.0    6.0    6.0   \n",
       "num_of_doors        7154.0    3.488538   0.857004   2.0    3.0    4.0    4.0   \n",
       "higway_fuel_econ    7154.0   26.429969   5.648215  12.0   23.0   26.0   30.0   \n",
       "city_fuel_econ      7154.0   19.252306   4.233265  10.0   16.0   19.0   22.0   \n",
       "...                    ...         ...        ...   ...    ...    ...    ...   \n",
       "Passenger Minivan   7154.0    0.037462   0.189903   0.0    0.0    0.0    0.0   \n",
       "Passenger Van       7154.0    0.005731   0.075492   0.0    0.0    0.0    0.0   \n",
       "Regular Cab Pickup  7154.0    0.035085   0.184008   0.0    0.0    0.0    0.0   \n",
       "Sedan               7154.0    0.264467   0.441080   0.0    0.0    0.0    1.0   \n",
       "Wagon               7154.0    0.051020   0.220055   0.0    0.0    0.0    0.0   \n",
       "\n",
       "                      max  \n",
       "hp                  485.0  \n",
       "cylinders             8.0  \n",
       "num_of_doors          4.0  \n",
       "higway_fuel_econ     42.0  \n",
       "city_fuel_econ       30.0  \n",
       "...                   ...  \n",
       "Passenger Minivan     1.0  \n",
       "Passenger Van         1.0  \n",
       "Regular Cab Pickup    1.0  \n",
       "Sedan                 1.0  \n",
       "Wagon                 1.0  \n",
       "\n",
       "[107 rows x 8 columns]"
      ]
     },
     "execution_count": 11,
     "metadata": {},
     "output_type": "execute_result"
    }
   ],
   "source": [
    "training_data.describe().transpose()"
   ]
  },
  {
   "cell_type": "markdown",
   "id": "4b111ccc",
   "metadata": {},
   "source": [
    "#### Split Both Training & Testing Datasets into Features & Labels"
   ]
  },
  {
   "cell_type": "code",
   "execution_count": 12,
   "id": "c966df89",
   "metadata": {},
   "outputs": [],
   "source": [
    "train_features = training_data.copy()\n",
    "test_features = testing_data.copy()\n",
    "\n",
    "train_labels = training_data.pop('target')\n",
    "test_labels = testing_data.pop('target')"
   ]
  },
  {
   "cell_type": "markdown",
   "id": "0862b584",
   "metadata": {},
   "source": [
    "#### Display Descriptive Statistics About Prepared Dataset"
   ]
  },
  {
   "cell_type": "code",
   "execution_count": 13,
   "id": "2ee353d8",
   "metadata": {},
   "outputs": [
    {
     "data": {
      "text/html": [
       "<div>\n",
       "<style scoped>\n",
       "    .dataframe tbody tr th:only-of-type {\n",
       "        vertical-align: middle;\n",
       "    }\n",
       "\n",
       "    .dataframe tbody tr th {\n",
       "        vertical-align: top;\n",
       "    }\n",
       "\n",
       "    .dataframe thead th {\n",
       "        text-align: right;\n",
       "    }\n",
       "</style>\n",
       "<table border=\"1\" class=\"dataframe\">\n",
       "  <thead>\n",
       "    <tr style=\"text-align: right;\">\n",
       "      <th></th>\n",
       "      <th>mean</th>\n",
       "      <th>std</th>\n",
       "    </tr>\n",
       "  </thead>\n",
       "  <tbody>\n",
       "    <tr>\n",
       "      <th>hp</th>\n",
       "      <td>228.745457</td>\n",
       "      <td>77.409330</td>\n",
       "    </tr>\n",
       "    <tr>\n",
       "      <th>cylinders</th>\n",
       "      <td>5.366508</td>\n",
       "      <td>1.385704</td>\n",
       "    </tr>\n",
       "    <tr>\n",
       "      <th>num_of_doors</th>\n",
       "      <td>3.488538</td>\n",
       "      <td>0.857004</td>\n",
       "    </tr>\n",
       "    <tr>\n",
       "      <th>higway_fuel_econ</th>\n",
       "      <td>26.429969</td>\n",
       "      <td>5.648215</td>\n",
       "    </tr>\n",
       "    <tr>\n",
       "      <th>city_fuel_econ</th>\n",
       "      <td>19.252306</td>\n",
       "      <td>4.233265</td>\n",
       "    </tr>\n",
       "    <tr>\n",
       "      <th>...</th>\n",
       "      <td>...</td>\n",
       "      <td>...</td>\n",
       "    </tr>\n",
       "    <tr>\n",
       "      <th>Passenger Minivan</th>\n",
       "      <td>0.037462</td>\n",
       "      <td>0.189903</td>\n",
       "    </tr>\n",
       "    <tr>\n",
       "      <th>Passenger Van</th>\n",
       "      <td>0.005731</td>\n",
       "      <td>0.075492</td>\n",
       "    </tr>\n",
       "    <tr>\n",
       "      <th>Regular Cab Pickup</th>\n",
       "      <td>0.035085</td>\n",
       "      <td>0.184008</td>\n",
       "    </tr>\n",
       "    <tr>\n",
       "      <th>Sedan</th>\n",
       "      <td>0.264467</td>\n",
       "      <td>0.441080</td>\n",
       "    </tr>\n",
       "    <tr>\n",
       "      <th>Wagon</th>\n",
       "      <td>0.051020</td>\n",
       "      <td>0.220055</td>\n",
       "    </tr>\n",
       "  </tbody>\n",
       "</table>\n",
       "<p>107 rows × 2 columns</p>\n",
       "</div>"
      ],
      "text/plain": [
       "                          mean        std\n",
       "hp                  228.745457  77.409330\n",
       "cylinders             5.366508   1.385704\n",
       "num_of_doors          3.488538   0.857004\n",
       "higway_fuel_econ     26.429969   5.648215\n",
       "city_fuel_econ       19.252306   4.233265\n",
       "...                        ...        ...\n",
       "Passenger Minivan     0.037462   0.189903\n",
       "Passenger Van         0.005731   0.075492\n",
       "Regular Cab Pickup    0.035085   0.184008\n",
       "Sedan                 0.264467   0.441080\n",
       "Wagon                 0.051020   0.220055\n",
       "\n",
       "[107 rows x 2 columns]"
      ]
     },
     "execution_count": 13,
     "metadata": {},
     "output_type": "execute_result"
    }
   ],
   "source": [
    "train_features.describe().transpose()[['mean', 'std']]"
   ]
  },
  {
   "cell_type": "markdown",
   "id": "aae575b8",
   "metadata": {},
   "source": [
    "#### Basic Statistics on Dataset Labels"
   ]
  },
  {
   "cell_type": "code",
   "execution_count": 14,
   "id": "d86367a7",
   "metadata": {},
   "outputs": [
    {
     "name": "stdout",
     "output_type": "stream",
     "text": [
      "The mean of the training dataset is 28676.11.\n"
     ]
    }
   ],
   "source": [
    "print(\"The mean of the training dataset is {}.\".format(round(train_labels.describe()['mean'],2)))"
   ]
  },
  {
   "cell_type": "markdown",
   "id": "f8f11334",
   "metadata": {},
   "source": [
    "#### Normalize Dataset"
   ]
  },
  {
   "cell_type": "code",
   "execution_count": 15,
   "id": "0bfd4df7",
   "metadata": {},
   "outputs": [
    {
     "name": "stderr",
     "output_type": "stream",
     "text": [
      "2022-09-29 21:15:24.278646: I tensorflow/core/platform/cpu_feature_guard.cc:193] This TensorFlow binary is optimized with oneAPI Deep Neural Network Library (oneDNN) to use the following CPU instructions in performance-critical operations:  AVX2 FMA\n",
      "To enable them in other operations, rebuild TensorFlow with the appropriate compiler flags.\n"
     ]
    },
    {
     "name": "stdout",
     "output_type": "stream",
     "text": [
      "[[2.28745468e+02 5.36650896e+00 3.48853707e+00 2.64299717e+01\n",
      "  1.92523003e+01 1.18630664e+03 2.86761074e+04 1.20212473e-02\n",
      "  1.46771027e-02 1.73329581e-02 2.16661952e-02 1.50964549e-02\n",
      "  1.18814623e-02 1.14621213e-02 1.45373242e-02 1.32792825e-02\n",
      "  9.92451794e-03 1.17416820e-02 1.56555865e-02 1.74727496e-02\n",
      "  2.02683825e-02 1.99888311e-02 1.80318691e-02 1.87307708e-02\n",
      "  3.49454917e-02 3.24294157e-02 3.21498439e-02 2.61392277e-02\n",
      "  2.53005251e-02 3.32680866e-02 2.85155084e-02 4.40313071e-02\n",
      "  1.71931773e-01 1.73609227e-01 1.33911043e-01 2.71176919e-02\n",
      "  5.59127773e-04 2.66983397e-02 2.15264130e-02 2.02683825e-02\n",
      "  3.21498327e-02 1.12244859e-01 1.99888144e-02 6.40201196e-02\n",
      "  4.47302265e-03 5.49342968e-02 4.19345772e-04 1.53760077e-03\n",
      "  3.50852683e-02 2.92144269e-02 3.52250412e-02 2.23651212e-02\n",
      "  9.64495447e-03 1.69136114e-02 1.59351435e-02 2.23650993e-03\n",
      "  1.39781914e-04 4.08163331e-02 2.66983528e-02 2.09672786e-02\n",
      "  5.45149483e-02 1.35588469e-02 8.94603692e-03 1.87307782e-02\n",
      "  3.77411139e-03 1.20212501e-02 5.17193042e-03 2.57198773e-02\n",
      "  3.63433138e-02 7.10092261e-02 8.06542262e-02 2.83757281e-02\n",
      "  1.10427719e-02 2.51607527e-03 4.19345830e-04 6.80738240e-02\n",
      "  2.79563857e-04 1.43276513e-01 1.15320116e-01 6.59071207e-01\n",
      "  3.84400450e-02 7.04221249e-01 2.55242050e-01 2.09672865e-03\n",
      "  1.21051125e-01 1.97092623e-01 4.27593082e-01 2.54263401e-01\n",
      "  4.04389083e-01 2.07156777e-01 3.88454109e-01 4.50097919e-02\n",
      "  1.18814679e-02 5.31171449e-02 2.28263929e-01 4.05367743e-03\n",
      "  7.12887710e-03 5.39558269e-02 3.21498397e-03 8.23315307e-02\n",
      "  6.22029752e-02 5.50740771e-02 3.74615453e-02 5.73105831e-03\n",
      "  3.50852534e-02 2.64467508e-01 5.10203727e-02]]\n"
     ]
    }
   ],
   "source": [
    "normalizer = tf.keras.layers.Normalization(axis=-1)\n",
    "normalizer.adapt(np.array(train_features))\n",
    "print(normalizer.mean.numpy())"
   ]
  },
  {
   "cell_type": "markdown",
   "id": "8f5554ff",
   "metadata": {},
   "source": [
    "#### Display Before & After of Normalization"
   ]
  },
  {
   "cell_type": "code",
   "execution_count": 16,
   "id": "fc46e61b",
   "metadata": {},
   "outputs": [
    {
     "name": "stdout",
     "output_type": "stream",
     "text": [
      "first example: [[  265.     6.     2.    22.    17.  2009. 44540.     0.     0.     0.\n",
      "      0.     0.     0.     0.     0.     0.     0.     0.     0.     0.\n",
      "      0.     0.     0.     0.     0.     0.     0.     0.     0.     1.\n",
      "      0.     0.     0.     0.     0.     0.     0.     0.     0.     0.\n",
      "      0.     0.     0.     0.     0.     0.     0.     0.     0.     0.\n",
      "      0.     0.     0.     0.     0.     0.     0.     0.     0.     0.\n",
      "      1.     0.     0.     0.     0.     0.     0.     0.     0.     0.\n",
      "      0.     0.     0.     0.     0.     0.     0.     1.     0.     0.\n",
      "      0.     1.     0.     0.     0.     1.     0.     0.     0.     0.\n",
      "      1.     0.     0.     0.     0.     0.     0.     0.     1.     0.\n",
      "      0.     0.     0.     0.     0.     0.     0.]]\n",
      "\n",
      "Normalized: [[ 0.47  0.46 -1.74 -0.78 -0.53  0.98  0.99 -0.11 -0.12 -0.13 -0.15 -0.12\n",
      "  -0.11 -0.11 -0.12 -0.12 -0.1  -0.11 -0.13 -0.13 -0.14 -0.14 -0.14 -0.14\n",
      "  -0.19 -0.18 -0.18 -0.16 -0.16  5.39 -0.17 -0.21 -0.46 -0.46 -0.39 -0.17\n",
      "  -0.02 -0.17 -0.15 -0.14 -0.18 -0.36 -0.14 -0.26 -0.07 -0.24 -0.02 -0.04\n",
      "  -0.19 -0.17 -0.19 -0.15 -0.1  -0.13 -0.13 -0.05 -0.01 -0.21 -0.17 -0.15\n",
      "   4.16 -0.12 -0.1  -0.14 -0.06 -0.11 -0.07 -0.16 -0.19 -0.28 -0.3  -0.17\n",
      "  -0.11 -0.05 -0.02 -0.27 -0.02  2.45 -0.36 -1.39 -0.2   0.65 -0.59 -0.05\n",
      "  -0.37  2.02 -0.86 -0.58 -0.82 -0.51  1.25 -0.22 -0.11 -0.24 -0.54 -0.06\n",
      "  -0.08 -0.24 17.61 -0.3  -0.26 -0.24 -0.2  -0.08 -0.19 -0.6  -0.23]]\n"
     ]
    }
   ],
   "source": [
    "first = np.array(train_features[:1])\n",
    "\n",
    "with np.printoptions(precision=2, suppress=True):\n",
    "    print('first example:', first)\n",
    "    print()\n",
    "    print('Normalized:', normalizer(first).numpy())"
   ]
  },
  {
   "cell_type": "markdown",
   "id": "73e4c80d",
   "metadata": {},
   "source": [
    "#### Define Metrics"
   ]
  },
  {
   "cell_type": "code",
   "execution_count": 17,
   "id": "171c28f5",
   "metadata": {},
   "outputs": [],
   "source": [
    "METRICS = [\n",
    "    tf.keras.metrics.RootMeanSquaredError(name=\"rmse\", dtype=None),\n",
    "    tf.keras.metrics.MeanAbsoluteError(name=\"mae\", dtype=None)\n",
    "]"
   ]
  },
  {
   "cell_type": "markdown",
   "id": "2e1644c0",
   "metadata": {},
   "source": [
    "#### Define Function to Build & Compile Model"
   ]
  },
  {
   "cell_type": "code",
   "execution_count": 18,
   "id": "2cde1698",
   "metadata": {},
   "outputs": [],
   "source": [
    "def build_and_compile_model(norm):\n",
    "    model = keras.Sequential([\n",
    "        norm,\n",
    "        layers.Dense(128, activation='relu', kernel_regularizer=keras.regularizers.l1_l2(l1=0.1, l2=0.03)),\n",
    "        layers.Dense(128, activation='relu', kernel_regularizer=keras.regularizers.l1_l2(l1=0.1, l2=0.03)),\n",
    "        layers.Dense(1),]\n",
    "    )\n",
    "    \n",
    "    model.compile(loss=tf.keras.losses.MeanAbsoluteError(), \n",
    "                  optimizer=tf.keras.optimizers.Adam(0.0002), \n",
    "                  metrics = METRICS)\n",
    "    \n",
    "    return model"
   ]
  },
  {
   "cell_type": "markdown",
   "id": "b37df051",
   "metadata": {},
   "source": [
    "#### Define Function to Display Training vs Validation Loss"
   ]
  },
  {
   "cell_type": "code",
   "execution_count": 19,
   "id": "f0e33b31",
   "metadata": {},
   "outputs": [],
   "source": [
    "def plot_loss(history, left_start, range_upper_limit):\n",
    "    plt.plot(history.history['mae'], label=['mae'])\n",
    "    plt.plot(history.history['val_mae'], label=['val_mae'])\n",
    "    plt.xlabel('Epoch')\n",
    "    plt.ylim([0, range_upper_limit])\n",
    "    plt.xlim(left=left_start)\n",
    "    plt.ylabel('Error (in the MSRP)')\n",
    "    plt.legend()\n",
    "    plt.grid(True)\n",
    "    plt.title('Training vs Validation Loss')\n",
    "    plt.show()"
   ]
  },
  {
   "cell_type": "markdown",
   "id": "89c7c5bf",
   "metadata": {},
   "source": [
    "#### Build & Compile Model, Then Display Input Summary"
   ]
  },
  {
   "cell_type": "code",
   "execution_count": 20,
   "id": "87276b4e",
   "metadata": {},
   "outputs": [
    {
     "name": "stdout",
     "output_type": "stream",
     "text": [
      "Model: \"sequential\"\n",
      "_________________________________________________________________\n",
      " Layer (type)                Output Shape              Param #   \n",
      "=================================================================\n",
      " normalization (Normalizatio  (None, 107)              215       \n",
      " n)                                                              \n",
      "                                                                 \n",
      " dense (Dense)               (None, 128)               13824     \n",
      "                                                                 \n",
      " dense_1 (Dense)             (None, 128)               16512     \n",
      "                                                                 \n",
      " dense_2 (Dense)             (None, 1)                 129       \n",
      "                                                                 \n",
      "=================================================================\n",
      "Total params: 30,680\n",
      "Trainable params: 30,465\n",
      "Non-trainable params: 215\n",
      "_________________________________________________________________\n"
     ]
    }
   ],
   "source": [
    "model = build_and_compile_model(normalizer)\n",
    "\n",
    "model.summary()"
   ]
  },
  {
   "cell_type": "markdown",
   "id": "5b7e7ab5",
   "metadata": {},
   "source": [
    "#### Define Early Stopping Function"
   ]
  },
  {
   "cell_type": "code",
   "execution_count": 21,
   "id": "c4ab2dfb",
   "metadata": {},
   "outputs": [],
   "source": [
    "early_stopping_callback = tf.keras.callbacks.EarlyStopping(monitor='val_mae', patience=9)"
   ]
  },
  {
   "cell_type": "markdown",
   "id": "a3b876aa",
   "metadata": {},
   "source": [
    "#### Fit Model & Assign to Variable"
   ]
  },
  {
   "cell_type": "code",
   "execution_count": 22,
   "id": "36cec912",
   "metadata": {
    "scrolled": true
   },
   "outputs": [
    {
     "name": "stdout",
     "output_type": "stream",
     "text": [
      "Epoch 1/1000\n",
      "168/168 - 1s - loss: 28822.9688 - rmse: 32775.4922 - mae: 28630.2715 - val_loss: 28958.7520 - val_rmse: 32933.0312 - val_mae: 28810.8418 - 1s/epoch - 6ms/step\n",
      "Epoch 2/1000\n",
      "168/168 - 0s - loss: 28741.2812 - rmse: 32775.0039 - mae: 28629.7148 - val_loss: 28888.9824 - val_rmse: 32932.6523 - val_mae: 28810.4180 - 435ms/epoch - 3ms/step\n",
      "Epoch 3/1000\n",
      "168/168 - 0s - loss: 28682.4824 - rmse: 32774.4492 - mae: 28629.0703 - val_loss: 28841.0195 - val_rmse: 32931.8711 - val_mae: 28809.5273 - 377ms/epoch - 2ms/step\n",
      "Epoch 4/1000\n",
      "168/168 - 0s - loss: 28645.1387 - rmse: 32773.5703 - mae: 28628.0684 - val_loss: 28814.4707 - val_rmse: 32930.9023 - val_mae: 28808.4258 - 406ms/epoch - 2ms/step\n",
      "Epoch 5/1000\n",
      "168/168 - 0s - loss: 28628.6250 - rmse: 32772.4531 - mae: 28626.8066 - val_loss: 28807.0566 - val_rmse: 32929.6055 - val_mae: 28806.9395 - 361ms/epoch - 2ms/step\n",
      "Epoch 6/1000\n",
      "168/168 - 0s - loss: 28625.1543 - rmse: 32770.9414 - mae: 28625.0820 - val_loss: 28805.0566 - val_rmse: 32927.8828 - val_mae: 28804.9688 - 311ms/epoch - 2ms/step\n",
      "Epoch 7/1000\n",
      "168/168 - 0s - loss: 28622.9746 - rmse: 32769.0508 - mae: 28622.9180 - val_loss: 28802.6816 - val_rmse: 32925.8086 - val_mae: 28802.5938 - 374ms/epoch - 2ms/step\n",
      "Epoch 8/1000\n",
      "168/168 - 0s - loss: 28620.4043 - rmse: 32766.7969 - mae: 28620.3262 - val_loss: 28799.9082 - val_rmse: 32923.3672 - val_mae: 28799.8125 - 380ms/epoch - 2ms/step\n",
      "Epoch 9/1000\n",
      "168/168 - 0s - loss: 28617.4160 - rmse: 32764.0996 - mae: 28617.2480 - val_loss: 28796.6172 - val_rmse: 32920.2695 - val_mae: 28796.2754 - 370ms/epoch - 2ms/step\n",
      "Epoch 10/1000\n",
      "168/168 - 0s - loss: 28613.3418 - rmse: 32759.9395 - mae: 28612.4492 - val_loss: 28791.1855 - val_rmse: 32914.2031 - val_mae: 28789.3418 - 344ms/epoch - 2ms/step\n",
      "Epoch 11/1000\n",
      "168/168 - 0s - loss: 28604.1699 - rmse: 32748.9785 - mae: 28599.8965 - val_loss: 28775.9688 - val_rmse: 32895.6445 - val_mae: 28768.0449 - 353ms/epoch - 2ms/step\n",
      "Epoch 12/1000\n",
      "168/168 - 0s - loss: 28576.1406 - rmse: 32715.7129 - mae: 28561.6621 - val_loss: 28730.6133 - val_rmse: 32843.9141 - val_mae: 28707.9590 - 337ms/epoch - 2ms/step\n",
      "Epoch 13/1000\n",
      "168/168 - 0s - loss: 28505.8926 - rmse: 32638.5586 - mae: 28472.5391 - val_loss: 28632.1289 - val_rmse: 32736.5977 - val_mae: 28586.6309 - 346ms/epoch - 2ms/step\n",
      "Epoch 14/1000\n",
      "168/168 - 0s - loss: 28372.2207 - rmse: 32497.2578 - mae: 28311.2734 - val_loss: 28459.2832 - val_rmse: 32555.3320 - val_mae: 28381.0254 - 326ms/epoch - 2ms/step\n",
      "Epoch 15/1000\n",
      "168/168 - 0s - loss: 28151.0410 - rmse: 32271.4531 - mae: 28053.0098 - val_loss: 28192.4961 - val_rmse: 32294.9336 - val_mae: 28074.1016 - 328ms/epoch - 2ms/step\n",
      "Epoch 16/1000\n",
      "168/168 - 0s - loss: 27832.7227 - rmse: 31960.4727 - mae: 27693.1543 - val_loss: 27832.8809 - val_rmse: 31947.1953 - val_mae: 27671.9961 - 315ms/epoch - 2ms/step\n",
      "Epoch 17/1000\n",
      "168/168 - 0s - loss: 27421.4238 - rmse: 31577.7988 - mae: 27238.3203 - val_loss: 27387.3809 - val_rmse: 31528.1191 - val_mae: 27182.4336 - 315ms/epoch - 2ms/step\n",
      "Epoch 18/1000\n",
      "168/168 - 0s - loss: 26928.2871 - rmse: 31088.4785 - mae: 26702.0137 - val_loss: 26864.3262 - val_rmse: 30953.7949 - val_mae: 26616.7266 - 314ms/epoch - 2ms/step\n",
      "Epoch 19/1000\n",
      "168/168 - 0s - loss: 26370.0449 - rmse: 30436.7871 - mae: 26100.8281 - val_loss: 26265.7891 - val_rmse: 30265.5781 - val_mae: 25974.9902 - 314ms/epoch - 2ms/step\n",
      "Epoch 20/1000\n",
      "168/168 - 0s - loss: 25724.4609 - rmse: 29684.3789 - mae: 25412.1328 - val_loss: 25575.6074 - val_rmse: 29449.4590 - val_mae: 25241.2461 - 333ms/epoch - 2ms/step\n",
      "Epoch 21/1000\n",
      "168/168 - 0s - loss: 24983.1641 - rmse: 28817.0098 - mae: 24627.0664 - val_loss: 24789.5410 - val_rmse: 28548.4551 - val_mae: 24411.4023 - 366ms/epoch - 2ms/step\n",
      "Epoch 22/1000\n",
      "168/168 - 0s - loss: 24131.7910 - rmse: 27834.7559 - mae: 23731.5449 - val_loss: 23887.2285 - val_rmse: 27484.0605 - val_mae: 23464.2988 - 354ms/epoch - 2ms/step\n",
      "Epoch 23/1000\n",
      "168/168 - 0s - loss: 23164.1191 - rmse: 26696.5566 - mae: 22718.8301 - val_loss: 22864.6348 - val_rmse: 26298.2402 - val_mae: 22396.6172 - 331ms/epoch - 2ms/step\n",
      "Epoch 24/1000\n",
      "168/168 - 0s - loss: 22068.2852 - rmse: 25419.3105 - mae: 21577.4297 - val_loss: 21699.9199 - val_rmse: 24949.4141 - val_mae: 21186.3984 - 346ms/epoch - 2ms/step\n",
      "Epoch 25/1000\n",
      "168/168 - 0s - loss: 20819.7910 - rmse: 23965.9258 - mae: 20282.9375 - val_loss: 20370.9688 - val_rmse: 23419.0605 - val_mae: 19811.0234 - 331ms/epoch - 2ms/step\n",
      "Epoch 26/1000\n",
      "168/168 - 0s - loss: 19377.3105 - rmse: 22308.9766 - mae: 18793.8359 - val_loss: 18817.0605 - val_rmse: 21583.0996 - val_mae: 18209.1914 - 339ms/epoch - 2ms/step\n",
      "Epoch 27/1000\n",
      "168/168 - 0s - loss: 17719.7852 - rmse: 20387.9863 - mae: 17087.6484 - val_loss: 17073.4082 - val_rmse: 19582.9727 - val_mae: 16416.6777 - 331ms/epoch - 2ms/step\n",
      "Epoch 28/1000\n",
      "168/168 - 0s - loss: 15858.1816 - rmse: 18245.1387 - mae: 15176.6846 - val_loss: 15105.5596 - val_rmse: 17330.4492 - val_mae: 14398.9980 - 353ms/epoch - 2ms/step\n",
      "Epoch 29/1000\n",
      "168/168 - 0s - loss: 13782.2988 - rmse: 15924.0469 - mae: 13050.5410 - val_loss: 12922.1191 - val_rmse: 14909.9785 - val_mae: 12165.0264 - 372ms/epoch - 2ms/step\n",
      "Epoch 30/1000\n",
      "168/168 - 0s - loss: 11529.2432 - rmse: 13455.7617 - mae: 10747.0605 - val_loss: 10611.0166 - val_rmse: 12377.8311 - val_mae: 9804.0225 - 323ms/epoch - 2ms/step\n",
      "Epoch 31/1000\n",
      "168/168 - 0s - loss: 9265.2734 - rmse: 10921.4082 - mae: 8434.7939 - val_loss: 8394.3135 - val_rmse: 9842.1934 - val_mae: 7541.2173 - 363ms/epoch - 2ms/step\n",
      "Epoch 32/1000\n",
      "168/168 - 0s - loss: 7295.3545 - rmse: 8590.0781 - mae: 6422.1064 - val_loss: 6598.8140 - val_rmse: 7710.1108 - val_mae: 5706.9956 - 349ms/epoch - 2ms/step\n",
      "Epoch 33/1000\n",
      "168/168 - 0s - loss: 5797.3696 - rmse: 6720.4487 - mae: 4889.4585 - val_loss: 5257.2095 - val_rmse: 6047.0425 - val_mae: 4334.5635 - 333ms/epoch - 2ms/step\n",
      "Epoch 34/1000\n",
      "168/168 - 0s - loss: 4687.7432 - rmse: 5254.2549 - mae: 3752.6128 - val_loss: 4293.9463 - val_rmse: 4794.3594 - val_mae: 3347.6038 - 378ms/epoch - 2ms/step\n",
      "Epoch 35/1000\n",
      "168/168 - 0s - loss: 3917.4519 - rmse: 4229.5254 - mae: 2962.0364 - val_loss: 3679.7834 - val_rmse: 3968.7275 - val_mae: 2717.3875 - 437ms/epoch - 3ms/step\n",
      "Epoch 36/1000\n",
      "168/168 - 1s - loss: 3427.9436 - rmse: 3563.8706 - mae: 2459.9673 - val_loss: 3300.4089 - val_rmse: 3458.6777 - val_mae: 2328.0566 - 502ms/epoch - 3ms/step\n",
      "Epoch 37/1000\n",
      "168/168 - 0s - loss: 3142.4119 - rmse: 3180.6724 - mae: 2167.6846 - val_loss: 3079.3762 - val_rmse: 3154.1968 - val_mae: 2102.9148 - 344ms/epoch - 2ms/step\n",
      "Epoch 38/1000\n",
      "168/168 - 0s - loss: 2971.5234 - rmse: 2936.6013 - mae: 1994.4563 - val_loss: 2927.9175 - val_rmse: 2934.8486 - val_mae: 1949.7173 - 350ms/epoch - 2ms/step\n",
      "Epoch 39/1000\n",
      "168/168 - 0s - loss: 2845.4700 - rmse: 2762.9150 - mae: 1867.2889 - val_loss: 2805.9541 - val_rmse: 2757.2385 - val_mae: 1827.2172 - 401ms/epoch - 2ms/step\n",
      "Epoch 40/1000\n",
      "168/168 - 0s - loss: 2742.3936 - rmse: 2616.6731 - mae: 1763.3834 - val_loss: 2697.3887 - val_rmse: 2607.1199 - val_mae: 1719.6167 - 334ms/epoch - 2ms/step\n",
      "Epoch 41/1000\n",
      "168/168 - 0s - loss: 2649.8152 - rmse: 2490.2568 - mae: 1671.7633 - val_loss: 2603.2068 - val_rmse: 2476.2693 - val_mae: 1626.4275 - 360ms/epoch - 2ms/step\n",
      "Epoch 42/1000\n",
      "168/168 - 0s - loss: 2564.3811 - rmse: 2380.2603 - mae: 1587.6208 - val_loss: 2519.2761 - val_rmse: 2347.3296 - val_mae: 1542.4780 - 317ms/epoch - 2ms/step\n",
      "Epoch 43/1000\n",
      "168/168 - 0s - loss: 2483.6816 - rmse: 2274.1216 - mae: 1507.3801 - val_loss: 2443.1199 - val_rmse: 2245.5737 - val_mae: 1468.0947 - 341ms/epoch - 2ms/step\n",
      "Epoch 44/1000\n",
      "168/168 - 0s - loss: 2411.2454 - rmse: 2177.6982 - mae: 1436.7141 - val_loss: 2363.4436 - val_rmse: 2138.0554 - val_mae: 1389.5287 - 346ms/epoch - 2ms/step\n",
      "Epoch 45/1000\n",
      "168/168 - 0s - loss: 2339.5911 - rmse: 2084.5149 - mae: 1366.2706 - val_loss: 2288.0554 - val_rmse: 2024.4052 - val_mae: 1315.3500 - 331ms/epoch - 2ms/step\n",
      "Epoch 46/1000\n",
      "168/168 - 0s - loss: 2271.1565 - rmse: 1996.4849 - mae: 1299.3481 - val_loss: 2221.2805 - val_rmse: 1932.4523 - val_mae: 1249.8135 - 345ms/epoch - 2ms/step\n",
      "Epoch 47/1000\n",
      "168/168 - 0s - loss: 2206.0493 - rmse: 1913.1748 - mae: 1235.7190 - val_loss: 2155.8579 - val_rmse: 1841.1964 - val_mae: 1185.6099 - 336ms/epoch - 2ms/step\n",
      "Epoch 48/1000\n",
      "168/168 - 0s - loss: 2140.6919 - rmse: 1829.2074 - mae: 1171.7480 - val_loss: 2099.0554 - val_rmse: 1766.1224 - val_mae: 1131.2456 - 331ms/epoch - 2ms/step\n"
     ]
    },
    {
     "name": "stdout",
     "output_type": "stream",
     "text": [
      "Epoch 49/1000\n",
      "168/168 - 0s - loss: 2079.2090 - rmse: 1747.1837 - mae: 1111.5542 - val_loss: 2030.5255 - val_rmse: 1671.8212 - val_mae: 1064.3671 - 332ms/epoch - 2ms/step\n",
      "Epoch 50/1000\n",
      "168/168 - 0s - loss: 2017.0153 - rmse: 1663.6726 - mae: 1051.3751 - val_loss: 1964.3362 - val_rmse: 1584.9288 - val_mae: 999.2877 - 327ms/epoch - 2ms/step\n",
      "Epoch 51/1000\n",
      "168/168 - 0s - loss: 1954.3892 - rmse: 1587.3330 - mae: 990.1257 - val_loss: 1903.6136 - val_rmse: 1497.8462 - val_mae: 939.3330 - 365ms/epoch - 2ms/step\n",
      "Epoch 52/1000\n",
      "168/168 - 0s - loss: 1894.7769 - rmse: 1506.4388 - mae: 931.7313 - val_loss: 1850.4915 - val_rmse: 1424.3209 - val_mae: 887.8212 - 355ms/epoch - 2ms/step\n",
      "Epoch 53/1000\n",
      "168/168 - 0s - loss: 1835.7198 - rmse: 1427.6174 - mae: 874.0405 - val_loss: 1796.5330 - val_rmse: 1360.1122 - val_mae: 836.6168 - 325ms/epoch - 2ms/step\n",
      "Epoch 54/1000\n",
      "168/168 - 0s - loss: 1778.0818 - rmse: 1356.9260 - mae: 817.9254 - val_loss: 1728.2432 - val_rmse: 1263.8259 - val_mae: 768.6429 - 319ms/epoch - 2ms/step\n",
      "Epoch 55/1000\n",
      "168/168 - 0s - loss: 1719.6041 - rmse: 1280.4980 - mae: 761.0970 - val_loss: 1671.7860 - val_rmse: 1196.6450 - val_mae: 713.4467 - 336ms/epoch - 2ms/step\n",
      "Epoch 56/1000\n",
      "168/168 - 0s - loss: 1664.9363 - rmse: 1220.2654 - mae: 707.6299 - val_loss: 1624.5651 - val_rmse: 1130.5481 - val_mae: 667.0911 - 312ms/epoch - 2ms/step\n",
      "Epoch 57/1000\n",
      "168/168 - 0s - loss: 1608.1605 - rmse: 1150.0063 - mae: 651.9205 - val_loss: 1563.8945 - val_rmse: 1057.9319 - val_mae: 608.4752 - 314ms/epoch - 2ms/step\n",
      "Epoch 58/1000\n",
      "168/168 - 0s - loss: 1553.4722 - rmse: 1089.5630 - mae: 598.7513 - val_loss: 1513.4402 - val_rmse: 1002.6899 - val_mae: 559.9390 - 314ms/epoch - 2ms/step\n",
      "Epoch 59/1000\n",
      "168/168 - 0s - loss: 1501.9934 - rmse: 1029.7190 - mae: 548.6859 - val_loss: 1466.5177 - val_rmse: 940.7100 - val_mae: 514.1000 - 313ms/epoch - 2ms/step\n",
      "Epoch 60/1000\n",
      "168/168 - 0s - loss: 1449.4886 - rmse: 969.7894 - mae: 497.4055 - val_loss: 1413.8806 - val_rmse: 874.5634 - val_mae: 462.5764 - 331ms/epoch - 2ms/step\n",
      "Epoch 61/1000\n",
      "168/168 - 0s - loss: 1399.2164 - rmse: 919.3043 - mae: 448.3648 - val_loss: 1364.1962 - val_rmse: 822.8466 - val_mae: 413.9332 - 350ms/epoch - 2ms/step\n",
      "Epoch 62/1000\n",
      "168/168 - 0s - loss: 1350.2555 - rmse: 870.5626 - mae: 400.8045 - val_loss: 1319.9789 - val_rmse: 770.8662 - val_mae: 370.7954 - 332ms/epoch - 2ms/step\n",
      "Epoch 63/1000\n",
      "168/168 - 0s - loss: 1304.4266 - rmse: 825.7247 - mae: 355.9560 - val_loss: 1272.0425 - val_rmse: 705.2346 - val_mae: 323.9699 - 409ms/epoch - 2ms/step\n",
      "Epoch 64/1000\n",
      "168/168 - 0s - loss: 1258.9277 - rmse: 782.7200 - mae: 311.8898 - val_loss: 1233.0981 - val_rmse: 655.0704 - val_mae: 286.7525 - 387ms/epoch - 2ms/step\n",
      "Epoch 65/1000\n",
      "168/168 - 0s - loss: 1217.0541 - rmse: 746.1058 - mae: 271.2487 - val_loss: 1196.8571 - val_rmse: 613.5923 - val_mae: 251.4459 - 400ms/epoch - 2ms/step\n",
      "Epoch 66/1000\n",
      "168/168 - 0s - loss: 1177.3361 - rmse: 718.6749 - mae: 232.9553 - val_loss: 1160.3302 - val_rmse: 573.7886 - val_mae: 216.9200 - 392ms/epoch - 2ms/step\n",
      "Epoch 67/1000\n",
      "168/168 - 0s - loss: 1142.5896 - rmse: 693.3359 - mae: 199.8977 - val_loss: 1126.8151 - val_rmse: 553.1306 - val_mae: 184.9818 - 316ms/epoch - 2ms/step\n",
      "Epoch 68/1000\n",
      "168/168 - 0s - loss: 1114.7498 - rmse: 679.7004 - mae: 174.0215 - val_loss: 1105.0691 - val_rmse: 512.1782 - val_mae: 165.5184 - 340ms/epoch - 2ms/step\n",
      "Epoch 69/1000\n",
      "168/168 - 0s - loss: 1096.4144 - rmse: 660.8575 - mae: 158.2522 - val_loss: 1086.4800 - val_rmse: 486.8477 - val_mae: 149.5802 - 314ms/epoch - 2ms/step\n",
      "Epoch 70/1000\n",
      "168/168 - 0s - loss: 1081.7599 - rmse: 646.5113 - mae: 146.5447 - val_loss: 1076.9626 - val_rmse: 465.9330 - val_mae: 143.3149 - 315ms/epoch - 2ms/step\n",
      "Epoch 71/1000\n",
      "168/168 - 0s - loss: 1069.7621 - rmse: 634.5686 - mae: 137.5294 - val_loss: 1066.1597 - val_rmse: 449.6861 - val_mae: 135.3440 - 314ms/epoch - 2ms/step\n",
      "Epoch 72/1000\n",
      "168/168 - 0s - loss: 1061.8926 - rmse: 625.3255 - mae: 132.5594 - val_loss: 1056.4087 - val_rmse: 436.2250 - val_mae: 128.6014 - 316ms/epoch - 2ms/step\n",
      "Epoch 73/1000\n",
      "168/168 - 0s - loss: 1052.3579 - rmse: 615.1147 - mae: 125.8068 - val_loss: 1043.7543 - val_rmse: 418.0491 - val_mae: 118.5457 - 314ms/epoch - 2ms/step\n",
      "Epoch 74/1000\n",
      "168/168 - 0s - loss: 1043.6119 - rmse: 608.7206 - mae: 119.7510 - val_loss: 1037.6849 - val_rmse: 404.9489 - val_mae: 115.3440 - 314ms/epoch - 2ms/step\n",
      "Epoch 75/1000\n",
      "168/168 - 0s - loss: 1037.8271 - rmse: 602.6348 - mae: 116.7103 - val_loss: 1029.2786 - val_rmse: 392.3794 - val_mae: 109.5361 - 315ms/epoch - 2ms/step\n",
      "Epoch 76/1000\n",
      "168/168 - 0s - loss: 1029.5468 - rmse: 594.5400 - mae: 111.0880 - val_loss: 1025.0548 - val_rmse: 386.6220 - val_mae: 107.8993 - 317ms/epoch - 2ms/step\n",
      "Epoch 77/1000\n",
      "168/168 - 0s - loss: 1024.6403 - rmse: 589.6936 - mae: 108.7942 - val_loss: 1017.3539 - val_rmse: 372.3241 - val_mae: 102.8443 - 316ms/epoch - 2ms/step\n",
      "Epoch 78/1000\n",
      "168/168 - 0s - loss: 1018.7208 - rmse: 585.7778 - mae: 105.4916 - val_loss: 1012.5010 - val_rmse: 367.2943 - val_mae: 100.5676 - 314ms/epoch - 2ms/step\n",
      "Epoch 79/1000\n",
      "168/168 - 0s - loss: 1013.8112 - rmse: 582.5735 - mae: 103.1700 - val_loss: 1006.4374 - val_rmse: 355.5065 - val_mae: 97.1005 - 315ms/epoch - 2ms/step\n",
      "Epoch 80/1000\n",
      "168/168 - 0s - loss: 1008.8170 - rmse: 576.2108 - mae: 100.6985 - val_loss: 1004.6566 - val_rmse: 358.4295 - val_mae: 97.9282 - 319ms/epoch - 2ms/step\n",
      "Epoch 81/1000\n",
      "168/168 - 0s - loss: 1004.4843 - rmse: 575.4368 - mae: 98.9521 - val_loss: 992.0795 - val_rmse: 344.3764 - val_mae: 87.7337 - 314ms/epoch - 2ms/step\n",
      "Epoch 82/1000\n",
      "168/168 - 0s - loss: 1000.4972 - rmse: 574.3277 - mae: 97.4543 - val_loss: 996.8549 - val_rmse: 343.5391 - val_mae: 95.0139 - 317ms/epoch - 2ms/step\n",
      "Epoch 83/1000\n",
      "168/168 - 0s - loss: 996.8568 - rmse: 568.5688 - mae: 96.3261 - val_loss: 987.2054 - val_rmse: 338.9267 - val_mae: 87.9372 - 314ms/epoch - 2ms/step\n",
      "Epoch 84/1000\n",
      "168/168 - 0s - loss: 992.2327 - rmse: 563.8985 - mae: 94.0889 - val_loss: 989.6757 - val_rmse: 331.1599 - val_mae: 92.5611 - 315ms/epoch - 2ms/step\n",
      "Epoch 85/1000\n",
      "168/168 - 0s - loss: 987.8967 - rmse: 562.7882 - mae: 92.1498 - val_loss: 981.7900 - val_rmse: 327.8053 - val_mae: 87.3433 - 315ms/epoch - 2ms/step\n",
      "Epoch 86/1000\n",
      "168/168 - 0s - loss: 984.3244 - rmse: 557.9478 - mae: 90.9572 - val_loss: 982.4199 - val_rmse: 330.3924 - val_mae: 90.3284 - 316ms/epoch - 2ms/step\n",
      "Epoch 87/1000\n",
      "168/168 - 0s - loss: 982.7621 - rmse: 558.2203 - mae: 91.7438 - val_loss: 976.0206 - val_rmse: 317.1537 - val_mae: 86.2605 - 317ms/epoch - 2ms/step\n",
      "Epoch 88/1000\n",
      "168/168 - 0s - loss: 978.8729 - rmse: 554.0510 - mae: 90.1454 - val_loss: 966.2170 - val_rmse: 314.3541 - val_mae: 78.5756 - 311ms/epoch - 2ms/step\n",
      "Epoch 89/1000\n",
      "168/168 - 0s - loss: 974.8644 - rmse: 552.3964 - mae: 88.4229 - val_loss: 968.2941 - val_rmse: 309.7232 - val_mae: 82.9664 - 316ms/epoch - 2ms/step\n",
      "Epoch 90/1000\n",
      "168/168 - 0s - loss: 971.9977 - rmse: 549.9981 - mae: 87.8915 - val_loss: 962.4349 - val_rmse: 307.9603 - val_mae: 79.4044 - 317ms/epoch - 2ms/step\n",
      "Epoch 91/1000\n",
      "168/168 - 0s - loss: 967.7862 - rmse: 549.9533 - mae: 85.9556 - val_loss: 958.5855 - val_rmse: 302.9750 - val_mae: 77.8675 - 317ms/epoch - 2ms/step\n",
      "Epoch 92/1000\n",
      "168/168 - 0s - loss: 964.3155 - rmse: 545.8987 - mae: 84.7368 - val_loss: 952.9582 - val_rmse: 295.6066 - val_mae: 74.4414 - 315ms/epoch - 2ms/step\n",
      "Epoch 93/1000\n",
      "168/168 - 0s - loss: 962.2548 - rmse: 545.5576 - mae: 84.9377 - val_loss: 949.9825 - val_rmse: 295.6953 - val_mae: 73.6835 - 313ms/epoch - 2ms/step\n",
      "Epoch 94/1000\n",
      "168/168 - 0s - loss: 958.5945 - rmse: 542.6796 - mae: 83.4333 - val_loss: 949.7266 - val_rmse: 296.9888 - val_mae: 75.6519 - 318ms/epoch - 2ms/step\n",
      "Epoch 95/1000\n",
      "168/168 - 0s - loss: 956.0040 - rmse: 543.2740 - mae: 83.0586 - val_loss: 948.6348 - val_rmse: 289.6190 - val_mae: 76.5695 - 315ms/epoch - 2ms/step\n",
      "Epoch 96/1000\n",
      "168/168 - 0s - loss: 952.0797 - rmse: 538.9161 - mae: 81.2539 - val_loss: 945.6652 - val_rmse: 290.7538 - val_mae: 75.8879 - 314ms/epoch - 2ms/step\n",
      "Epoch 97/1000\n",
      "168/168 - 0s - loss: 951.1019 - rmse: 539.1706 - mae: 82.4197 - val_loss: 942.7108 - val_rmse: 284.9226 - val_mae: 75.0398 - 313ms/epoch - 2ms/step\n",
      "Epoch 98/1000\n",
      "168/168 - 0s - loss: 947.0400 - rmse: 537.7638 - mae: 80.5129 - val_loss: 942.1319 - val_rmse: 292.1338 - val_mae: 76.7641 - 316ms/epoch - 2ms/step\n"
     ]
    },
    {
     "name": "stdout",
     "output_type": "stream",
     "text": [
      "Epoch 99/1000\n",
      "168/168 - 0s - loss: 945.1434 - rmse: 537.7413 - mae: 80.7941 - val_loss: 938.9042 - val_rmse: 293.3018 - val_mae: 75.7685 - 315ms/epoch - 2ms/step\n",
      "Epoch 100/1000\n",
      "168/168 - 0s - loss: 942.8159 - rmse: 536.8322 - mae: 80.6001 - val_loss: 936.4154 - val_rmse: 284.2294 - val_mae: 75.1447 - 313ms/epoch - 2ms/step\n",
      "Epoch 101/1000\n",
      "168/168 - 0s - loss: 939.6245 - rmse: 532.8215 - mae: 79.3870 - val_loss: 931.0712 - val_rmse: 287.5093 - val_mae: 71.9138 - 320ms/epoch - 2ms/step\n",
      "Epoch 102/1000\n",
      "168/168 - 0s - loss: 936.5497 - rmse: 532.1537 - mae: 78.4766 - val_loss: 924.6375 - val_rmse: 281.0744 - val_mae: 67.5867 - 317ms/epoch - 2ms/step\n",
      "Epoch 103/1000\n",
      "168/168 - 0s - loss: 934.1703 - rmse: 533.1309 - mae: 78.1602 - val_loss: 924.9345 - val_rmse: 283.4247 - val_mae: 69.9050 - 310ms/epoch - 2ms/step\n",
      "Epoch 104/1000\n",
      "168/168 - 0s - loss: 931.9408 - rmse: 529.2233 - mae: 77.9410 - val_loss: 924.8869 - val_rmse: 282.7709 - val_mae: 71.9650 - 312ms/epoch - 2ms/step\n",
      "Epoch 105/1000\n",
      "168/168 - 0s - loss: 929.4517 - rmse: 530.6672 - mae: 77.5295 - val_loss: 928.0593 - val_rmse: 282.5684 - val_mae: 76.9293 - 313ms/epoch - 2ms/step\n",
      "Epoch 106/1000\n",
      "168/168 - 0s - loss: 927.5226 - rmse: 528.6474 - mae: 77.6166 - val_loss: 914.8685 - val_rmse: 274.1100 - val_mae: 65.9436 - 312ms/epoch - 2ms/step\n",
      "Epoch 107/1000\n",
      "168/168 - 0s - loss: 924.9282 - rmse: 527.6429 - mae: 76.9929 - val_loss: 915.2272 - val_rmse: 280.1633 - val_mae: 68.2645 - 312ms/epoch - 2ms/step\n",
      "Epoch 108/1000\n",
      "168/168 - 0s - loss: 920.8826 - rmse: 526.9319 - mae: 74.9121 - val_loss: 913.9150 - val_rmse: 273.4449 - val_mae: 68.7263 - 311ms/epoch - 2ms/step\n",
      "Epoch 109/1000\n",
      "168/168 - 0s - loss: 920.6260 - rmse: 524.7941 - mae: 76.5653 - val_loss: 911.9481 - val_rmse: 273.4478 - val_mae: 68.7130 - 313ms/epoch - 2ms/step\n",
      "Epoch 110/1000\n",
      "168/168 - 0s - loss: 917.1334 - rmse: 522.5026 - mae: 74.9359 - val_loss: 912.1973 - val_rmse: 275.4928 - val_mae: 70.8494 - 313ms/epoch - 2ms/step\n",
      "Epoch 111/1000\n",
      "168/168 - 0s - loss: 914.9731 - rmse: 522.9641 - mae: 74.6584 - val_loss: 909.8643 - val_rmse: 275.0365 - val_mae: 70.3891 - 316ms/epoch - 2ms/step\n",
      "Epoch 112/1000\n",
      "168/168 - 0s - loss: 912.9232 - rmse: 520.7884 - mae: 74.4690 - val_loss: 902.6334 - val_rmse: 271.0660 - val_mae: 65.1058 - 314ms/epoch - 2ms/step\n",
      "Epoch 113/1000\n",
      "168/168 - 0s - loss: 910.5472 - rmse: 520.3891 - mae: 73.9926 - val_loss: 896.9504 - val_rmse: 271.2003 - val_mae: 61.3331 - 308ms/epoch - 2ms/step\n",
      "Epoch 114/1000\n",
      "168/168 - 0s - loss: 906.0104 - rmse: 519.9331 - mae: 71.2900 - val_loss: 899.6451 - val_rmse: 268.7959 - val_mae: 65.8869 - 311ms/epoch - 2ms/step\n",
      "Epoch 115/1000\n",
      "168/168 - 0s - loss: 906.4459 - rmse: 519.4604 - mae: 73.6118 - val_loss: 895.9196 - val_rmse: 266.5076 - val_mae: 63.9980 - 314ms/epoch - 2ms/step\n",
      "Epoch 116/1000\n",
      "168/168 - 0s - loss: 902.7350 - rmse: 515.8268 - mae: 71.6955 - val_loss: 897.1110 - val_rmse: 272.7777 - val_mae: 67.0658 - 314ms/epoch - 2ms/step\n",
      "Epoch 117/1000\n",
      "168/168 - 0s - loss: 901.3222 - rmse: 519.4825 - mae: 72.2194 - val_loss: 891.4125 - val_rmse: 269.0132 - val_mae: 63.2829 - 313ms/epoch - 2ms/step\n",
      "Epoch 118/1000\n",
      "168/168 - 0s - loss: 897.7972 - rmse: 515.9123 - mae: 70.5008 - val_loss: 894.1511 - val_rmse: 273.1830 - val_mae: 67.6778 - 313ms/epoch - 2ms/step\n",
      "Epoch 119/1000\n",
      "168/168 - 0s - loss: 897.5527 - rmse: 513.6751 - mae: 72.0478 - val_loss: 886.4624 - val_rmse: 268.3821 - val_mae: 61.9942 - 311ms/epoch - 2ms/step\n",
      "Epoch 120/1000\n",
      "168/168 - 0s - loss: 892.4158 - rmse: 514.8223 - mae: 68.8320 - val_loss: 886.1691 - val_rmse: 272.3784 - val_mae: 63.5198 - 314ms/epoch - 2ms/step\n",
      "Epoch 121/1000\n",
      "168/168 - 0s - loss: 891.5157 - rmse: 513.1837 - mae: 69.7040 - val_loss: 881.9826 - val_rmse: 265.4288 - val_mae: 61.1973 - 312ms/epoch - 2ms/step\n",
      "Epoch 122/1000\n",
      "168/168 - 0s - loss: 890.8659 - rmse: 512.1071 - mae: 70.9025 - val_loss: 885.2110 - val_rmse: 269.2940 - val_mae: 66.1044 - 312ms/epoch - 2ms/step\n",
      "Epoch 123/1000\n",
      "168/168 - 0s - loss: 888.0440 - rmse: 511.8613 - mae: 69.8845 - val_loss: 883.1913 - val_rmse: 270.4243 - val_mae: 65.9164 - 316ms/epoch - 2ms/step\n",
      "Epoch 124/1000\n",
      "168/168 - 0s - loss: 885.8622 - rmse: 509.3402 - mae: 69.5135 - val_loss: 874.5915 - val_rmse: 263.1617 - val_mae: 59.1631 - 314ms/epoch - 2ms/step\n",
      "Epoch 125/1000\n",
      "168/168 - 0s - loss: 883.6472 - rmse: 509.4077 - mae: 69.0624 - val_loss: 878.4379 - val_rmse: 261.9921 - val_mae: 64.6914 - 313ms/epoch - 2ms/step\n",
      "Epoch 126/1000\n",
      "168/168 - 0s - loss: 882.1401 - rmse: 507.8163 - mae: 69.3223 - val_loss: 870.9037 - val_rmse: 264.1401 - val_mae: 58.9544 - 352ms/epoch - 2ms/step\n",
      "Epoch 127/1000\n",
      "168/168 - 0s - loss: 878.8224 - rmse: 507.1296 - mae: 67.7732 - val_loss: 869.5117 - val_rmse: 263.0697 - val_mae: 59.3224 - 363ms/epoch - 2ms/step\n",
      "Epoch 128/1000\n",
      "168/168 - 0s - loss: 877.1482 - rmse: 507.0668 - mae: 67.9063 - val_loss: 869.0634 - val_rmse: 263.0754 - val_mae: 60.6397 - 387ms/epoch - 2ms/step\n",
      "Epoch 129/1000\n",
      "168/168 - 0s - loss: 875.1208 - rmse: 506.4787 - mae: 67.5918 - val_loss: 866.5421 - val_rmse: 264.6366 - val_mae: 59.8734 - 359ms/epoch - 2ms/step\n",
      "Epoch 130/1000\n",
      "168/168 - 0s - loss: 873.0598 - rmse: 506.0616 - mae: 67.2680 - val_loss: 866.4437 - val_rmse: 260.7650 - val_mae: 61.4022 - 313ms/epoch - 2ms/step\n",
      "Epoch 131/1000\n",
      "168/168 - 0s - loss: 871.1821 - rmse: 505.1808 - mae: 67.1022 - val_loss: 863.3057 - val_rmse: 260.3156 - val_mae: 60.0782 - 312ms/epoch - 2ms/step\n",
      "Epoch 132/1000\n",
      "168/168 - 0s - loss: 869.3909 - rmse: 505.0933 - mae: 67.0048 - val_loss: 859.9337 - val_rmse: 258.8566 - val_mae: 58.3622 - 311ms/epoch - 2ms/step\n",
      "Epoch 133/1000\n",
      "168/168 - 0s - loss: 867.8086 - rmse: 503.6414 - mae: 67.0846 - val_loss: 857.5784 - val_rmse: 259.7319 - val_mae: 57.6381 - 311ms/epoch - 2ms/step\n",
      "Epoch 134/1000\n",
      "168/168 - 0s - loss: 865.4390 - rmse: 503.5815 - mae: 66.3513 - val_loss: 859.1396 - val_rmse: 259.7167 - val_mae: 60.9648 - 312ms/epoch - 2ms/step\n",
      "Epoch 135/1000\n",
      "168/168 - 0s - loss: 864.0588 - rmse: 502.2639 - mae: 66.6371 - val_loss: 854.4073 - val_rmse: 263.1508 - val_mae: 57.9270 - 312ms/epoch - 2ms/step\n",
      "Epoch 136/1000\n",
      "168/168 - 0s - loss: 861.3433 - rmse: 502.7697 - mae: 65.6236 - val_loss: 852.2230 - val_rmse: 258.4096 - val_mae: 57.2021 - 312ms/epoch - 2ms/step\n",
      "Epoch 137/1000\n",
      "168/168 - 0s - loss: 859.4390 - rmse: 500.4143 - mae: 65.3694 - val_loss: 854.0344 - val_rmse: 260.6049 - val_mae: 60.7301 - 311ms/epoch - 2ms/step\n",
      "Epoch 138/1000\n",
      "168/168 - 0s - loss: 856.7067 - rmse: 500.6959 - mae: 64.2855 - val_loss: 845.4965 - val_rmse: 254.8064 - val_mae: 53.8365 - 313ms/epoch - 2ms/step\n",
      "Epoch 139/1000\n",
      "168/168 - 0s - loss: 855.8112 - rmse: 498.8549 - mae: 65.0428 - val_loss: 845.5798 - val_rmse: 258.8846 - val_mae: 55.7084 - 313ms/epoch - 2ms/step\n",
      "Epoch 140/1000\n",
      "168/168 - 0s - loss: 853.1212 - rmse: 499.8156 - mae: 64.0265 - val_loss: 845.5536 - val_rmse: 257.7790 - val_mae: 57.4323 - 313ms/epoch - 2ms/step\n",
      "Epoch 141/1000\n",
      "168/168 - 0s - loss: 851.6262 - rmse: 498.1194 - mae: 64.1871 - val_loss: 840.8431 - val_rmse: 259.5140 - val_mae: 54.3172 - 312ms/epoch - 2ms/step\n",
      "Epoch 142/1000\n",
      "168/168 - 0s - loss: 849.1394 - rmse: 498.4243 - mae: 63.3219 - val_loss: 841.2870 - val_rmse: 256.2050 - val_mae: 56.3529 - 310ms/epoch - 2ms/step\n",
      "Epoch 143/1000\n",
      "168/168 - 0s - loss: 847.7681 - rmse: 498.1695 - mae: 63.5933 - val_loss: 841.4910 - val_rmse: 259.7537 - val_mae: 58.2495 - 313ms/epoch - 2ms/step\n",
      "Epoch 144/1000\n",
      "168/168 - 0s - loss: 845.4864 - rmse: 497.2202 - mae: 62.9404 - val_loss: 834.3176 - val_rmse: 255.7497 - val_mae: 52.5136 - 313ms/epoch - 2ms/step\n",
      "Epoch 145/1000\n",
      "168/168 - 0s - loss: 844.4001 - rmse: 496.1529 - mae: 63.4811 - val_loss: 833.5984 - val_rmse: 254.4306 - val_mae: 53.4058 - 314ms/epoch - 2ms/step\n",
      "Epoch 146/1000\n",
      "168/168 - 0s - loss: 841.7641 - rmse: 496.1042 - mae: 62.4348 - val_loss: 835.7352 - val_rmse: 254.3098 - val_mae: 57.2050 - 314ms/epoch - 2ms/step\n",
      "Epoch 147/1000\n",
      "168/168 - 0s - loss: 840.2285 - rmse: 495.6956 - mae: 62.5106 - val_loss: 835.0021 - val_rmse: 258.1750 - val_mae: 58.1122 - 314ms/epoch - 2ms/step\n",
      "Epoch 148/1000\n",
      "168/168 - 0s - loss: 838.2853 - rmse: 495.9867 - mae: 62.1722 - val_loss: 825.4550 - val_rmse: 255.7296 - val_mae: 50.1990 - 312ms/epoch - 2ms/step\n",
      "Epoch 149/1000\n",
      "168/168 - 0s - loss: 836.5861 - rmse: 493.3374 - mae: 62.0766 - val_loss: 830.2842 - val_rmse: 255.4307 - val_mae: 56.6514 - 315ms/epoch - 2ms/step\n"
     ]
    },
    {
     "name": "stdout",
     "output_type": "stream",
     "text": [
      "Epoch 150/1000\n",
      "168/168 - 0s - loss: 836.3082 - rmse: 493.7776 - mae: 63.3703 - val_loss: 825.5073 - val_rmse: 255.6417 - val_mae: 53.4596 - 312ms/epoch - 2ms/step\n",
      "Epoch 151/1000\n",
      "168/168 - 0s - loss: 834.4030 - rmse: 493.3678 - mae: 63.0945 - val_loss: 823.3332 - val_rmse: 255.0796 - val_mae: 52.7227 - 312ms/epoch - 2ms/step\n",
      "Epoch 152/1000\n",
      "168/168 - 0s - loss: 831.5384 - rmse: 492.3930 - mae: 61.7548 - val_loss: 824.2385 - val_rmse: 253.3755 - val_mae: 55.2741 - 313ms/epoch - 2ms/step\n",
      "Epoch 153/1000\n",
      "168/168 - 0s - loss: 830.3533 - rmse: 492.6733 - mae: 62.1146 - val_loss: 822.1034 - val_rmse: 255.3424 - val_mae: 54.6118 - 313ms/epoch - 2ms/step\n",
      "Epoch 154/1000\n",
      "168/168 - 0s - loss: 827.9969 - rmse: 492.1677 - mae: 61.2436 - val_loss: 823.2128 - val_rmse: 255.9823 - val_mae: 57.2812 - 310ms/epoch - 2ms/step\n",
      "Epoch 155/1000\n",
      "168/168 - 0s - loss: 826.7906 - rmse: 492.0269 - mae: 61.6158 - val_loss: 818.9514 - val_rmse: 255.8777 - val_mae: 54.5634 - 310ms/epoch - 2ms/step\n",
      "Epoch 156/1000\n",
      "168/168 - 0s - loss: 825.7412 - rmse: 490.6559 - mae: 62.0634 - val_loss: 815.5984 - val_rmse: 253.3338 - val_mae: 52.6795 - 313ms/epoch - 2ms/step\n",
      "Epoch 157/1000\n",
      "168/168 - 0s - loss: 821.8732 - rmse: 488.9527 - mae: 59.7182 - val_loss: 813.6938 - val_rmse: 254.8555 - val_mae: 52.1944 - 327ms/epoch - 2ms/step\n"
     ]
    }
   ],
   "source": [
    "history = model.fit(train_features, \n",
    "                        train_labels, \n",
    "                        validation_split=0.25, \n",
    "                        verbose=2, \n",
    "                        epochs=1000,\n",
    "                        callbacks=early_stopping_callback)"
   ]
  },
  {
   "cell_type": "markdown",
   "id": "c7bb5971",
   "metadata": {},
   "source": [
    "#### Plot History of Loss Function (Global View)"
   ]
  },
  {
   "cell_type": "code",
   "execution_count": 23,
   "id": "b8f9926b",
   "metadata": {},
   "outputs": [
    {
     "data": {
      "image/png": "[encoded data removed]",
      "text/plain": [
       "<Figure size 1296x576 with 1 Axes>"
      ]
     },
     "metadata": {
      "needs_background": "light"
     },
     "output_type": "display_data"
    }
   ],
   "source": [
    "plot_loss(history, 0, 3000)"
   ]
  },
  {
   "cell_type": "markdown",
   "id": "f10d4d5b",
   "metadata": {},
   "source": [
    "#### Plot History of Loss Function (Closer Look)"
   ]
  },
  {
   "cell_type": "code",
   "execution_count": 24,
   "id": "2a759be3",
   "metadata": {},
   "outputs": [
    {
     "data": {
      "image/png": "[encoded data removed]",
      "text/plain": [
       "<Figure size 1296x576 with 1 Axes>"
      ]
     },
     "metadata": {
      "needs_background": "light"
     },
     "output_type": "display_data"
    }
   ],
   "source": [
    "plot_loss(history, 60, 200)"
   ]
  },
  {
   "cell_type": "markdown",
   "id": "3d4388aa",
   "metadata": {},
   "source": [
    "#### Make & Visualize Predictions"
   ]
  },
  {
   "cell_type": "code",
   "execution_count": 25,
   "id": "4861d2dc",
   "metadata": {},
   "outputs": [
    {
     "name": "stdout",
     "output_type": "stream",
     "text": [
      "75/75 [==============================] - 0s 2ms/step\n"
     ]
    },
    {
     "data": {
      "image/png": "[encoded data removed]",
      "text/plain": [
       "<Figure size 1296x576 with 1 Axes>"
      ]
     },
     "metadata": {
      "needs_background": "light"
     },
     "output_type": "display_data"
    }
   ],
   "source": [
    "test_predictions = model.predict(test_features).flatten()\n",
    "\n",
    "plt.axes(aspect='equal')\n",
    "plt.scatter(test_labels, test_predictions)\n",
    "plt.title('Predicted Vs Actual Values')\n",
    "plt.xlabel('True Values [MSRP]')\n",
    "plt.ylabel('Predictions [MSRP]')\n",
    "plt.show()"
   ]
  },
  {
   "cell_type": "markdown",
   "id": "a56361ad",
   "metadata": {},
   "source": [
    "#### Check Error Distribution"
   ]
  },
  {
   "cell_type": "code",
   "execution_count": 26,
   "id": "e5989386",
   "metadata": {
    "scrolled": false
   },
   "outputs": [
    {
     "data": {
      "image/png": "[encoded data removed]",
      "text/plain": [
       "<Figure size 1296x576 with 1 Axes>"
      ]
     },
     "metadata": {
      "needs_background": "light"
     },
     "output_type": "display_data"
    }
   ],
   "source": [
    "error = test_predictions - test_labels\n",
    "plt.figure(figsize=(18,8))\n",
    "plt.hist(error, bins=900)\n",
    "plt.xlabel('Prediction Error [MSRP]')\n",
    "_ = plt.ylabel('Count')"
   ]
  },
  {
   "cell_type": "markdown",
   "id": "0145a599",
   "metadata": {},
   "source": [
    "#### Save Model"
   ]
  },
  {
   "cell_type": "code",
   "execution_count": 27,
   "id": "bf6b9355",
   "metadata": {},
   "outputs": [
    {
     "name": "stdout",
     "output_type": "stream",
     "text": [
      "INFO:tensorflow:Assets written to: MSRP Prediction - Keras Regression/assets\n"
     ]
    }
   ],
   "source": [
    "model.save('MSRP Prediction - Keras Regression')"
   ]
  }
 ],
 "metadata": {
  "kernelspec": {
   "display_name": "Python 3 (ipykernel)",
   "language": "python",
   "name": "python3"
  },
  "language_info": {
   "codemirror_mode": {
    "name": "ipython",
    "version": 3
   },
   "file_extension": ".py",
   "mimetype": "text/x-python",
   "name": "python",
   "nbconvert_exporter": "python",
   "pygments_lexer": "ipython3",
   "version": "3.9.12"
  }
 },
 "nbformat": 4,
 "nbformat_minor": 5
}
