{
 "cells": [
  {
   "attachments": {},
   "cell_type": "markdown",
   "metadata": {},
   "source": [
    "## Employee Turnover/Churn\n",
    "\n",
    "Dataset Source: https://www.kaggle.com/datasets/marikastewart/employee-turnover"
   ]
  },
  {
   "attachments": {},
   "cell_type": "markdown",
   "metadata": {},
   "source": [
    "#### Import Necessary Libraries"
   ]
  },
  {
   "cell_type": "code",
   "execution_count": 169,
   "metadata": {},
   "outputs": [],
   "source": [
    "import sys\n",
    "\n",
    "import numpy as np\n",
    "import pandas as pd\n",
    "\n",
    "import matplotlib.pyplot as plt\n",
    "import seaborn as sns\n",
    "\n",
    "import sklearn\n",
    "from sklearn.model_selection import train_test_split, cross_val_predict\n",
    "from sklearn.pipeline import Pipeline\n",
    "\n",
    "from sklearn.preprocessing import FunctionTransformer\n",
    "from sklearn.compose import ColumnTransformer\n",
    "\n",
    "from sklearn.preprocessing import OrdinalEncoder, OneHotEncoder\n",
    "from sklearn.preprocessing import MinMaxScaler, StandardScaler\n",
    "\n",
    "from sklearn.ensemble import RandomForestClassifier\n",
    "from sklearn.naive_bayes import MultinomialNB\n",
    "from sklearn.linear_model import LogisticRegression\n",
    "from sklearn.neighbors import KNeighborsClassifier\n",
    "from sklearn.svm import SVC\n",
    "from sklearn.ensemble import StackingClassifier, VotingClassifier\n",
    "\n",
    "from sklearn.metrics import classification_report\n",
    "from sklearn.metrics import confusion_matrix, ConfusionMatrixDisplay\n",
    "\n",
    "import imblearn\n",
    "from imblearn.pipeline import Pipeline\n",
    "from imblearn.over_sampling import SMOTE\n",
    "\n",
    "import xgboost as xgb\n",
    "from xgboost import XGBClassifier"
   ]
  },
  {
   "attachments": {},
   "cell_type": "markdown",
   "metadata": {},
   "source": [
    "#### Show Library Versions"
   ]
  },
  {
   "cell_type": "code",
   "execution_count": 111,
   "metadata": {},
   "outputs": [
    {
     "name": "stdout",
     "output_type": "stream",
     "text": [
      "Language/Library | Version\n",
      "---------------- | --------\n",
      "          Python : 3.9.12\n",
      "           NumPy : 1.24.3\n",
      "          Pandas : 2.0.1\n",
      "         Sklearn : 1.2.2\n",
      "         XGBoost : 1.7.5\n",
      "        Imblearn : 0.10.1\n",
      "         Seaborn : 0.12.2\n"
     ]
    }
   ],
   "source": [
    "n = 18\n",
    "\n",
    "print(f\"Language/Library\".rjust(n-2), '|', 'Version')\n",
    "print('-' * (n-2), '|', '--------')\n",
    "print(\"Python :\".rjust(n), sys.version[0:6])\n",
    "print(\"NumPy :\".rjust(n), np.__version__)\n",
    "print(\"Pandas :\".rjust(n), pd.__version__)\n",
    "print(\"Sklearn :\".rjust(n), sklearn.__version__)\n",
    "print('XGBoost :'.rjust(n), xgb.__version__)\n",
    "print(\"Imblearn :\".rjust(n), imblearn.__version__)\n",
    "print(\"Seaborn :\".rjust(n), sns.__version__)"
   ]
  },
  {
   "attachments": {},
   "cell_type": "markdown",
   "metadata": {},
   "source": [
    "### Initial Data Preprocessing"
   ]
  },
  {
   "attachments": {},
   "cell_type": "markdown",
   "metadata": {},
   "source": [
    "#### Ingest Dataset"
   ]
  },
  {
   "cell_type": "code",
   "execution_count": 112,
   "metadata": {},
   "outputs": [
    {
     "data": {
      "text/html": [
       "<div>\n",
       "<style scoped>\n",
       "    .dataframe tbody tr th:only-of-type {\n",
       "        vertical-align: middle;\n",
       "    }\n",
       "\n",
       "    .dataframe tbody tr th {\n",
       "        vertical-align: top;\n",
       "    }\n",
       "\n",
       "    .dataframe thead th {\n",
       "        text-align: right;\n",
       "    }\n",
       "</style>\n",
       "<table border=\"1\" class=\"dataframe\">\n",
       "  <thead>\n",
       "    <tr style=\"text-align: right;\">\n",
       "      <th></th>\n",
       "      <th>department</th>\n",
       "      <th>promoted</th>\n",
       "      <th>review</th>\n",
       "      <th>projects</th>\n",
       "      <th>salary</th>\n",
       "      <th>tenure</th>\n",
       "      <th>satisfaction</th>\n",
       "      <th>bonus</th>\n",
       "      <th>avg_hrs_month</th>\n",
       "      <th>label</th>\n",
       "    </tr>\n",
       "  </thead>\n",
       "  <tbody>\n",
       "    <tr>\n",
       "      <th>0</th>\n",
       "      <td>operations</td>\n",
       "      <td>0.0</td>\n",
       "      <td>0.577569</td>\n",
       "      <td>3.0</td>\n",
       "      <td>low</td>\n",
       "      <td>5.0</td>\n",
       "      <td>0.626759</td>\n",
       "      <td>0.0</td>\n",
       "      <td>180.866070</td>\n",
       "      <td>no</td>\n",
       "    </tr>\n",
       "    <tr>\n",
       "      <th>1</th>\n",
       "      <td>operations</td>\n",
       "      <td>0.0</td>\n",
       "      <td>0.751900</td>\n",
       "      <td>3.0</td>\n",
       "      <td>medium</td>\n",
       "      <td>6.0</td>\n",
       "      <td>0.443679</td>\n",
       "      <td>0.0</td>\n",
       "      <td>182.708149</td>\n",
       "      <td>no</td>\n",
       "    </tr>\n",
       "    <tr>\n",
       "      <th>2</th>\n",
       "      <td>support</td>\n",
       "      <td>0.0</td>\n",
       "      <td>0.722548</td>\n",
       "      <td>3.0</td>\n",
       "      <td>medium</td>\n",
       "      <td>6.0</td>\n",
       "      <td>0.446823</td>\n",
       "      <td>0.0</td>\n",
       "      <td>184.416084</td>\n",
       "      <td>no</td>\n",
       "    </tr>\n",
       "    <tr>\n",
       "      <th>3</th>\n",
       "      <td>logistics</td>\n",
       "      <td>0.0</td>\n",
       "      <td>0.675158</td>\n",
       "      <td>4.0</td>\n",
       "      <td>high</td>\n",
       "      <td>8.0</td>\n",
       "      <td>0.440139</td>\n",
       "      <td>0.0</td>\n",
       "      <td>188.707545</td>\n",
       "      <td>no</td>\n",
       "    </tr>\n",
       "    <tr>\n",
       "      <th>4</th>\n",
       "      <td>sales</td>\n",
       "      <td>0.0</td>\n",
       "      <td>0.676203</td>\n",
       "      <td>3.0</td>\n",
       "      <td>high</td>\n",
       "      <td>5.0</td>\n",
       "      <td>0.577607</td>\n",
       "      <td>1.0</td>\n",
       "      <td>179.821083</td>\n",
       "      <td>no</td>\n",
       "    </tr>\n",
       "  </tbody>\n",
       "</table>\n",
       "</div>"
      ],
      "text/plain": [
       "   department  promoted    review  projects  salary  tenure  satisfaction   \n",
       "0  operations       0.0  0.577569       3.0     low     5.0      0.626759  \\\n",
       "1  operations       0.0  0.751900       3.0  medium     6.0      0.443679   \n",
       "2     support       0.0  0.722548       3.0  medium     6.0      0.446823   \n",
       "3   logistics       0.0  0.675158       4.0    high     8.0      0.440139   \n",
       "4       sales       0.0  0.676203       3.0    high     5.0      0.577607   \n",
       "\n",
       "   bonus  avg_hrs_month label  \n",
       "0    0.0     180.866070    no  \n",
       "1    0.0     182.708149    no  \n",
       "2    0.0     184.416084    no  \n",
       "3    0.0     188.707545    no  \n",
       "4    1.0     179.821083    no  "
      ]
     },
     "execution_count": 112,
     "metadata": {},
     "output_type": "execute_result"
    }
   ],
   "source": [
    "col_names = [\"department\",\n",
    "             \"promoted\", \n",
    "             \"review\", \n",
    "             \"projects\",\n",
    "             \"salary\", \n",
    "             \"tenure\", \n",
    "             \"satisfaction\",\n",
    "             \"bonus\", \n",
    "             \"avg_hrs_month\", \n",
    "             \"label\"]\n",
    "\n",
    "dtypes = {\"department\": str,\n",
    "          \"promoted\": np.float64, \n",
    "          \"review\": np.float64, \n",
    "          \"projects\": np.float64,\n",
    "          \"salary\": str, \n",
    "          \"tenure\": np.float64, \n",
    "          \"satisfaction\": np.float64,\n",
    "          \"bonus\": np.float16, \n",
    "          \"avg_hrs_month\": np.float64, \n",
    "          \"label\": str}\n",
    "\n",
    "data = pd.read_csv(\"employee_churn_data.csv\",\n",
    "                   names=col_names, \n",
    "                   dtype=dtypes,\n",
    "                   engine='c',\n",
    "                   header=0)\n",
    "\n",
    "data = data.fillna(-1)\n",
    "\n",
    "data.head()"
   ]
  },
  {
   "attachments": {},
   "cell_type": "markdown",
   "metadata": {},
   "source": [
    "#### More Dataset Information"
   ]
  },
  {
   "cell_type": "code",
   "execution_count": 113,
   "metadata": {},
   "outputs": [
    {
     "name": "stdout",
     "output_type": "stream",
     "text": [
      "<class 'pandas.core.frame.DataFrame'>\n",
      "RangeIndex: 9540 entries, 0 to 9539\n",
      "Data columns (total 10 columns):\n",
      " #   Column         Non-Null Count  Dtype  \n",
      "---  ------         --------------  -----  \n",
      " 0   department     9540 non-null   object \n",
      " 1   promoted       9540 non-null   float64\n",
      " 2   review         9540 non-null   float64\n",
      " 3   projects       9540 non-null   float64\n",
      " 4   salary         9540 non-null   object \n",
      " 5   tenure         9540 non-null   float64\n",
      " 6   satisfaction   9540 non-null   float64\n",
      " 7   bonus          9540 non-null   float16\n",
      " 8   avg_hrs_month  9540 non-null   float64\n",
      " 9   label          9540 non-null   object \n",
      "dtypes: float16(1), float64(6), object(3)\n",
      "memory usage: 689.5+ KB\n"
     ]
    }
   ],
   "source": [
    "data.info()"
   ]
  },
  {
   "attachments": {},
   "cell_type": "markdown",
   "metadata": {},
   "source": [
    "### Visualizations"
   ]
  },
  {
   "attachments": {},
   "cell_type": "markdown",
   "metadata": {},
   "source": [
    "#### Create Function to Visualize Features (Histograms)"
   ]
  },
  {
   "cell_type": "code",
   "execution_count": 114,
   "metadata": {},
   "outputs": [],
   "source": [
    "def histogram_visual(feature_to_visualize: pd.Series,\n",
    "                     num_of_bins: int,\n",
    "                     plot_title: str,\n",
    "                     x_label: str,\n",
    "                     x_start: float = -1.0,\n",
    "                     y_label: str = \"# of Samples\",\n",
    "                     ):\n",
    "    \"\"\"\n",
    "    This function returns a histogram for a feature.\n",
    "    \n",
    "    Inputs: \n",
    "    - feature_to_visualize: Feature to plot in the form \n",
    "    of pandas Series.\n",
    "    - plot_title: The title of the plot/visual.\n",
    "    - x_label: The string label value for the x label.\n",
    "    - x_start: To force the x-axis of the visual to start at \n",
    "    a specified value instead of the automatically generated \n",
    "    value, assign the float value here. Otherwise, the \n",
    "    autogenerated start value will be used.\n",
    "    - y_label: The string label value for the y label.\n",
    "    \n",
    "    Output:\n",
    "    - A histogram.\n",
    "    \"\"\"\n",
    "    \n",
    "    assert type(feature_to_visualize) == pd.Series, \\\n",
    "        \"Make sure the dataset input type is a Pandas Series.\"\n",
    "    assert type(plot_title) != 'str', \\\n",
    "        \"The title value must be a string value.\"\n",
    "    assert type(x_label) !=  'str', \\\n",
    "        \"The x label value must be a string value.\"\n",
    "    assert type(y_label) != 'str', \\\n",
    "        \"The y label value must be a string value.\"\n",
    "    assert type(x_start) != 'float', \\\n",
    "        \"The x_start value must be a float value.\"\n",
    "    \n",
    "    ax = feature_to_visualize.hist(grid=False, \n",
    "                                   bins=num_of_bins, \n",
    "                                   figsize=(18, 8))\n",
    "    plt.suptitle('')\n",
    "    plt.title(plot_title)\n",
    "    plt.ylabel(y_label)\n",
    "    plt.xlabel(x_label)\n",
    "    \n",
    "    if x_start != -1:\n",
    "        plt.xlim([0, (max(feature_to_visualize) + (1/num_of_bins))])\n",
    "\n",
    "    plt.show()"
   ]
  },
  {
   "attachments": {},
   "cell_type": "markdown",
   "metadata": {},
   "source": [
    "#### Dataset Visualization: Review"
   ]
  },
  {
   "cell_type": "code",
   "execution_count": 115,
   "metadata": {},
   "outputs": [
    {
     "data": {
      "image/png": "[encoded data removed]",
      "text/plain": [
       "<Figure size 1800x800 with 1 Axes>"
      ]
     },
     "metadata": {},
     "output_type": "display_data"
    },
    {
     "name": "stdout",
     "output_type": "stream",
     "text": [
      "The Review Scores range is 0.31 to 1.0.\n"
     ]
    }
   ],
   "source": [
    "histogram_visual(data['review'],\n",
    "                 num_of_bins=70,\n",
    "                 plot_title=\"Histogram of Review Scores\",\n",
    "                 x_label=\"Review Score\")\n",
    "\n",
    "print(f\"The Review Scores range is {min(data['review'])} to\" + \n",
    "      f\" {max(data['review'])}.\")"
   ]
  },
  {
   "attachments": {},
   "cell_type": "markdown",
   "metadata": {},
   "source": [
    "#### Dataset Visualization: Tenure"
   ]
  },
  {
   "cell_type": "code",
   "execution_count": 116,
   "metadata": {},
   "outputs": [
    {
     "data": {
      "image/png": "[encoded data removed]",
      "text/plain": [
       "<Figure size 1800x800 with 1 Axes>"
      ]
     },
     "metadata": {},
     "output_type": "display_data"
    },
    {
     "name": "stdout",
     "output_type": "stream",
     "text": [
      "The tenure range is 2.0 to 12.0 years.\n"
     ]
    }
   ],
   "source": [
    "histogram_visual(data['tenure'],\n",
    "                 num_of_bins=10,\n",
    "                 plot_title=\"Histogram of Tenure\",\n",
    "                 x_label=\"Tenure (in Years)\")\n",
    "\n",
    "print(f\"The tenure range is {min(data['tenure'])} to\" + \n",
    "      f\" {max(data['tenure'])} years.\")"
   ]
  },
  {
   "attachments": {},
   "cell_type": "markdown",
   "metadata": {},
   "source": [
    "#### Dataset Visualization: Satisfaction"
   ]
  },
  {
   "cell_type": "code",
   "execution_count": 117,
   "metadata": {},
   "outputs": [
    {
     "data": {
      "image/png": "[encoded data removed]",
      "text/plain": [
       "<Figure size 1800x800 with 1 Axes>"
      ]
     },
     "metadata": {},
     "output_type": "display_data"
    },
    {
     "name": "stdout",
     "output_type": "stream",
     "text": [
      "The satisfaction range (from surveys) was 0.0 to 1.0000000000000002.\n"
     ]
    }
   ],
   "source": [
    "histogram_visual(data['satisfaction'],\n",
    "                 num_of_bins=100,\n",
    "                 plot_title=\"Histogram of Satisfaction\",\n",
    "                 x_label=\"Satisfaction\")\n",
    "\n",
    "print(f\"The satisfaction range (from surveys) was {min(data['satisfaction'])} to\" + \n",
    "      f\" {max(data['satisfaction'])}.\")"
   ]
  },
  {
   "attachments": {},
   "cell_type": "markdown",
   "metadata": {},
   "source": [
    "#### Dataset Visualization: Average Hours Per Month"
   ]
  },
  {
   "cell_type": "code",
   "execution_count": 118,
   "metadata": {},
   "outputs": [
    {
     "data": {
      "image/png": "[encoded data removed]",
      "text/plain": [
       "<Figure size 1800x800 with 1 Axes>"
      ]
     },
     "metadata": {},
     "output_type": "display_data"
    },
    {
     "name": "stdout",
     "output_type": "stream",
     "text": [
      "The average number of hours worked ranged from 171.37406048199938 to 200.8616558715116.\n"
     ]
    }
   ],
   "source": [
    "histogram_visual(data['avg_hrs_month'],\n",
    "                 num_of_bins=291,\n",
    "                 plot_title=\"Histogram of Average Hours Per Month\",\n",
    "                 x_label=\"Average Hours Per Month\")\n",
    "\n",
    "print(f\"The average number of hours worked ranged\" +\n",
    "      f\" from {min(data['avg_hrs_month'])}\" + \n",
    "      f\" to {max(data['avg_hrs_month'])}.\")"
   ]
  },
  {
   "attachments": {},
   "cell_type": "markdown",
   "metadata": {},
   "source": [
    "#### Create Function to Visualize Features (Barplot)"
   ]
  },
  {
   "cell_type": "code",
   "execution_count": 119,
   "metadata": {},
   "outputs": [],
   "source": [
    "def barplot_visual(feature_to_visualize: pd.Series,\n",
    "                   plot_title: str,\n",
    "                   x_label: str,\n",
    "                   y_label: str = \"# of Samples\",\n",
    "                   ):\n",
    "    \"\"\"\n",
    "    This function returns a histogram for a feature.\n",
    "    \n",
    "    Inputs: \n",
    "    - feature_to_visualize: Feature to plot in the form \n",
    "    of pandas Series.\n",
    "    - plot_title: The title of the plot/visual.\n",
    "    - x_label: The string label value for the x label.\n",
    "    - y_label: The string label value for the y label.\n",
    "    \n",
    "    Output:\n",
    "    - A Bar Plot.\n",
    "    \"\"\"\n",
    "    \n",
    "    assert type(feature_to_visualize) == pd.Series, \\\n",
    "        \"Make sure the dataset input type is a Pandas Series.\"\n",
    "    assert type(plot_title) != 'str', \\\n",
    "        \"The title value must be a string value.\"\n",
    "    assert type(x_label) !=  'str', \\\n",
    "        \"The x label value must be a string value.\"\n",
    "    assert type(y_label) != 'str', \\\n",
    "        \"The y label value must be a string value.\"\n",
    "        \n",
    "    ax = feature_to_visualize.value_counts().plot.bar( \n",
    "                                                      figsize=(12,8),\n",
    "                                                      rot=0, \n",
    "                                                      legend=False,\n",
    "                                                      color=[\"lightgreen\", \n",
    "                                                             \"blue\", \n",
    "                                                             \"brown\", \n",
    "                                                             \"lightblue\",\n",
    "                                                             \"tan\", \n",
    "                                                             \"yellow\", \n",
    "                                                             \"orange\",\n",
    "                                                             \"green\", \n",
    "                                                             \"red\",\n",
    "                                                             \"purple\"]\n",
    "                                                      )\n",
    "    \n",
    "    ax.bar_label(ax.containers[0])\n",
    "    \n",
    "    plt.suptitle('')\n",
    "    plt.title(plot_title)\n",
    "    plt.ylabel(y_label)\n",
    "    plt.xlabel(x_label)\n",
    "    \n",
    "    plt.show()"
   ]
  },
  {
   "attachments": {},
   "cell_type": "markdown",
   "metadata": {},
   "source": [
    "#### Dataset Visualization: Department That Employees Work in"
   ]
  },
  {
   "cell_type": "code",
   "execution_count": 120,
   "metadata": {},
   "outputs": [
    {
     "data": {
      "image/png": "[encoded data removed]",
      "text/plain": [
       "<Figure size 1200x800 with 1 Axes>"
      ]
     },
     "metadata": {},
     "output_type": "display_data"
    }
   ],
   "source": [
    "barplot_visual(data[\"department\"],\n",
    "               \"Distribution of What Department Employees Work in\",\n",
    "               \"Department\",\n",
    "               \"# of Samples\",\n",
    "               )"
   ]
  },
  {
   "attachments": {},
   "cell_type": "markdown",
   "metadata": {},
   "source": [
    "#### Dataset Visualization: Projects"
   ]
  },
  {
   "cell_type": "code",
   "execution_count": 121,
   "metadata": {},
   "outputs": [
    {
     "data": {
      "image/png": "[encoded data removed]",
      "text/plain": [
       "<Figure size 1200x800 with 1 Axes>"
      ]
     },
     "metadata": {},
     "output_type": "display_data"
    }
   ],
   "source": [
    "barplot_visual(data[\"projects\"],\n",
    "               \"How Many Projects Employee Handles\",\n",
    "               \"# of Projects\",\n",
    "               \"# of Samples\",\n",
    "               )"
   ]
  },
  {
   "attachments": {},
   "cell_type": "markdown",
   "metadata": {},
   "source": [
    "#### Dataset Visualization: Salary"
   ]
  },
  {
   "cell_type": "code",
   "execution_count": 122,
   "metadata": {},
   "outputs": [
    {
     "data": {
      "image/png": "[encoded data removed]",
      "text/plain": [
       "<Figure size 1200x800 with 1 Axes>"
      ]
     },
     "metadata": {},
     "output_type": "display_data"
    }
   ],
   "source": [
    "barplot_visual(data[\"salary\"],\n",
    "               \"Distribution Salary Ranges\",\n",
    "               \"Salary Category\",\n",
    "               \"# of Samples\",\n",
    "               )"
   ]
  },
  {
   "attachments": {},
   "cell_type": "markdown",
   "metadata": {},
   "source": [
    "#### Dataset Visualization: Bonus"
   ]
  },
  {
   "cell_type": "code",
   "execution_count": 123,
   "metadata": {},
   "outputs": [
    {
     "data": {
      "image/png": "[encoded data removed]",
      "text/plain": [
       "<Figure size 1200x800 with 1 Axes>"
      ]
     },
     "metadata": {},
     "output_type": "display_data"
    }
   ],
   "source": [
    "barplot_visual(data[\"bonus\"],\n",
    "               \"Did Employee Receive a Bonus?\",\n",
    "               \"Bonus Recipient\",\n",
    "               \"# of Samples\",\n",
    "               )"
   ]
  },
  {
   "attachments": {},
   "cell_type": "markdown",
   "metadata": {},
   "source": [
    "#### Dataset Visualization: Class Distribution"
   ]
  },
  {
   "cell_type": "code",
   "execution_count": 124,
   "metadata": {},
   "outputs": [
    {
     "data": {
      "image/png": "[encoded data removed]",
      "text/plain": [
       "<Figure size 1200x800 with 1 Axes>"
      ]
     },
     "metadata": {},
     "output_type": "display_data"
    }
   ],
   "source": [
    "barplot_visual(data[\"label\"],\n",
    "               \"Did They Leave?\",\n",
    "               \"Employee Decision\",\n",
    "               \"# of Samples\",\n",
    "               )"
   ]
  },
  {
   "attachments": {},
   "cell_type": "markdown",
   "metadata": {},
   "source": [
    "### Exploratory Data Analysis & Preprocessing"
   ]
  },
  {
   "attachments": {},
   "cell_type": "markdown",
   "metadata": {},
   "source": [
    "#### Descriptive Statistics"
   ]
  },
  {
   "cell_type": "code",
   "execution_count": 125,
   "metadata": {},
   "outputs": [
    {
     "data": {
      "text/html": [
       "<div>\n",
       "<style scoped>\n",
       "    .dataframe tbody tr th:only-of-type {\n",
       "        vertical-align: middle;\n",
       "    }\n",
       "\n",
       "    .dataframe tbody tr th {\n",
       "        vertical-align: top;\n",
       "    }\n",
       "\n",
       "    .dataframe thead th {\n",
       "        text-align: right;\n",
       "    }\n",
       "</style>\n",
       "<table border=\"1\" class=\"dataframe\">\n",
       "  <thead>\n",
       "    <tr style=\"text-align: right;\">\n",
       "      <th></th>\n",
       "      <th>department</th>\n",
       "      <th>promoted</th>\n",
       "      <th>review</th>\n",
       "      <th>projects</th>\n",
       "      <th>salary</th>\n",
       "      <th>tenure</th>\n",
       "      <th>satisfaction</th>\n",
       "      <th>bonus</th>\n",
       "      <th>avg_hrs_month</th>\n",
       "      <th>label</th>\n",
       "    </tr>\n",
       "  </thead>\n",
       "  <tbody>\n",
       "    <tr>\n",
       "      <th>count</th>\n",
       "      <td>9540</td>\n",
       "      <td>9540.000000</td>\n",
       "      <td>9540.000000</td>\n",
       "      <td>9540.000000</td>\n",
       "      <td>9540</td>\n",
       "      <td>9540.000000</td>\n",
       "      <td>9540.000000</td>\n",
       "      <td>9540.000000</td>\n",
       "      <td>9540.000000</td>\n",
       "      <td>9540</td>\n",
       "    </tr>\n",
       "    <tr>\n",
       "      <th>unique</th>\n",
       "      <td>10</td>\n",
       "      <td>NaN</td>\n",
       "      <td>NaN</td>\n",
       "      <td>NaN</td>\n",
       "      <td>3</td>\n",
       "      <td>NaN</td>\n",
       "      <td>NaN</td>\n",
       "      <td>NaN</td>\n",
       "      <td>NaN</td>\n",
       "      <td>2</td>\n",
       "    </tr>\n",
       "    <tr>\n",
       "      <th>top</th>\n",
       "      <td>sales</td>\n",
       "      <td>NaN</td>\n",
       "      <td>NaN</td>\n",
       "      <td>NaN</td>\n",
       "      <td>medium</td>\n",
       "      <td>NaN</td>\n",
       "      <td>NaN</td>\n",
       "      <td>NaN</td>\n",
       "      <td>NaN</td>\n",
       "      <td>no</td>\n",
       "    </tr>\n",
       "    <tr>\n",
       "      <th>freq</th>\n",
       "      <td>1883</td>\n",
       "      <td>NaN</td>\n",
       "      <td>NaN</td>\n",
       "      <td>NaN</td>\n",
       "      <td>6611</td>\n",
       "      <td>NaN</td>\n",
       "      <td>NaN</td>\n",
       "      <td>NaN</td>\n",
       "      <td>NaN</td>\n",
       "      <td>6756</td>\n",
       "    </tr>\n",
       "    <tr>\n",
       "      <th>mean</th>\n",
       "      <td>NaN</td>\n",
       "      <td>0.030294</td>\n",
       "      <td>0.651826</td>\n",
       "      <td>3.274843</td>\n",
       "      <td>NaN</td>\n",
       "      <td>6.556184</td>\n",
       "      <td>0.504645</td>\n",
       "      <td>0.212158</td>\n",
       "      <td>184.661571</td>\n",
       "      <td>NaN</td>\n",
       "    </tr>\n",
       "    <tr>\n",
       "      <th>std</th>\n",
       "      <td>NaN</td>\n",
       "      <td>0.171403</td>\n",
       "      <td>0.085307</td>\n",
       "      <td>0.579136</td>\n",
       "      <td>NaN</td>\n",
       "      <td>1.415432</td>\n",
       "      <td>0.158555</td>\n",
       "      <td>0.408936</td>\n",
       "      <td>4.144831</td>\n",
       "      <td>NaN</td>\n",
       "    </tr>\n",
       "    <tr>\n",
       "      <th>min</th>\n",
       "      <td>NaN</td>\n",
       "      <td>0.000000</td>\n",
       "      <td>0.310000</td>\n",
       "      <td>2.000000</td>\n",
       "      <td>NaN</td>\n",
       "      <td>2.000000</td>\n",
       "      <td>0.000000</td>\n",
       "      <td>0.000000</td>\n",
       "      <td>171.374060</td>\n",
       "      <td>NaN</td>\n",
       "    </tr>\n",
       "    <tr>\n",
       "      <th>1%</th>\n",
       "      <td>NaN</td>\n",
       "      <td>0.000000</td>\n",
       "      <td>0.461668</td>\n",
       "      <td>2.000000</td>\n",
       "      <td>NaN</td>\n",
       "      <td>4.000000</td>\n",
       "      <td>0.164069</td>\n",
       "      <td>0.000000</td>\n",
       "      <td>175.968689</td>\n",
       "      <td>NaN</td>\n",
       "    </tr>\n",
       "    <tr>\n",
       "      <th>10%</th>\n",
       "      <td>NaN</td>\n",
       "      <td>0.000000</td>\n",
       "      <td>0.546093</td>\n",
       "      <td>3.000000</td>\n",
       "      <td>NaN</td>\n",
       "      <td>5.000000</td>\n",
       "      <td>0.300923</td>\n",
       "      <td>0.000000</td>\n",
       "      <td>179.340896</td>\n",
       "      <td>NaN</td>\n",
       "    </tr>\n",
       "    <tr>\n",
       "      <th>25%</th>\n",
       "      <td>NaN</td>\n",
       "      <td>0.000000</td>\n",
       "      <td>0.592884</td>\n",
       "      <td>3.000000</td>\n",
       "      <td>NaN</td>\n",
       "      <td>5.000000</td>\n",
       "      <td>0.386801</td>\n",
       "      <td>0.000000</td>\n",
       "      <td>181.472085</td>\n",
       "      <td>NaN</td>\n",
       "    </tr>\n",
       "    <tr>\n",
       "      <th>50%</th>\n",
       "      <td>NaN</td>\n",
       "      <td>0.000000</td>\n",
       "      <td>0.647456</td>\n",
       "      <td>3.000000</td>\n",
       "      <td>NaN</td>\n",
       "      <td>7.000000</td>\n",
       "      <td>0.500786</td>\n",
       "      <td>0.000000</td>\n",
       "      <td>184.628796</td>\n",
       "      <td>NaN</td>\n",
       "    </tr>\n",
       "    <tr>\n",
       "      <th>75%</th>\n",
       "      <td>NaN</td>\n",
       "      <td>0.000000</td>\n",
       "      <td>0.708379</td>\n",
       "      <td>4.000000</td>\n",
       "      <td>NaN</td>\n",
       "      <td>8.000000</td>\n",
       "      <td>0.622607</td>\n",
       "      <td>0.000000</td>\n",
       "      <td>187.728708</td>\n",
       "      <td>NaN</td>\n",
       "    </tr>\n",
       "    <tr>\n",
       "      <th>90%</th>\n",
       "      <td>NaN</td>\n",
       "      <td>0.000000</td>\n",
       "      <td>0.765393</td>\n",
       "      <td>4.000000</td>\n",
       "      <td>NaN</td>\n",
       "      <td>8.000000</td>\n",
       "      <td>0.714491</td>\n",
       "      <td>1.000000</td>\n",
       "      <td>189.772293</td>\n",
       "      <td>NaN</td>\n",
       "    </tr>\n",
       "    <tr>\n",
       "      <th>99%</th>\n",
       "      <td>NaN</td>\n",
       "      <td>1.000000</td>\n",
       "      <td>0.857704</td>\n",
       "      <td>4.000000</td>\n",
       "      <td>NaN</td>\n",
       "      <td>10.000000</td>\n",
       "      <td>0.855588</td>\n",
       "      <td>1.000000</td>\n",
       "      <td>194.245948</td>\n",
       "      <td>NaN</td>\n",
       "    </tr>\n",
       "    <tr>\n",
       "      <th>max</th>\n",
       "      <td>NaN</td>\n",
       "      <td>1.000000</td>\n",
       "      <td>1.000000</td>\n",
       "      <td>5.000000</td>\n",
       "      <td>NaN</td>\n",
       "      <td>12.000000</td>\n",
       "      <td>1.000000</td>\n",
       "      <td>1.000000</td>\n",
       "      <td>200.861656</td>\n",
       "      <td>NaN</td>\n",
       "    </tr>\n",
       "  </tbody>\n",
       "</table>\n",
       "</div>"
      ],
      "text/plain": [
       "       department     promoted       review     projects  salary       tenure   \n",
       "count        9540  9540.000000  9540.000000  9540.000000    9540  9540.000000  \\\n",
       "unique         10          NaN          NaN          NaN       3          NaN   \n",
       "top         sales          NaN          NaN          NaN  medium          NaN   \n",
       "freq         1883          NaN          NaN          NaN    6611          NaN   \n",
       "mean          NaN     0.030294     0.651826     3.274843     NaN     6.556184   \n",
       "std           NaN     0.171403     0.085307     0.579136     NaN     1.415432   \n",
       "min           NaN     0.000000     0.310000     2.000000     NaN     2.000000   \n",
       "1%            NaN     0.000000     0.461668     2.000000     NaN     4.000000   \n",
       "10%           NaN     0.000000     0.546093     3.000000     NaN     5.000000   \n",
       "25%           NaN     0.000000     0.592884     3.000000     NaN     5.000000   \n",
       "50%           NaN     0.000000     0.647456     3.000000     NaN     7.000000   \n",
       "75%           NaN     0.000000     0.708379     4.000000     NaN     8.000000   \n",
       "90%           NaN     0.000000     0.765393     4.000000     NaN     8.000000   \n",
       "99%           NaN     1.000000     0.857704     4.000000     NaN    10.000000   \n",
       "max           NaN     1.000000     1.000000     5.000000     NaN    12.000000   \n",
       "\n",
       "        satisfaction        bonus  avg_hrs_month label  \n",
       "count    9540.000000  9540.000000    9540.000000  9540  \n",
       "unique           NaN          NaN            NaN     2  \n",
       "top              NaN          NaN            NaN    no  \n",
       "freq             NaN          NaN            NaN  6756  \n",
       "mean        0.504645     0.212158     184.661571   NaN  \n",
       "std         0.158555     0.408936       4.144831   NaN  \n",
       "min         0.000000     0.000000     171.374060   NaN  \n",
       "1%          0.164069     0.000000     175.968689   NaN  \n",
       "10%         0.300923     0.000000     179.340896   NaN  \n",
       "25%         0.386801     0.000000     181.472085   NaN  \n",
       "50%         0.500786     0.000000     184.628796   NaN  \n",
       "75%         0.622607     0.000000     187.728708   NaN  \n",
       "90%         0.714491     1.000000     189.772293   NaN  \n",
       "99%         0.855588     1.000000     194.245948   NaN  \n",
       "max         1.000000     1.000000     200.861656   NaN  "
      ]
     },
     "execution_count": 125,
     "metadata": {},
     "output_type": "execute_result"
    }
   ],
   "source": [
    "data.describe(percentiles=[0.01, 0.10, 0.25, 0.50, 0.75, 0.90,0.99], include='all')"
   ]
  },
  {
   "attachments": {},
   "cell_type": "markdown",
   "metadata": {},
   "source": [
    "#### Finish Preprocessing Dataset"
   ]
  },
  {
   "cell_type": "code",
   "execution_count": 126,
   "metadata": {},
   "outputs": [
    {
     "name": "stdout",
     "output_type": "stream",
     "text": [
      "<class 'pandas.core.frame.DataFrame'>\n",
      "RangeIndex: 9540 entries, 0 to 9539\n",
      "Data columns (total 10 columns):\n",
      " #   Column         Non-Null Count  Dtype  \n",
      "---  ------         --------------  -----  \n",
      " 0   department     9540 non-null   object \n",
      " 1   promoted       9540 non-null   float64\n",
      " 2   review         9540 non-null   float64\n",
      " 3   projects       9540 non-null   float64\n",
      " 4   salary         9540 non-null   object \n",
      " 5   tenure         9540 non-null   float64\n",
      " 6   satisfaction   9540 non-null   float64\n",
      " 7   bonus          9540 non-null   float16\n",
      " 8   avg_hrs_month  9540 non-null   float64\n",
      " 9   label          9540 non-null   float16\n",
      "dtypes: float16(2), float64(6), object(2)\n",
      "memory usage: 633.6+ KB\n"
     ]
    }
   ],
   "source": [
    "data['label'] = data['label'].replace(\n",
    "    {\n",
    "        \"no\": 0.0, \n",
    "        \"yes\": 1.0\n",
    "    }\n",
    "    ).astype(np.float16)\n",
    "\n",
    "data.info()"
   ]
  },
  {
   "attachments": {},
   "cell_type": "markdown",
   "metadata": {},
   "source": [
    "### Prepare Shared Pipeline Data & Stages/Steps"
   ]
  },
  {
   "attachments": {},
   "cell_type": "markdown",
   "metadata": {},
   "source": [
    "#### Split Dataset into Training & Testing Datasets"
   ]
  },
  {
   "cell_type": "code",
   "execution_count": 127,
   "metadata": {},
   "outputs": [
    {
     "name": "stdout",
     "output_type": "stream",
     "text": [
      "Training Inputs Dataset Shape: (7632, 9)\n",
      "Training Outputs Dataset Shape: (7632,)\n",
      "\n",
      "Testing Inputs Dataset Shape: (1908, 9)\n",
      "Testing Outputs Dataset Shape: (1908,)\n"
     ]
    }
   ],
   "source": [
    "y = data['label']\n",
    "X = data.drop(columns=['label'], axis=1)\n",
    "\n",
    "X_train, X_test, y_train, y_test = train_test_split(X, \n",
    "                                                    y, \n",
    "                                                    test_size=0.20, \n",
    "                                                    random_state=42)\n",
    "\n",
    "print(f\"Training Inputs Dataset Shape: {X_train.shape}\")\n",
    "print(f\"Training Outputs Dataset Shape: {y_train.shape}\\n\")\n",
    "print(f\"Testing Inputs Dataset Shape: {X_test.shape}\")\n",
    "print(f\"Testing Outputs Dataset Shape: {y_test.shape}\")"
   ]
  },
  {
   "attachments": {},
   "cell_type": "markdown",
   "metadata": {},
   "source": [
    "#### Define Column Lists for Transformers (Pipeline Stages) & Transform to Integer Values"
   ]
  },
  {
   "cell_type": "code",
   "execution_count": 128,
   "metadata": {},
   "outputs": [],
   "source": [
    "features_to_remove_outliers = [\"review\", \n",
    "                               \"satisfaction\", \n",
    "                               \"avg_hrs_month\"]\n",
    "\n",
    "ord_features = [\"tenure\", \n",
    "                \"salary\"]\n",
    "\n",
    "nom_features = [\"department\"]"
   ]
  },
  {
   "attachments": {},
   "cell_type": "markdown",
   "metadata": {},
   "source": [
    "#### Remove Outliers"
   ]
  },
  {
   "cell_type": "code",
   "execution_count": 129,
   "metadata": {},
   "outputs": [],
   "source": [
    "# Remove outliers using the 'IQR * 1.5' rule\n",
    "def remove_outliers(df, features_to_remove):\n",
    "    df = pd.DataFrame(df).copy()\n",
    "    for feat in features_to_remove:\n",
    "        x = df[feat]\n",
    "        q1, q3 = x.quantile([0.25, 0.75])\n",
    "        iqr = q3-q1\n",
    "        ul = q3 + (iqr * 1.5)\n",
    "        ll = q1 - (iqr * 1.5)\n",
    "        neo_df = df[(df[feat] >= ll) | (df[feat] <= ul)]\n",
    "    return neo_df\n",
    "\n",
    "outlier_remover = FunctionTransformer(remove_outliers, \n",
    "                                      kw_args={\n",
    "                                          'features_to_remove': features_to_remove_outliers\n",
    "                                          }\n",
    "                                      )"
   ]
  },
  {
   "attachments": {},
   "cell_type": "markdown",
   "metadata": {},
   "source": [
    "#### Create Column Transformer"
   ]
  },
  {
   "cell_type": "code",
   "execution_count": 130,
   "metadata": {},
   "outputs": [],
   "source": [
    "encoder_col_transformer = ColumnTransformer(\n",
    "    [\n",
    "        (\n",
    "            \"remove_outliers\",\n",
    "            outlier_remover,\n",
    "            features_to_remove_outliers\n",
    "        ),\n",
    "        (\n",
    "            'ord_encoder', \n",
    "            OrdinalEncoder(handle_unknown='use_encoded_value', \n",
    "                           unknown_value=-1,\n",
    "                           dtype=np.float64), \n",
    "            ord_features\n",
    "            ), \n",
    "        (\n",
    "            'ohe', \n",
    "            OneHotEncoder(handle_unknown='ignore',\n",
    "                          dtype=np.float64), \n",
    "            nom_features)\n",
    "    ], \n",
    "    remainder='passthrough')"
   ]
  },
  {
   "attachments": {},
   "cell_type": "markdown",
   "metadata": {},
   "source": [
    "#### Metrics Evaluation Method"
   ]
  },
  {
   "cell_type": "code",
   "execution_count": 131,
   "metadata": {},
   "outputs": [],
   "source": [
    "def metrics_evaluation(classifier_type,\n",
    "                       y_test, \n",
    "                       y_pred_cv):\n",
    "    \n",
    "    \n",
    "    print(\"+-------------------------------------------------------------------------+\")\n",
    "    print(f\"\\tConfusion Matrix for {classifier_type}\")\n",
    "    print(\"+-------------------------------------------------------------------------+\")\n",
    "    \n",
    "    cm = confusion_matrix(y_test, \n",
    "                          y_pred_cv)\n",
    "\n",
    "    display_cm = ConfusionMatrixDisplay(cm, \n",
    "                                        display_labels=[\n",
    "                                            \"Stayed\", \n",
    "                                            \"Left\"\n",
    "                                            ]\n",
    "                                        )\n",
    "\n",
    "    display_cm.plot()\n",
    "    plt.show()\n",
    "    \n",
    "    print(\"+-----------------------------------------------------+\")\n",
    "    print(f\"\\tClassification Report for {classifier_type}\")\n",
    "    print(\"+-----------------------------------------------------+\")\n",
    "    \n",
    "    print(classification_report(y_test, \n",
    "                                y_pred_cv, \n",
    "                                target_names=[\n",
    "                                    \"Stayed\", \n",
    "                                    \"Left\"]\n",
    "                                )\n",
    "          )"
   ]
  },
  {
   "attachments": {},
   "cell_type": "markdown",
   "metadata": {},
   "source": [
    "### Random Forest Classifier"
   ]
  },
  {
   "attachments": {},
   "cell_type": "markdown",
   "metadata": {},
   "source": [
    "#### Define Pipeline"
   ]
  },
  {
   "cell_type": "code",
   "execution_count": 132,
   "metadata": {},
   "outputs": [],
   "source": [
    "def random_forest_classifier():\n",
    "    \"\"\"\n",
    "    This function creates the random forest classifier.\n",
    "    \"\"\"\n",
    "    random_forest_pipe = Pipeline(\n",
    "        [\n",
    "            (\n",
    "                'encoder_column_transformer', \n",
    "                encoder_col_transformer),\n",
    "            (\n",
    "                \"scaler\",\n",
    "                StandardScaler()),\n",
    "            (\n",
    "                'random_forest', \n",
    "                RandomForestClassifier(criterion=\"entropy\",\n",
    "                                       n_estimators=200,\n",
    "                                       random_state=42)\n",
    "             ),\n",
    "        ]\n",
    "        )\n",
    "    \n",
    "    return random_forest_pipe"
   ]
  },
  {
   "attachments": {},
   "cell_type": "markdown",
   "metadata": {},
   "source": [
    "#### Define Model"
   ]
  },
  {
   "cell_type": "code",
   "execution_count": 133,
   "metadata": {},
   "outputs": [
    {
     "data": {
      "text/plain": [
       "{'encoder_column_transformer': ColumnTransformer(remainder='passthrough',\n",
       "                   transformers=[('remove_outliers',\n",
       "                                  FunctionTransformer(func=<function remove_outliers at 0x7fccaa299ee0>,\n",
       "                                                      kw_args={'features_to_remove': ['review',\n",
       "                                                                                      'satisfaction',\n",
       "                                                                                      'avg_hrs_month']}),\n",
       "                                  ['review', 'satisfaction', 'avg_hrs_month']),\n",
       "                                 ('ord_encoder',\n",
       "                                  OrdinalEncoder(handle_unknown='use_encoded_value',\n",
       "                                                 unknown_value=-1),\n",
       "                                  ['tenure', 'salary']),\n",
       "                                 ('ohe', OneHotEncoder(handle_unknown='ignore'),\n",
       "                                  ['department'])]),\n",
       " 'scaler': StandardScaler(),\n",
       " 'random_forest': RandomForestClassifier(criterion='entropy', n_estimators=200, random_state=42)}"
      ]
     },
     "execution_count": 133,
     "metadata": {},
     "output_type": "execute_result"
    }
   ],
   "source": [
    "rfc = random_forest_classifier()\n",
    "\n",
    "rfc.named_steps"
   ]
  },
  {
   "attachments": {},
   "cell_type": "markdown",
   "metadata": {},
   "source": [
    "#### Fit Dataset to Random Forest Classifier"
   ]
  },
  {
   "cell_type": "code",
   "execution_count": 134,
   "metadata": {},
   "outputs": [],
   "source": [
    "y_pred_cv = cross_val_predict(rfc, \n",
    "                              X_train, \n",
    "                              y_train, \n",
    "                              cv=10)"
   ]
  },
  {
   "attachments": {},
   "cell_type": "markdown",
   "metadata": {},
   "source": [
    "#### Metrics Evaluation"
   ]
  },
  {
   "cell_type": "code",
   "execution_count": 135,
   "metadata": {},
   "outputs": [
    {
     "name": "stdout",
     "output_type": "stream",
     "text": [
      "+-------------------------------------------------------------------------+\n",
      "\tConfusion Matrix for Random Forest\n",
      "+-------------------------------------------------------------------------+\n"
     ]
    },
    {
     "data": {
      "image/png": "[encoded data removed]",
      "text/plain": [
       "<Figure size 640x480 with 2 Axes>"
      ]
     },
     "metadata": {},
     "output_type": "display_data"
    },
    {
     "name": "stdout",
     "output_type": "stream",
     "text": [
      "+-----------------------------------------------------+\n",
      "\tClassification Report for Random Forest\n",
      "+-----------------------------------------------------+\n",
      "              precision    recall  f1-score   support\n",
      "\n",
      "      Stayed       0.88      0.93      0.91      5426\n",
      "        Left       0.81      0.70      0.75      2206\n",
      "\n",
      "    accuracy                           0.86      7632\n",
      "   macro avg       0.84      0.81      0.83      7632\n",
      "weighted avg       0.86      0.86      0.86      7632\n",
      "\n"
     ]
    }
   ],
   "source": [
    "metrics_evaluation(\"Random Forest\", \n",
    "                       y_train, \n",
    "                       y_pred_cv)"
   ]
  },
  {
   "attachments": {},
   "cell_type": "markdown",
   "metadata": {},
   "source": [
    "### Naive Bayes Classifier"
   ]
  },
  {
   "attachments": {},
   "cell_type": "markdown",
   "metadata": {},
   "source": [
    "#### Define Pipeline"
   ]
  },
  {
   "cell_type": "code",
   "execution_count": 136,
   "metadata": {},
   "outputs": [],
   "source": [
    "def naive_bayes_classifier():\n",
    "    \"\"\"\n",
    "    This function creates the naive bayes classifier.\n",
    "    \"\"\"\n",
    "    naive_bayes_pipe = Pipeline(\n",
    "        [\n",
    "            (\n",
    "                'encoder_column_transformer', \n",
    "                encoder_col_transformer),\n",
    "            (\n",
    "                'smote',\n",
    "                SMOTE(random_state=42, sampling_strategy='all')),\n",
    "            (\n",
    "                'scaler', \n",
    "                MinMaxScaler(),\n",
    "            ),\n",
    "            (\n",
    "                'naive_bayes', \n",
    "                MultinomialNB()\n",
    "             ),\n",
    "        ]\n",
    "        )\n",
    "    \n",
    "    return naive_bayes_pipe"
   ]
  },
  {
   "attachments": {},
   "cell_type": "markdown",
   "metadata": {},
   "source": [
    "#### Fit Model"
   ]
  },
  {
   "cell_type": "code",
   "execution_count": 137,
   "metadata": {},
   "outputs": [
    {
     "data": {
      "text/plain": [
       "{'encoder_column_transformer': ColumnTransformer(remainder='passthrough',\n",
       "                   transformers=[('remove_outliers',\n",
       "                                  FunctionTransformer(func=<function remove_outliers at 0x7fccaa299ee0>,\n",
       "                                                      kw_args={'features_to_remove': ['review',\n",
       "                                                                                      'satisfaction',\n",
       "                                                                                      'avg_hrs_month']}),\n",
       "                                  ['review', 'satisfaction', 'avg_hrs_month']),\n",
       "                                 ('ord_encoder',\n",
       "                                  OrdinalEncoder(handle_unknown='use_encoded_value',\n",
       "                                                 unknown_value=-1),\n",
       "                                  ['tenure', 'salary']),\n",
       "                                 ('ohe', OneHotEncoder(handle_unknown='ignore'),\n",
       "                                  ['department'])]),\n",
       " 'smote': SMOTE(random_state=42, sampling_strategy='all'),\n",
       " 'scaler': MinMaxScaler(),\n",
       " 'naive_bayes': MultinomialNB()}"
      ]
     },
     "execution_count": 137,
     "metadata": {},
     "output_type": "execute_result"
    }
   ],
   "source": [
    "nbc = naive_bayes_classifier()\n",
    "\n",
    "nbc.named_steps"
   ]
  },
  {
   "attachments": {},
   "cell_type": "markdown",
   "metadata": {},
   "source": [
    "#### Fit Naive Bayes Classifier to Dataset"
   ]
  },
  {
   "cell_type": "code",
   "execution_count": 138,
   "metadata": {},
   "outputs": [],
   "source": [
    "y_pred_cv = cross_val_predict(nbc, \n",
    "                              X_train, \n",
    "                              y_train, \n",
    "                              n_jobs=-1,\n",
    "                              cv=10)"
   ]
  },
  {
   "attachments": {},
   "cell_type": "markdown",
   "metadata": {},
   "source": [
    "#### Metrics Evaluation"
   ]
  },
  {
   "cell_type": "code",
   "execution_count": 139,
   "metadata": {},
   "outputs": [
    {
     "name": "stdout",
     "output_type": "stream",
     "text": [
      "+-------------------------------------------------------------------------+\n",
      "\tConfusion Matrix for Naive Bayes\n",
      "+-------------------------------------------------------------------------+\n"
     ]
    },
    {
     "data": {
      "image/png": "[encoded data removed]",
      "text/plain": [
       "<Figure size 640x480 with 2 Axes>"
      ]
     },
     "metadata": {},
     "output_type": "display_data"
    },
    {
     "name": "stdout",
     "output_type": "stream",
     "text": [
      "+-----------------------------------------------------+\n",
      "\tClassification Report for Naive Bayes\n",
      "+-----------------------------------------------------+\n",
      "              precision    recall  f1-score   support\n",
      "\n",
      "      Stayed       0.75      0.49      0.59      5426\n",
      "        Left       0.32      0.60      0.42      2206\n",
      "\n",
      "    accuracy                           0.52      7632\n",
      "   macro avg       0.54      0.54      0.50      7632\n",
      "weighted avg       0.63      0.52      0.54      7632\n",
      "\n"
     ]
    }
   ],
   "source": [
    "metrics_evaluation(\"Naive Bayes\", \n",
    "                       y_train, \n",
    "                       y_pred_cv)"
   ]
  },
  {
   "attachments": {},
   "cell_type": "markdown",
   "metadata": {},
   "source": [
    "### Logistic Regression Classifier"
   ]
  },
  {
   "attachments": {},
   "cell_type": "markdown",
   "metadata": {},
   "source": [
    "#### Define Pipeline"
   ]
  },
  {
   "cell_type": "code",
   "execution_count": 140,
   "metadata": {},
   "outputs": [],
   "source": [
    "def logistic_regression_classifier():\n",
    "    \"\"\"\n",
    "    This function creates the logistic regression classifier.\n",
    "    \"\"\"\n",
    "    log_reg_pipe = Pipeline(\n",
    "        [\n",
    "            (\n",
    "                'encoder_column_transformer', \n",
    "                encoder_col_transformer),\n",
    "            (\n",
    "                \"scaler\",\n",
    "                StandardScaler()),\n",
    "            (\n",
    "                'smote',\n",
    "                SMOTE(random_state=42, sampling_strategy='all')),\n",
    "            (\n",
    "                'log_reg', \n",
    "                LogisticRegression(solver='newton-cholesky', \n",
    "                                   max_iter=300,\n",
    "                                   penalty='l2',\n",
    "                                   C=0.95,\n",
    "                                   n_jobs=-1)\n",
    "             ),\n",
    "        ]\n",
    "        )\n",
    "    \n",
    "    return log_reg_pipe"
   ]
  },
  {
   "attachments": {},
   "cell_type": "markdown",
   "metadata": {},
   "source": [
    "#### Fit Model"
   ]
  },
  {
   "cell_type": "code",
   "execution_count": 141,
   "metadata": {},
   "outputs": [
    {
     "data": {
      "text/plain": [
       "{'encoder_column_transformer': ColumnTransformer(remainder='passthrough',\n",
       "                   transformers=[('remove_outliers',\n",
       "                                  FunctionTransformer(func=<function remove_outliers at 0x7fccaa299ee0>,\n",
       "                                                      kw_args={'features_to_remove': ['review',\n",
       "                                                                                      'satisfaction',\n",
       "                                                                                      'avg_hrs_month']}),\n",
       "                                  ['review', 'satisfaction', 'avg_hrs_month']),\n",
       "                                 ('ord_encoder',\n",
       "                                  OrdinalEncoder(handle_unknown='use_encoded_value',\n",
       "                                                 unknown_value=-1),\n",
       "                                  ['tenure', 'salary']),\n",
       "                                 ('ohe', OneHotEncoder(handle_unknown='ignore'),\n",
       "                                  ['department'])]),\n",
       " 'scaler': StandardScaler(),\n",
       " 'smote': SMOTE(random_state=42, sampling_strategy='all'),\n",
       " 'log_reg': LogisticRegression(C=0.95, max_iter=300, n_jobs=-1, solver='newton-cholesky')}"
      ]
     },
     "execution_count": 141,
     "metadata": {},
     "output_type": "execute_result"
    }
   ],
   "source": [
    "log_reg = logistic_regression_classifier()\n",
    "\n",
    "log_reg.named_steps"
   ]
  },
  {
   "attachments": {},
   "cell_type": "markdown",
   "metadata": {},
   "source": [
    "#### Fit Logistic Regression Classifier to Dataset"
   ]
  },
  {
   "cell_type": "code",
   "execution_count": 142,
   "metadata": {},
   "outputs": [],
   "source": [
    "y_pred_cv = cross_val_predict(log_reg, \n",
    "                              X_train, \n",
    "                              y_train, \n",
    "                              n_jobs=-1,\n",
    "                              cv=10)"
   ]
  },
  {
   "attachments": {},
   "cell_type": "markdown",
   "metadata": {},
   "source": [
    "#### Metrics Evaluation"
   ]
  },
  {
   "cell_type": "code",
   "execution_count": 143,
   "metadata": {},
   "outputs": [
    {
     "name": "stdout",
     "output_type": "stream",
     "text": [
      "+-------------------------------------------------------------------------+\n",
      "\tConfusion Matrix for Logistic Regression\n",
      "+-------------------------------------------------------------------------+\n"
     ]
    },
    {
     "data": {
      "image/png": "[encoded data removed]",
      "text/plain": [
       "<Figure size 640x480 with 2 Axes>"
      ]
     },
     "metadata": {},
     "output_type": "display_data"
    },
    {
     "name": "stdout",
     "output_type": "stream",
     "text": [
      "+-----------------------------------------------------+\n",
      "\tClassification Report for Logistic Regression\n",
      "+-----------------------------------------------------+\n",
      "              precision    recall  f1-score   support\n",
      "\n",
      "      Stayed       0.83      0.66      0.74      5426\n",
      "        Left       0.45      0.67      0.54      2206\n",
      "\n",
      "    accuracy                           0.67      7632\n",
      "   macro avg       0.64      0.67      0.64      7632\n",
      "weighted avg       0.72      0.67      0.68      7632\n",
      "\n"
     ]
    }
   ],
   "source": [
    "metrics_evaluation(\"Logistic Regression\", \n",
    "                       y_train, \n",
    "                       y_pred_cv)"
   ]
  },
  {
   "attachments": {},
   "cell_type": "markdown",
   "metadata": {},
   "source": [
    "### K-Nearest Neighbors Classifier"
   ]
  },
  {
   "attachments": {},
   "cell_type": "markdown",
   "metadata": {},
   "source": [
    "#### Define KNN Pipeline"
   ]
  },
  {
   "cell_type": "code",
   "execution_count": 144,
   "metadata": {},
   "outputs": [],
   "source": [
    "def knn_classifier():\n",
    "    \"\"\"\n",
    "    This function creates the K-Nearest Neighbors classifier.\n",
    "    \"\"\"\n",
    "    knn_pipe = Pipeline(\n",
    "        [\n",
    "            (\n",
    "                'encoder_column_transformer', \n",
    "                encoder_col_transformer),\n",
    "            (\n",
    "                \"scaler\",\n",
    "                StandardScaler()\n",
    "            ),\n",
    "            (\n",
    "                'smote',\n",
    "                SMOTE(random_state=42, sampling_strategy='all')),\n",
    "            (\n",
    "                'knn_clf', \n",
    "                KNeighborsClassifier(weights='distance',\n",
    "                                     p=1,\n",
    "                                     n_neighbors=3)\n",
    "             ),\n",
    "        ]\n",
    "        )\n",
    "    \n",
    "    return knn_pipe"
   ]
  },
  {
   "attachments": {},
   "cell_type": "markdown",
   "metadata": {},
   "source": [
    "#### Fit Model"
   ]
  },
  {
   "cell_type": "code",
   "execution_count": 145,
   "metadata": {},
   "outputs": [
    {
     "data": {
      "text/plain": [
       "{'encoder_column_transformer': ColumnTransformer(remainder='passthrough',\n",
       "                   transformers=[('remove_outliers',\n",
       "                                  FunctionTransformer(func=<function remove_outliers at 0x7fccaa299ee0>,\n",
       "                                                      kw_args={'features_to_remove': ['review',\n",
       "                                                                                      'satisfaction',\n",
       "                                                                                      'avg_hrs_month']}),\n",
       "                                  ['review', 'satisfaction', 'avg_hrs_month']),\n",
       "                                 ('ord_encoder',\n",
       "                                  OrdinalEncoder(handle_unknown='use_encoded_value',\n",
       "                                                 unknown_value=-1),\n",
       "                                  ['tenure', 'salary']),\n",
       "                                 ('ohe', OneHotEncoder(handle_unknown='ignore'),\n",
       "                                  ['department'])]),\n",
       " 'scaler': StandardScaler(),\n",
       " 'smote': SMOTE(random_state=42, sampling_strategy='all'),\n",
       " 'knn_clf': KNeighborsClassifier(n_neighbors=3, p=1, weights='distance')}"
      ]
     },
     "execution_count": 145,
     "metadata": {},
     "output_type": "execute_result"
    }
   ],
   "source": [
    "knn_clf = knn_classifier()\n",
    "\n",
    "knn_clf.named_steps"
   ]
  },
  {
   "attachments": {},
   "cell_type": "markdown",
   "metadata": {},
   "source": [
    "#### Fit KNN Classifier to Dataset"
   ]
  },
  {
   "cell_type": "code",
   "execution_count": 146,
   "metadata": {},
   "outputs": [],
   "source": [
    "y_pred_cv = cross_val_predict(knn_clf, \n",
    "                              X_train, \n",
    "                              y_train, \n",
    "                              n_jobs=-1,\n",
    "                              cv=10)"
   ]
  },
  {
   "attachments": {},
   "cell_type": "markdown",
   "metadata": {},
   "source": [
    "#### Metrics Evaluation"
   ]
  },
  {
   "cell_type": "code",
   "execution_count": 147,
   "metadata": {},
   "outputs": [
    {
     "name": "stdout",
     "output_type": "stream",
     "text": [
      "+-------------------------------------------------------------------------+\n",
      "\tConfusion Matrix for K-Nearest Neighbors\n",
      "+-------------------------------------------------------------------------+\n"
     ]
    },
    {
     "data": {
      "image/png": "[encoded data removed]",
      "text/plain": [
       "<Figure size 640x480 with 2 Axes>"
      ]
     },
     "metadata": {},
     "output_type": "display_data"
    },
    {
     "name": "stdout",
     "output_type": "stream",
     "text": [
      "+-----------------------------------------------------+\n",
      "\tClassification Report for K-Nearest Neighbors\n",
      "+-----------------------------------------------------+\n",
      "              precision    recall  f1-score   support\n",
      "\n",
      "      Stayed       0.88      0.80      0.84      5426\n",
      "        Left       0.59      0.72      0.65      2206\n",
      "\n",
      "    accuracy                           0.78      7632\n",
      "   macro avg       0.73      0.76      0.74      7632\n",
      "weighted avg       0.79      0.78      0.78      7632\n",
      "\n"
     ]
    }
   ],
   "source": [
    "metrics_evaluation(\"K-Nearest Neighbors\", \n",
    "                       y_train, \n",
    "                       y_pred_cv)"
   ]
  },
  {
   "attachments": {},
   "cell_type": "markdown",
   "metadata": {},
   "source": [
    "### Single Vector Machine (SVM) Classifier"
   ]
  },
  {
   "attachments": {},
   "cell_type": "markdown",
   "metadata": {},
   "source": [
    "#### Define Pipeline"
   ]
  },
  {
   "cell_type": "code",
   "execution_count": 148,
   "metadata": {},
   "outputs": [],
   "source": [
    "def single_vector_machine_classifier():\n",
    "    \"\"\"\n",
    "    This function creates the Single Vector Machine classifier.\n",
    "    \"\"\"\n",
    "    svm_pipe = Pipeline(\n",
    "        [\n",
    "            (\n",
    "                'encoder_column_transformer', \n",
    "                encoder_col_transformer),\n",
    "            (\n",
    "                \"scaler\",\n",
    "                StandardScaler()),\n",
    "            (\n",
    "                'smote',\n",
    "                SMOTE(random_state=42, \n",
    "                      sampling_strategy='all')),\n",
    "            (\n",
    "                'svm', \n",
    "                SVC(kernel='linear', \n",
    "                    random_state=42, \n",
    "                    verbose=True)\n",
    "             ),\n",
    "        ]\n",
    "        )\n",
    "    \n",
    "    return svm_pipe"
   ]
  },
  {
   "attachments": {},
   "cell_type": "markdown",
   "metadata": {},
   "source": [
    "#### Define Model"
   ]
  },
  {
   "cell_type": "code",
   "execution_count": 149,
   "metadata": {},
   "outputs": [
    {
     "data": {
      "text/plain": [
       "{'encoder_column_transformer': ColumnTransformer(remainder='passthrough',\n",
       "                   transformers=[('remove_outliers',\n",
       "                                  FunctionTransformer(func=<function remove_outliers at 0x7fccaa299ee0>,\n",
       "                                                      kw_args={'features_to_remove': ['review',\n",
       "                                                                                      'satisfaction',\n",
       "                                                                                      'avg_hrs_month']}),\n",
       "                                  ['review', 'satisfaction', 'avg_hrs_month']),\n",
       "                                 ('ord_encoder',\n",
       "                                  OrdinalEncoder(handle_unknown='use_encoded_value',\n",
       "                                                 unknown_value=-1),\n",
       "                                  ['tenure', 'salary']),\n",
       "                                 ('ohe', OneHotEncoder(handle_unknown='ignore'),\n",
       "                                  ['department'])]),\n",
       " 'scaler': StandardScaler(),\n",
       " 'smote': SMOTE(random_state=42, sampling_strategy='all'),\n",
       " 'svm': SVC(kernel='linear', random_state=42, verbose=True)}"
      ]
     },
     "execution_count": 149,
     "metadata": {},
     "output_type": "execute_result"
    }
   ],
   "source": [
    "svm = single_vector_machine_classifier()\n",
    "\n",
    "svm.named_steps"
   ]
  },
  {
   "attachments": {},
   "cell_type": "markdown",
   "metadata": {},
   "source": [
    "#### Fit Classifier to Dataset"
   ]
  },
  {
   "cell_type": "code",
   "execution_count": 150,
   "metadata": {},
   "outputs": [
    {
     "name": "stdout",
     "output_type": "stream",
     "text": [
      "[LibSVM][LibSVM][LibSVM][LibSVM][LibSVM][LibSVM][LibSVM][LibSVM].......................................................................................................................................................................*.............*.............................*....*.........*..........*..................*.........*..................................*....*.......*.....*................................................*\n",
      "optimization finished, #iter = 83551\n",
      "obj = -7220.352047, rho = -0.138004\n",
      "nSV = 7234, nBSV = 7213\n",
      "Total nSV = 7234\n",
      "..................................*........................*.*\n",
      "optimization finished, #iter = 102520\n",
      "obj = -7217.140699, rho = -0.134964\n",
      "nSV = 7228, nBSV = 7207\n",
      "Total nSV = 7228\n",
      "...............................................*................*\n",
      "optimization finished, #iter = 99536\n",
      ".obj = -7283.768707, rho = -0.128927\n",
      "nSV = 7296, nBSV = 7274\n",
      "Total nSV = 7296\n",
      ".........*................................*.......................................*.....................*...*..........*\n",
      "optimization finished, #iter = 104232\n",
      ".obj = -7283.957951, rho = -0.137796\n",
      "nSV = 7296, nBSV = 7274\n",
      "Total nSV = 7296\n",
      ".......[LibSVM]................................[LibSVM]*.*\n",
      "optimization finished, #iter = 83173\n",
      "obj = -7259.650118, rho = -0.139133\n",
      "nSV = 7273, nBSV = 7248\n",
      "Total nSV = 7273\n",
      ".......................................*...........................................*\n",
      "optimization finished, #iter = 98690\n",
      "..obj = -7322.864068, rho = -0.119823\n",
      "nSV = 7337, nBSV = 7316\n",
      ".Total nSV = 7337\n",
      "............*.................................................*...........*\n",
      "optimization finished, #iter = 146672\n",
      "obj = -7257.754656, rho = -0.122428\n",
      "nSV = 7267, nBSV = 7244\n",
      "Total nSV = 7267\n",
      ".......................................*...................*....................*.*\n",
      "optimization finished, #iter = 145964\n",
      "obj = -7220.685888, rho = -0.147428\n",
      "nSV = 7231, nBSV = 7211\n",
      "Total nSV = 7231\n",
      ".........................................................*.\n",
      "Warning: using -h 0 may be faster\n",
      "*..........................*......*......................................*...............................*\n",
      "optimization finished, #iter = 95036\n",
      "..........obj = -7345.817283, rho = -0.126755\n",
      ".nSV = 7358, nBSV = 7336\n",
      "Total nSV = 7358\n",
      "...........*............................*...*\n",
      "optimization finished, #iter = 117975\n",
      "obj = -7275.224298, rho = -0.126391\n",
      "nSV = 7288, nBSV = 7267\n",
      "Total nSV = 7288\n"
     ]
    }
   ],
   "source": [
    "y_pred_cv = cross_val_predict(svm, \n",
    "                              X_train, \n",
    "                              y_train, \n",
    "                              n_jobs=-1,\n",
    "                              cv=10)"
   ]
  },
  {
   "attachments": {},
   "cell_type": "markdown",
   "metadata": {},
   "source": [
    "#### Evaluation Metrics"
   ]
  },
  {
   "cell_type": "code",
   "execution_count": 151,
   "metadata": {},
   "outputs": [
    {
     "name": "stdout",
     "output_type": "stream",
     "text": [
      "+-------------------------------------------------------------------------+\n",
      "\tConfusion Matrix for Single Vector Machine\n",
      "+-------------------------------------------------------------------------+\n"
     ]
    },
    {
     "data": {
      "image/png": "[encoded data removed]",
      "text/plain": [
       "<Figure size 640x480 with 2 Axes>"
      ]
     },
     "metadata": {},
     "output_type": "display_data"
    },
    {
     "name": "stdout",
     "output_type": "stream",
     "text": [
      "+-----------------------------------------------------+\n",
      "\tClassification Report for Single Vector Machine\n",
      "+-----------------------------------------------------+\n",
      "              precision    recall  f1-score   support\n",
      "\n",
      "      Stayed       0.84      0.65      0.73      5426\n",
      "        Left       0.44      0.69      0.54      2206\n",
      "\n",
      "    accuracy                           0.66      7632\n",
      "   macro avg       0.64      0.67      0.63      7632\n",
      "weighted avg       0.72      0.66      0.67      7632\n",
      "\n"
     ]
    }
   ],
   "source": [
    "metrics_evaluation(\"Single Vector Machine\", \n",
    "                       y_train, \n",
    "                       y_pred_cv)"
   ]
  },
  {
   "attachments": {},
   "cell_type": "markdown",
   "metadata": {},
   "source": [
    "### Gradient Boosting Classifier Classifier"
   ]
  },
  {
   "attachments": {},
   "cell_type": "markdown",
   "metadata": {},
   "source": [
    "#### Parameters for Gradient Bossting Classifier"
   ]
  },
  {
   "cell_type": "code",
   "execution_count": 152,
   "metadata": {},
   "outputs": [],
   "source": [
    "params = {'booster':'dart',\n",
    "          'use_label_encoder': False,\n",
    "          'n_estimators':125,\n",
    "          'reg_alpha':0.10,\n",
    "          'reg_lambda':0.10,\n",
    "          'learning_rate':0.125,\n",
    "          'random_state':42,\n",
    "          'tree_method':'approx', \n",
    "          'eval_metric':['error'],\n",
    "          'objective':'binary:logistic'}"
   ]
  },
  {
   "attachments": {},
   "cell_type": "markdown",
   "metadata": {},
   "source": [
    "#### Define Pipeline"
   ]
  },
  {
   "cell_type": "code",
   "execution_count": 153,
   "metadata": {},
   "outputs": [],
   "source": [
    "def gradient_boosted_classifier(params):\n",
    "    \"\"\"\n",
    "    This function creates \n",
    "    gradient boosting classifier.\n",
    "    \"\"\"\n",
    "    xgb_pipe = Pipeline(\n",
    "        [\n",
    "            (\n",
    "                'encoder_column_transformer', \n",
    "                encoder_col_transformer),\n",
    "            (\n",
    "                'xgb_clf', \n",
    "                XGBClassifier(**params)\n",
    "             ),\n",
    "        ])\n",
    "    \n",
    "    return xgb_pipe"
   ]
  },
  {
   "attachments": {},
   "cell_type": "markdown",
   "metadata": {},
   "source": [
    "#### Fit Model"
   ]
  },
  {
   "cell_type": "code",
   "execution_count": 154,
   "metadata": {},
   "outputs": [
    {
     "name": "stderr",
     "output_type": "stream",
     "text": [
      "/Users/briandunn/Documents/deep_learning/dl/lib/python3.9/site-packages/xgboost/sklearn.py:1395: UserWarning: `use_label_encoder` is deprecated in 1.7.0.\n",
      "  warnings.warn(\"`use_label_encoder` is deprecated in 1.7.0.\")\n"
     ]
    },
    {
     "data": {
      "text/plain": [
       "{'encoder_column_transformer': ColumnTransformer(remainder='passthrough',\n",
       "                   transformers=[('remove_outliers',\n",
       "                                  FunctionTransformer(func=<function remove_outliers at 0x7fccaa299ee0>,\n",
       "                                                      kw_args={'features_to_remove': ['review',\n",
       "                                                                                      'satisfaction',\n",
       "                                                                                      'avg_hrs_month']}),\n",
       "                                  ['review', 'satisfaction', 'avg_hrs_month']),\n",
       "                                 ('ord_encoder',\n",
       "                                  OrdinalEncoder(handle_unknown='use_encoded_value',\n",
       "                                                 unknown_value=-1),\n",
       "                                  ['tenure', 'salary']),\n",
       "                                 ('ohe', OneHotEncoder(handle_unknown='ignore'),\n",
       "                                  ['department'])]),\n",
       " 'xgb_clf': XGBClassifier(base_score=None, booster='dart', callbacks=None,\n",
       "               colsample_bylevel=None, colsample_bynode=None,\n",
       "               colsample_bytree=None, early_stopping_rounds=None,\n",
       "               enable_categorical=False, eval_metric=['error'],\n",
       "               feature_types=None, gamma=None, gpu_id=None, grow_policy=None,\n",
       "               importance_type=None, interaction_constraints=None,\n",
       "               learning_rate=0.125, max_bin=None, max_cat_threshold=None,\n",
       "               max_cat_to_onehot=None, max_delta_step=None, max_depth=None,\n",
       "               max_leaves=None, min_child_weight=None, missing=nan,\n",
       "               monotone_constraints=None, n_estimators=125, n_jobs=None,\n",
       "               num_parallel_tree=None, predictor=None, random_state=42, ...)}"
      ]
     },
     "execution_count": 154,
     "metadata": {},
     "output_type": "execute_result"
    }
   ],
   "source": [
    "xgbc = gradient_boosted_classifier(params)\n",
    "\n",
    "xgbc.named_steps"
   ]
  },
  {
   "attachments": {},
   "cell_type": "markdown",
   "metadata": {},
   "source": [
    "#### Fit Classifier to Training Data "
   ]
  },
  {
   "cell_type": "code",
   "execution_count": 155,
   "metadata": {},
   "outputs": [
    {
     "name": "stderr",
     "output_type": "stream",
     "text": [
      "/Users/briandunn/Documents/deep_learning/dl/lib/python3.9/site-packages/xgboost/sklearn.py:1395: UserWarning: `use_label_encoder` is deprecated in 1.7.0.\n",
      "  warnings.warn(\"`use_label_encoder` is deprecated in 1.7.0.\")\n"
     ]
    }
   ],
   "source": [
    "y_pred_cv = cross_val_predict(xgbc, \n",
    "                              X_train, \n",
    "                              y_train, \n",
    "                              n_jobs=-1,\n",
    "                              cv=10)"
   ]
  },
  {
   "attachments": {},
   "cell_type": "markdown",
   "metadata": {},
   "source": [
    "#### Metrics Evaluation"
   ]
  },
  {
   "cell_type": "code",
   "execution_count": 156,
   "metadata": {},
   "outputs": [
    {
     "name": "stdout",
     "output_type": "stream",
     "text": [
      "+-------------------------------------------------------------------------+\n",
      "\tConfusion Matrix for XGBoost\n",
      "+-------------------------------------------------------------------------+\n"
     ]
    },
    {
     "data": {
      "image/png": "[encoded data removed]",
      "text/plain": [
       "<Figure size 640x480 with 2 Axes>"
      ]
     },
     "metadata": {},
     "output_type": "display_data"
    },
    {
     "name": "stdout",
     "output_type": "stream",
     "text": [
      "+-----------------------------------------------------+\n",
      "\tClassification Report for XGBoost\n",
      "+-----------------------------------------------------+\n",
      "              precision    recall  f1-score   support\n",
      "\n",
      "      Stayed       0.89      0.93      0.91      5426\n",
      "        Left       0.80      0.72      0.76      2206\n",
      "\n",
      "    accuracy                           0.87      7632\n",
      "   macro avg       0.85      0.83      0.84      7632\n",
      "weighted avg       0.87      0.87      0.87      7632\n",
      "\n"
     ]
    }
   ],
   "source": [
    "metrics_evaluation(\"XGBoost\", \n",
    "                       y_train, \n",
    "                       y_pred_cv)"
   ]
  },
  {
   "attachments": {},
   "cell_type": "markdown",
   "metadata": {},
   "source": [
    "### Stacking Classifier (Random Forest, KNN, & SVM)"
   ]
  },
  {
   "attachments": {},
   "cell_type": "markdown",
   "metadata": {},
   "source": [
    "#### Define Estimators"
   ]
  },
  {
   "cell_type": "code",
   "execution_count": 157,
   "metadata": {},
   "outputs": [],
   "source": [
    "estimators = [\n",
    "    (\n",
    "        'random_forest_clf',\n",
    "        random_forest_classifier()\n",
    "    ),\n",
    "    (\n",
    "        'knn_clf',\n",
    "        knn_classifier()\n",
    "    ),\n",
    "    (\n",
    "        'svm_clf',\n",
    "        single_vector_machine_classifier()\n",
    "    )\n",
    "]"
   ]
  },
  {
   "attachments": {},
   "cell_type": "markdown",
   "metadata": {},
   "source": [
    "#### Define Model"
   ]
  },
  {
   "cell_type": "code",
   "execution_count": 158,
   "metadata": {},
   "outputs": [],
   "source": [
    "stacking_clf = StackingClassifier(\n",
    "    estimators=estimators,\n",
    "    final_estimator=XGBClassifier(),\n",
    "    stack_method='predict',\n",
    "    n_jobs=-1\n",
    ")"
   ]
  },
  {
   "attachments": {},
   "cell_type": "markdown",
   "metadata": {},
   "source": [
    "#### Fit Classifier to Training Dataset"
   ]
  },
  {
   "cell_type": "code",
   "execution_count": 159,
   "metadata": {},
   "outputs": [
    {
     "name": "stdout",
     "output_type": "stream",
     "text": [
      "[LibSVM][LibSVM][LibSVM][LibSVM][LibSVM][LibSVM][LibSVM][LibSVM]........................................................................................................................................................*...........................*....................*......*..............*...*...................*....*....................................................................*......................................*.................*..................*..............................*.................*.......*\n",
      "optimization finished, #iter = 102520\n",
      ".*.obj = -7217.140699, rho = -0.134964\n",
      "nSV = 7228, nBSV = 7207\n",
      "Total nSV = 7228\n",
      ".*............*\n",
      "optimization finished, #iter = 83551\n",
      ".obj = -7220.352047, rho = -0.138004\n",
      "nSV = 7234, nBSV = 7213\n",
      "Total nSV = 7234\n",
      ".............................................*............................................................*..............................................*\n",
      "optimization finished, #iter = 104232\n",
      "*obj = -7283.957951, rho = -0.137796\n",
      "nSV = 7296, nBSV = 7274\n",
      "Total nSV = 7296\n",
      "...........*\n",
      "optimization finished, #iter = 146672\n",
      "obj = -7257.754656, rho = -0.122428\n",
      "nSV = 7267, nBSV = 7244\n",
      "Total nSV = 7267\n",
      ".[LibSVM][LibSVM].[LibSVM]....[LibSVM]........................................................*.....................................*...*\n",
      "optimization finished, #iter = 83173\n",
      "obj = -7259.650118, rho = -0.139133\n",
      "nSV = 7273, nBSV = 7248\n",
      "Total nSV = 7273\n",
      "*\n",
      "optimization finished, #iter = 99536\n",
      "obj = -7283.768707, rho = -0.128927\n",
      "nSV = 7296, nBSV = 7274\n",
      "Total nSV = 7296\n",
      "................*...*..........................[LibSVM][LibSVM]..........*.....................*....................*.*\n",
      "optimization finished, #iter = 145964\n",
      "obj = -7220.685888, rho = -0.147428\n",
      "nSV = 7231, nBSV = 7211\n",
      "Total nSV = 7231\n",
      "......[LibSVM]..........................*.........................*\n",
      "optimization finished, #iter = 98690\n",
      "obj = -7322.864068, rho = -0.119823\n",
      "nSV = 7337, nBSV = 7316\n",
      "Total nSV = 7337\n",
      "..[LibSVM].................................................................................................*...*.........................................................*..\n",
      "Warning: using -h 0 may be faster\n",
      "*\n",
      "optimization finished, #iter = 65926\n",
      ".....obj = -5798.384529, rho = -0.104233\n",
      "nSV = 5809, nBSV = 5788\n",
      "Total nSV = 5809\n",
      "....................*....*.......*.....*.......*..*...............................................*...*.*\n",
      "optimization finished, #iter = 78078\n",
      "..obj = -5847.687110, rho = -0.096746\n",
      "nSV = 5858, nBSV = 5837\n",
      "Total nSV = 5858\n",
      ".............*..*.......................................*.....................*\n",
      "optimization finished, #iter = 83167\n",
      ".obj = -5813.794665, rho = -0.116765\n",
      "nSV = 5825, nBSV = 5803\n",
      "Total nSV = 5825\n",
      "................[LibSVM]........................**....*.......................*.......*\n",
      "optimization finished, #iter = 91507\n",
      ".obj = -5827.372327, rho = -0.126652\n",
      "nSV = 5837, nBSV = 5815\n",
      "Total nSV = 5837\n",
      "...................*...*\n",
      "optimization finished, #iter = 62254\n",
      ".obj = -5790.675520, rho = -0.120816\n",
      "nSV = 5803, nBSV = 5781\n",
      "Total nSV = 5803\n",
      ".[LibSVM].......................................*.\n",
      "Warning: using -h 0 may be faster\n",
      "*\n",
      "optimization finished, #iter = 75244\n",
      "obj = -5873.830488, rho = -0.098426\n",
      "nSV = 5887, nBSV = 5865\n",
      "Total nSV = 5887\n",
      "...[LibSVM].........[LibSVM]............[LibSVM].....*...*.......[LibSVM].........*..*..............................*...............*\n",
      "optimization finished, #iter = 78581\n",
      "..obj = -5817.395594, rho = -0.114390\n",
      "nSV = 5828, nBSV = 5807\n",
      "Total nSV = 5828\n",
      ".............................*.................*\n",
      "optimization finished, #iter = 83167\n",
      "obj = -5813.794665, rho = -0.116765\n",
      "nSV = 5825, nBSV = 5803\n",
      "Total nSV = 5825\n",
      "....[LibSVM].[LibSVM]..............................................................................................*.......*.............*................*........................*.......*\n",
      "optimization finished, #iter = 61664\n",
      "obj = -5925.020858, rho = -0.095349\n",
      "nSV = 5936, nBSV = 5916\n",
      "Total nSV = 5936\n",
      "..................................................*...................*..*\n",
      "optimization finished, #iter = 109400\n",
      ".obj = -5949.405240, rho = -0.096068\n",
      "nSV = 5962, nBSV = 5941\n",
      "Total nSV = 5962\n",
      "....................*..*.......................*........*.............*..*[LibSVM]...........................*\n",
      "optimization finished, #iter = 61469\n",
      "obj = -5847.212054, rho = -0.120474\n",
      "nSV = 5862, nBSV = 5839\n",
      "Total nSV = 5862\n",
      "....................................................*\n",
      "optimization finished, #iter = 59890\n",
      "..obj = -5911.883372, rho = -0.120135\n",
      "nSV = 5923, nBSV = 5902\n",
      "Total nSV = 5923\n",
      "..........................*..............*.*\n",
      "optimization finished, #iter = 104826\n",
      "obj = -5897.049174, rho = -0.115676\n",
      "nSV = 5909, nBSV = 5888\n",
      "Total nSV = 5909\n",
      "........[LibSVM].........*................*.........[LibSVM]......[LibSVM]...............................*.................*..*\n",
      "optimization finished, #iter = 109400\n",
      "obj = -5949.405240, rho = -0.096068\n",
      "nSV = 5962, nBSV = 5941\n",
      "Total nSV = 5962\n",
      "[LibSVM]......................................[LibSVM]............*....*..*.\n",
      "Warning: using -h 0 may be faster\n",
      "*..........................*.....................*\n",
      "optimization finished, #iter = 80703\n",
      "obj = -5896.430704, rho = -0.114626\n",
      "nSV = 5908, nBSV = 5886\n",
      "Total nSV = 5908\n",
      "..................................*.................*\n",
      "optimization finished, #iter = 89408\n",
      "obj = -5915.264531, rho = -0.118559\n",
      "nSV = 5928, nBSV = 5905\n",
      "Total nSV = 5928\n",
      "......[LibSVM].[LibSVM]......................................................................*.\n",
      "Warning: using -h 0 may be faster\n",
      "*.......................................................*\n",
      "optimization finished, #iter = 76251\n",
      "obj = -5858.572681, rho = -0.094157\n",
      "nSV = 5872, nBSV = 5850\n",
      "Total nSV = 5872\n",
      ".............................*......*.....................................................*................................................*.*\n",
      "optimization finished, #iter = 119031\n",
      "obj = -5826.205815, rho = -0.105161\n",
      "nSV = 5839, nBSV = 5816\n",
      "Total nSV = 5839\n",
      "..............*....[LibSVM]..................*...........**.....*.....*.....................................*........*\n",
      "optimization finished, #iter = 78326\n",
      "obj = -5778.103358, rho = -0.115529\n",
      "nSV = 5788, nBSV = 5768\n",
      "Total nSV = 5788\n",
      "...................................*.....................*........[LibSVM].........*.......................................................*.............*\n",
      "optimization finished, #iter = 103388\n",
      "...obj = -5906.576135, rho = -0.106107\n",
      "nSV = 5920, nBSV = 5898\n",
      "Total nSV = 5920\n",
      "........*..*\n",
      "optimization finished, #iter = 122615\n",
      "obj = -5856.778288, rho = -0.108757\n",
      "nSV = 5868, nBSV = 5848\n",
      "Total nSV = 5868\n",
      "........................*.....*[LibSVM]....................*.*\n",
      "optimization finished, #iter = 61346\n",
      "obj = -5866.230649, rho = -0.105586\n",
      "nSV = 5878, nBSV = 5856\n",
      "Total nSV = 5878\n",
      "..[LibSVM][LibSVM].........[LibSVM].........................*.\n",
      "Warning: using -h 0 may be faster\n",
      "*..................................................*\n",
      "optimization finished, #iter = 76251\n",
      ".obj = -5858.572681, rho = -0.094157\n",
      "nSV = 5872, nBSV = 5850\n",
      "Total nSV = 5872\n",
      ".................*...*..........................................*.....................*................*.*\n",
      "optimization finished, #iter = 112200\n",
      "obj = -5850.301973, rho = -0.116530\n",
      "nSV = 5861, nBSV = 5842\n",
      "Total nSV = 5861\n",
      "..[LibSVM]......[LibSVM].....................................................*.....*....................................*....................*..................*\n",
      "optimization finished, #iter = 106926\n",
      "..obj = -5841.774207, rho = -0.117220\n",
      "nSV = 5852, nBSV = 5833\n",
      "Total nSV = 5852\n",
      "...............................*..........*..........[LibSVM]...................................................*\n",
      "optimization finished, #iter = 81454\n",
      ".obj = -5811.168439, rho = -0.139793\n",
      "nSV = 5822, nBSV = 5802\n",
      "Total nSV = 5822\n",
      "........................*.....*......*......*........................*.....*.......................................*...........................................*\n",
      "optimization finished, #iter = 105136\n",
      ".obj = -5771.890812, rho = -0.148120\n",
      "nSV = 5785, nBSV = 5766\n",
      "Total nSV = 5785\n",
      "....................*[LibSVM]..............*..........*\n",
      "optimization finished, #iter = 87416\n",
      "obj = -5845.155443, rho = -0.132504\n",
      "nSV = 5858, nBSV = 5839\n",
      "Total nSV = 5858\n",
      ".........................*..............*.........*\n",
      "optimization finished, #iter = 87416\n",
      "...obj = -5845.155443, rho = -0.132504\n",
      "nSV = 5858, nBSV = 5839\n",
      "Total nSV = 5858\n",
      "...........*...*...........................................*......*\n",
      "optimization finished, #iter = 85582\n",
      "obj = -5876.039715, rho = -0.128804\n",
      "nSV = 5888, nBSV = 5869\n",
      "Total nSV = 5888\n",
      "[LibSVM][LibSVM].[LibSVM].....[LibSVM]..........................*....*.........................................*........................................*\n",
      "optimization finished, #iter = 106657\n",
      "obj = -5861.145642, rho = -0.128414\n",
      "nSV = 5873, nBSV = 5853\n",
      "Total nSV = 5873\n",
      "..................[LibSVM].........*....*....................................*.*\n",
      "optimization finished, #iter = 64635\n",
      "obj = -5850.129490, rho = -0.152589\n",
      "nSV = 5862, nBSV = 5837\n",
      "Total nSV = 5862\n",
      "..............[LibSVM]........................*.................*...........................................*.......................*..*\n",
      "optimization finished, #iter = 110182\n",
      "obj = -5781.864968, rho = -0.133796\n",
      "nSV = 5791, nBSV = 5769\n",
      "Total nSV = 5791\n",
      ".........................*.................*.........................................*.........................*......................................................*.*\n",
      "optimization finished, #iter = 159009\n",
      "obj = -5752.559677, rho = -0.148616\n",
      "nSV = 5762, nBSV = 5741\n",
      "Total nSV = 5762\n",
      "..................................*....*.....................................................*........*.*.....*.."
     ]
    },
    {
     "name": "stderr",
     "output_type": "stream",
     "text": [
      "/Users/briandunn/Documents/deep_learning/dl/lib/python3.9/site-packages/joblib/externals/loky/process_executor.py:700: UserWarning: A worker stopped while some jobs were given to the executor. This can be caused by a too short worker timeout or by a memory leak.\n",
      "  warnings.warn(\n"
     ]
    },
    {
     "name": "stdout",
     "output_type": "stream",
     "text": [
      "......................*.................................*\n",
      "optimization finished, #iter = 95260\n",
      "obj = -5799.682196, rho = -0.128886\n",
      "nSV = 5810, nBSV = 5792\n",
      "Total nSV = 5810\n",
      "....................................**..*.\n",
      "optimization finished, #iter = 65439\n",
      "obj = -5745.678028, rho = -0.156866\n",
      "nSV = 5758, nBSV = 5735\n",
      "Total nSV = 5758\n",
      "...*......................................*...............*............*\n",
      "optimization finished, #iter = 98550\n",
      ".obj = -5858.358821, rho = -0.130273\n",
      "nSV = 5868, nBSV = 5848\n",
      "Total nSV = 5868\n",
      ".....................................*..............*.*\n",
      "optimization finished, #iter = 86882\n",
      "obj = -5804.062908, rho = -0.146407\n",
      "nSV = 5818, nBSV = 5793\n",
      "Total nSV = 5818\n",
      "..........................*..*..........................................*..............................*\n",
      "optimization finished, #iter = 98814\n",
      "obj = -5762.175360, rho = -0.144929\n",
      "nSV = 5773, nBSV = 5753\n",
      "Total nSV = 5773\n",
      "....................*.....*..............*\n",
      "optimization finished, #iter = 50792\n",
      "obj = -5817.423020, rho = -0.139410\n",
      "nSV = 5826, nBSV = 5805\n",
      "Total nSV = 5826\n",
      "[LibSVM][LibSVM].......................................................*.\n",
      "Warning: using -h 0 may be faster\n",
      "*...............................*......*.............................................*............................*...*\n",
      "optimization finished, #iter = 117975\n",
      "obj = -7275.224298, rho = -0.126391\n",
      "nSV = 7288, nBSV = 7267\n",
      "Total nSV = 7288\n",
      "............................*..[LibSVM]..............*\n",
      "optimization finished, #iter = 95036\n",
      "obj = -7345.817283, rho = -0.126755\n",
      "nSV = 7358, nBSV = 7336\n",
      "Total nSV = 7358\n",
      "[LibSVM].........................................*.....*......................*.*....*\n",
      "optimization finished, #iter = 61195\n",
      "obj = -5747.681294, rho = -0.141745\n",
      "nSV = 5760, nBSV = 5737\n",
      "Total nSV = 5760\n",
      ".....[LibSVM].......................*...*....................................*..........................*........*\n",
      "optimization finished, #iter = 109401\n",
      "obj = -5840.500326, rho = -0.114430\n",
      "nSV = 5852, nBSV = 5830\n",
      "Total nSV = 5852\n",
      "..[LibSVM]..................................*..............*.................................*....*.*\n",
      "optimization finished, #iter = 80242\n",
      "obj = -5854.113946, rho = -0.137032\n",
      "nSV = 5866, nBSV = 5845\n",
      "Total nSV = 5866\n",
      "...[LibSVM]................................*..*............................*............................*..........*\n",
      "optimization finished, #iter = 106470\n",
      "obj = -5936.083126, rho = -0.119900\n",
      "nSV = 5946, nBSV = 5924\n",
      "Total nSV = 5946\n",
      ".[LibSVM].................................*..*..........................................*..........*\n",
      "optimization finished, #iter = 86404\n",
      "obj = -5822.296941, rho = -0.114325\n",
      "nSV = 5834, nBSV = 5812\n",
      "Total nSV = 5834\n",
      ".[LibSVM]...............................*......*.....................................*.................................*\n",
      "optimization finished, #iter = 107532\n",
      "obj = -5915.468230, rho = -0.103196\n",
      "nSV = 5926, nBSV = 5905\n",
      "Total nSV = 5926\n",
      "..[LibSVM]...............................*...*.................................*................*\n",
      "optimization finished, #iter = 86473\n",
      "obj = -5812.020574, rho = -0.140364\n",
      "nSV = 5822, nBSV = 5803\n",
      "Total nSV = 5822\n",
      ".[LibSVM].....................................*........*...............*.................*\n",
      "optimization finished, #iter = 73319\n",
      "obj = -5906.769672, rho = -0.132167\n",
      "nSV = 5919, nBSV = 5897\n",
      "Total nSV = 5919\n",
      "...[LibSVM].....................*...*............................*......................*.*\n",
      "optimization finished, #iter = 81774\n",
      "obj = -5827.593160, rho = -0.136989\n",
      "nSV = 5841, nBSV = 5820\n",
      "Total nSV = 5841\n",
      "............................*...*............................*......................*.*\n",
      "optimization finished, #iter = 81774\n",
      "obj = -5827.593160, rho = -0.136989\n",
      "nSV = 5841, nBSV = 5820\n",
      "Total nSV = 5841\n"
     ]
    }
   ],
   "source": [
    "y_pred_cv = cross_val_predict(stacking_clf, \n",
    "                              X_train, \n",
    "                              y_train, \n",
    "                              n_jobs=-1,\n",
    "                              cv=10)"
   ]
  },
  {
   "attachments": {},
   "cell_type": "markdown",
   "metadata": {},
   "source": [
    "#### Confusion Matrix"
   ]
  },
  {
   "cell_type": "code",
   "execution_count": 160,
   "metadata": {},
   "outputs": [
    {
     "name": "stdout",
     "output_type": "stream",
     "text": [
      "+-------------------------------------------------------------------------+\n",
      "\tConfusion Matrix for Stacking Classifier\n",
      "+-------------------------------------------------------------------------+\n"
     ]
    },
    {
     "data": {
      "image/png": "[encoded data removed]",
      "text/plain": [
       "<Figure size 640x480 with 2 Axes>"
      ]
     },
     "metadata": {},
     "output_type": "display_data"
    },
    {
     "name": "stdout",
     "output_type": "stream",
     "text": [
      "+-----------------------------------------------------+\n",
      "\tClassification Report for Stacking Classifier\n",
      "+-----------------------------------------------------+\n",
      "              precision    recall  f1-score   support\n",
      "\n",
      "      Stayed       0.88      0.93      0.91      5426\n",
      "        Left       0.81      0.70      0.75      2206\n",
      "\n",
      "    accuracy                           0.86      7632\n",
      "   macro avg       0.84      0.81      0.83      7632\n",
      "weighted avg       0.86      0.86      0.86      7632\n",
      "\n"
     ]
    }
   ],
   "source": [
    "metrics_evaluation(\"Stacking Classifier\", \n",
    "                       y_train, \n",
    "                       y_pred_cv)"
   ]
  },
  {
   "attachments": {},
   "cell_type": "markdown",
   "metadata": {},
   "source": [
    "### Voting Classifier"
   ]
  },
  {
   "attachments": {},
   "cell_type": "markdown",
   "metadata": {},
   "source": [
    "#### Define Estimators"
   ]
  },
  {
   "cell_type": "code",
   "execution_count": 161,
   "metadata": {},
   "outputs": [],
   "source": [
    "estimators = [\n",
    "    (\n",
    "        'random_forest_clf',\n",
    "        random_forest_classifier()\n",
    "    ),\n",
    "    (\n",
    "        'knn_clf',\n",
    "        knn_classifier()\n",
    "    ),\n",
    "    (\n",
    "        'svm_clf',\n",
    "        single_vector_machine_classifier()\n",
    "    )\n",
    "]"
   ]
  },
  {
   "attachments": {},
   "cell_type": "markdown",
   "metadata": {},
   "source": [
    "#### Fit Model"
   ]
  },
  {
   "cell_type": "code",
   "execution_count": 166,
   "metadata": {},
   "outputs": [],
   "source": [
    "voting_clf = VotingClassifier(\n",
    "    estimators=estimators,\n",
    "    #voting='soft',\n",
    "    n_jobs=-1\n",
    ")"
   ]
  },
  {
   "attachments": {},
   "cell_type": "markdown",
   "metadata": {},
   "source": [
    "#### Fit Classifier to Training Dataset"
   ]
  },
  {
   "cell_type": "code",
   "execution_count": 167,
   "metadata": {},
   "outputs": [
    {
     "name": "stdout",
     "output_type": "stream",
     "text": [
      "[LibSVM][LibSVM][LibSVM][LibSVM][LibSVM][LibSVM][LibSVM][LibSVM].................................................................................................................................................................*...*..................................*..................**......*................*.............................*.......................................................*............................*.*\n",
      "optimization finished, #iter = 102520\n",
      "obj = -7217.140699, rho = -0.134964\n",
      "nSV = 7228, nBSV = 7207\n",
      "Total nSV = 7228\n",
      "..............*........*.......................*.............................*.*\n",
      "optimization finished, #iter = 83173\n",
      "obj = -7259.650118, rho = -0.139133\n",
      "nSV = 7273, nBSV = 7248\n",
      "Total nSV = 7273\n",
      ".......*..........................................*.............................................*.....................*....................**..*\n",
      "optimization finished, #iter = 145964\n",
      "obj = -7220.685888, rho = -0.147428\n",
      "nSV = 7231, nBSV = 7211\n",
      "Total nSV = 7231\n",
      "......*.....................................**..................................................*............*\n",
      "optimization finished, #iter = 146672\n",
      "obj = -7257.754656, rho = -0.122428\n",
      "nSV = 7267, nBSV = 7244\n",
      "Total nSV = 7267\n",
      ".....................................[LibSVM]...........*\n",
      "optimization finished, #iter = 83551\n",
      "....obj = -7220.352047, rho = -0.138004\n",
      "nSV = 7234, nBSV = 7213\n",
      "Total nSV = 7234\n",
      "...........................*.....................*\n",
      "optimization finished, #iter = 104232\n",
      "obj = -7283.957951, rho = -0.137796\n",
      "nSV = 7296, nBSV = 7274\n",
      "Total nSV = 7296\n",
      ".............[LibSVM]...............*..............................*\n",
      "optimization finished, #iter = 98690\n",
      "obj = -7322.864068, rho = -0.119823\n",
      "nSV = 7337, nBSV = 7316\n",
      "Total nSV = 7337\n",
      "...............................*.............*\n",
      "optimization finished, #iter = 99536\n",
      "obj = -7283.768707, rho = -0.128927\n",
      "nSV = 7296, nBSV = 7274\n",
      "Total nSV = 7296\n",
      "...................................................................*........*..............*.\n",
      "Warning: using -h 0 may be faster\n",
      "*..............................*................*\n",
      "optimization finished, #iter = 95036\n",
      "obj = -7345.817283, rho = -0.126755\n",
      "nSV = 7358, nBSV = 7336\n",
      "Total nSV = 7358\n",
      "..............................................*............................*...*\n",
      "optimization finished, #iter = 117975\n",
      "obj = -7275.224298, rho = -0.126391\n",
      "nSV = 7288, nBSV = 7267\n",
      "Total nSV = 7288\n"
     ]
    }
   ],
   "source": [
    "y_pred_cv = cross_val_predict(voting_clf, \n",
    "                              X_train, \n",
    "                              y_train, \n",
    "                              n_jobs=-1,\n",
    "                              cv=10)"
   ]
  },
  {
   "attachments": {},
   "cell_type": "markdown",
   "metadata": {},
   "source": [
    "#### Metrics Evaluation"
   ]
  },
  {
   "cell_type": "code",
   "execution_count": 168,
   "metadata": {},
   "outputs": [
    {
     "name": "stdout",
     "output_type": "stream",
     "text": [
      "+-------------------------------------------------------------------------+\n",
      "\tConfusion Matrix for Voting Classifier\n",
      "+-------------------------------------------------------------------------+\n"
     ]
    },
    {
     "data": {
      "image/png": "[encoded data removed]",
      "text/plain": [
       "<Figure size 640x480 with 2 Axes>"
      ]
     },
     "metadata": {},
     "output_type": "display_data"
    },
    {
     "name": "stdout",
     "output_type": "stream",
     "text": [
      "+-----------------------------------------------------+\n",
      "\tClassification Report for Voting Classifier\n",
      "+-----------------------------------------------------+\n",
      "              precision    recall  f1-score   support\n",
      "\n",
      "      Stayed       0.89      0.86      0.88      5426\n",
      "        Left       0.69      0.74      0.72      2206\n",
      "\n",
      "    accuracy                           0.83      7632\n",
      "   macro avg       0.79      0.80      0.80      7632\n",
      "weighted avg       0.83      0.83      0.83      7632\n",
      "\n"
     ]
    }
   ],
   "source": [
    "metrics_evaluation(\"Voting Classifier\", \n",
    "                       y_train, \n",
    "                       y_pred_cv)"
   ]
  },
  {
   "attachments": {},
   "cell_type": "markdown",
   "metadata": {},
   "source": [
    "### Notes & Other Takeaways From This Project\n",
    "****\n",
    "- Here is a list of all of the different classifiers included in this project as well as their weighted f1-score\n",
    "    - Random Forest Classifier\n",
    "        - Weighted F1-Score => 0.86\n",
    "    - Naive Bayes Classifier\n",
    "        - Weighted F1-Score => 0.54\n",
    "    - Logistic Regression Classifier\n",
    "        - Weighted F1-Score => 0.68\n",
    "    - Single Vector Machine Classifier\n",
    "        - Weighted F1-Score => 0.67\n",
    "    - K-Nearest Neighbors Classifier\n",
    "        - Weighted F1-Score => 0.78\n",
    "    - Gradient Boosting Classifier\n",
    "        - Weighted F1-Score => 0.87\n",
    "    - Stacking Classifier (Random Forest, KNN, & SVM with XGB Classifier as the final classifier)\n",
    "        - Weighted F1-Score => 0.86\n",
    "    - Voting Classifier (Random Forest, KNN, & SVM)\n",
    "        - Weighted F1-Score => 0.83\n",
    "- I always enjoy when new projects force me to learn something new. What I learned while completing this project includes:\n",
    "    - I learned how to add a custom pipeline stage (the function to remove outliers). \n",
    "    - I added both the Stacking and Voting Classifiers to my repertoire.\n",
    "****"
   ]
  }
 ],
 "metadata": {
  "kernelspec": {
   "display_name": "dl",
   "language": "python",
   "name": "python3"
  },
  "language_info": {
   "codemirror_mode": {
    "name": "ipython",
    "version": 3
   },
   "file_extension": ".py",
   "mimetype": "text/x-python",
   "name": "python",
   "nbconvert_exporter": "python",
   "pygments_lexer": "ipython3",
   "version": "3.9.12"
  },
  "orig_nbformat": 4
 },
 "nbformat": 4,
 "nbformat_minor": 2
}
