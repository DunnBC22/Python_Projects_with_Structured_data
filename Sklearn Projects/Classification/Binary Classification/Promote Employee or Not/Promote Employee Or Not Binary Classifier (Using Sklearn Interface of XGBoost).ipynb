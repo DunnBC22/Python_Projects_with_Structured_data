{
 "cells": [
  {
   "cell_type": "markdown",
   "id": "6642b97a",
   "metadata": {},
   "source": [
    "# Promote Employee Or Not Classifier (Using XGBoost)"
   ]
  },
  {
   "cell_type": "markdown",
   "id": "3553ffe1",
   "metadata": {},
   "source": [
    "Dataset Source: https://www.kaggle.com/arashnic/hr-ana"
   ]
  },
  {
   "cell_type": "markdown",
   "id": "dc7cb660",
   "metadata": {},
   "source": [
    "#### Notes about Results:\n",
    "\n",
    "1) In addition to running the XGBoost Classifier on this dataset, I ran a Keras Neural Network on it as well. The XGBoost Classifier performed much better than the Keras Model.\n",
    "\n",
    "2) Originally, I was using undersampling as I thought there were enough samples. Once I switched to using oversampling (SMOTE), results improved considerably.\n",
    "\n",
    "3) When I first used the 'scale_pos_weight', I wished there was a way to use a middle point between the full scale weight and no scale. Naturally, I tried dividing the scaled value in half. It worked well, but I continued tuning the value to what it is now.\n",
    "\n",
    "4) I am aware that there are tools, like Weights and Biases, to automate fine tunning XGBoost models. In time, I may very well take advantage of those tools and write a function to fine tune this model further.\n"
   ]
  },
  {
   "cell_type": "markdown",
   "id": "4387561f",
   "metadata": {},
   "source": [
    "#### Import Necessary Libraries"
   ]
  },
  {
   "cell_type": "code",
   "execution_count": 1,
   "id": "0035d14a",
   "metadata": {},
   "outputs": [
    {
     "name": "stderr",
     "output_type": "stream",
     "text": [
      "/Users/briandunn/opt/anaconda3/envs/tensor/lib/python3.9/site-packages/xgboost/compat.py:36: FutureWarning: pandas.Int64Index is deprecated and will be removed from pandas in a future version. Use pandas.Index with the appropriate dtype instead.\n",
      "  from pandas import MultiIndex, Int64Index\n"
     ]
    }
   ],
   "source": [
    "import pandas as pd\n",
    "import numpy as np\n",
    "import matplotlib.pyplot as plt\n",
    "import seaborn as sns\n",
    "\n",
    "from sklearn.pipeline import Pipeline\n",
    "\n",
    "from sklearn.compose import ColumnTransformer\n",
    "from sklearn.model_selection import train_test_split, cross_val_score\n",
    "from sklearn.metrics import classification_report, confusion_matrix, roc_auc_score\n",
    "from sklearn.preprocessing import OneHotEncoder, OrdinalEncoder\n",
    "\n",
    "import xgboost as xgb\n",
    "from xgboost import XGBClassifier, plot_tree\n",
    "\n",
    "from imblearn.pipeline import Pipeline\n",
    "from imblearn.over_sampling import SMOTE\n",
    "\n",
    "import sys"
   ]
  },
  {
   "cell_type": "markdown",
   "id": "f9e6d9af",
   "metadata": {},
   "source": [
    "#### Versions of Main Libraries"
   ]
  },
  {
   "cell_type": "code",
   "execution_count": 2,
   "id": "c67b7b07",
   "metadata": {},
   "outputs": [
    {
     "name": "stdout",
     "output_type": "stream",
     "text": [
      "pandas: 1.4.2\n",
      "numPy: 1.21.5\n",
      "python3: 3.9.12\n",
      "XGBoost: 1.5.0\n"
     ]
    }
   ],
   "source": [
    "print('pandas:', pd.__version__)\n",
    "print('numPy:', np.__version__)\n",
    "print(\"python3:\", sys.version[0:6])\n",
    "print('XGBoost:', xgb.__version__)"
   ]
  },
  {
   "cell_type": "markdown",
   "id": "d091fb4e",
   "metadata": {},
   "source": [
    "#### Import  & Preprocess Data"
   ]
  },
  {
   "cell_type": "code",
   "execution_count": 3,
   "id": "1446c17a",
   "metadata": {},
   "outputs": [
    {
     "data": {
      "text/html": [
       "<div>\n",
       "<style scoped>\n",
       "    .dataframe tbody tr th:only-of-type {\n",
       "        vertical-align: middle;\n",
       "    }\n",
       "\n",
       "    .dataframe tbody tr th {\n",
       "        vertical-align: top;\n",
       "    }\n",
       "\n",
       "    .dataframe thead th {\n",
       "        text-align: right;\n",
       "    }\n",
       "</style>\n",
       "<table border=\"1\" class=\"dataframe\">\n",
       "  <thead>\n",
       "    <tr style=\"text-align: right;\">\n",
       "      <th></th>\n",
       "      <th>is_male</th>\n",
       "      <th>no_of_trainings</th>\n",
       "      <th>age</th>\n",
       "      <th>previous_year_rating</th>\n",
       "      <th>length_of_service</th>\n",
       "      <th>awards_won</th>\n",
       "      <th>avg_training_score</th>\n",
       "      <th>target</th>\n",
       "    </tr>\n",
       "  </thead>\n",
       "  <tbody>\n",
       "    <tr>\n",
       "      <th>count</th>\n",
       "      <td>44303.000000</td>\n",
       "      <td>44303.000000</td>\n",
       "      <td>44303.000000</td>\n",
       "      <td>44303.000000</td>\n",
       "      <td>44303.000000</td>\n",
       "      <td>44303.000000</td>\n",
       "      <td>44303.000000</td>\n",
       "      <td>44303.000000</td>\n",
       "    </tr>\n",
       "    <tr>\n",
       "      <th>mean</th>\n",
       "      <td>0.697537</td>\n",
       "      <td>1.260276</td>\n",
       "      <td>33.961018</td>\n",
       "      <td>3.339368</td>\n",
       "      <td>5.565560</td>\n",
       "      <td>0.023678</td>\n",
       "      <td>63.726317</td>\n",
       "      <td>0.088730</td>\n",
       "    </tr>\n",
       "    <tr>\n",
       "      <th>std</th>\n",
       "      <td>0.459330</td>\n",
       "      <td>0.610277</td>\n",
       "      <td>5.542368</td>\n",
       "      <td>1.260114</td>\n",
       "      <td>2.964149</td>\n",
       "      <td>0.152045</td>\n",
       "      <td>13.361678</td>\n",
       "      <td>0.284357</td>\n",
       "    </tr>\n",
       "    <tr>\n",
       "      <th>min</th>\n",
       "      <td>0.000000</td>\n",
       "      <td>1.000000</td>\n",
       "      <td>20.000000</td>\n",
       "      <td>1.000000</td>\n",
       "      <td>1.000000</td>\n",
       "      <td>0.000000</td>\n",
       "      <td>39.000000</td>\n",
       "      <td>0.000000</td>\n",
       "    </tr>\n",
       "    <tr>\n",
       "      <th>25%</th>\n",
       "      <td>0.000000</td>\n",
       "      <td>1.000000</td>\n",
       "      <td>30.000000</td>\n",
       "      <td>3.000000</td>\n",
       "      <td>3.000000</td>\n",
       "      <td>0.000000</td>\n",
       "      <td>52.000000</td>\n",
       "      <td>0.000000</td>\n",
       "    </tr>\n",
       "    <tr>\n",
       "      <th>50%</th>\n",
       "      <td>1.000000</td>\n",
       "      <td>1.000000</td>\n",
       "      <td>33.000000</td>\n",
       "      <td>3.000000</td>\n",
       "      <td>5.000000</td>\n",
       "      <td>0.000000</td>\n",
       "      <td>60.000000</td>\n",
       "      <td>0.000000</td>\n",
       "    </tr>\n",
       "    <tr>\n",
       "      <th>75%</th>\n",
       "      <td>1.000000</td>\n",
       "      <td>1.000000</td>\n",
       "      <td>38.000000</td>\n",
       "      <td>4.000000</td>\n",
       "      <td>7.000000</td>\n",
       "      <td>0.000000</td>\n",
       "      <td>76.000000</td>\n",
       "      <td>0.000000</td>\n",
       "    </tr>\n",
       "    <tr>\n",
       "      <th>max</th>\n",
       "      <td>1.000000</td>\n",
       "      <td>10.000000</td>\n",
       "      <td>49.000000</td>\n",
       "      <td>5.000000</td>\n",
       "      <td>15.000000</td>\n",
       "      <td>1.000000</td>\n",
       "      <td>99.000000</td>\n",
       "      <td>1.000000</td>\n",
       "    </tr>\n",
       "  </tbody>\n",
       "</table>\n",
       "</div>"
      ],
      "text/plain": [
       "            is_male  no_of_trainings           age  previous_year_rating  \\\n",
       "count  44303.000000     44303.000000  44303.000000          44303.000000   \n",
       "mean       0.697537         1.260276     33.961018              3.339368   \n",
       "std        0.459330         0.610277      5.542368              1.260114   \n",
       "min        0.000000         1.000000     20.000000              1.000000   \n",
       "25%        0.000000         1.000000     30.000000              3.000000   \n",
       "50%        1.000000         1.000000     33.000000              3.000000   \n",
       "75%        1.000000         1.000000     38.000000              4.000000   \n",
       "max        1.000000        10.000000     49.000000              5.000000   \n",
       "\n",
       "       length_of_service    awards_won  avg_training_score        target  \n",
       "count       44303.000000  44303.000000        44303.000000  44303.000000  \n",
       "mean            5.565560      0.023678           63.726317      0.088730  \n",
       "std             2.964149      0.152045           13.361678      0.284357  \n",
       "min             1.000000      0.000000           39.000000      0.000000  \n",
       "25%             3.000000      0.000000           52.000000      0.000000  \n",
       "50%             5.000000      0.000000           60.000000      0.000000  \n",
       "75%             7.000000      0.000000           76.000000      0.000000  \n",
       "max            15.000000      1.000000           99.000000      1.000000  "
      ]
     },
     "execution_count": 3,
     "metadata": {},
     "output_type": "execute_result"
    }
   ],
   "source": [
    "data = pd.read_csv('train.csv')\n",
    "\n",
    "# Data Preprocessing\n",
    "data.dropna(inplace=True)\n",
    "data.rename(columns={'gender' : 'is_male', 'awards_won?' : 'awards_won', 'is_promoted' : 'target'}, inplace=True)\n",
    "data['is_male'].replace({'m' : 1, 'f': 0}, inplace=True)\n",
    "data.drop(columns=['employee_id'], inplace=True)\n",
    "\n",
    "# Remove outliers using the 'IQR * 1.5' rule\n",
    "def remove_outliers(df, feature):\n",
    "    q1, q3 = np.percentile(df[feature], [25,75])\n",
    "    iqr = q3-q1\n",
    "    ul = q3 + (iqr * 1.5)\n",
    "    ll = q1 - (iqr * 1.5)\n",
    "    neo_data = df[(df[feature].values > ll) & (df[feature].values < ul)]\n",
    "    return neo_data\n",
    "\n",
    "data = remove_outliers(data, 'length_of_service')\n",
    "data = remove_outliers(data, 'age')\n",
    "\n",
    "data.describe()"
   ]
  },
  {
   "cell_type": "code",
   "execution_count": 4,
   "id": "6e61286d",
   "metadata": {},
   "outputs": [
    {
     "name": "stdout",
     "output_type": "stream",
     "text": [
      "                   awards_won       age  length_of_service    target\n",
      "awards_won           1.000000 -0.004798          -0.041383  0.195741\n",
      "age                 -0.004798  1.000000           0.516738 -0.011927\n",
      "length_of_service   -0.041383  0.516738           1.000000 -0.006701\n",
      "target               0.195741 -0.011927          -0.006701  1.000000\n"
     ]
    }
   ],
   "source": [
    "awards_target = data[['awards_won', 'age', 'length_of_service', 'target']]\n",
    "print(awards_target.corr())"
   ]
  },
  {
   "cell_type": "markdown",
   "id": "08f79452",
   "metadata": {},
   "source": [
    "#### Drop 'Age' Feature Since Low correlation & Legally Cannot Discriminate Against People 40+ Years Old"
   ]
  },
  {
   "cell_type": "code",
   "execution_count": 5,
   "id": "6d741462",
   "metadata": {},
   "outputs": [
    {
     "data": {
      "text/html": [
       "<div>\n",
       "<style scoped>\n",
       "    .dataframe tbody tr th:only-of-type {\n",
       "        vertical-align: middle;\n",
       "    }\n",
       "\n",
       "    .dataframe tbody tr th {\n",
       "        vertical-align: top;\n",
       "    }\n",
       "\n",
       "    .dataframe thead th {\n",
       "        text-align: right;\n",
       "    }\n",
       "</style>\n",
       "<table border=\"1\" class=\"dataframe\">\n",
       "  <thead>\n",
       "    <tr style=\"text-align: right;\">\n",
       "      <th></th>\n",
       "      <th>is_male</th>\n",
       "      <th>no_of_trainings</th>\n",
       "      <th>previous_year_rating</th>\n",
       "      <th>length_of_service</th>\n",
       "      <th>awards_won</th>\n",
       "      <th>avg_training_score</th>\n",
       "      <th>target</th>\n",
       "    </tr>\n",
       "  </thead>\n",
       "  <tbody>\n",
       "    <tr>\n",
       "      <th>count</th>\n",
       "      <td>44303.000000</td>\n",
       "      <td>44303.000000</td>\n",
       "      <td>44303.000000</td>\n",
       "      <td>44303.000000</td>\n",
       "      <td>44303.000000</td>\n",
       "      <td>44303.000000</td>\n",
       "      <td>44303.000000</td>\n",
       "    </tr>\n",
       "    <tr>\n",
       "      <th>mean</th>\n",
       "      <td>0.697537</td>\n",
       "      <td>1.260276</td>\n",
       "      <td>3.339368</td>\n",
       "      <td>5.565560</td>\n",
       "      <td>0.023678</td>\n",
       "      <td>63.726317</td>\n",
       "      <td>0.088730</td>\n",
       "    </tr>\n",
       "    <tr>\n",
       "      <th>std</th>\n",
       "      <td>0.459330</td>\n",
       "      <td>0.610277</td>\n",
       "      <td>1.260114</td>\n",
       "      <td>2.964149</td>\n",
       "      <td>0.152045</td>\n",
       "      <td>13.361678</td>\n",
       "      <td>0.284357</td>\n",
       "    </tr>\n",
       "    <tr>\n",
       "      <th>min</th>\n",
       "      <td>0.000000</td>\n",
       "      <td>1.000000</td>\n",
       "      <td>1.000000</td>\n",
       "      <td>1.000000</td>\n",
       "      <td>0.000000</td>\n",
       "      <td>39.000000</td>\n",
       "      <td>0.000000</td>\n",
       "    </tr>\n",
       "    <tr>\n",
       "      <th>25%</th>\n",
       "      <td>0.000000</td>\n",
       "      <td>1.000000</td>\n",
       "      <td>3.000000</td>\n",
       "      <td>3.000000</td>\n",
       "      <td>0.000000</td>\n",
       "      <td>52.000000</td>\n",
       "      <td>0.000000</td>\n",
       "    </tr>\n",
       "    <tr>\n",
       "      <th>50%</th>\n",
       "      <td>1.000000</td>\n",
       "      <td>1.000000</td>\n",
       "      <td>3.000000</td>\n",
       "      <td>5.000000</td>\n",
       "      <td>0.000000</td>\n",
       "      <td>60.000000</td>\n",
       "      <td>0.000000</td>\n",
       "    </tr>\n",
       "    <tr>\n",
       "      <th>75%</th>\n",
       "      <td>1.000000</td>\n",
       "      <td>1.000000</td>\n",
       "      <td>4.000000</td>\n",
       "      <td>7.000000</td>\n",
       "      <td>0.000000</td>\n",
       "      <td>76.000000</td>\n",
       "      <td>0.000000</td>\n",
       "    </tr>\n",
       "    <tr>\n",
       "      <th>max</th>\n",
       "      <td>1.000000</td>\n",
       "      <td>10.000000</td>\n",
       "      <td>5.000000</td>\n",
       "      <td>15.000000</td>\n",
       "      <td>1.000000</td>\n",
       "      <td>99.000000</td>\n",
       "      <td>1.000000</td>\n",
       "    </tr>\n",
       "  </tbody>\n",
       "</table>\n",
       "</div>"
      ],
      "text/plain": [
       "            is_male  no_of_trainings  previous_year_rating  length_of_service  \\\n",
       "count  44303.000000     44303.000000          44303.000000       44303.000000   \n",
       "mean       0.697537         1.260276              3.339368           5.565560   \n",
       "std        0.459330         0.610277              1.260114           2.964149   \n",
       "min        0.000000         1.000000              1.000000           1.000000   \n",
       "25%        0.000000         1.000000              3.000000           3.000000   \n",
       "50%        1.000000         1.000000              3.000000           5.000000   \n",
       "75%        1.000000         1.000000              4.000000           7.000000   \n",
       "max        1.000000        10.000000              5.000000          15.000000   \n",
       "\n",
       "         awards_won  avg_training_score        target  \n",
       "count  44303.000000        44303.000000  44303.000000  \n",
       "mean       0.023678           63.726317      0.088730  \n",
       "std        0.152045           13.361678      0.284357  \n",
       "min        0.000000           39.000000      0.000000  \n",
       "25%        0.000000           52.000000      0.000000  \n",
       "50%        0.000000           60.000000      0.000000  \n",
       "75%        0.000000           76.000000      0.000000  \n",
       "max        1.000000           99.000000      1.000000  "
      ]
     },
     "execution_count": 5,
     "metadata": {},
     "output_type": "execute_result"
    }
   ],
   "source": [
    "data.drop(columns=['age'], inplace=True)\n",
    "data.describe()"
   ]
  },
  {
   "cell_type": "markdown",
   "id": "9dfa37de",
   "metadata": {},
   "source": [
    "#### Return Unique Values in Each Feature"
   ]
  },
  {
   "cell_type": "code",
   "execution_count": 6,
   "id": "8b877bab",
   "metadata": {},
   "outputs": [
    {
     "name": "stdout",
     "output_type": "stream",
     "text": [
      "Feature Name: department \n",
      "Number of Unique Values:  9\n",
      "['Sales & Marketing' 'Operations' 'Technology' 'Analytics' 'R&D'\n",
      " 'Procurement' 'Finance' 'HR' 'Legal'] \n",
      "\n",
      "Feature Name: region \n",
      "Number of Unique Values:  34\n",
      "['region_7' 'region_22' 'region_19' 'region_23' 'region_26' 'region_2'\n",
      " 'region_20' 'region_34' 'region_1' 'region_4' 'region_31' 'region_15'\n",
      " 'region_14' 'region_11' 'region_5' 'region_28' 'region_13' 'region_16'\n",
      " 'region_25' 'region_29' 'region_10' 'region_27' 'region_30' 'region_12'\n",
      " 'region_21' 'region_17' 'region_32' 'region_6' 'region_33' 'region_8'\n",
      " 'region_24' 'region_3' 'region_9' 'region_18'] \n",
      "\n",
      "Feature Name: education \n",
      "Number of Unique Values:  3\n",
      "[\"Master's & above\" \"Bachelor's\" 'Below Secondary'] \n",
      "\n",
      "Feature Name: is_male \n",
      "Number of Unique Values:  2\n",
      "[0 1] \n",
      "\n",
      "Feature Name: recruitment_channel \n",
      "Number of Unique Values:  3\n",
      "['sourcing' 'other' 'referred'] \n",
      "\n",
      "Feature Name: no_of_trainings \n",
      "Number of Unique Values:  10\n",
      "[ 1  2  3  4  7  5  6  8  9 10] \n",
      "\n",
      "Feature Name: previous_year_rating \n",
      "Number of Unique Values:  5\n",
      "[5. 3. 1. 4. 2.] \n",
      "\n",
      "Feature Name: length_of_service \n",
      "Number of Unique Values:  15\n",
      "[ 8  4  7 10  2  5  6  3  9 12 11 13 15 14  1] \n",
      "\n",
      "Feature Name: awards_won \n",
      "Number of Unique Values:  2\n",
      "[0 1] \n",
      "\n",
      "Feature Name: avg_training_score \n",
      "Number of Unique Values:  61\n",
      "[49 60 50 73 85 59 63 83 54 84 77 51 46 75 68 79 80 72 61 87 47 57 88 71\n",
      " 48 65 62 52 53 58 78 44 91 82 69 74 86 90 92 67 89 56 76 81 70 45 55 39\n",
      " 94 93 64 66 95 42 96 99 40 43 97 41 98] \n",
      "\n",
      "Feature Name: target \n",
      "Number of Unique Values:  2\n",
      "[0 1] \n",
      "\n"
     ]
    }
   ],
   "source": [
    "for x in data.columns:\n",
    "    print('Feature Name:', x, '\\nNumber of Unique Values: ', len(data[x].unique()))\n",
    "    print(data[x].unique(), '\\n')"
   ]
  },
  {
   "cell_type": "markdown",
   "id": "c62ba971",
   "metadata": {},
   "source": [
    "#### Split Data into Train & Test Datasets"
   ]
  },
  {
   "cell_type": "code",
   "execution_count": 7,
   "id": "2a4a80a5",
   "metadata": {},
   "outputs": [],
   "source": [
    "y = data['target']\n",
    "X = data.loc[:, data.columns != 'target']\n",
    "\n",
    "X_train, X_test, y_train, y_test = train_test_split(X, y, test_size=0.20, random_state=42, stratify=y)"
   ]
  },
  {
   "cell_type": "markdown",
   "id": "11e7575c",
   "metadata": {},
   "source": [
    "#### Determine Weights (Imbalanced Data)"
   ]
  },
  {
   "cell_type": "code",
   "execution_count": 8,
   "id": "b9d75161",
   "metadata": {},
   "outputs": [
    {
     "name": "stdout",
     "output_type": "stream",
     "text": [
      "The ratio of non-promoted employees to promoted individuals is 10.2693 \n",
      "employees not promoted to every one employee that is promoted\n"
     ]
    }
   ],
   "source": [
    "counter = np.bincount(y_train)\n",
    "\n",
    "imbal_ratio = counter[0]/counter[1]\n",
    "print('''The ratio of non-promoted employees to promoted individuals is %.4f \n",
    "employees not promoted to every one employee that is promoted''' % (imbal_ratio))"
   ]
  },
  {
   "cell_type": "markdown",
   "id": "a5300187",
   "metadata": {},
   "source": [
    "#### Parameters for Model"
   ]
  },
  {
   "cell_type": "code",
   "execution_count": 9,
   "id": "681a46af",
   "metadata": {},
   "outputs": [],
   "source": [
    "params = {'booster':'dart',\n",
    "          'base_score':.10,\n",
    "          'use_label_encoder': False,\n",
    "          'n_estimators':100,\n",
    "          'reg_alpha':0.50,\n",
    "          'reg_lambda':0.50,\n",
    "          'learning_rate':0.1175, \n",
    "          'scale_pos_weight':imbal_ratio/3,\n",
    "          'random_state':42,\n",
    "          'verbosity':3,\n",
    "          'tree_method':'approx', \n",
    "          'eval_metric':['error', 'auc'],\n",
    "          'objective':'binary:logistic'}"
   ]
  },
  {
   "cell_type": "markdown",
   "id": "19623cb2",
   "metadata": {},
   "source": [
    "#### Create Column Transformer"
   ]
  },
  {
   "cell_type": "code",
   "execution_count": 10,
   "id": "1476b110",
   "metadata": {},
   "outputs": [],
   "source": [
    "# Create ColumnTransformer\n",
    "oneHotFeatures = ['department', \n",
    "                  'region', \n",
    "                  'education', \n",
    "                  'is_male', \n",
    "                  'recruitment_channel']\n",
    "\n",
    "ordinalFeatures = ['awards_won', \n",
    "                   'avg_training_score', \n",
    "                   'previous_year_rating', \n",
    "                   'length_of_service', \n",
    "                   'no_of_trainings']\n",
    "\n",
    "ohe = OneHotEncoder()\n",
    "ord_en = OrdinalEncoder()\n",
    "\n",
    "ct = ColumnTransformer([(\"OHE\", ohe, oneHotFeatures), \n",
    "                        (\"Ordinal\", ord_en, ordinalFeatures)], \n",
    "                       remainder='passthrough')"
   ]
  },
  {
   "cell_type": "markdown",
   "id": "23f4948a",
   "metadata": {},
   "source": [
    "#### Instantiate Model"
   ]
  },
  {
   "cell_type": "code",
   "execution_count": 11,
   "id": "db825fb5",
   "metadata": {
    "scrolled": true
   },
   "outputs": [],
   "source": [
    "model = XGBClassifier(**params)"
   ]
  },
  {
   "cell_type": "markdown",
   "id": "f3dbf155",
   "metadata": {},
   "source": [
    "#### Create Pipeline"
   ]
  },
  {
   "cell_type": "code",
   "execution_count": 12,
   "id": "fb71fafc",
   "metadata": {},
   "outputs": [],
   "source": [
    "# Instantiate SMOTE Transformer\n",
    "smote = SMOTE(random_state=42, sampling_strategy='all')\n",
    "\n",
    "# Build Pipeline\n",
    "pipeline = Pipeline([('coltran', ct), \n",
    "                     ('imblearn', smote), \n",
    "                     ('xgb_classifier', model)])"
   ]
  },
  {
   "cell_type": "markdown",
   "id": "cad4ec33",
   "metadata": {},
   "source": [
    "#### Fit Pipeline"
   ]
  },
  {
   "cell_type": "code",
   "execution_count": 13,
   "id": "5ad2695b",
   "metadata": {},
   "outputs": [
    {
     "name": "stdout",
     "output_type": "stream",
     "text": [
      "[19:55:25] INFO: /var/folders/sy/f16zz6x50xz3113nwtb9bvq00000gp/T/abs_44tbtwf8c1/croots/recipe/xgboost-split_1659548960882/work/src/tree/updater_prune.cc:101: tree pruning end, 22 extra nodes, 0 pruned nodes, max_depth=6\n",
      "[19:55:25] INFO: /var/folders/sy/f16zz6x50xz3113nwtb9bvq00000gp/T/abs_44tbtwf8c1/croots/recipe/xgboost-split_1659548960882/work/src/gbm/gbtree.cc:904: drop 0 trees, weight = 1\n",
      "[19:55:25] INFO: /var/folders/sy/f16zz6x50xz3113nwtb9bvq00000gp/T/abs_44tbtwf8c1/croots/recipe/xgboost-split_1659548960882/work/src/tree/updater_prune.cc:101: tree pruning end, 62 extra nodes, 0 pruned nodes, max_depth=6\n",
      "[19:55:25] INFO: /var/folders/sy/f16zz6x50xz3113nwtb9bvq00000gp/T/abs_44tbtwf8c1/croots/recipe/xgboost-split_1659548960882/work/src/gbm/gbtree.cc:904: drop 0 trees, weight = 1\n",
      "[19:55:26] INFO: /var/folders/sy/f16zz6x50xz3113nwtb9bvq00000gp/T/abs_44tbtwf8c1/croots/recipe/xgboost-split_1659548960882/work/src/tree/updater_prune.cc:101: tree pruning end, 76 extra nodes, 0 pruned nodes, max_depth=6\n",
      "[19:55:26] INFO: /var/folders/sy/f16zz6x50xz3113nwtb9bvq00000gp/T/abs_44tbtwf8c1/croots/recipe/xgboost-split_1659548960882/work/src/gbm/gbtree.cc:904: drop 0 trees, weight = 1\n",
      "[19:55:26] INFO: /var/folders/sy/f16zz6x50xz3113nwtb9bvq00000gp/T/abs_44tbtwf8c1/croots/recipe/xgboost-split_1659548960882/work/src/tree/updater_prune.cc:101: tree pruning end, 68 extra nodes, 0 pruned nodes, max_depth=6\n",
      "[19:55:26] INFO: /var/folders/sy/f16zz6x50xz3113nwtb9bvq00000gp/T/abs_44tbtwf8c1/croots/recipe/xgboost-split_1659548960882/work/src/gbm/gbtree.cc:904: drop 0 trees, weight = 1\n",
      "[19:55:26] INFO: /var/folders/sy/f16zz6x50xz3113nwtb9bvq00000gp/T/abs_44tbtwf8c1/croots/recipe/xgboost-split_1659548960882/work/src/tree/updater_prune.cc:101: tree pruning end, 68 extra nodes, 0 pruned nodes, max_depth=6\n",
      "[19:55:26] INFO: /var/folders/sy/f16zz6x50xz3113nwtb9bvq00000gp/T/abs_44tbtwf8c1/croots/recipe/xgboost-split_1659548960882/work/src/gbm/gbtree.cc:904: drop 0 trees, weight = 1\n",
      "[19:55:26] INFO: /var/folders/sy/f16zz6x50xz3113nwtb9bvq00000gp/T/abs_44tbtwf8c1/croots/recipe/xgboost-split_1659548960882/work/src/tree/updater_prune.cc:101: tree pruning end, 42 extra nodes, 0 pruned nodes, max_depth=6\n",
      "[19:55:26] INFO: /var/folders/sy/f16zz6x50xz3113nwtb9bvq00000gp/T/abs_44tbtwf8c1/croots/recipe/xgboost-split_1659548960882/work/src/gbm/gbtree.cc:904: drop 0 trees, weight = 1\n",
      "[19:55:26] INFO: /var/folders/sy/f16zz6x50xz3113nwtb9bvq00000gp/T/abs_44tbtwf8c1/croots/recipe/xgboost-split_1659548960882/work/src/tree/updater_prune.cc:101: tree pruning end, 62 extra nodes, 0 pruned nodes, max_depth=6\n",
      "[19:55:26] INFO: /var/folders/sy/f16zz6x50xz3113nwtb9bvq00000gp/T/abs_44tbtwf8c1/croots/recipe/xgboost-split_1659548960882/work/src/gbm/gbtree.cc:904: drop 0 trees, weight = 1\n",
      "[19:55:26] INFO: /var/folders/sy/f16zz6x50xz3113nwtb9bvq00000gp/T/abs_44tbtwf8c1/croots/recipe/xgboost-split_1659548960882/work/src/tree/updater_prune.cc:101: tree pruning end, 32 extra nodes, 0 pruned nodes, max_depth=6\n",
      "[19:55:26] INFO: /var/folders/sy/f16zz6x50xz3113nwtb9bvq00000gp/T/abs_44tbtwf8c1/croots/recipe/xgboost-split_1659548960882/work/src/gbm/gbtree.cc:904: drop 0 trees, weight = 1\n",
      "[19:55:26] INFO: /var/folders/sy/f16zz6x50xz3113nwtb9bvq00000gp/T/abs_44tbtwf8c1/croots/recipe/xgboost-split_1659548960882/work/src/tree/updater_prune.cc:101: tree pruning end, 36 extra nodes, 0 pruned nodes, max_depth=6\n",
      "[19:55:26] INFO: /var/folders/sy/f16zz6x50xz3113nwtb9bvq00000gp/T/abs_44tbtwf8c1/croots/recipe/xgboost-split_1659548960882/work/src/gbm/gbtree.cc:904: drop 0 trees, weight = 1\n",
      "[19:55:26] INFO: /var/folders/sy/f16zz6x50xz3113nwtb9bvq00000gp/T/abs_44tbtwf8c1/croots/recipe/xgboost-split_1659548960882/work/src/tree/updater_prune.cc:101: tree pruning end, 56 extra nodes, 0 pruned nodes, max_depth=6\n",
      "[19:55:26] INFO: /var/folders/sy/f16zz6x50xz3113nwtb9bvq00000gp/T/abs_44tbtwf8c1/croots/recipe/xgboost-split_1659548960882/work/src/gbm/gbtree.cc:904: drop 0 trees, weight = 1\n",
      "[19:55:26] INFO: /var/folders/sy/f16zz6x50xz3113nwtb9bvq00000gp/T/abs_44tbtwf8c1/croots/recipe/xgboost-split_1659548960882/work/src/tree/updater_prune.cc:101: tree pruning end, 30 extra nodes, 0 pruned nodes, max_depth=6\n",
      "[19:55:26] INFO: /var/folders/sy/f16zz6x50xz3113nwtb9bvq00000gp/T/abs_44tbtwf8c1/croots/recipe/xgboost-split_1659548960882/work/src/gbm/gbtree.cc:904: drop 0 trees, weight = 1\n",
      "[19:55:26] INFO: /var/folders/sy/f16zz6x50xz3113nwtb9bvq00000gp/T/abs_44tbtwf8c1/croots/recipe/xgboost-split_1659548960882/work/src/tree/updater_prune.cc:101: tree pruning end, 30 extra nodes, 0 pruned nodes, max_depth=6\n",
      "[19:55:26] INFO: /var/folders/sy/f16zz6x50xz3113nwtb9bvq00000gp/T/abs_44tbtwf8c1/croots/recipe/xgboost-split_1659548960882/work/src/gbm/gbtree.cc:904: drop 0 trees, weight = 1\n",
      "[19:55:26] INFO: /var/folders/sy/f16zz6x50xz3113nwtb9bvq00000gp/T/abs_44tbtwf8c1/croots/recipe/xgboost-split_1659548960882/work/src/tree/updater_prune.cc:101: tree pruning end, 24 extra nodes, 0 pruned nodes, max_depth=6\n",
      "[19:55:26] INFO: /var/folders/sy/f16zz6x50xz3113nwtb9bvq00000gp/T/abs_44tbtwf8c1/croots/recipe/xgboost-split_1659548960882/work/src/gbm/gbtree.cc:904: drop 0 trees, weight = 1\n",
      "[19:55:26] INFO: /var/folders/sy/f16zz6x50xz3113nwtb9bvq00000gp/T/abs_44tbtwf8c1/croots/recipe/xgboost-split_1659548960882/work/src/tree/updater_prune.cc:101: tree pruning end, 56 extra nodes, 0 pruned nodes, max_depth=6\n",
      "[19:55:26] INFO: /var/folders/sy/f16zz6x50xz3113nwtb9bvq00000gp/T/abs_44tbtwf8c1/croots/recipe/xgboost-split_1659548960882/work/src/gbm/gbtree.cc:904: drop 0 trees, weight = 1\n",
      "[19:55:26] INFO: /var/folders/sy/f16zz6x50xz3113nwtb9bvq00000gp/T/abs_44tbtwf8c1/croots/recipe/xgboost-split_1659548960882/work/src/tree/updater_prune.cc:101: tree pruning end, 26 extra nodes, 0 pruned nodes, max_depth=6\n",
      "[19:55:26] INFO: /var/folders/sy/f16zz6x50xz3113nwtb9bvq00000gp/T/abs_44tbtwf8c1/croots/recipe/xgboost-split_1659548960882/work/src/gbm/gbtree.cc:904: drop 0 trees, weight = 1\n",
      "[19:55:26] INFO: /var/folders/sy/f16zz6x50xz3113nwtb9bvq00000gp/T/abs_44tbtwf8c1/croots/recipe/xgboost-split_1659548960882/work/src/tree/updater_prune.cc:101: tree pruning end, 46 extra nodes, 0 pruned nodes, max_depth=6\n",
      "[19:55:26] INFO: /var/folders/sy/f16zz6x50xz3113nwtb9bvq00000gp/T/abs_44tbtwf8c1/croots/recipe/xgboost-split_1659548960882/work/src/gbm/gbtree.cc:904: drop 0 trees, weight = 1\n",
      "[19:55:27] INFO: /var/folders/sy/f16zz6x50xz3113nwtb9bvq00000gp/T/abs_44tbtwf8c1/croots/recipe/xgboost-split_1659548960882/work/src/tree/updater_prune.cc:101: tree pruning end, 48 extra nodes, 0 pruned nodes, max_depth=6\n",
      "[19:55:27] INFO: /var/folders/sy/f16zz6x50xz3113nwtb9bvq00000gp/T/abs_44tbtwf8c1/croots/recipe/xgboost-split_1659548960882/work/src/gbm/gbtree.cc:904: drop 0 trees, weight = 1\n",
      "[19:55:27] INFO: /var/folders/sy/f16zz6x50xz3113nwtb9bvq00000gp/T/abs_44tbtwf8c1/croots/recipe/xgboost-split_1659548960882/work/src/tree/updater_prune.cc:101: tree pruning end, 26 extra nodes, 0 pruned nodes, max_depth=6\n",
      "[19:55:27] INFO: /var/folders/sy/f16zz6x50xz3113nwtb9bvq00000gp/T/abs_44tbtwf8c1/croots/recipe/xgboost-split_1659548960882/work/src/gbm/gbtree.cc:904: drop 0 trees, weight = 1\n",
      "[19:55:27] INFO: /var/folders/sy/f16zz6x50xz3113nwtb9bvq00000gp/T/abs_44tbtwf8c1/croots/recipe/xgboost-split_1659548960882/work/src/tree/updater_prune.cc:101: tree pruning end, 22 extra nodes, 0 pruned nodes, max_depth=6\n",
      "[19:55:27] INFO: /var/folders/sy/f16zz6x50xz3113nwtb9bvq00000gp/T/abs_44tbtwf8c1/croots/recipe/xgboost-split_1659548960882/work/src/gbm/gbtree.cc:904: drop 0 trees, weight = 1\n",
      "[19:55:27] INFO: /var/folders/sy/f16zz6x50xz3113nwtb9bvq00000gp/T/abs_44tbtwf8c1/croots/recipe/xgboost-split_1659548960882/work/src/tree/updater_prune.cc:101: tree pruning end, 20 extra nodes, 0 pruned nodes, max_depth=6\n",
      "[19:55:27] INFO: /var/folders/sy/f16zz6x50xz3113nwtb9bvq00000gp/T/abs_44tbtwf8c1/croots/recipe/xgboost-split_1659548960882/work/src/gbm/gbtree.cc:904: drop 0 trees, weight = 1\n",
      "[19:55:27] INFO: /var/folders/sy/f16zz6x50xz3113nwtb9bvq00000gp/T/abs_44tbtwf8c1/croots/recipe/xgboost-split_1659548960882/work/src/tree/updater_prune.cc:101: tree pruning end, 50 extra nodes, 0 pruned nodes, max_depth=6\n",
      "[19:55:27] INFO: /var/folders/sy/f16zz6x50xz3113nwtb9bvq00000gp/T/abs_44tbtwf8c1/croots/recipe/xgboost-split_1659548960882/work/src/gbm/gbtree.cc:904: drop 0 trees, weight = 1\n"
     ]
    },
    {
     "name": "stdout",
     "output_type": "stream",
     "text": [
      "[19:55:27] INFO: /var/folders/sy/f16zz6x50xz3113nwtb9bvq00000gp/T/abs_44tbtwf8c1/croots/recipe/xgboost-split_1659548960882/work/src/tree/updater_prune.cc:101: tree pruning end, 18 extra nodes, 0 pruned nodes, max_depth=6\n",
      "[19:55:27] INFO: /var/folders/sy/f16zz6x50xz3113nwtb9bvq00000gp/T/abs_44tbtwf8c1/croots/recipe/xgboost-split_1659548960882/work/src/gbm/gbtree.cc:904: drop 0 trees, weight = 1\n",
      "[19:55:27] INFO: /var/folders/sy/f16zz6x50xz3113nwtb9bvq00000gp/T/abs_44tbtwf8c1/croots/recipe/xgboost-split_1659548960882/work/src/tree/updater_prune.cc:101: tree pruning end, 58 extra nodes, 0 pruned nodes, max_depth=6\n",
      "[19:55:27] INFO: /var/folders/sy/f16zz6x50xz3113nwtb9bvq00000gp/T/abs_44tbtwf8c1/croots/recipe/xgboost-split_1659548960882/work/src/gbm/gbtree.cc:904: drop 0 trees, weight = 1\n",
      "[19:55:28] INFO: /var/folders/sy/f16zz6x50xz3113nwtb9bvq00000gp/T/abs_44tbtwf8c1/croots/recipe/xgboost-split_1659548960882/work/src/tree/updater_prune.cc:101: tree pruning end, 32 extra nodes, 0 pruned nodes, max_depth=6\n",
      "[19:55:28] INFO: /var/folders/sy/f16zz6x50xz3113nwtb9bvq00000gp/T/abs_44tbtwf8c1/croots/recipe/xgboost-split_1659548960882/work/src/gbm/gbtree.cc:904: drop 0 trees, weight = 1\n",
      "[19:55:28] INFO: /var/folders/sy/f16zz6x50xz3113nwtb9bvq00000gp/T/abs_44tbtwf8c1/croots/recipe/xgboost-split_1659548960882/work/src/tree/updater_prune.cc:101: tree pruning end, 18 extra nodes, 0 pruned nodes, max_depth=6\n",
      "[19:55:28] INFO: /var/folders/sy/f16zz6x50xz3113nwtb9bvq00000gp/T/abs_44tbtwf8c1/croots/recipe/xgboost-split_1659548960882/work/src/gbm/gbtree.cc:904: drop 0 trees, weight = 1\n",
      "[19:55:28] INFO: /var/folders/sy/f16zz6x50xz3113nwtb9bvq00000gp/T/abs_44tbtwf8c1/croots/recipe/xgboost-split_1659548960882/work/src/tree/updater_prune.cc:101: tree pruning end, 24 extra nodes, 0 pruned nodes, max_depth=6\n",
      "[19:55:28] INFO: /var/folders/sy/f16zz6x50xz3113nwtb9bvq00000gp/T/abs_44tbtwf8c1/croots/recipe/xgboost-split_1659548960882/work/src/gbm/gbtree.cc:904: drop 0 trees, weight = 1\n",
      "[19:55:28] INFO: /var/folders/sy/f16zz6x50xz3113nwtb9bvq00000gp/T/abs_44tbtwf8c1/croots/recipe/xgboost-split_1659548960882/work/src/tree/updater_prune.cc:101: tree pruning end, 60 extra nodes, 0 pruned nodes, max_depth=6\n",
      "[19:55:28] INFO: /var/folders/sy/f16zz6x50xz3113nwtb9bvq00000gp/T/abs_44tbtwf8c1/croots/recipe/xgboost-split_1659548960882/work/src/gbm/gbtree.cc:904: drop 0 trees, weight = 1\n",
      "[19:55:28] INFO: /var/folders/sy/f16zz6x50xz3113nwtb9bvq00000gp/T/abs_44tbtwf8c1/croots/recipe/xgboost-split_1659548960882/work/src/tree/updater_prune.cc:101: tree pruning end, 18 extra nodes, 0 pruned nodes, max_depth=6\n",
      "[19:55:28] INFO: /var/folders/sy/f16zz6x50xz3113nwtb9bvq00000gp/T/abs_44tbtwf8c1/croots/recipe/xgboost-split_1659548960882/work/src/gbm/gbtree.cc:904: drop 0 trees, weight = 1\n",
      "[19:55:28] INFO: /var/folders/sy/f16zz6x50xz3113nwtb9bvq00000gp/T/abs_44tbtwf8c1/croots/recipe/xgboost-split_1659548960882/work/src/tree/updater_prune.cc:101: tree pruning end, 20 extra nodes, 0 pruned nodes, max_depth=6\n",
      "[19:55:28] INFO: /var/folders/sy/f16zz6x50xz3113nwtb9bvq00000gp/T/abs_44tbtwf8c1/croots/recipe/xgboost-split_1659548960882/work/src/gbm/gbtree.cc:904: drop 0 trees, weight = 1\n",
      "[19:55:28] INFO: /var/folders/sy/f16zz6x50xz3113nwtb9bvq00000gp/T/abs_44tbtwf8c1/croots/recipe/xgboost-split_1659548960882/work/src/tree/updater_prune.cc:101: tree pruning end, 16 extra nodes, 0 pruned nodes, max_depth=6\n",
      "[19:55:28] INFO: /var/folders/sy/f16zz6x50xz3113nwtb9bvq00000gp/T/abs_44tbtwf8c1/croots/recipe/xgboost-split_1659548960882/work/src/gbm/gbtree.cc:904: drop 0 trees, weight = 1\n",
      "[19:55:29] INFO: /var/folders/sy/f16zz6x50xz3113nwtb9bvq00000gp/T/abs_44tbtwf8c1/croots/recipe/xgboost-split_1659548960882/work/src/tree/updater_prune.cc:101: tree pruning end, 58 extra nodes, 0 pruned nodes, max_depth=6\n",
      "[19:55:29] INFO: /var/folders/sy/f16zz6x50xz3113nwtb9bvq00000gp/T/abs_44tbtwf8c1/croots/recipe/xgboost-split_1659548960882/work/src/gbm/gbtree.cc:904: drop 0 trees, weight = 1\n",
      "[19:55:29] INFO: /var/folders/sy/f16zz6x50xz3113nwtb9bvq00000gp/T/abs_44tbtwf8c1/croots/recipe/xgboost-split_1659548960882/work/src/tree/updater_prune.cc:101: tree pruning end, 54 extra nodes, 0 pruned nodes, max_depth=6\n",
      "[19:55:29] INFO: /var/folders/sy/f16zz6x50xz3113nwtb9bvq00000gp/T/abs_44tbtwf8c1/croots/recipe/xgboost-split_1659548960882/work/src/gbm/gbtree.cc:904: drop 0 trees, weight = 1\n",
      "[19:55:29] INFO: /var/folders/sy/f16zz6x50xz3113nwtb9bvq00000gp/T/abs_44tbtwf8c1/croots/recipe/xgboost-split_1659548960882/work/src/tree/updater_prune.cc:101: tree pruning end, 22 extra nodes, 0 pruned nodes, max_depth=6\n",
      "[19:55:29] INFO: /var/folders/sy/f16zz6x50xz3113nwtb9bvq00000gp/T/abs_44tbtwf8c1/croots/recipe/xgboost-split_1659548960882/work/src/gbm/gbtree.cc:904: drop 0 trees, weight = 1\n",
      "[19:55:29] INFO: /var/folders/sy/f16zz6x50xz3113nwtb9bvq00000gp/T/abs_44tbtwf8c1/croots/recipe/xgboost-split_1659548960882/work/src/tree/updater_prune.cc:101: tree pruning end, 20 extra nodes, 0 pruned nodes, max_depth=6\n",
      "[19:55:29] INFO: /var/folders/sy/f16zz6x50xz3113nwtb9bvq00000gp/T/abs_44tbtwf8c1/croots/recipe/xgboost-split_1659548960882/work/src/gbm/gbtree.cc:904: drop 0 trees, weight = 1\n",
      "[19:55:29] INFO: /var/folders/sy/f16zz6x50xz3113nwtb9bvq00000gp/T/abs_44tbtwf8c1/croots/recipe/xgboost-split_1659548960882/work/src/tree/updater_prune.cc:101: tree pruning end, 28 extra nodes, 0 pruned nodes, max_depth=6\n",
      "[19:55:29] INFO: /var/folders/sy/f16zz6x50xz3113nwtb9bvq00000gp/T/abs_44tbtwf8c1/croots/recipe/xgboost-split_1659548960882/work/src/gbm/gbtree.cc:904: drop 0 trees, weight = 1\n",
      "[19:55:30] INFO: /var/folders/sy/f16zz6x50xz3113nwtb9bvq00000gp/T/abs_44tbtwf8c1/croots/recipe/xgboost-split_1659548960882/work/src/tree/updater_prune.cc:101: tree pruning end, 22 extra nodes, 0 pruned nodes, max_depth=6\n",
      "[19:55:30] INFO: /var/folders/sy/f16zz6x50xz3113nwtb9bvq00000gp/T/abs_44tbtwf8c1/croots/recipe/xgboost-split_1659548960882/work/src/gbm/gbtree.cc:904: drop 0 trees, weight = 1\n",
      "[19:55:30] INFO: /var/folders/sy/f16zz6x50xz3113nwtb9bvq00000gp/T/abs_44tbtwf8c1/croots/recipe/xgboost-split_1659548960882/work/src/tree/updater_prune.cc:101: tree pruning end, 14 extra nodes, 0 pruned nodes, max_depth=6\n",
      "[19:55:30] INFO: /var/folders/sy/f16zz6x50xz3113nwtb9bvq00000gp/T/abs_44tbtwf8c1/croots/recipe/xgboost-split_1659548960882/work/src/gbm/gbtree.cc:904: drop 0 trees, weight = 1\n",
      "[19:55:30] INFO: /var/folders/sy/f16zz6x50xz3113nwtb9bvq00000gp/T/abs_44tbtwf8c1/croots/recipe/xgboost-split_1659548960882/work/src/tree/updater_prune.cc:101: tree pruning end, 16 extra nodes, 0 pruned nodes, max_depth=6\n",
      "[19:55:30] INFO: /var/folders/sy/f16zz6x50xz3113nwtb9bvq00000gp/T/abs_44tbtwf8c1/croots/recipe/xgboost-split_1659548960882/work/src/gbm/gbtree.cc:904: drop 0 trees, weight = 1\n",
      "[19:55:30] INFO: /var/folders/sy/f16zz6x50xz3113nwtb9bvq00000gp/T/abs_44tbtwf8c1/croots/recipe/xgboost-split_1659548960882/work/src/tree/updater_prune.cc:101: tree pruning end, 12 extra nodes, 0 pruned nodes, max_depth=6\n",
      "[19:55:30] INFO: /var/folders/sy/f16zz6x50xz3113nwtb9bvq00000gp/T/abs_44tbtwf8c1/croots/recipe/xgboost-split_1659548960882/work/src/gbm/gbtree.cc:904: drop 0 trees, weight = 1\n",
      "[19:55:30] INFO: /var/folders/sy/f16zz6x50xz3113nwtb9bvq00000gp/T/abs_44tbtwf8c1/croots/recipe/xgboost-split_1659548960882/work/src/tree/updater_prune.cc:101: tree pruning end, 16 extra nodes, 0 pruned nodes, max_depth=6\n",
      "[19:55:30] INFO: /var/folders/sy/f16zz6x50xz3113nwtb9bvq00000gp/T/abs_44tbtwf8c1/croots/recipe/xgboost-split_1659548960882/work/src/gbm/gbtree.cc:904: drop 0 trees, weight = 1\n",
      "[19:55:31] INFO: /var/folders/sy/f16zz6x50xz3113nwtb9bvq00000gp/T/abs_44tbtwf8c1/croots/recipe/xgboost-split_1659548960882/work/src/tree/updater_prune.cc:101: tree pruning end, 18 extra nodes, 0 pruned nodes, max_depth=6\n",
      "[19:55:31] INFO: /var/folders/sy/f16zz6x50xz3113nwtb9bvq00000gp/T/abs_44tbtwf8c1/croots/recipe/xgboost-split_1659548960882/work/src/gbm/gbtree.cc:904: drop 0 trees, weight = 1\n",
      "[19:55:31] INFO: /var/folders/sy/f16zz6x50xz3113nwtb9bvq00000gp/T/abs_44tbtwf8c1/croots/recipe/xgboost-split_1659548960882/work/src/tree/updater_prune.cc:101: tree pruning end, 16 extra nodes, 0 pruned nodes, max_depth=6\n",
      "[19:55:31] INFO: /var/folders/sy/f16zz6x50xz3113nwtb9bvq00000gp/T/abs_44tbtwf8c1/croots/recipe/xgboost-split_1659548960882/work/src/gbm/gbtree.cc:904: drop 0 trees, weight = 1\n"
     ]
    },
    {
     "name": "stdout",
     "output_type": "stream",
     "text": [
      "[19:55:31] INFO: /var/folders/sy/f16zz6x50xz3113nwtb9bvq00000gp/T/abs_44tbtwf8c1/croots/recipe/xgboost-split_1659548960882/work/src/tree/updater_prune.cc:101: tree pruning end, 58 extra nodes, 0 pruned nodes, max_depth=6\n",
      "[19:55:31] INFO: /var/folders/sy/f16zz6x50xz3113nwtb9bvq00000gp/T/abs_44tbtwf8c1/croots/recipe/xgboost-split_1659548960882/work/src/gbm/gbtree.cc:904: drop 0 trees, weight = 1\n",
      "[19:55:31] INFO: /var/folders/sy/f16zz6x50xz3113nwtb9bvq00000gp/T/abs_44tbtwf8c1/croots/recipe/xgboost-split_1659548960882/work/src/tree/updater_prune.cc:101: tree pruning end, 40 extra nodes, 0 pruned nodes, max_depth=6\n",
      "[19:55:31] INFO: /var/folders/sy/f16zz6x50xz3113nwtb9bvq00000gp/T/abs_44tbtwf8c1/croots/recipe/xgboost-split_1659548960882/work/src/gbm/gbtree.cc:904: drop 0 trees, weight = 1\n",
      "[19:55:32] INFO: /var/folders/sy/f16zz6x50xz3113nwtb9bvq00000gp/T/abs_44tbtwf8c1/croots/recipe/xgboost-split_1659548960882/work/src/tree/updater_prune.cc:101: tree pruning end, 12 extra nodes, 0 pruned nodes, max_depth=6\n",
      "[19:55:32] INFO: /var/folders/sy/f16zz6x50xz3113nwtb9bvq00000gp/T/abs_44tbtwf8c1/croots/recipe/xgboost-split_1659548960882/work/src/gbm/gbtree.cc:904: drop 0 trees, weight = 1\n",
      "[19:55:32] INFO: /var/folders/sy/f16zz6x50xz3113nwtb9bvq00000gp/T/abs_44tbtwf8c1/croots/recipe/xgboost-split_1659548960882/work/src/tree/updater_prune.cc:101: tree pruning end, 44 extra nodes, 0 pruned nodes, max_depth=6\n",
      "[19:55:32] INFO: /var/folders/sy/f16zz6x50xz3113nwtb9bvq00000gp/T/abs_44tbtwf8c1/croots/recipe/xgboost-split_1659548960882/work/src/gbm/gbtree.cc:904: drop 0 trees, weight = 1\n",
      "[19:55:32] INFO: /var/folders/sy/f16zz6x50xz3113nwtb9bvq00000gp/T/abs_44tbtwf8c1/croots/recipe/xgboost-split_1659548960882/work/src/tree/updater_prune.cc:101: tree pruning end, 28 extra nodes, 0 pruned nodes, max_depth=6\n",
      "[19:55:32] INFO: /var/folders/sy/f16zz6x50xz3113nwtb9bvq00000gp/T/abs_44tbtwf8c1/croots/recipe/xgboost-split_1659548960882/work/src/gbm/gbtree.cc:904: drop 0 trees, weight = 1\n",
      "[19:55:32] INFO: /var/folders/sy/f16zz6x50xz3113nwtb9bvq00000gp/T/abs_44tbtwf8c1/croots/recipe/xgboost-split_1659548960882/work/src/tree/updater_prune.cc:101: tree pruning end, 12 extra nodes, 0 pruned nodes, max_depth=6\n",
      "[19:55:32] INFO: /var/folders/sy/f16zz6x50xz3113nwtb9bvq00000gp/T/abs_44tbtwf8c1/croots/recipe/xgboost-split_1659548960882/work/src/gbm/gbtree.cc:904: drop 0 trees, weight = 1\n",
      "[19:55:32] INFO: /var/folders/sy/f16zz6x50xz3113nwtb9bvq00000gp/T/abs_44tbtwf8c1/croots/recipe/xgboost-split_1659548960882/work/src/tree/updater_prune.cc:101: tree pruning end, 12 extra nodes, 0 pruned nodes, max_depth=6\n",
      "[19:55:32] INFO: /var/folders/sy/f16zz6x50xz3113nwtb9bvq00000gp/T/abs_44tbtwf8c1/croots/recipe/xgboost-split_1659548960882/work/src/gbm/gbtree.cc:904: drop 0 trees, weight = 1\n",
      "[19:55:33] INFO: /var/folders/sy/f16zz6x50xz3113nwtb9bvq00000gp/T/abs_44tbtwf8c1/croots/recipe/xgboost-split_1659548960882/work/src/tree/updater_prune.cc:101: tree pruning end, 12 extra nodes, 0 pruned nodes, max_depth=6\n",
      "[19:55:33] INFO: /var/folders/sy/f16zz6x50xz3113nwtb9bvq00000gp/T/abs_44tbtwf8c1/croots/recipe/xgboost-split_1659548960882/work/src/gbm/gbtree.cc:904: drop 0 trees, weight = 1\n",
      "[19:55:33] INFO: /var/folders/sy/f16zz6x50xz3113nwtb9bvq00000gp/T/abs_44tbtwf8c1/croots/recipe/xgboost-split_1659548960882/work/src/tree/updater_prune.cc:101: tree pruning end, 18 extra nodes, 0 pruned nodes, max_depth=6\n",
      "[19:55:33] INFO: /var/folders/sy/f16zz6x50xz3113nwtb9bvq00000gp/T/abs_44tbtwf8c1/croots/recipe/xgboost-split_1659548960882/work/src/gbm/gbtree.cc:904: drop 0 trees, weight = 1\n",
      "[19:55:33] INFO: /var/folders/sy/f16zz6x50xz3113nwtb9bvq00000gp/T/abs_44tbtwf8c1/croots/recipe/xgboost-split_1659548960882/work/src/tree/updater_prune.cc:101: tree pruning end, 14 extra nodes, 0 pruned nodes, max_depth=6\n",
      "[19:55:33] INFO: /var/folders/sy/f16zz6x50xz3113nwtb9bvq00000gp/T/abs_44tbtwf8c1/croots/recipe/xgboost-split_1659548960882/work/src/gbm/gbtree.cc:904: drop 0 trees, weight = 1\n",
      "[19:55:34] INFO: /var/folders/sy/f16zz6x50xz3113nwtb9bvq00000gp/T/abs_44tbtwf8c1/croots/recipe/xgboost-split_1659548960882/work/src/tree/updater_prune.cc:101: tree pruning end, 20 extra nodes, 0 pruned nodes, max_depth=6\n",
      "[19:55:34] INFO: /var/folders/sy/f16zz6x50xz3113nwtb9bvq00000gp/T/abs_44tbtwf8c1/croots/recipe/xgboost-split_1659548960882/work/src/gbm/gbtree.cc:904: drop 0 trees, weight = 1\n",
      "[19:55:34] INFO: /var/folders/sy/f16zz6x50xz3113nwtb9bvq00000gp/T/abs_44tbtwf8c1/croots/recipe/xgboost-split_1659548960882/work/src/tree/updater_prune.cc:101: tree pruning end, 20 extra nodes, 0 pruned nodes, max_depth=6\n",
      "[19:55:34] INFO: /var/folders/sy/f16zz6x50xz3113nwtb9bvq00000gp/T/abs_44tbtwf8c1/croots/recipe/xgboost-split_1659548960882/work/src/gbm/gbtree.cc:904: drop 0 trees, weight = 1\n",
      "[19:55:34] INFO: /var/folders/sy/f16zz6x50xz3113nwtb9bvq00000gp/T/abs_44tbtwf8c1/croots/recipe/xgboost-split_1659548960882/work/src/tree/updater_prune.cc:101: tree pruning end, 18 extra nodes, 0 pruned nodes, max_depth=6\n",
      "[19:55:34] INFO: /var/folders/sy/f16zz6x50xz3113nwtb9bvq00000gp/T/abs_44tbtwf8c1/croots/recipe/xgboost-split_1659548960882/work/src/gbm/gbtree.cc:904: drop 0 trees, weight = 1\n",
      "[19:55:34] INFO: /var/folders/sy/f16zz6x50xz3113nwtb9bvq00000gp/T/abs_44tbtwf8c1/croots/recipe/xgboost-split_1659548960882/work/src/tree/updater_prune.cc:101: tree pruning end, 12 extra nodes, 0 pruned nodes, max_depth=6\n",
      "[19:55:34] INFO: /var/folders/sy/f16zz6x50xz3113nwtb9bvq00000gp/T/abs_44tbtwf8c1/croots/recipe/xgboost-split_1659548960882/work/src/gbm/gbtree.cc:904: drop 0 trees, weight = 1\n",
      "[19:55:35] INFO: /var/folders/sy/f16zz6x50xz3113nwtb9bvq00000gp/T/abs_44tbtwf8c1/croots/recipe/xgboost-split_1659548960882/work/src/tree/updater_prune.cc:101: tree pruning end, 20 extra nodes, 0 pruned nodes, max_depth=6\n",
      "[19:55:35] INFO: /var/folders/sy/f16zz6x50xz3113nwtb9bvq00000gp/T/abs_44tbtwf8c1/croots/recipe/xgboost-split_1659548960882/work/src/gbm/gbtree.cc:904: drop 0 trees, weight = 1\n",
      "[19:55:35] INFO: /var/folders/sy/f16zz6x50xz3113nwtb9bvq00000gp/T/abs_44tbtwf8c1/croots/recipe/xgboost-split_1659548960882/work/src/tree/updater_prune.cc:101: tree pruning end, 14 extra nodes, 0 pruned nodes, max_depth=6\n",
      "[19:55:35] INFO: /var/folders/sy/f16zz6x50xz3113nwtb9bvq00000gp/T/abs_44tbtwf8c1/croots/recipe/xgboost-split_1659548960882/work/src/gbm/gbtree.cc:904: drop 0 trees, weight = 1\n",
      "[19:55:35] INFO: /var/folders/sy/f16zz6x50xz3113nwtb9bvq00000gp/T/abs_44tbtwf8c1/croots/recipe/xgboost-split_1659548960882/work/src/tree/updater_prune.cc:101: tree pruning end, 16 extra nodes, 0 pruned nodes, max_depth=6\n",
      "[19:55:35] INFO: /var/folders/sy/f16zz6x50xz3113nwtb9bvq00000gp/T/abs_44tbtwf8c1/croots/recipe/xgboost-split_1659548960882/work/src/gbm/gbtree.cc:904: drop 0 trees, weight = 1\n",
      "[19:55:36] INFO: /var/folders/sy/f16zz6x50xz3113nwtb9bvq00000gp/T/abs_44tbtwf8c1/croots/recipe/xgboost-split_1659548960882/work/src/tree/updater_prune.cc:101: tree pruning end, 14 extra nodes, 0 pruned nodes, max_depth=6\n",
      "[19:55:36] INFO: /var/folders/sy/f16zz6x50xz3113nwtb9bvq00000gp/T/abs_44tbtwf8c1/croots/recipe/xgboost-split_1659548960882/work/src/gbm/gbtree.cc:904: drop 0 trees, weight = 1\n",
      "[19:55:36] INFO: /var/folders/sy/f16zz6x50xz3113nwtb9bvq00000gp/T/abs_44tbtwf8c1/croots/recipe/xgboost-split_1659548960882/work/src/tree/updater_prune.cc:101: tree pruning end, 14 extra nodes, 0 pruned nodes, max_depth=6\n",
      "[19:55:36] INFO: /var/folders/sy/f16zz6x50xz3113nwtb9bvq00000gp/T/abs_44tbtwf8c1/croots/recipe/xgboost-split_1659548960882/work/src/gbm/gbtree.cc:904: drop 0 trees, weight = 1\n",
      "[19:55:36] INFO: /var/folders/sy/f16zz6x50xz3113nwtb9bvq00000gp/T/abs_44tbtwf8c1/croots/recipe/xgboost-split_1659548960882/work/src/tree/updater_prune.cc:101: tree pruning end, 20 extra nodes, 0 pruned nodes, max_depth=6\n",
      "[19:55:36] INFO: /var/folders/sy/f16zz6x50xz3113nwtb9bvq00000gp/T/abs_44tbtwf8c1/croots/recipe/xgboost-split_1659548960882/work/src/gbm/gbtree.cc:904: drop 0 trees, weight = 1\n",
      "[19:55:36] INFO: /var/folders/sy/f16zz6x50xz3113nwtb9bvq00000gp/T/abs_44tbtwf8c1/croots/recipe/xgboost-split_1659548960882/work/src/tree/updater_prune.cc:101: tree pruning end, 12 extra nodes, 0 pruned nodes, max_depth=6\n",
      "[19:55:36] INFO: /var/folders/sy/f16zz6x50xz3113nwtb9bvq00000gp/T/abs_44tbtwf8c1/croots/recipe/xgboost-split_1659548960882/work/src/gbm/gbtree.cc:904: drop 0 trees, weight = 1\n"
     ]
    },
    {
     "name": "stdout",
     "output_type": "stream",
     "text": [
      "[19:55:37] INFO: /var/folders/sy/f16zz6x50xz3113nwtb9bvq00000gp/T/abs_44tbtwf8c1/croots/recipe/xgboost-split_1659548960882/work/src/tree/updater_prune.cc:101: tree pruning end, 22 extra nodes, 0 pruned nodes, max_depth=6\n",
      "[19:55:37] INFO: /var/folders/sy/f16zz6x50xz3113nwtb9bvq00000gp/T/abs_44tbtwf8c1/croots/recipe/xgboost-split_1659548960882/work/src/gbm/gbtree.cc:904: drop 0 trees, weight = 1\n",
      "[19:55:37] INFO: /var/folders/sy/f16zz6x50xz3113nwtb9bvq00000gp/T/abs_44tbtwf8c1/croots/recipe/xgboost-split_1659548960882/work/src/tree/updater_prune.cc:101: tree pruning end, 12 extra nodes, 0 pruned nodes, max_depth=6\n",
      "[19:55:37] INFO: /var/folders/sy/f16zz6x50xz3113nwtb9bvq00000gp/T/abs_44tbtwf8c1/croots/recipe/xgboost-split_1659548960882/work/src/gbm/gbtree.cc:904: drop 0 trees, weight = 1\n",
      "[19:55:37] INFO: /var/folders/sy/f16zz6x50xz3113nwtb9bvq00000gp/T/abs_44tbtwf8c1/croots/recipe/xgboost-split_1659548960882/work/src/tree/updater_prune.cc:101: tree pruning end, 22 extra nodes, 0 pruned nodes, max_depth=6\n",
      "[19:55:37] INFO: /var/folders/sy/f16zz6x50xz3113nwtb9bvq00000gp/T/abs_44tbtwf8c1/croots/recipe/xgboost-split_1659548960882/work/src/gbm/gbtree.cc:904: drop 0 trees, weight = 1\n",
      "[19:55:38] INFO: /var/folders/sy/f16zz6x50xz3113nwtb9bvq00000gp/T/abs_44tbtwf8c1/croots/recipe/xgboost-split_1659548960882/work/src/tree/updater_prune.cc:101: tree pruning end, 12 extra nodes, 0 pruned nodes, max_depth=6\n",
      "[19:55:38] INFO: /var/folders/sy/f16zz6x50xz3113nwtb9bvq00000gp/T/abs_44tbtwf8c1/croots/recipe/xgboost-split_1659548960882/work/src/gbm/gbtree.cc:904: drop 0 trees, weight = 1\n",
      "[19:55:38] INFO: /var/folders/sy/f16zz6x50xz3113nwtb9bvq00000gp/T/abs_44tbtwf8c1/croots/recipe/xgboost-split_1659548960882/work/src/tree/updater_prune.cc:101: tree pruning end, 14 extra nodes, 0 pruned nodes, max_depth=6\n",
      "[19:55:38] INFO: /var/folders/sy/f16zz6x50xz3113nwtb9bvq00000gp/T/abs_44tbtwf8c1/croots/recipe/xgboost-split_1659548960882/work/src/gbm/gbtree.cc:904: drop 0 trees, weight = 1\n",
      "[19:55:38] INFO: /var/folders/sy/f16zz6x50xz3113nwtb9bvq00000gp/T/abs_44tbtwf8c1/croots/recipe/xgboost-split_1659548960882/work/src/tree/updater_prune.cc:101: tree pruning end, 12 extra nodes, 0 pruned nodes, max_depth=6\n",
      "[19:55:38] INFO: /var/folders/sy/f16zz6x50xz3113nwtb9bvq00000gp/T/abs_44tbtwf8c1/croots/recipe/xgboost-split_1659548960882/work/src/gbm/gbtree.cc:904: drop 0 trees, weight = 1\n",
      "[19:55:39] INFO: /var/folders/sy/f16zz6x50xz3113nwtb9bvq00000gp/T/abs_44tbtwf8c1/croots/recipe/xgboost-split_1659548960882/work/src/tree/updater_prune.cc:101: tree pruning end, 14 extra nodes, 0 pruned nodes, max_depth=6\n",
      "[19:55:39] INFO: /var/folders/sy/f16zz6x50xz3113nwtb9bvq00000gp/T/abs_44tbtwf8c1/croots/recipe/xgboost-split_1659548960882/work/src/gbm/gbtree.cc:904: drop 0 trees, weight = 1\n",
      "[19:55:39] INFO: /var/folders/sy/f16zz6x50xz3113nwtb9bvq00000gp/T/abs_44tbtwf8c1/croots/recipe/xgboost-split_1659548960882/work/src/tree/updater_prune.cc:101: tree pruning end, 14 extra nodes, 0 pruned nodes, max_depth=6\n",
      "[19:55:39] INFO: /var/folders/sy/f16zz6x50xz3113nwtb9bvq00000gp/T/abs_44tbtwf8c1/croots/recipe/xgboost-split_1659548960882/work/src/gbm/gbtree.cc:904: drop 0 trees, weight = 1\n",
      "[19:55:39] INFO: /var/folders/sy/f16zz6x50xz3113nwtb9bvq00000gp/T/abs_44tbtwf8c1/croots/recipe/xgboost-split_1659548960882/work/src/tree/updater_prune.cc:101: tree pruning end, 34 extra nodes, 0 pruned nodes, max_depth=6\n",
      "[19:55:39] INFO: /var/folders/sy/f16zz6x50xz3113nwtb9bvq00000gp/T/abs_44tbtwf8c1/croots/recipe/xgboost-split_1659548960882/work/src/gbm/gbtree.cc:904: drop 0 trees, weight = 1\n",
      "[19:55:39] INFO: /var/folders/sy/f16zz6x50xz3113nwtb9bvq00000gp/T/abs_44tbtwf8c1/croots/recipe/xgboost-split_1659548960882/work/src/tree/updater_prune.cc:101: tree pruning end, 12 extra nodes, 0 pruned nodes, max_depth=6\n",
      "[19:55:39] INFO: /var/folders/sy/f16zz6x50xz3113nwtb9bvq00000gp/T/abs_44tbtwf8c1/croots/recipe/xgboost-split_1659548960882/work/src/gbm/gbtree.cc:904: drop 0 trees, weight = 1\n",
      "[19:55:40] INFO: /var/folders/sy/f16zz6x50xz3113nwtb9bvq00000gp/T/abs_44tbtwf8c1/croots/recipe/xgboost-split_1659548960882/work/src/tree/updater_prune.cc:101: tree pruning end, 12 extra nodes, 0 pruned nodes, max_depth=6\n",
      "[19:55:40] INFO: /var/folders/sy/f16zz6x50xz3113nwtb9bvq00000gp/T/abs_44tbtwf8c1/croots/recipe/xgboost-split_1659548960882/work/src/gbm/gbtree.cc:904: drop 0 trees, weight = 1\n",
      "[19:55:40] INFO: /var/folders/sy/f16zz6x50xz3113nwtb9bvq00000gp/T/abs_44tbtwf8c1/croots/recipe/xgboost-split_1659548960882/work/src/tree/updater_prune.cc:101: tree pruning end, 14 extra nodes, 0 pruned nodes, max_depth=6\n",
      "[19:55:40] INFO: /var/folders/sy/f16zz6x50xz3113nwtb9bvq00000gp/T/abs_44tbtwf8c1/croots/recipe/xgboost-split_1659548960882/work/src/gbm/gbtree.cc:904: drop 0 trees, weight = 1\n",
      "[19:55:41] INFO: /var/folders/sy/f16zz6x50xz3113nwtb9bvq00000gp/T/abs_44tbtwf8c1/croots/recipe/xgboost-split_1659548960882/work/src/tree/updater_prune.cc:101: tree pruning end, 64 extra nodes, 0 pruned nodes, max_depth=6\n",
      "[19:55:41] INFO: /var/folders/sy/f16zz6x50xz3113nwtb9bvq00000gp/T/abs_44tbtwf8c1/croots/recipe/xgboost-split_1659548960882/work/src/gbm/gbtree.cc:904: drop 0 trees, weight = 1\n",
      "[19:55:41] INFO: /var/folders/sy/f16zz6x50xz3113nwtb9bvq00000gp/T/abs_44tbtwf8c1/croots/recipe/xgboost-split_1659548960882/work/src/tree/updater_prune.cc:101: tree pruning end, 16 extra nodes, 0 pruned nodes, max_depth=6\n",
      "[19:55:41] INFO: /var/folders/sy/f16zz6x50xz3113nwtb9bvq00000gp/T/abs_44tbtwf8c1/croots/recipe/xgboost-split_1659548960882/work/src/gbm/gbtree.cc:904: drop 0 trees, weight = 1\n",
      "[19:55:42] INFO: /var/folders/sy/f16zz6x50xz3113nwtb9bvq00000gp/T/abs_44tbtwf8c1/croots/recipe/xgboost-split_1659548960882/work/src/tree/updater_prune.cc:101: tree pruning end, 20 extra nodes, 0 pruned nodes, max_depth=6\n",
      "[19:55:42] INFO: /var/folders/sy/f16zz6x50xz3113nwtb9bvq00000gp/T/abs_44tbtwf8c1/croots/recipe/xgboost-split_1659548960882/work/src/gbm/gbtree.cc:904: drop 0 trees, weight = 1\n",
      "[19:55:42] INFO: /var/folders/sy/f16zz6x50xz3113nwtb9bvq00000gp/T/abs_44tbtwf8c1/croots/recipe/xgboost-split_1659548960882/work/src/tree/updater_prune.cc:101: tree pruning end, 14 extra nodes, 0 pruned nodes, max_depth=6\n",
      "[19:55:42] INFO: /var/folders/sy/f16zz6x50xz3113nwtb9bvq00000gp/T/abs_44tbtwf8c1/croots/recipe/xgboost-split_1659548960882/work/src/gbm/gbtree.cc:904: drop 0 trees, weight = 1\n",
      "[19:55:42] INFO: /var/folders/sy/f16zz6x50xz3113nwtb9bvq00000gp/T/abs_44tbtwf8c1/croots/recipe/xgboost-split_1659548960882/work/src/tree/updater_prune.cc:101: tree pruning end, 14 extra nodes, 0 pruned nodes, max_depth=6\n",
      "[19:55:42] INFO: /var/folders/sy/f16zz6x50xz3113nwtb9bvq00000gp/T/abs_44tbtwf8c1/croots/recipe/xgboost-split_1659548960882/work/src/gbm/gbtree.cc:904: drop 0 trees, weight = 1\n",
      "[19:55:43] INFO: /var/folders/sy/f16zz6x50xz3113nwtb9bvq00000gp/T/abs_44tbtwf8c1/croots/recipe/xgboost-split_1659548960882/work/src/tree/updater_prune.cc:101: tree pruning end, 20 extra nodes, 0 pruned nodes, max_depth=6\n",
      "[19:55:43] INFO: /var/folders/sy/f16zz6x50xz3113nwtb9bvq00000gp/T/abs_44tbtwf8c1/croots/recipe/xgboost-split_1659548960882/work/src/gbm/gbtree.cc:904: drop 0 trees, weight = 1\n",
      "[19:55:43] INFO: /var/folders/sy/f16zz6x50xz3113nwtb9bvq00000gp/T/abs_44tbtwf8c1/croots/recipe/xgboost-split_1659548960882/work/src/tree/updater_prune.cc:101: tree pruning end, 14 extra nodes, 0 pruned nodes, max_depth=6\n",
      "[19:55:43] INFO: /var/folders/sy/f16zz6x50xz3113nwtb9bvq00000gp/T/abs_44tbtwf8c1/croots/recipe/xgboost-split_1659548960882/work/src/gbm/gbtree.cc:904: drop 0 trees, weight = 1\n",
      "[19:55:43] INFO: /var/folders/sy/f16zz6x50xz3113nwtb9bvq00000gp/T/abs_44tbtwf8c1/croots/recipe/xgboost-split_1659548960882/work/src/tree/updater_prune.cc:101: tree pruning end, 12 extra nodes, 0 pruned nodes, max_depth=6\n",
      "[19:55:43] INFO: /var/folders/sy/f16zz6x50xz3113nwtb9bvq00000gp/T/abs_44tbtwf8c1/croots/recipe/xgboost-split_1659548960882/work/src/gbm/gbtree.cc:904: drop 0 trees, weight = 1\n",
      "[19:55:44] INFO: /var/folders/sy/f16zz6x50xz3113nwtb9bvq00000gp/T/abs_44tbtwf8c1/croots/recipe/xgboost-split_1659548960882/work/src/tree/updater_prune.cc:101: tree pruning end, 14 extra nodes, 0 pruned nodes, max_depth=6\n",
      "[19:55:44] INFO: /var/folders/sy/f16zz6x50xz3113nwtb9bvq00000gp/T/abs_44tbtwf8c1/croots/recipe/xgboost-split_1659548960882/work/src/gbm/gbtree.cc:904: drop 0 trees, weight = 1\n"
     ]
    },
    {
     "name": "stdout",
     "output_type": "stream",
     "text": [
      "[19:55:44] INFO: /var/folders/sy/f16zz6x50xz3113nwtb9bvq00000gp/T/abs_44tbtwf8c1/croots/recipe/xgboost-split_1659548960882/work/src/tree/updater_prune.cc:101: tree pruning end, 14 extra nodes, 0 pruned nodes, max_depth=6\n",
      "[19:55:44] INFO: /var/folders/sy/f16zz6x50xz3113nwtb9bvq00000gp/T/abs_44tbtwf8c1/croots/recipe/xgboost-split_1659548960882/work/src/gbm/gbtree.cc:904: drop 0 trees, weight = 1\n",
      "[19:55:44] INFO: /var/folders/sy/f16zz6x50xz3113nwtb9bvq00000gp/T/abs_44tbtwf8c1/croots/recipe/xgboost-split_1659548960882/work/src/tree/updater_prune.cc:101: tree pruning end, 28 extra nodes, 0 pruned nodes, max_depth=6\n",
      "[19:55:44] INFO: /var/folders/sy/f16zz6x50xz3113nwtb9bvq00000gp/T/abs_44tbtwf8c1/croots/recipe/xgboost-split_1659548960882/work/src/gbm/gbtree.cc:904: drop 0 trees, weight = 1\n",
      "[19:55:45] INFO: /var/folders/sy/f16zz6x50xz3113nwtb9bvq00000gp/T/abs_44tbtwf8c1/croots/recipe/xgboost-split_1659548960882/work/src/tree/updater_prune.cc:101: tree pruning end, 14 extra nodes, 0 pruned nodes, max_depth=6\n",
      "[19:55:45] INFO: /var/folders/sy/f16zz6x50xz3113nwtb9bvq00000gp/T/abs_44tbtwf8c1/croots/recipe/xgboost-split_1659548960882/work/src/gbm/gbtree.cc:904: drop 0 trees, weight = 1\n",
      "[19:55:45] INFO: /var/folders/sy/f16zz6x50xz3113nwtb9bvq00000gp/T/abs_44tbtwf8c1/croots/recipe/xgboost-split_1659548960882/work/src/tree/updater_prune.cc:101: tree pruning end, 14 extra nodes, 0 pruned nodes, max_depth=6\n",
      "[19:55:45] INFO: /var/folders/sy/f16zz6x50xz3113nwtb9bvq00000gp/T/abs_44tbtwf8c1/croots/recipe/xgboost-split_1659548960882/work/src/gbm/gbtree.cc:904: drop 0 trees, weight = 1\n",
      "[19:55:46] INFO: /var/folders/sy/f16zz6x50xz3113nwtb9bvq00000gp/T/abs_44tbtwf8c1/croots/recipe/xgboost-split_1659548960882/work/src/tree/updater_prune.cc:101: tree pruning end, 48 extra nodes, 0 pruned nodes, max_depth=6\n",
      "[19:55:46] INFO: /var/folders/sy/f16zz6x50xz3113nwtb9bvq00000gp/T/abs_44tbtwf8c1/croots/recipe/xgboost-split_1659548960882/work/src/gbm/gbtree.cc:904: drop 0 trees, weight = 1\n",
      "[19:55:46] INFO: /var/folders/sy/f16zz6x50xz3113nwtb9bvq00000gp/T/abs_44tbtwf8c1/croots/recipe/xgboost-split_1659548960882/work/src/tree/updater_prune.cc:101: tree pruning end, 12 extra nodes, 0 pruned nodes, max_depth=6\n",
      "[19:55:46] INFO: /var/folders/sy/f16zz6x50xz3113nwtb9bvq00000gp/T/abs_44tbtwf8c1/croots/recipe/xgboost-split_1659548960882/work/src/gbm/gbtree.cc:904: drop 0 trees, weight = 1\n",
      "[19:55:46] INFO: /var/folders/sy/f16zz6x50xz3113nwtb9bvq00000gp/T/abs_44tbtwf8c1/croots/recipe/xgboost-split_1659548960882/work/src/tree/updater_prune.cc:101: tree pruning end, 16 extra nodes, 0 pruned nodes, max_depth=6\n",
      "[19:55:46] INFO: /var/folders/sy/f16zz6x50xz3113nwtb9bvq00000gp/T/abs_44tbtwf8c1/croots/recipe/xgboost-split_1659548960882/work/src/gbm/gbtree.cc:904: drop 0 trees, weight = 1\n",
      "[19:55:47] INFO: /var/folders/sy/f16zz6x50xz3113nwtb9bvq00000gp/T/abs_44tbtwf8c1/croots/recipe/xgboost-split_1659548960882/work/src/tree/updater_prune.cc:101: tree pruning end, 14 extra nodes, 0 pruned nodes, max_depth=6\n",
      "[19:55:47] INFO: /var/folders/sy/f16zz6x50xz3113nwtb9bvq00000gp/T/abs_44tbtwf8c1/croots/recipe/xgboost-split_1659548960882/work/src/gbm/gbtree.cc:904: drop 0 trees, weight = 1\n",
      "[19:55:47] INFO: /var/folders/sy/f16zz6x50xz3113nwtb9bvq00000gp/T/abs_44tbtwf8c1/croots/recipe/xgboost-split_1659548960882/work/src/tree/updater_prune.cc:101: tree pruning end, 12 extra nodes, 0 pruned nodes, max_depth=6\n",
      "[19:55:47] INFO: /var/folders/sy/f16zz6x50xz3113nwtb9bvq00000gp/T/abs_44tbtwf8c1/croots/recipe/xgboost-split_1659548960882/work/src/gbm/gbtree.cc:904: drop 0 trees, weight = 1\n",
      "[19:55:48] INFO: /var/folders/sy/f16zz6x50xz3113nwtb9bvq00000gp/T/abs_44tbtwf8c1/croots/recipe/xgboost-split_1659548960882/work/src/tree/updater_prune.cc:101: tree pruning end, 14 extra nodes, 0 pruned nodes, max_depth=6\n",
      "[19:55:48] INFO: /var/folders/sy/f16zz6x50xz3113nwtb9bvq00000gp/T/abs_44tbtwf8c1/croots/recipe/xgboost-split_1659548960882/work/src/gbm/gbtree.cc:904: drop 0 trees, weight = 1\n",
      "[19:55:48] INFO: /var/folders/sy/f16zz6x50xz3113nwtb9bvq00000gp/T/abs_44tbtwf8c1/croots/recipe/xgboost-split_1659548960882/work/src/tree/updater_prune.cc:101: tree pruning end, 26 extra nodes, 0 pruned nodes, max_depth=6\n",
      "[19:55:48] INFO: /var/folders/sy/f16zz6x50xz3113nwtb9bvq00000gp/T/abs_44tbtwf8c1/croots/recipe/xgboost-split_1659548960882/work/src/gbm/gbtree.cc:904: drop 0 trees, weight = 1\n",
      "[19:55:48] INFO: /var/folders/sy/f16zz6x50xz3113nwtb9bvq00000gp/T/abs_44tbtwf8c1/croots/recipe/xgboost-split_1659548960882/work/src/tree/updater_prune.cc:101: tree pruning end, 12 extra nodes, 0 pruned nodes, max_depth=6\n",
      "[19:55:48] INFO: /var/folders/sy/f16zz6x50xz3113nwtb9bvq00000gp/T/abs_44tbtwf8c1/croots/recipe/xgboost-split_1659548960882/work/src/gbm/gbtree.cc:904: drop 0 trees, weight = 1\n",
      "[19:55:49] INFO: /var/folders/sy/f16zz6x50xz3113nwtb9bvq00000gp/T/abs_44tbtwf8c1/croots/recipe/xgboost-split_1659548960882/work/src/tree/updater_prune.cc:101: tree pruning end, 12 extra nodes, 0 pruned nodes, max_depth=6\n",
      "[19:55:49] INFO: /var/folders/sy/f16zz6x50xz3113nwtb9bvq00000gp/T/abs_44tbtwf8c1/croots/recipe/xgboost-split_1659548960882/work/src/gbm/gbtree.cc:904: drop 0 trees, weight = 1\n",
      "[19:55:49] INFO: /var/folders/sy/f16zz6x50xz3113nwtb9bvq00000gp/T/abs_44tbtwf8c1/croots/recipe/xgboost-split_1659548960882/work/src/tree/updater_prune.cc:101: tree pruning end, 14 extra nodes, 0 pruned nodes, max_depth=6\n",
      "[19:55:49] INFO: /var/folders/sy/f16zz6x50xz3113nwtb9bvq00000gp/T/abs_44tbtwf8c1/croots/recipe/xgboost-split_1659548960882/work/src/gbm/gbtree.cc:904: drop 0 trees, weight = 1\n",
      "[19:55:50] INFO: /var/folders/sy/f16zz6x50xz3113nwtb9bvq00000gp/T/abs_44tbtwf8c1/croots/recipe/xgboost-split_1659548960882/work/src/tree/updater_prune.cc:101: tree pruning end, 76 extra nodes, 0 pruned nodes, max_depth=6\n",
      "[19:55:50] INFO: /var/folders/sy/f16zz6x50xz3113nwtb9bvq00000gp/T/abs_44tbtwf8c1/croots/recipe/xgboost-split_1659548960882/work/src/gbm/gbtree.cc:904: drop 0 trees, weight = 1\n",
      "[19:55:50] INFO: /var/folders/sy/f16zz6x50xz3113nwtb9bvq00000gp/T/abs_44tbtwf8c1/croots/recipe/xgboost-split_1659548960882/work/src/tree/updater_prune.cc:101: tree pruning end, 60 extra nodes, 0 pruned nodes, max_depth=6\n",
      "[19:55:50] INFO: /var/folders/sy/f16zz6x50xz3113nwtb9bvq00000gp/T/abs_44tbtwf8c1/croots/recipe/xgboost-split_1659548960882/work/src/gbm/gbtree.cc:904: drop 0 trees, weight = 1\n",
      "[19:55:50] ======== Monitor (0): Learner ========\n",
      "[19:55:50] Configure: 0s, 1 calls @ 0us\n",
      "\n",
      "[19:55:50] EvalOneIter: 0.000526s, 100 calls @ 526us\n",
      "\n",
      "[19:55:50] GetGradient: 0.035573s, 100 calls @ 35573us\n",
      "\n",
      "[19:55:50] PredictRaw: 22.1577s, 100 calls @ 22157683us\n",
      "\n",
      "[19:55:50] UpdateOneIter: 24.8877s, 100 calls @ 24887701us\n",
      "\n",
      "[19:55:50] ======== Monitor (0): GBTree ========\n",
      "[19:55:50] BoostNewTrees: 2.70296s, 100 calls @ 2702958us\n",
      "\n",
      "[19:55:50] ======== Monitor (0): TreePruner ========\n",
      "[19:55:50] PrunerUpdate: 0.025632s, 100 calls @ 25632us\n",
      "\n"
     ]
    },
    {
     "data": {
      "text/plain": [
       "Pipeline(steps=[('coltran',\n",
       "                 ColumnTransformer(remainder='passthrough',\n",
       "                                   transformers=[('OHE', OneHotEncoder(),\n",
       "                                                  ['department', 'region',\n",
       "                                                   'education', 'is_male',\n",
       "                                                   'recruitment_channel']),\n",
       "                                                 ('Ordinal', OrdinalEncoder(),\n",
       "                                                  ['awards_won',\n",
       "                                                   'avg_training_score',\n",
       "                                                   'previous_year_rating',\n",
       "                                                   'length_of_service',\n",
       "                                                   'no_of_trainings'])])),\n",
       "                ('imblearn', SMOTE(random_state=42, sampling_str...\n",
       "                               importance_type=None, interaction_constraints='',\n",
       "                               learning_rate=0.1175, max_delta_step=0,\n",
       "                               max_depth=6, min_child_weight=1, missing=nan,\n",
       "                               monotone_constraints='()', n_estimators=100,\n",
       "                               n_jobs=4, num_parallel_tree=1, predictor='auto',\n",
       "                               random_state=42, reg_alpha=0.5, reg_lambda=0.5,\n",
       "                               scale_pos_weight=3.423105458399576, subsample=1,\n",
       "                               tree_method='approx', use_label_encoder=False,\n",
       "                               validate_parameters=1, verbosity=3))])"
      ]
     },
     "execution_count": 13,
     "metadata": {},
     "output_type": "execute_result"
    }
   ],
   "source": [
    "pipeline.fit(X_train, y_train)"
   ]
  },
  {
   "cell_type": "markdown",
   "id": "3cac0e65",
   "metadata": {},
   "source": [
    "#### Evaluation Results (for Each Iteration)"
   ]
  },
  {
   "cell_type": "code",
   "execution_count": 14,
   "id": "76a97fcb",
   "metadata": {},
   "outputs": [
    {
     "data": {
      "text/plain": [
       "array([0, 0, 0, ..., 1, 0, 0])"
      ]
     },
     "execution_count": 14,
     "metadata": {},
     "output_type": "execute_result"
    }
   ],
   "source": [
    "pipeline.predict(X_test)"
   ]
  },
  {
   "cell_type": "markdown",
   "id": "449cee39",
   "metadata": {},
   "source": [
    "#### Feature Importances'"
   ]
  },
  {
   "cell_type": "code",
   "execution_count": 15,
   "id": "2963f4e1",
   "metadata": {},
   "outputs": [
    {
     "data": {
      "text/plain": [
       "array([8.58348329e-03, 7.58963916e-03, 1.01388036e-03, 4.61219825e-05,\n",
       "       3.34457681e-02, 2.06251610e-02, 6.59293029e-03, 2.58189887e-02,\n",
       "       2.74783894e-02, 5.93592180e-03, 8.40826798e-03, 1.58877969e-02,\n",
       "       3.29732010e-03, 4.12000194e-02, 1.24182282e-02, 3.37543264e-02,\n",
       "       2.02629771e-02, 1.19080888e-02, 0.00000000e+00, 1.33289453e-02,\n",
       "       4.08745743e-02, 1.16613535e-02, 2.77783023e-03, 3.41806114e-02,\n",
       "       1.93647109e-02, 4.65204148e-03, 1.61072873e-02, 3.05579156e-02,\n",
       "       2.49397606e-02, 1.36389351e-02, 3.64524638e-03, 4.82989848e-03,\n",
       "       1.15249883e-02, 2.42351796e-02, 9.37281735e-03, 0.00000000e+00,\n",
       "       0.00000000e+00, 3.12661417e-02, 4.70526842e-03, 1.21245021e-02,\n",
       "       3.91258337e-02, 1.29467258e-02, 0.00000000e+00, 4.01821882e-02,\n",
       "       0.00000000e+00, 1.68646686e-02, 4.82366085e-02, 0.00000000e+00,\n",
       "       3.67584564e-02, 4.13920172e-03, 4.29982170e-02, 2.53031161e-02,\n",
       "       1.70322079e-02, 7.80518800e-02, 3.43271322e-03, 3.68727744e-02],\n",
       "      dtype=float32)"
      ]
     },
     "execution_count": 15,
     "metadata": {},
     "output_type": "execute_result"
    }
   ],
   "source": [
    "pipeline['xgb_classifier'].feature_importances_"
   ]
  },
  {
   "cell_type": "markdown",
   "id": "34f19159",
   "metadata": {},
   "source": [
    "#### All Parameters for Model"
   ]
  },
  {
   "cell_type": "code",
   "execution_count": 16,
   "id": "23b56863",
   "metadata": {},
   "outputs": [
    {
     "data": {
      "text/plain": [
       "{'objective': 'binary:logistic',\n",
       " 'use_label_encoder': False,\n",
       " 'base_score': 0.1,\n",
       " 'booster': 'dart',\n",
       " 'colsample_bylevel': 1,\n",
       " 'colsample_bynode': 1,\n",
       " 'colsample_bytree': 1,\n",
       " 'enable_categorical': False,\n",
       " 'gamma': 0,\n",
       " 'gpu_id': -1,\n",
       " 'importance_type': None,\n",
       " 'interaction_constraints': '',\n",
       " 'learning_rate': 0.1175,\n",
       " 'max_delta_step': 0,\n",
       " 'max_depth': 6,\n",
       " 'min_child_weight': 1,\n",
       " 'missing': nan,\n",
       " 'monotone_constraints': '()',\n",
       " 'n_estimators': 100,\n",
       " 'n_jobs': 4,\n",
       " 'num_parallel_tree': 1,\n",
       " 'predictor': 'auto',\n",
       " 'random_state': 42,\n",
       " 'reg_alpha': 0.5,\n",
       " 'reg_lambda': 0.5,\n",
       " 'scale_pos_weight': 3.423105458399576,\n",
       " 'subsample': 1,\n",
       " 'tree_method': 'approx',\n",
       " 'validate_parameters': 1,\n",
       " 'verbosity': 3,\n",
       " 'eval_metric': ['error', 'auc']}"
      ]
     },
     "execution_count": 16,
     "metadata": {},
     "output_type": "execute_result"
    }
   ],
   "source": [
    "pipeline['xgb_classifier'].get_params()"
   ]
  },
  {
   "cell_type": "markdown",
   "id": "a77030c4",
   "metadata": {},
   "source": [
    "#### Make Predictions"
   ]
  },
  {
   "cell_type": "code",
   "execution_count": 17,
   "id": "c69c645e",
   "metadata": {},
   "outputs": [],
   "source": [
    "y_pred = pipeline.predict(X_test)\n",
    "predictions = [round(value) for value in y_pred]"
   ]
  },
  {
   "cell_type": "markdown",
   "id": "7f2266f8",
   "metadata": {},
   "source": [
    "#### Classification Report"
   ]
  },
  {
   "cell_type": "code",
   "execution_count": 18,
   "id": "e0cc622c",
   "metadata": {},
   "outputs": [
    {
     "name": "stdout",
     "output_type": "stream",
     "text": [
      "              precision    recall  f1-score   support\n",
      "\n",
      "Not Promoted     0.9461    0.9472    0.9467      8075\n",
      "    Promoted     0.4510    0.4453    0.4481       786\n",
      "\n",
      "    accuracy                         0.9027      8861\n",
      "   macro avg     0.6986    0.6963    0.6974      8861\n",
      "weighted avg     0.9022    0.9027    0.9024      8861\n",
      "\n"
     ]
    }
   ],
   "source": [
    "target_names = ['Not Promoted', 'Promoted']\n",
    "print(classification_report(y_test, predictions, digits=4, target_names=target_names))"
   ]
  },
  {
   "cell_type": "markdown",
   "id": "eca363e8",
   "metadata": {},
   "source": [
    "#### Confusion Matrix"
   ]
  },
  {
   "cell_type": "code",
   "execution_count": 19,
   "id": "72e4878f",
   "metadata": {},
   "outputs": [
    {
     "data": {
      "image/png": "[encoded data removed]",
      "text/plain": [
       "<Figure size 432x288 with 2 Axes>"
      ]
     },
     "metadata": {
      "needs_background": "light"
     },
     "output_type": "display_data"
    }
   ],
   "source": [
    "cm = confusion_matrix(y_test, predictions, labels=[0, 1])\n",
    "\n",
    "ax = sns.heatmap(cm, annot=True, cmap='Blues', fmt='g')\n",
    "\n",
    "ax.set_title('Confusion Matrix');\n",
    "ax.set_xlabel('Predicted Values')\n",
    "ax.set_ylabel('Actual Values ');\n",
    "\n",
    "ax.xaxis.set_ticklabels(['False','True'])\n",
    "ax.yaxis.set_ticklabels(['False','True'])\n",
    "\n",
    "plt.show()"
   ]
  },
  {
   "cell_type": "markdown",
   "id": "c5c7805c",
   "metadata": {},
   "source": [
    "#### Print ROC AUC Score"
   ]
  },
  {
   "cell_type": "code",
   "execution_count": 20,
   "id": "98d1b132",
   "metadata": {},
   "outputs": [
    {
     "name": "stdout",
     "output_type": "stream",
     "text": [
      "The ROC AUC Score: 69.63\n"
     ]
    }
   ],
   "source": [
    "print(\"The ROC AUC Score: {}\".format(round(100*roc_auc_score(y_test, predictions),2)))"
   ]
  },
  {
   "cell_type": "markdown",
   "id": "32edd48b",
   "metadata": {},
   "source": [
    "#### Save Model"
   ]
  },
  {
   "cell_type": "code",
   "execution_count": 21,
   "id": "0edc0bc4",
   "metadata": {},
   "outputs": [],
   "source": [
    "model.save_model(\"~/Documents/XGBClassifier-HR Promotion-Imbalance_corrected.json\")"
   ]
  },
  {
   "cell_type": "markdown",
   "id": "ae7400b9",
   "metadata": {},
   "source": [
    "#### Generate Tree from Model"
   ]
  },
  {
   "cell_type": "code",
   "execution_count": 22,
   "id": "30bb5e65",
   "metadata": {},
   "outputs": [
    {
     "data": {
      "image/png": "[encoded data removed]",
      "text/plain": [
       "<Figure size 432x288 with 1 Axes>"
      ]
     },
     "metadata": {
      "needs_background": "light"
     },
     "output_type": "display_data"
    }
   ],
   "source": [
    "model_tree=plot_tree(pipeline['xgb_classifier'], \n",
    "          ratio=\"1\")\n",
    "\n",
    "plt.title('Promote Employee Or Not (XGBoost)')\n",
    "plt.show()"
   ]
  },
  {
   "cell_type": "markdown",
   "id": "32109594",
   "metadata": {},
   "source": [
    "#### Save Model Tree to File"
   ]
  },
  {
   "cell_type": "code",
   "execution_count": 23,
   "id": "5bf42e20",
   "metadata": {},
   "outputs": [
    {
     "data": {
      "text/plain": [
       "'/Users/briandunn/Desktop/Pictures/PromoteEmployeeOrNot-XGBoost.jpeg'"
      ]
     },
     "execution_count": 23,
     "metadata": {},
     "output_type": "execute_result"
    }
   ],
   "source": [
    "format = 'jpeg'\n",
    "\n",
    "image = xgb.to_graphviz(pipeline['xgb_classifier'])\n",
    "\n",
    "image.graph_attr = {'dpi':'400'}\n",
    "\n",
    "image.render('/Users/briandunn/Desktop/Pictures/PromoteEmployeeOrNot-XGBoost', format=format)"
   ]
  }
 ],
 "metadata": {
  "kernelspec": {
   "display_name": "Python 3 (ipykernel)",
   "language": "python",
   "name": "python3"
  },
  "language_info": {
   "codemirror_mode": {
    "name": "ipython",
    "version": 3
   },
   "file_extension": ".py",
   "mimetype": "text/x-python",
   "name": "python",
   "nbconvert_exporter": "python",
   "pygments_lexer": "ipython3",
   "version": "3.9.12"
  }
 },
 "nbformat": 4,
 "nbformat_minor": 5
}
