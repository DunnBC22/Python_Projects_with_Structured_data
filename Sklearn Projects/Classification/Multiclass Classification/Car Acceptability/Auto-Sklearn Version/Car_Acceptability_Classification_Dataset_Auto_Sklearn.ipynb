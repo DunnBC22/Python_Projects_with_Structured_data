{
  "cells": [
    {
      "attachments": {},
      "cell_type": "markdown",
      "metadata": {
        "id": "HOElvpdB9_IT"
      },
      "source": [
        "## Car Acceptability: Classification\n",
        "\n",
        "Dataset Source: https://www.kaggle.com/datasets/subhajeetdas/car-acceptability-classification-dataset"
      ]
    },
    {
      "attachments": {},
      "cell_type": "markdown",
      "metadata": {
        "id": "bMHdcQ7r9_IW"
      },
      "source": [
        "#### Install Auto-Sklearn"
      ]
    },
    {
      "cell_type": "code",
      "execution_count": 1,
      "metadata": {
        "colab": {
          "base_uri": "https://localhost:8080/"
        },
        "id": "Uph34JV_9_IX",
        "outputId": "1366b4c4-ade4-4c6c-cb65-61e43ebf9826"
      },
      "outputs": [
        {
          "name": "stdout",
          "output_type": "stream",
          "text": [
            "Looking in indexes: https://pypi.org/simple, https://us-python.pkg.dev/colab-wheels/public/simple/\n",
            "Requirement already satisfied: matplotlib in /usr/local/lib/python3.10/dist-packages (3.7.1)\n",
            "Requirement already satisfied: contourpy>=1.0.1 in /usr/local/lib/python3.10/dist-packages (from matplotlib) (1.0.7)\n",
            "Requirement already satisfied: cycler>=0.10 in /usr/local/lib/python3.10/dist-packages (from matplotlib) (0.11.0)\n",
            "Requirement already satisfied: fonttools>=4.22.0 in /usr/local/lib/python3.10/dist-packages (from matplotlib) (4.39.3)\n",
            "Requirement already satisfied: kiwisolver>=1.0.1 in /usr/local/lib/python3.10/dist-packages (from matplotlib) (1.4.4)\n",
            "Requirement already satisfied: numpy>=1.20 in /usr/local/lib/python3.10/dist-packages (from matplotlib) (1.24.3)\n",
            "Requirement already satisfied: packaging>=20.0 in /usr/local/lib/python3.10/dist-packages (from matplotlib) (23.1)\n",
            "Requirement already satisfied: pillow>=6.2.0 in /usr/local/lib/python3.10/dist-packages (from matplotlib) (8.4.0)\n",
            "Requirement already satisfied: pyparsing>=2.3.1 in /usr/local/lib/python3.10/dist-packages (from matplotlib) (3.0.9)\n",
            "Requirement already satisfied: python-dateutil>=2.7 in /usr/local/lib/python3.10/dist-packages (from matplotlib) (2.8.2)\n",
            "Requirement already satisfied: six>=1.5 in /usr/local/lib/python3.10/dist-packages (from python-dateutil>=2.7->matplotlib) (1.16.0)\n",
            "Looking in indexes: https://pypi.org/simple, https://us-python.pkg.dev/colab-wheels/public/simple/\n",
            "Requirement already satisfied: numpy in /usr/local/lib/python3.10/dist-packages (1.24.3)\n",
            "Looking in indexes: https://pypi.org/simple, https://us-python.pkg.dev/colab-wheels/public/simple/\n",
            "Requirement already satisfied: auto-sklearn in /usr/local/lib/python3.10/dist-packages (0.15.0)\n",
            "Requirement already satisfied: seaborn in /usr/local/lib/python3.10/dist-packages (0.12.2)\n",
            "Requirement already satisfied: sklearn in /usr/local/lib/python3.10/dist-packages (0.0.post5)\n",
            "Requirement already satisfied: imblearn in /usr/local/lib/python3.10/dist-packages (0.0)\n",
            "Requirement already satisfied: setuptools in /usr/local/lib/python3.10/dist-packages (from auto-sklearn) (67.7.2)\n",
            "Requirement already satisfied: typing-extensions in /usr/local/lib/python3.10/dist-packages (from auto-sklearn) (4.5.0)\n",
            "Requirement already satisfied: distro in /usr/local/lib/python3.10/dist-packages (from auto-sklearn) (1.8.0)\n",
            "Requirement already satisfied: numpy>=1.9.0 in /usr/local/lib/python3.10/dist-packages (from auto-sklearn) (1.24.3)\n",
            "Requirement already satisfied: scipy>=1.7.0 in /usr/local/lib/python3.10/dist-packages (from auto-sklearn) (1.10.1)\n",
            "Requirement already satisfied: joblib in /usr/local/lib/python3.10/dist-packages (from auto-sklearn) (1.2.0)\n",
            "Requirement already satisfied: scikit-learn<0.25.0,>=0.24.0 in /usr/local/lib/python3.10/dist-packages (from auto-sklearn) (0.24.2)\n",
            "Requirement already satisfied: dask>=2021.12 in /usr/local/lib/python3.10/dist-packages (from auto-sklearn) (2022.12.1)\n",
            "Requirement already satisfied: distributed>=2012.12 in /usr/local/lib/python3.10/dist-packages (from auto-sklearn) (2022.12.1)\n",
            "Requirement already satisfied: pyyaml in /usr/local/lib/python3.10/dist-packages (from auto-sklearn) (6.0)\n",
            "Requirement already satisfied: pandas>=1.0 in /usr/local/lib/python3.10/dist-packages (from auto-sklearn) (1.5.3)\n",
            "Requirement already satisfied: liac-arff in /usr/local/lib/python3.10/dist-packages (from auto-sklearn) (2.5.0)\n",
            "Requirement already satisfied: threadpoolctl in /usr/local/lib/python3.10/dist-packages (from auto-sklearn) (3.1.0)\n",
            "Requirement already satisfied: ConfigSpace<0.5,>=0.4.21 in /usr/local/lib/python3.10/dist-packages (from auto-sklearn) (0.4.21)\n",
            "Requirement already satisfied: pynisher<0.7,>=0.6.3 in /usr/local/lib/python3.10/dist-packages (from auto-sklearn) (0.6.4)\n",
            "Requirement already satisfied: pyrfr<0.9,>=0.8.1 in /usr/local/lib/python3.10/dist-packages (from auto-sklearn) (0.8.3)\n",
            "Requirement already satisfied: smac<1.3,>=1.2 in /usr/local/lib/python3.10/dist-packages (from auto-sklearn) (1.2)\n",
            "Requirement already satisfied: matplotlib!=3.6.1,>=3.1 in /usr/local/lib/python3.10/dist-packages (from seaborn) (3.7.1)\n",
            "Requirement already satisfied: imbalanced-learn in /usr/local/lib/python3.10/dist-packages (from imblearn) (0.8.1)\n",
            "Requirement already satisfied: cython in /usr/local/lib/python3.10/dist-packages (from ConfigSpace<0.5,>=0.4.21->auto-sklearn) (0.29.34)\n",
            "Requirement already satisfied: pyparsing in /usr/local/lib/python3.10/dist-packages (from ConfigSpace<0.5,>=0.4.21->auto-sklearn) (3.0.9)\n",
            "Requirement already satisfied: click>=7.0 in /usr/local/lib/python3.10/dist-packages (from dask>=2021.12->auto-sklearn) (8.1.3)\n",
            "Requirement already satisfied: cloudpickle>=1.1.1 in /usr/local/lib/python3.10/dist-packages (from dask>=2021.12->auto-sklearn) (2.2.1)\n",
            "Requirement already satisfied: fsspec>=0.6.0 in /usr/local/lib/python3.10/dist-packages (from dask>=2021.12->auto-sklearn) (2023.4.0)\n",
            "Requirement already satisfied: packaging>=20.0 in /usr/local/lib/python3.10/dist-packages (from dask>=2021.12->auto-sklearn) (23.1)\n",
            "Requirement already satisfied: partd>=0.3.10 in /usr/local/lib/python3.10/dist-packages (from dask>=2021.12->auto-sklearn) (1.4.0)\n",
            "Requirement already satisfied: toolz>=0.8.2 in /usr/local/lib/python3.10/dist-packages (from dask>=2021.12->auto-sklearn) (0.12.0)\n",
            "Requirement already satisfied: jinja2 in /usr/local/lib/python3.10/dist-packages (from distributed>=2012.12->auto-sklearn) (3.1.2)\n",
            "Requirement already satisfied: locket>=1.0.0 in /usr/local/lib/python3.10/dist-packages (from distributed>=2012.12->auto-sklearn) (1.0.0)\n",
            "Requirement already satisfied: msgpack>=0.6.0 in /usr/local/lib/python3.10/dist-packages (from distributed>=2012.12->auto-sklearn) (1.0.5)\n",
            "Requirement already satisfied: psutil>=5.0 in /usr/local/lib/python3.10/dist-packages (from distributed>=2012.12->auto-sklearn) (5.9.5)\n",
            "Requirement already satisfied: sortedcontainers!=2.0.0,!=2.0.1 in /usr/local/lib/python3.10/dist-packages (from distributed>=2012.12->auto-sklearn) (2.4.0)\n",
            "Requirement already satisfied: tblib>=1.6.0 in /usr/local/lib/python3.10/dist-packages (from distributed>=2012.12->auto-sklearn) (1.7.0)\n",
            "Requirement already satisfied: tornado>=6.0.3 in /usr/local/lib/python3.10/dist-packages (from distributed>=2012.12->auto-sklearn) (6.3.1)\n",
            "Requirement already satisfied: urllib3 in /usr/local/lib/python3.10/dist-packages (from distributed>=2012.12->auto-sklearn) (1.26.15)\n",
            "Requirement already satisfied: zict>=0.1.3 in /usr/local/lib/python3.10/dist-packages (from distributed>=2012.12->auto-sklearn) (3.0.0)\n",
            "Requirement already satisfied: contourpy>=1.0.1 in /usr/local/lib/python3.10/dist-packages (from matplotlib!=3.6.1,>=3.1->seaborn) (1.0.7)\n",
            "Requirement already satisfied: cycler>=0.10 in /usr/local/lib/python3.10/dist-packages (from matplotlib!=3.6.1,>=3.1->seaborn) (0.11.0)\n",
            "Requirement already satisfied: fonttools>=4.22.0 in /usr/local/lib/python3.10/dist-packages (from matplotlib!=3.6.1,>=3.1->seaborn) (4.39.3)\n",
            "Requirement already satisfied: kiwisolver>=1.0.1 in /usr/local/lib/python3.10/dist-packages (from matplotlib!=3.6.1,>=3.1->seaborn) (1.4.4)\n",
            "Requirement already satisfied: pillow>=6.2.0 in /usr/local/lib/python3.10/dist-packages (from matplotlib!=3.6.1,>=3.1->seaborn) (8.4.0)\n",
            "Requirement already satisfied: python-dateutil>=2.7 in /usr/local/lib/python3.10/dist-packages (from matplotlib!=3.6.1,>=3.1->seaborn) (2.8.2)\n",
            "Requirement already satisfied: pytz>=2020.1 in /usr/local/lib/python3.10/dist-packages (from pandas>=1.0->auto-sklearn) (2022.7.1)\n",
            "Requirement already satisfied: emcee>=3.0.0 in /usr/local/lib/python3.10/dist-packages (from smac<1.3,>=1.2->auto-sklearn) (3.1.4)\n",
            "Requirement already satisfied: six>=1.5 in /usr/local/lib/python3.10/dist-packages (from python-dateutil>=2.7->matplotlib!=3.6.1,>=3.1->seaborn) (1.16.0)\n",
            "Requirement already satisfied: MarkupSafe>=2.0 in /usr/local/lib/python3.10/dist-packages (from jinja2->distributed>=2012.12->auto-sklearn) (2.1.2)\n"
          ]
        }
      ],
      "source": [
        "%pip install -U matplotlib\n",
        "%pip install -U numpy\n",
        "%pip install auto-sklearn seaborn sklearn imblearn"
      ]
    },
    {
      "attachments": {},
      "cell_type": "markdown",
      "metadata": {
        "id": "SOWfvC3w9_IZ"
      },
      "source": [
        "#### Import Necessary Libraries"
      ]
    },
    {
      "cell_type": "code",
      "execution_count": 2,
      "metadata": {
        "id": "cPi9LyWF9_IZ"
      },
      "outputs": [],
      "source": [
        "import os, sys\n",
        "\n",
        "import numpy as np\n",
        "import pandas as pd\n",
        "\n",
        "import matplotlib.pyplot as plt\n",
        "import seaborn as sns\n",
        "\n",
        "import sklearn\n",
        "from sklearn.model_selection import cross_val_predict\n",
        "from sklearn.pipeline import Pipeline\n",
        "from sklearn.compose import ColumnTransformer\n",
        "\n",
        "from sklearn.model_selection import train_test_split\n",
        "\n",
        "from sklearn.preprocessing import OrdinalEncoder, OneHotEncoder\n",
        "from sklearn.preprocessing import MinMaxScaler, StandardScaler\n",
        "\n",
        "from sklearn.metrics import classification_report\n",
        "from sklearn.metrics import confusion_matrix, ConfusionMatrixDisplay\n",
        "\n",
        "import autosklearn\n",
        "from autosklearn.classification import AutoSklearnClassifier as ASC\n",
        "\n",
        "import imblearn\n",
        "from imblearn.pipeline import Pipeline\n",
        "from imblearn.over_sampling import SMOTE"
      ]
    },
    {
      "attachments": {},
      "cell_type": "markdown",
      "metadata": {
        "id": "vVGlTESn9_Ia"
      },
      "source": [
        "#### Show Library Versions"
      ]
    },
    {
      "cell_type": "code",
      "execution_count": 3,
      "metadata": {
        "colab": {
          "base_uri": "https://localhost:8080/"
        },
        "id": "5eVJdDyH9_Ia",
        "outputId": "ae4a6b8d-b939-4f4f-ef4d-c8ffa344177c"
      },
      "outputs": [
        {
          "name": "stdout",
          "output_type": "stream",
          "text": [
            "Language/Library | Version\n",
            "---------------- | --------\n",
            "          Python : 3.10.1\n",
            "           NumPy : 1.24.3\n",
            "          Pandas : 1.5.3\n",
            "         Sklearn : 0.24.2\n",
            "        Imblearn : 0.8.1\n",
            "         Seaborn : 0.12.2\n",
            "    Auto-Sklearn : 0.15.0\n"
          ]
        }
      ],
      "source": [
        "n = 18\n",
        "\n",
        "print(f\"Language/Library\".rjust(n-2), '|', 'Version')\n",
        "print('-' * (n-2), '|', '--------')\n",
        "print(\"Python :\".rjust(n), sys.version[0:6])\n",
        "print(\"NumPy :\".rjust(n), np.__version__)\n",
        "print(\"Pandas :\".rjust(n), pd.__version__)\n",
        "print(\"Sklearn :\".rjust(n), sklearn.__version__)\n",
        "print(\"Imblearn :\".rjust(n), imblearn.__version__)\n",
        "print(\"Seaborn :\".rjust(n), sns.__version__)\n",
        "print(\"Auto-Sklearn :\".rjust(n), autosklearn.__version__)"
      ]
    },
    {
      "attachments": {},
      "cell_type": "markdown",
      "metadata": {
        "id": "-2Jsz0j0-7b-"
      },
      "source": [
        "#### Mount Google Drive"
      ]
    },
    {
      "cell_type": "code",
      "execution_count": 4,
      "metadata": {
        "colab": {
          "base_uri": "https://localhost:8080/"
        },
        "id": "Jcz8V6DQ-7Vg",
        "outputId": "7a6162dc-9b38-4c5e-b4f0-ce3828cabee5"
      },
      "outputs": [
        {
          "name": "stdout",
          "output_type": "stream",
          "text": [
            "Drive already mounted at /content/drive; to attempt to forcibly remount, call drive.mount(\"/content/drive\", force_remount=True).\n"
          ]
        }
      ],
      "source": [
        "from google.colab import drive\n",
        "drive.mount('/content/drive')"
      ]
    },
    {
      "attachments": {},
      "cell_type": "markdown",
      "metadata": {
        "id": "Sv9tWWgN9_Ib"
      },
      "source": [
        "### Initial Data Preprocessing"
      ]
    },
    {
      "attachments": {},
      "cell_type": "markdown",
      "metadata": {
        "id": "8M7WBzPv9_Ib"
      },
      "source": [
        "#### Ingest Dataset"
      ]
    },
    {
      "cell_type": "code",
      "execution_count": 5,
      "metadata": {
        "colab": {
          "base_uri": "https://localhost:8080/",
          "height": 206
        },
        "id": "-qlCHUgZ9_Ic",
        "outputId": "29279ed3-a463-4960-87e5-ba55f076ed94"
      },
      "outputs": [
        {
          "data": {
            "text/html": [
              "\n",
              "  <div id=\"df-e82e2c81-e7dd-4cb8-9869-33829aab0b8d\">\n",
              "    <div class=\"colab-df-container\">\n",
              "      <div>\n",
              "<style scoped>\n",
              "    .dataframe tbody tr th:only-of-type {\n",
              "        vertical-align: middle;\n",
              "    }\n",
              "\n",
              "    .dataframe tbody tr th {\n",
              "        vertical-align: top;\n",
              "    }\n",
              "\n",
              "    .dataframe thead th {\n",
              "        text-align: right;\n",
              "    }\n",
              "</style>\n",
              "<table border=\"1\" class=\"dataframe\">\n",
              "  <thead>\n",
              "    <tr style=\"text-align: right;\">\n",
              "      <th></th>\n",
              "      <th>purchase_price</th>\n",
              "      <th>maintenance_price</th>\n",
              "      <th>num_of_doors</th>\n",
              "      <th>seating_capacity</th>\n",
              "      <th>luggage_space</th>\n",
              "      <th>safety</th>\n",
              "      <th>label</th>\n",
              "    </tr>\n",
              "  </thead>\n",
              "  <tbody>\n",
              "    <tr>\n",
              "      <th>0</th>\n",
              "      <td>vhigh</td>\n",
              "      <td>vhigh</td>\n",
              "      <td>2</td>\n",
              "      <td>2</td>\n",
              "      <td>small</td>\n",
              "      <td>low</td>\n",
              "      <td>unacc</td>\n",
              "    </tr>\n",
              "    <tr>\n",
              "      <th>1</th>\n",
              "      <td>vhigh</td>\n",
              "      <td>vhigh</td>\n",
              "      <td>2</td>\n",
              "      <td>2</td>\n",
              "      <td>small</td>\n",
              "      <td>med</td>\n",
              "      <td>unacc</td>\n",
              "    </tr>\n",
              "    <tr>\n",
              "      <th>2</th>\n",
              "      <td>vhigh</td>\n",
              "      <td>vhigh</td>\n",
              "      <td>2</td>\n",
              "      <td>2</td>\n",
              "      <td>small</td>\n",
              "      <td>high</td>\n",
              "      <td>unacc</td>\n",
              "    </tr>\n",
              "    <tr>\n",
              "      <th>3</th>\n",
              "      <td>vhigh</td>\n",
              "      <td>vhigh</td>\n",
              "      <td>2</td>\n",
              "      <td>2</td>\n",
              "      <td>med</td>\n",
              "      <td>low</td>\n",
              "      <td>unacc</td>\n",
              "    </tr>\n",
              "    <tr>\n",
              "      <th>4</th>\n",
              "      <td>vhigh</td>\n",
              "      <td>vhigh</td>\n",
              "      <td>2</td>\n",
              "      <td>2</td>\n",
              "      <td>med</td>\n",
              "      <td>med</td>\n",
              "      <td>unacc</td>\n",
              "    </tr>\n",
              "  </tbody>\n",
              "</table>\n",
              "</div>\n",
              "      <button class=\"colab-df-convert\" onclick=\"convertToInteractive('df-e82e2c81-e7dd-4cb8-9869-33829aab0b8d')\"\n",
              "              title=\"Convert this dataframe to an interactive table.\"\n",
              "              style=\"display:none;\">\n",
              "        \n",
              "  <svg xmlns=\"http://www.w3.org/2000/svg\" height=\"24px\"viewBox=\"0 0 24 24\"\n",
              "       width=\"24px\">\n",
              "    <path d=\"M0 0h24v24H0V0z\" fill=\"none\"/>\n",
              "    <path d=\"M18.56 5.44l.94 2.06.94-2.06 2.06-.94-2.06-.94-.94-2.06-.94 2.06-2.06.94zm-11 1L8.5 8.5l.94-2.06 2.06-.94-2.06-.94L8.5 2.5l-.94 2.06-2.06.94zm10 10l.94 2.06.94-2.06 2.06-.94-2.06-.94-.94-2.06-.94 2.06-2.06.94z\"/><path d=\"M17.41 7.96l-1.37-1.37c-.4-.4-.92-.59-1.43-.59-.52 0-1.04.2-1.43.59L10.3 9.45l-7.72 7.72c-.78.78-.78 2.05 0 2.83L4 21.41c.39.39.9.59 1.41.59.51 0 1.02-.2 1.41-.59l7.78-7.78 2.81-2.81c.8-.78.8-2.07 0-2.86zM5.41 20L4 18.59l7.72-7.72 1.47 1.35L5.41 20z\"/>\n",
              "  </svg>\n",
              "      </button>\n",
              "      \n",
              "  <style>\n",
              "    .colab-df-container {\n",
              "      display:flex;\n",
              "      flex-wrap:wrap;\n",
              "      gap: 12px;\n",
              "    }\n",
              "\n",
              "    .colab-df-convert {\n",
              "      background-color: #E8F0FE;\n",
              "      border: none;\n",
              "      border-radius: 50%;\n",
              "      cursor: pointer;\n",
              "      display: none;\n",
              "      fill: #1967D2;\n",
              "      height: 32px;\n",
              "      padding: 0 0 0 0;\n",
              "      width: 32px;\n",
              "    }\n",
              "\n",
              "    .colab-df-convert:hover {\n",
              "      background-color: #E2EBFA;\n",
              "      box-shadow: 0px 1px 2px rgba(60, 64, 67, 0.3), 0px 1px 3px 1px rgba(60, 64, 67, 0.15);\n",
              "      fill: #174EA6;\n",
              "    }\n",
              "\n",
              "    [theme=dark] .colab-df-convert {\n",
              "      background-color: #3B4455;\n",
              "      fill: #D2E3FC;\n",
              "    }\n",
              "\n",
              "    [theme=dark] .colab-df-convert:hover {\n",
              "      background-color: #434B5C;\n",
              "      box-shadow: 0px 1px 3px 1px rgba(0, 0, 0, 0.15);\n",
              "      filter: drop-shadow(0px 1px 2px rgba(0, 0, 0, 0.3));\n",
              "      fill: #FFFFFF;\n",
              "    }\n",
              "  </style>\n",
              "\n",
              "      <script>\n",
              "        const buttonEl =\n",
              "          document.querySelector('#df-e82e2c81-e7dd-4cb8-9869-33829aab0b8d button.colab-df-convert');\n",
              "        buttonEl.style.display =\n",
              "          google.colab.kernel.accessAllowed ? 'block' : 'none';\n",
              "\n",
              "        async function convertToInteractive(key) {\n",
              "          const element = document.querySelector('#df-e82e2c81-e7dd-4cb8-9869-33829aab0b8d');\n",
              "          const dataTable =\n",
              "            await google.colab.kernel.invokeFunction('convertToInteractive',\n",
              "                                                     [key], {});\n",
              "          if (!dataTable) return;\n",
              "\n",
              "          const docLinkHtml = 'Like what you see? Visit the ' +\n",
              "            '<a target=\"_blank\" href=https://colab.research.google.com/notebooks/data_table.ipynb>data table notebook</a>'\n",
              "            + ' to learn more about interactive tables.';\n",
              "          element.innerHTML = '';\n",
              "          dataTable['output_type'] = 'display_data';\n",
              "          await google.colab.output.renderOutput(dataTable, element);\n",
              "          const docLink = document.createElement('div');\n",
              "          docLink.innerHTML = docLinkHtml;\n",
              "          element.appendChild(docLink);\n",
              "        }\n",
              "      </script>\n",
              "    </div>\n",
              "  </div>\n",
              "  "
            ],
            "text/plain": [
              "  purchase_price maintenance_price num_of_doors seating_capacity  \\\n",
              "0          vhigh             vhigh            2                2   \n",
              "1          vhigh             vhigh            2                2   \n",
              "2          vhigh             vhigh            2                2   \n",
              "3          vhigh             vhigh            2                2   \n",
              "4          vhigh             vhigh            2                2   \n",
              "\n",
              "  luggage_space safety  label  \n",
              "0         small    low  unacc  \n",
              "1         small    med  unacc  \n",
              "2         small   high  unacc  \n",
              "3           med    low  unacc  \n",
              "4           med    med  unacc  "
            ]
          },
          "execution_count": 5,
          "metadata": {},
          "output_type": "execute_result"
        }
      ],
      "source": [
        "col_names = [\"purchase_price\",\n",
        "             \"maintenance_price\",\n",
        "             \"num_of_doors\",\n",
        "             \"seating_capacity\",\n",
        "             \"luggage_space\",\n",
        "             \"safety\",\n",
        "             \"label\"\n",
        "             ]\n",
        "\n",
        "dtypes = {\"purchase_price\": str,\n",
        "          \"maintenance_price\": str,\n",
        "          \"num_of_doors\": str,\n",
        "          \"seating_capacity\": str,\n",
        "          \"luggage_space\": str,\n",
        "          \"safety\": str,\n",
        "          \"label\": str\n",
        "              }\n",
        "\n",
        "data = pd.read_csv(\"/content/drive/MyDrive/Projects with Structured Data/car.csv\",\n",
        "                   names=col_names,\n",
        "                   dtype=dtypes,\n",
        "                   engine='c',\n",
        "                   header=0)\n",
        "\n",
        "data.head()"
      ]
    },
    {
      "attachments": {},
      "cell_type": "markdown",
      "metadata": {
        "id": "TwAQJ5PA9_Ic"
      },
      "source": [
        "#### More Dataset Information"
      ]
    },
    {
      "cell_type": "code",
      "execution_count": 6,
      "metadata": {
        "colab": {
          "base_uri": "https://localhost:8080/"
        },
        "id": "xFzn3X9i9_Ic",
        "outputId": "d5883c00-f58a-4a50-eb4c-9d7eee2a2766"
      },
      "outputs": [
        {
          "name": "stdout",
          "output_type": "stream",
          "text": [
            "<class 'pandas.core.frame.DataFrame'>\n",
            "RangeIndex: 1728 entries, 0 to 1727\n",
            "Data columns (total 7 columns):\n",
            " #   Column             Non-Null Count  Dtype \n",
            "---  ------             --------------  ----- \n",
            " 0   purchase_price     1728 non-null   object\n",
            " 1   maintenance_price  1728 non-null   object\n",
            " 2   num_of_doors       1728 non-null   object\n",
            " 3   seating_capacity   1728 non-null   object\n",
            " 4   luggage_space      1728 non-null   object\n",
            " 5   safety             1728 non-null   object\n",
            " 6   label              1728 non-null   object\n",
            "dtypes: object(7)\n",
            "memory usage: 94.6+ KB\n"
          ]
        }
      ],
      "source": [
        "data.info()"
      ]
    },
    {
      "attachments": {},
      "cell_type": "markdown",
      "metadata": {
        "id": "nFqLiEeD9_Ic"
      },
      "source": [
        "### Visualizations"
      ]
    },
    {
      "attachments": {},
      "cell_type": "markdown",
      "metadata": {
        "id": "8r-su4lA9_Ic"
      },
      "source": [
        "#### Create Function to Visualize Features (Barplot)"
      ]
    },
    {
      "cell_type": "code",
      "execution_count": 7,
      "metadata": {
        "id": "jZLpJX5L9_Ic"
      },
      "outputs": [],
      "source": [
        "def barplot_visual(feature_to_visualize: pd.Series,\n",
        "                   plot_title: str,\n",
        "                   x_label: str,\n",
        "                   y_label: str = \"# of Samples\",\n",
        "                   ):\n",
        "    \"\"\"\n",
        "    This function returns a histogram for a feature.\n",
        "\n",
        "    Inputs:\n",
        "    - feature_to_visualize: Feature to plot in the form\n",
        "    of pandas Series.\n",
        "    - plot_title: The title of the plot/visual.\n",
        "    - x_label: The string label value for the x label.\n",
        "    - y_label: The string label value for the y label.\n",
        "\n",
        "    Output:\n",
        "    - A Bar Plot.\n",
        "    \"\"\"\n",
        "\n",
        "    assert type(feature_to_visualize) == pd.Series, \\\n",
        "        \"Make sure the dataset input type is a Pandas Series.\"\n",
        "    assert type(plot_title) != 'str', \\\n",
        "        \"The title value must be a string value.\"\n",
        "    assert type(x_label) !=  'str', \\\n",
        "        \"The x label value must be a string value.\"\n",
        "    assert type(y_label) != 'str', \\\n",
        "        \"The y label value must be a string value.\"\n",
        "\n",
        "    ax = feature_to_visualize.value_counts().plot.bar(\n",
        "                                                      figsize=(12,8),\n",
        "                                                      rot=0,\n",
        "                                                      legend=False,\n",
        "                                                      color=[\"lightgreen\",\n",
        "                                                             \"blue\",\n",
        "                                                             \"brown\",\n",
        "                                                             \"lightblue\",\n",
        "                                                             \"tan\",\n",
        "                                                             \"yellow\",\n",
        "                                                             \"orange\",\n",
        "                                                             \"green\",\n",
        "                                                             \"red\",\n",
        "                                                             \"purple\"]\n",
        "                                                      )\n",
        "\n",
        "    ax.bar_label(ax.containers[0])\n",
        "\n",
        "    plt.suptitle('')\n",
        "    plt.title(plot_title)\n",
        "    plt.ylabel(y_label)\n",
        "    plt.xlabel(x_label)\n",
        "\n",
        "    plt.show()"
      ]
    },
    {
      "attachments": {},
      "cell_type": "markdown",
      "metadata": {
        "id": "R5K9Iskd9_Id"
      },
      "source": [
        "#### Dataset Visualization: Purchase Price"
      ]
    },
    {
      "cell_type": "code",
      "execution_count": 8,
      "metadata": {
        "colab": {
          "base_uri": "https://localhost:8080/",
          "height": 652
        },
        "id": "-zPebnC29_If",
        "outputId": "bb2aa0bd-e42d-4618-b275-e498d5a83d7a"
      },
      "outputs": [
        {
          "data": {
            "image/png": "[encoded data removed]",
            "text/plain": [
              "<Figure size 1200x800 with 1 Axes>"
            ]
          },
          "metadata": {},
          "output_type": "display_data"
        }
      ],
      "source": [
        "barplot_visual(data[\"purchase_price\"],\n",
        "               \"Distribution of Purchase Price Categories\",\n",
        "               \"Purchase Price Categories\",\n",
        "               \"# of Samples\",\n",
        "               )"
      ]
    },
    {
      "attachments": {},
      "cell_type": "markdown",
      "metadata": {
        "id": "ZlM0UDK19_If"
      },
      "source": [
        "#### Dataset Visualization: Maintenance Price"
      ]
    },
    {
      "cell_type": "code",
      "execution_count": 9,
      "metadata": {
        "colab": {
          "base_uri": "https://localhost:8080/",
          "height": 652
        },
        "id": "bcFde-PW9_If",
        "outputId": "205f37d6-0d09-44e0-9230-4f0a18ebf6d3"
      },
      "outputs": [
        {
          "data": {
            "image/png": "[encoded data removed]",
            "text/plain": [
              "<Figure size 1200x800 with 1 Axes>"
            ]
          },
          "metadata": {},
          "output_type": "display_data"
        }
      ],
      "source": [
        "barplot_visual(data[\"maintenance_price\"],\n",
        "               \"Distribution of Maintenance Categories\",\n",
        "               \"Maintenance Level\",\n",
        "               \"# of Samples\",\n",
        "               )"
      ]
    },
    {
      "attachments": {},
      "cell_type": "markdown",
      "metadata": {
        "id": "_h8qTJMm9_If"
      },
      "source": [
        "#### Dataset Visualization: Number of Car Doors"
      ]
    },
    {
      "cell_type": "code",
      "execution_count": 10,
      "metadata": {
        "colab": {
          "base_uri": "https://localhost:8080/",
          "height": 652
        },
        "id": "axuxmgtn9_If",
        "outputId": "78012bca-69b7-45c7-a0fa-26c442f87d1f"
      },
      "outputs": [
        {
          "data": {
            "image/png": "[encoded data removed]",
            "text/plain": [
              "<Figure size 1200x800 with 1 Axes>"
            ]
          },
          "metadata": {},
          "output_type": "display_data"
        }
      ],
      "source": [
        "barplot_visual(data[\"num_of_doors\"],\n",
        "               \"Distribution of Number of Car Doors\",\n",
        "               \"Number of Car Doors\",\n",
        "               \"# of Samples\",\n",
        "               )"
      ]
    },
    {
      "attachments": {},
      "cell_type": "markdown",
      "metadata": {
        "id": "NkUl71Mc9_Ig"
      },
      "source": [
        "#### Dataset Visualization: Seating Capacity"
      ]
    },
    {
      "cell_type": "code",
      "execution_count": 11,
      "metadata": {
        "colab": {
          "base_uri": "https://localhost:8080/",
          "height": 652
        },
        "id": "BS-GLLqm9_Ig",
        "outputId": "e3534fa7-4bb6-4a4f-9ed8-e37942ea50b3"
      },
      "outputs": [
        {
          "data": {
            "image/png": "[encoded data removed]",
            "text/plain": [
              "<Figure size 1200x800 with 1 Axes>"
            ]
          },
          "metadata": {},
          "output_type": "display_data"
        }
      ],
      "source": [
        "barplot_visual(data[\"seating_capacity\"],\n",
        "               \"Distribution of Seating Capacity\",\n",
        "               \"Seating Capacity\",\n",
        "               \"# of Samples\",\n",
        "               )"
      ]
    },
    {
      "attachments": {},
      "cell_type": "markdown",
      "metadata": {
        "id": "9_xPAD9T9_Ig"
      },
      "source": [
        "#### Dataset Visualization: Luggage Space"
      ]
    },
    {
      "cell_type": "code",
      "execution_count": 12,
      "metadata": {
        "colab": {
          "base_uri": "https://localhost:8080/",
          "height": 652
        },
        "id": "JcsXpBeb9_Ig",
        "outputId": "f6a4887d-7093-45db-ddc7-66e141a08a89"
      },
      "outputs": [
        {
          "data": {
            "image/png": "[encoded data removed]",
            "text/plain": [
              "<Figure size 1200x800 with 1 Axes>"
            ]
          },
          "metadata": {},
          "output_type": "display_data"
        }
      ],
      "source": [
        "barplot_visual(data[\"luggage_space\"],\n",
        "               \"Distribution of Luggage Space\",\n",
        "               \"Luggage Space\",\n",
        "               \"# of Samples\",\n",
        "               )"
      ]
    },
    {
      "attachments": {},
      "cell_type": "markdown",
      "metadata": {
        "id": "5ycYesK29_Ig"
      },
      "source": [
        "#### Dataset Visualization: Safety Level"
      ]
    },
    {
      "cell_type": "code",
      "execution_count": 13,
      "metadata": {
        "colab": {
          "base_uri": "https://localhost:8080/",
          "height": 652
        },
        "id": "PytAts8a9_Ig",
        "outputId": "27cd5afe-10e2-4bbc-eb8f-97b94ec8a9d3"
      },
      "outputs": [
        {
          "data": {
            "image/png": "[encoded data removed]",
            "text/plain": [
              "<Figure size 1200x800 with 1 Axes>"
            ]
          },
          "metadata": {},
          "output_type": "display_data"
        }
      ],
      "source": [
        "barplot_visual(data[\"safety\"],\n",
        "               \"Distribution of Safety Level\",\n",
        "               \"Safety Level\",\n",
        "               \"# of Samples\",\n",
        "               )"
      ]
    },
    {
      "attachments": {},
      "cell_type": "markdown",
      "metadata": {
        "id": "s5T72eNa9_Ih"
      },
      "source": [
        "#### Dataset Visualization: Class Distribution (Car Acceptability)"
      ]
    },
    {
      "cell_type": "code",
      "execution_count": 14,
      "metadata": {
        "colab": {
          "base_uri": "https://localhost:8080/",
          "height": 647
        },
        "id": "ZBPtbE839_Ih",
        "outputId": "a66f47f7-e232-4d94-bd60-94c32d88ec09"
      },
      "outputs": [
        {
          "data": {
            "image/png": "[encoded data removed]",
            "text/plain": [
              "<Figure size 1200x800 with 1 Axes>"
            ]
          },
          "metadata": {},
          "output_type": "display_data"
        }
      ],
      "source": [
        "barplot_visual(data[\"label\"],\n",
        "               \"Distribution of Car Acceptability\",\n",
        "               \"Car Acceptability Category\",\n",
        "               \"# of Samples\",\n",
        "               )"
      ]
    },
    {
      "attachments": {},
      "cell_type": "markdown",
      "metadata": {
        "id": "c0KBU5Dg9_Ih"
      },
      "source": [
        "#### Convert String Values to Integers for Correlation Matrix"
      ]
    },
    {
      "cell_type": "code",
      "execution_count": 15,
      "metadata": {
        "colab": {
          "base_uri": "https://localhost:8080/",
          "height": 424
        },
        "id": "IqVvCjS19_Ih",
        "outputId": "04d03462-1eb3-4864-b326-ccb5e8363bbe"
      },
      "outputs": [
        {
          "data": {
            "text/html": [
              "\n",
              "  <div id=\"df-bfb550b8-398c-41d8-8715-ef24b334d45d\">\n",
              "    <div class=\"colab-df-container\">\n",
              "      <div>\n",
              "<style scoped>\n",
              "    .dataframe tbody tr th:only-of-type {\n",
              "        vertical-align: middle;\n",
              "    }\n",
              "\n",
              "    .dataframe tbody tr th {\n",
              "        vertical-align: top;\n",
              "    }\n",
              "\n",
              "    .dataframe thead th {\n",
              "        text-align: right;\n",
              "    }\n",
              "</style>\n",
              "<table border=\"1\" class=\"dataframe\">\n",
              "  <thead>\n",
              "    <tr style=\"text-align: right;\">\n",
              "      <th></th>\n",
              "      <th>purchase_price</th>\n",
              "      <th>maintenance_price</th>\n",
              "      <th>luggage_space</th>\n",
              "      <th>safety</th>\n",
              "      <th>label</th>\n",
              "      <th>num_of_doors</th>\n",
              "      <th>seating_capacity</th>\n",
              "    </tr>\n",
              "  </thead>\n",
              "  <tbody>\n",
              "    <tr>\n",
              "      <th>0</th>\n",
              "      <td>3</td>\n",
              "      <td>3</td>\n",
              "      <td>0</td>\n",
              "      <td>0</td>\n",
              "      <td>0</td>\n",
              "      <td>2</td>\n",
              "      <td>2</td>\n",
              "    </tr>\n",
              "    <tr>\n",
              "      <th>1</th>\n",
              "      <td>3</td>\n",
              "      <td>3</td>\n",
              "      <td>0</td>\n",
              "      <td>1</td>\n",
              "      <td>0</td>\n",
              "      <td>2</td>\n",
              "      <td>2</td>\n",
              "    </tr>\n",
              "    <tr>\n",
              "      <th>2</th>\n",
              "      <td>3</td>\n",
              "      <td>3</td>\n",
              "      <td>0</td>\n",
              "      <td>2</td>\n",
              "      <td>0</td>\n",
              "      <td>2</td>\n",
              "      <td>2</td>\n",
              "    </tr>\n",
              "    <tr>\n",
              "      <th>3</th>\n",
              "      <td>3</td>\n",
              "      <td>3</td>\n",
              "      <td>1</td>\n",
              "      <td>0</td>\n",
              "      <td>0</td>\n",
              "      <td>2</td>\n",
              "      <td>2</td>\n",
              "    </tr>\n",
              "    <tr>\n",
              "      <th>4</th>\n",
              "      <td>3</td>\n",
              "      <td>3</td>\n",
              "      <td>1</td>\n",
              "      <td>1</td>\n",
              "      <td>0</td>\n",
              "      <td>2</td>\n",
              "      <td>2</td>\n",
              "    </tr>\n",
              "    <tr>\n",
              "      <th>...</th>\n",
              "      <td>...</td>\n",
              "      <td>...</td>\n",
              "      <td>...</td>\n",
              "      <td>...</td>\n",
              "      <td>...</td>\n",
              "      <td>...</td>\n",
              "      <td>...</td>\n",
              "    </tr>\n",
              "    <tr>\n",
              "      <th>1723</th>\n",
              "      <td>0</td>\n",
              "      <td>0</td>\n",
              "      <td>1</td>\n",
              "      <td>1</td>\n",
              "      <td>2</td>\n",
              "      <td>5</td>\n",
              "      <td>5</td>\n",
              "    </tr>\n",
              "    <tr>\n",
              "      <th>1724</th>\n",
              "      <td>0</td>\n",
              "      <td>0</td>\n",
              "      <td>1</td>\n",
              "      <td>2</td>\n",
              "      <td>3</td>\n",
              "      <td>5</td>\n",
              "      <td>5</td>\n",
              "    </tr>\n",
              "    <tr>\n",
              "      <th>1725</th>\n",
              "      <td>0</td>\n",
              "      <td>0</td>\n",
              "      <td>2</td>\n",
              "      <td>0</td>\n",
              "      <td>0</td>\n",
              "      <td>5</td>\n",
              "      <td>5</td>\n",
              "    </tr>\n",
              "    <tr>\n",
              "      <th>1726</th>\n",
              "      <td>0</td>\n",
              "      <td>0</td>\n",
              "      <td>2</td>\n",
              "      <td>1</td>\n",
              "      <td>2</td>\n",
              "      <td>5</td>\n",
              "      <td>5</td>\n",
              "    </tr>\n",
              "    <tr>\n",
              "      <th>1727</th>\n",
              "      <td>0</td>\n",
              "      <td>0</td>\n",
              "      <td>2</td>\n",
              "      <td>2</td>\n",
              "      <td>3</td>\n",
              "      <td>5</td>\n",
              "      <td>5</td>\n",
              "    </tr>\n",
              "  </tbody>\n",
              "</table>\n",
              "<p>1728 rows × 7 columns</p>\n",
              "</div>\n",
              "      <button class=\"colab-df-convert\" onclick=\"convertToInteractive('df-bfb550b8-398c-41d8-8715-ef24b334d45d')\"\n",
              "              title=\"Convert this dataframe to an interactive table.\"\n",
              "              style=\"display:none;\">\n",
              "        \n",
              "  <svg xmlns=\"http://www.w3.org/2000/svg\" height=\"24px\"viewBox=\"0 0 24 24\"\n",
              "       width=\"24px\">\n",
              "    <path d=\"M0 0h24v24H0V0z\" fill=\"none\"/>\n",
              "    <path d=\"M18.56 5.44l.94 2.06.94-2.06 2.06-.94-2.06-.94-.94-2.06-.94 2.06-2.06.94zm-11 1L8.5 8.5l.94-2.06 2.06-.94-2.06-.94L8.5 2.5l-.94 2.06-2.06.94zm10 10l.94 2.06.94-2.06 2.06-.94-2.06-.94-.94-2.06-.94 2.06-2.06.94z\"/><path d=\"M17.41 7.96l-1.37-1.37c-.4-.4-.92-.59-1.43-.59-.52 0-1.04.2-1.43.59L10.3 9.45l-7.72 7.72c-.78.78-.78 2.05 0 2.83L4 21.41c.39.39.9.59 1.41.59.51 0 1.02-.2 1.41-.59l7.78-7.78 2.81-2.81c.8-.78.8-2.07 0-2.86zM5.41 20L4 18.59l7.72-7.72 1.47 1.35L5.41 20z\"/>\n",
              "  </svg>\n",
              "      </button>\n",
              "      \n",
              "  <style>\n",
              "    .colab-df-container {\n",
              "      display:flex;\n",
              "      flex-wrap:wrap;\n",
              "      gap: 12px;\n",
              "    }\n",
              "\n",
              "    .colab-df-convert {\n",
              "      background-color: #E8F0FE;\n",
              "      border: none;\n",
              "      border-radius: 50%;\n",
              "      cursor: pointer;\n",
              "      display: none;\n",
              "      fill: #1967D2;\n",
              "      height: 32px;\n",
              "      padding: 0 0 0 0;\n",
              "      width: 32px;\n",
              "    }\n",
              "\n",
              "    .colab-df-convert:hover {\n",
              "      background-color: #E2EBFA;\n",
              "      box-shadow: 0px 1px 2px rgba(60, 64, 67, 0.3), 0px 1px 3px 1px rgba(60, 64, 67, 0.15);\n",
              "      fill: #174EA6;\n",
              "    }\n",
              "\n",
              "    [theme=dark] .colab-df-convert {\n",
              "      background-color: #3B4455;\n",
              "      fill: #D2E3FC;\n",
              "    }\n",
              "\n",
              "    [theme=dark] .colab-df-convert:hover {\n",
              "      background-color: #434B5C;\n",
              "      box-shadow: 0px 1px 3px 1px rgba(0, 0, 0, 0.15);\n",
              "      filter: drop-shadow(0px 1px 2px rgba(0, 0, 0, 0.3));\n",
              "      fill: #FFFFFF;\n",
              "    }\n",
              "  </style>\n",
              "\n",
              "      <script>\n",
              "        const buttonEl =\n",
              "          document.querySelector('#df-bfb550b8-398c-41d8-8715-ef24b334d45d button.colab-df-convert');\n",
              "        buttonEl.style.display =\n",
              "          google.colab.kernel.accessAllowed ? 'block' : 'none';\n",
              "\n",
              "        async function convertToInteractive(key) {\n",
              "          const element = document.querySelector('#df-bfb550b8-398c-41d8-8715-ef24b334d45d');\n",
              "          const dataTable =\n",
              "            await google.colab.kernel.invokeFunction('convertToInteractive',\n",
              "                                                     [key], {});\n",
              "          if (!dataTable) return;\n",
              "\n",
              "          const docLinkHtml = 'Like what you see? Visit the ' +\n",
              "            '<a target=\"_blank\" href=https://colab.research.google.com/notebooks/data_table.ipynb>data table notebook</a>'\n",
              "            + ' to learn more about interactive tables.';\n",
              "          element.innerHTML = '';\n",
              "          dataTable['output_type'] = 'display_data';\n",
              "          await google.colab.output.renderOutput(dataTable, element);\n",
              "          const docLink = document.createElement('div');\n",
              "          docLink.innerHTML = docLinkHtml;\n",
              "          element.appendChild(docLink);\n",
              "        }\n",
              "      </script>\n",
              "    </div>\n",
              "  </div>\n",
              "  "
            ],
            "text/plain": [
              "      purchase_price  maintenance_price  luggage_space  safety  label  \\\n",
              "0                  3                  3              0       0      0   \n",
              "1                  3                  3              0       1      0   \n",
              "2                  3                  3              0       2      0   \n",
              "3                  3                  3              1       0      0   \n",
              "4                  3                  3              1       1      0   \n",
              "...              ...                ...            ...     ...    ...   \n",
              "1723               0                  0              1       1      2   \n",
              "1724               0                  0              1       2      3   \n",
              "1725               0                  0              2       0      0   \n",
              "1726               0                  0              2       1      2   \n",
              "1727               0                  0              2       2      3   \n",
              "\n",
              "      num_of_doors  seating_capacity  \n",
              "0                2                 2  \n",
              "1                2                 2  \n",
              "2                2                 2  \n",
              "3                2                 2  \n",
              "4                2                 2  \n",
              "...            ...               ...  \n",
              "1723             5                 5  \n",
              "1724             5                 5  \n",
              "1725             5                 5  \n",
              "1726             5                 5  \n",
              "1727             5                 5  \n",
              "\n",
              "[1728 rows x 7 columns]"
            ]
          },
          "execution_count": 15,
          "metadata": {},
          "output_type": "execute_result"
        }
      ],
      "source": [
        "#luggage_space, safety, label\n",
        "\n",
        "purchase_price_converter = {\"low\": 0,\n",
        "                            \"med\": 1,\n",
        "                            \"high\": 2,\n",
        "                            \"vhigh\": 3}\n",
        "\n",
        "maintenance_price_converter = {\"low\": 0,\n",
        "                            \"med\": 1,\n",
        "                            \"high\": 2,\n",
        "                            \"vhigh\": 3}\n",
        "\n",
        "luggage_space_converter = {\"small\": 0,\n",
        "                           \"med\": 1,\n",
        "                           \"big\": 2}\n",
        "\n",
        "safety_converter = {\"low\": 0,\n",
        "                    \"med\": 1,\n",
        "                    \"high\": 2}\n",
        "\n",
        "label_converter = {\"unacc\": 0,\n",
        "                   \"acc\": 1,\n",
        "                   \"good\": 2,\n",
        "                   \"vgood\": 3}\n",
        "\n",
        "corr_data = pd.DataFrame()\n",
        "\n",
        "corr_data['purchase_price'] = data['purchase_price']\\\n",
        "    .replace(purchase_price_converter)\\\n",
        "    .astype(np.int8)\n",
        "corr_data['maintenance_price'] = data['maintenance_price']\\\n",
        "    .replace(maintenance_price_converter)\\\n",
        "    .astype(np.int8)\n",
        "corr_data['luggage_space'] = data['luggage_space']\\\n",
        "    .replace(luggage_space_converter)\\\n",
        "    .astype(np.int8)\n",
        "corr_data['safety'] = data['safety']\\\n",
        "    .replace(safety_converter)\\\n",
        "    .astype(np.int8)\n",
        "corr_data['label'] = data['label']\\\n",
        "    .replace(label_converter)\\\n",
        "    .astype(np.int8)\n",
        "\n",
        "# Just change the \"5more\" to 5 & convert\n",
        "# to integer for 'num_of_doors'\n",
        "corr_data['num_of_doors'] = data['num_of_doors']\\\n",
        "    .replace({\"5more\": 5})\\\n",
        "    .astype(np.int8)\n",
        "\n",
        "# for seating_capacity, just change 'more' to 5\n",
        "# & convert to integer\n",
        "corr_data['seating_capacity'] = data['seating_capacity']\\\n",
        "    .replace({\"more\": 5})\\\n",
        "    .astype(np.int8)\n",
        "\n",
        "corr_data"
      ]
    },
    {
      "attachments": {},
      "cell_type": "markdown",
      "metadata": {
        "id": "QbxeqsRK9_Ih"
      },
      "source": [
        "#### Correlation Matrix"
      ]
    },
    {
      "cell_type": "code",
      "execution_count": 16,
      "metadata": {
        "colab": {
          "base_uri": "https://localhost:8080/",
          "height": 640
        },
        "id": "TwbKWo3G9_Ih",
        "outputId": "368408dd-58c2-4d2c-e246-6a5dca5d2266"
      },
      "outputs": [
        {
          "data": {
            "image/png": "[encoded data removed]",
            "text/plain": [
              "<Figure size 600x600 with 1 Axes>"
            ]
          },
          "metadata": {},
          "output_type": "display_data"
        }
      ],
      "source": [
        "plt.figure(figsize=(6, 6))\n",
        "\n",
        "lower_triangle = np.triu(corr_data.corr())\n",
        "\n",
        "corr_matrix = sns.heatmap(corr_data.corr(),\n",
        "                          annot=True,\n",
        "                          cmap=sns.color_palette(\"PiYG\", 8),\n",
        "                          mask=lower_triangle,\n",
        "                          square=True,\n",
        "                          linewidths=0.25,\n",
        "                          cbar=False,\n",
        "                          annot_kws={\"size\":9})\n",
        "\n",
        "corr_matrix.set_title(\"Correlation Heatmap of Features\",\n",
        "                      pad=10)\n",
        "\n",
        "corr_matrix.set_xticklabels(corr_matrix.get_xticklabels(),\n",
        "                            rotation=45)\n",
        "plt.show()"
      ]
    },
    {
      "attachments": {},
      "cell_type": "markdown",
      "metadata": {
        "id": "7Nfgfp6A9_Ih"
      },
      "source": [
        "#### Convert Label Values From String to Integer"
      ]
    },
    {
      "cell_type": "code",
      "execution_count": 17,
      "metadata": {
        "id": "d0dDnW2_9_Ih"
      },
      "outputs": [],
      "source": [
        "label_converter = {\"unacc\": 0,\n",
        "                   \"acc\": 1,\n",
        "                   \"good\": 2,\n",
        "                   \"vgood\": 3}\n",
        "\n",
        "data['label'] = data['label']\\\n",
        "    .replace(label_converter)\\\n",
        "    .astype(np.int8)"
      ]
    },
    {
      "attachments": {},
      "cell_type": "markdown",
      "metadata": {
        "id": "keDj7Kq19_Ih"
      },
      "source": [
        "### Exploratory Data Analysis & Preprocessing"
      ]
    },
    {
      "attachments": {},
      "cell_type": "markdown",
      "metadata": {
        "id": "CqX5cW629_Ih"
      },
      "source": [
        "#### Descriptive Statistics"
      ]
    },
    {
      "cell_type": "code",
      "execution_count": 18,
      "metadata": {
        "colab": {
          "base_uri": "https://localhost:8080/",
          "height": 564
        },
        "id": "8jLhIvc69_Ii",
        "outputId": "7ce6ba7d-2d42-4c17-8006-65400509a07c"
      },
      "outputs": [
        {
          "data": {
            "text/html": [
              "\n",
              "  <div id=\"df-19375331-f3c2-46cd-9a19-d1f85d516276\">\n",
              "    <div class=\"colab-df-container\">\n",
              "      <div>\n",
              "<style scoped>\n",
              "    .dataframe tbody tr th:only-of-type {\n",
              "        vertical-align: middle;\n",
              "    }\n",
              "\n",
              "    .dataframe tbody tr th {\n",
              "        vertical-align: top;\n",
              "    }\n",
              "\n",
              "    .dataframe thead th {\n",
              "        text-align: right;\n",
              "    }\n",
              "</style>\n",
              "<table border=\"1\" class=\"dataframe\">\n",
              "  <thead>\n",
              "    <tr style=\"text-align: right;\">\n",
              "      <th></th>\n",
              "      <th>purchase_price</th>\n",
              "      <th>maintenance_price</th>\n",
              "      <th>num_of_doors</th>\n",
              "      <th>seating_capacity</th>\n",
              "      <th>luggage_space</th>\n",
              "      <th>safety</th>\n",
              "      <th>label</th>\n",
              "    </tr>\n",
              "  </thead>\n",
              "  <tbody>\n",
              "    <tr>\n",
              "      <th>count</th>\n",
              "      <td>1728</td>\n",
              "      <td>1728</td>\n",
              "      <td>1728</td>\n",
              "      <td>1728</td>\n",
              "      <td>1728</td>\n",
              "      <td>1728</td>\n",
              "      <td>1728.000000</td>\n",
              "    </tr>\n",
              "    <tr>\n",
              "      <th>unique</th>\n",
              "      <td>4</td>\n",
              "      <td>4</td>\n",
              "      <td>4</td>\n",
              "      <td>3</td>\n",
              "      <td>3</td>\n",
              "      <td>3</td>\n",
              "      <td>NaN</td>\n",
              "    </tr>\n",
              "    <tr>\n",
              "      <th>top</th>\n",
              "      <td>vhigh</td>\n",
              "      <td>vhigh</td>\n",
              "      <td>2</td>\n",
              "      <td>2</td>\n",
              "      <td>small</td>\n",
              "      <td>low</td>\n",
              "      <td>NaN</td>\n",
              "    </tr>\n",
              "    <tr>\n",
              "      <th>freq</th>\n",
              "      <td>432</td>\n",
              "      <td>432</td>\n",
              "      <td>432</td>\n",
              "      <td>576</td>\n",
              "      <td>576</td>\n",
              "      <td>576</td>\n",
              "      <td>NaN</td>\n",
              "    </tr>\n",
              "    <tr>\n",
              "      <th>mean</th>\n",
              "      <td>NaN</td>\n",
              "      <td>NaN</td>\n",
              "      <td>NaN</td>\n",
              "      <td>NaN</td>\n",
              "      <td>NaN</td>\n",
              "      <td>NaN</td>\n",
              "      <td>0.414931</td>\n",
              "    </tr>\n",
              "    <tr>\n",
              "      <th>std</th>\n",
              "      <td>NaN</td>\n",
              "      <td>NaN</td>\n",
              "      <td>NaN</td>\n",
              "      <td>NaN</td>\n",
              "      <td>NaN</td>\n",
              "      <td>NaN</td>\n",
              "      <td>0.740700</td>\n",
              "    </tr>\n",
              "    <tr>\n",
              "      <th>min</th>\n",
              "      <td>NaN</td>\n",
              "      <td>NaN</td>\n",
              "      <td>NaN</td>\n",
              "      <td>NaN</td>\n",
              "      <td>NaN</td>\n",
              "      <td>NaN</td>\n",
              "      <td>0.000000</td>\n",
              "    </tr>\n",
              "    <tr>\n",
              "      <th>1%</th>\n",
              "      <td>NaN</td>\n",
              "      <td>NaN</td>\n",
              "      <td>NaN</td>\n",
              "      <td>NaN</td>\n",
              "      <td>NaN</td>\n",
              "      <td>NaN</td>\n",
              "      <td>0.000000</td>\n",
              "    </tr>\n",
              "    <tr>\n",
              "      <th>10%</th>\n",
              "      <td>NaN</td>\n",
              "      <td>NaN</td>\n",
              "      <td>NaN</td>\n",
              "      <td>NaN</td>\n",
              "      <td>NaN</td>\n",
              "      <td>NaN</td>\n",
              "      <td>0.000000</td>\n",
              "    </tr>\n",
              "    <tr>\n",
              "      <th>25%</th>\n",
              "      <td>NaN</td>\n",
              "      <td>NaN</td>\n",
              "      <td>NaN</td>\n",
              "      <td>NaN</td>\n",
              "      <td>NaN</td>\n",
              "      <td>NaN</td>\n",
              "      <td>0.000000</td>\n",
              "    </tr>\n",
              "    <tr>\n",
              "      <th>50%</th>\n",
              "      <td>NaN</td>\n",
              "      <td>NaN</td>\n",
              "      <td>NaN</td>\n",
              "      <td>NaN</td>\n",
              "      <td>NaN</td>\n",
              "      <td>NaN</td>\n",
              "      <td>0.000000</td>\n",
              "    </tr>\n",
              "    <tr>\n",
              "      <th>75%</th>\n",
              "      <td>NaN</td>\n",
              "      <td>NaN</td>\n",
              "      <td>NaN</td>\n",
              "      <td>NaN</td>\n",
              "      <td>NaN</td>\n",
              "      <td>NaN</td>\n",
              "      <td>1.000000</td>\n",
              "    </tr>\n",
              "    <tr>\n",
              "      <th>90%</th>\n",
              "      <td>NaN</td>\n",
              "      <td>NaN</td>\n",
              "      <td>NaN</td>\n",
              "      <td>NaN</td>\n",
              "      <td>NaN</td>\n",
              "      <td>NaN</td>\n",
              "      <td>1.000000</td>\n",
              "    </tr>\n",
              "    <tr>\n",
              "      <th>99%</th>\n",
              "      <td>NaN</td>\n",
              "      <td>NaN</td>\n",
              "      <td>NaN</td>\n",
              "      <td>NaN</td>\n",
              "      <td>NaN</td>\n",
              "      <td>NaN</td>\n",
              "      <td>3.000000</td>\n",
              "    </tr>\n",
              "    <tr>\n",
              "      <th>max</th>\n",
              "      <td>NaN</td>\n",
              "      <td>NaN</td>\n",
              "      <td>NaN</td>\n",
              "      <td>NaN</td>\n",
              "      <td>NaN</td>\n",
              "      <td>NaN</td>\n",
              "      <td>3.000000</td>\n",
              "    </tr>\n",
              "  </tbody>\n",
              "</table>\n",
              "</div>\n",
              "      <button class=\"colab-df-convert\" onclick=\"convertToInteractive('df-19375331-f3c2-46cd-9a19-d1f85d516276')\"\n",
              "              title=\"Convert this dataframe to an interactive table.\"\n",
              "              style=\"display:none;\">\n",
              "        \n",
              "  <svg xmlns=\"http://www.w3.org/2000/svg\" height=\"24px\"viewBox=\"0 0 24 24\"\n",
              "       width=\"24px\">\n",
              "    <path d=\"M0 0h24v24H0V0z\" fill=\"none\"/>\n",
              "    <path d=\"M18.56 5.44l.94 2.06.94-2.06 2.06-.94-2.06-.94-.94-2.06-.94 2.06-2.06.94zm-11 1L8.5 8.5l.94-2.06 2.06-.94-2.06-.94L8.5 2.5l-.94 2.06-2.06.94zm10 10l.94 2.06.94-2.06 2.06-.94-2.06-.94-.94-2.06-.94 2.06-2.06.94z\"/><path d=\"M17.41 7.96l-1.37-1.37c-.4-.4-.92-.59-1.43-.59-.52 0-1.04.2-1.43.59L10.3 9.45l-7.72 7.72c-.78.78-.78 2.05 0 2.83L4 21.41c.39.39.9.59 1.41.59.51 0 1.02-.2 1.41-.59l7.78-7.78 2.81-2.81c.8-.78.8-2.07 0-2.86zM5.41 20L4 18.59l7.72-7.72 1.47 1.35L5.41 20z\"/>\n",
              "  </svg>\n",
              "      </button>\n",
              "      \n",
              "  <style>\n",
              "    .colab-df-container {\n",
              "      display:flex;\n",
              "      flex-wrap:wrap;\n",
              "      gap: 12px;\n",
              "    }\n",
              "\n",
              "    .colab-df-convert {\n",
              "      background-color: #E8F0FE;\n",
              "      border: none;\n",
              "      border-radius: 50%;\n",
              "      cursor: pointer;\n",
              "      display: none;\n",
              "      fill: #1967D2;\n",
              "      height: 32px;\n",
              "      padding: 0 0 0 0;\n",
              "      width: 32px;\n",
              "    }\n",
              "\n",
              "    .colab-df-convert:hover {\n",
              "      background-color: #E2EBFA;\n",
              "      box-shadow: 0px 1px 2px rgba(60, 64, 67, 0.3), 0px 1px 3px 1px rgba(60, 64, 67, 0.15);\n",
              "      fill: #174EA6;\n",
              "    }\n",
              "\n",
              "    [theme=dark] .colab-df-convert {\n",
              "      background-color: #3B4455;\n",
              "      fill: #D2E3FC;\n",
              "    }\n",
              "\n",
              "    [theme=dark] .colab-df-convert:hover {\n",
              "      background-color: #434B5C;\n",
              "      box-shadow: 0px 1px 3px 1px rgba(0, 0, 0, 0.15);\n",
              "      filter: drop-shadow(0px 1px 2px rgba(0, 0, 0, 0.3));\n",
              "      fill: #FFFFFF;\n",
              "    }\n",
              "  </style>\n",
              "\n",
              "      <script>\n",
              "        const buttonEl =\n",
              "          document.querySelector('#df-19375331-f3c2-46cd-9a19-d1f85d516276 button.colab-df-convert');\n",
              "        buttonEl.style.display =\n",
              "          google.colab.kernel.accessAllowed ? 'block' : 'none';\n",
              "\n",
              "        async function convertToInteractive(key) {\n",
              "          const element = document.querySelector('#df-19375331-f3c2-46cd-9a19-d1f85d516276');\n",
              "          const dataTable =\n",
              "            await google.colab.kernel.invokeFunction('convertToInteractive',\n",
              "                                                     [key], {});\n",
              "          if (!dataTable) return;\n",
              "\n",
              "          const docLinkHtml = 'Like what you see? Visit the ' +\n",
              "            '<a target=\"_blank\" href=https://colab.research.google.com/notebooks/data_table.ipynb>data table notebook</a>'\n",
              "            + ' to learn more about interactive tables.';\n",
              "          element.innerHTML = '';\n",
              "          dataTable['output_type'] = 'display_data';\n",
              "          await google.colab.output.renderOutput(dataTable, element);\n",
              "          const docLink = document.createElement('div');\n",
              "          docLink.innerHTML = docLinkHtml;\n",
              "          element.appendChild(docLink);\n",
              "        }\n",
              "      </script>\n",
              "    </div>\n",
              "  </div>\n",
              "  "
            ],
            "text/plain": [
              "       purchase_price maintenance_price num_of_doors seating_capacity  \\\n",
              "count            1728              1728         1728             1728   \n",
              "unique              4                 4            4                3   \n",
              "top             vhigh             vhigh            2                2   \n",
              "freq              432               432          432              576   \n",
              "mean              NaN               NaN          NaN              NaN   \n",
              "std               NaN               NaN          NaN              NaN   \n",
              "min               NaN               NaN          NaN              NaN   \n",
              "1%                NaN               NaN          NaN              NaN   \n",
              "10%               NaN               NaN          NaN              NaN   \n",
              "25%               NaN               NaN          NaN              NaN   \n",
              "50%               NaN               NaN          NaN              NaN   \n",
              "75%               NaN               NaN          NaN              NaN   \n",
              "90%               NaN               NaN          NaN              NaN   \n",
              "99%               NaN               NaN          NaN              NaN   \n",
              "max               NaN               NaN          NaN              NaN   \n",
              "\n",
              "       luggage_space safety        label  \n",
              "count           1728   1728  1728.000000  \n",
              "unique             3      3          NaN  \n",
              "top            small    low          NaN  \n",
              "freq             576    576          NaN  \n",
              "mean             NaN    NaN     0.414931  \n",
              "std              NaN    NaN     0.740700  \n",
              "min              NaN    NaN     0.000000  \n",
              "1%               NaN    NaN     0.000000  \n",
              "10%              NaN    NaN     0.000000  \n",
              "25%              NaN    NaN     0.000000  \n",
              "50%              NaN    NaN     0.000000  \n",
              "75%              NaN    NaN     1.000000  \n",
              "90%              NaN    NaN     1.000000  \n",
              "99%              NaN    NaN     3.000000  \n",
              "max              NaN    NaN     3.000000  "
            ]
          },
          "execution_count": 18,
          "metadata": {},
          "output_type": "execute_result"
        }
      ],
      "source": [
        "data.describe(percentiles=[0.01, 0.10, 0.25, 0.50, 0.75, 0.90, 0.99], include='all')"
      ]
    },
    {
      "attachments": {},
      "cell_type": "markdown",
      "metadata": {
        "id": "isPNqhIi9_Ii"
      },
      "source": [
        "### Prepare Shared Pipeline Data & Stages/Steps"
      ]
    },
    {
      "attachments": {},
      "cell_type": "markdown",
      "metadata": {
        "id": "ubsLi4zv9_It"
      },
      "source": [
        "#### Split Dataset into Training & Testing Datasets"
      ]
    },
    {
      "cell_type": "code",
      "execution_count": 19,
      "metadata": {
        "colab": {
          "base_uri": "https://localhost:8080/"
        },
        "id": "mMhoL0zG9_It",
        "outputId": "3233e3b4-eaff-4a12-c347-ffa2c1ae36a9"
      },
      "outputs": [
        {
          "name": "stdout",
          "output_type": "stream",
          "text": [
            "Training Input Dataset Shape: (1296, 6)\n",
            "Training Output Dataset Shape: (1296,)\n",
            "Evaluation Input Dataset Shape: (432, 6)\n",
            "Evaluation Output Dataset Shape: (432,)\n"
          ]
        }
      ],
      "source": [
        "y = data['label']\n",
        "X = data.drop(columns=['label'], axis=1)\n",
        "\n",
        "X_train, X_test, y_train, y_test = train_test_split(X, y, random_state=42)\n",
        "\n",
        "print(f\"Training Input Dataset Shape: {X_train.shape}\")\n",
        "print(f\"Training Output Dataset Shape: {y_train.shape}\")\n",
        "\n",
        "print(f\"Evaluation Input Dataset Shape: {X_test.shape}\")\n",
        "print(f\"Evaluation Output Dataset Shape: {y_test.shape}\")"
      ]
    },
    {
      "attachments": {},
      "cell_type": "markdown",
      "metadata": {
        "id": "G4sT0aXU9_Iu"
      },
      "source": [
        "#### Define Column Lists for Transformers (Pipeline Stages) & Transform to Integer Values"
      ]
    },
    {
      "cell_type": "code",
      "execution_count": 20,
      "metadata": {
        "id": "qOPFFlLd9_Iu"
      },
      "outputs": [],
      "source": [
        "ord_features = [\"safety\"]\n",
        "\n",
        "nom_features = [x for x in data.columns.unique() if (x != \"label\" and x not in ord_features)]\n",
        "\n",
        "label_class = ['label']"
      ]
    },
    {
      "attachments": {},
      "cell_type": "markdown",
      "metadata": {
        "id": "MzpAmAtK9_Iu"
      },
      "source": [
        "#### Create Column Transformer"
      ]
    },
    {
      "cell_type": "code",
      "execution_count": 21,
      "metadata": {
        "id": "PMBrf1am9_Iu"
      },
      "outputs": [],
      "source": [
        "encoder_col_transformer = ColumnTransformer(\n",
        "    [\n",
        "        (\n",
        "            'ord_encoder',\n",
        "            OrdinalEncoder(handle_unknown='use_encoded_value',\n",
        "                           unknown_value=-1,\n",
        "                           dtype=np.float64),\n",
        "            ord_features\n",
        "            ),\n",
        "        (\n",
        "            'ohe',\n",
        "            OneHotEncoder(handle_unknown='ignore',\n",
        "                          dtype=np.float64),\n",
        "            nom_features\n",
        "        )\n",
        "    ],\n",
        "    remainder='passthrough')"
      ]
    },
    {
      "attachments": {},
      "cell_type": "markdown",
      "metadata": {
        "id": "NTtXHfNR9_Iu"
      },
      "source": [
        "#### Metrics Evaluation Method"
      ]
    },
    {
      "cell_type": "code",
      "execution_count": 22,
      "metadata": {
        "id": "WlFoQdEf9_Iu"
      },
      "outputs": [],
      "source": [
        "def metrics_evaluation(classifier_type,\n",
        "                       y_test,\n",
        "                       y_pred_cv):\n",
        "\n",
        "\n",
        "    print(\"+-------------------------------------------------------------------------+\")\n",
        "    print(\"|  \" + (\"Confusion Matrix for \" + classifier_type).center(69) + \"  |\")\n",
        "    print(\"+-------------------------------------------------------------------------+\")\n",
        "\n",
        "    cm = confusion_matrix(y_test,\n",
        "                          y_pred_cv)\n",
        "\n",
        "    display_cm = ConfusionMatrixDisplay(cm,\n",
        "                                        display_labels=[\n",
        "                                            \"Unacceptable\",\n",
        "                                            \"Acceptable\",\n",
        "                                            \"Good\",\n",
        "                                            \"Very Good\"\n",
        "                                            ]\n",
        "                                        )\n",
        "\n",
        "    display_cm.plot()\n",
        "    plt.show()\n",
        "\n",
        "    print(\"+-----------------------------------------------------+\")\n",
        "    print(\"|  \" + (\"Classification Report for \" + classifier_type).center(49) + \"  |\")\n",
        "    print(\"+-----------------------------------------------------+\")\n",
        "\n",
        "    print(classification_report(y_test,\n",
        "                                y_pred_cv,\n",
        "                                zero_division=0,\n",
        "                                target_names=[\n",
        "                                    \"Unacceptable\",\n",
        "                                    \"Acceptable\",\n",
        "                                    \"Good\",\n",
        "                                    \"Very Good\"\n",
        "                                    ]\n",
        "                                )\n",
        "          )"
      ]
    },
    {
      "attachments": {},
      "cell_type": "markdown",
      "metadata": {
        "id": "OWV6W73I9_Iu"
      },
      "source": [
        "### Auto-Sklearn"
      ]
    },
    {
      "attachments": {},
      "cell_type": "markdown",
      "metadata": {
        "id": "aQO8LmWD9_Iu"
      },
      "source": [
        "#### Define Pipeline"
      ]
    },
    {
      "cell_type": "code",
      "execution_count": 23,
      "metadata": {
        "id": "hHvvZS0V9_Iu"
      },
      "outputs": [],
      "source": [
        "def auto_sklearn_classifier():\n",
        "    \"\"\"\n",
        "    This function finds optimal\n",
        "    classifier and parameters.\n",
        "    \"\"\"\n",
        "    auto_sklearn_pipe = Pipeline(\n",
        "        [\n",
        "            (\n",
        "                'encoder_column_transformer',\n",
        "                encoder_col_transformer\n",
        "            ),\n",
        "            (\n",
        "                'smote',\n",
        "                SMOTE(random_state=42,\n",
        "                      sampling_strategy='all')\n",
        "            ),\n",
        "            (\n",
        "                \"scaler\",\n",
        "                StandardScaler()\n",
        "            ),\n",
        "            (\n",
        "                'auto_sklearn_clf',\n",
        "                ASC()\n",
        "             ),\n",
        "        ]\n",
        "    )\n",
        "\n",
        "    return auto_sklearn_pipe"
      ]
    },
    {
      "attachments": {},
      "cell_type": "markdown",
      "metadata": {
        "id": "A5Jic8-B9_Iv"
      },
      "source": [
        "#### Define Model"
      ]
    },
    {
      "cell_type": "code",
      "execution_count": 24,
      "metadata": {
        "colab": {
          "base_uri": "https://localhost:8080/"
        },
        "id": "LAmpcyY49_Iv",
        "outputId": "cb5821a5-54f4-40a1-8a3d-a8fc838448de"
      },
      "outputs": [
        {
          "data": {
            "text/plain": [
              "{'encoder_column_transformer': ColumnTransformer(remainder='passthrough',\n",
              "                   transformers=[('ord_encoder',\n",
              "                                  OrdinalEncoder(handle_unknown='use_encoded_value',\n",
              "                                                 unknown_value=-1),\n",
              "                                  ['safety']),\n",
              "                                 ('ohe', OneHotEncoder(handle_unknown='ignore'),\n",
              "                                  ['purchase_price', 'maintenance_price',\n",
              "                                   'num_of_doors', 'seating_capacity',\n",
              "                                   'luggage_space'])]),\n",
              " 'smote': SMOTE(random_state=42, sampling_strategy='all'),\n",
              " 'scaler': StandardScaler(),\n",
              " 'random_forest': AutoSklearnClassifier(ensemble_class=<class 'autosklearn.ensembles.ensemble_selection.EnsembleSelection'>)}"
            ]
          },
          "execution_count": 24,
          "metadata": {},
          "output_type": "execute_result"
        }
      ],
      "source": [
        "auto_sklearn_clf = auto_sklearn_classifier()\n",
        "\n",
        "auto_sklearn_clf.named_steps"
      ]
    },
    {
      "attachments": {},
      "cell_type": "markdown",
      "metadata": {
        "id": "BZ9Af3Sc9_Iv"
      },
      "source": [
        "#### Fit Dataset to Auto-Sklearn Classifier"
      ]
    },
    {
      "cell_type": "code",
      "execution_count": 25,
      "metadata": {
        "id": "kPBLOiUX9_Iv"
      },
      "outputs": [],
      "source": [
        "auto_sklearn_clf_model = auto_sklearn_clf.fit(X_train, y_train)"
      ]
    },
    {
      "attachments": {},
      "cell_type": "markdown",
      "metadata": {
        "id": "z8oMZ6pyNXUl"
      },
      "source": [
        "#### Generate Predictions"
      ]
    },
    {
      "cell_type": "code",
      "execution_count": 27,
      "metadata": {
        "id": "mYymTX4ONXLg"
      },
      "outputs": [],
      "source": [
        "predictions = auto_sklearn_clf_model.predict(X_test)"
      ]
    },
    {
      "attachments": {},
      "cell_type": "markdown",
      "metadata": {
        "id": "0M2d0cQZ9_Iv"
      },
      "source": [
        "#### Metrics Evaluation"
      ]
    },
    {
      "cell_type": "code",
      "execution_count": 28,
      "metadata": {
        "colab": {
          "base_uri": "https://localhost:8080/",
          "height": 744
        },
        "id": "wshcx5pC9_Iv",
        "outputId": "589acf66-25c0-4e5f-9f0b-f1982ee8cc67"
      },
      "outputs": [
        {
          "name": "stdout",
          "output_type": "stream",
          "text": [
            "+-------------------------------------------------------------------------+\n",
            "|           Confusion Matrix for Auto-Sklearn Library Classifier          |\n",
            "+-------------------------------------------------------------------------+\n"
          ]
        },
        {
          "data": {
            "image/png": "[encoded data removed]",
            "text/plain": [
              "<Figure size 640x480 with 2 Axes>"
            ]
          },
          "metadata": {},
          "output_type": "display_data"
        },
        {
          "name": "stdout",
          "output_type": "stream",
          "text": [
            "+-----------------------------------------------------+\n",
            "|  Classification Report for Auto-Sklearn Library Classifier  |\n",
            "+-----------------------------------------------------+\n",
            "              precision    recall  f1-score   support\n",
            "\n",
            "Unacceptable       1.00      1.00      1.00       294\n",
            "  Acceptable       0.99      0.92      0.95       103\n",
            "        Good       0.64      0.93      0.76        15\n",
            "   Very Good       0.90      0.90      0.90        20\n",
            "\n",
            "    accuracy                           0.97       432\n",
            "   macro avg       0.88      0.94      0.90       432\n",
            "weighted avg       0.98      0.97      0.98       432\n",
            "\n"
          ]
        }
      ],
      "source": [
        "metrics_evaluation(\"Auto-Sklearn Library Classifier\",\n",
        "                       y_test,\n",
        "                       predictions)"
      ]
    },
    {
      "attachments": {},
      "cell_type": "markdown",
      "metadata": {
        "id": "NNcSL9rp9_Iv"
      },
      "source": [
        "### Notes & Other Takeaways From This Project\n",
        "****\n",
        "- Wow, these results are pretty good!\n",
        "- A macro-averaged Fl score of 0.90 is excellent, especially for an imbalanced dataset of this size.\n",
        "****"
      ]
    },
    {
      "attachments": {},
      "cell_type": "markdown",
      "metadata": {
        "id": "yYfQ9dWc9_Iv"
      },
      "source": [
        "### Citations\n",
        "\n",
        "- Auto-Sklearn\n",
        "    > @inproceedings{feurer-neurips15a,\n",
        "    title     = {Efficient and Robust Automated Machine Learning},\n",
        "    author    = {Feurer, Matthias and Klein, Aaron and Eggensperger, Katharina and Springenberg, Jost and Blum, Manuel and Hutter, Frank},\n",
        "    booktitle = {Advances in Neural Information Processing Systems 28 (2015)},\n",
        "    pages     = {2962--2970},\n",
        "    year      = {2015}\n",
        "}\n",
        "\n",
        "    > @article{feurer-arxiv20a,\n",
        "    title     = {Auto-Sklearn 2.0: Hands-free AutoML via Meta-Learning},\n",
        "    author    = {Feurer, Matthias and Eggensperger, Katharina and Falkner, Stefan and Lindauer, Marius and Hutter, Frank},\n",
        "    journal   = {arXiv:2007.04074 [cs.LG]},\n",
        "    year      = {2020},\n",
        "}"
      ]
    }
  ],
  "metadata": {
    "colab": {
      "provenance": []
    },
    "kernelspec": {
      "display_name": "dl",
      "language": "python",
      "name": "python3"
    },
    "language_info": {
      "codemirror_mode": {
        "name": "ipython",
        "version": 3
      },
      "file_extension": ".py",
      "mimetype": "text/x-python",
      "name": "python",
      "nbconvert_exporter": "python",
      "pygments_lexer": "ipython3",
      "version": "3.9.12"
    },
    "orig_nbformat": 4
  },
  "nbformat": 4,
  "nbformat_minor": 0
}
