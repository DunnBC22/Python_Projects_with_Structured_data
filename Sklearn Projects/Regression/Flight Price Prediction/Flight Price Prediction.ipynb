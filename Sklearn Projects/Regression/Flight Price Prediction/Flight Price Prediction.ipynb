{
 "cells": [
  {
   "attachments": {},
   "cell_type": "markdown",
   "metadata": {},
   "source": [
    "## Flight Price Prediction \n",
    "\n",
    "Dataset Source: https://www.kaggle.com/datasets/kukuroo3/flight-price-predict-competition-format"
   ]
  },
  {
   "attachments": {},
   "cell_type": "markdown",
   "metadata": {},
   "source": [
    "#### Import Necessary Libraries"
   ]
  },
  {
   "cell_type": "code",
   "execution_count": 1,
   "metadata": {},
   "outputs": [],
   "source": [
    "import sys, math\n",
    "from statistics import mean\n",
    "\n",
    "import numpy as np\n",
    "import pandas as pd\n",
    "\n",
    "import matplotlib.pyplot as plt\n",
    "import seaborn as sns\n",
    "\n",
    "import sklearn\n",
    "from sklearn.model_selection import train_test_split, cross_validate\n",
    "from sklearn.pipeline import Pipeline\n",
    "\n",
    "from sklearn.preprocessing import FunctionTransformer, StandardScaler, MaxAbsScaler\n",
    "from sklearn.compose import ColumnTransformer\n",
    "from sklearn.preprocessing import OrdinalEncoder, OneHotEncoder\n",
    "\n",
    "from sklearn.kernel_ridge import KernelRidge\n",
    "from sklearn.linear_model import SGDRegressor, ElasticNet\n",
    "from sklearn.svm import SVR\n",
    "\n",
    "from sklearn.ensemble import RandomForestRegressor, AdaBoostRegressor\n",
    "from sklearn.ensemble import StackingRegressor, VotingRegressor, BaggingRegressor\n",
    "\n",
    "import xgboost as xgb\n",
    "from xgboost import XGBRegressor"
   ]
  },
  {
   "attachments": {},
   "cell_type": "markdown",
   "metadata": {},
   "source": [
    "#### Show Library Versions"
   ]
  },
  {
   "cell_type": "code",
   "execution_count": 2,
   "metadata": {},
   "outputs": [
    {
     "name": "stdout",
     "output_type": "stream",
     "text": [
      "Language/Library | Version\n",
      "---------------- | --------\n",
      "          Python : 3.9.12\n",
      "           NumPy : 1.24.3\n",
      "          Pandas : 2.0.1\n",
      "         Sklearn : 1.2.2\n",
      "         XGBoost : 1.7.5\n",
      "         Seaborn : 0.12.2\n"
     ]
    }
   ],
   "source": [
    "n = 18\n",
    "\n",
    "print(f\"Language/Library\".rjust(n-2), '|', 'Version')\n",
    "print('-' * (n-2), '|', '--------')\n",
    "print(\"Python :\".rjust(n), sys.version[0:6])\n",
    "print(\"NumPy :\".rjust(n), np.__version__)\n",
    "print(\"Pandas :\".rjust(n), pd.__version__)\n",
    "print(\"Sklearn :\".rjust(n), sklearn.__version__)\n",
    "print('XGBoost :'.rjust(n), xgb.__version__)\n",
    "print(\"Seaborn :\".rjust(n), sns.__version__)"
   ]
  },
  {
   "attachments": {},
   "cell_type": "markdown",
   "metadata": {},
   "source": [
    "### Initial Data Preprocessing"
   ]
  },
  {
   "attachments": {},
   "cell_type": "markdown",
   "metadata": {},
   "source": [
    "#### Ingest Training Dataset"
   ]
  },
  {
   "cell_type": "code",
   "execution_count": 3,
   "metadata": {},
   "outputs": [
    {
     "data": {
      "text/html": [
       "<div>\n",
       "<style scoped>\n",
       "    .dataframe tbody tr th:only-of-type {\n",
       "        vertical-align: middle;\n",
       "    }\n",
       "\n",
       "    .dataframe tbody tr th {\n",
       "        vertical-align: top;\n",
       "    }\n",
       "\n",
       "    .dataframe thead th {\n",
       "        text-align: right;\n",
       "    }\n",
       "</style>\n",
       "<table border=\"1\" class=\"dataframe\">\n",
       "  <thead>\n",
       "    <tr style=\"text-align: right;\">\n",
       "      <th></th>\n",
       "      <th>filghtId</th>\n",
       "      <th>airline</th>\n",
       "      <th>flight</th>\n",
       "      <th>source_city</th>\n",
       "      <th>departure_time</th>\n",
       "      <th>stops</th>\n",
       "      <th>arrival_time</th>\n",
       "      <th>destination_city</th>\n",
       "      <th>duration</th>\n",
       "      <th>days_left</th>\n",
       "    </tr>\n",
       "  </thead>\n",
       "  <tbody>\n",
       "    <tr>\n",
       "      <th>0</th>\n",
       "      <td>252589</td>\n",
       "      <td>Vistara</td>\n",
       "      <td>UK-808</td>\n",
       "      <td>Bangalore</td>\n",
       "      <td>Early_Morning</td>\n",
       "      <td>one</td>\n",
       "      <td>Night</td>\n",
       "      <td>Mumbai</td>\n",
       "      <td>13.25</td>\n",
       "      <td>46</td>\n",
       "    </tr>\n",
       "    <tr>\n",
       "      <th>1</th>\n",
       "      <td>223754</td>\n",
       "      <td>Vistara</td>\n",
       "      <td>UK-927</td>\n",
       "      <td>Delhi</td>\n",
       "      <td>Morning</td>\n",
       "      <td>one</td>\n",
       "      <td>Evening</td>\n",
       "      <td>Chennai</td>\n",
       "      <td>10.42</td>\n",
       "      <td>31</td>\n",
       "    </tr>\n",
       "    <tr>\n",
       "      <th>2</th>\n",
       "      <td>243398</td>\n",
       "      <td>Vistara</td>\n",
       "      <td>UK-988</td>\n",
       "      <td>Mumbai</td>\n",
       "      <td>Night</td>\n",
       "      <td>one</td>\n",
       "      <td>Morning</td>\n",
       "      <td>Chennai</td>\n",
       "      <td>13.00</td>\n",
       "      <td>28</td>\n",
       "    </tr>\n",
       "    <tr>\n",
       "      <th>3</th>\n",
       "      <td>208360</td>\n",
       "      <td>Vistara</td>\n",
       "      <td>UK-815</td>\n",
       "      <td>Delhi</td>\n",
       "      <td>Morning</td>\n",
       "      <td>one</td>\n",
       "      <td>Night</td>\n",
       "      <td>Mumbai</td>\n",
       "      <td>12.67</td>\n",
       "      <td>17</td>\n",
       "    </tr>\n",
       "    <tr>\n",
       "      <th>4</th>\n",
       "      <td>247226</td>\n",
       "      <td>Vistara</td>\n",
       "      <td>UK-854</td>\n",
       "      <td>Bangalore</td>\n",
       "      <td>Evening</td>\n",
       "      <td>one</td>\n",
       "      <td>Morning</td>\n",
       "      <td>Delhi</td>\n",
       "      <td>13.67</td>\n",
       "      <td>32</td>\n",
       "    </tr>\n",
       "    <tr>\n",
       "      <th>...</th>\n",
       "      <td>...</td>\n",
       "      <td>...</td>\n",
       "      <td>...</td>\n",
       "      <td>...</td>\n",
       "      <td>...</td>\n",
       "      <td>...</td>\n",
       "      <td>...</td>\n",
       "      <td>...</td>\n",
       "      <td>...</td>\n",
       "      <td>...</td>\n",
       "    </tr>\n",
       "    <tr>\n",
       "      <th>5693</th>\n",
       "      <td>272654</td>\n",
       "      <td>Air_India</td>\n",
       "      <td>AI-402</td>\n",
       "      <td>Kolkata</td>\n",
       "      <td>Morning</td>\n",
       "      <td>one</td>\n",
       "      <td>Night</td>\n",
       "      <td>Chennai</td>\n",
       "      <td>13.17</td>\n",
       "      <td>3</td>\n",
       "    </tr>\n",
       "    <tr>\n",
       "      <th>5694</th>\n",
       "      <td>294604</td>\n",
       "      <td>Air_India</td>\n",
       "      <td>AI-539</td>\n",
       "      <td>Chennai</td>\n",
       "      <td>Evening</td>\n",
       "      <td>one</td>\n",
       "      <td>Morning</td>\n",
       "      <td>Bangalore</td>\n",
       "      <td>15.92</td>\n",
       "      <td>24</td>\n",
       "    </tr>\n",
       "    <tr>\n",
       "      <th>5695</th>\n",
       "      <td>219483</td>\n",
       "      <td>Vistara</td>\n",
       "      <td>UK-981</td>\n",
       "      <td>Delhi</td>\n",
       "      <td>Night</td>\n",
       "      <td>one</td>\n",
       "      <td>Night</td>\n",
       "      <td>Hyderabad</td>\n",
       "      <td>23.08</td>\n",
       "      <td>8</td>\n",
       "    </tr>\n",
       "    <tr>\n",
       "      <th>5696</th>\n",
       "      <td>287266</td>\n",
       "      <td>Vistara</td>\n",
       "      <td>UK-830</td>\n",
       "      <td>Hyderabad</td>\n",
       "      <td>Morning</td>\n",
       "      <td>one</td>\n",
       "      <td>Morning</td>\n",
       "      <td>Chennai</td>\n",
       "      <td>23.58</td>\n",
       "      <td>42</td>\n",
       "    </tr>\n",
       "    <tr>\n",
       "      <th>5697</th>\n",
       "      <td>255209</td>\n",
       "      <td>Vistara</td>\n",
       "      <td>UK-816</td>\n",
       "      <td>Bangalore</td>\n",
       "      <td>Morning</td>\n",
       "      <td>one</td>\n",
       "      <td>Night</td>\n",
       "      <td>Kolkata</td>\n",
       "      <td>11.25</td>\n",
       "      <td>38</td>\n",
       "    </tr>\n",
       "  </tbody>\n",
       "</table>\n",
       "<p>5698 rows × 10 columns</p>\n",
       "</div>"
      ],
      "text/plain": [
       "      filghtId    airline  flight source_city departure_time stops   \n",
       "0       252589    Vistara  UK-808   Bangalore  Early_Morning   one  \\\n",
       "1       223754    Vistara  UK-927       Delhi        Morning   one   \n",
       "2       243398    Vistara  UK-988      Mumbai          Night   one   \n",
       "3       208360    Vistara  UK-815       Delhi        Morning   one   \n",
       "4       247226    Vistara  UK-854   Bangalore        Evening   one   \n",
       "...        ...        ...     ...         ...            ...   ...   \n",
       "5693    272654  Air_India  AI-402     Kolkata        Morning   one   \n",
       "5694    294604  Air_India  AI-539     Chennai        Evening   one   \n",
       "5695    219483    Vistara  UK-981       Delhi          Night   one   \n",
       "5696    287266    Vistara  UK-830   Hyderabad        Morning   one   \n",
       "5697    255209    Vistara  UK-816   Bangalore        Morning   one   \n",
       "\n",
       "     arrival_time destination_city  duration  days_left  \n",
       "0           Night           Mumbai     13.25         46  \n",
       "1         Evening          Chennai     10.42         31  \n",
       "2         Morning          Chennai     13.00         28  \n",
       "3           Night           Mumbai     12.67         17  \n",
       "4         Morning            Delhi     13.67         32  \n",
       "...           ...              ...       ...        ...  \n",
       "5693        Night          Chennai     13.17          3  \n",
       "5694      Morning        Bangalore     15.92         24  \n",
       "5695        Night        Hyderabad     23.08          8  \n",
       "5696      Morning          Chennai     23.58         42  \n",
       "5697        Night          Kolkata     11.25         38  \n",
       "\n",
       "[5698 rows x 10 columns]"
      ]
     },
     "execution_count": 3,
     "metadata": {},
     "output_type": "execute_result"
    }
   ],
   "source": [
    "data= pd.read_csv(\"data/X_train.csv\")\n",
    "\n",
    "data"
   ]
  },
  {
   "cell_type": "code",
   "execution_count": 4,
   "metadata": {},
   "outputs": [
    {
     "name": "stdout",
     "output_type": "stream",
     "text": [
      "<class 'pandas.core.frame.DataFrame'>\n",
      "RangeIndex: 5698 entries, 0 to 5697\n",
      "Data columns (total 12 columns):\n",
      " #   Column           Non-Null Count  Dtype  \n",
      "---  ------           --------------  -----  \n",
      " 0   flight_id        5698 non-null   uint32 \n",
      " 1   airline          5698 non-null   object \n",
      " 2   flight           5698 non-null   object \n",
      " 3   source_city      5698 non-null   object \n",
      " 4   departure_time   5698 non-null   object \n",
      " 5   layovers         5698 non-null   object \n",
      " 6   arrival_time     5698 non-null   object \n",
      " 7   dest_city        5698 non-null   object \n",
      " 8   flight_duration  5698 non-null   float32\n",
      " 9   days_left        5698 non-null   uint8  \n",
      " 10  flight_id        5698 non-null   uint32 \n",
      " 11  target           5698 non-null   uint32 \n",
      "dtypes: float32(1), object(7), uint32(3), uint8(1)\n",
      "memory usage: 406.3+ KB\n"
     ]
    }
   ],
   "source": [
    "col_names = [\"flight_id\",\n",
    "             \"airline\",\n",
    "             \"flight\",\n",
    "             \"source_city\",\n",
    "             \"departure_time\",\n",
    "             \"layovers\",\n",
    "             \"arrival_time\",\n",
    "             \"dest_city\",\n",
    "             \"flight_duration\",\n",
    "             \"days_left\"\n",
    "             ]\n",
    "\n",
    "dtypes = {\"flight_id\": np.uint32,\n",
    "          \"airline\": str,\n",
    "          \"flight\": str,\n",
    "          \"source_city\": str,\n",
    "          \"departure_time\": str,\n",
    "          \"layovers\": str,\n",
    "          \"arrival_time\": str,\n",
    "          \"dest_city\": str,\n",
    "          \"flight_duration\": np.float32,\n",
    "          \"days_left\": np.uint8\n",
    "          }\n",
    "\n",
    "train_data_features = pd.read_csv(\"data/X_train.csv\",\n",
    "                                  names=col_names, \n",
    "                                  dtype=dtypes,\n",
    "                                  engine='c',\n",
    "                                  #index_col='flight_id',\n",
    "                                  header=0)\n",
    "\n",
    "# label for training dataset\n",
    "col_name = ['flight_id', \"target\"]\n",
    "\n",
    "dtype = {\"flight_id\": np.uint32,\n",
    "         \"target\" : np.uint32\n",
    "         }\n",
    "\n",
    "train_data_target = pd.read_csv(\"data/y_train.csv\",\n",
    "                               names=col_name, \n",
    "                               dtype=dtype,\n",
    "                               #index_col='flight_id',\n",
    "                               engine='c',\n",
    "                               header=0)\n",
    "\n",
    "train_data = pd.concat([train_data_features, train_data_target], axis=1)\n",
    "\n",
    "train_data.info()"
   ]
  },
  {
   "attachments": {},
   "cell_type": "markdown",
   "metadata": {},
   "source": [
    "#### Ingest Testing Dataset"
   ]
  },
  {
   "cell_type": "code",
   "execution_count": 5,
   "metadata": {},
   "outputs": [
    {
     "name": "stdout",
     "output_type": "stream",
     "text": [
      "<class 'pandas.core.frame.DataFrame'>\n",
      "RangeIndex: 3347 entries, 0 to 3346\n",
      "Data columns (total 12 columns):\n",
      " #   Column           Non-Null Count  Dtype  \n",
      "---  ------           --------------  -----  \n",
      " 0   flight_id        3347 non-null   uint32 \n",
      " 1   airline          3347 non-null   object \n",
      " 2   flight           3347 non-null   object \n",
      " 3   source_city      3347 non-null   object \n",
      " 4   departure_time   3347 non-null   object \n",
      " 5   layovers         3347 non-null   object \n",
      " 6   arrival_time     3347 non-null   object \n",
      " 7   dest_city        3347 non-null   object \n",
      " 8   flight_duration  3347 non-null   float32\n",
      " 9   days_left        3347 non-null   uint8  \n",
      " 10  flight_id        3347 non-null   uint32 \n",
      " 11  target           3347 non-null   uint32 \n",
      "dtypes: float32(1), object(7), uint32(3), uint8(1)\n",
      "memory usage: 238.7+ KB\n"
     ]
    }
   ],
   "source": [
    "test_data_features = pd.read_csv(\"data/X_test.csv\",\n",
    "                   names=col_names, \n",
    "                   dtype=dtypes,\n",
    "                   engine='c',\n",
    "                   header=0)\n",
    "\n",
    "test_data_label = pd.read_csv(\"data/y_test.csv\",\n",
    "                               names=col_name, \n",
    "                               dtype=dtype,\n",
    "                               engine='c',\n",
    "                               header=0)\n",
    "\n",
    "test_data = pd.concat([test_data_features, test_data_label], axis=1)\n",
    "\n",
    "test_data.info()"
   ]
  },
  {
   "attachments": {},
   "cell_type": "markdown",
   "metadata": {},
   "source": [
    "#### Concatenate Training & Testing Datasets as Well as Make Related Edits"
   ]
  },
  {
   "cell_type": "code",
   "execution_count": 6,
   "metadata": {},
   "outputs": [
    {
     "name": "stdout",
     "output_type": "stream",
     "text": [
      "<class 'pandas.core.frame.DataFrame'>\n",
      "RangeIndex: 9045 entries, 0 to 9044\n",
      "Data columns (total 10 columns):\n",
      " #   Column           Non-Null Count  Dtype  \n",
      "---  ------           --------------  -----  \n",
      " 0   airline          9045 non-null   object \n",
      " 1   flight           9045 non-null   object \n",
      " 2   source_city      9045 non-null   object \n",
      " 3   departure_time   9045 non-null   object \n",
      " 4   layovers         9045 non-null   object \n",
      " 5   arrival_time     9045 non-null   object \n",
      " 6   dest_city        9045 non-null   object \n",
      " 7   flight_duration  9045 non-null   float32\n",
      " 8   days_left        9045 non-null   uint8  \n",
      " 9   target           9045 non-null   uint32 \n",
      "dtypes: float32(1), object(7), uint32(1), uint8(1)\n",
      "memory usage: 574.3+ KB\n"
     ]
    }
   ],
   "source": [
    "data = pd.concat(\n",
    "    [\n",
    "        train_data, \n",
    "        test_data\n",
    "    ]\n",
    ")\n",
    "\n",
    "data = data.drop(columns=['flight_id'])\n",
    "\n",
    "data = data.reset_index(drop=True)\n",
    "\n",
    "data.info()"
   ]
  },
  {
   "attachments": {},
   "cell_type": "markdown",
   "metadata": {},
   "source": [
    "#### Basic Statistics About Dataset"
   ]
  },
  {
   "cell_type": "code",
   "execution_count": 7,
   "metadata": {},
   "outputs": [
    {
     "data": {
      "text/html": [
       "<div>\n",
       "<style scoped>\n",
       "    .dataframe tbody tr th:only-of-type {\n",
       "        vertical-align: middle;\n",
       "    }\n",
       "\n",
       "    .dataframe tbody tr th {\n",
       "        vertical-align: top;\n",
       "    }\n",
       "\n",
       "    .dataframe thead th {\n",
       "        text-align: right;\n",
       "    }\n",
       "</style>\n",
       "<table border=\"1\" class=\"dataframe\">\n",
       "  <thead>\n",
       "    <tr style=\"text-align: right;\">\n",
       "      <th></th>\n",
       "      <th>airline</th>\n",
       "      <th>flight</th>\n",
       "      <th>source_city</th>\n",
       "      <th>departure_time</th>\n",
       "      <th>layovers</th>\n",
       "      <th>arrival_time</th>\n",
       "      <th>dest_city</th>\n",
       "      <th>flight_duration</th>\n",
       "      <th>days_left</th>\n",
       "      <th>target</th>\n",
       "    </tr>\n",
       "  </thead>\n",
       "  <tbody>\n",
       "    <tr>\n",
       "      <th>count</th>\n",
       "      <td>9045</td>\n",
       "      <td>9045</td>\n",
       "      <td>9045</td>\n",
       "      <td>9045</td>\n",
       "      <td>9045</td>\n",
       "      <td>9045</td>\n",
       "      <td>9045</td>\n",
       "      <td>9045.000000</td>\n",
       "      <td>9045.000000</td>\n",
       "      <td>9045.000000</td>\n",
       "    </tr>\n",
       "    <tr>\n",
       "      <th>unique</th>\n",
       "      <td>6</td>\n",
       "      <td>296</td>\n",
       "      <td>6</td>\n",
       "      <td>6</td>\n",
       "      <td>3</td>\n",
       "      <td>6</td>\n",
       "      <td>6</td>\n",
       "      <td>NaN</td>\n",
       "      <td>NaN</td>\n",
       "      <td>NaN</td>\n",
       "    </tr>\n",
       "    <tr>\n",
       "      <th>top</th>\n",
       "      <td>Vistara</td>\n",
       "      <td>UK-772</td>\n",
       "      <td>Mumbai</td>\n",
       "      <td>Morning</td>\n",
       "      <td>one</td>\n",
       "      <td>Night</td>\n",
       "      <td>Mumbai</td>\n",
       "      <td>NaN</td>\n",
       "      <td>NaN</td>\n",
       "      <td>NaN</td>\n",
       "    </tr>\n",
       "    <tr>\n",
       "      <th>freq</th>\n",
       "      <td>5831</td>\n",
       "      <td>143</td>\n",
       "      <td>1904</td>\n",
       "      <td>2241</td>\n",
       "      <td>8177</td>\n",
       "      <td>2813</td>\n",
       "      <td>1837</td>\n",
       "      <td>NaN</td>\n",
       "      <td>NaN</td>\n",
       "      <td>NaN</td>\n",
       "    </tr>\n",
       "    <tr>\n",
       "      <th>mean</th>\n",
       "      <td>NaN</td>\n",
       "      <td>NaN</td>\n",
       "      <td>NaN</td>\n",
       "      <td>NaN</td>\n",
       "      <td>NaN</td>\n",
       "      <td>NaN</td>\n",
       "      <td>NaN</td>\n",
       "      <td>13.673429</td>\n",
       "      <td>25.814925</td>\n",
       "      <td>52198.478165</td>\n",
       "    </tr>\n",
       "    <tr>\n",
       "      <th>std</th>\n",
       "      <td>NaN</td>\n",
       "      <td>NaN</td>\n",
       "      <td>NaN</td>\n",
       "      <td>NaN</td>\n",
       "      <td>NaN</td>\n",
       "      <td>NaN</td>\n",
       "      <td>NaN</td>\n",
       "      <td>6.839508</td>\n",
       "      <td>13.514093</td>\n",
       "      <td>13179.175493</td>\n",
       "    </tr>\n",
       "    <tr>\n",
       "      <th>min</th>\n",
       "      <td>NaN</td>\n",
       "      <td>NaN</td>\n",
       "      <td>NaN</td>\n",
       "      <td>NaN</td>\n",
       "      <td>NaN</td>\n",
       "      <td>NaN</td>\n",
       "      <td>NaN</td>\n",
       "      <td>1.250000</td>\n",
       "      <td>1.000000</td>\n",
       "      <td>2339.000000</td>\n",
       "    </tr>\n",
       "    <tr>\n",
       "      <th>25%</th>\n",
       "      <td>NaN</td>\n",
       "      <td>NaN</td>\n",
       "      <td>NaN</td>\n",
       "      <td>NaN</td>\n",
       "      <td>NaN</td>\n",
       "      <td>NaN</td>\n",
       "      <td>NaN</td>\n",
       "      <td>8.750000</td>\n",
       "      <td>14.000000</td>\n",
       "      <td>44610.000000</td>\n",
       "    </tr>\n",
       "    <tr>\n",
       "      <th>50%</th>\n",
       "      <td>NaN</td>\n",
       "      <td>NaN</td>\n",
       "      <td>NaN</td>\n",
       "      <td>NaN</td>\n",
       "      <td>NaN</td>\n",
       "      <td>NaN</td>\n",
       "      <td>NaN</td>\n",
       "      <td>13.000000</td>\n",
       "      <td>26.000000</td>\n",
       "      <td>53164.000000</td>\n",
       "    </tr>\n",
       "    <tr>\n",
       "      <th>75%</th>\n",
       "      <td>NaN</td>\n",
       "      <td>NaN</td>\n",
       "      <td>NaN</td>\n",
       "      <td>NaN</td>\n",
       "      <td>NaN</td>\n",
       "      <td>NaN</td>\n",
       "      <td>NaN</td>\n",
       "      <td>17.670000</td>\n",
       "      <td>37.000000</td>\n",
       "      <td>60365.000000</td>\n",
       "    </tr>\n",
       "    <tr>\n",
       "      <th>max</th>\n",
       "      <td>NaN</td>\n",
       "      <td>NaN</td>\n",
       "      <td>NaN</td>\n",
       "      <td>NaN</td>\n",
       "      <td>NaN</td>\n",
       "      <td>NaN</td>\n",
       "      <td>NaN</td>\n",
       "      <td>45.830002</td>\n",
       "      <td>49.000000</td>\n",
       "      <td>117307.000000</td>\n",
       "    </tr>\n",
       "  </tbody>\n",
       "</table>\n",
       "</div>"
      ],
      "text/plain": [
       "        airline  flight source_city departure_time layovers arrival_time   \n",
       "count      9045    9045        9045           9045     9045         9045  \\\n",
       "unique        6     296           6              6        3            6   \n",
       "top     Vistara  UK-772      Mumbai        Morning      one        Night   \n",
       "freq       5831     143        1904           2241     8177         2813   \n",
       "mean        NaN     NaN         NaN            NaN      NaN          NaN   \n",
       "std         NaN     NaN         NaN            NaN      NaN          NaN   \n",
       "min         NaN     NaN         NaN            NaN      NaN          NaN   \n",
       "25%         NaN     NaN         NaN            NaN      NaN          NaN   \n",
       "50%         NaN     NaN         NaN            NaN      NaN          NaN   \n",
       "75%         NaN     NaN         NaN            NaN      NaN          NaN   \n",
       "max         NaN     NaN         NaN            NaN      NaN          NaN   \n",
       "\n",
       "       dest_city  flight_duration    days_left         target  \n",
       "count       9045      9045.000000  9045.000000    9045.000000  \n",
       "unique         6              NaN          NaN            NaN  \n",
       "top       Mumbai              NaN          NaN            NaN  \n",
       "freq        1837              NaN          NaN            NaN  \n",
       "mean         NaN        13.673429    25.814925   52198.478165  \n",
       "std          NaN         6.839508    13.514093   13179.175493  \n",
       "min          NaN         1.250000     1.000000    2339.000000  \n",
       "25%          NaN         8.750000    14.000000   44610.000000  \n",
       "50%          NaN        13.000000    26.000000   53164.000000  \n",
       "75%          NaN        17.670000    37.000000   60365.000000  \n",
       "max          NaN        45.830002    49.000000  117307.000000  "
      ]
     },
     "execution_count": 7,
     "metadata": {},
     "output_type": "execute_result"
    }
   ],
   "source": [
    "data.describe(include='all')"
   ]
  },
  {
   "attachments": {},
   "cell_type": "markdown",
   "metadata": {},
   "source": [
    "### Visualizations"
   ]
  },
  {
   "attachments": {},
   "cell_type": "markdown",
   "metadata": {},
   "source": [
    "#### Create Function to Visualize Features (Histograms)"
   ]
  },
  {
   "cell_type": "code",
   "execution_count": 8,
   "metadata": {},
   "outputs": [],
   "source": [
    "def histogram_visual(feature_to_visualize: pd.Series,\n",
    "                     num_of_bins: int,\n",
    "                     plot_title: str,\n",
    "                     x_label: str,\n",
    "                     x_start: float = -1.0,\n",
    "                     y_label: str = \"# of Samples\",\n",
    "                     ):\n",
    "    \"\"\"\n",
    "    This function returns a histogram for a feature.\n",
    "    \n",
    "    Inputs: \n",
    "    - feature_to_visualize: Feature to plot in the form \n",
    "    of pandas Series.\n",
    "    - plot_title: The title of the plot/visual.\n",
    "    - x_label: The string label value for the x label.\n",
    "    - x_start: To force the x-axis of the visual to start at \n",
    "    a specified value instead of the automatically generated \n",
    "    value, assign the float value here. Otherwise, the \n",
    "    autogenerated start value will be used.\n",
    "    - y_label: The string label value for the y label.\n",
    "    \n",
    "    Output:\n",
    "    - A histogram.\n",
    "    \"\"\"\n",
    "    \n",
    "    assert type(feature_to_visualize) == pd.Series, \\\n",
    "        \"Make sure the dataset input type is a Pandas Series.\"\n",
    "    assert type(plot_title) != 'str', \\\n",
    "        \"The title value must be a string value.\"\n",
    "    assert type(x_label) !=  'str', \\\n",
    "        \"The x label value must be a string value.\"\n",
    "    assert type(y_label) != 'str', \\\n",
    "        \"The y label value must be a string value.\"\n",
    "    assert type(x_start) != 'float', \\\n",
    "        \"The x_start value must be a float value.\"\n",
    "    \n",
    "    ax = feature_to_visualize.hist(grid=False, \n",
    "                                   bins=num_of_bins, \n",
    "                                   figsize=(18, 8))\n",
    "    plt.suptitle('')\n",
    "    plt.title(plot_title)\n",
    "    plt.ylabel(y_label)\n",
    "    plt.xlabel(x_label)\n",
    "    \n",
    "    if x_start != -1:\n",
    "        plt.xlim([0, (max(feature_to_visualize) + (1/num_of_bins))])\n",
    "\n",
    "    plt.show()"
   ]
  },
  {
   "attachments": {},
   "cell_type": "markdown",
   "metadata": {},
   "source": [
    "#### Dataset Visualization: Flight Duration"
   ]
  },
  {
   "cell_type": "code",
   "execution_count": 9,
   "metadata": {},
   "outputs": [
    {
     "data": {
      "image/png": "[encoded data removed]",
      "text/plain": [
       "<Figure size 1800x800 with 1 Axes>"
      ]
     },
     "metadata": {},
     "output_type": "display_data"
    },
    {
     "name": "stdout",
     "output_type": "stream",
     "text": [
      "Flight durations ranged from 1.25 to 45.83.\n"
     ]
    }
   ],
   "source": [
    "histogram_visual(data['flight_duration'],\n",
    "                 num_of_bins=188,\n",
    "                 plot_title=\"Histogram of Flight Durations\",\n",
    "                 x_label=\"Flight Duration\")\n",
    "\n",
    "print(f\"Flight durations ranged from \" + \n",
    "      f\"{round(min(data['flight_duration']), 2)} to\" + \n",
    "      f\" {round(max(data['flight_duration']), 2)}.\")"
   ]
  },
  {
   "attachments": {},
   "cell_type": "markdown",
   "metadata": {},
   "source": [
    "#### Dataset Visualization: Days Left Until Flight"
   ]
  },
  {
   "cell_type": "code",
   "execution_count": 10,
   "metadata": {},
   "outputs": [
    {
     "data": {
      "image/png": "[encoded data removed]",
      "text/plain": [
       "<Figure size 1800x800 with 1 Axes>"
      ]
     },
     "metadata": {},
     "output_type": "display_data"
    },
    {
     "name": "stdout",
     "output_type": "stream",
     "text": [
      "The number of days left until flight ranged from 1 to 49 days.\n"
     ]
    }
   ],
   "source": [
    "histogram_visual(data['days_left'],\n",
    "                 num_of_bins=49,\n",
    "                 plot_title=\"Histogram of Days Left Until Flight\",\n",
    "                 x_label=\"Days Left\")\n",
    "\n",
    "print(f\"The number of days left until flight ranged\" + \n",
    "      f\" from {min(data['days_left'])}\" + \n",
    "      f\" to {max(data['days_left'])} days.\")"
   ]
  },
  {
   "attachments": {},
   "cell_type": "markdown",
   "metadata": {},
   "source": [
    "#### Dataset Visualization: Target"
   ]
  },
  {
   "cell_type": "code",
   "execution_count": 11,
   "metadata": {},
   "outputs": [
    {
     "data": {
      "image/png": "[encoded data removed]",
      "text/plain": [
       "<Figure size 1800x800 with 1 Axes>"
      ]
     },
     "metadata": {},
     "output_type": "display_data"
    },
    {
     "name": "stdout",
     "output_type": "stream",
     "text": [
      "Flight Prices ranged from $2339 to $117307.\n"
     ]
    }
   ],
   "source": [
    "histogram_visual(data['target'],\n",
    "                 num_of_bins=117,\n",
    "                 plot_title=\"Target Distribution\",\n",
    "                 x_label=\"Target\")\n",
    "\n",
    "print(f\"Flight Prices ranged from \" + \n",
    "      f\"${min(data['target'])} to\" + \n",
    "      f\" ${max(data['target'])}.\")"
   ]
  },
  {
   "attachments": {},
   "cell_type": "markdown",
   "metadata": {},
   "source": [
    "#### Create Function to Visualize Features (Barplot)"
   ]
  },
  {
   "cell_type": "code",
   "execution_count": 12,
   "metadata": {},
   "outputs": [],
   "source": [
    "def barplot_visual(feature_to_visualize: pd.Series,\n",
    "                   plot_title: str,\n",
    "                   x_label: str,\n",
    "                   y_label: str = \"# of Samples\",\n",
    "                   rotation: np.int8 = 0,\n",
    "                   annotation: np.bool_ = True\n",
    "                   ):\n",
    "    \"\"\"\n",
    "    This function returns a histogram for a feature.\n",
    "    \n",
    "    Inputs: \n",
    "    - feature_to_visualize: Feature to plot in the form \n",
    "    of pandas Series.\n",
    "    - plot_title: The title of the plot/visual.\n",
    "    - x_label: The string label value for the x label.\n",
    "    - y_label: The string label value for the y label.\n",
    "    - rotation: The integer value of the rotation of \n",
    "        x-tick values\n",
    "    - \n",
    "    \n",
    "    Output:\n",
    "    - A Bar Plot.\n",
    "    \"\"\"\n",
    "    \n",
    "    assert type(feature_to_visualize) == pd.Series, \\\n",
    "        \"Make sure the dataset input type is a Pandas Series.\"\n",
    "    assert type(plot_title) != 'str', \\\n",
    "        \"The title value must be a string value.\"\n",
    "    assert type(x_label) !=  'str', \\\n",
    "        \"The x label value must be a string value.\"\n",
    "    assert type(y_label) != 'str', \\\n",
    "        \"The y label value must be a string value.\"\n",
    "    assert type(rotation) != np.int8, \\\n",
    "        \"The rotation value must be an integer value.\"\n",
    "    \n",
    "    ax = feature_to_visualize.value_counts().plot.bar( \n",
    "                                                      figsize=(12,8),\n",
    "                                                      rot=rotation, \n",
    "                                                      legend=False,\n",
    "                                                      color=[\"lightgreen\", \n",
    "                                                             \"blue\", \n",
    "                                                             \"brown\", \n",
    "                                                             \"lightblue\",\n",
    "                                                             \"tan\", \n",
    "                                                             \"yellow\", \n",
    "                                                             \"orange\",\n",
    "                                                             \"green\", \n",
    "                                                             \"red\",\n",
    "                                                             \"purple\"]\n",
    "                                                      )\n",
    "    \n",
    "    if annotation:\n",
    "        ax.bar_label(ax.containers[0])\n",
    "    \n",
    "    plt.suptitle('')\n",
    "    plt.title(plot_title)\n",
    "    plt.ylabel(y_label)\n",
    "    plt.xlabel(x_label)\n",
    "    \n",
    "    plt.show()"
   ]
  },
  {
   "attachments": {},
   "cell_type": "markdown",
   "metadata": {},
   "source": [
    "#### Dataset Visualization: Diabetes"
   ]
  },
  {
   "cell_type": "code",
   "execution_count": 13,
   "metadata": {},
   "outputs": [
    {
     "data": {
      "image/png": "[encoded data removed]",
      "text/plain": [
       "<Figure size 1200x800 with 1 Axes>"
      ]
     },
     "metadata": {},
     "output_type": "display_data"
    }
   ],
   "source": [
    "barplot_visual(data[\"airline\"],\n",
    "               \"Does Customer Have Diabetes?\",\n",
    "               \"Diabetes or Not Outcome\",\n",
    "               \"# of Samples\",\n",
    "               )"
   ]
  },
  {
   "attachments": {},
   "cell_type": "markdown",
   "metadata": {},
   "source": [
    "#### Dataset Visualization: Blood Pressure Problems"
   ]
  },
  {
   "cell_type": "code",
   "execution_count": 14,
   "metadata": {},
   "outputs": [
    {
     "data": {
      "image/png": "[encoded data removed]",
      "text/plain": [
       "<Figure size 1200x800 with 1 Axes>"
      ]
     },
     "metadata": {},
     "output_type": "display_data"
    }
   ],
   "source": [
    "barplot_visual(data[\"flight\"],\n",
    "               \"Does Customer Have Blood Pressure Problems?\",\n",
    "               \"Blood Pressure Outcomes\",\n",
    "               \"# of Samples\",\n",
    "               annotation=False\n",
    "               )"
   ]
  },
  {
   "attachments": {},
   "cell_type": "markdown",
   "metadata": {},
   "source": [
    "#### Dataset Visualization: Any Transplants"
   ]
  },
  {
   "cell_type": "code",
   "execution_count": 15,
   "metadata": {},
   "outputs": [
    {
     "data": {
      "image/png": "[encoded data removed]",
      "text/plain": [
       "<Figure size 1200x800 with 1 Axes>"
      ]
     },
     "metadata": {},
     "output_type": "display_data"
    }
   ],
   "source": [
    "barplot_visual(data[\"source_city\"],\n",
    "               \"Does Customer Have Any Transplants?\",\n",
    "               \"Transplants or Not\",\n",
    "               \"# of Samples\",\n",
    "               )"
   ]
  },
  {
   "attachments": {},
   "cell_type": "markdown",
   "metadata": {},
   "source": [
    "#### Dataset Visualization: Any Chronic Diseases"
   ]
  },
  {
   "cell_type": "code",
   "execution_count": 16,
   "metadata": {},
   "outputs": [
    {
     "data": {
      "image/png": "[encoded data removed]",
      "text/plain": [
       "<Figure size 1200x800 with 1 Axes>"
      ]
     },
     "metadata": {},
     "output_type": "display_data"
    }
   ],
   "source": [
    "barplot_visual(data[\"departure_time\"],\n",
    "               \"Does Customer Have Any Chronic Diseases?\",\n",
    "               \"Chronic Diseases or Not\",\n",
    "               \"# of Samples\",\n",
    "               )"
   ]
  },
  {
   "attachments": {},
   "cell_type": "markdown",
   "metadata": {},
   "source": [
    "#### Dataset Visualization: Known Allergies"
   ]
  },
  {
   "cell_type": "code",
   "execution_count": 17,
   "metadata": {},
   "outputs": [
    {
     "data": {
      "image/png": "[encoded data removed]",
      "text/plain": [
       "<Figure size 1200x800 with 1 Axes>"
      ]
     },
     "metadata": {},
     "output_type": "display_data"
    }
   ],
   "source": [
    "barplot_visual(data[\"layovers\"],\n",
    "               \"Does Customer Have Any Known Allergies?\",\n",
    "               \"Known Allergies Or Not\",\n",
    "               \"# of Samples\",\n",
    "               )"
   ]
  },
  {
   "attachments": {},
   "cell_type": "markdown",
   "metadata": {},
   "source": [
    "#### Dataset Visualization: History of Cancer in Family"
   ]
  },
  {
   "cell_type": "code",
   "execution_count": 18,
   "metadata": {},
   "outputs": [
    {
     "data": {
      "image/png": "[encoded data removed]",
      "text/plain": [
       "<Figure size 1200x800 with 1 Axes>"
      ]
     },
     "metadata": {},
     "output_type": "display_data"
    }
   ],
   "source": [
    "barplot_visual(data[\"arrival_time\"],\n",
    "               \"Does Cancer Run in Family?\",\n",
    "               \"Cancer in Family or Not\",\n",
    "               \"# of Samples\",\n",
    "               )"
   ]
  },
  {
   "attachments": {},
   "cell_type": "markdown",
   "metadata": {},
   "source": [
    "#### Dataset Visualization: Number of Major Surgeries"
   ]
  },
  {
   "cell_type": "code",
   "execution_count": 19,
   "metadata": {},
   "outputs": [
    {
     "data": {
      "image/png": "[encoded data removed]",
      "text/plain": [
       "<Figure size 1200x800 with 1 Axes>"
      ]
     },
     "metadata": {},
     "output_type": "display_data"
    }
   ],
   "source": [
    "barplot_visual(data[\"dest_city\"],\n",
    "               \"How Many Major Surgeries Has Customer Had?\",\n",
    "               \"Number of Major Surgeries\",\n",
    "               \"# of Samples\",\n",
    "               )"
   ]
  },
  {
   "attachments": {},
   "cell_type": "markdown",
   "metadata": {},
   "source": [
    "### Exploratory Data Analysis & Preprocessing"
   ]
  },
  {
   "attachments": {},
   "cell_type": "markdown",
   "metadata": {},
   "source": [
    "#### Descriptive Statistics"
   ]
  },
  {
   "cell_type": "code",
   "execution_count": 20,
   "metadata": {},
   "outputs": [
    {
     "data": {
      "text/html": [
       "<div>\n",
       "<style scoped>\n",
       "    .dataframe tbody tr th:only-of-type {\n",
       "        vertical-align: middle;\n",
       "    }\n",
       "\n",
       "    .dataframe tbody tr th {\n",
       "        vertical-align: top;\n",
       "    }\n",
       "\n",
       "    .dataframe thead th {\n",
       "        text-align: right;\n",
       "    }\n",
       "</style>\n",
       "<table border=\"1\" class=\"dataframe\">\n",
       "  <thead>\n",
       "    <tr style=\"text-align: right;\">\n",
       "      <th></th>\n",
       "      <th>airline</th>\n",
       "      <th>flight</th>\n",
       "      <th>source_city</th>\n",
       "      <th>departure_time</th>\n",
       "      <th>layovers</th>\n",
       "      <th>arrival_time</th>\n",
       "      <th>dest_city</th>\n",
       "      <th>flight_duration</th>\n",
       "      <th>days_left</th>\n",
       "      <th>target</th>\n",
       "    </tr>\n",
       "  </thead>\n",
       "  <tbody>\n",
       "    <tr>\n",
       "      <th>count</th>\n",
       "      <td>9045</td>\n",
       "      <td>9045</td>\n",
       "      <td>9045</td>\n",
       "      <td>9045</td>\n",
       "      <td>9045</td>\n",
       "      <td>9045</td>\n",
       "      <td>9045</td>\n",
       "      <td>9045.000000</td>\n",
       "      <td>9045.000000</td>\n",
       "      <td>9045.000000</td>\n",
       "    </tr>\n",
       "    <tr>\n",
       "      <th>unique</th>\n",
       "      <td>6</td>\n",
       "      <td>296</td>\n",
       "      <td>6</td>\n",
       "      <td>6</td>\n",
       "      <td>3</td>\n",
       "      <td>6</td>\n",
       "      <td>6</td>\n",
       "      <td>NaN</td>\n",
       "      <td>NaN</td>\n",
       "      <td>NaN</td>\n",
       "    </tr>\n",
       "    <tr>\n",
       "      <th>top</th>\n",
       "      <td>Vistara</td>\n",
       "      <td>UK-772</td>\n",
       "      <td>Mumbai</td>\n",
       "      <td>Morning</td>\n",
       "      <td>one</td>\n",
       "      <td>Night</td>\n",
       "      <td>Mumbai</td>\n",
       "      <td>NaN</td>\n",
       "      <td>NaN</td>\n",
       "      <td>NaN</td>\n",
       "    </tr>\n",
       "    <tr>\n",
       "      <th>freq</th>\n",
       "      <td>5831</td>\n",
       "      <td>143</td>\n",
       "      <td>1904</td>\n",
       "      <td>2241</td>\n",
       "      <td>8177</td>\n",
       "      <td>2813</td>\n",
       "      <td>1837</td>\n",
       "      <td>NaN</td>\n",
       "      <td>NaN</td>\n",
       "      <td>NaN</td>\n",
       "    </tr>\n",
       "    <tr>\n",
       "      <th>mean</th>\n",
       "      <td>NaN</td>\n",
       "      <td>NaN</td>\n",
       "      <td>NaN</td>\n",
       "      <td>NaN</td>\n",
       "      <td>NaN</td>\n",
       "      <td>NaN</td>\n",
       "      <td>NaN</td>\n",
       "      <td>13.673429</td>\n",
       "      <td>25.814925</td>\n",
       "      <td>52198.478165</td>\n",
       "    </tr>\n",
       "    <tr>\n",
       "      <th>std</th>\n",
       "      <td>NaN</td>\n",
       "      <td>NaN</td>\n",
       "      <td>NaN</td>\n",
       "      <td>NaN</td>\n",
       "      <td>NaN</td>\n",
       "      <td>NaN</td>\n",
       "      <td>NaN</td>\n",
       "      <td>6.839508</td>\n",
       "      <td>13.514093</td>\n",
       "      <td>13179.175493</td>\n",
       "    </tr>\n",
       "    <tr>\n",
       "      <th>min</th>\n",
       "      <td>NaN</td>\n",
       "      <td>NaN</td>\n",
       "      <td>NaN</td>\n",
       "      <td>NaN</td>\n",
       "      <td>NaN</td>\n",
       "      <td>NaN</td>\n",
       "      <td>NaN</td>\n",
       "      <td>1.250000</td>\n",
       "      <td>1.000000</td>\n",
       "      <td>2339.000000</td>\n",
       "    </tr>\n",
       "    <tr>\n",
       "      <th>1%</th>\n",
       "      <td>NaN</td>\n",
       "      <td>NaN</td>\n",
       "      <td>NaN</td>\n",
       "      <td>NaN</td>\n",
       "      <td>NaN</td>\n",
       "      <td>NaN</td>\n",
       "      <td>NaN</td>\n",
       "      <td>1.869600</td>\n",
       "      <td>2.000000</td>\n",
       "      <td>20000.000000</td>\n",
       "    </tr>\n",
       "    <tr>\n",
       "      <th>10%</th>\n",
       "      <td>NaN</td>\n",
       "      <td>NaN</td>\n",
       "      <td>NaN</td>\n",
       "      <td>NaN</td>\n",
       "      <td>NaN</td>\n",
       "      <td>NaN</td>\n",
       "      <td>NaN</td>\n",
       "      <td>5.080000</td>\n",
       "      <td>7.000000</td>\n",
       "      <td>35554.000000</td>\n",
       "    </tr>\n",
       "    <tr>\n",
       "      <th>25%</th>\n",
       "      <td>NaN</td>\n",
       "      <td>NaN</td>\n",
       "      <td>NaN</td>\n",
       "      <td>NaN</td>\n",
       "      <td>NaN</td>\n",
       "      <td>NaN</td>\n",
       "      <td>NaN</td>\n",
       "      <td>8.750000</td>\n",
       "      <td>14.000000</td>\n",
       "      <td>44610.000000</td>\n",
       "    </tr>\n",
       "    <tr>\n",
       "      <th>50%</th>\n",
       "      <td>NaN</td>\n",
       "      <td>NaN</td>\n",
       "      <td>NaN</td>\n",
       "      <td>NaN</td>\n",
       "      <td>NaN</td>\n",
       "      <td>NaN</td>\n",
       "      <td>NaN</td>\n",
       "      <td>13.000000</td>\n",
       "      <td>26.000000</td>\n",
       "      <td>53164.000000</td>\n",
       "    </tr>\n",
       "    <tr>\n",
       "      <th>75%</th>\n",
       "      <td>NaN</td>\n",
       "      <td>NaN</td>\n",
       "      <td>NaN</td>\n",
       "      <td>NaN</td>\n",
       "      <td>NaN</td>\n",
       "      <td>NaN</td>\n",
       "      <td>NaN</td>\n",
       "      <td>17.670000</td>\n",
       "      <td>37.000000</td>\n",
       "      <td>60365.000000</td>\n",
       "    </tr>\n",
       "    <tr>\n",
       "      <th>90%</th>\n",
       "      <td>NaN</td>\n",
       "      <td>NaN</td>\n",
       "      <td>NaN</td>\n",
       "      <td>NaN</td>\n",
       "      <td>NaN</td>\n",
       "      <td>NaN</td>\n",
       "      <td>NaN</td>\n",
       "      <td>24.170000</td>\n",
       "      <td>44.000000</td>\n",
       "      <td>67004.000000</td>\n",
       "    </tr>\n",
       "    <tr>\n",
       "      <th>99%</th>\n",
       "      <td>NaN</td>\n",
       "      <td>NaN</td>\n",
       "      <td>NaN</td>\n",
       "      <td>NaN</td>\n",
       "      <td>NaN</td>\n",
       "      <td>NaN</td>\n",
       "      <td>NaN</td>\n",
       "      <td>27.920000</td>\n",
       "      <td>49.000000</td>\n",
       "      <td>84756.000000</td>\n",
       "    </tr>\n",
       "    <tr>\n",
       "      <th>max</th>\n",
       "      <td>NaN</td>\n",
       "      <td>NaN</td>\n",
       "      <td>NaN</td>\n",
       "      <td>NaN</td>\n",
       "      <td>NaN</td>\n",
       "      <td>NaN</td>\n",
       "      <td>NaN</td>\n",
       "      <td>45.830002</td>\n",
       "      <td>49.000000</td>\n",
       "      <td>117307.000000</td>\n",
       "    </tr>\n",
       "  </tbody>\n",
       "</table>\n",
       "</div>"
      ],
      "text/plain": [
       "        airline  flight source_city departure_time layovers arrival_time   \n",
       "count      9045    9045        9045           9045     9045         9045  \\\n",
       "unique        6     296           6              6        3            6   \n",
       "top     Vistara  UK-772      Mumbai        Morning      one        Night   \n",
       "freq       5831     143        1904           2241     8177         2813   \n",
       "mean        NaN     NaN         NaN            NaN      NaN          NaN   \n",
       "std         NaN     NaN         NaN            NaN      NaN          NaN   \n",
       "min         NaN     NaN         NaN            NaN      NaN          NaN   \n",
       "1%          NaN     NaN         NaN            NaN      NaN          NaN   \n",
       "10%         NaN     NaN         NaN            NaN      NaN          NaN   \n",
       "25%         NaN     NaN         NaN            NaN      NaN          NaN   \n",
       "50%         NaN     NaN         NaN            NaN      NaN          NaN   \n",
       "75%         NaN     NaN         NaN            NaN      NaN          NaN   \n",
       "90%         NaN     NaN         NaN            NaN      NaN          NaN   \n",
       "99%         NaN     NaN         NaN            NaN      NaN          NaN   \n",
       "max         NaN     NaN         NaN            NaN      NaN          NaN   \n",
       "\n",
       "       dest_city  flight_duration    days_left         target  \n",
       "count       9045      9045.000000  9045.000000    9045.000000  \n",
       "unique         6              NaN          NaN            NaN  \n",
       "top       Mumbai              NaN          NaN            NaN  \n",
       "freq        1837              NaN          NaN            NaN  \n",
       "mean         NaN        13.673429    25.814925   52198.478165  \n",
       "std          NaN         6.839508    13.514093   13179.175493  \n",
       "min          NaN         1.250000     1.000000    2339.000000  \n",
       "1%           NaN         1.869600     2.000000   20000.000000  \n",
       "10%          NaN         5.080000     7.000000   35554.000000  \n",
       "25%          NaN         8.750000    14.000000   44610.000000  \n",
       "50%          NaN        13.000000    26.000000   53164.000000  \n",
       "75%          NaN        17.670000    37.000000   60365.000000  \n",
       "90%          NaN        24.170000    44.000000   67004.000000  \n",
       "99%          NaN        27.920000    49.000000   84756.000000  \n",
       "max          NaN        45.830002    49.000000  117307.000000  "
      ]
     },
     "execution_count": 20,
     "metadata": {},
     "output_type": "execute_result"
    }
   ],
   "source": [
    "data.describe(percentiles=[0.01, \n",
    "                           0.10, \n",
    "                           0.25, \n",
    "                           0.50, \n",
    "                           0.75, \n",
    "                           0.90,\n",
    "                           0.99], \n",
    "              include='all'\n",
    "              )"
   ]
  },
  {
   "attachments": {},
   "cell_type": "markdown",
   "metadata": {},
   "source": [
    "### Prepare Shared Pipeline Data & Stages/Steps"
   ]
  },
  {
   "attachments": {},
   "cell_type": "markdown",
   "metadata": {},
   "source": [
    "#### Split Dataset into Training & Testing Datasets"
   ]
  },
  {
   "cell_type": "code",
   "execution_count": 21,
   "metadata": {},
   "outputs": [
    {
     "name": "stdout",
     "output_type": "stream",
     "text": [
      "Training Inputs Dataset Shape: (9045, 9)\n",
      "Training Outputs Dataset Shape: (9045,)\n"
     ]
    }
   ],
   "source": [
    "y = data['target']\n",
    "X = data.drop(columns=['target'], axis=1)\n",
    "\n",
    "print(f\"Training Inputs Dataset Shape: {X.shape}\")\n",
    "print(f\"Training Outputs Dataset Shape: {y.shape}\")"
   ]
  },
  {
   "attachments": {},
   "cell_type": "markdown",
   "metadata": {},
   "source": [
    "#### Define Column Lists for Transformers (Pipeline Stages) & Transform to Integer Values"
   ]
  },
  {
   "cell_type": "code",
   "execution_count": 22,
   "metadata": {},
   "outputs": [
    {
     "data": {
      "text/plain": [
       "['airline',\n",
       " 'flight',\n",
       " 'source_city',\n",
       " 'departure_time',\n",
       " 'layovers',\n",
       " 'arrival_time',\n",
       " 'dest_city',\n",
       " 'days_left']"
      ]
     },
     "execution_count": 22,
     "metadata": {},
     "output_type": "execute_result"
    }
   ],
   "source": [
    "numerical_features = [\"flight_duration\"]\n",
    "\n",
    "nominal_features = [x for x in data.columns if x not in numerical_features and x != 'target']\n",
    "\n",
    "nominal_features"
   ]
  },
  {
   "attachments": {},
   "cell_type": "markdown",
   "metadata": {},
   "source": [
    "#### Remove Outliers"
   ]
  },
  {
   "cell_type": "code",
   "execution_count": 23,
   "metadata": {},
   "outputs": [],
   "source": [
    "# Remove outliers using the 'IQR * 1.5' rule\n",
    "def remove_outliers(df, features_to_remove):\n",
    "    df = pd.DataFrame(df).copy()\n",
    "    for feat in features_to_remove:\n",
    "        x = df[feat]\n",
    "        q1, q3 = x.quantile([0.25, 0.75])\n",
    "        iqr = q3-q1\n",
    "        ul = q3 + (iqr * 1.5)\n",
    "        ll = q1 - (iqr * 1.5)\n",
    "        neo_df = df[(df[feat] >= ll) | (df[feat] <= ul)]\n",
    "    return neo_df\n",
    "\n",
    "outlier_remover = FunctionTransformer(remove_outliers, \n",
    "                                      kw_args={\n",
    "                                          'features_to_remove': numerical_features\n",
    "                                          }\n",
    "                                      )"
   ]
  },
  {
   "attachments": {},
   "cell_type": "markdown",
   "metadata": {},
   "source": [
    "#### Create Column Transformer"
   ]
  },
  {
   "cell_type": "code",
   "execution_count": 24,
   "metadata": {},
   "outputs": [],
   "source": [
    "encoder_col_transformer = ColumnTransformer(\n",
    "    [\n",
    "        (\n",
    "            \"remove_outliers\",\n",
    "            outlier_remover,\n",
    "            numerical_features\n",
    "        ),\n",
    "        (\n",
    "            'ohe', \n",
    "            OneHotEncoder(handle_unknown='ignore',\n",
    "                          dtype=np.float64), \n",
    "            nominal_features)\n",
    "    ], \n",
    "    remainder='passthrough')"
   ]
  },
  {
   "attachments": {},
   "cell_type": "markdown",
   "metadata": {},
   "source": [
    "#### Metrics Evaluation Method"
   ]
  },
  {
   "cell_type": "code",
   "execution_count": 25,
   "metadata": {},
   "outputs": [],
   "source": [
    "regression_metric_names = ('explained_variance', \n",
    "                           'neg_mean_absolute_error', \n",
    "                           'neg_root_mean_squared_error', \n",
    "                           )\n",
    "\n",
    "def regression_eval(model_name: str,\n",
    "                    scores: tuple(),\n",
    "                    ) -> None:\n",
    "    '''\n",
    "    Calculate & display metrics for a regression analysis.\n",
    "    '''\n",
    "        \n",
    "    metrics_titles = [\"Explained Variance\", \n",
    "                      \"Mean Absolute Error\", \n",
    "                      \"Root Mean Squared Error\", \n",
    "                      ]\n",
    "    \n",
    "    print(\"+------------------------------------------------+\")\n",
    "    print(\"|  \" + (\"Training \" + model_name).center(44) + \"  |\")\n",
    "    print(\"+------------------------------------------------+\")\n",
    "    print(\"|  %s  |  %s   | \" % (\"Metric\".rjust(29), \"Value\".ljust(9)))\n",
    "    print(\"+------------------------------------------------+\")\n",
    "    for x in range(len(regression_metric_names)):\n",
    "        \n",
    "        name = \"train_\" + regression_metric_names[x]\n",
    "        \n",
    "        score = mean(scores[name])\n",
    "        \n",
    "        if score < 0:\n",
    "            score = score * -1\n",
    "        \n",
    "        print(\"| %s  |  %s   |\" % ((\"Train \" + metrics_titles[x]).rjust(30), str(round(score, 3)).ljust(9)))\n",
    "        print(\"+------------------------------------------------+\")\n",
    "    \n",
    "    print()\n",
    "    \n",
    "    print(\"+------------------------------------------------+\")\n",
    "    print(\"|  \" + (\"Testing \" + model_name).center(44) + \"  |\")\n",
    "    print(\"+------------------------------------------------+\")\n",
    "    print(\"|  %s  |  %s   | \" % (\"Metric\".rjust(29), \"Value\".ljust(9)))\n",
    "    print(\"+------------------------------------------------+\")\n",
    "    for x in range(len(regression_metric_names)):\n",
    "        name = \"test_\" + regression_metric_names[x]\n",
    "        score = mean(scores[name])\n",
    "        \n",
    "        if score < 0:\n",
    "            score = score * -1\n",
    "        \n",
    "        print(\"| %s  |  %s   |\" % ((\"Test \" + metrics_titles[x]).rjust(30), str(round(score, 3)).ljust(9)))\n",
    "        print(\"+------------------------------------------------+\")"
   ]
  },
  {
   "attachments": {},
   "cell_type": "markdown",
   "metadata": {},
   "source": [
    "### SVM Regression (SVR)"
   ]
  },
  {
   "attachments": {},
   "cell_type": "markdown",
   "metadata": {},
   "source": [
    "#### Define Pipeline"
   ]
  },
  {
   "cell_type": "code",
   "execution_count": 26,
   "metadata": {},
   "outputs": [],
   "source": [
    "def svm_regression():\n",
    "    \"\"\"\n",
    "    This function creates the SVM Regression.\n",
    "    \"\"\"\n",
    "    svmr_pipe = Pipeline(\n",
    "        [\n",
    "            (\n",
    "                'encoder_column_transformer', \n",
    "                encoder_col_transformer),\n",
    "            (\n",
    "                \"scaler\",\n",
    "                StandardScaler(with_mean=False)\n",
    "            ),\n",
    "            (\n",
    "                'svm_reg', \n",
    "                SVR(kernel='poly', \n",
    "                    degree=9,\n",
    "                    C=0.95\n",
    "                    )\n",
    "             ),\n",
    "        ]\n",
    "    )\n",
    "    \n",
    "    return svmr_pipe"
   ]
  },
  {
   "attachments": {},
   "cell_type": "markdown",
   "metadata": {},
   "source": [
    "#### Define Model"
   ]
  },
  {
   "cell_type": "code",
   "execution_count": 27,
   "metadata": {},
   "outputs": [
    {
     "data": {
      "text/plain": [
       "{'encoder_column_transformer': ColumnTransformer(remainder='passthrough',\n",
       "                   transformers=[('remove_outliers',\n",
       "                                  FunctionTransformer(func=<function remove_outliers at 0x7f9cb9a30820>,\n",
       "                                                      kw_args={'features_to_remove': ['flight_duration']}),\n",
       "                                  ['flight_duration']),\n",
       "                                 ('ohe', OneHotEncoder(handle_unknown='ignore'),\n",
       "                                  ['airline', 'flight', 'source_city',\n",
       "                                   'departure_time', 'layovers', 'arrival_time',\n",
       "                                   'dest_city', 'days_left'])]),\n",
       " 'scaler': StandardScaler(with_mean=False),\n",
       " 'svm_reg': SVR(C=0.95, degree=9, kernel='poly')}"
      ]
     },
     "execution_count": 27,
     "metadata": {},
     "output_type": "execute_result"
    }
   ],
   "source": [
    "svmr = svm_regression()\n",
    "\n",
    "svmr.named_steps"
   ]
  },
  {
   "attachments": {},
   "cell_type": "markdown",
   "metadata": {},
   "source": [
    "#### Fit Algorithm to Dataset"
   ]
  },
  {
   "cell_type": "code",
   "execution_count": 28,
   "metadata": {},
   "outputs": [],
   "source": [
    "svmr_scores = cross_validate(svmr, \n",
    "                        X, \n",
    "                        y, \n",
    "                        cv=10,\n",
    "                        n_jobs=4,\n",
    "                        scoring=regression_metric_names,\n",
    "                        return_train_score=True)"
   ]
  },
  {
   "attachments": {},
   "cell_type": "markdown",
   "metadata": {},
   "source": [
    "#### Metrics Evaluation"
   ]
  },
  {
   "cell_type": "code",
   "execution_count": 29,
   "metadata": {},
   "outputs": [
    {
     "name": "stdout",
     "output_type": "stream",
     "text": [
      "+------------------------------------------------+\n",
      "|            Training SVM Regression             |\n",
      "+------------------------------------------------+\n",
      "|                         Metric  |  Value       | \n",
      "+------------------------------------------------+\n",
      "|       Train Explained Variance  |  0.105       |\n",
      "+------------------------------------------------+\n",
      "|      Train Mean Absolute Error  |  8937.71     |\n",
      "+------------------------------------------------+\n",
      "|  Train Root Mean Squared Error  |  12482.88    |\n",
      "+------------------------------------------------+\n",
      "\n",
      "+------------------------------------------------+\n",
      "|             Testing SVM Regression             |\n",
      "+------------------------------------------------+\n",
      "|                         Metric  |  Value       | \n",
      "+------------------------------------------------+\n",
      "|        Test Explained Variance  |  0.061       |\n",
      "+------------------------------------------------+\n",
      "|       Test Mean Absolute Error  |  9234.353    |\n",
      "+------------------------------------------------+\n",
      "|   Test Root Mean Squared Error  |  12785.328   |\n",
      "+------------------------------------------------+\n"
     ]
    }
   ],
   "source": [
    "regression_eval(\"SVM Regression\", \n",
    "               svmr_scores)"
   ]
  },
  {
   "attachments": {},
   "cell_type": "markdown",
   "metadata": {},
   "source": [
    "### ElasticNet Regression"
   ]
  },
  {
   "attachments": {},
   "cell_type": "markdown",
   "metadata": {},
   "source": [
    "#### Define Pipeline"
   ]
  },
  {
   "cell_type": "code",
   "execution_count": 30,
   "metadata": {},
   "outputs": [],
   "source": [
    "def elastic_net_regression():\n",
    "    \"\"\"\n",
    "    This function creates the ElasticNet Regression.\n",
    "    \"\"\"\n",
    "    en_reg_pipe = Pipeline(\n",
    "        [\n",
    "            (\n",
    "                'encoder_column_transformer', \n",
    "                encoder_col_transformer\n",
    "            ),\n",
    "            (\n",
    "                'scaler', \n",
    "                StandardScaler(with_mean=False),\n",
    "            ),\n",
    "            (\n",
    "                'elastic_net_reg', \n",
    "                ElasticNet(random_state=42, \n",
    "                           max_iter=2000, \n",
    "                           alpha=0.01\n",
    "                           )\n",
    "             ),\n",
    "        ]\n",
    "    )\n",
    "    \n",
    "    return en_reg_pipe"
   ]
  },
  {
   "attachments": {},
   "cell_type": "markdown",
   "metadata": {},
   "source": [
    "#### Define Model"
   ]
  },
  {
   "cell_type": "code",
   "execution_count": 31,
   "metadata": {},
   "outputs": [
    {
     "data": {
      "text/plain": [
       "{'encoder_column_transformer': ColumnTransformer(remainder='passthrough',\n",
       "                   transformers=[('remove_outliers',\n",
       "                                  FunctionTransformer(func=<function remove_outliers at 0x7f9cb9a30820>,\n",
       "                                                      kw_args={'features_to_remove': ['flight_duration']}),\n",
       "                                  ['flight_duration']),\n",
       "                                 ('ohe', OneHotEncoder(handle_unknown='ignore'),\n",
       "                                  ['airline', 'flight', 'source_city',\n",
       "                                   'departure_time', 'layovers', 'arrival_time',\n",
       "                                   'dest_city', 'days_left'])]),\n",
       " 'scaler': StandardScaler(with_mean=False),\n",
       " 'elastic_net_reg': ElasticNet(alpha=0.01, max_iter=2000, random_state=42)}"
      ]
     },
     "execution_count": 31,
     "metadata": {},
     "output_type": "execute_result"
    }
   ],
   "source": [
    "enr = elastic_net_regression()\n",
    "\n",
    "enr.named_steps"
   ]
  },
  {
   "attachments": {},
   "cell_type": "markdown",
   "metadata": {},
   "source": [
    "#### Fit Algorithm to Dataset"
   ]
  },
  {
   "cell_type": "code",
   "execution_count": 32,
   "metadata": {},
   "outputs": [],
   "source": [
    "enr_scores = cross_validate(enr, \n",
    "                           X, \n",
    "                           y, \n",
    "                           n_jobs=-1,\n",
    "                           scoring=regression_metric_names,\n",
    "                           return_train_score=True)"
   ]
  },
  {
   "attachments": {},
   "cell_type": "markdown",
   "metadata": {},
   "source": [
    "#### Metrics Evaluation"
   ]
  },
  {
   "cell_type": "code",
   "execution_count": 33,
   "metadata": {},
   "outputs": [
    {
     "name": "stdout",
     "output_type": "stream",
     "text": [
      "+------------------------------------------------+\n",
      "|         Training ElasticNet Regression         |\n",
      "+------------------------------------------------+\n",
      "|                         Metric  |  Value       | \n",
      "+------------------------------------------------+\n",
      "|       Train Explained Variance  |  0.74        |\n",
      "+------------------------------------------------+\n",
      "|      Train Mean Absolute Error  |  4583.265    |\n",
      "+------------------------------------------------+\n",
      "|  Train Root Mean Squared Error  |  6722.595    |\n",
      "+------------------------------------------------+\n",
      "\n",
      "+------------------------------------------------+\n",
      "|         Testing ElasticNet Regression          |\n",
      "+------------------------------------------------+\n",
      "|                         Metric  |  Value       | \n",
      "+------------------------------------------------+\n",
      "|        Test Explained Variance  |  0.708       |\n",
      "+------------------------------------------------+\n",
      "|       Test Mean Absolute Error  |  4856.35     |\n",
      "+------------------------------------------------+\n",
      "|   Test Root Mean Squared Error  |  7122.315    |\n",
      "+------------------------------------------------+\n"
     ]
    }
   ],
   "source": [
    "regression_eval(\"ElasticNet Regression\", \n",
    "                       enr_scores)"
   ]
  },
  {
   "attachments": {},
   "cell_type": "markdown",
   "metadata": {},
   "source": [
    "### Kernel Ridge Regression"
   ]
  },
  {
   "attachments": {},
   "cell_type": "markdown",
   "metadata": {},
   "source": [
    "#### Define Pipeline"
   ]
  },
  {
   "cell_type": "code",
   "execution_count": 34,
   "metadata": {},
   "outputs": [],
   "source": [
    "def kernel_ridge_regression():\n",
    "    \"\"\"\n",
    "    This function creates the Kernel Ridge Regression.\n",
    "    \"\"\"\n",
    "    kernel_ridge_pipe = Pipeline(\n",
    "        [\n",
    "            (\n",
    "                'encoder_column_transformer', \n",
    "                encoder_col_transformer\n",
    "            ),\n",
    "            (\n",
    "                \"scaler\",\n",
    "                StandardScaler(with_mean=False)\n",
    "            ),\n",
    "            (\n",
    "                'kernel_ridge_reg', \n",
    "                KernelRidge(kernel='poly')\n",
    "             ),\n",
    "        ]\n",
    "    )\n",
    "    \n",
    "    return kernel_ridge_pipe"
   ]
  },
  {
   "attachments": {},
   "cell_type": "markdown",
   "metadata": {},
   "source": [
    "#### Define Model"
   ]
  },
  {
   "cell_type": "code",
   "execution_count": 35,
   "metadata": {},
   "outputs": [
    {
     "data": {
      "text/plain": [
       "{'encoder_column_transformer': ColumnTransformer(remainder='passthrough',\n",
       "                   transformers=[('remove_outliers',\n",
       "                                  FunctionTransformer(func=<function remove_outliers at 0x7f9cb9a30820>,\n",
       "                                                      kw_args={'features_to_remove': ['flight_duration']}),\n",
       "                                  ['flight_duration']),\n",
       "                                 ('ohe', OneHotEncoder(handle_unknown='ignore'),\n",
       "                                  ['airline', 'flight', 'source_city',\n",
       "                                   'departure_time', 'layovers', 'arrival_time',\n",
       "                                   'dest_city', 'days_left'])]),\n",
       " 'scaler': StandardScaler(with_mean=False),\n",
       " 'kernel_ridge_reg': KernelRidge(kernel='poly')}"
      ]
     },
     "execution_count": 35,
     "metadata": {},
     "output_type": "execute_result"
    }
   ],
   "source": [
    "kr_reg = kernel_ridge_regression()\n",
    "\n",
    "kr_reg.named_steps"
   ]
  },
  {
   "attachments": {},
   "cell_type": "markdown",
   "metadata": {},
   "source": [
    "#### Fit Algorithm to Dataset"
   ]
  },
  {
   "cell_type": "code",
   "execution_count": 36,
   "metadata": {},
   "outputs": [],
   "source": [
    "kr_reg_scores = cross_validate(kr_reg, \n",
    "                              X, \n",
    "                              y, \n",
    "                              n_jobs=-1,\n",
    "                              scoring=regression_metric_names,\n",
    "                              return_train_score=True)"
   ]
  },
  {
   "attachments": {},
   "cell_type": "markdown",
   "metadata": {},
   "source": [
    "#### Metrics Evaluation"
   ]
  },
  {
   "cell_type": "code",
   "execution_count": 37,
   "metadata": {},
   "outputs": [
    {
     "name": "stdout",
     "output_type": "stream",
     "text": [
      "+------------------------------------------------+\n",
      "|        Training Kernel Ridge Regression        |\n",
      "+------------------------------------------------+\n",
      "|                         Metric  |  Value       | \n",
      "+------------------------------------------------+\n",
      "|       Train Explained Variance  |  0.906       |\n",
      "+------------------------------------------------+\n",
      "|      Train Mean Absolute Error  |  2357.875    |\n",
      "+------------------------------------------------+\n",
      "|  Train Root Mean Squared Error  |  4041.365    |\n",
      "+------------------------------------------------+\n",
      "\n",
      "+------------------------------------------------+\n",
      "|        Testing Kernel Ridge Regression         |\n",
      "+------------------------------------------------+\n",
      "|                         Metric  |  Value       | \n",
      "+------------------------------------------------+\n",
      "|        Test Explained Variance  |  0.768       |\n",
      "+------------------------------------------------+\n",
      "|       Test Mean Absolute Error  |  3857.592    |\n",
      "+------------------------------------------------+\n",
      "|   Test Root Mean Squared Error  |  6343.437    |\n",
      "+------------------------------------------------+\n"
     ]
    }
   ],
   "source": [
    "regression_eval(\"Kernel Ridge Regression\", \n",
    "                       kr_reg_scores)"
   ]
  },
  {
   "attachments": {},
   "cell_type": "markdown",
   "metadata": {},
   "source": [
    "### Random Forest Regression"
   ]
  },
  {
   "attachments": {},
   "cell_type": "markdown",
   "metadata": {},
   "source": [
    "#### Define Pipeline"
   ]
  },
  {
   "cell_type": "code",
   "execution_count": 38,
   "metadata": {},
   "outputs": [],
   "source": [
    "def random_forest_regression():\n",
    "    \"\"\"\n",
    "    This function creates the Random Forest Regression.\n",
    "    \"\"\"\n",
    "    rfr_pipe = Pipeline(\n",
    "        [\n",
    "            (\n",
    "                'encoder_column_transformer', \n",
    "                encoder_col_transformer),\n",
    "            (\n",
    "                \"scaler\",\n",
    "                StandardScaler(with_mean=False)\n",
    "            ),\n",
    "            (\n",
    "                'random_forest_regressor', \n",
    "                RandomForestRegressor(random_state=42,\n",
    "                                      criterion='poisson', \n",
    "                                      n_estimators=125,\n",
    "                                      max_depth=18\n",
    "                                      )\n",
    "             ),\n",
    "        ]\n",
    "    )\n",
    "    \n",
    "    return rfr_pipe"
   ]
  },
  {
   "attachments": {},
   "cell_type": "markdown",
   "metadata": {},
   "source": [
    "#### Define Model"
   ]
  },
  {
   "cell_type": "code",
   "execution_count": 39,
   "metadata": {},
   "outputs": [
    {
     "data": {
      "text/plain": [
       "{'encoder_column_transformer': ColumnTransformer(remainder='passthrough',\n",
       "                   transformers=[('remove_outliers',\n",
       "                                  FunctionTransformer(func=<function remove_outliers at 0x7f9cb9a30820>,\n",
       "                                                      kw_args={'features_to_remove': ['flight_duration']}),\n",
       "                                  ['flight_duration']),\n",
       "                                 ('ohe', OneHotEncoder(handle_unknown='ignore'),\n",
       "                                  ['airline', 'flight', 'source_city',\n",
       "                                   'departure_time', 'layovers', 'arrival_time',\n",
       "                                   'dest_city', 'days_left'])]),\n",
       " 'scaler': StandardScaler(with_mean=False),\n",
       " 'random_forest_regressor': RandomForestRegressor(criterion='poisson', max_depth=18, n_estimators=125,\n",
       "                       random_state=42)}"
      ]
     },
     "execution_count": 39,
     "metadata": {},
     "output_type": "execute_result"
    }
   ],
   "source": [
    "rfr = random_forest_regression()\n",
    "\n",
    "rfr.named_steps"
   ]
  },
  {
   "attachments": {},
   "cell_type": "markdown",
   "metadata": {},
   "source": [
    "#### Fit Classifier to Dataset"
   ]
  },
  {
   "cell_type": "code",
   "execution_count": 40,
   "metadata": {},
   "outputs": [],
   "source": [
    "rfr_scores = cross_validate(rfr, \n",
    "                              X, \n",
    "                              y, \n",
    "                              n_jobs=-1,\n",
    "                              cv=10,\n",
    "                              scoring=regression_metric_names,\n",
    "                              return_train_score=True)"
   ]
  },
  {
   "attachments": {},
   "cell_type": "markdown",
   "metadata": {},
   "source": [
    "#### Evaluation Metrics"
   ]
  },
  {
   "cell_type": "code",
   "execution_count": 41,
   "metadata": {},
   "outputs": [
    {
     "name": "stdout",
     "output_type": "stream",
     "text": [
      "+------------------------------------------------+\n",
      "|       Training Random Forest Regression        |\n",
      "+------------------------------------------------+\n",
      "|                         Metric  |  Value       | \n",
      "+------------------------------------------------+\n",
      "|       Train Explained Variance  |  0.91        |\n",
      "+------------------------------------------------+\n",
      "|      Train Mean Absolute Error  |  2399.323    |\n",
      "+------------------------------------------------+\n",
      "|  Train Root Mean Squared Error  |  3949.743    |\n",
      "+------------------------------------------------+\n",
      "\n",
      "+------------------------------------------------+\n",
      "|        Testing Random Forest Regression        |\n",
      "+------------------------------------------------+\n",
      "|                         Metric  |  Value       | \n",
      "+------------------------------------------------+\n",
      "|        Test Explained Variance  |  0.797       |\n",
      "+------------------------------------------------+\n",
      "|       Test Mean Absolute Error  |  3375.927    |\n",
      "+------------------------------------------------+\n",
      "|   Test Root Mean Squared Error  |  5913.731    |\n",
      "+------------------------------------------------+\n"
     ]
    }
   ],
   "source": [
    "regression_eval(\"Random Forest Regression\", \n",
    "                rfr_scores)"
   ]
  },
  {
   "attachments": {},
   "cell_type": "markdown",
   "metadata": {},
   "source": [
    "### SGD Regression"
   ]
  },
  {
   "attachments": {},
   "cell_type": "markdown",
   "metadata": {},
   "source": [
    "#### Define Pipeline"
   ]
  },
  {
   "cell_type": "code",
   "execution_count": 42,
   "metadata": {},
   "outputs": [],
   "source": [
    "def sgd_regression():\n",
    "    \"\"\"\n",
    "    This function creates the Random Forest Regression.\n",
    "    \"\"\"\n",
    "    sgdr_pipe = Pipeline(\n",
    "        [\n",
    "            (\n",
    "                'encoder_column_transformer', \n",
    "                encoder_col_transformer\n",
    "            ),\n",
    "            (\n",
    "                \"scaler\",\n",
    "                StandardScaler(with_mean=False)\n",
    "            ),\n",
    "            (\n",
    "                'stochastic_gradient_descent_regressor', \n",
    "                SGDRegressor(random_state=42,\n",
    "                             loss='huber',\n",
    "                             penalty='l2',\n",
    "                             alpha=0.0001,\n",
    "                             l1_ratio=0.50,\n",
    "                             max_iter=2500,\n",
    "                             learning_rate='invscaling',\n",
    "                             eta0=2.5,\n",
    "                             power_t=0.01\n",
    "                             )\n",
    "             ),\n",
    "        ]\n",
    "    )\n",
    "    \n",
    "    return sgdr_pipe"
   ]
  },
  {
   "attachments": {},
   "cell_type": "markdown",
   "metadata": {},
   "source": [
    "#### Fit Model"
   ]
  },
  {
   "cell_type": "code",
   "execution_count": 43,
   "metadata": {},
   "outputs": [
    {
     "data": {
      "text/plain": [
       "{'encoder_column_transformer': ColumnTransformer(remainder='passthrough',\n",
       "                   transformers=[('remove_outliers',\n",
       "                                  FunctionTransformer(func=<function remove_outliers at 0x7f9cb9a30820>,\n",
       "                                                      kw_args={'features_to_remove': ['flight_duration']}),\n",
       "                                  ['flight_duration']),\n",
       "                                 ('ohe', OneHotEncoder(handle_unknown='ignore'),\n",
       "                                  ['airline', 'flight', 'source_city',\n",
       "                                   'departure_time', 'layovers', 'arrival_time',\n",
       "                                   'dest_city', 'days_left'])]),\n",
       " 'scaler': StandardScaler(with_mean=False),\n",
       " 'stochastic_gradient_descent_regressor': SGDRegressor(eta0=2.5, l1_ratio=0.5, loss='huber', max_iter=2500, power_t=0.01,\n",
       "              random_state=42)}"
      ]
     },
     "execution_count": 43,
     "metadata": {},
     "output_type": "execute_result"
    }
   ],
   "source": [
    "sgdr = sgd_regression()\n",
    "\n",
    "sgdr.named_steps"
   ]
  },
  {
   "attachments": {},
   "cell_type": "markdown",
   "metadata": {},
   "source": [
    "#### Fit Classifier to Dataset"
   ]
  },
  {
   "cell_type": "code",
   "execution_count": 44,
   "metadata": {},
   "outputs": [],
   "source": [
    "sgdr_scores = cross_validate(sgdr, \n",
    "                              X, \n",
    "                              y, \n",
    "                              n_jobs=-1,\n",
    "                              cv=10,\n",
    "                              scoring=regression_metric_names,\n",
    "                              return_train_score=True)"
   ]
  },
  {
   "attachments": {},
   "cell_type": "markdown",
   "metadata": {},
   "source": [
    "#### Evaluation Metrics"
   ]
  },
  {
   "cell_type": "code",
   "execution_count": 45,
   "metadata": {},
   "outputs": [
    {
     "name": "stdout",
     "output_type": "stream",
     "text": [
      "+------------------------------------------------+\n",
      "|  Training Stochastic Grad. Descent Regression  |\n",
      "+------------------------------------------------+\n",
      "|                         Metric  |  Value       | \n",
      "+------------------------------------------------+\n",
      "|       Train Explained Variance  |  0.222       |\n",
      "+------------------------------------------------+\n",
      "|      Train Mean Absolute Error  |  17975.291   |\n",
      "+------------------------------------------------+\n",
      "|  Train Root Mean Squared Error  |  21001.937   |\n",
      "+------------------------------------------------+\n",
      "\n",
      "+------------------------------------------------+\n",
      "|  Testing Stochastic Grad. Descent Regression   |\n",
      "+------------------------------------------------+\n",
      "|                         Metric  |  Value       | \n",
      "+------------------------------------------------+\n",
      "|        Test Explained Variance  |  0.222       |\n",
      "+------------------------------------------------+\n",
      "|       Test Mean Absolute Error  |  17988.641   |\n",
      "+------------------------------------------------+\n",
      "|   Test Root Mean Squared Error  |  20999.125   |\n",
      "+------------------------------------------------+\n"
     ]
    }
   ],
   "source": [
    "regression_eval(\"Stochastic Grad. Descent Regression\", \n",
    "                       sgdr_scores)"
   ]
  },
  {
   "attachments": {},
   "cell_type": "markdown",
   "metadata": {},
   "source": [
    "### AdaBoost Regression"
   ]
  },
  {
   "attachments": {},
   "cell_type": "markdown",
   "metadata": {},
   "source": [
    "#### Define Pipeline"
   ]
  },
  {
   "cell_type": "code",
   "execution_count": 46,
   "metadata": {},
   "outputs": [],
   "source": [
    "def adaboost_regression():\n",
    "    \"\"\"\n",
    "    This function creates the AdaBoost Regression.\n",
    "    \"\"\"\n",
    "    adab_pipe = Pipeline(\n",
    "        [\n",
    "            (\n",
    "                'encoder_column_transformer', \n",
    "                encoder_col_transformer\n",
    "            ),\n",
    "            (\n",
    "                \"scaler\",\n",
    "                StandardScaler(with_mean=False)\n",
    "            ),\n",
    "            (\n",
    "                'ada_boost_reg', \n",
    "                AdaBoostRegressor(\n",
    "                    random_state=42,\n",
    "                    estimator=RandomForestRegressor(\n",
    "                        max_depth=10\n",
    "                        ),\n",
    "                    loss='exponential'\n",
    "                    )\n",
    "             ),\n",
    "        ]\n",
    "        )\n",
    "    \n",
    "    return adab_pipe"
   ]
  },
  {
   "attachments": {},
   "cell_type": "markdown",
   "metadata": {},
   "source": [
    "#### Fit Model"
   ]
  },
  {
   "cell_type": "code",
   "execution_count": 47,
   "metadata": {},
   "outputs": [
    {
     "data": {
      "text/plain": [
       "{'encoder_column_transformer': ColumnTransformer(remainder='passthrough',\n",
       "                   transformers=[('remove_outliers',\n",
       "                                  FunctionTransformer(func=<function remove_outliers at 0x7f9cb9a30820>,\n",
       "                                                      kw_args={'features_to_remove': ['flight_duration']}),\n",
       "                                  ['flight_duration']),\n",
       "                                 ('ohe', OneHotEncoder(handle_unknown='ignore'),\n",
       "                                  ['airline', 'flight', 'source_city',\n",
       "                                   'departure_time', 'layovers', 'arrival_time',\n",
       "                                   'dest_city', 'days_left'])]),\n",
       " 'scaler': StandardScaler(with_mean=False),\n",
       " 'ada_boost_reg': AdaBoostRegressor(estimator=RandomForestRegressor(max_depth=10),\n",
       "                   loss='exponential', random_state=42)}"
      ]
     },
     "execution_count": 47,
     "metadata": {},
     "output_type": "execute_result"
    }
   ],
   "source": [
    "adabr = adaboost_regression()\n",
    "\n",
    "adabr.named_steps"
   ]
  },
  {
   "attachments": {},
   "cell_type": "markdown",
   "metadata": {},
   "source": [
    "#### Fit Classifier to Dataset"
   ]
  },
  {
   "cell_type": "code",
   "execution_count": 48,
   "metadata": {},
   "outputs": [],
   "source": [
    "adabr_scores = cross_validate(adabr, \n",
    "                           X, \n",
    "                           y, \n",
    "                           n_jobs=-1,\n",
    "                           cv=10,\n",
    "                           scoring=regression_metric_names,\n",
    "                           return_train_score=True)"
   ]
  },
  {
   "attachments": {},
   "cell_type": "markdown",
   "metadata": {},
   "source": [
    "#### Evaluation Metrics"
   ]
  },
  {
   "cell_type": "code",
   "execution_count": 49,
   "metadata": {},
   "outputs": [
    {
     "name": "stdout",
     "output_type": "stream",
     "text": [
      "+------------------------------------------------+\n",
      "|          Training AdaBoost Regression          |\n",
      "+------------------------------------------------+\n",
      "|                         Metric  |  Value       | \n",
      "+------------------------------------------------+\n",
      "|       Train Explained Variance  |  0.684       |\n",
      "+------------------------------------------------+\n",
      "|      Train Mean Absolute Error  |  6102.844    |\n",
      "+------------------------------------------------+\n",
      "|  Train Root Mean Squared Error  |  7558.291    |\n",
      "+------------------------------------------------+\n",
      "\n",
      "+------------------------------------------------+\n",
      "|          Testing AdaBoost Regression           |\n",
      "+------------------------------------------------+\n",
      "|                         Metric  |  Value       | \n",
      "+------------------------------------------------+\n",
      "|        Test Explained Variance  |  0.602       |\n",
      "+------------------------------------------------+\n",
      "|       Test Mean Absolute Error  |  6488.708    |\n",
      "+------------------------------------------------+\n",
      "|   Test Root Mean Squared Error  |  8447.271    |\n",
      "+------------------------------------------------+\n"
     ]
    }
   ],
   "source": [
    "regression_eval(\"AdaBoost Regression\", \n",
    "                       adabr_scores)"
   ]
  },
  {
   "attachments": {},
   "cell_type": "markdown",
   "metadata": {},
   "source": [
    "### Stacking Regression"
   ]
  },
  {
   "attachments": {},
   "cell_type": "markdown",
   "metadata": {},
   "source": [
    "#### Define Estimators"
   ]
  },
  {
   "cell_type": "code",
   "execution_count": 50,
   "metadata": {},
   "outputs": [],
   "source": [
    "estimators = [\n",
    "    (\n",
    "        'random_forest_reg',\n",
    "        rfr\n",
    "    ),\n",
    "    (\n",
    "        'adaboost_reg',\n",
    "        adabr\n",
    "    )\n",
    "]"
   ]
  },
  {
   "attachments": {},
   "cell_type": "markdown",
   "metadata": {},
   "source": [
    "#### Fit Model"
   ]
  },
  {
   "cell_type": "code",
   "execution_count": 51,
   "metadata": {},
   "outputs": [],
   "source": [
    "stacking_reg = StackingRegressor(\n",
    "    estimators=estimators,\n",
    "    final_estimator=KernelRidge(kernel='poly'),\n",
    "    n_jobs=-1\n",
    ")"
   ]
  },
  {
   "attachments": {},
   "cell_type": "markdown",
   "metadata": {},
   "source": [
    "#### Fit Classifier to Training Dataset"
   ]
  },
  {
   "cell_type": "code",
   "execution_count": 52,
   "metadata": {},
   "outputs": [
    {
     "name": "stderr",
     "output_type": "stream",
     "text": [
      "/Users/briandunn/Documents/deep_learning/dl/lib/python3.9/site-packages/sklearn/linear_model/_ridge.py:255: UserWarning: Singular matrix in solving dual problem. Using least-squares solution instead.\n",
      "  warnings.warn(\n",
      "/Users/briandunn/Documents/deep_learning/dl/lib/python3.9/site-packages/sklearn/linear_model/_ridge.py:255: UserWarning: Singular matrix in solving dual problem. Using least-squares solution instead.\n",
      "  warnings.warn(\n",
      "/Users/briandunn/Documents/deep_learning/dl/lib/python3.9/site-packages/sklearn/linear_model/_ridge.py:255: UserWarning: Singular matrix in solving dual problem. Using least-squares solution instead.\n",
      "  warnings.warn(\n",
      "/Users/briandunn/Documents/deep_learning/dl/lib/python3.9/site-packages/sklearn/linear_model/_ridge.py:255: UserWarning: Singular matrix in solving dual problem. Using least-squares solution instead.\n",
      "  warnings.warn(\n",
      "/Users/briandunn/Documents/deep_learning/dl/lib/python3.9/site-packages/sklearn/linear_model/_ridge.py:255: UserWarning: Singular matrix in solving dual problem. Using least-squares solution instead.\n",
      "  warnings.warn(\n",
      "/Users/briandunn/Documents/deep_learning/dl/lib/python3.9/site-packages/sklearn/linear_model/_ridge.py:255: UserWarning: Singular matrix in solving dual problem. Using least-squares solution instead.\n",
      "  warnings.warn(\n",
      "/Users/briandunn/Documents/deep_learning/dl/lib/python3.9/site-packages/sklearn/linear_model/_ridge.py:255: UserWarning: Singular matrix in solving dual problem. Using least-squares solution instead.\n",
      "  warnings.warn(\n",
      "/Users/briandunn/Documents/deep_learning/dl/lib/python3.9/site-packages/sklearn/linear_model/_ridge.py:255: UserWarning: Singular matrix in solving dual problem. Using least-squares solution instead.\n",
      "  warnings.warn(\n",
      "/Users/briandunn/Documents/deep_learning/dl/lib/python3.9/site-packages/sklearn/linear_model/_ridge.py:255: UserWarning: Singular matrix in solving dual problem. Using least-squares solution instead.\n",
      "  warnings.warn(\n",
      "/Users/briandunn/Documents/deep_learning/dl/lib/python3.9/site-packages/sklearn/linear_model/_ridge.py:255: UserWarning: Singular matrix in solving dual problem. Using least-squares solution instead.\n",
      "  warnings.warn(\n"
     ]
    }
   ],
   "source": [
    "stacking_scores = cross_validate(stacking_reg, \n",
    "                              X, \n",
    "                              y, \n",
    "                              n_jobs=-1,\n",
    "                              cv=10,\n",
    "                              scoring=regression_metric_names,\n",
    "                              return_train_score=True)"
   ]
  },
  {
   "attachments": {},
   "cell_type": "markdown",
   "metadata": {},
   "source": [
    "#### Regression Metrics Evaluation"
   ]
  },
  {
   "cell_type": "code",
   "execution_count": 53,
   "metadata": {},
   "outputs": [
    {
     "name": "stdout",
     "output_type": "stream",
     "text": [
      "+------------------------------------------------+\n",
      "|          Training Stacking Regression          |\n",
      "+------------------------------------------------+\n",
      "|                         Metric  |  Value       | \n",
      "+------------------------------------------------+\n",
      "|       Train Explained Variance  |  0.891       |\n",
      "+------------------------------------------------+\n",
      "|      Train Mean Absolute Error  |  2982.649    |\n",
      "+------------------------------------------------+\n",
      "|  Train Root Mean Squared Error  |  4362.731    |\n",
      "+------------------------------------------------+\n",
      "\n",
      "+------------------------------------------------+\n",
      "|          Testing Stacking Regression           |\n",
      "+------------------------------------------------+\n",
      "|                         Metric  |  Value       | \n",
      "+------------------------------------------------+\n",
      "|        Test Explained Variance  |  0.774       |\n",
      "+------------------------------------------------+\n",
      "|       Test Mean Absolute Error  |  3963.489    |\n",
      "+------------------------------------------------+\n",
      "|   Test Root Mean Squared Error  |  6264.213    |\n",
      "+------------------------------------------------+\n"
     ]
    }
   ],
   "source": [
    "regression_eval(\"Stacking Regression\", \n",
    "                       stacking_scores)"
   ]
  },
  {
   "attachments": {},
   "cell_type": "markdown",
   "metadata": {},
   "source": [
    "### Voting Regression"
   ]
  },
  {
   "attachments": {},
   "cell_type": "markdown",
   "metadata": {},
   "source": [
    "#### Define Estimators"
   ]
  },
  {
   "cell_type": "code",
   "execution_count": 54,
   "metadata": {},
   "outputs": [],
   "source": [
    "estimators = [\n",
    "    (\n",
    "        'random_forest_reg',\n",
    "        rfr\n",
    "    ),\n",
    "    (\n",
    "        'adaboost_reg',\n",
    "        adabr\n",
    "    )\n",
    "]"
   ]
  },
  {
   "attachments": {},
   "cell_type": "markdown",
   "metadata": {},
   "source": [
    "#### Fit Model"
   ]
  },
  {
   "cell_type": "code",
   "execution_count": 55,
   "metadata": {},
   "outputs": [],
   "source": [
    "voting_clf = VotingRegressor(\n",
    "    estimators=estimators,\n",
    "    n_jobs=-1\n",
    ")"
   ]
  },
  {
   "attachments": {},
   "cell_type": "markdown",
   "metadata": {},
   "source": [
    "#### Fit Classifier to Training Dataset"
   ]
  },
  {
   "cell_type": "code",
   "execution_count": 56,
   "metadata": {},
   "outputs": [],
   "source": [
    "voting_scores = cross_validate(voting_clf, \n",
    "                              X, \n",
    "                              y, \n",
    "                              n_jobs=-1,\n",
    "                              cv=10,\n",
    "                              scoring=regression_metric_names,\n",
    "                              return_train_score=True)"
   ]
  },
  {
   "attachments": {},
   "cell_type": "markdown",
   "metadata": {},
   "source": [
    "#### Metrics Evaluation"
   ]
  },
  {
   "cell_type": "code",
   "execution_count": 57,
   "metadata": {},
   "outputs": [
    {
     "name": "stdout",
     "output_type": "stream",
     "text": [
      "+------------------------------------------------+\n",
      "|           Training Voting Regression           |\n",
      "+------------------------------------------------+\n",
      "|                         Metric  |  Value       | \n",
      "+------------------------------------------------+\n",
      "|       Train Explained Variance  |  0.839       |\n",
      "+------------------------------------------------+\n",
      "|      Train Mean Absolute Error  |  4111.298    |\n",
      "+------------------------------------------------+\n",
      "|  Train Root Mean Squared Error  |  5335.937    |\n",
      "+------------------------------------------------+\n",
      "\n",
      "+------------------------------------------------+\n",
      "|           Testing Voting Regression            |\n",
      "+------------------------------------------------+\n",
      "|                         Metric  |  Value       | \n",
      "+------------------------------------------------+\n",
      "|        Test Explained Variance  |  0.742       |\n",
      "+------------------------------------------------+\n",
      "|       Test Mean Absolute Error  |  4747.669    |\n",
      "+------------------------------------------------+\n",
      "|   Test Root Mean Squared Error  |  6723.221    |\n",
      "+------------------------------------------------+\n"
     ]
    }
   ],
   "source": [
    "regression_eval(\"Voting Regression\", \n",
    "                       voting_scores)"
   ]
  },
  {
   "attachments": {},
   "cell_type": "markdown",
   "metadata": {},
   "source": [
    "### Notes & Other Takeaways From This Project\n",
    "****\n",
    "- The model with the best raw metrics (without considering overfitting) was the random forest regression.\n",
    "- When trying to reduce overfitting, the best result was the ElasticNet model. While the raw metrics were not as good as the random forest regression model, there was far less overfitting.\n",
    "****"
   ]
  }
 ],
 "metadata": {
  "kernelspec": {
   "display_name": "dl",
   "language": "python",
   "name": "python3"
  },
  "language_info": {
   "codemirror_mode": {
    "name": "ipython",
    "version": 3
   },
   "file_extension": ".py",
   "mimetype": "text/x-python",
   "name": "python",
   "nbconvert_exporter": "python",
   "pygments_lexer": "ipython3",
   "version": "3.9.12"
  },
  "orig_nbformat": 4
 },
 "nbformat": 4,
 "nbformat_minor": 2
}
