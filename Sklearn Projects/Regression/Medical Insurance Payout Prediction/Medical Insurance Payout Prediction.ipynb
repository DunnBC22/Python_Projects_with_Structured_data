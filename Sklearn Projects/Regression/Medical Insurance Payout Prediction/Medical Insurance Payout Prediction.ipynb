{
 "cells": [
  {
   "attachments": {},
   "cell_type": "markdown",
   "metadata": {},
   "source": [
    "## Medical Insurance Payout Prediction\n",
    "\n",
    "Dataset Source: https://www.kaggle.com/datasets/harshsingh2209/medical-insurance-payout"
   ]
  },
  {
   "attachments": {},
   "cell_type": "markdown",
   "metadata": {},
   "source": [
    "#### Import Necessary Libraries"
   ]
  },
  {
   "cell_type": "code",
   "execution_count": 1,
   "metadata": {},
   "outputs": [],
   "source": [
    "import sys, math\n",
    "from statistics import mean\n",
    "\n",
    "import numpy as np\n",
    "import pandas as pd\n",
    "\n",
    "import matplotlib.pyplot as plt\n",
    "import seaborn as sns\n",
    "\n",
    "import sklearn\n",
    "from sklearn.model_selection import cross_validate\n",
    "from sklearn.pipeline import Pipeline\n",
    "\n",
    "from sklearn.preprocessing import FunctionTransformer, StandardScaler\n",
    "from sklearn.compose import ColumnTransformer\n",
    "from sklearn.preprocessing import OneHotEncoder\n",
    "\n",
    "from sklearn.kernel_ridge import KernelRidge\n",
    "from sklearn.linear_model import SGDRegressor, ElasticNet, HuberRegressor\n",
    "from sklearn.linear_model import RANSACRegressor, TheilSenRegressor\n",
    "from sklearn.svm import SVR\n",
    "\n",
    "from sklearn.ensemble import RandomForestRegressor, AdaBoostRegressor\n",
    "from sklearn.ensemble import StackingRegressor, VotingRegressor, BaggingRegressor\n",
    "\n",
    "import xgboost as xgb\n",
    "from xgboost import XGBRegressor"
   ]
  },
  {
   "attachments": {},
   "cell_type": "markdown",
   "metadata": {},
   "source": [
    "#### Show Library Versions"
   ]
  },
  {
   "cell_type": "code",
   "execution_count": 2,
   "metadata": {},
   "outputs": [
    {
     "name": "stdout",
     "output_type": "stream",
     "text": [
      "Language/Library | Version\n",
      "---------------- | --------\n",
      "          Python : 3.9.12\n",
      "           NumPy : 1.24.3\n",
      "          Pandas : 2.0.1\n",
      "         Sklearn : 1.2.2\n",
      "         XGBoost : 1.7.5\n",
      "         Seaborn : 0.12.2\n"
     ]
    }
   ],
   "source": [
    "n = 18\n",
    "\n",
    "print(f\"Language/Library\".rjust(n-2), '|', 'Version')\n",
    "print('-' * (n-2), '|', '--------')\n",
    "print(\"Python :\".rjust(n), sys.version[0:6])\n",
    "print(\"NumPy :\".rjust(n), np.__version__)\n",
    "print(\"Pandas :\".rjust(n), pd.__version__)\n",
    "print(\"Sklearn :\".rjust(n), sklearn.__version__)\n",
    "print('XGBoost :'.rjust(n), xgb.__version__)\n",
    "print(\"Seaborn :\".rjust(n), sns.__version__)"
   ]
  },
  {
   "attachments": {},
   "cell_type": "markdown",
   "metadata": {},
   "source": [
    "### Initial Data Preprocessing"
   ]
  },
  {
   "attachments": {},
   "cell_type": "markdown",
   "metadata": {},
   "source": [
    "#### Ingest Dataset"
   ]
  },
  {
   "cell_type": "code",
   "execution_count": 3,
   "metadata": {},
   "outputs": [
    {
     "data": {
      "text/html": [
       "<div>\n",
       "<style scoped>\n",
       "    .dataframe tbody tr th:only-of-type {\n",
       "        vertical-align: middle;\n",
       "    }\n",
       "\n",
       "    .dataframe tbody tr th {\n",
       "        vertical-align: top;\n",
       "    }\n",
       "\n",
       "    .dataframe thead th {\n",
       "        text-align: right;\n",
       "    }\n",
       "</style>\n",
       "<table border=\"1\" class=\"dataframe\">\n",
       "  <thead>\n",
       "    <tr style=\"text-align: right;\">\n",
       "      <th></th>\n",
       "      <th>age</th>\n",
       "      <th>sex</th>\n",
       "      <th>bmi</th>\n",
       "      <th>children</th>\n",
       "      <th>smoker</th>\n",
       "      <th>region</th>\n",
       "      <th>label</th>\n",
       "    </tr>\n",
       "  </thead>\n",
       "  <tbody>\n",
       "    <tr>\n",
       "      <th>0</th>\n",
       "      <td>19</td>\n",
       "      <td>female</td>\n",
       "      <td>27.900000</td>\n",
       "      <td>0</td>\n",
       "      <td>yes</td>\n",
       "      <td>southwest</td>\n",
       "      <td>16884.923828</td>\n",
       "    </tr>\n",
       "    <tr>\n",
       "      <th>1</th>\n",
       "      <td>18</td>\n",
       "      <td>male</td>\n",
       "      <td>33.770000</td>\n",
       "      <td>1</td>\n",
       "      <td>no</td>\n",
       "      <td>southeast</td>\n",
       "      <td>1725.552246</td>\n",
       "    </tr>\n",
       "    <tr>\n",
       "      <th>2</th>\n",
       "      <td>28</td>\n",
       "      <td>male</td>\n",
       "      <td>33.000000</td>\n",
       "      <td>3</td>\n",
       "      <td>no</td>\n",
       "      <td>southeast</td>\n",
       "      <td>4449.461914</td>\n",
       "    </tr>\n",
       "    <tr>\n",
       "      <th>3</th>\n",
       "      <td>33</td>\n",
       "      <td>male</td>\n",
       "      <td>22.705000</td>\n",
       "      <td>0</td>\n",
       "      <td>no</td>\n",
       "      <td>northwest</td>\n",
       "      <td>21984.470703</td>\n",
       "    </tr>\n",
       "    <tr>\n",
       "      <th>4</th>\n",
       "      <td>32</td>\n",
       "      <td>male</td>\n",
       "      <td>28.879999</td>\n",
       "      <td>0</td>\n",
       "      <td>no</td>\n",
       "      <td>northwest</td>\n",
       "      <td>3866.855225</td>\n",
       "    </tr>\n",
       "  </tbody>\n",
       "</table>\n",
       "</div>"
      ],
      "text/plain": [
       "   age     sex        bmi  children smoker     region         label\n",
       "0   19  female  27.900000         0    yes  southwest  16884.923828\n",
       "1   18    male  33.770000         1     no  southeast   1725.552246\n",
       "2   28    male  33.000000         3     no  southeast   4449.461914\n",
       "3   33    male  22.705000         0     no  northwest  21984.470703\n",
       "4   32    male  28.879999         0     no  northwest   3866.855225"
      ]
     },
     "execution_count": 3,
     "metadata": {},
     "output_type": "execute_result"
    }
   ],
   "source": [
    "col_names = [\"age\",\n",
    "             \"sex\",\n",
    "             \"bmi\",\n",
    "             \"children\",\n",
    "             \"smoker\",\n",
    "             \"region\",\n",
    "             \"label\"\n",
    "             ]\n",
    "\n",
    "dtypes = {\"age\": np.uint8,\n",
    "          \"sex\": str,\n",
    "          \"bmi\": np.float32,\n",
    "          \"children\": np.uint8,\n",
    "          \"smoker\": str,\n",
    "          \"region\": str,\n",
    "          \"label\": np.float32\n",
    "          }\n",
    "\n",
    "data = pd.read_csv(\"expenses.csv\",\n",
    "                   names=col_names, \n",
    "                   dtype=dtypes,\n",
    "                   engine='c',\n",
    "                   header=0)\n",
    "\n",
    "data.head()"
   ]
  },
  {
   "attachments": {},
   "cell_type": "markdown",
   "metadata": {},
   "source": [
    "#### More Dataset Information"
   ]
  },
  {
   "cell_type": "code",
   "execution_count": 4,
   "metadata": {},
   "outputs": [
    {
     "name": "stdout",
     "output_type": "stream",
     "text": [
      "<class 'pandas.core.frame.DataFrame'>\n",
      "RangeIndex: 1338 entries, 0 to 1337\n",
      "Data columns (total 7 columns):\n",
      " #   Column    Non-Null Count  Dtype  \n",
      "---  ------    --------------  -----  \n",
      " 0   age       1338 non-null   uint8  \n",
      " 1   sex       1338 non-null   object \n",
      " 2   bmi       1338 non-null   float32\n",
      " 3   children  1338 non-null   uint8  \n",
      " 4   smoker    1338 non-null   object \n",
      " 5   region    1338 non-null   object \n",
      " 6   label     1338 non-null   float32\n",
      "dtypes: float32(2), object(3), uint8(2)\n",
      "memory usage: 44.6+ KB\n"
     ]
    }
   ],
   "source": [
    "data.info()"
   ]
  },
  {
   "attachments": {},
   "cell_type": "markdown",
   "metadata": {},
   "source": [
    "### Visualizations"
   ]
  },
  {
   "attachments": {},
   "cell_type": "markdown",
   "metadata": {},
   "source": [
    "#### Create Function to Visualize Features (Histograms)"
   ]
  },
  {
   "cell_type": "code",
   "execution_count": 5,
   "metadata": {},
   "outputs": [],
   "source": [
    "def histogram_visual(feature_to_visualize: pd.Series,\n",
    "                     num_of_bins: int,\n",
    "                     plot_title: str,\n",
    "                     x_label: str,\n",
    "                     x_start: float = -1.0,\n",
    "                     y_label: str = \"# of Samples\",\n",
    "                     ):\n",
    "    \"\"\"\n",
    "    This function returns a histogram for a feature.\n",
    "    \n",
    "    Inputs: \n",
    "    - feature_to_visualize: Feature to plot in the form \n",
    "    of pandas Series.\n",
    "    - plot_title: The title of the plot/visual.\n",
    "    - x_label: The string label value for the x label.\n",
    "    - x_start: To force the x-axis of the visual to start at \n",
    "    a specified value instead of the automatically generated \n",
    "    value, assign the float value here. Otherwise, the \n",
    "    autogenerated start value will be used.\n",
    "    - y_label: The string label value for the y label.\n",
    "    \n",
    "    Output:\n",
    "    - A histogram.\n",
    "    \"\"\"\n",
    "    \n",
    "    assert type(feature_to_visualize) == pd.Series, \\\n",
    "        \"Make sure the dataset input type is a Pandas Series.\"\n",
    "    assert type(plot_title) != 'str', \\\n",
    "        \"The title value must be a string value.\"\n",
    "    assert type(x_label) !=  'str', \\\n",
    "        \"The x label value must be a string value.\"\n",
    "    assert type(y_label) != 'str', \\\n",
    "        \"The y label value must be a string value.\"\n",
    "    assert type(x_start) != 'float', \\\n",
    "        \"The x_start value must be a float value.\"\n",
    "    \n",
    "    ax = feature_to_visualize.hist(grid=False, \n",
    "                                   bins=num_of_bins, \n",
    "                                   figsize=(18, 8))\n",
    "    plt.suptitle('')\n",
    "    plt.title(plot_title)\n",
    "    plt.ylabel(y_label)\n",
    "    plt.xlabel(x_label)\n",
    "    \n",
    "    if x_start != -1:\n",
    "        plt.xlim([0, (max(feature_to_visualize) + (1/num_of_bins))])\n",
    "\n",
    "    plt.show()"
   ]
  },
  {
   "attachments": {},
   "cell_type": "markdown",
   "metadata": {},
   "source": [
    "#### Dataset Visualization: Customer's Ages"
   ]
  },
  {
   "cell_type": "code",
   "execution_count": 6,
   "metadata": {},
   "outputs": [
    {
     "data": {
      "image/png": "[encoded data removed]",
      "text/plain": [
       "<Figure size 1800x800 with 1 Axes>"
      ]
     },
     "metadata": {},
     "output_type": "display_data"
    },
    {
     "name": "stdout",
     "output_type": "stream",
     "text": [
      "The age range is 18 to 64 years old.\n"
     ]
    }
   ],
   "source": [
    "histogram_visual(data['age'],\n",
    "                 num_of_bins=46,\n",
    "                 plot_title=\"Histogram of Customer's Ages\",\n",
    "                 x_label=\"Age\")\n",
    "\n",
    "print(f\"The age range is {min(data['age'])} to\" + \n",
    "      f\" {max(data['age'])} years old.\")"
   ]
  },
  {
   "attachments": {},
   "cell_type": "markdown",
   "metadata": {},
   "source": [
    "#### Dataset Visualization: Body Mass Index (BMI)"
   ]
  },
  {
   "cell_type": "code",
   "execution_count": 7,
   "metadata": {},
   "outputs": [
    {
     "data": {
      "image/png": "[encoded data removed]",
      "text/plain": [
       "<Figure size 1800x800 with 1 Axes>"
      ]
     },
     "metadata": {},
     "output_type": "display_data"
    },
    {
     "name": "stdout",
     "output_type": "stream",
     "text": [
      "Customer's Body Mass Index's (BMIs) ranged from 15.96 to 53.13.\n"
     ]
    }
   ],
   "source": [
    "histogram_visual(data['bmi'],\n",
    "                 num_of_bins=223,\n",
    "                 plot_title=\"Histogram of Body Mass Index's\",\n",
    "                 x_label=\"Body Mass Index's (BMI)\")\n",
    "\n",
    "print(f\"Customer's Body Mass Index's (BMIs) ranged\" +\n",
    "      f\" from {round(min(data['bmi']), 2)}\" + \n",
    "      f\" to {round(max(data['bmi']), 2)}.\")"
   ]
  },
  {
   "attachments": {},
   "cell_type": "markdown",
   "metadata": {},
   "source": [
    "#### Dataset Visualization: Customer's Predicted Payout Amount "
   ]
  },
  {
   "cell_type": "code",
   "execution_count": 8,
   "metadata": {},
   "outputs": [
    {
     "data": {
      "image/png": "[encoded data removed]",
      "text/plain": [
       "<Figure size 1800x800 with 1 Axes>"
      ]
     },
     "metadata": {},
     "output_type": "display_data"
    },
    {
     "name": "stdout",
     "output_type": "stream",
     "text": [
      "The predicted payout amount ranges from $1121.87 to $63770.43.\n"
     ]
    }
   ],
   "source": [
    "histogram_visual(data['label'],\n",
    "                 num_of_bins=504,\n",
    "                 plot_title=\"Histogram of Predicted Payout Amount\",\n",
    "                 x_label=\"Predicted Payout Amount (in $s)\")\n",
    "\n",
    "print(f\"The predicted payout amount ranges from\" + \n",
    "      f\" ${round(min(data['label']),2)} to\" + \n",
    "      f\" ${round(max(data['label']),2)}.\")"
   ]
  },
  {
   "attachments": {},
   "cell_type": "markdown",
   "metadata": {},
   "source": [
    "#### Create Function to Visualize Features (Barplot)"
   ]
  },
  {
   "cell_type": "code",
   "execution_count": 9,
   "metadata": {},
   "outputs": [],
   "source": [
    "def barplot_visual(feature_to_visualize: pd.Series,\n",
    "                   plot_title: str,\n",
    "                   x_label: str,\n",
    "                   y_label: str = \"# of Samples\",\n",
    "                   ):\n",
    "    \"\"\"\n",
    "    This function returns a histogram for a feature.\n",
    "    \n",
    "    Inputs: \n",
    "    - feature_to_visualize: Feature to plot in the form \n",
    "    of pandas Series.\n",
    "    - plot_title: The title of the plot/visual.\n",
    "    - x_label: The string label value for the x label.\n",
    "    - y_label: The string label value for the y label.\n",
    "    \n",
    "    Output:\n",
    "    - A Bar Plot.\n",
    "    \"\"\"\n",
    "    \n",
    "    assert type(feature_to_visualize) == pd.Series, \\\n",
    "        \"Make sure the dataset input type is a Pandas Series.\"\n",
    "    assert type(plot_title) != 'str', \\\n",
    "        \"The title value must be a string value.\"\n",
    "    assert type(x_label) !=  'str', \\\n",
    "        \"The x label value must be a string value.\"\n",
    "    assert type(y_label) != 'str', \\\n",
    "        \"The y label value must be a string value.\"\n",
    "        \n",
    "    ax = feature_to_visualize.value_counts().plot.bar( \n",
    "                                                      figsize=(12,8),\n",
    "                                                      rot=0, \n",
    "                                                      legend=False,\n",
    "                                                      color=[\"lightgreen\", \n",
    "                                                             \"blue\", \n",
    "                                                             \"brown\", \n",
    "                                                             \"lightblue\",\n",
    "                                                             \"tan\", \n",
    "                                                             \"yellow\", \n",
    "                                                             \"orange\",\n",
    "                                                             \"green\", \n",
    "                                                             \"red\",\n",
    "                                                             \"purple\"]\n",
    "                                                      )\n",
    "    \n",
    "    ax.bar_label(ax.containers[0])\n",
    "    \n",
    "    plt.suptitle('')\n",
    "    plt.title(plot_title)\n",
    "    plt.ylabel(y_label)\n",
    "    plt.xlabel(x_label)\n",
    "    \n",
    "    plt.show()"
   ]
  },
  {
   "attachments": {},
   "cell_type": "markdown",
   "metadata": {},
   "source": [
    "#### Dataset Visualization: Sex"
   ]
  },
  {
   "cell_type": "code",
   "execution_count": 10,
   "metadata": {},
   "outputs": [
    {
     "data": {
      "image/png": "[encoded data removed]",
      "text/plain": [
       "<Figure size 1200x800 with 1 Axes>"
      ]
     },
     "metadata": {},
     "output_type": "display_data"
    }
   ],
   "source": [
    "barplot_visual(data[\"sex\"],\n",
    "               \"Customer's Sex\",\n",
    "               \"Customer's Sex\",\n",
    "               \"# of Samples\",\n",
    "               )"
   ]
  },
  {
   "attachments": {},
   "cell_type": "markdown",
   "metadata": {},
   "source": [
    "#### Dataset Visualization: Number of Children"
   ]
  },
  {
   "cell_type": "code",
   "execution_count": 11,
   "metadata": {},
   "outputs": [
    {
     "data": {
      "image/png": "[encoded data removed]",
      "text/plain": [
       "<Figure size 1200x800 with 1 Axes>"
      ]
     },
     "metadata": {},
     "output_type": "display_data"
    }
   ],
   "source": [
    "barplot_visual(data[\"children\"],\n",
    "               \"Number of Children That Customer Has\",\n",
    "               \"Number of Children That Customer Has\",\n",
    "               \"# of Samples\",\n",
    "               )"
   ]
  },
  {
   "attachments": {},
   "cell_type": "markdown",
   "metadata": {},
   "source": [
    "#### Dataset Visualization: Smoker Status"
   ]
  },
  {
   "cell_type": "code",
   "execution_count": 12,
   "metadata": {},
   "outputs": [
    {
     "data": {
      "image/png": "[encoded data removed]",
      "text/plain": [
       "<Figure size 1200x800 with 1 Axes>"
      ]
     },
     "metadata": {},
     "output_type": "display_data"
    }
   ],
   "source": [
    "barplot_visual(data[\"smoker\"],\n",
    "               \"Customer's Smoking Status\",\n",
    "               \"Customer's Smoking Status\",\n",
    "               \"# of Samples\",\n",
    "               )"
   ]
  },
  {
   "attachments": {},
   "cell_type": "markdown",
   "metadata": {},
   "source": [
    "#### Dataset Visualization: Any Chronic Diseases"
   ]
  },
  {
   "cell_type": "code",
   "execution_count": 13,
   "metadata": {},
   "outputs": [
    {
     "data": {
      "image/png": "[encoded data removed]",
      "text/plain": [
       "<Figure size 1200x800 with 1 Axes>"
      ]
     },
     "metadata": {},
     "output_type": "display_data"
    }
   ],
   "source": [
    "barplot_visual(data[\"region\"],\n",
    "               \"Customer's Geographical Region\",\n",
    "               \"Customer's Geographical Region\",\n",
    "               \"# of Samples\",\n",
    "               )"
   ]
  },
  {
   "attachments": {},
   "cell_type": "markdown",
   "metadata": {},
   "source": [
    "### Exploratory Data Analysis & Preprocessing"
   ]
  },
  {
   "attachments": {},
   "cell_type": "markdown",
   "metadata": {},
   "source": [
    "#### Convert Feature Values From String to Integer"
   ]
  },
  {
   "cell_type": "code",
   "execution_count": 14,
   "metadata": {},
   "outputs": [],
   "source": [
    "sex_label2id = {\"female\": 0, \n",
    "                \"male\": 1\n",
    "                }\n",
    "\n",
    "data[\"sex\"] = data[\"sex\"].replace(sex_label2id)\n",
    "\n",
    "smoker_label2id = {\"no\": 0, \n",
    "                   \"yes\": 1\n",
    "                   }\n",
    "\n",
    "data[\"smoker\"] = data[\"smoker\"].replace(smoker_label2id)\n",
    "\n",
    "region_label2id = {\"southeast\": 0,\n",
    "                   \"southwest\": 1,\n",
    "                   \"northeast\": 2, \n",
    "                   \"northwest\": 3\n",
    "                   }\n",
    "\n",
    "data[\"region\"] = data[\"region\"].replace(region_label2id)"
   ]
  },
  {
   "attachments": {},
   "cell_type": "markdown",
   "metadata": {},
   "source": [
    "#### Descriptive Statistics"
   ]
  },
  {
   "cell_type": "code",
   "execution_count": 15,
   "metadata": {},
   "outputs": [
    {
     "data": {
      "text/html": [
       "<div>\n",
       "<style scoped>\n",
       "    .dataframe tbody tr th:only-of-type {\n",
       "        vertical-align: middle;\n",
       "    }\n",
       "\n",
       "    .dataframe tbody tr th {\n",
       "        vertical-align: top;\n",
       "    }\n",
       "\n",
       "    .dataframe thead th {\n",
       "        text-align: right;\n",
       "    }\n",
       "</style>\n",
       "<table border=\"1\" class=\"dataframe\">\n",
       "  <thead>\n",
       "    <tr style=\"text-align: right;\">\n",
       "      <th></th>\n",
       "      <th>age</th>\n",
       "      <th>sex</th>\n",
       "      <th>bmi</th>\n",
       "      <th>children</th>\n",
       "      <th>smoker</th>\n",
       "      <th>region</th>\n",
       "      <th>label</th>\n",
       "    </tr>\n",
       "  </thead>\n",
       "  <tbody>\n",
       "    <tr>\n",
       "      <th>count</th>\n",
       "      <td>1338.000000</td>\n",
       "      <td>1338.000000</td>\n",
       "      <td>1338.000000</td>\n",
       "      <td>1338.000000</td>\n",
       "      <td>1338.000000</td>\n",
       "      <td>1338.000000</td>\n",
       "      <td>1338.000000</td>\n",
       "    </tr>\n",
       "    <tr>\n",
       "      <th>mean</th>\n",
       "      <td>39.207025</td>\n",
       "      <td>0.505232</td>\n",
       "      <td>30.663397</td>\n",
       "      <td>1.094918</td>\n",
       "      <td>0.204783</td>\n",
       "      <td>1.455904</td>\n",
       "      <td>13270.422852</td>\n",
       "    </tr>\n",
       "    <tr>\n",
       "      <th>std</th>\n",
       "      <td>14.049960</td>\n",
       "      <td>0.500160</td>\n",
       "      <td>6.098187</td>\n",
       "      <td>1.205493</td>\n",
       "      <td>0.403694</td>\n",
       "      <td>1.130888</td>\n",
       "      <td>12110.010742</td>\n",
       "    </tr>\n",
       "    <tr>\n",
       "      <th>min</th>\n",
       "      <td>18.000000</td>\n",
       "      <td>0.000000</td>\n",
       "      <td>15.960000</td>\n",
       "      <td>0.000000</td>\n",
       "      <td>0.000000</td>\n",
       "      <td>0.000000</td>\n",
       "      <td>1121.873901</td>\n",
       "    </tr>\n",
       "    <tr>\n",
       "      <th>1%</th>\n",
       "      <td>18.000000</td>\n",
       "      <td>0.000000</td>\n",
       "      <td>17.895150</td>\n",
       "      <td>0.000000</td>\n",
       "      <td>0.000000</td>\n",
       "      <td>0.000000</td>\n",
       "      <td>1252.972732</td>\n",
       "    </tr>\n",
       "    <tr>\n",
       "      <th>10%</th>\n",
       "      <td>19.000000</td>\n",
       "      <td>0.000000</td>\n",
       "      <td>22.990000</td>\n",
       "      <td>0.000000</td>\n",
       "      <td>0.000000</td>\n",
       "      <td>0.000000</td>\n",
       "      <td>2346.533667</td>\n",
       "    </tr>\n",
       "    <tr>\n",
       "      <th>25%</th>\n",
       "      <td>27.000000</td>\n",
       "      <td>0.000000</td>\n",
       "      <td>26.296251</td>\n",
       "      <td>0.000000</td>\n",
       "      <td>0.000000</td>\n",
       "      <td>0.000000</td>\n",
       "      <td>4740.287109</td>\n",
       "    </tr>\n",
       "    <tr>\n",
       "      <th>50%</th>\n",
       "      <td>39.000000</td>\n",
       "      <td>1.000000</td>\n",
       "      <td>30.400000</td>\n",
       "      <td>1.000000</td>\n",
       "      <td>0.000000</td>\n",
       "      <td>1.000000</td>\n",
       "      <td>9382.032715</td>\n",
       "    </tr>\n",
       "    <tr>\n",
       "      <th>75%</th>\n",
       "      <td>51.000000</td>\n",
       "      <td>1.000000</td>\n",
       "      <td>34.693750</td>\n",
       "      <td>2.000000</td>\n",
       "      <td>0.000000</td>\n",
       "      <td>2.000000</td>\n",
       "      <td>16639.912109</td>\n",
       "    </tr>\n",
       "    <tr>\n",
       "      <th>90%</th>\n",
       "      <td>59.000000</td>\n",
       "      <td>1.000000</td>\n",
       "      <td>38.619499</td>\n",
       "      <td>3.000000</td>\n",
       "      <td>1.000000</td>\n",
       "      <td>3.000000</td>\n",
       "      <td>34831.717969</td>\n",
       "    </tr>\n",
       "    <tr>\n",
       "      <th>99%</th>\n",
       "      <td>64.000000</td>\n",
       "      <td>1.000000</td>\n",
       "      <td>46.407900</td>\n",
       "      <td>5.000000</td>\n",
       "      <td>1.000000</td>\n",
       "      <td>3.000000</td>\n",
       "      <td>48537.481328</td>\n",
       "    </tr>\n",
       "    <tr>\n",
       "      <th>max</th>\n",
       "      <td>64.000000</td>\n",
       "      <td>1.000000</td>\n",
       "      <td>53.130001</td>\n",
       "      <td>5.000000</td>\n",
       "      <td>1.000000</td>\n",
       "      <td>3.000000</td>\n",
       "      <td>63770.429688</td>\n",
       "    </tr>\n",
       "  </tbody>\n",
       "</table>\n",
       "</div>"
      ],
      "text/plain": [
       "               age          sex          bmi     children       smoker   \n",
       "count  1338.000000  1338.000000  1338.000000  1338.000000  1338.000000  \\\n",
       "mean     39.207025     0.505232    30.663397     1.094918     0.204783   \n",
       "std      14.049960     0.500160     6.098187     1.205493     0.403694   \n",
       "min      18.000000     0.000000    15.960000     0.000000     0.000000   \n",
       "1%       18.000000     0.000000    17.895150     0.000000     0.000000   \n",
       "10%      19.000000     0.000000    22.990000     0.000000     0.000000   \n",
       "25%      27.000000     0.000000    26.296251     0.000000     0.000000   \n",
       "50%      39.000000     1.000000    30.400000     1.000000     0.000000   \n",
       "75%      51.000000     1.000000    34.693750     2.000000     0.000000   \n",
       "90%      59.000000     1.000000    38.619499     3.000000     1.000000   \n",
       "99%      64.000000     1.000000    46.407900     5.000000     1.000000   \n",
       "max      64.000000     1.000000    53.130001     5.000000     1.000000   \n",
       "\n",
       "            region         label  \n",
       "count  1338.000000   1338.000000  \n",
       "mean      1.455904  13270.422852  \n",
       "std       1.130888  12110.010742  \n",
       "min       0.000000   1121.873901  \n",
       "1%        0.000000   1252.972732  \n",
       "10%       0.000000   2346.533667  \n",
       "25%       0.000000   4740.287109  \n",
       "50%       1.000000   9382.032715  \n",
       "75%       2.000000  16639.912109  \n",
       "90%       3.000000  34831.717969  \n",
       "99%       3.000000  48537.481328  \n",
       "max       3.000000  63770.429688  "
      ]
     },
     "execution_count": 15,
     "metadata": {},
     "output_type": "execute_result"
    }
   ],
   "source": [
    "data.describe(percentiles=[0.01, \n",
    "                           0.10, \n",
    "                           0.25, \n",
    "                           0.50, \n",
    "                           0.75, \n",
    "                           0.90, \n",
    "                           0.99\n",
    "                           ], \n",
    "              include='all')"
   ]
  },
  {
   "attachments": {},
   "cell_type": "markdown",
   "metadata": {},
   "source": [
    "### Prepare Shared Pipeline Data & Stages/Steps"
   ]
  },
  {
   "attachments": {},
   "cell_type": "markdown",
   "metadata": {},
   "source": [
    "#### Split Dataset into Training & Testing Datasets"
   ]
  },
  {
   "cell_type": "code",
   "execution_count": 16,
   "metadata": {},
   "outputs": [
    {
     "name": "stdout",
     "output_type": "stream",
     "text": [
      "Inputs Dataset Shape: (1338, 6)\n",
      "Outputs Dataset Shape: (1338,)\n"
     ]
    }
   ],
   "source": [
    "y = data['label']\n",
    "X = data.drop(columns=['label'], axis=1)\n",
    "\n",
    "print(f\"Inputs Dataset Shape: {X.shape}\")\n",
    "print(f\"Outputs Dataset Shape: {y.shape}\")"
   ]
  },
  {
   "attachments": {},
   "cell_type": "markdown",
   "metadata": {},
   "source": [
    "#### Define Column Lists for Transformers (Pipeline Stages) & Transform to Integer Values"
   ]
  },
  {
   "cell_type": "code",
   "execution_count": 17,
   "metadata": {},
   "outputs": [],
   "source": [
    "numerical_features = [\n",
    "    \"age\", \n",
    "    \"bmi\"\n",
    "    ]\n",
    "\n",
    "nominal_features = [x for x in data.columns if x not in numerical_features and x != 'label']"
   ]
  },
  {
   "attachments": {},
   "cell_type": "markdown",
   "metadata": {},
   "source": [
    "#### Remove Outliers"
   ]
  },
  {
   "cell_type": "code",
   "execution_count": 18,
   "metadata": {},
   "outputs": [],
   "source": [
    "# Remove outliers using the 'IQR * 1.5' rule\n",
    "def remove_outliers(df, features_to_remove):\n",
    "    df = pd.DataFrame(df).copy()\n",
    "    for feat in features_to_remove:\n",
    "        x = df[feat]\n",
    "        q1, q3 = x.quantile([0.25, 0.75])\n",
    "        iqr = q3-q1\n",
    "        ul = q3 + (iqr * 1.5)\n",
    "        ll = q1 - (iqr * 1.5)\n",
    "        neo_df = df[(df[feat] >= ll) | (df[feat] <= ul)]\n",
    "    return neo_df\n",
    "\n",
    "outlier_remover = FunctionTransformer(remove_outliers, \n",
    "                                      kw_args={\n",
    "                                          'features_to_remove': numerical_features\n",
    "                                          }\n",
    "                                      )"
   ]
  },
  {
   "attachments": {},
   "cell_type": "markdown",
   "metadata": {},
   "source": [
    "#### Create Column Transformer"
   ]
  },
  {
   "cell_type": "code",
   "execution_count": 19,
   "metadata": {},
   "outputs": [],
   "source": [
    "encoder_col_transformer = ColumnTransformer(\n",
    "    [\n",
    "        (\n",
    "            \"remove_outliers\",\n",
    "            outlier_remover,\n",
    "            numerical_features\n",
    "        ),\n",
    "        (\n",
    "            'ohe', \n",
    "            OneHotEncoder(drop='first',\n",
    "                          handle_unknown='ignore',\n",
    "                          dtype=np.float64), \n",
    "            nominal_features)\n",
    "    ], \n",
    "    remainder='passthrough')"
   ]
  },
  {
   "attachments": {},
   "cell_type": "markdown",
   "metadata": {},
   "source": [
    "#### Metrics Evaluation Method"
   ]
  },
  {
   "cell_type": "code",
   "execution_count": 20,
   "metadata": {},
   "outputs": [],
   "source": [
    "regression_metric_names = ('neg_mean_absolute_error', \n",
    "                           'neg_root_mean_squared_error', \n",
    "                           )\n",
    "\n",
    "def regression_eval(model_name: str,\n",
    "                    scores: tuple(),\n",
    "                    ) -> None:\n",
    "    '''\n",
    "    Calculate & display metrics for a regression analysis.\n",
    "    '''\n",
    "    \n",
    "    metrics_titles = [\"Mean Absolute Error\", \n",
    "                      \"Root Mean Squared Error\", \n",
    "                      ]\n",
    "        \n",
    "\n",
    "    print(\"+------------------------------------------------+\")\n",
    "    print(\"|  \" + (\"Training \" + model_name).center(44) + \"  |\")\n",
    "    print(\"+------------------------------------------------+\")\n",
    "    print(\"|  %s  |  %s   | \" % (\"Metric\".rjust(29), \"Value\".ljust(9)))\n",
    "    print(\"+------------------------------------------------+\")\n",
    "    for x in range(len(regression_metric_names)):\n",
    "        \n",
    "        name = \"train_\" + regression_metric_names[x]\n",
    "        \n",
    "        score = mean(scores[name])\n",
    "        \n",
    "        if score < 0:\n",
    "            score = score * -1\n",
    "        \n",
    "        print(\"| %s  |  %s   |\" % ((\"Train \" + metrics_titles[x]).rjust(30), str(round(score, 3)).ljust(9)))\n",
    "        print(\"+------------------------------------------------+\")\n",
    "    \n",
    "    print()\n",
    "    \n",
    "    print(\"+------------------------------------------------+\")\n",
    "    print(\"|  \" + (\"Testing \" + model_name).center(44) + \"  |\")\n",
    "    print(\"+------------------------------------------------+\")\n",
    "    print(\"|  %s  |  %s   | \" % (\"Metric\".rjust(29), \"Value\".ljust(9)))\n",
    "    print(\"+------------------------------------------------+\")\n",
    "    for x in range(len(regression_metric_names)):\n",
    "        name = \"test_\" + regression_metric_names[x]\n",
    "        score = mean(scores[name])\n",
    "        \n",
    "        if score < 0:\n",
    "            score = score * -1\n",
    "        \n",
    "        print(\"| %s  |  %s   |\" % ((\"Test \" + metrics_titles[x]).rjust(30), str(round(score, 3)).ljust(9)))\n",
    "        print(\"+------------------------------------------------+\")"
   ]
  },
  {
   "attachments": {},
   "cell_type": "markdown",
   "metadata": {},
   "source": [
    "### SVM Regression (SVR)"
   ]
  },
  {
   "attachments": {},
   "cell_type": "markdown",
   "metadata": {},
   "source": [
    "#### Define Pipeline"
   ]
  },
  {
   "cell_type": "code",
   "execution_count": 21,
   "metadata": {},
   "outputs": [],
   "source": [
    "def svm_regression():\n",
    "    \"\"\"\n",
    "    This function creates the SVM Regression.\n",
    "    \"\"\"\n",
    "    svmr_pipe = Pipeline(\n",
    "        [\n",
    "            (\n",
    "                'encoder_column_transformer', \n",
    "                encoder_col_transformer),\n",
    "            (\n",
    "                \"scaler\",\n",
    "                StandardScaler()),\n",
    "            (\n",
    "                'svm_reg', \n",
    "                SVR(kernel='poly')\n",
    "             ),\n",
    "        ]\n",
    "        )\n",
    "    \n",
    "    return svmr_pipe"
   ]
  },
  {
   "attachments": {},
   "cell_type": "markdown",
   "metadata": {},
   "source": [
    "#### Define Model"
   ]
  },
  {
   "cell_type": "code",
   "execution_count": 22,
   "metadata": {},
   "outputs": [
    {
     "data": {
      "text/plain": [
       "{'encoder_column_transformer': ColumnTransformer(remainder='passthrough',\n",
       "                   transformers=[('remove_outliers',\n",
       "                                  FunctionTransformer(func=<function remove_outliers at 0x7f98c81d9ee0>,\n",
       "                                                      kw_args={'features_to_remove': ['age',\n",
       "                                                                                      'bmi']}),\n",
       "                                  ['age', 'bmi']),\n",
       "                                 ('ohe',\n",
       "                                  OneHotEncoder(drop='first',\n",
       "                                                handle_unknown='ignore'),\n",
       "                                  ['sex', 'children', 'smoker', 'region'])]),\n",
       " 'scaler': StandardScaler(),\n",
       " 'svm_reg': SVR(kernel='poly')}"
      ]
     },
     "execution_count": 22,
     "metadata": {},
     "output_type": "execute_result"
    }
   ],
   "source": [
    "svmr = svm_regression()\n",
    "\n",
    "svmr.named_steps"
   ]
  },
  {
   "attachments": {},
   "cell_type": "markdown",
   "metadata": {},
   "source": [
    "#### Fit Algorithm to Dataset"
   ]
  },
  {
   "cell_type": "code",
   "execution_count": 23,
   "metadata": {},
   "outputs": [],
   "source": [
    "scores = cross_validate(svmr, \n",
    "                        X, \n",
    "                        y, \n",
    "                        cv=8,\n",
    "                        scoring=regression_metric_names,\n",
    "                        return_train_score=True)"
   ]
  },
  {
   "attachments": {},
   "cell_type": "markdown",
   "metadata": {},
   "source": [
    "#### Metrics Evaluation"
   ]
  },
  {
   "cell_type": "code",
   "execution_count": 24,
   "metadata": {},
   "outputs": [
    {
     "name": "stdout",
     "output_type": "stream",
     "text": [
      "+------------------------------------------------+\n",
      "|            Training SVM Regression             |\n",
      "+------------------------------------------------+\n",
      "|                         Metric  |  Value       | \n",
      "+------------------------------------------------+\n",
      "|      Train Mean Absolute Error  |  8329.433    |\n",
      "+------------------------------------------------+\n",
      "|  Train Root Mean Squared Error  |  12688.099   |\n",
      "+------------------------------------------------+\n",
      "\n",
      "+------------------------------------------------+\n",
      "|             Testing SVM Regression             |\n",
      "+------------------------------------------------+\n",
      "|                         Metric  |  Value       | \n",
      "+------------------------------------------------+\n",
      "|       Test Mean Absolute Error  |  8335.881    |\n",
      "+------------------------------------------------+\n",
      "|   Test Root Mean Squared Error  |  12653.158   |\n",
      "+------------------------------------------------+\n"
     ]
    }
   ],
   "source": [
    "regression_eval(\"SVM Regression\", \n",
    "                scores)"
   ]
  },
  {
   "attachments": {},
   "cell_type": "markdown",
   "metadata": {},
   "source": [
    "### ElasticNet Regression"
   ]
  },
  {
   "attachments": {},
   "cell_type": "markdown",
   "metadata": {},
   "source": [
    "#### Define Pipeline"
   ]
  },
  {
   "cell_type": "code",
   "execution_count": 25,
   "metadata": {},
   "outputs": [],
   "source": [
    "def elastic_net_regression():\n",
    "    \"\"\"\n",
    "    This function creates the ElasticNet Regression.\n",
    "    \"\"\"\n",
    "    en_reg_pipe = Pipeline(\n",
    "        [\n",
    "            (\n",
    "                'encoder_column_transformer', \n",
    "                encoder_col_transformer\n",
    "            ),\n",
    "            (\n",
    "                'scaler', \n",
    "                StandardScaler(),\n",
    "            ),\n",
    "            (\n",
    "                'elastic_net_reg', \n",
    "                ElasticNet(selection='random',\n",
    "                           random_state=42, \n",
    "                           max_iter=2000, \n",
    "                           alpha=0.0001\n",
    "                           )\n",
    "             ),\n",
    "        ]\n",
    "        )\n",
    "    \n",
    "    return en_reg_pipe"
   ]
  },
  {
   "attachments": {},
   "cell_type": "markdown",
   "metadata": {},
   "source": [
    "#### Define Model"
   ]
  },
  {
   "cell_type": "code",
   "execution_count": 26,
   "metadata": {},
   "outputs": [
    {
     "data": {
      "text/plain": [
       "{'encoder_column_transformer': ColumnTransformer(remainder='passthrough',\n",
       "                   transformers=[('remove_outliers',\n",
       "                                  FunctionTransformer(func=<function remove_outliers at 0x7f98c81d9ee0>,\n",
       "                                                      kw_args={'features_to_remove': ['age',\n",
       "                                                                                      'bmi']}),\n",
       "                                  ['age', 'bmi']),\n",
       "                                 ('ohe',\n",
       "                                  OneHotEncoder(drop='first',\n",
       "                                                handle_unknown='ignore'),\n",
       "                                  ['sex', 'children', 'smoker', 'region'])]),\n",
       " 'scaler': StandardScaler(),\n",
       " 'elastic_net_reg': ElasticNet(alpha=0.0001, max_iter=2000, random_state=42, selection='random')}"
      ]
     },
     "execution_count": 26,
     "metadata": {},
     "output_type": "execute_result"
    }
   ],
   "source": [
    "enr = elastic_net_regression()\n",
    "\n",
    "enr.named_steps"
   ]
  },
  {
   "attachments": {},
   "cell_type": "markdown",
   "metadata": {},
   "source": [
    "#### Fit Algorithm to Dataset"
   ]
  },
  {
   "cell_type": "code",
   "execution_count": 27,
   "metadata": {},
   "outputs": [],
   "source": [
    "scores = cross_validate(enr, \n",
    "                        X, \n",
    "                        y, \n",
    "                        cv=8,\n",
    "                        scoring=regression_metric_names,\n",
    "                        return_train_score=True)"
   ]
  },
  {
   "attachments": {},
   "cell_type": "markdown",
   "metadata": {},
   "source": [
    "#### Metrics Evaluation"
   ]
  },
  {
   "cell_type": "code",
   "execution_count": 28,
   "metadata": {},
   "outputs": [
    {
     "name": "stdout",
     "output_type": "stream",
     "text": [
      "+------------------------------------------------+\n",
      "|         Training ElasticNet Regression         |\n",
      "+------------------------------------------------+\n",
      "|                         Metric  |  Value       | \n",
      "+------------------------------------------------+\n",
      "|      Train Mean Absolute Error  |  4173.842    |\n",
      "+------------------------------------------------+\n",
      "|  Train Root Mean Squared Error  |  6024.837    |\n",
      "+------------------------------------------------+\n",
      "\n",
      "+------------------------------------------------+\n",
      "|         Testing ElasticNet Regression          |\n",
      "+------------------------------------------------+\n",
      "|                         Metric  |  Value       | \n",
      "+------------------------------------------------+\n",
      "|       Test Mean Absolute Error  |  4216.534    |\n",
      "+------------------------------------------------+\n",
      "|   Test Root Mean Squared Error  |  6080.401    |\n",
      "+------------------------------------------------+\n"
     ]
    }
   ],
   "source": [
    "regression_eval(\"ElasticNet Regression\", \n",
    "                scores)"
   ]
  },
  {
   "attachments": {},
   "cell_type": "markdown",
   "metadata": {},
   "source": [
    "### Kernel Ridge Regression"
   ]
  },
  {
   "attachments": {},
   "cell_type": "markdown",
   "metadata": {},
   "source": [
    "#### Define Pipeline"
   ]
  },
  {
   "cell_type": "code",
   "execution_count": 29,
   "metadata": {},
   "outputs": [],
   "source": [
    "def kernel_ridge_regression():\n",
    "    \"\"\"\n",
    "    This function creates the Kernel Ridge Regression.\n",
    "    \"\"\"\n",
    "    kernel_ridge_pipe = Pipeline(\n",
    "        [\n",
    "            (\n",
    "                'encoder_column_transformer', \n",
    "                encoder_col_transformer\n",
    "            ),\n",
    "            (\n",
    "                \"scaler\",\n",
    "                StandardScaler()\n",
    "            ),\n",
    "            (\n",
    "                'kernel_ridge_reg', \n",
    "                KernelRidge(kernel='polynomial', \n",
    "                            degree=3, \n",
    "                            gamma=0.01, \n",
    "                            alpha=0.80)\n",
    "             ),\n",
    "        ]\n",
    "    )\n",
    "    \n",
    "    return kernel_ridge_pipe"
   ]
  },
  {
   "attachments": {},
   "cell_type": "markdown",
   "metadata": {},
   "source": [
    "#### Define Model"
   ]
  },
  {
   "cell_type": "code",
   "execution_count": 30,
   "metadata": {},
   "outputs": [
    {
     "data": {
      "text/plain": [
       "{'encoder_column_transformer': ColumnTransformer(remainder='passthrough',\n",
       "                   transformers=[('remove_outliers',\n",
       "                                  FunctionTransformer(func=<function remove_outliers at 0x7f98c81d9ee0>,\n",
       "                                                      kw_args={'features_to_remove': ['age',\n",
       "                                                                                      'bmi']}),\n",
       "                                  ['age', 'bmi']),\n",
       "                                 ('ohe',\n",
       "                                  OneHotEncoder(drop='first',\n",
       "                                                handle_unknown='ignore'),\n",
       "                                  ['sex', 'children', 'smoker', 'region'])]),\n",
       " 'scaler': StandardScaler(),\n",
       " 'kernel_ridge_reg': KernelRidge(alpha=0.8, gamma=0.01, kernel='polynomial')}"
      ]
     },
     "execution_count": 30,
     "metadata": {},
     "output_type": "execute_result"
    }
   ],
   "source": [
    "kr_reg = kernel_ridge_regression()\n",
    "\n",
    "kr_reg.named_steps"
   ]
  },
  {
   "attachments": {},
   "cell_type": "markdown",
   "metadata": {},
   "source": [
    "#### Fit Algorithm to Dataset"
   ]
  },
  {
   "cell_type": "code",
   "execution_count": 31,
   "metadata": {},
   "outputs": [],
   "source": [
    "kr_scores = cross_validate(kr_reg, \n",
    "                        X, \n",
    "                        y, \n",
    "                        cv=8,\n",
    "                        scoring=regression_metric_names,\n",
    "                        return_train_score=True)"
   ]
  },
  {
   "attachments": {},
   "cell_type": "markdown",
   "metadata": {},
   "source": [
    "#### Metrics Evaluation"
   ]
  },
  {
   "cell_type": "code",
   "execution_count": 32,
   "metadata": {},
   "outputs": [
    {
     "name": "stdout",
     "output_type": "stream",
     "text": [
      "+------------------------------------------------+\n",
      "|        Training Kernel Ridge Regression        |\n",
      "+------------------------------------------------+\n",
      "|                         Metric  |  Value       | \n",
      "+------------------------------------------------+\n",
      "|      Train Mean Absolute Error  |  3321.323    |\n",
      "+------------------------------------------------+\n",
      "|  Train Root Mean Squared Error  |  5071.602    |\n",
      "+------------------------------------------------+\n",
      "\n",
      "+------------------------------------------------+\n",
      "|        Testing Kernel Ridge Regression         |\n",
      "+------------------------------------------------+\n",
      "|                         Metric  |  Value       | \n",
      "+------------------------------------------------+\n",
      "|       Test Mean Absolute Error  |  3432.541    |\n",
      "+------------------------------------------------+\n",
      "|   Test Root Mean Squared Error  |  5228.761    |\n",
      "+------------------------------------------------+\n"
     ]
    }
   ],
   "source": [
    "regression_eval(\"Kernel Ridge Regression\", \n",
    "                       kr_scores)"
   ]
  },
  {
   "attachments": {},
   "cell_type": "markdown",
   "metadata": {},
   "source": [
    "### Random Forest Regression"
   ]
  },
  {
   "attachments": {},
   "cell_type": "markdown",
   "metadata": {},
   "source": [
    "#### Define Pipeline"
   ]
  },
  {
   "cell_type": "code",
   "execution_count": 33,
   "metadata": {},
   "outputs": [],
   "source": [
    "def random_forest_regression():\n",
    "    \"\"\"\n",
    "    This function creates the Random Forest Regression.\n",
    "    \"\"\"\n",
    "    rfr_pipe = Pipeline(\n",
    "        [\n",
    "            (\n",
    "                'encoder_column_transformer', \n",
    "                encoder_col_transformer),\n",
    "            (\n",
    "                \"scaler\",\n",
    "                StandardScaler()\n",
    "            ),\n",
    "            (\n",
    "                'random_forest_regressor', \n",
    "                RandomForestRegressor(random_state=42,\n",
    "                                      criterion='poisson', \n",
    "                                      n_estimators=50,\n",
    "                                      max_depth=8,\n",
    "                                      ccp_alpha=4,\n",
    "                                      min_impurity_decrease=21\n",
    "                                      )\n",
    "             ),\n",
    "        ]\n",
    "    )\n",
    "    \n",
    "    return rfr_pipe"
   ]
  },
  {
   "attachments": {},
   "cell_type": "markdown",
   "metadata": {},
   "source": [
    "#### Define Model"
   ]
  },
  {
   "cell_type": "code",
   "execution_count": 34,
   "metadata": {},
   "outputs": [
    {
     "data": {
      "text/plain": [
       "{'encoder_column_transformer': ColumnTransformer(remainder='passthrough',\n",
       "                   transformers=[('remove_outliers',\n",
       "                                  FunctionTransformer(func=<function remove_outliers at 0x7f98c81d9ee0>,\n",
       "                                                      kw_args={'features_to_remove': ['age',\n",
       "                                                                                      'bmi']}),\n",
       "                                  ['age', 'bmi']),\n",
       "                                 ('ohe',\n",
       "                                  OneHotEncoder(drop='first',\n",
       "                                                handle_unknown='ignore'),\n",
       "                                  ['sex', 'children', 'smoker', 'region'])]),\n",
       " 'scaler': StandardScaler(),\n",
       " 'random_forest_regressor': RandomForestRegressor(ccp_alpha=4, criterion='poisson', max_depth=8,\n",
       "                       min_impurity_decrease=21, n_estimators=50,\n",
       "                       random_state=42)}"
      ]
     },
     "execution_count": 34,
     "metadata": {},
     "output_type": "execute_result"
    }
   ],
   "source": [
    "rfr = random_forest_regression()\n",
    "\n",
    "rfr.named_steps"
   ]
  },
  {
   "attachments": {},
   "cell_type": "markdown",
   "metadata": {},
   "source": [
    "#### Fit Classifier to Dataset"
   ]
  },
  {
   "cell_type": "code",
   "execution_count": 35,
   "metadata": {},
   "outputs": [],
   "source": [
    "rfr_scores = cross_validate(rfr, \n",
    "                        X, \n",
    "                        y, \n",
    "                        cv=8,\n",
    "                        scoring=regression_metric_names,\n",
    "                        return_train_score=True)"
   ]
  },
  {
   "attachments": {},
   "cell_type": "markdown",
   "metadata": {},
   "source": [
    "#### Evaluation Metrics"
   ]
  },
  {
   "cell_type": "code",
   "execution_count": 36,
   "metadata": {},
   "outputs": [
    {
     "name": "stdout",
     "output_type": "stream",
     "text": [
      "+------------------------------------------------+\n",
      "|       Training Random Forest Regression        |\n",
      "+------------------------------------------------+\n",
      "|                         Metric  |  Value       | \n",
      "+------------------------------------------------+\n",
      "|      Train Mean Absolute Error  |  2691.715    |\n",
      "+------------------------------------------------+\n",
      "|  Train Root Mean Squared Error  |  4516.914    |\n",
      "+------------------------------------------------+\n",
      "\n",
      "+------------------------------------------------+\n",
      "|        Testing Random Forest Regression        |\n",
      "+------------------------------------------------+\n",
      "|                         Metric  |  Value       | \n",
      "+------------------------------------------------+\n",
      "|       Test Mean Absolute Error  |  2815.081    |\n",
      "+------------------------------------------------+\n",
      "|   Test Root Mean Squared Error  |  4729.052    |\n",
      "+------------------------------------------------+\n"
     ]
    }
   ],
   "source": [
    "regression_eval(\"Random Forest Regression\", \n",
    "                rfr_scores)"
   ]
  },
  {
   "attachments": {},
   "cell_type": "markdown",
   "metadata": {},
   "source": [
    "### SGD Regression"
   ]
  },
  {
   "attachments": {},
   "cell_type": "markdown",
   "metadata": {},
   "source": [
    "#### Define Pipeline"
   ]
  },
  {
   "cell_type": "code",
   "execution_count": 37,
   "metadata": {},
   "outputs": [],
   "source": [
    "def sgd_regression():\n",
    "    \"\"\"\n",
    "    This function creates the Random Forest Regression.\n",
    "    \"\"\"\n",
    "    sgdr_pipe = Pipeline(\n",
    "        [\n",
    "            (\n",
    "                'encoder_column_transformer', \n",
    "                encoder_col_transformer\n",
    "            ),\n",
    "            (\n",
    "                \"scaler\",\n",
    "                StandardScaler()\n",
    "            ),\n",
    "            (\n",
    "                'stochastic_gradient_descent_regressor', \n",
    "                SGDRegressor(random_state=42,\n",
    "                             max_iter=25,\n",
    "                             loss='squared_epsilon_insensitive')\n",
    "             ),\n",
    "        ]\n",
    "    )\n",
    "    \n",
    "    return sgdr_pipe"
   ]
  },
  {
   "attachments": {},
   "cell_type": "markdown",
   "metadata": {},
   "source": [
    "#### Fit Model"
   ]
  },
  {
   "cell_type": "code",
   "execution_count": 38,
   "metadata": {},
   "outputs": [
    {
     "data": {
      "text/plain": [
       "{'encoder_column_transformer': ColumnTransformer(remainder='passthrough',\n",
       "                   transformers=[('remove_outliers',\n",
       "                                  FunctionTransformer(func=<function remove_outliers at 0x7f98c81d9ee0>,\n",
       "                                                      kw_args={'features_to_remove': ['age',\n",
       "                                                                                      'bmi']}),\n",
       "                                  ['age', 'bmi']),\n",
       "                                 ('ohe',\n",
       "                                  OneHotEncoder(drop='first',\n",
       "                                                handle_unknown='ignore'),\n",
       "                                  ['sex', 'children', 'smoker', 'region'])]),\n",
       " 'scaler': StandardScaler(),\n",
       " 'stochastic_gradient_descent_regressor': SGDRegressor(loss='squared_epsilon_insensitive', max_iter=25, random_state=42)}"
      ]
     },
     "execution_count": 38,
     "metadata": {},
     "output_type": "execute_result"
    }
   ],
   "source": [
    "sgdr = sgd_regression()\n",
    "\n",
    "sgdr.named_steps"
   ]
  },
  {
   "attachments": {},
   "cell_type": "markdown",
   "metadata": {},
   "source": [
    "#### Fit Classifier to Dataset"
   ]
  },
  {
   "cell_type": "code",
   "execution_count": 39,
   "metadata": {},
   "outputs": [],
   "source": [
    "sgdr_scores = cross_validate(sgdr, \n",
    "                        X, \n",
    "                        y, \n",
    "                        cv=8,\n",
    "                        scoring=regression_metric_names,\n",
    "                        return_train_score=True)"
   ]
  },
  {
   "attachments": {},
   "cell_type": "markdown",
   "metadata": {},
   "source": [
    "#### Evaluation Metrics"
   ]
  },
  {
   "cell_type": "code",
   "execution_count": 40,
   "metadata": {},
   "outputs": [
    {
     "name": "stdout",
     "output_type": "stream",
     "text": [
      "+------------------------------------------------+\n",
      "|   Training Stochastic Gradient Descent Reg.    |\n",
      "+------------------------------------------------+\n",
      "|                         Metric  |  Value       | \n",
      "+------------------------------------------------+\n",
      "|      Train Mean Absolute Error  |  4163.573    |\n",
      "+------------------------------------------------+\n",
      "|  Train Root Mean Squared Error  |  6030.264    |\n",
      "+------------------------------------------------+\n",
      "\n",
      "+------------------------------------------------+\n",
      "|    Testing Stochastic Gradient Descent Reg.    |\n",
      "+------------------------------------------------+\n",
      "|                         Metric  |  Value       | \n",
      "+------------------------------------------------+\n",
      "|       Test Mean Absolute Error  |  4208.627    |\n",
      "+------------------------------------------------+\n",
      "|   Test Root Mean Squared Error  |  6079.379    |\n",
      "+------------------------------------------------+\n"
     ]
    }
   ],
   "source": [
    "regression_eval(\"Stochastic Gradient Descent Reg.\", \n",
    "                       sgdr_scores)"
   ]
  },
  {
   "attachments": {},
   "cell_type": "markdown",
   "metadata": {},
   "source": [
    "### Bagging Regression"
   ]
  },
  {
   "attachments": {},
   "cell_type": "markdown",
   "metadata": {},
   "source": [
    "#### Define Pipeline"
   ]
  },
  {
   "cell_type": "code",
   "execution_count": 41,
   "metadata": {},
   "outputs": [],
   "source": [
    "def bagging_regression():\n",
    "    \"\"\"\n",
    "    This function creates the Bagging Regression.\n",
    "    \"\"\"\n",
    "    br_pipe = Pipeline(\n",
    "        [\n",
    "            (\n",
    "                'encoder_column_transformer', \n",
    "                encoder_col_transformer),\n",
    "            (\n",
    "                \"scaler\",\n",
    "                StandardScaler()\n",
    "            ),\n",
    "            (\n",
    "                'bagging_regressor', \n",
    "                BaggingRegressor(estimator=RandomForestRegressor(criterion='poisson', \n",
    "                                                                 max_depth=3,\n",
    "                                                                 ),\n",
    "                                 random_state=42,\n",
    "                                 \n",
    "                                 )\n",
    "             ),\n",
    "        ]\n",
    "    )\n",
    "    \n",
    "    return br_pipe"
   ]
  },
  {
   "attachments": {},
   "cell_type": "markdown",
   "metadata": {},
   "source": [
    "#### Define Model"
   ]
  },
  {
   "cell_type": "code",
   "execution_count": 42,
   "metadata": {},
   "outputs": [
    {
     "data": {
      "text/plain": [
       "{'encoder_column_transformer': ColumnTransformer(remainder='passthrough',\n",
       "                   transformers=[('remove_outliers',\n",
       "                                  FunctionTransformer(func=<function remove_outliers at 0x7f98c81d9ee0>,\n",
       "                                                      kw_args={'features_to_remove': ['age',\n",
       "                                                                                      'bmi']}),\n",
       "                                  ['age', 'bmi']),\n",
       "                                 ('ohe',\n",
       "                                  OneHotEncoder(drop='first',\n",
       "                                                handle_unknown='ignore'),\n",
       "                                  ['sex', 'children', 'smoker', 'region'])]),\n",
       " 'scaler': StandardScaler(),\n",
       " 'bagging_regressor': BaggingRegressor(estimator=RandomForestRegressor(criterion='poisson',\n",
       "                                                  max_depth=3),\n",
       "                  random_state=42)}"
      ]
     },
     "execution_count": 42,
     "metadata": {},
     "output_type": "execute_result"
    }
   ],
   "source": [
    "brr = bagging_regression()\n",
    "\n",
    "brr.named_steps"
   ]
  },
  {
   "attachments": {},
   "cell_type": "markdown",
   "metadata": {},
   "source": [
    "#### Fit Classifier to Dataset"
   ]
  },
  {
   "cell_type": "code",
   "execution_count": 43,
   "metadata": {},
   "outputs": [],
   "source": [
    "brr_scores = cross_validate(brr, \n",
    "                        X, \n",
    "                        y, \n",
    "                        cv=10,\n",
    "                        scoring=regression_metric_names,\n",
    "                        return_train_score=True)"
   ]
  },
  {
   "attachments": {},
   "cell_type": "markdown",
   "metadata": {},
   "source": [
    "#### Evaluation Metrics"
   ]
  },
  {
   "cell_type": "code",
   "execution_count": 44,
   "metadata": {},
   "outputs": [
    {
     "name": "stdout",
     "output_type": "stream",
     "text": [
      "+------------------------------------------------+\n",
      "|          Training Bagging Regression           |\n",
      "+------------------------------------------------+\n",
      "|                         Metric  |  Value       | \n",
      "+------------------------------------------------+\n",
      "|      Train Mean Absolute Error  |  2606.222    |\n",
      "+------------------------------------------------+\n",
      "|  Train Root Mean Squared Error  |  4476.611    |\n",
      "+------------------------------------------------+\n",
      "\n",
      "+------------------------------------------------+\n",
      "|           Testing Bagging Regression           |\n",
      "+------------------------------------------------+\n",
      "|                         Metric  |  Value       | \n",
      "+------------------------------------------------+\n",
      "|       Test Mean Absolute Error  |  2683.402    |\n",
      "+------------------------------------------------+\n",
      "|   Test Root Mean Squared Error  |  4548.321    |\n",
      "+------------------------------------------------+\n"
     ]
    }
   ],
   "source": [
    "regression_eval(\"Bagging Regression\", \n",
    "                brr_scores)"
   ]
  },
  {
   "attachments": {},
   "cell_type": "markdown",
   "metadata": {},
   "source": [
    "### AdaBoost Regression"
   ]
  },
  {
   "attachments": {},
   "cell_type": "markdown",
   "metadata": {},
   "source": [
    "#### Define Pipeline"
   ]
  },
  {
   "cell_type": "code",
   "execution_count": 45,
   "metadata": {},
   "outputs": [],
   "source": [
    "def adaboost_regression():\n",
    "    \"\"\"\n",
    "    This function creates the AdaBoost Regression.\n",
    "    \"\"\"\n",
    "    adab_pipe = Pipeline(\n",
    "        [\n",
    "            (\n",
    "                'encoder_column_transformer', \n",
    "                encoder_col_transformer\n",
    "            ),\n",
    "            (\n",
    "                \"scaler\",\n",
    "                StandardScaler()\n",
    "            ),\n",
    "            (\n",
    "                'ada_boost_reg', \n",
    "                AdaBoostRegressor(\n",
    "                    random_state=42,\n",
    "                    estimator=RandomForestRegressor(\n",
    "                        max_depth=3\n",
    "                        ),\n",
    "                    loss='exponential'\n",
    "                    )\n",
    "             ),\n",
    "        ]\n",
    "        )\n",
    "    \n",
    "    return adab_pipe"
   ]
  },
  {
   "attachments": {},
   "cell_type": "markdown",
   "metadata": {},
   "source": [
    "#### Fit Model"
   ]
  },
  {
   "cell_type": "code",
   "execution_count": 46,
   "metadata": {},
   "outputs": [
    {
     "data": {
      "text/plain": [
       "{'encoder_column_transformer': ColumnTransformer(remainder='passthrough',\n",
       "                   transformers=[('remove_outliers',\n",
       "                                  FunctionTransformer(func=<function remove_outliers at 0x7f98c81d9ee0>,\n",
       "                                                      kw_args={'features_to_remove': ['age',\n",
       "                                                                                      'bmi']}),\n",
       "                                  ['age', 'bmi']),\n",
       "                                 ('ohe',\n",
       "                                  OneHotEncoder(drop='first',\n",
       "                                                handle_unknown='ignore'),\n",
       "                                  ['sex', 'children', 'smoker', 'region'])]),\n",
       " 'scaler': StandardScaler(),\n",
       " 'ada_boost_reg': AdaBoostRegressor(estimator=RandomForestRegressor(max_depth=3),\n",
       "                   loss='exponential', random_state=42)}"
      ]
     },
     "execution_count": 46,
     "metadata": {},
     "output_type": "execute_result"
    }
   ],
   "source": [
    "adabr = adaboost_regression()\n",
    "\n",
    "adabr.named_steps"
   ]
  },
  {
   "attachments": {},
   "cell_type": "markdown",
   "metadata": {},
   "source": [
    "#### Fit Classifier to Dataset"
   ]
  },
  {
   "cell_type": "code",
   "execution_count": 47,
   "metadata": {},
   "outputs": [],
   "source": [
    "adabr_scores = cross_validate(adabr, \n",
    "                        X, \n",
    "                        y, \n",
    "                        cv=8,\n",
    "                        scoring=regression_metric_names,\n",
    "                        return_train_score=True)"
   ]
  },
  {
   "attachments": {},
   "cell_type": "markdown",
   "metadata": {},
   "source": [
    "#### Evaluation Metrics"
   ]
  },
  {
   "cell_type": "code",
   "execution_count": 48,
   "metadata": {},
   "outputs": [
    {
     "name": "stdout",
     "output_type": "stream",
     "text": [
      "+------------------------------------------------+\n",
      "|          Training AdaBoost Regression          |\n",
      "+------------------------------------------------+\n",
      "|                         Metric  |  Value       | \n",
      "+------------------------------------------------+\n",
      "|      Train Mean Absolute Error  |  6583.722    |\n",
      "+------------------------------------------------+\n",
      "|  Train Root Mean Squared Error  |  6957.843    |\n",
      "+------------------------------------------------+\n",
      "\n",
      "+------------------------------------------------+\n",
      "|          Testing AdaBoost Regression           |\n",
      "+------------------------------------------------+\n",
      "|                         Metric  |  Value       | \n",
      "+------------------------------------------------+\n",
      "|       Test Mean Absolute Error  |  6696.937    |\n",
      "+------------------------------------------------+\n",
      "|   Test Root Mean Squared Error  |  7139.153    |\n",
      "+------------------------------------------------+\n"
     ]
    }
   ],
   "source": [
    "regression_eval(\"AdaBoost Regression\", \n",
    "                       adabr_scores)"
   ]
  },
  {
   "attachments": {},
   "cell_type": "markdown",
   "metadata": {},
   "source": [
    "### Voting Regression"
   ]
  },
  {
   "attachments": {},
   "cell_type": "markdown",
   "metadata": {},
   "source": [
    "#### Define Estimators"
   ]
  },
  {
   "cell_type": "code",
   "execution_count": 49,
   "metadata": {},
   "outputs": [],
   "source": [
    "estimators = [\n",
    "    (\n",
    "        'random_forest_reg',\n",
    "        rfr\n",
    "    ),\n",
    "    (\n",
    "        'adaboost_reg',\n",
    "        adabr\n",
    "    ),\n",
    "    (\n",
    "        'bagging_regression',\n",
    "        brr\n",
    "    )\n",
    "]"
   ]
  },
  {
   "attachments": {},
   "cell_type": "markdown",
   "metadata": {},
   "source": [
    "#### Fit Model"
   ]
  },
  {
   "cell_type": "code",
   "execution_count": 50,
   "metadata": {},
   "outputs": [],
   "source": [
    "voting_reg = VotingRegressor(\n",
    "    estimators=estimators,\n",
    "    n_jobs=-1\n",
    ")"
   ]
  },
  {
   "attachments": {},
   "cell_type": "markdown",
   "metadata": {},
   "source": [
    "#### Fit Classifier to Training Dataset"
   ]
  },
  {
   "cell_type": "code",
   "execution_count": 51,
   "metadata": {},
   "outputs": [],
   "source": [
    "voting_reg_scores = cross_validate(voting_reg, \n",
    "                        X, \n",
    "                        y, \n",
    "                        cv=8,\n",
    "                        scoring=regression_metric_names,\n",
    "                        return_train_score=True)"
   ]
  },
  {
   "attachments": {},
   "cell_type": "markdown",
   "metadata": {},
   "source": [
    "#### Metrics Evaluation"
   ]
  },
  {
   "cell_type": "code",
   "execution_count": 52,
   "metadata": {},
   "outputs": [
    {
     "name": "stdout",
     "output_type": "stream",
     "text": [
      "+------------------------------------------------+\n",
      "|           Training Voting Regression           |\n",
      "+------------------------------------------------+\n",
      "|                         Metric  |  Value       | \n",
      "+------------------------------------------------+\n",
      "|      Train Mean Absolute Error  |  3826.712    |\n",
      "+------------------------------------------------+\n",
      "|  Train Root Mean Squared Error  |  4759.118    |\n",
      "+------------------------------------------------+\n",
      "\n",
      "+------------------------------------------------+\n",
      "|           Testing Voting Regression            |\n",
      "+------------------------------------------------+\n",
      "|                         Metric  |  Value       | \n",
      "+------------------------------------------------+\n",
      "|       Test Mean Absolute Error  |  3931.007    |\n",
      "+------------------------------------------------+\n",
      "|   Test Root Mean Squared Error  |  4953.546    |\n",
      "+------------------------------------------------+\n"
     ]
    }
   ],
   "source": [
    "regression_eval(\"Voting Regression\", \n",
    "                       voting_reg_scores)"
   ]
  },
  {
   "attachments": {},
   "cell_type": "markdown",
   "metadata": {},
   "source": [
    "### Huber Regression"
   ]
  },
  {
   "attachments": {},
   "cell_type": "markdown",
   "metadata": {},
   "source": [
    "#### Define Pipeline"
   ]
  },
  {
   "cell_type": "code",
   "execution_count": 53,
   "metadata": {},
   "outputs": [],
   "source": [
    "def huber_regression():\n",
    "    \"\"\"\n",
    "    This function creates an instance of \n",
    "    the Huber Regression.\n",
    "    \"\"\"\n",
    "    huber_pipe = Pipeline(\n",
    "        [\n",
    "            (\n",
    "                'encoder_column_transformer', \n",
    "                encoder_col_transformer\n",
    "            ),\n",
    "            (\n",
    "                'huber_regressor', \n",
    "                HuberRegressor(max_iter=500,\n",
    "                               alpha=0.0,\n",
    "                               epsilon=1.01,\n",
    "                               tol=0.01\n",
    "                               )\n",
    "             ),\n",
    "        ]\n",
    "    )\n",
    "    \n",
    "    return huber_pipe"
   ]
  },
  {
   "attachments": {},
   "cell_type": "markdown",
   "metadata": {},
   "source": [
    "#### Define Model"
   ]
  },
  {
   "cell_type": "code",
   "execution_count": 54,
   "metadata": {},
   "outputs": [
    {
     "data": {
      "text/plain": [
       "{'encoder_column_transformer': ColumnTransformer(remainder='passthrough',\n",
       "                   transformers=[('remove_outliers',\n",
       "                                  FunctionTransformer(func=<function remove_outliers at 0x7f98c81d9ee0>,\n",
       "                                                      kw_args={'features_to_remove': ['age',\n",
       "                                                                                      'bmi']}),\n",
       "                                  ['age', 'bmi']),\n",
       "                                 ('ohe',\n",
       "                                  OneHotEncoder(drop='first',\n",
       "                                                handle_unknown='ignore'),\n",
       "                                  ['sex', 'children', 'smoker', 'region'])]),\n",
       " 'huber_regressor': HuberRegressor(alpha=0.0, epsilon=1.01, max_iter=500, tol=0.01)}"
      ]
     },
     "execution_count": 54,
     "metadata": {},
     "output_type": "execute_result"
    }
   ],
   "source": [
    "hr = huber_regression()\n",
    "\n",
    "hr.named_steps"
   ]
  },
  {
   "attachments": {},
   "cell_type": "markdown",
   "metadata": {},
   "source": [
    "#### Fit Classifier to Dataset"
   ]
  },
  {
   "cell_type": "code",
   "execution_count": 55,
   "metadata": {},
   "outputs": [],
   "source": [
    "hr_scores = cross_validate(hr, \n",
    "                        X, \n",
    "                        y, \n",
    "                        cv=10,\n",
    "                        scoring=regression_metric_names,\n",
    "                        return_train_score=True)"
   ]
  },
  {
   "attachments": {},
   "cell_type": "markdown",
   "metadata": {},
   "source": [
    "#### Metrics Evaluation"
   ]
  },
  {
   "cell_type": "code",
   "execution_count": 56,
   "metadata": {},
   "outputs": [
    {
     "name": "stdout",
     "output_type": "stream",
     "text": [
      "+------------------------------------------------+\n",
      "|            Training Huber Regressor            |\n",
      "+------------------------------------------------+\n",
      "|                         Metric  |  Value       | \n",
      "+------------------------------------------------+\n",
      "|      Train Mean Absolute Error  |  3384.822    |\n",
      "+------------------------------------------------+\n",
      "|  Train Root Mean Squared Error  |  6978.032    |\n",
      "+------------------------------------------------+\n",
      "\n",
      "+------------------------------------------------+\n",
      "|            Testing Huber Regressor             |\n",
      "+------------------------------------------------+\n",
      "|                         Metric  |  Value       | \n",
      "+------------------------------------------------+\n",
      "|       Test Mean Absolute Error  |  3395.251    |\n",
      "+------------------------------------------------+\n",
      "|   Test Root Mean Squared Error  |  6956.373    |\n",
      "+------------------------------------------------+\n"
     ]
    }
   ],
   "source": [
    "regression_eval(\"Huber Regressor\", \n",
    "                       hr_scores)"
   ]
  },
  {
   "attachments": {},
   "cell_type": "markdown",
   "metadata": {},
   "source": [
    "### Theil-Sen Regression"
   ]
  },
  {
   "attachments": {},
   "cell_type": "markdown",
   "metadata": {},
   "source": [
    "#### Define Pipeline"
   ]
  },
  {
   "cell_type": "code",
   "execution_count": 57,
   "metadata": {},
   "outputs": [],
   "source": [
    "def theil_sen_regression():\n",
    "    \"\"\"\n",
    "    This function creates the TheilSen Regression.\n",
    "    \"\"\"\n",
    "    theil_pipe = Pipeline(\n",
    "        [\n",
    "            (\n",
    "                'encoder_column_transformer', \n",
    "                encoder_col_transformer\n",
    "            ),\n",
    "            (\n",
    "                'theil_sen_regressor', \n",
    "                TheilSenRegressor(max_iter=900,\n",
    "                               random_state=42,\n",
    "                               tol=0.0001\n",
    "                               )\n",
    "             ),\n",
    "        ]\n",
    "    )\n",
    "    \n",
    "    return theil_pipe"
   ]
  },
  {
   "attachments": {},
   "cell_type": "markdown",
   "metadata": {},
   "source": [
    "#### Define Model"
   ]
  },
  {
   "cell_type": "code",
   "execution_count": 58,
   "metadata": {},
   "outputs": [
    {
     "data": {
      "text/plain": [
       "{'encoder_column_transformer': ColumnTransformer(remainder='passthrough',\n",
       "                   transformers=[('remove_outliers',\n",
       "                                  FunctionTransformer(func=<function remove_outliers at 0x7f98c81d9ee0>,\n",
       "                                                      kw_args={'features_to_remove': ['age',\n",
       "                                                                                      'bmi']}),\n",
       "                                  ['age', 'bmi']),\n",
       "                                 ('ohe',\n",
       "                                  OneHotEncoder(drop='first',\n",
       "                                                handle_unknown='ignore'),\n",
       "                                  ['sex', 'children', 'smoker', 'region'])]),\n",
       " 'theil_sen_regressor': TheilSenRegressor(max_iter=900, random_state=42, tol=0.0001)}"
      ]
     },
     "execution_count": 58,
     "metadata": {},
     "output_type": "execute_result"
    }
   ],
   "source": [
    "tsr = theil_sen_regression()\n",
    "\n",
    "tsr.named_steps"
   ]
  },
  {
   "attachments": {},
   "cell_type": "markdown",
   "metadata": {},
   "source": [
    "#### Fit Classifier to Dataset"
   ]
  },
  {
   "cell_type": "code",
   "execution_count": 59,
   "metadata": {},
   "outputs": [],
   "source": [
    "tsr_scores = cross_validate(tsr, \n",
    "                        X, \n",
    "                        y, \n",
    "                        cv=10,\n",
    "                        scoring=regression_metric_names,\n",
    "                        return_train_score=True)"
   ]
  },
  {
   "attachments": {},
   "cell_type": "markdown",
   "metadata": {},
   "source": [
    "#### Metrics Evaluation"
   ]
  },
  {
   "cell_type": "code",
   "execution_count": 60,
   "metadata": {},
   "outputs": [
    {
     "name": "stdout",
     "output_type": "stream",
     "text": [
      "+------------------------------------------------+\n",
      "|          Training Theil-Sen Regressor          |\n",
      "+------------------------------------------------+\n",
      "|                         Metric  |  Value       | \n",
      "+------------------------------------------------+\n",
      "|      Train Mean Absolute Error  |  3917.016    |\n",
      "+------------------------------------------------+\n",
      "|  Train Root Mean Squared Error  |  6149.624    |\n",
      "+------------------------------------------------+\n",
      "\n",
      "+------------------------------------------------+\n",
      "|          Testing Theil-Sen Regressor           |\n",
      "+------------------------------------------------+\n",
      "|                         Metric  |  Value       | \n",
      "+------------------------------------------------+\n",
      "|       Test Mean Absolute Error  |  3947.392    |\n",
      "+------------------------------------------------+\n",
      "|   Test Root Mean Squared Error  |  6171.622    |\n",
      "+------------------------------------------------+\n"
     ]
    }
   ],
   "source": [
    "regression_eval(\"Theil-Sen Regressor\", \n",
    "                       tsr_scores)"
   ]
  },
  {
   "attachments": {},
   "cell_type": "markdown",
   "metadata": {},
   "source": [
    "### Notes & Other Takeaways From This Project\n",
    "****\n",
    "- The best raw metrics (without taking overfitting into consideration) are for the Bagging Regression model.\n",
    "- Adding consideration for overfitting into the equation, the best model is the Huber model. While it has error that is 26-56 percent higher than the bagging regression model, the Huber model is far less overfitted than the bagging regression model.\n",
    "****"
   ]
  }
 ],
 "metadata": {
  "kernelspec": {
   "display_name": "dl",
   "language": "python",
   "name": "python3"
  },
  "language_info": {
   "codemirror_mode": {
    "name": "ipython",
    "version": 3
   },
   "file_extension": ".py",
   "mimetype": "text/x-python",
   "name": "python",
   "nbconvert_exporter": "python",
   "pygments_lexer": "ipython3",
   "version": "3.9.12"
  },
  "orig_nbformat": 4
 },
 "nbformat": 4,
 "nbformat_minor": 2
}
