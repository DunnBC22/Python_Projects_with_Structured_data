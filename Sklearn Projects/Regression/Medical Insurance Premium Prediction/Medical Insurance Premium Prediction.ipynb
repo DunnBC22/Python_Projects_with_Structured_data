{
 "cells": [
  {
   "attachments": {},
   "cell_type": "markdown",
   "metadata": {},
   "source": [
    "## Medical Insurance Premium Prediction\n",
    "\n",
    "Dataset Source: https://www.kaggle.com/datasets/tejashvi14/medical-insurance-premium-prediction"
   ]
  },
  {
   "attachments": {},
   "cell_type": "markdown",
   "metadata": {},
   "source": [
    "#### Import Necessary Libraries"
   ]
  },
  {
   "cell_type": "code",
   "execution_count": 1,
   "metadata": {},
   "outputs": [],
   "source": [
    "import sys\n",
    "from statistics import mean\n",
    "\n",
    "import numpy as np\n",
    "import pandas as pd\n",
    "\n",
    "import matplotlib.pyplot as plt\n",
    "import seaborn as sns\n",
    "\n",
    "import sklearn\n",
    "from sklearn.model_selection import cross_validate\n",
    "from sklearn.pipeline import Pipeline\n",
    "\n",
    "from sklearn.preprocessing import FunctionTransformer, StandardScaler, MinMaxScaler\n",
    "from sklearn.compose import ColumnTransformer\n",
    "from sklearn.preprocessing import OneHotEncoder\n",
    "\n",
    "from sklearn.kernel_ridge import KernelRidge\n",
    "from sklearn.linear_model import SGDRegressor, ElasticNet\n",
    "from sklearn.svm import SVR\n",
    "\n",
    "from sklearn.ensemble import RandomForestRegressor, AdaBoostRegressor\n",
    "from sklearn.ensemble import StackingRegressor, VotingRegressor, BaggingRegressor\n",
    "\n",
    "import xgboost as xgb\n",
    "from xgboost import XGBRegressor"
   ]
  },
  {
   "attachments": {},
   "cell_type": "markdown",
   "metadata": {},
   "source": [
    "#### Show Library Versions"
   ]
  },
  {
   "cell_type": "code",
   "execution_count": 2,
   "metadata": {},
   "outputs": [
    {
     "name": "stdout",
     "output_type": "stream",
     "text": [
      "Language/Library | Version\n",
      "---------------- | --------\n",
      "          Python : 3.9.12\n",
      "           NumPy : 1.24.3\n",
      "          Pandas : 2.0.1\n",
      "         Sklearn : 1.2.2\n",
      "         XGBoost : 1.7.5\n",
      "         Seaborn : 0.12.2\n"
     ]
    }
   ],
   "source": [
    "n = 18\n",
    "\n",
    "print(f\"Language/Library\".rjust(n-2), '|', 'Version')\n",
    "print('-' * (n-2), '|', '--------')\n",
    "print(\"Python :\".rjust(n), sys.version[0:6])\n",
    "print(\"NumPy :\".rjust(n), np.__version__)\n",
    "print(\"Pandas :\".rjust(n), pd.__version__)\n",
    "print(\"Sklearn :\".rjust(n), sklearn.__version__)\n",
    "print('XGBoost :'.rjust(n), xgb.__version__)\n",
    "print(\"Seaborn :\".rjust(n), sns.__version__)"
   ]
  },
  {
   "attachments": {},
   "cell_type": "markdown",
   "metadata": {},
   "source": [
    "### Initial Data Preprocessing"
   ]
  },
  {
   "attachments": {},
   "cell_type": "markdown",
   "metadata": {},
   "source": [
    "#### Ingest Dataset"
   ]
  },
  {
   "cell_type": "code",
   "execution_count": 3,
   "metadata": {},
   "outputs": [
    {
     "data": {
      "text/html": [
       "<div>\n",
       "<style scoped>\n",
       "    .dataframe tbody tr th:only-of-type {\n",
       "        vertical-align: middle;\n",
       "    }\n",
       "\n",
       "    .dataframe tbody tr th {\n",
       "        vertical-align: top;\n",
       "    }\n",
       "\n",
       "    .dataframe thead th {\n",
       "        text-align: right;\n",
       "    }\n",
       "</style>\n",
       "<table border=\"1\" class=\"dataframe\">\n",
       "  <thead>\n",
       "    <tr style=\"text-align: right;\">\n",
       "      <th></th>\n",
       "      <th>age</th>\n",
       "      <th>diabetes</th>\n",
       "      <th>blood_pressure_problems</th>\n",
       "      <th>any_transplants</th>\n",
       "      <th>any_chronic_diseases</th>\n",
       "      <th>height</th>\n",
       "      <th>weight</th>\n",
       "      <th>known_allergies</th>\n",
       "      <th>history_of_cancer_in_family</th>\n",
       "      <th>number_of_major_surgeries</th>\n",
       "      <th>premium_price</th>\n",
       "    </tr>\n",
       "  </thead>\n",
       "  <tbody>\n",
       "    <tr>\n",
       "      <th>0</th>\n",
       "      <td>45</td>\n",
       "      <td>0</td>\n",
       "      <td>0</td>\n",
       "      <td>0</td>\n",
       "      <td>0</td>\n",
       "      <td>155</td>\n",
       "      <td>57</td>\n",
       "      <td>0</td>\n",
       "      <td>0</td>\n",
       "      <td>0</td>\n",
       "      <td>25000</td>\n",
       "    </tr>\n",
       "    <tr>\n",
       "      <th>1</th>\n",
       "      <td>60</td>\n",
       "      <td>1</td>\n",
       "      <td>0</td>\n",
       "      <td>0</td>\n",
       "      <td>0</td>\n",
       "      <td>180</td>\n",
       "      <td>73</td>\n",
       "      <td>0</td>\n",
       "      <td>0</td>\n",
       "      <td>0</td>\n",
       "      <td>29000</td>\n",
       "    </tr>\n",
       "    <tr>\n",
       "      <th>2</th>\n",
       "      <td>36</td>\n",
       "      <td>1</td>\n",
       "      <td>1</td>\n",
       "      <td>0</td>\n",
       "      <td>0</td>\n",
       "      <td>158</td>\n",
       "      <td>59</td>\n",
       "      <td>0</td>\n",
       "      <td>0</td>\n",
       "      <td>1</td>\n",
       "      <td>23000</td>\n",
       "    </tr>\n",
       "    <tr>\n",
       "      <th>3</th>\n",
       "      <td>52</td>\n",
       "      <td>1</td>\n",
       "      <td>1</td>\n",
       "      <td>0</td>\n",
       "      <td>1</td>\n",
       "      <td>183</td>\n",
       "      <td>93</td>\n",
       "      <td>0</td>\n",
       "      <td>0</td>\n",
       "      <td>2</td>\n",
       "      <td>28000</td>\n",
       "    </tr>\n",
       "    <tr>\n",
       "      <th>4</th>\n",
       "      <td>38</td>\n",
       "      <td>0</td>\n",
       "      <td>0</td>\n",
       "      <td>0</td>\n",
       "      <td>1</td>\n",
       "      <td>166</td>\n",
       "      <td>88</td>\n",
       "      <td>0</td>\n",
       "      <td>0</td>\n",
       "      <td>1</td>\n",
       "      <td>23000</td>\n",
       "    </tr>\n",
       "  </tbody>\n",
       "</table>\n",
       "</div>"
      ],
      "text/plain": [
       "   age  diabetes  blood_pressure_problems  any_transplants   \n",
       "0   45         0                        0                0  \\\n",
       "1   60         1                        0                0   \n",
       "2   36         1                        1                0   \n",
       "3   52         1                        1                0   \n",
       "4   38         0                        0                0   \n",
       "\n",
       "   any_chronic_diseases  height  weight  known_allergies   \n",
       "0                     0     155      57                0  \\\n",
       "1                     0     180      73                0   \n",
       "2                     0     158      59                0   \n",
       "3                     1     183      93                0   \n",
       "4                     1     166      88                0   \n",
       "\n",
       "   history_of_cancer_in_family  number_of_major_surgeries  premium_price  \n",
       "0                            0                          0          25000  \n",
       "1                            0                          0          29000  \n",
       "2                            0                          1          23000  \n",
       "3                            0                          2          28000  \n",
       "4                            0                          1          23000  "
      ]
     },
     "execution_count": 3,
     "metadata": {},
     "output_type": "execute_result"
    }
   ],
   "source": [
    "col_names = [\"age\",\n",
    "             \"diabetes\",\n",
    "             \"blood_pressure_problems\",\n",
    "             \"any_transplants\",\n",
    "             \"any_chronic_diseases\",\n",
    "             \"height\",\n",
    "             \"weight\",\n",
    "             \"known_allergies\",\n",
    "             \"history_of_cancer_in_family\",\n",
    "             \"number_of_major_surgeries\",\n",
    "             \"premium_price\"\n",
    "             ]\n",
    "\n",
    "dtypes = {\"age\": np.int8,\n",
    "          \"diabetes\": np.int8,\n",
    "          \"blood_pressure_problems\": np.int8,\n",
    "          \"any_transplants\": np.int8,\n",
    "          \"any_chronic_diseases\": np.int8,\n",
    "          \"height\": np.int16,\n",
    "          \"weight\": np.int16,\n",
    "          \"known_allergies\": np.int8,\n",
    "          \"history_of_cancer_in_family\": np.int8,\n",
    "          \"number_of_major_surgeries\": np.int8,\n",
    "          \"premium_price\": np.int32\n",
    "            }\n",
    "\n",
    "data = pd.read_csv(\"Medicalpremium.csv\",\n",
    "                   names=col_names, \n",
    "                   dtype=dtypes,\n",
    "                   engine='c',\n",
    "                   header=0)\n",
    "\n",
    "data.head()"
   ]
  },
  {
   "attachments": {},
   "cell_type": "markdown",
   "metadata": {},
   "source": [
    "#### More Dataset Information"
   ]
  },
  {
   "cell_type": "code",
   "execution_count": 4,
   "metadata": {},
   "outputs": [
    {
     "name": "stdout",
     "output_type": "stream",
     "text": [
      "<class 'pandas.core.frame.DataFrame'>\n",
      "RangeIndex: 986 entries, 0 to 985\n",
      "Data columns (total 11 columns):\n",
      " #   Column                       Non-Null Count  Dtype\n",
      "---  ------                       --------------  -----\n",
      " 0   age                          986 non-null    int8 \n",
      " 1   diabetes                     986 non-null    int8 \n",
      " 2   blood_pressure_problems      986 non-null    int8 \n",
      " 3   any_transplants              986 non-null    int8 \n",
      " 4   any_chronic_diseases         986 non-null    int8 \n",
      " 5   height                       986 non-null    int16\n",
      " 6   weight                       986 non-null    int16\n",
      " 7   known_allergies              986 non-null    int8 \n",
      " 8   history_of_cancer_in_family  986 non-null    int8 \n",
      " 9   number_of_major_surgeries    986 non-null    int8 \n",
      " 10  premium_price                986 non-null    int32\n",
      "dtypes: int16(2), int32(1), int8(8)\n",
      "memory usage: 15.5 KB\n"
     ]
    }
   ],
   "source": [
    "data.info()"
   ]
  },
  {
   "attachments": {},
   "cell_type": "markdown",
   "metadata": {},
   "source": [
    "### Visualizations"
   ]
  },
  {
   "attachments": {},
   "cell_type": "markdown",
   "metadata": {},
   "source": [
    "#### Create Function to Visualize Features (Histograms)"
   ]
  },
  {
   "cell_type": "code",
   "execution_count": 5,
   "metadata": {},
   "outputs": [],
   "source": [
    "def histogram_visual(feature_to_visualize: pd.Series,\n",
    "                     num_of_bins: int,\n",
    "                     plot_title: str,\n",
    "                     x_label: str,\n",
    "                     x_start: float = -1.0,\n",
    "                     y_label: str = \"# of Samples\",\n",
    "                     ):\n",
    "    \"\"\"\n",
    "    This function returns a histogram for a feature.\n",
    "    \n",
    "    Inputs: \n",
    "    - feature_to_visualize: Feature to plot in the form \n",
    "    of pandas Series.\n",
    "    - plot_title: The title of the plot/visual.\n",
    "    - x_label: The string label value for the x label.\n",
    "    - x_start: To force the x-axis of the visual to start at \n",
    "    a specified value instead of the automatically generated \n",
    "    value, assign the float value here. Otherwise, the \n",
    "    autogenerated start value will be used.\n",
    "    - y_label: The string label value for the y label.\n",
    "    \n",
    "    Output:\n",
    "    - A histogram.\n",
    "    \"\"\"\n",
    "    \n",
    "    assert type(feature_to_visualize) == pd.Series, \\\n",
    "        \"Make sure the dataset input type is a Pandas Series.\"\n",
    "    assert type(plot_title) != 'str', \\\n",
    "        \"The title value must be a string value.\"\n",
    "    assert type(x_label) !=  'str', \\\n",
    "        \"The x label value must be a string value.\"\n",
    "    assert type(y_label) != 'str', \\\n",
    "        \"The y label value must be a string value.\"\n",
    "    assert type(x_start) != 'float', \\\n",
    "        \"The x_start value must be a float value.\"\n",
    "    \n",
    "    ax = feature_to_visualize.hist(grid=False, \n",
    "                                   bins=num_of_bins, \n",
    "                                   figsize=(18, 8))\n",
    "    plt.suptitle('')\n",
    "    plt.title(plot_title)\n",
    "    plt.ylabel(y_label)\n",
    "    plt.xlabel(x_label)\n",
    "    \n",
    "    if x_start != -1:\n",
    "        plt.xlim([0, (max(feature_to_visualize) + (1/num_of_bins))])\n",
    "\n",
    "    plt.show()"
   ]
  },
  {
   "attachments": {},
   "cell_type": "markdown",
   "metadata": {},
   "source": [
    "#### Dataset Visualization: Customer's Ages"
   ]
  },
  {
   "cell_type": "code",
   "execution_count": 6,
   "metadata": {},
   "outputs": [
    {
     "data": {
      "image/png": "[encoded data removed]",
      "text/plain": [
       "<Figure size 1800x800 with 1 Axes>"
      ]
     },
     "metadata": {},
     "output_type": "display_data"
    },
    {
     "name": "stdout",
     "output_type": "stream",
     "text": [
      "The age range is 18 to 66 years old.\n"
     ]
    }
   ],
   "source": [
    "histogram_visual(data['age'],\n",
    "                 num_of_bins=49,\n",
    "                 plot_title=\"Histogram of Customer's Ages\",\n",
    "                 x_label=\"Age\")\n",
    "\n",
    "print(f\"The age range is {min(data['age'])} to\" + \n",
    "      f\" {max(data['age'])} years old.\")"
   ]
  },
  {
   "attachments": {},
   "cell_type": "markdown",
   "metadata": {},
   "source": [
    "#### Dataset Visualization: Customer's Heights"
   ]
  },
  {
   "cell_type": "code",
   "execution_count": 7,
   "metadata": {},
   "outputs": [
    {
     "data": {
      "image/png": "[encoded data removed]",
      "text/plain": [
       "<Figure size 1800x800 with 1 Axes>"
      ]
     },
     "metadata": {},
     "output_type": "display_data"
    },
    {
     "name": "stdout",
     "output_type": "stream",
     "text": [
      "The height range is 145 to 188.\n"
     ]
    }
   ],
   "source": [
    "histogram_visual(data['height'],\n",
    "                 num_of_bins=44,\n",
    "                 plot_title=\"Histogram of Height\",\n",
    "                 x_label=\"Height\")\n",
    "\n",
    "print(f\"The height range is {min(data['height'])} to\" + \n",
    "      f\" {max(data['height'])}.\")"
   ]
  },
  {
   "attachments": {},
   "cell_type": "markdown",
   "metadata": {},
   "source": [
    "#### Dataset Visualization: Customer's Weights"
   ]
  },
  {
   "cell_type": "code",
   "execution_count": 8,
   "metadata": {},
   "outputs": [
    {
     "data": {
      "image/png": "[encoded data removed]",
      "text/plain": [
       "<Figure size 1800x800 with 1 Axes>"
      ]
     },
     "metadata": {},
     "output_type": "display_data"
    },
    {
     "name": "stdout",
     "output_type": "stream",
     "text": [
      "The weight range is 51 to 132.\n"
     ]
    }
   ],
   "source": [
    "histogram_visual(data['weight'],\n",
    "                 num_of_bins=81,\n",
    "                 plot_title=\"Histogram of Weight\",\n",
    "                 x_label=\"Weight\")\n",
    "\n",
    "print(f\"The weight range is {min(data['weight'])} to\" + \n",
    "      f\" {max(data['weight'])}.\")"
   ]
  },
  {
   "attachments": {},
   "cell_type": "markdown",
   "metadata": {},
   "source": [
    "#### Dataset Visualization: Premium Prices"
   ]
  },
  {
   "cell_type": "code",
   "execution_count": 9,
   "metadata": {},
   "outputs": [
    {
     "data": {
      "image/png": "[encoded data removed]",
      "text/plain": [
       "<Figure size 1800x800 with 1 Axes>"
      ]
     },
     "metadata": {},
     "output_type": "display_data"
    },
    {
     "name": "stdout",
     "output_type": "stream",
     "text": [
      "The premium prices ranged from 15000 to 40000.\n"
     ]
    }
   ],
   "source": [
    "histogram_visual(data['premium_price'],\n",
    "                 num_of_bins=27,\n",
    "                 plot_title=\"Histogram of Premium Prices\",\n",
    "                 x_label=\"Premium Prices\")\n",
    "\n",
    "print(f\"The premium prices ranged\" +\n",
    "      f\" from {min(data['premium_price'])}\" + \n",
    "      f\" to {max(data['premium_price'])}.\")"
   ]
  },
  {
   "attachments": {},
   "cell_type": "markdown",
   "metadata": {},
   "source": [
    "#### Create Function to Visualize Features (Barplot)"
   ]
  },
  {
   "cell_type": "code",
   "execution_count": 10,
   "metadata": {},
   "outputs": [],
   "source": [
    "def barplot_visual(feature_to_visualize: pd.Series,\n",
    "                   plot_title: str,\n",
    "                   x_label: str,\n",
    "                   y_label: str = \"# of Samples\",\n",
    "                   ):\n",
    "    \"\"\"\n",
    "    This function returns a histogram for a feature.\n",
    "    \n",
    "    Inputs: \n",
    "    - feature_to_visualize: Feature to plot in the form \n",
    "    of pandas Series.\n",
    "    - plot_title: The title of the plot/visual.\n",
    "    - x_label: The string label value for the x label.\n",
    "    - y_label: The string label value for the y label.\n",
    "    \n",
    "    Output:\n",
    "    - A Bar Plot.\n",
    "    \"\"\"\n",
    "    \n",
    "    assert type(feature_to_visualize) == pd.Series, \\\n",
    "        \"Make sure the dataset input type is a Pandas Series.\"\n",
    "    assert type(plot_title) != 'str', \\\n",
    "        \"The title value must be a string value.\"\n",
    "    assert type(x_label) !=  'str', \\\n",
    "        \"The x label value must be a string value.\"\n",
    "    assert type(y_label) != 'str', \\\n",
    "        \"The y label value must be a string value.\"\n",
    "        \n",
    "    ax = feature_to_visualize.value_counts().plot.bar( \n",
    "                                                      figsize=(12,8),\n",
    "                                                      rot=0, \n",
    "                                                      legend=False,\n",
    "                                                      color=[\"lightgreen\", \n",
    "                                                             \"blue\", \n",
    "                                                             \"brown\", \n",
    "                                                             \"lightblue\",\n",
    "                                                             \"tan\", \n",
    "                                                             \"yellow\", \n",
    "                                                             \"orange\",\n",
    "                                                             \"green\", \n",
    "                                                             \"red\",\n",
    "                                                             \"purple\"]\n",
    "                                                      )\n",
    "    \n",
    "    ax.bar_label(ax.containers[0])\n",
    "    \n",
    "    plt.suptitle('')\n",
    "    plt.title(plot_title)\n",
    "    plt.ylabel(y_label)\n",
    "    plt.xlabel(x_label)\n",
    "    \n",
    "    plt.show()"
   ]
  },
  {
   "attachments": {},
   "cell_type": "markdown",
   "metadata": {},
   "source": [
    "#### Dataset Visualization: Diabetes"
   ]
  },
  {
   "cell_type": "code",
   "execution_count": 11,
   "metadata": {},
   "outputs": [
    {
     "data": {
      "image/png": "[encoded data removed]",
      "text/plain": [
       "<Figure size 1200x800 with 1 Axes>"
      ]
     },
     "metadata": {},
     "output_type": "display_data"
    }
   ],
   "source": [
    "barplot_visual(data[\"diabetes\"],\n",
    "               \"Does Customer Have Diabetes?\",\n",
    "               \"Diabetes or Not Outcome\",\n",
    "               \"# of Samples\",\n",
    "               )"
   ]
  },
  {
   "attachments": {},
   "cell_type": "markdown",
   "metadata": {},
   "source": [
    "#### Dataset Visualization: Blood Pressure Problems"
   ]
  },
  {
   "cell_type": "code",
   "execution_count": 12,
   "metadata": {},
   "outputs": [
    {
     "data": {
      "image/png": "[encoded data removed]",
      "text/plain": [
       "<Figure size 1200x800 with 1 Axes>"
      ]
     },
     "metadata": {},
     "output_type": "display_data"
    }
   ],
   "source": [
    "barplot_visual(data[\"blood_pressure_problems\"],\n",
    "               \"Does Customer Have Blood Pressure Problems?\",\n",
    "               \"Blood Pressure Outcomes\",\n",
    "               \"# of Samples\",\n",
    "               )"
   ]
  },
  {
   "attachments": {},
   "cell_type": "markdown",
   "metadata": {},
   "source": [
    "#### Dataset Visualization: Any Transplants"
   ]
  },
  {
   "cell_type": "code",
   "execution_count": 13,
   "metadata": {},
   "outputs": [
    {
     "data": {
      "image/png": "[encoded data removed]",
      "text/plain": [
       "<Figure size 1200x800 with 1 Axes>"
      ]
     },
     "metadata": {},
     "output_type": "display_data"
    }
   ],
   "source": [
    "barplot_visual(data[\"any_transplants\"],\n",
    "               \"Does Customer Have Any Transplants?\",\n",
    "               \"Transplants or Not\",\n",
    "               \"# of Samples\",\n",
    "               )"
   ]
  },
  {
   "attachments": {},
   "cell_type": "markdown",
   "metadata": {},
   "source": [
    "#### Dataset Visualization: Any Chronic Diseases"
   ]
  },
  {
   "cell_type": "code",
   "execution_count": 14,
   "metadata": {},
   "outputs": [
    {
     "data": {
      "image/png": "[encoded data removed]",
      "text/plain": [
       "<Figure size 1200x800 with 1 Axes>"
      ]
     },
     "metadata": {},
     "output_type": "display_data"
    }
   ],
   "source": [
    "barplot_visual(data[\"any_chronic_diseases\"],\n",
    "               \"Does Customer Have Any Chronic Diseases?\",\n",
    "               \"Chronic Diseases or Not\",\n",
    "               \"# of Samples\",\n",
    "               )"
   ]
  },
  {
   "attachments": {},
   "cell_type": "markdown",
   "metadata": {},
   "source": [
    "#### Dataset Visualization: Known Allergies"
   ]
  },
  {
   "cell_type": "code",
   "execution_count": 15,
   "metadata": {},
   "outputs": [
    {
     "data": {
      "image/png": "[encoded data removed]",
      "text/plain": [
       "<Figure size 1200x800 with 1 Axes>"
      ]
     },
     "metadata": {},
     "output_type": "display_data"
    }
   ],
   "source": [
    "barplot_visual(data[\"known_allergies\"],\n",
    "               \"Does Customer Have Any Known Allergies?\",\n",
    "               \"Known Allergies Or Not\",\n",
    "               \"# of Samples\",\n",
    "               )"
   ]
  },
  {
   "attachments": {},
   "cell_type": "markdown",
   "metadata": {},
   "source": [
    "#### Dataset Visualization: History of Cancer in Family"
   ]
  },
  {
   "cell_type": "code",
   "execution_count": 16,
   "metadata": {},
   "outputs": [
    {
     "data": {
      "image/png": "[encoded data removed]",
      "text/plain": [
       "<Figure size 1200x800 with 1 Axes>"
      ]
     },
     "metadata": {},
     "output_type": "display_data"
    }
   ],
   "source": [
    "barplot_visual(data[\"history_of_cancer_in_family\"],\n",
    "               \"Does Cancer Run in Family?\",\n",
    "               \"Cancer in Family or Not\",\n",
    "               \"# of Samples\",\n",
    "               )"
   ]
  },
  {
   "attachments": {},
   "cell_type": "markdown",
   "metadata": {},
   "source": [
    "#### Dataset Visualization: Number of Major Surgeries"
   ]
  },
  {
   "cell_type": "code",
   "execution_count": 17,
   "metadata": {},
   "outputs": [
    {
     "data": {
      "image/png": "[encoded data removed]",
      "text/plain": [
       "<Figure size 1200x800 with 1 Axes>"
      ]
     },
     "metadata": {},
     "output_type": "display_data"
    }
   ],
   "source": [
    "barplot_visual(data[\"number_of_major_surgeries\"],\n",
    "               \"How Many Major Surgeries Has Customer Had?\",\n",
    "               \"Number of Major Surgeries\",\n",
    "               \"# of Samples\",\n",
    "               )"
   ]
  },
  {
   "attachments": {},
   "cell_type": "markdown",
   "metadata": {},
   "source": [
    "### Exploratory Data Analysis & Preprocessing"
   ]
  },
  {
   "attachments": {},
   "cell_type": "markdown",
   "metadata": {},
   "source": [
    "#### Descriptive Statistics"
   ]
  },
  {
   "cell_type": "code",
   "execution_count": 18,
   "metadata": {},
   "outputs": [
    {
     "data": {
      "text/html": [
       "<div>\n",
       "<style scoped>\n",
       "    .dataframe tbody tr th:only-of-type {\n",
       "        vertical-align: middle;\n",
       "    }\n",
       "\n",
       "    .dataframe tbody tr th {\n",
       "        vertical-align: top;\n",
       "    }\n",
       "\n",
       "    .dataframe thead th {\n",
       "        text-align: right;\n",
       "    }\n",
       "</style>\n",
       "<table border=\"1\" class=\"dataframe\">\n",
       "  <thead>\n",
       "    <tr style=\"text-align: right;\">\n",
       "      <th></th>\n",
       "      <th>age</th>\n",
       "      <th>diabetes</th>\n",
       "      <th>blood_pressure_problems</th>\n",
       "      <th>any_transplants</th>\n",
       "      <th>any_chronic_diseases</th>\n",
       "      <th>height</th>\n",
       "      <th>weight</th>\n",
       "      <th>known_allergies</th>\n",
       "      <th>history_of_cancer_in_family</th>\n",
       "      <th>number_of_major_surgeries</th>\n",
       "      <th>premium_price</th>\n",
       "    </tr>\n",
       "  </thead>\n",
       "  <tbody>\n",
       "    <tr>\n",
       "      <th>count</th>\n",
       "      <td>986.000000</td>\n",
       "      <td>986.000000</td>\n",
       "      <td>986.000000</td>\n",
       "      <td>986.000000</td>\n",
       "      <td>986.000000</td>\n",
       "      <td>986.000000</td>\n",
       "      <td>986.000000</td>\n",
       "      <td>986.000000</td>\n",
       "      <td>986.000000</td>\n",
       "      <td>986.000000</td>\n",
       "      <td>986.000000</td>\n",
       "    </tr>\n",
       "    <tr>\n",
       "      <th>mean</th>\n",
       "      <td>41.745436</td>\n",
       "      <td>0.419878</td>\n",
       "      <td>0.468560</td>\n",
       "      <td>0.055781</td>\n",
       "      <td>0.180527</td>\n",
       "      <td>168.182556</td>\n",
       "      <td>76.950304</td>\n",
       "      <td>0.215010</td>\n",
       "      <td>0.117647</td>\n",
       "      <td>0.667343</td>\n",
       "      <td>24336.713996</td>\n",
       "    </tr>\n",
       "    <tr>\n",
       "      <th>std</th>\n",
       "      <td>13.963371</td>\n",
       "      <td>0.493789</td>\n",
       "      <td>0.499264</td>\n",
       "      <td>0.229615</td>\n",
       "      <td>0.384821</td>\n",
       "      <td>10.098155</td>\n",
       "      <td>14.265096</td>\n",
       "      <td>0.411038</td>\n",
       "      <td>0.322353</td>\n",
       "      <td>0.749205</td>\n",
       "      <td>6248.184382</td>\n",
       "    </tr>\n",
       "    <tr>\n",
       "      <th>min</th>\n",
       "      <td>18.000000</td>\n",
       "      <td>0.000000</td>\n",
       "      <td>0.000000</td>\n",
       "      <td>0.000000</td>\n",
       "      <td>0.000000</td>\n",
       "      <td>145.000000</td>\n",
       "      <td>51.000000</td>\n",
       "      <td>0.000000</td>\n",
       "      <td>0.000000</td>\n",
       "      <td>0.000000</td>\n",
       "      <td>15000.000000</td>\n",
       "    </tr>\n",
       "    <tr>\n",
       "      <th>1%</th>\n",
       "      <td>18.000000</td>\n",
       "      <td>0.000000</td>\n",
       "      <td>0.000000</td>\n",
       "      <td>0.000000</td>\n",
       "      <td>0.000000</td>\n",
       "      <td>147.000000</td>\n",
       "      <td>52.850000</td>\n",
       "      <td>0.000000</td>\n",
       "      <td>0.000000</td>\n",
       "      <td>0.000000</td>\n",
       "      <td>15000.000000</td>\n",
       "    </tr>\n",
       "    <tr>\n",
       "      <th>10%</th>\n",
       "      <td>22.000000</td>\n",
       "      <td>0.000000</td>\n",
       "      <td>0.000000</td>\n",
       "      <td>0.000000</td>\n",
       "      <td>0.000000</td>\n",
       "      <td>154.000000</td>\n",
       "      <td>59.000000</td>\n",
       "      <td>0.000000</td>\n",
       "      <td>0.000000</td>\n",
       "      <td>0.000000</td>\n",
       "      <td>15000.000000</td>\n",
       "    </tr>\n",
       "    <tr>\n",
       "      <th>25%</th>\n",
       "      <td>30.000000</td>\n",
       "      <td>0.000000</td>\n",
       "      <td>0.000000</td>\n",
       "      <td>0.000000</td>\n",
       "      <td>0.000000</td>\n",
       "      <td>161.000000</td>\n",
       "      <td>67.000000</td>\n",
       "      <td>0.000000</td>\n",
       "      <td>0.000000</td>\n",
       "      <td>0.000000</td>\n",
       "      <td>21000.000000</td>\n",
       "    </tr>\n",
       "    <tr>\n",
       "      <th>50%</th>\n",
       "      <td>42.000000</td>\n",
       "      <td>0.000000</td>\n",
       "      <td>0.000000</td>\n",
       "      <td>0.000000</td>\n",
       "      <td>0.000000</td>\n",
       "      <td>168.000000</td>\n",
       "      <td>75.000000</td>\n",
       "      <td>0.000000</td>\n",
       "      <td>0.000000</td>\n",
       "      <td>1.000000</td>\n",
       "      <td>23000.000000</td>\n",
       "    </tr>\n",
       "    <tr>\n",
       "      <th>75%</th>\n",
       "      <td>53.000000</td>\n",
       "      <td>1.000000</td>\n",
       "      <td>1.000000</td>\n",
       "      <td>0.000000</td>\n",
       "      <td>0.000000</td>\n",
       "      <td>176.000000</td>\n",
       "      <td>87.000000</td>\n",
       "      <td>0.000000</td>\n",
       "      <td>0.000000</td>\n",
       "      <td>1.000000</td>\n",
       "      <td>28000.000000</td>\n",
       "    </tr>\n",
       "    <tr>\n",
       "      <th>90%</th>\n",
       "      <td>62.000000</td>\n",
       "      <td>1.000000</td>\n",
       "      <td>1.000000</td>\n",
       "      <td>0.000000</td>\n",
       "      <td>1.000000</td>\n",
       "      <td>182.000000</td>\n",
       "      <td>95.000000</td>\n",
       "      <td>1.000000</td>\n",
       "      <td>1.000000</td>\n",
       "      <td>2.000000</td>\n",
       "      <td>31000.000000</td>\n",
       "    </tr>\n",
       "    <tr>\n",
       "      <th>99%</th>\n",
       "      <td>66.000000</td>\n",
       "      <td>1.000000</td>\n",
       "      <td>1.000000</td>\n",
       "      <td>1.000000</td>\n",
       "      <td>1.000000</td>\n",
       "      <td>186.000000</td>\n",
       "      <td>121.000000</td>\n",
       "      <td>1.000000</td>\n",
       "      <td>1.000000</td>\n",
       "      <td>3.000000</td>\n",
       "      <td>38000.000000</td>\n",
       "    </tr>\n",
       "    <tr>\n",
       "      <th>max</th>\n",
       "      <td>66.000000</td>\n",
       "      <td>1.000000</td>\n",
       "      <td>1.000000</td>\n",
       "      <td>1.000000</td>\n",
       "      <td>1.000000</td>\n",
       "      <td>188.000000</td>\n",
       "      <td>132.000000</td>\n",
       "      <td>1.000000</td>\n",
       "      <td>1.000000</td>\n",
       "      <td>3.000000</td>\n",
       "      <td>40000.000000</td>\n",
       "    </tr>\n",
       "  </tbody>\n",
       "</table>\n",
       "</div>"
      ],
      "text/plain": [
       "              age    diabetes  blood_pressure_problems  any_transplants   \n",
       "count  986.000000  986.000000               986.000000       986.000000  \\\n",
       "mean    41.745436    0.419878                 0.468560         0.055781   \n",
       "std     13.963371    0.493789                 0.499264         0.229615   \n",
       "min     18.000000    0.000000                 0.000000         0.000000   \n",
       "1%      18.000000    0.000000                 0.000000         0.000000   \n",
       "10%     22.000000    0.000000                 0.000000         0.000000   \n",
       "25%     30.000000    0.000000                 0.000000         0.000000   \n",
       "50%     42.000000    0.000000                 0.000000         0.000000   \n",
       "75%     53.000000    1.000000                 1.000000         0.000000   \n",
       "90%     62.000000    1.000000                 1.000000         0.000000   \n",
       "99%     66.000000    1.000000                 1.000000         1.000000   \n",
       "max     66.000000    1.000000                 1.000000         1.000000   \n",
       "\n",
       "       any_chronic_diseases      height      weight  known_allergies   \n",
       "count            986.000000  986.000000  986.000000       986.000000  \\\n",
       "mean               0.180527  168.182556   76.950304         0.215010   \n",
       "std                0.384821   10.098155   14.265096         0.411038   \n",
       "min                0.000000  145.000000   51.000000         0.000000   \n",
       "1%                 0.000000  147.000000   52.850000         0.000000   \n",
       "10%                0.000000  154.000000   59.000000         0.000000   \n",
       "25%                0.000000  161.000000   67.000000         0.000000   \n",
       "50%                0.000000  168.000000   75.000000         0.000000   \n",
       "75%                0.000000  176.000000   87.000000         0.000000   \n",
       "90%                1.000000  182.000000   95.000000         1.000000   \n",
       "99%                1.000000  186.000000  121.000000         1.000000   \n",
       "max                1.000000  188.000000  132.000000         1.000000   \n",
       "\n",
       "       history_of_cancer_in_family  number_of_major_surgeries  premium_price  \n",
       "count                   986.000000                 986.000000     986.000000  \n",
       "mean                      0.117647                   0.667343   24336.713996  \n",
       "std                       0.322353                   0.749205    6248.184382  \n",
       "min                       0.000000                   0.000000   15000.000000  \n",
       "1%                        0.000000                   0.000000   15000.000000  \n",
       "10%                       0.000000                   0.000000   15000.000000  \n",
       "25%                       0.000000                   0.000000   21000.000000  \n",
       "50%                       0.000000                   1.000000   23000.000000  \n",
       "75%                       0.000000                   1.000000   28000.000000  \n",
       "90%                       1.000000                   2.000000   31000.000000  \n",
       "99%                       1.000000                   3.000000   38000.000000  \n",
       "max                       1.000000                   3.000000   40000.000000  "
      ]
     },
     "execution_count": 18,
     "metadata": {},
     "output_type": "execute_result"
    }
   ],
   "source": [
    "data.describe(percentiles=[0.01, 0.10, 0.25, 0.50, 0.75, 0.90, 0.99], include='all')"
   ]
  },
  {
   "attachments": {},
   "cell_type": "markdown",
   "metadata": {},
   "source": [
    "### Prepare Shared Pipeline Data & Stages/Steps"
   ]
  },
  {
   "attachments": {},
   "cell_type": "markdown",
   "metadata": {},
   "source": [
    "#### Split Dataset into Training & Testing Datasets"
   ]
  },
  {
   "cell_type": "code",
   "execution_count": 19,
   "metadata": {},
   "outputs": [
    {
     "name": "stdout",
     "output_type": "stream",
     "text": [
      "Training Inputs Dataset Shape: (986, 10)\n",
      "Training Outputs Dataset Shape: (986,)\n"
     ]
    }
   ],
   "source": [
    "data = data.rename(columns={\"premium_price\": \"label\"})\n",
    "\n",
    "y = data['label']\n",
    "X = data.drop(columns=['label'], axis=1)\n",
    "\n",
    "print(f\"Training Inputs Dataset Shape: {X.shape}\")\n",
    "print(f\"Training Outputs Dataset Shape: {y.shape}\")"
   ]
  },
  {
   "attachments": {},
   "cell_type": "markdown",
   "metadata": {},
   "source": [
    "#### Define Column Lists for Transformers (Pipeline Stages) & Transform to Integer Values"
   ]
  },
  {
   "cell_type": "code",
   "execution_count": 20,
   "metadata": {},
   "outputs": [],
   "source": [
    "numerical_features = [\"weight\", \n",
    "                      \"height\", \n",
    "                      \"age\"]\n",
    "\n",
    "nom_features = [\"diabetes\",\n",
    "                \"blood_pressure_problems\",\n",
    "                \"any_transplants\",\n",
    "                \"any_chronic_diseases\",\n",
    "                \"known_allergies\",\n",
    "                \"history_of_cancer_in_family\",\n",
    "                \"number_of_major_surgeries\"\n",
    "                ]"
   ]
  },
  {
   "attachments": {},
   "cell_type": "markdown",
   "metadata": {},
   "source": [
    "#### Remove Outliers"
   ]
  },
  {
   "cell_type": "code",
   "execution_count": 21,
   "metadata": {},
   "outputs": [],
   "source": [
    "# Remove outliers using the 'IQR * 1.5' rule\n",
    "def remove_outliers(df, features_to_remove):\n",
    "    df = pd.DataFrame(df).copy()\n",
    "    for feat in features_to_remove:\n",
    "        x = df[feat]\n",
    "        q1, q3 = x.quantile([0.25, 0.75])\n",
    "        iqr = q3-q1\n",
    "        ul = q3 + (iqr * 1.5)\n",
    "        ll = q1 - (iqr * 1.5)\n",
    "        neo_df = df[(df[feat] >= ll) | (df[feat] <= ul)]\n",
    "    return neo_df\n",
    "\n",
    "outlier_remover = FunctionTransformer(remove_outliers, \n",
    "                                      kw_args={\n",
    "                                          'features_to_remove': numerical_features\n",
    "                                          }\n",
    "                                      )"
   ]
  },
  {
   "attachments": {},
   "cell_type": "markdown",
   "metadata": {},
   "source": [
    "#### Create Column Transformer"
   ]
  },
  {
   "cell_type": "code",
   "execution_count": 22,
   "metadata": {},
   "outputs": [],
   "source": [
    "encoder_col_transformer = ColumnTransformer(\n",
    "    [\n",
    "        (\n",
    "            \"remove_outliers\",\n",
    "            outlier_remover,\n",
    "            numerical_features\n",
    "        ),\n",
    "        (\n",
    "            'ohe', \n",
    "            OneHotEncoder(handle_unknown='ignore',\n",
    "                          dtype=np.float64), \n",
    "            nom_features)\n",
    "    ], \n",
    "    remainder='passthrough')"
   ]
  },
  {
   "attachments": {},
   "cell_type": "markdown",
   "metadata": {},
   "source": [
    "#### Metrics Evaluation Method"
   ]
  },
  {
   "cell_type": "code",
   "execution_count": 23,
   "metadata": {},
   "outputs": [],
   "source": [
    "regression_metric_names = ('neg_mean_absolute_error', \n",
    "                           'neg_root_mean_squared_error', \n",
    "                           )\n",
    "\n",
    "def regression_eval(model_name: str,\n",
    "                    scores: tuple(),\n",
    "                    ) -> None:\n",
    "    '''\n",
    "    Calculate & display metrics for a regression analysis.\n",
    "    '''\n",
    "    \n",
    "    metrics_titles = [\"Mean Absolute Error\", \n",
    "                      \"Root Mean Squared Error\", \n",
    "                      ]\n",
    "        \n",
    "\n",
    "    print(\"+------------------------------------------------+\")\n",
    "    print(\"|  \" + (\"Training \" + model_name).center(44) + \"  |\")\n",
    "    print(\"+------------------------------------------------+\")\n",
    "    print(\"|  %s  |  %s   | \" % (\"Metric\".rjust(29), \"Value\".ljust(9)))\n",
    "    print(\"+------------------------------------------------+\")\n",
    "    for x in range(len(regression_metric_names)):\n",
    "        \n",
    "        name = \"train_\" + regression_metric_names[x]\n",
    "        \n",
    "        score = mean(scores[name])\n",
    "        \n",
    "        if score < 0:\n",
    "            score = score * -1\n",
    "        \n",
    "        print(\"| %s  |  %s   |\" % ((\"Train \" + metrics_titles[x]).rjust(30), str(round(score, 3)).ljust(9)))\n",
    "        print(\"+------------------------------------------------+\")\n",
    "    \n",
    "    print()\n",
    "    \n",
    "    print(\"+------------------------------------------------+\")\n",
    "    print(\"|  \" + (\"Testing \" + model_name).center(44) + \"  |\")\n",
    "    print(\"+------------------------------------------------+\")\n",
    "    print(\"|  %s  |  %s   | \" % (\"Metric\".rjust(29), \"Value\".ljust(9)))\n",
    "    print(\"+------------------------------------------------+\")\n",
    "    for x in range(len(regression_metric_names)):\n",
    "        name = \"test_\" + regression_metric_names[x]\n",
    "        score = mean(scores[name])\n",
    "        \n",
    "        if score < 0:\n",
    "            score = score * -1\n",
    "        \n",
    "        print(\"| %s  |  %s   |\" % ((\"Test \" + metrics_titles[x]).rjust(30), str(round(score, 3)).ljust(9)))\n",
    "        print(\"+------------------------------------------------+\")"
   ]
  },
  {
   "attachments": {},
   "cell_type": "markdown",
   "metadata": {},
   "source": [
    "### SVM Regression (SVR)"
   ]
  },
  {
   "attachments": {},
   "cell_type": "markdown",
   "metadata": {},
   "source": [
    "#### Define Pipeline"
   ]
  },
  {
   "cell_type": "code",
   "execution_count": 24,
   "metadata": {},
   "outputs": [],
   "source": [
    "def svm_regression():\n",
    "    \"\"\"\n",
    "    This function creates the SVM Regression.\n",
    "    \"\"\"\n",
    "    svmr_pipe = Pipeline(\n",
    "        [\n",
    "            (\n",
    "                'encoder_column_transformer', \n",
    "                encoder_col_transformer\n",
    "            ),\n",
    "            (\n",
    "                \"scaler\",\n",
    "                StandardScaler()\n",
    "            ),\n",
    "            (\n",
    "                'svm_reg', \n",
    "                SVR(kernel='linear')\n",
    "             ),\n",
    "        ]\n",
    "    )\n",
    "    \n",
    "    return svmr_pipe"
   ]
  },
  {
   "attachments": {},
   "cell_type": "markdown",
   "metadata": {},
   "source": [
    "#### Define Model"
   ]
  },
  {
   "cell_type": "code",
   "execution_count": 25,
   "metadata": {},
   "outputs": [
    {
     "data": {
      "text/plain": [
       "{'encoder_column_transformer': ColumnTransformer(remainder='passthrough',\n",
       "                   transformers=[('remove_outliers',\n",
       "                                  FunctionTransformer(func=<function remove_outliers at 0x7fcf591ba670>,\n",
       "                                                      kw_args={'features_to_remove': ['weight',\n",
       "                                                                                      'height',\n",
       "                                                                                      'age']}),\n",
       "                                  ['weight', 'height', 'age']),\n",
       "                                 ('ohe', OneHotEncoder(handle_unknown='ignore'),\n",
       "                                  ['diabetes', 'blood_pressure_problems',\n",
       "                                   'any_transplants', 'any_chronic_diseases',\n",
       "                                   'known_allergies',\n",
       "                                   'history_of_cancer_in_family',\n",
       "                                   'number_of_major_surgeries'])]),\n",
       " 'scaler': StandardScaler(),\n",
       " 'svm_reg': SVR(kernel='linear')}"
      ]
     },
     "execution_count": 25,
     "metadata": {},
     "output_type": "execute_result"
    }
   ],
   "source": [
    "svmr = svm_regression()\n",
    "\n",
    "svmr.named_steps"
   ]
  },
  {
   "attachments": {},
   "cell_type": "markdown",
   "metadata": {},
   "source": [
    "#### Fit Algorithm to Dataset"
   ]
  },
  {
   "cell_type": "code",
   "execution_count": 26,
   "metadata": {},
   "outputs": [],
   "source": [
    "svmr_scores = cross_validate(svmr, \n",
    "                              X, \n",
    "                              y, \n",
    "                              cv=10,\n",
    "                              scoring=regression_metric_names,\n",
    "                              return_train_score=True)"
   ]
  },
  {
   "attachments": {},
   "cell_type": "markdown",
   "metadata": {},
   "source": [
    "#### Metrics Evaluation"
   ]
  },
  {
   "cell_type": "code",
   "execution_count": 27,
   "metadata": {},
   "outputs": [
    {
     "name": "stdout",
     "output_type": "stream",
     "text": [
      "+------------------------------------------------+\n",
      "|            Training SVM Regression             |\n",
      "+------------------------------------------------+\n",
      "|                         Metric  |  Value       | \n",
      "+------------------------------------------------+\n",
      "|      Train Mean Absolute Error  |  4138.064    |\n",
      "+------------------------------------------------+\n",
      "|  Train Root Mean Squared Error  |  5582.912    |\n",
      "+------------------------------------------------+\n",
      "\n",
      "+------------------------------------------------+\n",
      "|             Testing SVM Regression             |\n",
      "+------------------------------------------------+\n",
      "|                         Metric  |  Value       | \n",
      "+------------------------------------------------+\n",
      "|       Test Mean Absolute Error  |  4159.905    |\n",
      "+------------------------------------------------+\n",
      "|   Test Root Mean Squared Error  |  5584.832    |\n",
      "+------------------------------------------------+\n"
     ]
    }
   ],
   "source": [
    "regression_eval(\"SVM Regression\", \n",
    "                svmr_scores)"
   ]
  },
  {
   "attachments": {},
   "cell_type": "markdown",
   "metadata": {},
   "source": [
    "### ElasticNet Regression"
   ]
  },
  {
   "attachments": {},
   "cell_type": "markdown",
   "metadata": {},
   "source": [
    "#### Define Pipeline"
   ]
  },
  {
   "cell_type": "code",
   "execution_count": 28,
   "metadata": {},
   "outputs": [],
   "source": [
    "def elastic_net_regression():\n",
    "    \"\"\"\n",
    "    This function creates the ElasticNet Regression.\n",
    "    \"\"\"\n",
    "    en_reg_pipe = Pipeline(\n",
    "        [\n",
    "            (\n",
    "                'encoder_column_transformer', \n",
    "                encoder_col_transformer\n",
    "            ),\n",
    "            (\n",
    "                'scaler', \n",
    "                MinMaxScaler(),\n",
    "            ),\n",
    "            (\n",
    "                'elastic_net_reg', \n",
    "                ElasticNet(selection='random',\n",
    "                           random_state=42, \n",
    "                           max_iter=15000, \n",
    "                           alpha=0.01, \n",
    "                           l1_ratio=0.99)\n",
    "             ),\n",
    "        ]\n",
    "        )\n",
    "    \n",
    "    return en_reg_pipe"
   ]
  },
  {
   "attachments": {},
   "cell_type": "markdown",
   "metadata": {},
   "source": [
    "#### Define Model"
   ]
  },
  {
   "cell_type": "code",
   "execution_count": 29,
   "metadata": {},
   "outputs": [
    {
     "data": {
      "text/plain": [
       "{'encoder_column_transformer': ColumnTransformer(remainder='passthrough',\n",
       "                   transformers=[('remove_outliers',\n",
       "                                  FunctionTransformer(func=<function remove_outliers at 0x7fcf591ba670>,\n",
       "                                                      kw_args={'features_to_remove': ['weight',\n",
       "                                                                                      'height',\n",
       "                                                                                      'age']}),\n",
       "                                  ['weight', 'height', 'age']),\n",
       "                                 ('ohe', OneHotEncoder(handle_unknown='ignore'),\n",
       "                                  ['diabetes', 'blood_pressure_problems',\n",
       "                                   'any_transplants', 'any_chronic_diseases',\n",
       "                                   'known_allergies',\n",
       "                                   'history_of_cancer_in_family',\n",
       "                                   'number_of_major_surgeries'])]),\n",
       " 'scaler': MinMaxScaler(),\n",
       " 'elastic_net_reg': ElasticNet(alpha=0.01, l1_ratio=0.99, max_iter=15000, random_state=42,\n",
       "            selection='random')}"
      ]
     },
     "execution_count": 29,
     "metadata": {},
     "output_type": "execute_result"
    }
   ],
   "source": [
    "enr = elastic_net_regression()\n",
    "\n",
    "enr.named_steps"
   ]
  },
  {
   "attachments": {},
   "cell_type": "markdown",
   "metadata": {},
   "source": [
    "#### Fit Algorithm to Dataset"
   ]
  },
  {
   "cell_type": "code",
   "execution_count": 30,
   "metadata": {},
   "outputs": [],
   "source": [
    "enr_scores = cross_validate(enr, \n",
    "                              X, \n",
    "                              y, \n",
    "                              n_jobs=-1,\n",
    "                              cv=10,\n",
    "                              scoring=regression_metric_names,\n",
    "                              return_train_score=True)"
   ]
  },
  {
   "attachments": {},
   "cell_type": "markdown",
   "metadata": {},
   "source": [
    "#### Metrics Evaluation"
   ]
  },
  {
   "cell_type": "code",
   "execution_count": 31,
   "metadata": {},
   "outputs": [
    {
     "name": "stdout",
     "output_type": "stream",
     "text": [
      "+------------------------------------------------+\n",
      "|         Training ElasticNet Regression         |\n",
      "+------------------------------------------------+\n",
      "|                         Metric  |  Value       | \n",
      "+------------------------------------------------+\n",
      "|      Train Mean Absolute Error  |  2644.255    |\n",
      "+------------------------------------------------+\n",
      "|  Train Root Mean Squared Error  |  3701.591    |\n",
      "+------------------------------------------------+\n",
      "\n",
      "+------------------------------------------------+\n",
      "|         Testing ElasticNet Regression          |\n",
      "+------------------------------------------------+\n",
      "|                         Metric  |  Value       | \n",
      "+------------------------------------------------+\n",
      "|       Test Mean Absolute Error  |  2679.45     |\n",
      "+------------------------------------------------+\n",
      "|   Test Root Mean Squared Error  |  3696.354    |\n",
      "+------------------------------------------------+\n"
     ]
    }
   ],
   "source": [
    "regression_eval(\"ElasticNet Regression\", \n",
    "                       enr_scores)"
   ]
  },
  {
   "attachments": {},
   "cell_type": "markdown",
   "metadata": {},
   "source": [
    "### Kernel Ridge Regression"
   ]
  },
  {
   "attachments": {},
   "cell_type": "markdown",
   "metadata": {},
   "source": [
    "#### Define Pipeline"
   ]
  },
  {
   "cell_type": "code",
   "execution_count": 32,
   "metadata": {},
   "outputs": [],
   "source": [
    "def kernel_ridge_regression():\n",
    "    \"\"\"\n",
    "    This function creates the Kernel Ridge Regression.\n",
    "    \"\"\"\n",
    "    kernel_ridge_pipe = Pipeline(\n",
    "        [\n",
    "            (\n",
    "                'encoder_column_transformer', \n",
    "                encoder_col_transformer\n",
    "            ),\n",
    "            (\n",
    "                \"scaler\",\n",
    "                StandardScaler()\n",
    "            ),\n",
    "            (\n",
    "                'kernel_ridge_reg', \n",
    "                KernelRidge(kernel='poly',\n",
    "                            alpha=0.01,\n",
    "                            gamma=0.01,\n",
    "                            degree=2)\n",
    "             ),\n",
    "        ]\n",
    "    )\n",
    "    \n",
    "    return kernel_ridge_pipe"
   ]
  },
  {
   "attachments": {},
   "cell_type": "markdown",
   "metadata": {},
   "source": [
    "#### Define Model"
   ]
  },
  {
   "cell_type": "code",
   "execution_count": 33,
   "metadata": {},
   "outputs": [
    {
     "data": {
      "text/plain": [
       "{'encoder_column_transformer': ColumnTransformer(remainder='passthrough',\n",
       "                   transformers=[('remove_outliers',\n",
       "                                  FunctionTransformer(func=<function remove_outliers at 0x7fcf591ba670>,\n",
       "                                                      kw_args={'features_to_remove': ['weight',\n",
       "                                                                                      'height',\n",
       "                                                                                      'age']}),\n",
       "                                  ['weight', 'height', 'age']),\n",
       "                                 ('ohe', OneHotEncoder(handle_unknown='ignore'),\n",
       "                                  ['diabetes', 'blood_pressure_problems',\n",
       "                                   'any_transplants', 'any_chronic_diseases',\n",
       "                                   'known_allergies',\n",
       "                                   'history_of_cancer_in_family',\n",
       "                                   'number_of_major_surgeries'])]),\n",
       " 'scaler': StandardScaler(),\n",
       " 'kernel_ridge_reg': KernelRidge(alpha=0.01, degree=2, gamma=0.01, kernel='poly')}"
      ]
     },
     "execution_count": 33,
     "metadata": {},
     "output_type": "execute_result"
    }
   ],
   "source": [
    "kr_reg = kernel_ridge_regression()\n",
    "\n",
    "kr_reg.named_steps"
   ]
  },
  {
   "attachments": {},
   "cell_type": "markdown",
   "metadata": {},
   "source": [
    "#### Fit Algorithm to Dataset"
   ]
  },
  {
   "cell_type": "code",
   "execution_count": 34,
   "metadata": {},
   "outputs": [],
   "source": [
    "kr_scores = cross_validate(kr_reg, \n",
    "                              X, \n",
    "                              y, \n",
    "                              n_jobs=-1,\n",
    "                              cv=10,\n",
    "                              scoring=regression_metric_names,\n",
    "                              return_train_score=True)"
   ]
  },
  {
   "attachments": {},
   "cell_type": "markdown",
   "metadata": {},
   "source": [
    "#### Metrics Evaluation"
   ]
  },
  {
   "cell_type": "code",
   "execution_count": 35,
   "metadata": {},
   "outputs": [
    {
     "name": "stdout",
     "output_type": "stream",
     "text": [
      "+------------------------------------------------+\n",
      "|        Training Kernel Ridge Regression        |\n",
      "+------------------------------------------------+\n",
      "|                         Metric  |  Value       | \n",
      "+------------------------------------------------+\n",
      "|      Train Mean Absolute Error  |  2074.237    |\n",
      "+------------------------------------------------+\n",
      "|  Train Root Mean Squared Error  |  3120.717    |\n",
      "+------------------------------------------------+\n",
      "\n",
      "+------------------------------------------------+\n",
      "|        Testing Kernel Ridge Regression         |\n",
      "+------------------------------------------------+\n",
      "|                         Metric  |  Value       | \n",
      "+------------------------------------------------+\n",
      "|       Test Mean Absolute Error  |  2300.432    |\n",
      "+------------------------------------------------+\n",
      "|   Test Root Mean Squared Error  |  3432.023    |\n",
      "+------------------------------------------------+\n"
     ]
    }
   ],
   "source": [
    "regression_eval(\"Kernel Ridge Regression\", \n",
    "                       kr_scores)"
   ]
  },
  {
   "attachments": {},
   "cell_type": "markdown",
   "metadata": {},
   "source": [
    "### Random Forest Regression"
   ]
  },
  {
   "attachments": {},
   "cell_type": "markdown",
   "metadata": {},
   "source": [
    "#### Define Pipeline"
   ]
  },
  {
   "cell_type": "code",
   "execution_count": 36,
   "metadata": {},
   "outputs": [],
   "source": [
    "def random_forest_regression():\n",
    "    \"\"\"\n",
    "    This function creates the Random Forest Regression.\n",
    "    \"\"\"\n",
    "    rfr_pipe = Pipeline(\n",
    "        [\n",
    "            (\n",
    "                'encoder_column_transformer', \n",
    "                encoder_col_transformer),\n",
    "            (\n",
    "                \"scaler\",\n",
    "                StandardScaler()\n",
    "            ),\n",
    "            (\n",
    "                'bagging_regressor', \n",
    "                RandomForestRegressor(random_state=42,\n",
    "                                      criterion='poisson', \n",
    "                                      n_estimators=400,\n",
    "                                      max_depth=10,\n",
    "                                      ccp_alpha=2.75\n",
    "                                      )\n",
    "             ),\n",
    "        ]\n",
    "    )\n",
    "    \n",
    "    return rfr_pipe"
   ]
  },
  {
   "attachments": {},
   "cell_type": "markdown",
   "metadata": {},
   "source": [
    "#### Define Model"
   ]
  },
  {
   "cell_type": "code",
   "execution_count": 37,
   "metadata": {},
   "outputs": [
    {
     "data": {
      "text/plain": [
       "{'encoder_column_transformer': ColumnTransformer(remainder='passthrough',\n",
       "                   transformers=[('remove_outliers',\n",
       "                                  FunctionTransformer(func=<function remove_outliers at 0x7fcf591ba670>,\n",
       "                                                      kw_args={'features_to_remove': ['weight',\n",
       "                                                                                      'height',\n",
       "                                                                                      'age']}),\n",
       "                                  ['weight', 'height', 'age']),\n",
       "                                 ('ohe', OneHotEncoder(handle_unknown='ignore'),\n",
       "                                  ['diabetes', 'blood_pressure_problems',\n",
       "                                   'any_transplants', 'any_chronic_diseases',\n",
       "                                   'known_allergies',\n",
       "                                   'history_of_cancer_in_family',\n",
       "                                   'number_of_major_surgeries'])]),\n",
       " 'scaler': StandardScaler(),\n",
       " 'bagging_regressor': RandomForestRegressor(ccp_alpha=2.75, criterion='poisson', max_depth=10,\n",
       "                       n_estimators=400, random_state=42)}"
      ]
     },
     "execution_count": 37,
     "metadata": {},
     "output_type": "execute_result"
    }
   ],
   "source": [
    "rfr = random_forest_regression()\n",
    "\n",
    "rfr.named_steps"
   ]
  },
  {
   "attachments": {},
   "cell_type": "markdown",
   "metadata": {},
   "source": [
    "#### Fit Classifier to Dataset"
   ]
  },
  {
   "cell_type": "code",
   "execution_count": 38,
   "metadata": {},
   "outputs": [],
   "source": [
    "rfr_scores = cross_validate(rfr, \n",
    "                              X, \n",
    "                              y, \n",
    "                              n_jobs=-1,\n",
    "                              cv=10,\n",
    "                              scoring=regression_metric_names,\n",
    "                              return_train_score=True)"
   ]
  },
  {
   "attachments": {},
   "cell_type": "markdown",
   "metadata": {},
   "source": [
    "#### Evaluation Metrics"
   ]
  },
  {
   "cell_type": "code",
   "execution_count": 39,
   "metadata": {},
   "outputs": [
    {
     "name": "stdout",
     "output_type": "stream",
     "text": [
      "+------------------------------------------------+\n",
      "|       Training Random Forest Regression        |\n",
      "+------------------------------------------------+\n",
      "|                         Metric  |  Value       | \n",
      "+------------------------------------------------+\n",
      "|      Train Mean Absolute Error  |  912.91      |\n",
      "+------------------------------------------------+\n",
      "|  Train Root Mean Squared Error  |  1796.076    |\n",
      "+------------------------------------------------+\n",
      "\n",
      "+------------------------------------------------+\n",
      "|        Testing Random Forest Regression        |\n",
      "+------------------------------------------------+\n",
      "|                         Metric  |  Value       | \n",
      "+------------------------------------------------+\n",
      "|       Test Mean Absolute Error  |  1290.688    |\n",
      "+------------------------------------------------+\n",
      "|   Test Root Mean Squared Error  |  2690.663    |\n",
      "+------------------------------------------------+\n"
     ]
    }
   ],
   "source": [
    "regression_eval(\"Random Forest Regression\", \n",
    "                rfr_scores)"
   ]
  },
  {
   "attachments": {},
   "cell_type": "markdown",
   "metadata": {},
   "source": [
    "### SGD Regression"
   ]
  },
  {
   "attachments": {},
   "cell_type": "markdown",
   "metadata": {},
   "source": [
    "#### Define Pipeline"
   ]
  },
  {
   "cell_type": "code",
   "execution_count": 40,
   "metadata": {},
   "outputs": [],
   "source": [
    "def sgd_regression():\n",
    "    \"\"\"\n",
    "    This function creates the Random Forest Regression.\n",
    "    \"\"\"\n",
    "    sgdr_pipe = Pipeline(\n",
    "        [\n",
    "            (\n",
    "                'encoder_column_transformer', \n",
    "                encoder_col_transformer\n",
    "            ),\n",
    "            (\n",
    "                \"scaler\",\n",
    "                StandardScaler()\n",
    "            ),\n",
    "            (\n",
    "                'stochastic_gradient_descent_regressor', \n",
    "                SGDRegressor(random_state=42,\n",
    "                             loss='squared_error',\n",
    "                             alpha=0.0001,\n",
    "                             max_iter=2500,\n",
    "                             learning_rate='invscaling',\n",
    "                             eta0=0.001,\n",
    "                             power_t=0.01\n",
    "                             )\n",
    "             ),\n",
    "        ]\n",
    "    )\n",
    "    \n",
    "    return sgdr_pipe"
   ]
  },
  {
   "attachments": {},
   "cell_type": "markdown",
   "metadata": {},
   "source": [
    "#### Fit Model"
   ]
  },
  {
   "cell_type": "code",
   "execution_count": 41,
   "metadata": {},
   "outputs": [
    {
     "data": {
      "text/plain": [
       "{'encoder_column_transformer': ColumnTransformer(remainder='passthrough',\n",
       "                   transformers=[('remove_outliers',\n",
       "                                  FunctionTransformer(func=<function remove_outliers at 0x7fcf591ba670>,\n",
       "                                                      kw_args={'features_to_remove': ['weight',\n",
       "                                                                                      'height',\n",
       "                                                                                      'age']}),\n",
       "                                  ['weight', 'height', 'age']),\n",
       "                                 ('ohe', OneHotEncoder(handle_unknown='ignore'),\n",
       "                                  ['diabetes', 'blood_pressure_problems',\n",
       "                                   'any_transplants', 'any_chronic_diseases',\n",
       "                                   'known_allergies',\n",
       "                                   'history_of_cancer_in_family',\n",
       "                                   'number_of_major_surgeries'])]),\n",
       " 'scaler': StandardScaler(),\n",
       " 'stochastic_gradient_descent_regressor': SGDRegressor(eta0=0.001, max_iter=2500, power_t=0.01, random_state=42)}"
      ]
     },
     "execution_count": 41,
     "metadata": {},
     "output_type": "execute_result"
    }
   ],
   "source": [
    "sgdr = sgd_regression()\n",
    "\n",
    "sgdr.named_steps"
   ]
  },
  {
   "attachments": {},
   "cell_type": "markdown",
   "metadata": {},
   "source": [
    "#### Fit Classifier to Dataset"
   ]
  },
  {
   "cell_type": "code",
   "execution_count": 42,
   "metadata": {},
   "outputs": [],
   "source": [
    "sgdr_scores = cross_validate(sgdr, \n",
    "                              X, \n",
    "                              y, \n",
    "                              n_jobs=-1,\n",
    "                              cv=10,\n",
    "                              scoring=regression_metric_names,\n",
    "                              return_train_score=True)"
   ]
  },
  {
   "attachments": {},
   "cell_type": "markdown",
   "metadata": {},
   "source": [
    "#### Evaluation Metrics"
   ]
  },
  {
   "cell_type": "code",
   "execution_count": 43,
   "metadata": {},
   "outputs": [
    {
     "name": "stdout",
     "output_type": "stream",
     "text": [
      "+------------------------------------------------+\n",
      "|  Training Stochastic Grad. Descent Regression  |\n",
      "+------------------------------------------------+\n",
      "|                         Metric  |  Value       | \n",
      "+------------------------------------------------+\n",
      "|      Train Mean Absolute Error  |  2644.718    |\n",
      "+------------------------------------------------+\n",
      "|  Train Root Mean Squared Error  |  3704.851    |\n",
      "+------------------------------------------------+\n",
      "\n",
      "+------------------------------------------------+\n",
      "|  Testing Stochastic Grad. Descent Regression   |\n",
      "+------------------------------------------------+\n",
      "|                         Metric  |  Value       | \n",
      "+------------------------------------------------+\n",
      "|       Test Mean Absolute Error  |  2675.173    |\n",
      "+------------------------------------------------+\n",
      "|   Test Root Mean Squared Error  |  3693.946    |\n",
      "+------------------------------------------------+\n"
     ]
    }
   ],
   "source": [
    "regression_eval(\"Stochastic Grad. Descent Regression\", \n",
    "                       sgdr_scores)"
   ]
  },
  {
   "attachments": {},
   "cell_type": "markdown",
   "metadata": {},
   "source": [
    "### Bagging Regression"
   ]
  },
  {
   "attachments": {},
   "cell_type": "markdown",
   "metadata": {},
   "source": [
    "#### Define Pipeline"
   ]
  },
  {
   "cell_type": "code",
   "execution_count": 44,
   "metadata": {},
   "outputs": [],
   "source": [
    "def bagging_regression():\n",
    "    \"\"\"\n",
    "    This function creates the Bagging Regression.\n",
    "    \"\"\"\n",
    "    br_pipe = Pipeline(\n",
    "        [\n",
    "            (\n",
    "                'encoder_column_transformer', \n",
    "                encoder_col_transformer),\n",
    "            (\n",
    "                \"scaler\",\n",
    "                StandardScaler()\n",
    "            ),\n",
    "            (\n",
    "                'bagging_regressor', \n",
    "                BaggingRegressor(n_estimators=50,\n",
    "                                 max_features=0.99,\n",
    "                                 random_state=42\n",
    "                                 )\n",
    "             ),\n",
    "        ]\n",
    "        )\n",
    "    \n",
    "    return br_pipe"
   ]
  },
  {
   "attachments": {},
   "cell_type": "markdown",
   "metadata": {},
   "source": [
    "#### Define Model"
   ]
  },
  {
   "cell_type": "code",
   "execution_count": 45,
   "metadata": {},
   "outputs": [
    {
     "data": {
      "text/plain": [
       "{'encoder_column_transformer': ColumnTransformer(remainder='passthrough',\n",
       "                   transformers=[('remove_outliers',\n",
       "                                  FunctionTransformer(func=<function remove_outliers at 0x7fcf591ba670>,\n",
       "                                                      kw_args={'features_to_remove': ['weight',\n",
       "                                                                                      'height',\n",
       "                                                                                      'age']}),\n",
       "                                  ['weight', 'height', 'age']),\n",
       "                                 ('ohe', OneHotEncoder(handle_unknown='ignore'),\n",
       "                                  ['diabetes', 'blood_pressure_problems',\n",
       "                                   'any_transplants', 'any_chronic_diseases',\n",
       "                                   'known_allergies',\n",
       "                                   'history_of_cancer_in_family',\n",
       "                                   'number_of_major_surgeries'])]),\n",
       " 'scaler': StandardScaler(),\n",
       " 'bagging_regressor': BaggingRegressor(max_features=0.99, n_estimators=50, random_state=42)}"
      ]
     },
     "execution_count": 45,
     "metadata": {},
     "output_type": "execute_result"
    }
   ],
   "source": [
    "brr = bagging_regression()\n",
    "\n",
    "brr.named_steps"
   ]
  },
  {
   "attachments": {},
   "cell_type": "markdown",
   "metadata": {},
   "source": [
    "#### Fit Classifier to Dataset"
   ]
  },
  {
   "cell_type": "code",
   "execution_count": 46,
   "metadata": {},
   "outputs": [],
   "source": [
    "brr_scores = cross_validate(brr, \n",
    "                              X, \n",
    "                              y, \n",
    "                              n_jobs=-1,\n",
    "                              cv=10,\n",
    "                              scoring=regression_metric_names,\n",
    "                              return_train_score=True)"
   ]
  },
  {
   "attachments": {},
   "cell_type": "markdown",
   "metadata": {},
   "source": [
    "#### Evaluation Metrics"
   ]
  },
  {
   "cell_type": "code",
   "execution_count": 47,
   "metadata": {},
   "outputs": [
    {
     "name": "stdout",
     "output_type": "stream",
     "text": [
      "+------------------------------------------------+\n",
      "|          Training Bagging Regression           |\n",
      "+------------------------------------------------+\n",
      "|                         Metric  |  Value       | \n",
      "+------------------------------------------------+\n",
      "|      Train Mean Absolute Error  |  450.446     |\n",
      "+------------------------------------------------+\n",
      "|  Train Root Mean Squared Error  |  1088.937    |\n",
      "+------------------------------------------------+\n",
      "\n",
      "+------------------------------------------------+\n",
      "|           Testing Bagging Regression           |\n",
      "+------------------------------------------------+\n",
      "|                         Metric  |  Value       | \n",
      "+------------------------------------------------+\n",
      "|       Test Mean Absolute Error  |  1147.526    |\n",
      "+------------------------------------------------+\n",
      "|   Test Root Mean Squared Error  |  2678.048    |\n",
      "+------------------------------------------------+\n"
     ]
    }
   ],
   "source": [
    "regression_eval(\"Bagging Regression\", \n",
    "                brr_scores)"
   ]
  },
  {
   "attachments": {},
   "cell_type": "markdown",
   "metadata": {},
   "source": [
    "### AdaBoost Regression"
   ]
  },
  {
   "attachments": {},
   "cell_type": "markdown",
   "metadata": {},
   "source": [
    "#### Define Pipeline"
   ]
  },
  {
   "cell_type": "code",
   "execution_count": 48,
   "metadata": {},
   "outputs": [],
   "source": [
    "def adaboost_regression():\n",
    "    \"\"\"\n",
    "    This function creates the AdaBoost Regression.\n",
    "    \"\"\"\n",
    "    adab_pipe = Pipeline(\n",
    "        [\n",
    "            (\n",
    "                'encoder_column_transformer', \n",
    "                encoder_col_transformer),\n",
    "            (\n",
    "                \"scaler\",\n",
    "                StandardScaler()\n",
    "            ),\n",
    "            (\n",
    "                'ada_boost_reg', \n",
    "                AdaBoostRegressor(\n",
    "                    random_state=42,\n",
    "                    estimator=RandomForestRegressor(\n",
    "                        max_depth=10\n",
    "                        ),\n",
    "                    loss='exponential'\n",
    "                    )\n",
    "             ),\n",
    "        ]\n",
    "        )\n",
    "    \n",
    "    return adab_pipe"
   ]
  },
  {
   "attachments": {},
   "cell_type": "markdown",
   "metadata": {},
   "source": [
    "#### Fit Model"
   ]
  },
  {
   "cell_type": "code",
   "execution_count": 49,
   "metadata": {},
   "outputs": [
    {
     "data": {
      "text/plain": [
       "{'encoder_column_transformer': ColumnTransformer(remainder='passthrough',\n",
       "                   transformers=[('remove_outliers',\n",
       "                                  FunctionTransformer(func=<function remove_outliers at 0x7fcf591ba670>,\n",
       "                                                      kw_args={'features_to_remove': ['weight',\n",
       "                                                                                      'height',\n",
       "                                                                                      'age']}),\n",
       "                                  ['weight', 'height', 'age']),\n",
       "                                 ('ohe', OneHotEncoder(handle_unknown='ignore'),\n",
       "                                  ['diabetes', 'blood_pressure_problems',\n",
       "                                   'any_transplants', 'any_chronic_diseases',\n",
       "                                   'known_allergies',\n",
       "                                   'history_of_cancer_in_family',\n",
       "                                   'number_of_major_surgeries'])]),\n",
       " 'scaler': StandardScaler(),\n",
       " 'ada_boost_reg': AdaBoostRegressor(estimator=RandomForestRegressor(max_depth=10),\n",
       "                   loss='exponential', random_state=42)}"
      ]
     },
     "execution_count": 49,
     "metadata": {},
     "output_type": "execute_result"
    }
   ],
   "source": [
    "adabr = adaboost_regression()\n",
    "\n",
    "adabr.named_steps"
   ]
  },
  {
   "attachments": {},
   "cell_type": "markdown",
   "metadata": {},
   "source": [
    "#### Fit Classifier to Dataset"
   ]
  },
  {
   "cell_type": "code",
   "execution_count": 50,
   "metadata": {},
   "outputs": [],
   "source": [
    "adabr_scores = cross_validate(adabr, \n",
    "                              X, \n",
    "                              y, \n",
    "                              n_jobs=-1,\n",
    "                              cv=10,\n",
    "                              scoring=regression_metric_names,\n",
    "                              return_train_score=True)"
   ]
  },
  {
   "attachments": {},
   "cell_type": "markdown",
   "metadata": {},
   "source": [
    "#### Evaluation Metrics"
   ]
  },
  {
   "cell_type": "code",
   "execution_count": 51,
   "metadata": {},
   "outputs": [
    {
     "name": "stdout",
     "output_type": "stream",
     "text": [
      "+------------------------------------------------+\n",
      "|          Training AdaBoost Regression          |\n",
      "+------------------------------------------------+\n",
      "|                         Metric  |  Value       | \n",
      "+------------------------------------------------+\n",
      "|      Train Mean Absolute Error  |  605.759     |\n",
      "+------------------------------------------------+\n",
      "|  Train Root Mean Squared Error  |  670.373     |\n",
      "+------------------------------------------------+\n",
      "\n",
      "+------------------------------------------------+\n",
      "|          Testing AdaBoost Regression           |\n",
      "+------------------------------------------------+\n",
      "|                         Metric  |  Value       | \n",
      "+------------------------------------------------+\n",
      "|       Test Mean Absolute Error  |  1593.902    |\n",
      "+------------------------------------------------+\n",
      "|   Test Root Mean Squared Error  |  2786.891    |\n",
      "+------------------------------------------------+\n"
     ]
    }
   ],
   "source": [
    "regression_eval(\"AdaBoost Regression\", \n",
    "                       adabr_scores)"
   ]
  },
  {
   "attachments": {},
   "cell_type": "markdown",
   "metadata": {},
   "source": [
    "### XGBoost Regression"
   ]
  },
  {
   "attachments": {},
   "cell_type": "markdown",
   "metadata": {},
   "source": [
    "#### Parameters for Gradient Bossting Regressor"
   ]
  },
  {
   "cell_type": "code",
   "execution_count": 52,
   "metadata": {},
   "outputs": [],
   "source": [
    "params = {'booster':'gblinear',\n",
    "          'n_estimators': 750,\n",
    "          'reg_alpha': 0.0,\n",
    "          'reg_lambda': 0.0,\n",
    "          'random_state': 42,\n",
    "          'eval_metric': ['mae'],\n",
    "          'objective': 'reg:absoluteerror'}"
   ]
  },
  {
   "attachments": {},
   "cell_type": "markdown",
   "metadata": {},
   "source": [
    "#### Define Pipeline"
   ]
  },
  {
   "cell_type": "code",
   "execution_count": 53,
   "metadata": {},
   "outputs": [],
   "source": [
    "def gradient_boosted_regression(params):\n",
    "    \"\"\"\n",
    "    This function creates the gradient boosting regression.\n",
    "    \"\"\"\n",
    "    xgb_pipe = Pipeline(\n",
    "        [\n",
    "            (\n",
    "                'xgb_clf', \n",
    "                XGBRegressor(**params)\n",
    "             )\n",
    "        ])\n",
    "    \n",
    "    return xgb_pipe"
   ]
  },
  {
   "attachments": {},
   "cell_type": "markdown",
   "metadata": {},
   "source": [
    "#### Define Model"
   ]
  },
  {
   "cell_type": "code",
   "execution_count": 54,
   "metadata": {},
   "outputs": [
    {
     "data": {
      "text/plain": [
       "{'xgb_clf': XGBRegressor(base_score=None, booster='gblinear', callbacks=None,\n",
       "              colsample_bylevel=None, colsample_bynode=None,\n",
       "              colsample_bytree=None, early_stopping_rounds=None,\n",
       "              enable_categorical=False, eval_metric=['mae'], feature_types=None,\n",
       "              gamma=None, gpu_id=None, grow_policy=None, importance_type=None,\n",
       "              interaction_constraints=None, learning_rate=None, max_bin=None,\n",
       "              max_cat_threshold=None, max_cat_to_onehot=None,\n",
       "              max_delta_step=None, max_depth=None, max_leaves=None,\n",
       "              min_child_weight=None, missing=nan, monotone_constraints=None,\n",
       "              n_estimators=750, n_jobs=None, num_parallel_tree=None,\n",
       "              objective='reg:absoluteerror', predictor=None, ...)}"
      ]
     },
     "execution_count": 54,
     "metadata": {},
     "output_type": "execute_result"
    }
   ],
   "source": [
    "xgbr = gradient_boosted_regression(params)\n",
    "\n",
    "xgbr.named_steps"
   ]
  },
  {
   "attachments": {},
   "cell_type": "markdown",
   "metadata": {},
   "source": [
    "#### Fit Classifier to Training Data "
   ]
  },
  {
   "cell_type": "code",
   "execution_count": 55,
   "metadata": {},
   "outputs": [],
   "source": [
    "xgbr_scores = cross_validate(xgbr, \n",
    "                              X, \n",
    "                              y, \n",
    "                              n_jobs=-1,\n",
    "                              cv=10,\n",
    "                              scoring=regression_metric_names,\n",
    "                              return_train_score=True)"
   ]
  },
  {
   "attachments": {},
   "cell_type": "markdown",
   "metadata": {},
   "source": [
    "#### Metrics Evaluation"
   ]
  },
  {
   "cell_type": "code",
   "execution_count": 56,
   "metadata": {},
   "outputs": [
    {
     "name": "stdout",
     "output_type": "stream",
     "text": [
      "+------------------------------------------------+\n",
      "|          Training XGBoost Regression           |\n",
      "+------------------------------------------------+\n",
      "|                         Metric  |  Value       | \n",
      "+------------------------------------------------+\n",
      "|      Train Mean Absolute Error  |  4858.128    |\n",
      "+------------------------------------------------+\n",
      "|  Train Root Mean Squared Error  |  6278.233    |\n",
      "+------------------------------------------------+\n",
      "\n",
      "+------------------------------------------------+\n",
      "|           Testing XGBoost Regression           |\n",
      "+------------------------------------------------+\n",
      "|                         Metric  |  Value       | \n",
      "+------------------------------------------------+\n",
      "|       Test Mean Absolute Error  |  4892.245    |\n",
      "+------------------------------------------------+\n",
      "|   Test Root Mean Squared Error  |  6312.951    |\n",
      "+------------------------------------------------+\n"
     ]
    }
   ],
   "source": [
    "regression_eval(\"XGBoost Regression\", \n",
    "                xgbr_scores)"
   ]
  },
  {
   "attachments": {},
   "cell_type": "markdown",
   "metadata": {},
   "source": [
    "### Voting Regression"
   ]
  },
  {
   "attachments": {},
   "cell_type": "markdown",
   "metadata": {},
   "source": [
    "#### Define Estimators"
   ]
  },
  {
   "cell_type": "code",
   "execution_count": 57,
   "metadata": {},
   "outputs": [],
   "source": [
    "estimators = [\n",
    "    (\n",
    "        'adaboost_reg',\n",
    "        adabr\n",
    "    ),\n",
    "    (\n",
    "        'xgboost_reg',\n",
    "        gradient_boosted_regression(params)\n",
    "    )\n",
    "]"
   ]
  },
  {
   "attachments": {},
   "cell_type": "markdown",
   "metadata": {},
   "source": [
    "#### Fit Model"
   ]
  },
  {
   "cell_type": "code",
   "execution_count": 58,
   "metadata": {},
   "outputs": [],
   "source": [
    "voting_clf = VotingRegressor(\n",
    "    estimators=estimators,\n",
    "    n_jobs=-1\n",
    ")"
   ]
  },
  {
   "attachments": {},
   "cell_type": "markdown",
   "metadata": {},
   "source": [
    "#### Fit Classifier to Training Dataset"
   ]
  },
  {
   "cell_type": "code",
   "execution_count": 59,
   "metadata": {},
   "outputs": [],
   "source": [
    "voting_scores = cross_validate(voting_clf, \n",
    "                               X, \n",
    "                               y, \n",
    "                               n_jobs=-1,\n",
    "                               cv=10,\n",
    "                               scoring=regression_metric_names,\n",
    "                               return_train_score=True\n",
    "                               )"
   ]
  },
  {
   "attachments": {},
   "cell_type": "markdown",
   "metadata": {},
   "source": [
    "#### Metrics Evaluation"
   ]
  },
  {
   "cell_type": "code",
   "execution_count": 60,
   "metadata": {},
   "outputs": [
    {
     "name": "stdout",
     "output_type": "stream",
     "text": [
      "+------------------------------------------------+\n",
      "|           Training Voting Regression           |\n",
      "+------------------------------------------------+\n",
      "|                         Metric  |  Value       | \n",
      "+------------------------------------------------+\n",
      "|      Train Mean Absolute Error  |  2628.986    |\n",
      "+------------------------------------------------+\n",
      "|  Train Root Mean Squared Error  |  3326.756    |\n",
      "+------------------------------------------------+\n",
      "\n",
      "+------------------------------------------------+\n",
      "|           Testing Voting Regression            |\n",
      "+------------------------------------------------+\n",
      "|                         Metric  |  Value       | \n",
      "+------------------------------------------------+\n",
      "|       Test Mean Absolute Error  |  3080.46     |\n",
      "+------------------------------------------------+\n",
      "|   Test Root Mean Squared Error  |  4061.181    |\n",
      "+------------------------------------------------+\n"
     ]
    }
   ],
   "source": [
    "regression_eval(\"Voting Regression\", \n",
    "                       voting_scores)"
   ]
  },
  {
   "attachments": {},
   "cell_type": "markdown",
   "metadata": {},
   "source": [
    "### Notes & Other Takeaways From This Project\n",
    "****\n",
    "- Overall, the results are disappointing.\n",
    "- Even though the AdaBoost, Bagging, and Random Forest models had the best metrics on the training dataset(s), they were massively overfitted.\n",
    "- When finding the model with the best metrics that are not (massively) overfitted, you find that the Stochastic Gradient Descent model performs best as the training MAE is $30.455 higher and the RMSE is actually $10.905 less.\n",
    "\n",
    "****"
   ]
  }
 ],
 "metadata": {
  "kernelspec": {
   "display_name": "dl",
   "language": "python",
   "name": "python3"
  },
  "language_info": {
   "codemirror_mode": {
    "name": "ipython",
    "version": 3
   },
   "file_extension": ".py",
   "mimetype": "text/x-python",
   "name": "python",
   "nbconvert_exporter": "python",
   "pygments_lexer": "ipython3",
   "version": "3.9.12"
  },
  "orig_nbformat": 4
 },
 "nbformat": 4,
 "nbformat_minor": 2
}
