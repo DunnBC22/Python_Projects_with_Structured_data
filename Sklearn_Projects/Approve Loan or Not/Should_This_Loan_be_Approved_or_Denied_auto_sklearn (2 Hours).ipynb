{
  "cells": [
    {
      "attachments": {},
      "cell_type": "markdown",
      "metadata": {
        "id": "5L0N885Khht-"
      },
      "source": [
        "## Should This Loan Be Approved or Denied?\n",
        "\n",
        "Dataset Source: https://www.kaggle.com/datasets/mirbektoktogaraev/should-this-loan-be-approved-or-denied"
      ]
    },
    {
      "attachments": {},
      "cell_type": "markdown",
      "metadata": {
        "id": "i3q-yfsxiL1-"
      },
      "source": [
        "#### Install Auto-Sklearn"
      ]
    },
    {
      "cell_type": "code",
      "execution_count": 1,
      "metadata": {
        "colab": {
          "base_uri": "https://localhost:8080/"
        },
        "id": "cH_6ES78iLrf",
        "outputId": "9b69faa1-9887-4759-d5ab-c0d67c71c708"
      },
      "outputs": [
        {
          "name": "stdout",
          "output_type": "stream",
          "text": [
            "Looking in indexes: https://pypi.org/simple, https://us-python.pkg.dev/colab-wheels/public/simple/\n",
            "Requirement already satisfied: matplotlib in /usr/local/lib/python3.10/dist-packages (3.7.1)\n",
            "Requirement already satisfied: contourpy>=1.0.1 in /usr/local/lib/python3.10/dist-packages (from matplotlib) (1.0.7)\n",
            "Requirement already satisfied: cycler>=0.10 in /usr/local/lib/python3.10/dist-packages (from matplotlib) (0.11.0)\n",
            "Requirement already satisfied: fonttools>=4.22.0 in /usr/local/lib/python3.10/dist-packages (from matplotlib) (4.39.3)\n",
            "Requirement already satisfied: kiwisolver>=1.0.1 in /usr/local/lib/python3.10/dist-packages (from matplotlib) (1.4.4)\n",
            "Requirement already satisfied: numpy>=1.20 in /usr/local/lib/python3.10/dist-packages (from matplotlib) (1.24.3)\n",
            "Requirement already satisfied: packaging>=20.0 in /usr/local/lib/python3.10/dist-packages (from matplotlib) (23.1)\n",
            "Requirement already satisfied: pillow>=6.2.0 in /usr/local/lib/python3.10/dist-packages (from matplotlib) (8.4.0)\n",
            "Requirement already satisfied: pyparsing>=2.3.1 in /usr/local/lib/python3.10/dist-packages (from matplotlib) (3.0.9)\n",
            "Requirement already satisfied: python-dateutil>=2.7 in /usr/local/lib/python3.10/dist-packages (from matplotlib) (2.8.2)\n",
            "Requirement already satisfied: six>=1.5 in /usr/local/lib/python3.10/dist-packages (from python-dateutil>=2.7->matplotlib) (1.16.0)\n",
            "Looking in indexes: https://pypi.org/simple, https://us-python.pkg.dev/colab-wheels/public/simple/\n",
            "Requirement already satisfied: numpy in /usr/local/lib/python3.10/dist-packages (1.24.3)\n",
            "Looking in indexes: https://pypi.org/simple, https://us-python.pkg.dev/colab-wheels/public/simple/\n",
            "Requirement already satisfied: auto-sklearn in /usr/local/lib/python3.10/dist-packages (0.15.0)\n",
            "Requirement already satisfied: seaborn in /usr/local/lib/python3.10/dist-packages (0.12.2)\n",
            "Requirement already satisfied: sklearn in /usr/local/lib/python3.10/dist-packages (0.0.post5)\n",
            "Requirement already satisfied: imblearn in /usr/local/lib/python3.10/dist-packages (0.0)\n",
            "Requirement already satisfied: setuptools in /usr/local/lib/python3.10/dist-packages (from auto-sklearn) (67.7.2)\n",
            "Requirement already satisfied: typing-extensions in /usr/local/lib/python3.10/dist-packages (from auto-sklearn) (4.5.0)\n",
            "Requirement already satisfied: distro in /usr/local/lib/python3.10/dist-packages (from auto-sklearn) (1.8.0)\n",
            "Requirement already satisfied: numpy>=1.9.0 in /usr/local/lib/python3.10/dist-packages (from auto-sklearn) (1.24.3)\n",
            "Requirement already satisfied: scipy>=1.7.0 in /usr/local/lib/python3.10/dist-packages (from auto-sklearn) (1.10.1)\n",
            "Requirement already satisfied: joblib in /usr/local/lib/python3.10/dist-packages (from auto-sklearn) (1.2.0)\n",
            "Requirement already satisfied: scikit-learn<0.25.0,>=0.24.0 in /usr/local/lib/python3.10/dist-packages (from auto-sklearn) (0.24.2)\n",
            "Requirement already satisfied: dask>=2021.12 in /usr/local/lib/python3.10/dist-packages (from auto-sklearn) (2022.12.1)\n",
            "Requirement already satisfied: distributed>=2012.12 in /usr/local/lib/python3.10/dist-packages (from auto-sklearn) (2022.12.1)\n",
            "Requirement already satisfied: pyyaml in /usr/local/lib/python3.10/dist-packages (from auto-sklearn) (6.0)\n",
            "Requirement already satisfied: pandas>=1.0 in /usr/local/lib/python3.10/dist-packages (from auto-sklearn) (1.5.3)\n",
            "Requirement already satisfied: liac-arff in /usr/local/lib/python3.10/dist-packages (from auto-sklearn) (2.5.0)\n",
            "Requirement already satisfied: threadpoolctl in /usr/local/lib/python3.10/dist-packages (from auto-sklearn) (3.1.0)\n",
            "Requirement already satisfied: ConfigSpace<0.5,>=0.4.21 in /usr/local/lib/python3.10/dist-packages (from auto-sklearn) (0.4.21)\n",
            "Requirement already satisfied: pynisher<0.7,>=0.6.3 in /usr/local/lib/python3.10/dist-packages (from auto-sklearn) (0.6.4)\n",
            "Requirement already satisfied: pyrfr<0.9,>=0.8.1 in /usr/local/lib/python3.10/dist-packages (from auto-sklearn) (0.8.3)\n",
            "Requirement already satisfied: smac<1.3,>=1.2 in /usr/local/lib/python3.10/dist-packages (from auto-sklearn) (1.2)\n",
            "Requirement already satisfied: matplotlib!=3.6.1,>=3.1 in /usr/local/lib/python3.10/dist-packages (from seaborn) (3.7.1)\n",
            "Requirement already satisfied: imbalanced-learn in /usr/local/lib/python3.10/dist-packages (from imblearn) (0.8.1)\n",
            "Requirement already satisfied: cython in /usr/local/lib/python3.10/dist-packages (from ConfigSpace<0.5,>=0.4.21->auto-sklearn) (0.29.34)\n",
            "Requirement already satisfied: pyparsing in /usr/local/lib/python3.10/dist-packages (from ConfigSpace<0.5,>=0.4.21->auto-sklearn) (3.0.9)\n",
            "Requirement already satisfied: click>=7.0 in /usr/local/lib/python3.10/dist-packages (from dask>=2021.12->auto-sklearn) (8.1.3)\n",
            "Requirement already satisfied: cloudpickle>=1.1.1 in /usr/local/lib/python3.10/dist-packages (from dask>=2021.12->auto-sklearn) (2.2.1)\n",
            "Requirement already satisfied: fsspec>=0.6.0 in /usr/local/lib/python3.10/dist-packages (from dask>=2021.12->auto-sklearn) (2023.4.0)\n",
            "Requirement already satisfied: packaging>=20.0 in /usr/local/lib/python3.10/dist-packages (from dask>=2021.12->auto-sklearn) (23.1)\n",
            "Requirement already satisfied: partd>=0.3.10 in /usr/local/lib/python3.10/dist-packages (from dask>=2021.12->auto-sklearn) (1.4.0)\n",
            "Requirement already satisfied: toolz>=0.8.2 in /usr/local/lib/python3.10/dist-packages (from dask>=2021.12->auto-sklearn) (0.12.0)\n",
            "Requirement already satisfied: jinja2 in /usr/local/lib/python3.10/dist-packages (from distributed>=2012.12->auto-sklearn) (3.1.2)\n",
            "Requirement already satisfied: locket>=1.0.0 in /usr/local/lib/python3.10/dist-packages (from distributed>=2012.12->auto-sklearn) (1.0.0)\n",
            "Requirement already satisfied: msgpack>=0.6.0 in /usr/local/lib/python3.10/dist-packages (from distributed>=2012.12->auto-sklearn) (1.0.5)\n",
            "Requirement already satisfied: psutil>=5.0 in /usr/local/lib/python3.10/dist-packages (from distributed>=2012.12->auto-sklearn) (5.9.5)\n",
            "Requirement already satisfied: sortedcontainers!=2.0.0,!=2.0.1 in /usr/local/lib/python3.10/dist-packages (from distributed>=2012.12->auto-sklearn) (2.4.0)\n",
            "Requirement already satisfied: tblib>=1.6.0 in /usr/local/lib/python3.10/dist-packages (from distributed>=2012.12->auto-sklearn) (1.7.0)\n",
            "Requirement already satisfied: tornado>=6.0.3 in /usr/local/lib/python3.10/dist-packages (from distributed>=2012.12->auto-sklearn) (6.3.1)\n",
            "Requirement already satisfied: urllib3 in /usr/local/lib/python3.10/dist-packages (from distributed>=2012.12->auto-sklearn) (1.26.15)\n",
            "Requirement already satisfied: zict>=0.1.3 in /usr/local/lib/python3.10/dist-packages (from distributed>=2012.12->auto-sklearn) (3.0.0)\n",
            "Requirement already satisfied: contourpy>=1.0.1 in /usr/local/lib/python3.10/dist-packages (from matplotlib!=3.6.1,>=3.1->seaborn) (1.0.7)\n",
            "Requirement already satisfied: cycler>=0.10 in /usr/local/lib/python3.10/dist-packages (from matplotlib!=3.6.1,>=3.1->seaborn) (0.11.0)\n",
            "Requirement already satisfied: fonttools>=4.22.0 in /usr/local/lib/python3.10/dist-packages (from matplotlib!=3.6.1,>=3.1->seaborn) (4.39.3)\n",
            "Requirement already satisfied: kiwisolver>=1.0.1 in /usr/local/lib/python3.10/dist-packages (from matplotlib!=3.6.1,>=3.1->seaborn) (1.4.4)\n",
            "Requirement already satisfied: pillow>=6.2.0 in /usr/local/lib/python3.10/dist-packages (from matplotlib!=3.6.1,>=3.1->seaborn) (8.4.0)\n",
            "Requirement already satisfied: python-dateutil>=2.7 in /usr/local/lib/python3.10/dist-packages (from matplotlib!=3.6.1,>=3.1->seaborn) (2.8.2)\n",
            "Requirement already satisfied: pytz>=2020.1 in /usr/local/lib/python3.10/dist-packages (from pandas>=1.0->auto-sklearn) (2022.7.1)\n",
            "Requirement already satisfied: emcee>=3.0.0 in /usr/local/lib/python3.10/dist-packages (from smac<1.3,>=1.2->auto-sklearn) (3.1.4)\n",
            "Requirement already satisfied: six>=1.5 in /usr/local/lib/python3.10/dist-packages (from python-dateutil>=2.7->matplotlib!=3.6.1,>=3.1->seaborn) (1.16.0)\n",
            "Requirement already satisfied: MarkupSafe>=2.0 in /usr/local/lib/python3.10/dist-packages (from jinja2->distributed>=2012.12->auto-sklearn) (2.1.2)\n"
          ]
        }
      ],
      "source": [
        "%pip install -U matplotlib\n",
        "%pip install -U numpy\n",
        "%pip install auto-sklearn seaborn sklearn imblearn"
      ]
    },
    {
      "attachments": {},
      "cell_type": "markdown",
      "metadata": {
        "id": "yYqNzJlmhht_"
      },
      "source": [
        "#### Import Necessary Libraries"
      ]
    },
    {
      "cell_type": "code",
      "execution_count": 2,
      "metadata": {
        "id": "I3wII7r4hht_"
      },
      "outputs": [],
      "source": [
        "import os, sys\n",
        "\n",
        "import numpy as np\n",
        "import pandas as pd\n",
        "\n",
        "import matplotlib.pyplot as plt\n",
        "import seaborn as sns\n",
        "\n",
        "import sklearn\n",
        "from sklearn.model_selection import train_test_split, cross_val_predict\n",
        "from sklearn.pipeline import Pipeline\n",
        "\n",
        "from sklearn.preprocessing import FunctionTransformer\n",
        "from sklearn.compose import ColumnTransformer\n",
        "from sklearn.model_selection import train_test_split\n",
        "\n",
        "from sklearn.preprocessing import OneHotEncoder\n",
        "from sklearn.preprocessing import MinMaxScaler, StandardScaler\n",
        "from sklearn.decomposition import TruncatedSVD\n",
        "\n",
        "from sklearn.metrics import classification_report\n",
        "from sklearn.metrics import confusion_matrix, ConfusionMatrixDisplay\n",
        "\n",
        "import imblearn\n",
        "from imblearn.pipeline import Pipeline\n",
        "from imblearn.over_sampling import SMOTE\n",
        "\n",
        "import autosklearn\n",
        "from autosklearn.classification import AutoSklearnClassifier as ASC"
      ]
    },
    {
      "attachments": {},
      "cell_type": "markdown",
      "metadata": {
        "id": "hXngJdFQi1PI"
      },
      "source": [
        "#### Mount Google Drive"
      ]
    },
    {
      "cell_type": "code",
      "execution_count": 3,
      "metadata": {
        "colab": {
          "base_uri": "https://localhost:8080/"
        },
        "id": "dy9eNHE3i1JI",
        "outputId": "ef7ac08e-f1cc-4f69-e1d8-8d35bcf54dd8"
      },
      "outputs": [
        {
          "name": "stdout",
          "output_type": "stream",
          "text": [
            "Drive already mounted at /content/drive; to attempt to forcibly remount, call drive.mount(\"/content/drive\", force_remount=True).\n"
          ]
        }
      ],
      "source": [
        "from google.colab import drive\n",
        "drive.mount('/content/drive')"
      ]
    },
    {
      "attachments": {},
      "cell_type": "markdown",
      "metadata": {
        "id": "ZU6kJbDPhhuA"
      },
      "source": [
        "#### Show Library Versions"
      ]
    },
    {
      "cell_type": "code",
      "execution_count": 4,
      "metadata": {
        "colab": {
          "base_uri": "https://localhost:8080/"
        },
        "id": "oVwsvpnEhhuA",
        "outputId": "bfc9e2ca-5c2f-4e93-96b3-8ad2f699edac"
      },
      "outputs": [
        {
          "name": "stdout",
          "output_type": "stream",
          "text": [
            "Language/Library | Version\n",
            "---------------- | --------\n",
            "          Python : 3.10.1\n",
            "           NumPy : 1.24.3\n",
            "          Pandas : 1.5.3\n",
            "         Sklearn : 0.24.2\n",
            "    Auto-Sklearn : 0.15.0\n",
            "        Imblearn : 0.8.1\n",
            "         Seaborn : 0.12.2\n"
          ]
        }
      ],
      "source": [
        "n = 18\n",
        "\n",
        "print(f\"Language/Library\".rjust(n-2), '|', 'Version')\n",
        "print('-' * (n-2), '|', '--------')\n",
        "print(\"Python :\".rjust(n), sys.version[0:6])\n",
        "print(\"NumPy :\".rjust(n), np.__version__)\n",
        "print(\"Pandas :\".rjust(n), pd.__version__)\n",
        "print(\"Sklearn :\".rjust(n), sklearn.__version__)\n",
        "print(\"Auto-Sklearn :\".rjust(n), autosklearn.__version__)\n",
        "print(\"Imblearn :\".rjust(n), imblearn.__version__)\n",
        "print(\"Seaborn :\".rjust(n), sns.__version__)"
      ]
    },
    {
      "attachments": {},
      "cell_type": "markdown",
      "metadata": {
        "id": "SW8PGG1fhhuA"
      },
      "source": [
        "### Initial Data Preprocessing"
      ]
    },
    {
      "attachments": {},
      "cell_type": "markdown",
      "metadata": {
        "id": "cT1_sQurhhuA"
      },
      "source": [
        "#### Ingest Dataset"
      ]
    },
    {
      "cell_type": "code",
      "execution_count": 5,
      "metadata": {
        "colab": {
          "base_uri": "https://localhost:8080/",
          "height": 270
        },
        "id": "SBi00IV6hhuA",
        "outputId": "461a0e8a-280d-431d-eb14-ad68e75a8f88"
      },
      "outputs": [
        {
          "data": {
            "text/html": [
              "\n",
              "  <div id=\"df-441be654-9112-433c-ba69-5795ec022709\">\n",
              "    <div class=\"colab-df-container\">\n",
              "      <div>\n",
              "<style scoped>\n",
              "    .dataframe tbody tr th:only-of-type {\n",
              "        vertical-align: middle;\n",
              "    }\n",
              "\n",
              "    .dataframe tbody tr th {\n",
              "        vertical-align: top;\n",
              "    }\n",
              "\n",
              "    .dataframe thead th {\n",
              "        text-align: right;\n",
              "    }\n",
              "</style>\n",
              "<table border=\"1\" class=\"dataframe\">\n",
              "  <thead>\n",
              "    <tr style=\"text-align: right;\">\n",
              "      <th></th>\n",
              "      <th>state</th>\n",
              "      <th>naics</th>\n",
              "      <th>approval_fy</th>\n",
              "      <th>term</th>\n",
              "      <th>num_of_emp</th>\n",
              "      <th>new_exist</th>\n",
              "      <th>created_job</th>\n",
              "      <th>retained_job</th>\n",
              "      <th>franchise_code</th>\n",
              "      <th>urban_rural</th>\n",
              "      <th>rev_line_cr</th>\n",
              "      <th>low_doc</th>\n",
              "      <th>disbursement_gross</th>\n",
              "      <th>balance_gross</th>\n",
              "      <th>mis_status</th>\n",
              "      <th>charged_off_amt</th>\n",
              "      <th>gr_appv</th>\n",
              "      <th>sba_approval</th>\n",
              "    </tr>\n",
              "  </thead>\n",
              "  <tbody>\n",
              "    <tr>\n",
              "      <th>0</th>\n",
              "      <td>IN</td>\n",
              "      <td>451120</td>\n",
              "      <td>1997</td>\n",
              "      <td>84</td>\n",
              "      <td>4</td>\n",
              "      <td>2.0</td>\n",
              "      <td>0</td>\n",
              "      <td>0</td>\n",
              "      <td>1</td>\n",
              "      <td>0</td>\n",
              "      <td>N</td>\n",
              "      <td>Y</td>\n",
              "      <td>$60,000.00</td>\n",
              "      <td>$0.00</td>\n",
              "      <td>P I F</td>\n",
              "      <td>$0.00</td>\n",
              "      <td>$60,000.00</td>\n",
              "      <td>$48,000.00</td>\n",
              "    </tr>\n",
              "    <tr>\n",
              "      <th>1</th>\n",
              "      <td>IN</td>\n",
              "      <td>722410</td>\n",
              "      <td>1997</td>\n",
              "      <td>60</td>\n",
              "      <td>2</td>\n",
              "      <td>2.0</td>\n",
              "      <td>0</td>\n",
              "      <td>0</td>\n",
              "      <td>1</td>\n",
              "      <td>0</td>\n",
              "      <td>N</td>\n",
              "      <td>Y</td>\n",
              "      <td>$40,000.00</td>\n",
              "      <td>$0.00</td>\n",
              "      <td>P I F</td>\n",
              "      <td>$0.00</td>\n",
              "      <td>$40,000.00</td>\n",
              "      <td>$32,000.00</td>\n",
              "    </tr>\n",
              "    <tr>\n",
              "      <th>2</th>\n",
              "      <td>IN</td>\n",
              "      <td>621210</td>\n",
              "      <td>1997</td>\n",
              "      <td>180</td>\n",
              "      <td>7</td>\n",
              "      <td>1.0</td>\n",
              "      <td>0</td>\n",
              "      <td>0</td>\n",
              "      <td>1</td>\n",
              "      <td>0</td>\n",
              "      <td>N</td>\n",
              "      <td>N</td>\n",
              "      <td>$287,000.00</td>\n",
              "      <td>$0.00</td>\n",
              "      <td>P I F</td>\n",
              "      <td>$0.00</td>\n",
              "      <td>$287,000.00</td>\n",
              "      <td>$215,250.00</td>\n",
              "    </tr>\n",
              "    <tr>\n",
              "      <th>3</th>\n",
              "      <td>OK</td>\n",
              "      <td>0</td>\n",
              "      <td>1997</td>\n",
              "      <td>60</td>\n",
              "      <td>2</td>\n",
              "      <td>1.0</td>\n",
              "      <td>0</td>\n",
              "      <td>0</td>\n",
              "      <td>1</td>\n",
              "      <td>0</td>\n",
              "      <td>N</td>\n",
              "      <td>Y</td>\n",
              "      <td>$35,000.00</td>\n",
              "      <td>$0.00</td>\n",
              "      <td>P I F</td>\n",
              "      <td>$0.00</td>\n",
              "      <td>$35,000.00</td>\n",
              "      <td>$28,000.00</td>\n",
              "    </tr>\n",
              "    <tr>\n",
              "      <th>4</th>\n",
              "      <td>FL</td>\n",
              "      <td>0</td>\n",
              "      <td>1997</td>\n",
              "      <td>240</td>\n",
              "      <td>14</td>\n",
              "      <td>1.0</td>\n",
              "      <td>7</td>\n",
              "      <td>7</td>\n",
              "      <td>1</td>\n",
              "      <td>0</td>\n",
              "      <td>N</td>\n",
              "      <td>N</td>\n",
              "      <td>$229,000.00</td>\n",
              "      <td>$0.00</td>\n",
              "      <td>P I F</td>\n",
              "      <td>$0.00</td>\n",
              "      <td>$229,000.00</td>\n",
              "      <td>$229,000.00</td>\n",
              "    </tr>\n",
              "  </tbody>\n",
              "</table>\n",
              "</div>\n",
              "      <button class=\"colab-df-convert\" onclick=\"convertToInteractive('df-441be654-9112-433c-ba69-5795ec022709')\"\n",
              "              title=\"Convert this dataframe to an interactive table.\"\n",
              "              style=\"display:none;\">\n",
              "        \n",
              "  <svg xmlns=\"http://www.w3.org/2000/svg\" height=\"24px\"viewBox=\"0 0 24 24\"\n",
              "       width=\"24px\">\n",
              "    <path d=\"M0 0h24v24H0V0z\" fill=\"none\"/>\n",
              "    <path d=\"M18.56 5.44l.94 2.06.94-2.06 2.06-.94-2.06-.94-.94-2.06-.94 2.06-2.06.94zm-11 1L8.5 8.5l.94-2.06 2.06-.94-2.06-.94L8.5 2.5l-.94 2.06-2.06.94zm10 10l.94 2.06.94-2.06 2.06-.94-2.06-.94-.94-2.06-.94 2.06-2.06.94z\"/><path d=\"M17.41 7.96l-1.37-1.37c-.4-.4-.92-.59-1.43-.59-.52 0-1.04.2-1.43.59L10.3 9.45l-7.72 7.72c-.78.78-.78 2.05 0 2.83L4 21.41c.39.39.9.59 1.41.59.51 0 1.02-.2 1.41-.59l7.78-7.78 2.81-2.81c.8-.78.8-2.07 0-2.86zM5.41 20L4 18.59l7.72-7.72 1.47 1.35L5.41 20z\"/>\n",
              "  </svg>\n",
              "      </button>\n",
              "      \n",
              "  <style>\n",
              "    .colab-df-container {\n",
              "      display:flex;\n",
              "      flex-wrap:wrap;\n",
              "      gap: 12px;\n",
              "    }\n",
              "\n",
              "    .colab-df-convert {\n",
              "      background-color: #E8F0FE;\n",
              "      border: none;\n",
              "      border-radius: 50%;\n",
              "      cursor: pointer;\n",
              "      display: none;\n",
              "      fill: #1967D2;\n",
              "      height: 32px;\n",
              "      padding: 0 0 0 0;\n",
              "      width: 32px;\n",
              "    }\n",
              "\n",
              "    .colab-df-convert:hover {\n",
              "      background-color: #E2EBFA;\n",
              "      box-shadow: 0px 1px 2px rgba(60, 64, 67, 0.3), 0px 1px 3px 1px rgba(60, 64, 67, 0.15);\n",
              "      fill: #174EA6;\n",
              "    }\n",
              "\n",
              "    [theme=dark] .colab-df-convert {\n",
              "      background-color: #3B4455;\n",
              "      fill: #D2E3FC;\n",
              "    }\n",
              "\n",
              "    [theme=dark] .colab-df-convert:hover {\n",
              "      background-color: #434B5C;\n",
              "      box-shadow: 0px 1px 3px 1px rgba(0, 0, 0, 0.15);\n",
              "      filter: drop-shadow(0px 1px 2px rgba(0, 0, 0, 0.3));\n",
              "      fill: #FFFFFF;\n",
              "    }\n",
              "  </style>\n",
              "\n",
              "      <script>\n",
              "        const buttonEl =\n",
              "          document.querySelector('#df-441be654-9112-433c-ba69-5795ec022709 button.colab-df-convert');\n",
              "        buttonEl.style.display =\n",
              "          google.colab.kernel.accessAllowed ? 'block' : 'none';\n",
              "\n",
              "        async function convertToInteractive(key) {\n",
              "          const element = document.querySelector('#df-441be654-9112-433c-ba69-5795ec022709');\n",
              "          const dataTable =\n",
              "            await google.colab.kernel.invokeFunction('convertToInteractive',\n",
              "                                                     [key], {});\n",
              "          if (!dataTable) return;\n",
              "\n",
              "          const docLinkHtml = 'Like what you see? Visit the ' +\n",
              "            '<a target=\"_blank\" href=https://colab.research.google.com/notebooks/data_table.ipynb>data table notebook</a>'\n",
              "            + ' to learn more about interactive tables.';\n",
              "          element.innerHTML = '';\n",
              "          dataTable['output_type'] = 'display_data';\n",
              "          await google.colab.output.renderOutput(dataTable, element);\n",
              "          const docLink = document.createElement('div');\n",
              "          docLink.innerHTML = docLinkHtml;\n",
              "          element.appendChild(docLink);\n",
              "        }\n",
              "      </script>\n",
              "    </div>\n",
              "  </div>\n",
              "  "
            ],
            "text/plain": [
              "  state   naics approval_fy  term  num_of_emp  new_exist  created_job  \\\n",
              "0    IN  451120        1997    84           4        2.0            0   \n",
              "1    IN  722410        1997    60           2        2.0            0   \n",
              "2    IN  621210        1997   180           7        1.0            0   \n",
              "3    OK       0        1997    60           2        1.0            0   \n",
              "4    FL       0        1997   240          14        1.0            7   \n",
              "\n",
              "   retained_job  franchise_code urban_rural rev_line_cr low_doc  \\\n",
              "0             0               1           0           N       Y   \n",
              "1             0               1           0           N       Y   \n",
              "2             0               1           0           N       N   \n",
              "3             0               1           0           N       Y   \n",
              "4             7               1           0           N       N   \n",
              "\n",
              "  disbursement_gross balance_gross mis_status charged_off_amt       gr_appv  \\\n",
              "0        $60,000.00         $0.00       P I F          $0.00    $60,000.00    \n",
              "1        $40,000.00         $0.00       P I F          $0.00    $40,000.00    \n",
              "2       $287,000.00         $0.00       P I F          $0.00   $287,000.00    \n",
              "3        $35,000.00         $0.00       P I F          $0.00    $35,000.00    \n",
              "4       $229,000.00         $0.00       P I F          $0.00   $229,000.00    \n",
              "\n",
              "   sba_approval  \n",
              "0   $48,000.00   \n",
              "1   $32,000.00   \n",
              "2  $215,250.00   \n",
              "3   $28,000.00   \n",
              "4  $229,000.00   "
            ]
          },
          "execution_count": 5,
          "metadata": {},
          "output_type": "execute_result"
        }
      ],
      "source": [
        "col_names = [\"id\",\n",
        "             \"name\",\n",
        "             \"city\",\n",
        "             \"state\",\n",
        "             \"zip\",\n",
        "             \"bank\",\n",
        "             \"bank_state\",\n",
        "             \"naics\",\n",
        "             \"approval_date\",\n",
        "             \"approval_fy\",\n",
        "             \"term\",\n",
        "             \"num_of_emp\",\n",
        "             \"new_exist\",\n",
        "             \"created_job\",\n",
        "             \"retained_job\",\n",
        "             \"franchise_code\",\n",
        "             \"urban_rural\",\n",
        "             \"rev_line_cr\",\n",
        "             \"low_doc\",\n",
        "             \"charge_off_date\",\n",
        "             \"disbursement_date\",\n",
        "             \"disbursement_gross\",\n",
        "             \"balance_gross\",\n",
        "             \"mis_status\",\n",
        "             \"charged_off_amt\",\n",
        "             \"gr_appv\",\n",
        "             \"sba_approval\"\n",
        "             ]\n",
        "\n",
        "dtypes = {\"id\": np.int64,\n",
        "          \"name\": str,\n",
        "          \"city\": str,\n",
        "          \"state\": str,\n",
        "          \"zip\": np.uint16,\n",
        "          \"bank\": str,\n",
        "          \"bank_state\": str,\n",
        "          \"naics\": str,\n",
        "          \"approval_date\": str,\n",
        "          \"approval_fy\": str,\n",
        "          \"term\": np.uint16,\n",
        "          \"num_of_emp\": np.uint16,\n",
        "          \"new_exist\": np.float32,\n",
        "          \"created_job\": np.uint32,\n",
        "          \"retained_job\": np.uint32,\n",
        "          \"franchise_code\": np.uint64,\n",
        "          \"urban_rural\": str,\n",
        "          \"rev_line_cr\": str,\n",
        "          \"low_doc\": str,\n",
        "          \"charge_off_date\": str,\n",
        "          \"disbursement_date\": str,\n",
        "          \"disbursement_gross\": str,\n",
        "          \"balance_gross\": str,\n",
        "          \"mis_status\": str,\n",
        "          \"charged_off_amt\": str,\n",
        "          \"gr_appv\": str,\n",
        "          \"sba_approval\": str\n",
        "              }\n",
        "\n",
        "data = pd.read_csv(\"/content/drive/MyDrive/Home Loan Approval/SBAnational.csv\",\n",
        "                   names=col_names,\n",
        "                   dtype=dtypes,\n",
        "                   engine='c',\n",
        "                   header=0)\n",
        "\n",
        "# Remove Unnecessary Features\n",
        "data = data.drop(axis=0,\n",
        "                 columns=\n",
        "                 [\n",
        "                     'id',\n",
        "                     'name',\n",
        "                     'city',\n",
        "                     'zip',\n",
        "                     'bank',\n",
        "                     'bank_state',\n",
        "                     'approval_date',\n",
        "                     'charge_off_date',\n",
        "                     'disbursement_date'\n",
        "                     ]\n",
        "                 )\n",
        "\n",
        "data.head()"
      ]
    },
    {
      "attachments": {},
      "cell_type": "markdown",
      "metadata": {
        "id": "z-V38UEIhhuB"
      },
      "source": [
        "#### Clean up Features"
      ]
    },
    {
      "cell_type": "code",
      "execution_count": 6,
      "metadata": {
        "colab": {
          "base_uri": "https://localhost:8080/"
        },
        "id": "wpVvKx2ChhuB",
        "outputId": "0211c644-9942-4c86-bd81-b5ede52a8730"
      },
      "outputs": [
        {
          "name": "stdout",
          "output_type": "stream",
          "text": [
            "<class 'pandas.core.frame.DataFrame'>\n",
            "RangeIndex: 899164 entries, 0 to 899163\n",
            "Data columns (total 18 columns):\n",
            " #   Column              Non-Null Count   Dtype  \n",
            "---  ------              --------------   -----  \n",
            " 0   state               899150 non-null  object \n",
            " 1   naics               899164 non-null  object \n",
            " 2   approval_fy         899164 non-null  object \n",
            " 3   term                899164 non-null  uint16 \n",
            " 4   num_of_emp          899164 non-null  uint16 \n",
            " 5   new_exist           899028 non-null  float32\n",
            " 6   created_job         899164 non-null  uint32 \n",
            " 7   retained_job        899164 non-null  uint32 \n",
            " 8   franchise_code      899164 non-null  uint64 \n",
            " 9   urban_rural         899164 non-null  object \n",
            " 10  rev_line_cr         894636 non-null  object \n",
            " 11  low_doc             896582 non-null  object \n",
            " 12  disbursement_gross  899164 non-null  float32\n",
            " 13  balance_gross       899164 non-null  float32\n",
            " 14  mis_status          897167 non-null  object \n",
            " 15  charged_off_amt     899164 non-null  float32\n",
            " 16  gr_appv             899164 non-null  float32\n",
            " 17  sba_approval        899164 non-null  float32\n",
            "dtypes: float32(6), object(7), uint16(2), uint32(2), uint64(1)\n",
            "memory usage: 85.8+ MB\n"
          ]
        }
      ],
      "source": [
        "cols_to_remove_dollar_sign = [\n",
        "    'disbursement_gross',\n",
        "    'balance_gross',\n",
        "    'gr_appv',\n",
        "    'charged_off_amt',\n",
        "    'sba_approval'\n",
        "    ]\n",
        "\n",
        "def remove_dollar_signs(df: pd.DataFrame,\n",
        "                        feature_name: str) -> None:\n",
        "\n",
        "    \"\"\"\n",
        "    This function takes a dataframe and feature as inputs\n",
        "    and returns (as the output) that DataFrame with the\n",
        "    following updates made to the feature:\n",
        "        - all leading and trailing spaces are removed,\n",
        "        - all dollar signs & commas are removed, &\n",
        "        - converts the feature dtype to float32.\n",
        "    \"\"\"\n",
        "\n",
        "    assert feature_name not in enumerate(df.columns), \\\n",
        "        \"The remove_dollar_signs function can only \" + \\\n",
        "        \"handle features that are apart of the dataframe\"\n",
        "\n",
        "    df[feature_name] = data['sba_approval']\\\n",
        "        .apply(lambda x: x.strip())\\\n",
        "        .apply(lambda x: x.replace('$', ''))\\\n",
        "        .apply(lambda x: x.replace(',', ''))\\\n",
        "        .astype(np.float32)\n",
        "\n",
        "for feat in cols_to_remove_dollar_sign:\n",
        "    remove_dollar_signs(data, feat)\n",
        "\n",
        "data.info()"
      ]
    },
    {
      "attachments": {},
      "cell_type": "markdown",
      "metadata": {
        "id": "lOH_ziFqhhuB"
      },
      "source": [
        "#### More Dataset Preprocessing"
      ]
    },
    {
      "cell_type": "code",
      "execution_count": 7,
      "metadata": {
        "colab": {
          "base_uri": "https://localhost:8080/"
        },
        "id": "c8BF5NyshhuB",
        "outputId": "dd9cc201-c271-431d-cafd-79154f8ee038"
      },
      "outputs": [
        {
          "name": "stdout",
          "output_type": "stream",
          "text": [
            "<class 'pandas.core.frame.DataFrame'>\n",
            "RangeIndex: 889925 entries, 0 to 889924\n",
            "Data columns (total 18 columns):\n",
            " #   Column              Non-Null Count   Dtype  \n",
            "---  ------              --------------   -----  \n",
            " 0   state               889925 non-null  object \n",
            " 1   naics               889925 non-null  uint8  \n",
            " 2   approval_fy         889925 non-null  object \n",
            " 3   term                889925 non-null  uint16 \n",
            " 4   num_of_emp          889925 non-null  uint16 \n",
            " 5   new_exist           889925 non-null  float32\n",
            " 6   created_job         889925 non-null  uint32 \n",
            " 7   retained_job        889925 non-null  uint32 \n",
            " 8   franchise_code      889925 non-null  uint64 \n",
            " 9   urban_rural         889925 non-null  object \n",
            " 10  rev_line_cr         889925 non-null  object \n",
            " 11  low_doc             889925 non-null  object \n",
            " 12  disbursement_gross  889925 non-null  float32\n",
            " 13  balance_gross       889925 non-null  float32\n",
            " 14  mis_status          889925 non-null  object \n",
            " 15  charged_off_amt     889925 non-null  float32\n",
            " 16  gr_appv             889925 non-null  float32\n",
            " 17  sba_approval        889925 non-null  float32\n",
            "dtypes: float32(6), object(6), uint16(2), uint32(2), uint64(1), uint8(1)\n",
            "memory usage: 78.9+ MB\n"
          ]
        }
      ],
      "source": [
        "\"\"\"\n",
        "When dropping any sample with any missing values,\n",
        "it nets a loss of about 9,200 samples out of a\n",
        "dataset with over 899,000 samples.\n",
        "\"\"\"\n",
        "data = data.dropna(how='any').reset_index(drop=True)\n",
        "\n",
        "## Return only the first 2 characters in NAICS feature\n",
        "data['naics'] = data['naics'].apply(lambda x: x[:2])\\\n",
        "    .astype(np.uint8)\n",
        "\n",
        "data.info()"
      ]
    },
    {
      "attachments": {},
      "cell_type": "markdown",
      "metadata": {
        "id": "HYLN2I-yhhuB"
      },
      "source": [
        "#### Update Values in Features"
      ]
    },
    {
      "cell_type": "code",
      "execution_count": 8,
      "metadata": {
        "colab": {
          "base_uri": "https://localhost:8080/",
          "height": 357
        },
        "id": "ZIW1gjCahhuB",
        "outputId": "e4ca9e79-2406-4846-ecfe-790bbe4e108a"
      },
      "outputs": [
        {
          "data": {
            "text/html": [
              "\n",
              "  <div id=\"df-63cbf776-a02c-46e6-8807-ae12273f87f3\">\n",
              "    <div class=\"colab-df-container\">\n",
              "      <div>\n",
              "<style scoped>\n",
              "    .dataframe tbody tr th:only-of-type {\n",
              "        vertical-align: middle;\n",
              "    }\n",
              "\n",
              "    .dataframe tbody tr th {\n",
              "        vertical-align: top;\n",
              "    }\n",
              "\n",
              "    .dataframe thead th {\n",
              "        text-align: right;\n",
              "    }\n",
              "</style>\n",
              "<table border=\"1\" class=\"dataframe\">\n",
              "  <thead>\n",
              "    <tr style=\"text-align: right;\">\n",
              "      <th></th>\n",
              "      <th>state</th>\n",
              "      <th>naics</th>\n",
              "      <th>approval_fy</th>\n",
              "      <th>term</th>\n",
              "      <th>num_of_emp</th>\n",
              "      <th>new_exist</th>\n",
              "      <th>created_job</th>\n",
              "      <th>retained_job</th>\n",
              "      <th>franchise_code</th>\n",
              "      <th>urban_rural</th>\n",
              "      <th>rev_line_cr</th>\n",
              "      <th>low_doc</th>\n",
              "      <th>disbursement_gross</th>\n",
              "      <th>balance_gross</th>\n",
              "      <th>mis_status</th>\n",
              "      <th>charged_off_amt</th>\n",
              "      <th>gr_appv</th>\n",
              "      <th>sba_approval</th>\n",
              "    </tr>\n",
              "  </thead>\n",
              "  <tbody>\n",
              "    <tr>\n",
              "      <th>0</th>\n",
              "      <td>IN</td>\n",
              "      <td>45</td>\n",
              "      <td>1997</td>\n",
              "      <td>84</td>\n",
              "      <td>4</td>\n",
              "      <td>New Business</td>\n",
              "      <td>0</td>\n",
              "      <td>0</td>\n",
              "      <td>1</td>\n",
              "      <td>0</td>\n",
              "      <td>N</td>\n",
              "      <td>Y</td>\n",
              "      <td>48000.0</td>\n",
              "      <td>48000.0</td>\n",
              "      <td>paid_in_full</td>\n",
              "      <td>48000.0</td>\n",
              "      <td>48000.0</td>\n",
              "      <td>48000.0</td>\n",
              "    </tr>\n",
              "    <tr>\n",
              "      <th>1</th>\n",
              "      <td>IN</td>\n",
              "      <td>72</td>\n",
              "      <td>1997</td>\n",
              "      <td>60</td>\n",
              "      <td>2</td>\n",
              "      <td>New Business</td>\n",
              "      <td>0</td>\n",
              "      <td>0</td>\n",
              "      <td>1</td>\n",
              "      <td>0</td>\n",
              "      <td>N</td>\n",
              "      <td>Y</td>\n",
              "      <td>32000.0</td>\n",
              "      <td>32000.0</td>\n",
              "      <td>paid_in_full</td>\n",
              "      <td>32000.0</td>\n",
              "      <td>32000.0</td>\n",
              "      <td>32000.0</td>\n",
              "    </tr>\n",
              "    <tr>\n",
              "      <th>2</th>\n",
              "      <td>IN</td>\n",
              "      <td>62</td>\n",
              "      <td>1997</td>\n",
              "      <td>180</td>\n",
              "      <td>7</td>\n",
              "      <td>Existing Business</td>\n",
              "      <td>0</td>\n",
              "      <td>0</td>\n",
              "      <td>1</td>\n",
              "      <td>0</td>\n",
              "      <td>N</td>\n",
              "      <td>N</td>\n",
              "      <td>215250.0</td>\n",
              "      <td>215250.0</td>\n",
              "      <td>paid_in_full</td>\n",
              "      <td>215250.0</td>\n",
              "      <td>215250.0</td>\n",
              "      <td>215250.0</td>\n",
              "    </tr>\n",
              "    <tr>\n",
              "      <th>3</th>\n",
              "      <td>OK</td>\n",
              "      <td>0</td>\n",
              "      <td>1997</td>\n",
              "      <td>60</td>\n",
              "      <td>2</td>\n",
              "      <td>Existing Business</td>\n",
              "      <td>0</td>\n",
              "      <td>0</td>\n",
              "      <td>1</td>\n",
              "      <td>0</td>\n",
              "      <td>N</td>\n",
              "      <td>Y</td>\n",
              "      <td>28000.0</td>\n",
              "      <td>28000.0</td>\n",
              "      <td>paid_in_full</td>\n",
              "      <td>28000.0</td>\n",
              "      <td>28000.0</td>\n",
              "      <td>28000.0</td>\n",
              "    </tr>\n",
              "    <tr>\n",
              "      <th>4</th>\n",
              "      <td>FL</td>\n",
              "      <td>0</td>\n",
              "      <td>1997</td>\n",
              "      <td>240</td>\n",
              "      <td>14</td>\n",
              "      <td>Existing Business</td>\n",
              "      <td>7</td>\n",
              "      <td>7</td>\n",
              "      <td>1</td>\n",
              "      <td>0</td>\n",
              "      <td>N</td>\n",
              "      <td>N</td>\n",
              "      <td>229000.0</td>\n",
              "      <td>229000.0</td>\n",
              "      <td>paid_in_full</td>\n",
              "      <td>229000.0</td>\n",
              "      <td>229000.0</td>\n",
              "      <td>229000.0</td>\n",
              "    </tr>\n",
              "  </tbody>\n",
              "</table>\n",
              "</div>\n",
              "      <button class=\"colab-df-convert\" onclick=\"convertToInteractive('df-63cbf776-a02c-46e6-8807-ae12273f87f3')\"\n",
              "              title=\"Convert this dataframe to an interactive table.\"\n",
              "              style=\"display:none;\">\n",
              "        \n",
              "  <svg xmlns=\"http://www.w3.org/2000/svg\" height=\"24px\"viewBox=\"0 0 24 24\"\n",
              "       width=\"24px\">\n",
              "    <path d=\"M0 0h24v24H0V0z\" fill=\"none\"/>\n",
              "    <path d=\"M18.56 5.44l.94 2.06.94-2.06 2.06-.94-2.06-.94-.94-2.06-.94 2.06-2.06.94zm-11 1L8.5 8.5l.94-2.06 2.06-.94-2.06-.94L8.5 2.5l-.94 2.06-2.06.94zm10 10l.94 2.06.94-2.06 2.06-.94-2.06-.94-.94-2.06-.94 2.06-2.06.94z\"/><path d=\"M17.41 7.96l-1.37-1.37c-.4-.4-.92-.59-1.43-.59-.52 0-1.04.2-1.43.59L10.3 9.45l-7.72 7.72c-.78.78-.78 2.05 0 2.83L4 21.41c.39.39.9.59 1.41.59.51 0 1.02-.2 1.41-.59l7.78-7.78 2.81-2.81c.8-.78.8-2.07 0-2.86zM5.41 20L4 18.59l7.72-7.72 1.47 1.35L5.41 20z\"/>\n",
              "  </svg>\n",
              "      </button>\n",
              "      \n",
              "  <style>\n",
              "    .colab-df-container {\n",
              "      display:flex;\n",
              "      flex-wrap:wrap;\n",
              "      gap: 12px;\n",
              "    }\n",
              "\n",
              "    .colab-df-convert {\n",
              "      background-color: #E8F0FE;\n",
              "      border: none;\n",
              "      border-radius: 50%;\n",
              "      cursor: pointer;\n",
              "      display: none;\n",
              "      fill: #1967D2;\n",
              "      height: 32px;\n",
              "      padding: 0 0 0 0;\n",
              "      width: 32px;\n",
              "    }\n",
              "\n",
              "    .colab-df-convert:hover {\n",
              "      background-color: #E2EBFA;\n",
              "      box-shadow: 0px 1px 2px rgba(60, 64, 67, 0.3), 0px 1px 3px 1px rgba(60, 64, 67, 0.15);\n",
              "      fill: #174EA6;\n",
              "    }\n",
              "\n",
              "    [theme=dark] .colab-df-convert {\n",
              "      background-color: #3B4455;\n",
              "      fill: #D2E3FC;\n",
              "    }\n",
              "\n",
              "    [theme=dark] .colab-df-convert:hover {\n",
              "      background-color: #434B5C;\n",
              "      box-shadow: 0px 1px 3px 1px rgba(0, 0, 0, 0.15);\n",
              "      filter: drop-shadow(0px 1px 2px rgba(0, 0, 0, 0.3));\n",
              "      fill: #FFFFFF;\n",
              "    }\n",
              "  </style>\n",
              "\n",
              "      <script>\n",
              "        const buttonEl =\n",
              "          document.querySelector('#df-63cbf776-a02c-46e6-8807-ae12273f87f3 button.colab-df-convert');\n",
              "        buttonEl.style.display =\n",
              "          google.colab.kernel.accessAllowed ? 'block' : 'none';\n",
              "\n",
              "        async function convertToInteractive(key) {\n",
              "          const element = document.querySelector('#df-63cbf776-a02c-46e6-8807-ae12273f87f3');\n",
              "          const dataTable =\n",
              "            await google.colab.kernel.invokeFunction('convertToInteractive',\n",
              "                                                     [key], {});\n",
              "          if (!dataTable) return;\n",
              "\n",
              "          const docLinkHtml = 'Like what you see? Visit the ' +\n",
              "            '<a target=\"_blank\" href=https://colab.research.google.com/notebooks/data_table.ipynb>data table notebook</a>'\n",
              "            + ' to learn more about interactive tables.';\n",
              "          element.innerHTML = '';\n",
              "          dataTable['output_type'] = 'display_data';\n",
              "          await google.colab.output.renderOutput(dataTable, element);\n",
              "          const docLink = document.createElement('div');\n",
              "          docLink.innerHTML = docLinkHtml;\n",
              "          element.appendChild(docLink);\n",
              "        }\n",
              "      </script>\n",
              "    </div>\n",
              "  </div>\n",
              "  "
            ],
            "text/plain": [
              "  state  naics approval_fy  term  num_of_emp          new_exist  created_job  \\\n",
              "0    IN     45        1997    84           4       New Business            0   \n",
              "1    IN     72        1997    60           2       New Business            0   \n",
              "2    IN     62        1997   180           7  Existing Business            0   \n",
              "3    OK      0        1997    60           2  Existing Business            0   \n",
              "4    FL      0        1997   240          14  Existing Business            7   \n",
              "\n",
              "   retained_job  franchise_code urban_rural rev_line_cr low_doc  \\\n",
              "0             0               1           0           N       Y   \n",
              "1             0               1           0           N       Y   \n",
              "2             0               1           0           N       N   \n",
              "3             0               1           0           N       Y   \n",
              "4             7               1           0           N       N   \n",
              "\n",
              "   disbursement_gross  balance_gross    mis_status  charged_off_amt   gr_appv  \\\n",
              "0             48000.0        48000.0  paid_in_full          48000.0   48000.0   \n",
              "1             32000.0        32000.0  paid_in_full          32000.0   32000.0   \n",
              "2            215250.0       215250.0  paid_in_full         215250.0  215250.0   \n",
              "3             28000.0        28000.0  paid_in_full          28000.0   28000.0   \n",
              "4            229000.0       229000.0  paid_in_full         229000.0  229000.0   \n",
              "\n",
              "   sba_approval  \n",
              "0       48000.0  \n",
              "1       32000.0  \n",
              "2      215250.0  \n",
              "3       28000.0  \n",
              "4      229000.0  "
            ]
          },
          "execution_count": 8,
          "metadata": {},
          "output_type": "execute_result"
        }
      ],
      "source": [
        "new_exist_converter = {0: 'Unknown',\n",
        "                       1: 'Existing Business',\n",
        "                       2: 'New Business'}\n",
        "\n",
        "data['new_exist'] = data['new_exist']\\\n",
        "    .replace(new_exist_converter)\\\n",
        "    .astype(str)\n",
        "\n",
        "urban_rural_converter = {0: 'Unknown',\n",
        "                         1: 'Urban',\n",
        "                         2: 'Rural'}\n",
        "\n",
        "data['urban_rural'] = data['urban_rural']\\\n",
        "    .replace(urban_rural_converter)\\\n",
        "    .astype(str)\n",
        "\n",
        "no_yes_converter = {0: 'N',\n",
        "                    1: 'Y'}\n",
        "\n",
        "data['rev_line_cr'] = data['rev_line_cr'].replace(no_yes_converter)\n",
        "\n",
        "data['low_doc'] = data['low_doc'].replace(no_yes_converter)\n",
        "\n",
        "mis_status_converter = {'P I F': 'paid_in_full',\n",
        "                        'CHGOFF': 'charge_off'}\n",
        "\n",
        "data['mis_status'] = data['mis_status'].replace(mis_status_converter)\n",
        "\n",
        "data.head()"
      ]
    },
    {
      "attachments": {},
      "cell_type": "markdown",
      "metadata": {
        "id": "vFkdAKQLhhuB"
      },
      "source": [
        "### Convert Created Jobs & Retained Jobs Features From Nominal Categorical Values Into Boolean"
      ]
    },
    {
      "cell_type": "code",
      "execution_count": 9,
      "metadata": {
        "id": "9MzBL_M4hhuB"
      },
      "outputs": [],
      "source": [
        "data['created_job'] = data['created_job'].apply(lambda x: 1 if x > 0 else 0)\n",
        "\n",
        "data['retained_job'] = data['retained_job'].apply(lambda x: 1 if x > 0 else 0)"
      ]
    },
    {
      "attachments": {},
      "cell_type": "markdown",
      "metadata": {
        "id": "qxJphIVNhhuB"
      },
      "source": [
        "#### Remove Features with Unusable Inputs"
      ]
    },
    {
      "cell_type": "code",
      "execution_count": 10,
      "metadata": {
        "colab": {
          "base_uri": "https://localhost:8080/",
          "height": 661
        },
        "id": "mRET1TrdhhuB",
        "outputId": "1bd653a7-4a3c-420e-f1a4-ae5a09fb7c67"
      },
      "outputs": [
        {
          "data": {
            "text/html": [
              "\n",
              "  <div id=\"df-6e0f8cfc-9df8-4e66-9b4d-9e1d2ded557a\">\n",
              "    <div class=\"colab-df-container\">\n",
              "      <div>\n",
              "<style scoped>\n",
              "    .dataframe tbody tr th:only-of-type {\n",
              "        vertical-align: middle;\n",
              "    }\n",
              "\n",
              "    .dataframe tbody tr th {\n",
              "        vertical-align: top;\n",
              "    }\n",
              "\n",
              "    .dataframe thead th {\n",
              "        text-align: right;\n",
              "    }\n",
              "</style>\n",
              "<table border=\"1\" class=\"dataframe\">\n",
              "  <thead>\n",
              "    <tr style=\"text-align: right;\">\n",
              "      <th></th>\n",
              "      <th>state</th>\n",
              "      <th>naics</th>\n",
              "      <th>approval_fy</th>\n",
              "      <th>term</th>\n",
              "      <th>num_of_emp</th>\n",
              "      <th>new_exist</th>\n",
              "      <th>created_job</th>\n",
              "      <th>retained_job</th>\n",
              "      <th>franchise_code</th>\n",
              "      <th>urban_rural</th>\n",
              "      <th>rev_line_cr</th>\n",
              "      <th>low_doc</th>\n",
              "      <th>disbursement_gross</th>\n",
              "      <th>balance_gross</th>\n",
              "      <th>mis_status</th>\n",
              "      <th>charged_off_amt</th>\n",
              "      <th>gr_appv</th>\n",
              "      <th>sba_approval</th>\n",
              "    </tr>\n",
              "  </thead>\n",
              "  <tbody>\n",
              "    <tr>\n",
              "      <th>0</th>\n",
              "      <td>IN</td>\n",
              "      <td>45</td>\n",
              "      <td>1997</td>\n",
              "      <td>84</td>\n",
              "      <td>4</td>\n",
              "      <td>New Business</td>\n",
              "      <td>0</td>\n",
              "      <td>0</td>\n",
              "      <td>0</td>\n",
              "      <td>0</td>\n",
              "      <td>N</td>\n",
              "      <td>Y</td>\n",
              "      <td>48000.0</td>\n",
              "      <td>48000.0</td>\n",
              "      <td>paid_in_full</td>\n",
              "      <td>48000.0</td>\n",
              "      <td>48000.0</td>\n",
              "      <td>48000.0</td>\n",
              "    </tr>\n",
              "    <tr>\n",
              "      <th>1</th>\n",
              "      <td>IN</td>\n",
              "      <td>72</td>\n",
              "      <td>1997</td>\n",
              "      <td>60</td>\n",
              "      <td>2</td>\n",
              "      <td>New Business</td>\n",
              "      <td>0</td>\n",
              "      <td>0</td>\n",
              "      <td>0</td>\n",
              "      <td>0</td>\n",
              "      <td>N</td>\n",
              "      <td>Y</td>\n",
              "      <td>32000.0</td>\n",
              "      <td>32000.0</td>\n",
              "      <td>paid_in_full</td>\n",
              "      <td>32000.0</td>\n",
              "      <td>32000.0</td>\n",
              "      <td>32000.0</td>\n",
              "    </tr>\n",
              "    <tr>\n",
              "      <th>2</th>\n",
              "      <td>IN</td>\n",
              "      <td>62</td>\n",
              "      <td>1997</td>\n",
              "      <td>180</td>\n",
              "      <td>7</td>\n",
              "      <td>Existing Business</td>\n",
              "      <td>0</td>\n",
              "      <td>0</td>\n",
              "      <td>0</td>\n",
              "      <td>0</td>\n",
              "      <td>N</td>\n",
              "      <td>N</td>\n",
              "      <td>215250.0</td>\n",
              "      <td>215250.0</td>\n",
              "      <td>paid_in_full</td>\n",
              "      <td>215250.0</td>\n",
              "      <td>215250.0</td>\n",
              "      <td>215250.0</td>\n",
              "    </tr>\n",
              "    <tr>\n",
              "      <th>3</th>\n",
              "      <td>OK</td>\n",
              "      <td>0</td>\n",
              "      <td>1997</td>\n",
              "      <td>60</td>\n",
              "      <td>2</td>\n",
              "      <td>Existing Business</td>\n",
              "      <td>0</td>\n",
              "      <td>0</td>\n",
              "      <td>0</td>\n",
              "      <td>0</td>\n",
              "      <td>N</td>\n",
              "      <td>Y</td>\n",
              "      <td>28000.0</td>\n",
              "      <td>28000.0</td>\n",
              "      <td>paid_in_full</td>\n",
              "      <td>28000.0</td>\n",
              "      <td>28000.0</td>\n",
              "      <td>28000.0</td>\n",
              "    </tr>\n",
              "    <tr>\n",
              "      <th>4</th>\n",
              "      <td>FL</td>\n",
              "      <td>0</td>\n",
              "      <td>1997</td>\n",
              "      <td>240</td>\n",
              "      <td>14</td>\n",
              "      <td>Existing Business</td>\n",
              "      <td>1</td>\n",
              "      <td>1</td>\n",
              "      <td>0</td>\n",
              "      <td>0</td>\n",
              "      <td>N</td>\n",
              "      <td>N</td>\n",
              "      <td>229000.0</td>\n",
              "      <td>229000.0</td>\n",
              "      <td>paid_in_full</td>\n",
              "      <td>229000.0</td>\n",
              "      <td>229000.0</td>\n",
              "      <td>229000.0</td>\n",
              "    </tr>\n",
              "    <tr>\n",
              "      <th>...</th>\n",
              "      <td>...</td>\n",
              "      <td>...</td>\n",
              "      <td>...</td>\n",
              "      <td>...</td>\n",
              "      <td>...</td>\n",
              "      <td>...</td>\n",
              "      <td>...</td>\n",
              "      <td>...</td>\n",
              "      <td>...</td>\n",
              "      <td>...</td>\n",
              "      <td>...</td>\n",
              "      <td>...</td>\n",
              "      <td>...</td>\n",
              "      <td>...</td>\n",
              "      <td>...</td>\n",
              "      <td>...</td>\n",
              "      <td>...</td>\n",
              "      <td>...</td>\n",
              "    </tr>\n",
              "    <tr>\n",
              "      <th>614662</th>\n",
              "      <td>TX</td>\n",
              "      <td>0</td>\n",
              "      <td>1997</td>\n",
              "      <td>84</td>\n",
              "      <td>5</td>\n",
              "      <td>New Business</td>\n",
              "      <td>0</td>\n",
              "      <td>0</td>\n",
              "      <td>0</td>\n",
              "      <td>0</td>\n",
              "      <td>N</td>\n",
              "      <td>Y</td>\n",
              "      <td>63200.0</td>\n",
              "      <td>63200.0</td>\n",
              "      <td>paid_in_full</td>\n",
              "      <td>63200.0</td>\n",
              "      <td>63200.0</td>\n",
              "      <td>63200.0</td>\n",
              "    </tr>\n",
              "    <tr>\n",
              "      <th>614663</th>\n",
              "      <td>OH</td>\n",
              "      <td>45</td>\n",
              "      <td>1997</td>\n",
              "      <td>60</td>\n",
              "      <td>6</td>\n",
              "      <td>Existing Business</td>\n",
              "      <td>0</td>\n",
              "      <td>0</td>\n",
              "      <td>0</td>\n",
              "      <td>0</td>\n",
              "      <td>Y</td>\n",
              "      <td>N</td>\n",
              "      <td>42500.0</td>\n",
              "      <td>42500.0</td>\n",
              "      <td>paid_in_full</td>\n",
              "      <td>42500.0</td>\n",
              "      <td>42500.0</td>\n",
              "      <td>42500.0</td>\n",
              "    </tr>\n",
              "    <tr>\n",
              "      <th>614664</th>\n",
              "      <td>CA</td>\n",
              "      <td>33</td>\n",
              "      <td>1997</td>\n",
              "      <td>108</td>\n",
              "      <td>26</td>\n",
              "      <td>Existing Business</td>\n",
              "      <td>0</td>\n",
              "      <td>0</td>\n",
              "      <td>0</td>\n",
              "      <td>0</td>\n",
              "      <td>N</td>\n",
              "      <td>N</td>\n",
              "      <td>225000.0</td>\n",
              "      <td>225000.0</td>\n",
              "      <td>paid_in_full</td>\n",
              "      <td>225000.0</td>\n",
              "      <td>225000.0</td>\n",
              "      <td>225000.0</td>\n",
              "    </tr>\n",
              "    <tr>\n",
              "      <th>614665</th>\n",
              "      <td>HI</td>\n",
              "      <td>0</td>\n",
              "      <td>1997</td>\n",
              "      <td>60</td>\n",
              "      <td>6</td>\n",
              "      <td>Existing Business</td>\n",
              "      <td>0</td>\n",
              "      <td>0</td>\n",
              "      <td>0</td>\n",
              "      <td>0</td>\n",
              "      <td>N</td>\n",
              "      <td>Y</td>\n",
              "      <td>60000.0</td>\n",
              "      <td>60000.0</td>\n",
              "      <td>charge_off</td>\n",
              "      <td>60000.0</td>\n",
              "      <td>60000.0</td>\n",
              "      <td>60000.0</td>\n",
              "    </tr>\n",
              "    <tr>\n",
              "      <th>614666</th>\n",
              "      <td>HI</td>\n",
              "      <td>0</td>\n",
              "      <td>1997</td>\n",
              "      <td>48</td>\n",
              "      <td>1</td>\n",
              "      <td>New Business</td>\n",
              "      <td>0</td>\n",
              "      <td>0</td>\n",
              "      <td>0</td>\n",
              "      <td>0</td>\n",
              "      <td>N</td>\n",
              "      <td>N</td>\n",
              "      <td>24000.0</td>\n",
              "      <td>24000.0</td>\n",
              "      <td>paid_in_full</td>\n",
              "      <td>24000.0</td>\n",
              "      <td>24000.0</td>\n",
              "      <td>24000.0</td>\n",
              "    </tr>\n",
              "  </tbody>\n",
              "</table>\n",
              "<p>614667 rows × 18 columns</p>\n",
              "</div>\n",
              "      <button class=\"colab-df-convert\" onclick=\"convertToInteractive('df-6e0f8cfc-9df8-4e66-9b4d-9e1d2ded557a')\"\n",
              "              title=\"Convert this dataframe to an interactive table.\"\n",
              "              style=\"display:none;\">\n",
              "        \n",
              "  <svg xmlns=\"http://www.w3.org/2000/svg\" height=\"24px\"viewBox=\"0 0 24 24\"\n",
              "       width=\"24px\">\n",
              "    <path d=\"M0 0h24v24H0V0z\" fill=\"none\"/>\n",
              "    <path d=\"M18.56 5.44l.94 2.06.94-2.06 2.06-.94-2.06-.94-.94-2.06-.94 2.06-2.06.94zm-11 1L8.5 8.5l.94-2.06 2.06-.94-2.06-.94L8.5 2.5l-.94 2.06-2.06.94zm10 10l.94 2.06.94-2.06 2.06-.94-2.06-.94-.94-2.06-.94 2.06-2.06.94z\"/><path d=\"M17.41 7.96l-1.37-1.37c-.4-.4-.92-.59-1.43-.59-.52 0-1.04.2-1.43.59L10.3 9.45l-7.72 7.72c-.78.78-.78 2.05 0 2.83L4 21.41c.39.39.9.59 1.41.59.51 0 1.02-.2 1.41-.59l7.78-7.78 2.81-2.81c.8-.78.8-2.07 0-2.86zM5.41 20L4 18.59l7.72-7.72 1.47 1.35L5.41 20z\"/>\n",
              "  </svg>\n",
              "      </button>\n",
              "      \n",
              "  <style>\n",
              "    .colab-df-container {\n",
              "      display:flex;\n",
              "      flex-wrap:wrap;\n",
              "      gap: 12px;\n",
              "    }\n",
              "\n",
              "    .colab-df-convert {\n",
              "      background-color: #E8F0FE;\n",
              "      border: none;\n",
              "      border-radius: 50%;\n",
              "      cursor: pointer;\n",
              "      display: none;\n",
              "      fill: #1967D2;\n",
              "      height: 32px;\n",
              "      padding: 0 0 0 0;\n",
              "      width: 32px;\n",
              "    }\n",
              "\n",
              "    .colab-df-convert:hover {\n",
              "      background-color: #E2EBFA;\n",
              "      box-shadow: 0px 1px 2px rgba(60, 64, 67, 0.3), 0px 1px 3px 1px rgba(60, 64, 67, 0.15);\n",
              "      fill: #174EA6;\n",
              "    }\n",
              "\n",
              "    [theme=dark] .colab-df-convert {\n",
              "      background-color: #3B4455;\n",
              "      fill: #D2E3FC;\n",
              "    }\n",
              "\n",
              "    [theme=dark] .colab-df-convert:hover {\n",
              "      background-color: #434B5C;\n",
              "      box-shadow: 0px 1px 3px 1px rgba(0, 0, 0, 0.15);\n",
              "      filter: drop-shadow(0px 1px 2px rgba(0, 0, 0, 0.3));\n",
              "      fill: #FFFFFF;\n",
              "    }\n",
              "  </style>\n",
              "\n",
              "      <script>\n",
              "        const buttonEl =\n",
              "          document.querySelector('#df-6e0f8cfc-9df8-4e66-9b4d-9e1d2ded557a button.colab-df-convert');\n",
              "        buttonEl.style.display =\n",
              "          google.colab.kernel.accessAllowed ? 'block' : 'none';\n",
              "\n",
              "        async function convertToInteractive(key) {\n",
              "          const element = document.querySelector('#df-6e0f8cfc-9df8-4e66-9b4d-9e1d2ded557a');\n",
              "          const dataTable =\n",
              "            await google.colab.kernel.invokeFunction('convertToInteractive',\n",
              "                                                     [key], {});\n",
              "          if (!dataTable) return;\n",
              "\n",
              "          const docLinkHtml = 'Like what you see? Visit the ' +\n",
              "            '<a target=\"_blank\" href=https://colab.research.google.com/notebooks/data_table.ipynb>data table notebook</a>'\n",
              "            + ' to learn more about interactive tables.';\n",
              "          element.innerHTML = '';\n",
              "          dataTable['output_type'] = 'display_data';\n",
              "          await google.colab.output.renderOutput(dataTable, element);\n",
              "          const docLink = document.createElement('div');\n",
              "          docLink.innerHTML = docLinkHtml;\n",
              "          element.appendChild(docLink);\n",
              "        }\n",
              "      </script>\n",
              "    </div>\n",
              "  </div>\n",
              "  "
            ],
            "text/plain": [
              "       state  naics approval_fy  term  num_of_emp          new_exist  \\\n",
              "0         IN     45        1997    84           4       New Business   \n",
              "1         IN     72        1997    60           2       New Business   \n",
              "2         IN     62        1997   180           7  Existing Business   \n",
              "3         OK      0        1997    60           2  Existing Business   \n",
              "4         FL      0        1997   240          14  Existing Business   \n",
              "...      ...    ...         ...   ...         ...                ...   \n",
              "614662    TX      0        1997    84           5       New Business   \n",
              "614663    OH     45        1997    60           6  Existing Business   \n",
              "614664    CA     33        1997   108          26  Existing Business   \n",
              "614665    HI      0        1997    60           6  Existing Business   \n",
              "614666    HI      0        1997    48           1       New Business   \n",
              "\n",
              "        created_job  retained_job  franchise_code urban_rural rev_line_cr  \\\n",
              "0                 0             0               0           0           N   \n",
              "1                 0             0               0           0           N   \n",
              "2                 0             0               0           0           N   \n",
              "3                 0             0               0           0           N   \n",
              "4                 1             1               0           0           N   \n",
              "...             ...           ...             ...         ...         ...   \n",
              "614662            0             0               0           0           N   \n",
              "614663            0             0               0           0           Y   \n",
              "614664            0             0               0           0           N   \n",
              "614665            0             0               0           0           N   \n",
              "614666            0             0               0           0           N   \n",
              "\n",
              "       low_doc  disbursement_gross  balance_gross    mis_status  \\\n",
              "0            Y             48000.0        48000.0  paid_in_full   \n",
              "1            Y             32000.0        32000.0  paid_in_full   \n",
              "2            N            215250.0       215250.0  paid_in_full   \n",
              "3            Y             28000.0        28000.0  paid_in_full   \n",
              "4            N            229000.0       229000.0  paid_in_full   \n",
              "...        ...                 ...            ...           ...   \n",
              "614662       Y             63200.0        63200.0  paid_in_full   \n",
              "614663       N             42500.0        42500.0  paid_in_full   \n",
              "614664       N            225000.0       225000.0  paid_in_full   \n",
              "614665       Y             60000.0        60000.0    charge_off   \n",
              "614666       N             24000.0        24000.0  paid_in_full   \n",
              "\n",
              "        charged_off_amt   gr_appv  sba_approval  \n",
              "0               48000.0   48000.0       48000.0  \n",
              "1               32000.0   32000.0       32000.0  \n",
              "2              215250.0  215250.0      215250.0  \n",
              "3               28000.0   28000.0       28000.0  \n",
              "4              229000.0  229000.0      229000.0  \n",
              "...                 ...       ...           ...  \n",
              "614662          63200.0   63200.0       63200.0  \n",
              "614663          42500.0   42500.0       42500.0  \n",
              "614664         225000.0  225000.0      225000.0  \n",
              "614665          60000.0   60000.0       60000.0  \n",
              "614666          24000.0   24000.0       24000.0  \n",
              "\n",
              "[614667 rows x 18 columns]"
            ]
          },
          "execution_count": 10,
          "metadata": {},
          "output_type": "execute_result"
        }
      ],
      "source": [
        "data['franchise_code'] = data['franchise_code'].apply(lambda x: 0 if (x == 0 or x == 1) else 1)\n",
        "\n",
        "data = data.query(\"rev_line_cr == 'N' or rev_line_cr == 'Y'\")\n",
        "data = data.query(\"low_doc =='N' or low_doc =='Y'\")\n",
        "\n",
        "data = data.reset_index(drop=True)\n",
        "\n",
        "data"
      ]
    },
    {
      "attachments": {},
      "cell_type": "markdown",
      "metadata": {
        "id": "9i2B6m-whhuB"
      },
      "source": [
        "### Visualizations"
      ]
    },
    {
      "attachments": {},
      "cell_type": "markdown",
      "metadata": {
        "id": "9tZ58k_bhhuB"
      },
      "source": [
        "#### Create Function to Visualize Features (Histograms)"
      ]
    },
    {
      "cell_type": "code",
      "execution_count": 11,
      "metadata": {
        "id": "9jL4qu6ehhuB"
      },
      "outputs": [],
      "source": [
        "def histogram_visual(feature_to_visualize: pd.Series,\n",
        "                     num_of_bins: int,\n",
        "                     plot_title: str,\n",
        "                     x_label: str,\n",
        "                     x_start: float = -1.0,\n",
        "                     y_label: str = \"# of Samples\",\n",
        "                     ):\n",
        "    \"\"\"\n",
        "    This function returns a histogram for a feature.\n",
        "\n",
        "    Inputs:\n",
        "    - feature_to_visualize: Feature to plot in the form\n",
        "    of pandas Series.\n",
        "    - plot_title: The title of the plot/visual.\n",
        "    - x_label: The string label value for the x label.\n",
        "    - x_start: To force the x-axis of the visual to start at\n",
        "    a specified value instead of the automatically generated\n",
        "    value, assign the float value here. Otherwise, the\n",
        "    autogenerated start value will be used.\n",
        "    - y_label: The string label value for the y label.\n",
        "\n",
        "    Output:\n",
        "    - A histogram.\n",
        "    \"\"\"\n",
        "\n",
        "    assert type(feature_to_visualize) == pd.Series, \\\n",
        "        \"Make sure the dataset input type is a Pandas Series.\"\n",
        "    assert type(plot_title) != 'str', \\\n",
        "        \"The title value must be a string value.\"\n",
        "    assert type(x_label) !=  'str', \\\n",
        "        \"The x label value must be a string value.\"\n",
        "    assert type(y_label) != 'str', \\\n",
        "        \"The y label value must be a string value.\"\n",
        "    assert type(x_start) != 'float', \\\n",
        "        \"The x_start value must be a float value.\"\n",
        "\n",
        "    ax = feature_to_visualize.hist(grid=False,\n",
        "                                   bins=num_of_bins,\n",
        "                                   figsize=(18, 8))\n",
        "    plt.suptitle('')\n",
        "    plt.title(plot_title)\n",
        "    plt.ylabel(y_label)\n",
        "    plt.xlabel(x_label)\n",
        "\n",
        "    if x_start != -1:\n",
        "        plt.xlim([0, (max(feature_to_visualize) + (1/num_of_bins))])\n",
        "\n",
        "    plt.show()"
      ]
    },
    {
      "attachments": {},
      "cell_type": "markdown",
      "metadata": {
        "id": "ZDUuetBVhhuC"
      },
      "source": [
        "#### Dataset Visualization: Amount Disbursed"
      ]
    },
    {
      "cell_type": "code",
      "execution_count": 12,
      "metadata": {
        "colab": {
          "base_uri": "https://localhost:8080/",
          "height": 570
        },
        "id": "HxHePtsBhhuC",
        "outputId": "9c062d0a-249b-4e5c-d0d1-b4bf5c5ad668"
      },
      "outputs": [
        {
          "data": {
            "image/png": "[encoded data removed]",
            "text/plain": [
              "<Figure size 1800x800 with 1 Axes>"
            ]
          },
          "metadata": {},
          "output_type": "display_data"
        },
        {
          "name": "stdout",
          "output_type": "stream",
          "text": [
            "The Disbursement Gross ranges from $500.0 to $4500000.0.\n"
          ]
        }
      ],
      "source": [
        "histogram_visual(data['disbursement_gross'],\n",
        "                 num_of_bins=3000,\n",
        "                 plot_title=\"Histogram of Disbursement Gross\",\n",
        "                 x_label=\"Disbursement Gross (in $s)\")\n",
        "\n",
        "print(f\"The Disbursement Gross ranges from \" +\n",
        "      f\"${min(data['disbursement_gross'])} to\" +\n",
        "      f\" ${max(data['disbursement_gross'])}.\")"
      ]
    },
    {
      "attachments": {},
      "cell_type": "markdown",
      "metadata": {
        "id": "nGJEQooAhhuC"
      },
      "source": [
        "#### Dataset Visualization: Balance Remaining"
      ]
    },
    {
      "cell_type": "code",
      "execution_count": 13,
      "metadata": {
        "colab": {
          "base_uri": "https://localhost:8080/",
          "height": 570
        },
        "id": "IasxcZ6MhhuC",
        "outputId": "7f137355-129a-4b82-fa1a-01f927bcaac4"
      },
      "outputs": [
        {
          "data": {
            "image/png": "[encoded data removed]",
            "text/plain": [
              "<Figure size 1800x800 with 1 Axes>"
            ]
          },
          "metadata": {},
          "output_type": "display_data"
        },
        {
          "name": "stdout",
          "output_type": "stream",
          "text": [
            "The Remaining Balance range from $500.0 to $4500000.0.\n"
          ]
        }
      ],
      "source": [
        "histogram_visual(data['balance_gross'],\n",
        "                 num_of_bins=3000,\n",
        "                 plot_title=\"Histogram of Balance Remaining\",\n",
        "                 x_label=\"Balance Remaining (in $s)\")\n",
        "\n",
        "print(f\"The Remaining Balance range from \" +\n",
        "      f\"${min(data['balance_gross'])} to\" +\n",
        "      f\" ${max(data['balance_gross'])}.\")"
      ]
    },
    {
      "attachments": {},
      "cell_type": "markdown",
      "metadata": {
        "id": "PJWGuW4dhhuC"
      },
      "source": [
        "#### Dataset Visualization: Charged-Off Amount"
      ]
    },
    {
      "cell_type": "code",
      "execution_count": 14,
      "metadata": {
        "colab": {
          "base_uri": "https://localhost:8080/",
          "height": 570
        },
        "id": "wb1k7dEfhhuC",
        "outputId": "7cda6885-ffea-46ac-cfdb-20aca05a7e38"
      },
      "outputs": [
        {
          "data": {
            "image/png": "[encoded data removed]",
            "text/plain": [
              "<Figure size 1800x800 with 1 Axes>"
            ]
          },
          "metadata": {},
          "output_type": "display_data"
        },
        {
          "name": "stdout",
          "output_type": "stream",
          "text": [
            "The amount charged off ranges from $500.0 to $4500000.0.\n"
          ]
        }
      ],
      "source": [
        "histogram_visual(data['charged_off_amt'],\n",
        "                 num_of_bins=1500,\n",
        "                 plot_title=\"Histogram of Amounts Charged-Off\",\n",
        "                 x_label=\"Charged-Off Amounts (in $s)\")\n",
        "\n",
        "print(f\"The amount charged off ranges from\" +\n",
        "      f\" ${min(data['charged_off_amt'])} to\" +\n",
        "      f\" ${max(data['charged_off_amt'])}.\")"
      ]
    },
    {
      "attachments": {},
      "cell_type": "markdown",
      "metadata": {
        "id": "to9crNpUhhuC"
      },
      "source": [
        "#### Dataset Visualization: Amount That Bank Approved"
      ]
    },
    {
      "cell_type": "code",
      "execution_count": 15,
      "metadata": {
        "colab": {
          "base_uri": "https://localhost:8080/",
          "height": 567
        },
        "id": "p0iZy0H3hhuC",
        "outputId": "50031491-16b0-49f0-b064-e02fb335827b"
      },
      "outputs": [
        {
          "data": {
            "image/png": "[encoded data removed]",
            "text/plain": [
              "<Figure size 1800x800 with 1 Axes>"
            ]
          },
          "metadata": {},
          "output_type": "display_data"
        },
        {
          "name": "stdout",
          "output_type": "stream",
          "text": [
            "The amount that the bank approved ranged from $500.0 to $4500000.0.\n"
          ]
        }
      ],
      "source": [
        "histogram_visual(data['gr_appv'],\n",
        "                 num_of_bins=100,\n",
        "                 plot_title=\"Histogram of Bank Approval Amounts\",\n",
        "                 x_label=\"Bank Approval Amounts (in $s)\")\n",
        "\n",
        "print(f\"The amount that the bank approved ranged\" +\n",
        "      f\" from ${min(data['gr_appv'])}\" +\n",
        "      f\" to ${max(data['gr_appv'])}.\")"
      ]
    },
    {
      "attachments": {},
      "cell_type": "markdown",
      "metadata": {
        "id": "nNZH9YEWhhuC"
      },
      "source": [
        "#### Dataset Visualization: Amount That SBA Approved"
      ]
    },
    {
      "cell_type": "code",
      "execution_count": 16,
      "metadata": {
        "colab": {
          "base_uri": "https://localhost:8080/",
          "height": 567
        },
        "id": "5sRi23xAhhuC",
        "outputId": "9574be13-373f-4c47-c91f-febccd6f3699"
      },
      "outputs": [
        {
          "data": {
            "image/png": "[encoded data removed]",
            "text/plain": [
              "<Figure size 1800x800 with 1 Axes>"
            ]
          },
          "metadata": {},
          "output_type": "display_data"
        },
        {
          "name": "stdout",
          "output_type": "stream",
          "text": [
            "The amount that the SBA approved ranged from $500.0 to $4500000.0.\n"
          ]
        }
      ],
      "source": [
        "histogram_visual(data['sba_approval'],\n",
        "                 num_of_bins=291,\n",
        "                 plot_title=\"Histogram of SBA Approval AMounts\",\n",
        "                 x_label=\"SBA Approval AMounts (in $s)\")\n",
        "\n",
        "print(f\"The amount that the SBA approved ranged\" +\n",
        "      f\" from ${min(data['sba_approval'])}\" +\n",
        "      f\" to ${max(data['sba_approval'])}.\")"
      ]
    },
    {
      "attachments": {},
      "cell_type": "markdown",
      "metadata": {
        "id": "QGTu99f7hhuC"
      },
      "source": [
        "#### Create Function to Visualize Features (Barplot)"
      ]
    },
    {
      "cell_type": "code",
      "execution_count": 17,
      "metadata": {
        "id": "veg3sDVphhuC"
      },
      "outputs": [],
      "source": [
        "def barplot_visual(feature_to_visualize: pd.Series,\n",
        "                   plot_title: str,\n",
        "                   x_label: str,\n",
        "                   y_label: str = \"# of Samples\",\n",
        "                   rotation: np.uint8 = 0,\n",
        "                   annotations: bool = True,\n",
        "\n",
        "                   ):\n",
        "    \"\"\"\n",
        "    This function returns a histogram for a feature.\n",
        "\n",
        "    Inputs:\n",
        "    - feature_to_visualize: Feature to plot in the form\n",
        "    of pandas Series.\n",
        "    - plot_title: The title of the plot/visual.\n",
        "    - x_label: The string label value for the x label.\n",
        "    - y_label: The string label value for the y label.\n",
        "    - rotation: Integer value of the rotation of x-tick\n",
        "        values\n",
        "    - annotations: If count of each unique value in\n",
        "        feature is included in visualization\n",
        "\n",
        "    Output:\n",
        "    - A Bar Plot.\n",
        "    \"\"\"\n",
        "\n",
        "    assert type(feature_to_visualize) == pd.Series, \\\n",
        "        \"Make sure the dataset input type is a Pandas Series.\"\n",
        "    assert type(plot_title) != 'str', \\\n",
        "        \"The title value must be a string value.\"\n",
        "    assert type(x_label) !=  'str', \\\n",
        "        \"The x label value must be a string value.\"\n",
        "    assert type(y_label) != 'str', \\\n",
        "        \"The y label value must be a string value.\"\n",
        "    assert type(rotation) != np.uint8, \\\n",
        "        \"The rotation value must be between 0 and 255.\"\n",
        "\n",
        "    ax = feature_to_visualize.value_counts().plot.bar(\n",
        "                                                      figsize=(12,8),\n",
        "                                                      rot=rotation,\n",
        "                                                      legend=False,\n",
        "                                                      color=[\"lightgreen\",\n",
        "                                                             \"blue\",\n",
        "                                                             \"brown\",\n",
        "                                                             \"lightblue\",\n",
        "                                                             \"tan\",\n",
        "                                                             \"yellow\",\n",
        "                                                             \"orange\",\n",
        "                                                             \"green\",\n",
        "                                                             \"red\",\n",
        "                                                             \"purple\"]\n",
        "                                                      )\n",
        "    if annotations:\n",
        "        ax.bar_label(ax.containers[0])\n",
        "\n",
        "    plt.suptitle('')\n",
        "    plt.title(plot_title)\n",
        "    plt.ylabel(y_label)\n",
        "    plt.xlabel(x_label)\n",
        "\n",
        "    plt.show()"
      ]
    },
    {
      "attachments": {},
      "cell_type": "markdown",
      "metadata": {
        "id": "RgJ0aXm-hhuC"
      },
      "source": [
        "#### Dataset Visualization: Approved in What Fiscal Year"
      ]
    },
    {
      "cell_type": "code",
      "execution_count": 18,
      "metadata": {
        "colab": {
          "base_uri": "https://localhost:8080/",
          "height": 746
        },
        "id": "eeR3cchOhhuC",
        "outputId": "4fdab6c3-5c39-4e55-a4c4-38442a9ac8d3"
      },
      "outputs": [
        {
          "data": {
            "image/png": "[encoded data removed]",
            "text/plain": [
              "<Figure size 1200x800 with 1 Axes>"
            ]
          },
          "metadata": {},
          "output_type": "display_data"
        }
      ],
      "source": [
        "barplot_visual(data[\"approval_fy\"],\n",
        "               \"Distribution Fiscal Year of Approval\",\n",
        "               \"Year\",\n",
        "               \"# of Samples\",\n",
        "               rotation=45,\n",
        "               annotations=False\n",
        "               )"
      ]
    },
    {
      "attachments": {},
      "cell_type": "markdown",
      "metadata": {
        "id": "ibFVClv0hhuC"
      },
      "source": [
        "#### Dataset Visualization: New or Existing Business?"
      ]
    },
    {
      "cell_type": "code",
      "execution_count": 19,
      "metadata": {
        "colab": {
          "base_uri": "https://localhost:8080/",
          "height": 718
        },
        "id": "kr5EbxkVhhuC",
        "outputId": "68b20066-3dee-4157-cd0f-4d25455f1bce"
      },
      "outputs": [
        {
          "data": {
            "image/png": "[encoded data removed]",
            "text/plain": [
              "<Figure size 1200x800 with 1 Axes>"
            ]
          },
          "metadata": {},
          "output_type": "display_data"
        }
      ],
      "source": [
        "barplot_visual(data[\"new_exist\"],\n",
        "               \"New or Existing Business?\",\n",
        "               \"New or Existing Business\",\n",
        "               \"# of Samples\",\n",
        "               )"
      ]
    },
    {
      "attachments": {},
      "cell_type": "markdown",
      "metadata": {
        "id": "tb38rPbLhhuD"
      },
      "source": [
        "#### Dataset Visualization: Urban, Rural, or Unknown"
      ]
    },
    {
      "cell_type": "code",
      "execution_count": 20,
      "metadata": {
        "colab": {
          "base_uri": "https://localhost:8080/",
          "height": 718
        },
        "id": "67b6xBVThhuD",
        "outputId": "f6d6396d-b0b5-4db6-b2db-056179cdd64a"
      },
      "outputs": [
        {
          "data": {
            "image/png": "[encoded data removed]",
            "text/plain": [
              "<Figure size 1200x800 with 1 Axes>"
            ]
          },
          "metadata": {},
          "output_type": "display_data"
        }
      ],
      "source": [
        "barplot_visual(data[\"urban_rural\"],\n",
        "               \"Where is the Start Up?\",\n",
        "               \"Location Type (1 = Urban, 2 = Rural, 0 = Unknown)\",\n",
        "               \"# of Samples\",\n",
        "               )"
      ]
    },
    {
      "attachments": {},
      "cell_type": "markdown",
      "metadata": {
        "id": "tDwVosFVhhuD"
      },
      "source": [
        "#### Dataset Visualization: Revlving Line of Credit Status"
      ]
    },
    {
      "cell_type": "code",
      "execution_count": 21,
      "metadata": {
        "colab": {
          "base_uri": "https://localhost:8080/",
          "height": 718
        },
        "id": "Ri8NSCgohhuD",
        "outputId": "6922c978-36c1-4a10-bb7d-9dd9bd7e6c9b"
      },
      "outputs": [
        {
          "data": {
            "image/png": "[encoded data removed]",
            "text/plain": [
              "<Figure size 1200x800 with 1 Axes>"
            ]
          },
          "metadata": {},
          "output_type": "display_data"
        }
      ],
      "source": [
        "barplot_visual(data[\"rev_line_cr\"],\n",
        "               \"Does Customer Have Revolving Line of Credit?\",\n",
        "               \"Revolving Line of Credit Status\",\n",
        "               \"# of Samples\",\n",
        "               )"
      ]
    },
    {
      "attachments": {},
      "cell_type": "markdown",
      "metadata": {
        "id": "cyuD87MmhhuD"
      },
      "source": [
        "#### Dataset Visualization: LowDoc Loan Program Status"
      ]
    },
    {
      "cell_type": "code",
      "execution_count": 22,
      "metadata": {
        "colab": {
          "base_uri": "https://localhost:8080/",
          "height": 718
        },
        "id": "GxV3gvKKhhuD",
        "outputId": "cd0606df-b7da-4a10-afdc-92975ca7bfac"
      },
      "outputs": [
        {
          "data": {
            "image/png": "[encoded data removed]",
            "text/plain": [
              "<Figure size 1200x800 with 1 Axes>"
            ]
          },
          "metadata": {},
          "output_type": "display_data"
        }
      ],
      "source": [
        "barplot_visual(data[\"low_doc\"],\n",
        "               \"Are They Apart of the LowDoc Loan Program?\",\n",
        "               \"LowDoc Loan Program Status\",\n",
        "               \"# of Samples\",\n",
        "               )"
      ]
    },
    {
      "attachments": {},
      "cell_type": "markdown",
      "metadata": {
        "id": "1mfP5U3lhhuD"
      },
      "source": [
        "#### Dataset Visualization: Loan Status"
      ]
    },
    {
      "cell_type": "code",
      "execution_count": 23,
      "metadata": {
        "colab": {
          "base_uri": "https://localhost:8080/",
          "height": 718
        },
        "id": "DZ_sekgThhuD",
        "outputId": "161adac7-67d9-42ee-b9dc-fcfd4398efa5"
      },
      "outputs": [
        {
          "data": {
            "image/png": "[encoded data removed]",
            "text/plain": [
              "<Figure size 1200x800 with 1 Axes>"
            ]
          },
          "metadata": {},
          "output_type": "display_data"
        }
      ],
      "source": [
        "barplot_visual(data[\"mis_status\"],\n",
        "               \"MIS Status\",\n",
        "               \"Employee Decision\",\n",
        "               \"# of Samples\",\n",
        "               )"
      ]
    },
    {
      "attachments": {},
      "cell_type": "markdown",
      "metadata": {
        "id": "BM-d85EnhhuD"
      },
      "source": [
        "### Exploratory Data Analysis & Preprocessing"
      ]
    },
    {
      "attachments": {},
      "cell_type": "markdown",
      "metadata": {
        "id": "Cqe5rfM1hhuD"
      },
      "source": [
        "#### Descriptive Statistics"
      ]
    },
    {
      "cell_type": "code",
      "execution_count": 24,
      "metadata": {
        "colab": {
          "base_uri": "https://localhost:8080/",
          "height": 601
        },
        "id": "jzs_Ntm-hhuD",
        "outputId": "6b895f00-a66e-415d-c210-fcd825865b77"
      },
      "outputs": [
        {
          "data": {
            "text/html": [
              "\n",
              "  <div id=\"df-f4b8edb8-64f8-4232-a149-003a85744ae8\">\n",
              "    <div class=\"colab-df-container\">\n",
              "      <div>\n",
              "<style scoped>\n",
              "    .dataframe tbody tr th:only-of-type {\n",
              "        vertical-align: middle;\n",
              "    }\n",
              "\n",
              "    .dataframe tbody tr th {\n",
              "        vertical-align: top;\n",
              "    }\n",
              "\n",
              "    .dataframe thead th {\n",
              "        text-align: right;\n",
              "    }\n",
              "</style>\n",
              "<table border=\"1\" class=\"dataframe\">\n",
              "  <thead>\n",
              "    <tr style=\"text-align: right;\">\n",
              "      <th></th>\n",
              "      <th>state</th>\n",
              "      <th>naics</th>\n",
              "      <th>approval_fy</th>\n",
              "      <th>term</th>\n",
              "      <th>num_of_emp</th>\n",
              "      <th>new_exist</th>\n",
              "      <th>created_job</th>\n",
              "      <th>retained_job</th>\n",
              "      <th>franchise_code</th>\n",
              "      <th>urban_rural</th>\n",
              "      <th>rev_line_cr</th>\n",
              "      <th>low_doc</th>\n",
              "      <th>disbursement_gross</th>\n",
              "      <th>balance_gross</th>\n",
              "      <th>mis_status</th>\n",
              "      <th>charged_off_amt</th>\n",
              "      <th>gr_appv</th>\n",
              "      <th>sba_approval</th>\n",
              "    </tr>\n",
              "  </thead>\n",
              "  <tbody>\n",
              "    <tr>\n",
              "      <th>count</th>\n",
              "      <td>614667</td>\n",
              "      <td>614667.000000</td>\n",
              "      <td>614667</td>\n",
              "      <td>614667.000000</td>\n",
              "      <td>614667.000000</td>\n",
              "      <td>614667</td>\n",
              "      <td>614667.000000</td>\n",
              "      <td>614667.000000</td>\n",
              "      <td>614667.000000</td>\n",
              "      <td>614667</td>\n",
              "      <td>614667</td>\n",
              "      <td>614667</td>\n",
              "      <td>6.146670e+05</td>\n",
              "      <td>6.146670e+05</td>\n",
              "      <td>614667</td>\n",
              "      <td>6.146670e+05</td>\n",
              "      <td>6.146670e+05</td>\n",
              "      <td>6.146670e+05</td>\n",
              "    </tr>\n",
              "    <tr>\n",
              "      <th>unique</th>\n",
              "      <td>51</td>\n",
              "      <td>NaN</td>\n",
              "      <td>48</td>\n",
              "      <td>NaN</td>\n",
              "      <td>NaN</td>\n",
              "      <td>3</td>\n",
              "      <td>NaN</td>\n",
              "      <td>NaN</td>\n",
              "      <td>NaN</td>\n",
              "      <td>3</td>\n",
              "      <td>2</td>\n",
              "      <td>2</td>\n",
              "      <td>NaN</td>\n",
              "      <td>NaN</td>\n",
              "      <td>2</td>\n",
              "      <td>NaN</td>\n",
              "      <td>NaN</td>\n",
              "      <td>NaN</td>\n",
              "    </tr>\n",
              "    <tr>\n",
              "      <th>top</th>\n",
              "      <td>CA</td>\n",
              "      <td>NaN</td>\n",
              "      <td>2007</td>\n",
              "      <td>NaN</td>\n",
              "      <td>NaN</td>\n",
              "      <td>Existing Business</td>\n",
              "      <td>NaN</td>\n",
              "      <td>NaN</td>\n",
              "      <td>NaN</td>\n",
              "      <td>1</td>\n",
              "      <td>N</td>\n",
              "      <td>N</td>\n",
              "      <td>NaN</td>\n",
              "      <td>NaN</td>\n",
              "      <td>paid_in_full</td>\n",
              "      <td>NaN</td>\n",
              "      <td>NaN</td>\n",
              "      <td>NaN</td>\n",
              "    </tr>\n",
              "    <tr>\n",
              "      <th>freq</th>\n",
              "      <td>81323</td>\n",
              "      <td>NaN</td>\n",
              "      <td>57164</td>\n",
              "      <td>NaN</td>\n",
              "      <td>NaN</td>\n",
              "      <td>447680</td>\n",
              "      <td>NaN</td>\n",
              "      <td>NaN</td>\n",
              "      <td>NaN</td>\n",
              "      <td>294558</td>\n",
              "      <td>414971</td>\n",
              "      <td>557372</td>\n",
              "      <td>NaN</td>\n",
              "      <td>NaN</td>\n",
              "      <td>503686</td>\n",
              "      <td>NaN</td>\n",
              "      <td>NaN</td>\n",
              "      <td>NaN</td>\n",
              "    </tr>\n",
              "    <tr>\n",
              "      <th>mean</th>\n",
              "      <td>NaN</td>\n",
              "      <td>37.307977</td>\n",
              "      <td>NaN</td>\n",
              "      <td>105.095030</td>\n",
              "      <td>11.990649</td>\n",
              "      <td>NaN</td>\n",
              "      <td>0.263308</td>\n",
              "      <td>0.486548</td>\n",
              "      <td>0.042099</td>\n",
              "      <td>NaN</td>\n",
              "      <td>NaN</td>\n",
              "      <td>NaN</td>\n",
              "      <td>1.341954e+05</td>\n",
              "      <td>1.341954e+05</td>\n",
              "      <td>NaN</td>\n",
              "      <td>1.341954e+05</td>\n",
              "      <td>1.341954e+05</td>\n",
              "      <td>1.341954e+05</td>\n",
              "    </tr>\n",
              "    <tr>\n",
              "      <th>std</th>\n",
              "      <td>NaN</td>\n",
              "      <td>26.382146</td>\n",
              "      <td>NaN</td>\n",
              "      <td>75.538158</td>\n",
              "      <td>75.457243</td>\n",
              "      <td>NaN</td>\n",
              "      <td>0.440429</td>\n",
              "      <td>0.499819</td>\n",
              "      <td>0.200816</td>\n",
              "      <td>NaN</td>\n",
              "      <td>NaN</td>\n",
              "      <td>NaN</td>\n",
              "      <td>2.105699e+05</td>\n",
              "      <td>2.105699e+05</td>\n",
              "      <td>NaN</td>\n",
              "      <td>2.105699e+05</td>\n",
              "      <td>2.105699e+05</td>\n",
              "      <td>2.105699e+05</td>\n",
              "    </tr>\n",
              "    <tr>\n",
              "      <th>min</th>\n",
              "      <td>NaN</td>\n",
              "      <td>0.000000</td>\n",
              "      <td>NaN</td>\n",
              "      <td>0.000000</td>\n",
              "      <td>0.000000</td>\n",
              "      <td>NaN</td>\n",
              "      <td>0.000000</td>\n",
              "      <td>0.000000</td>\n",
              "      <td>0.000000</td>\n",
              "      <td>NaN</td>\n",
              "      <td>NaN</td>\n",
              "      <td>NaN</td>\n",
              "      <td>5.000000e+02</td>\n",
              "      <td>5.000000e+02</td>\n",
              "      <td>NaN</td>\n",
              "      <td>5.000000e+02</td>\n",
              "      <td>5.000000e+02</td>\n",
              "      <td>5.000000e+02</td>\n",
              "    </tr>\n",
              "    <tr>\n",
              "      <th>1%</th>\n",
              "      <td>NaN</td>\n",
              "      <td>0.000000</td>\n",
              "      <td>NaN</td>\n",
              "      <td>4.000000</td>\n",
              "      <td>0.000000</td>\n",
              "      <td>NaN</td>\n",
              "      <td>0.000000</td>\n",
              "      <td>0.000000</td>\n",
              "      <td>0.000000</td>\n",
              "      <td>NaN</td>\n",
              "      <td>NaN</td>\n",
              "      <td>NaN</td>\n",
              "      <td>2.500000e+03</td>\n",
              "      <td>2.500000e+03</td>\n",
              "      <td>NaN</td>\n",
              "      <td>2.500000e+03</td>\n",
              "      <td>2.500000e+03</td>\n",
              "      <td>2.500000e+03</td>\n",
              "    </tr>\n",
              "    <tr>\n",
              "      <th>10%</th>\n",
              "      <td>NaN</td>\n",
              "      <td>0.000000</td>\n",
              "      <td>NaN</td>\n",
              "      <td>32.000000</td>\n",
              "      <td>1.000000</td>\n",
              "      <td>NaN</td>\n",
              "      <td>0.000000</td>\n",
              "      <td>0.000000</td>\n",
              "      <td>0.000000</td>\n",
              "      <td>NaN</td>\n",
              "      <td>NaN</td>\n",
              "      <td>NaN</td>\n",
              "      <td>9.000000e+03</td>\n",
              "      <td>9.000000e+03</td>\n",
              "      <td>NaN</td>\n",
              "      <td>9.000000e+03</td>\n",
              "      <td>9.000000e+03</td>\n",
              "      <td>9.000000e+03</td>\n",
              "    </tr>\n",
              "    <tr>\n",
              "      <th>25%</th>\n",
              "      <td>NaN</td>\n",
              "      <td>0.000000</td>\n",
              "      <td>NaN</td>\n",
              "      <td>60.000000</td>\n",
              "      <td>2.000000</td>\n",
              "      <td>NaN</td>\n",
              "      <td>0.000000</td>\n",
              "      <td>0.000000</td>\n",
              "      <td>0.000000</td>\n",
              "      <td>NaN</td>\n",
              "      <td>NaN</td>\n",
              "      <td>NaN</td>\n",
              "      <td>1.750000e+04</td>\n",
              "      <td>1.750000e+04</td>\n",
              "      <td>NaN</td>\n",
              "      <td>1.750000e+04</td>\n",
              "      <td>1.750000e+04</td>\n",
              "      <td>1.750000e+04</td>\n",
              "    </tr>\n",
              "    <tr>\n",
              "      <th>50%</th>\n",
              "      <td>NaN</td>\n",
              "      <td>44.000000</td>\n",
              "      <td>NaN</td>\n",
              "      <td>84.000000</td>\n",
              "      <td>4.000000</td>\n",
              "      <td>NaN</td>\n",
              "      <td>0.000000</td>\n",
              "      <td>0.000000</td>\n",
              "      <td>0.000000</td>\n",
              "      <td>NaN</td>\n",
              "      <td>NaN</td>\n",
              "      <td>NaN</td>\n",
              "      <td>5.000000e+04</td>\n",
              "      <td>5.000000e+04</td>\n",
              "      <td>NaN</td>\n",
              "      <td>5.000000e+04</td>\n",
              "      <td>5.000000e+04</td>\n",
              "      <td>5.000000e+04</td>\n",
              "    </tr>\n",
              "    <tr>\n",
              "      <th>75%</th>\n",
              "      <td>NaN</td>\n",
              "      <td>54.000000</td>\n",
              "      <td>NaN</td>\n",
              "      <td>120.000000</td>\n",
              "      <td>11.000000</td>\n",
              "      <td>NaN</td>\n",
              "      <td>1.000000</td>\n",
              "      <td>1.000000</td>\n",
              "      <td>0.000000</td>\n",
              "      <td>NaN</td>\n",
              "      <td>NaN</td>\n",
              "      <td>NaN</td>\n",
              "      <td>1.570000e+05</td>\n",
              "      <td>1.570000e+05</td>\n",
              "      <td>NaN</td>\n",
              "      <td>1.570000e+05</td>\n",
              "      <td>1.570000e+05</td>\n",
              "      <td>1.570000e+05</td>\n",
              "    </tr>\n",
              "    <tr>\n",
              "      <th>90%</th>\n",
              "      <td>NaN</td>\n",
              "      <td>72.000000</td>\n",
              "      <td>NaN</td>\n",
              "      <td>240.000000</td>\n",
              "      <td>25.000000</td>\n",
              "      <td>NaN</td>\n",
              "      <td>1.000000</td>\n",
              "      <td>1.000000</td>\n",
              "      <td>0.000000</td>\n",
              "      <td>NaN</td>\n",
              "      <td>NaN</td>\n",
              "      <td>NaN</td>\n",
              "      <td>3.750000e+05</td>\n",
              "      <td>3.750000e+05</td>\n",
              "      <td>NaN</td>\n",
              "      <td>3.750000e+05</td>\n",
              "      <td>3.750000e+05</td>\n",
              "      <td>3.750000e+05</td>\n",
              "    </tr>\n",
              "    <tr>\n",
              "      <th>99%</th>\n",
              "      <td>NaN</td>\n",
              "      <td>81.000000</td>\n",
              "      <td>NaN</td>\n",
              "      <td>300.000000</td>\n",
              "      <td>100.000000</td>\n",
              "      <td>NaN</td>\n",
              "      <td>1.000000</td>\n",
              "      <td>1.000000</td>\n",
              "      <td>1.000000</td>\n",
              "      <td>NaN</td>\n",
              "      <td>NaN</td>\n",
              "      <td>NaN</td>\n",
              "      <td>9.975000e+05</td>\n",
              "      <td>9.975000e+05</td>\n",
              "      <td>NaN</td>\n",
              "      <td>9.975000e+05</td>\n",
              "      <td>9.975000e+05</td>\n",
              "      <td>9.975000e+05</td>\n",
              "    </tr>\n",
              "    <tr>\n",
              "      <th>max</th>\n",
              "      <td>NaN</td>\n",
              "      <td>92.000000</td>\n",
              "      <td>NaN</td>\n",
              "      <td>527.000000</td>\n",
              "      <td>9999.000000</td>\n",
              "      <td>NaN</td>\n",
              "      <td>1.000000</td>\n",
              "      <td>1.000000</td>\n",
              "      <td>1.000000</td>\n",
              "      <td>NaN</td>\n",
              "      <td>NaN</td>\n",
              "      <td>NaN</td>\n",
              "      <td>4.500000e+06</td>\n",
              "      <td>4.500000e+06</td>\n",
              "      <td>NaN</td>\n",
              "      <td>4.500000e+06</td>\n",
              "      <td>4.500000e+06</td>\n",
              "      <td>4.500000e+06</td>\n",
              "    </tr>\n",
              "  </tbody>\n",
              "</table>\n",
              "</div>\n",
              "      <button class=\"colab-df-convert\" onclick=\"convertToInteractive('df-f4b8edb8-64f8-4232-a149-003a85744ae8')\"\n",
              "              title=\"Convert this dataframe to an interactive table.\"\n",
              "              style=\"display:none;\">\n",
              "        \n",
              "  <svg xmlns=\"http://www.w3.org/2000/svg\" height=\"24px\"viewBox=\"0 0 24 24\"\n",
              "       width=\"24px\">\n",
              "    <path d=\"M0 0h24v24H0V0z\" fill=\"none\"/>\n",
              "    <path d=\"M18.56 5.44l.94 2.06.94-2.06 2.06-.94-2.06-.94-.94-2.06-.94 2.06-2.06.94zm-11 1L8.5 8.5l.94-2.06 2.06-.94-2.06-.94L8.5 2.5l-.94 2.06-2.06.94zm10 10l.94 2.06.94-2.06 2.06-.94-2.06-.94-.94-2.06-.94 2.06-2.06.94z\"/><path d=\"M17.41 7.96l-1.37-1.37c-.4-.4-.92-.59-1.43-.59-.52 0-1.04.2-1.43.59L10.3 9.45l-7.72 7.72c-.78.78-.78 2.05 0 2.83L4 21.41c.39.39.9.59 1.41.59.51 0 1.02-.2 1.41-.59l7.78-7.78 2.81-2.81c.8-.78.8-2.07 0-2.86zM5.41 20L4 18.59l7.72-7.72 1.47 1.35L5.41 20z\"/>\n",
              "  </svg>\n",
              "      </button>\n",
              "      \n",
              "  <style>\n",
              "    .colab-df-container {\n",
              "      display:flex;\n",
              "      flex-wrap:wrap;\n",
              "      gap: 12px;\n",
              "    }\n",
              "\n",
              "    .colab-df-convert {\n",
              "      background-color: #E8F0FE;\n",
              "      border: none;\n",
              "      border-radius: 50%;\n",
              "      cursor: pointer;\n",
              "      display: none;\n",
              "      fill: #1967D2;\n",
              "      height: 32px;\n",
              "      padding: 0 0 0 0;\n",
              "      width: 32px;\n",
              "    }\n",
              "\n",
              "    .colab-df-convert:hover {\n",
              "      background-color: #E2EBFA;\n",
              "      box-shadow: 0px 1px 2px rgba(60, 64, 67, 0.3), 0px 1px 3px 1px rgba(60, 64, 67, 0.15);\n",
              "      fill: #174EA6;\n",
              "    }\n",
              "\n",
              "    [theme=dark] .colab-df-convert {\n",
              "      background-color: #3B4455;\n",
              "      fill: #D2E3FC;\n",
              "    }\n",
              "\n",
              "    [theme=dark] .colab-df-convert:hover {\n",
              "      background-color: #434B5C;\n",
              "      box-shadow: 0px 1px 3px 1px rgba(0, 0, 0, 0.15);\n",
              "      filter: drop-shadow(0px 1px 2px rgba(0, 0, 0, 0.3));\n",
              "      fill: #FFFFFF;\n",
              "    }\n",
              "  </style>\n",
              "\n",
              "      <script>\n",
              "        const buttonEl =\n",
              "          document.querySelector('#df-f4b8edb8-64f8-4232-a149-003a85744ae8 button.colab-df-convert');\n",
              "        buttonEl.style.display =\n",
              "          google.colab.kernel.accessAllowed ? 'block' : 'none';\n",
              "\n",
              "        async function convertToInteractive(key) {\n",
              "          const element = document.querySelector('#df-f4b8edb8-64f8-4232-a149-003a85744ae8');\n",
              "          const dataTable =\n",
              "            await google.colab.kernel.invokeFunction('convertToInteractive',\n",
              "                                                     [key], {});\n",
              "          if (!dataTable) return;\n",
              "\n",
              "          const docLinkHtml = 'Like what you see? Visit the ' +\n",
              "            '<a target=\"_blank\" href=https://colab.research.google.com/notebooks/data_table.ipynb>data table notebook</a>'\n",
              "            + ' to learn more about interactive tables.';\n",
              "          element.innerHTML = '';\n",
              "          dataTable['output_type'] = 'display_data';\n",
              "          await google.colab.output.renderOutput(dataTable, element);\n",
              "          const docLink = document.createElement('div');\n",
              "          docLink.innerHTML = docLinkHtml;\n",
              "          element.appendChild(docLink);\n",
              "        }\n",
              "      </script>\n",
              "    </div>\n",
              "  </div>\n",
              "  "
            ],
            "text/plain": [
              "         state          naics approval_fy           term     num_of_emp  \\\n",
              "count   614667  614667.000000      614667  614667.000000  614667.000000   \n",
              "unique      51            NaN          48            NaN            NaN   \n",
              "top         CA            NaN        2007            NaN            NaN   \n",
              "freq     81323            NaN       57164            NaN            NaN   \n",
              "mean       NaN      37.307977         NaN     105.095030      11.990649   \n",
              "std        NaN      26.382146         NaN      75.538158      75.457243   \n",
              "min        NaN       0.000000         NaN       0.000000       0.000000   \n",
              "1%         NaN       0.000000         NaN       4.000000       0.000000   \n",
              "10%        NaN       0.000000         NaN      32.000000       1.000000   \n",
              "25%        NaN       0.000000         NaN      60.000000       2.000000   \n",
              "50%        NaN      44.000000         NaN      84.000000       4.000000   \n",
              "75%        NaN      54.000000         NaN     120.000000      11.000000   \n",
              "90%        NaN      72.000000         NaN     240.000000      25.000000   \n",
              "99%        NaN      81.000000         NaN     300.000000     100.000000   \n",
              "max        NaN      92.000000         NaN     527.000000    9999.000000   \n",
              "\n",
              "                new_exist    created_job   retained_job  franchise_code  \\\n",
              "count              614667  614667.000000  614667.000000   614667.000000   \n",
              "unique                  3            NaN            NaN             NaN   \n",
              "top     Existing Business            NaN            NaN             NaN   \n",
              "freq               447680            NaN            NaN             NaN   \n",
              "mean                  NaN       0.263308       0.486548        0.042099   \n",
              "std                   NaN       0.440429       0.499819        0.200816   \n",
              "min                   NaN       0.000000       0.000000        0.000000   \n",
              "1%                    NaN       0.000000       0.000000        0.000000   \n",
              "10%                   NaN       0.000000       0.000000        0.000000   \n",
              "25%                   NaN       0.000000       0.000000        0.000000   \n",
              "50%                   NaN       0.000000       0.000000        0.000000   \n",
              "75%                   NaN       1.000000       1.000000        0.000000   \n",
              "90%                   NaN       1.000000       1.000000        0.000000   \n",
              "99%                   NaN       1.000000       1.000000        1.000000   \n",
              "max                   NaN       1.000000       1.000000        1.000000   \n",
              "\n",
              "       urban_rural rev_line_cr low_doc  disbursement_gross  balance_gross  \\\n",
              "count       614667      614667  614667        6.146670e+05   6.146670e+05   \n",
              "unique           3           2       2                 NaN            NaN   \n",
              "top              1           N       N                 NaN            NaN   \n",
              "freq        294558      414971  557372                 NaN            NaN   \n",
              "mean           NaN         NaN     NaN        1.341954e+05   1.341954e+05   \n",
              "std            NaN         NaN     NaN        2.105699e+05   2.105699e+05   \n",
              "min            NaN         NaN     NaN        5.000000e+02   5.000000e+02   \n",
              "1%             NaN         NaN     NaN        2.500000e+03   2.500000e+03   \n",
              "10%            NaN         NaN     NaN        9.000000e+03   9.000000e+03   \n",
              "25%            NaN         NaN     NaN        1.750000e+04   1.750000e+04   \n",
              "50%            NaN         NaN     NaN        5.000000e+04   5.000000e+04   \n",
              "75%            NaN         NaN     NaN        1.570000e+05   1.570000e+05   \n",
              "90%            NaN         NaN     NaN        3.750000e+05   3.750000e+05   \n",
              "99%            NaN         NaN     NaN        9.975000e+05   9.975000e+05   \n",
              "max            NaN         NaN     NaN        4.500000e+06   4.500000e+06   \n",
              "\n",
              "          mis_status  charged_off_amt       gr_appv  sba_approval  \n",
              "count         614667     6.146670e+05  6.146670e+05  6.146670e+05  \n",
              "unique             2              NaN           NaN           NaN  \n",
              "top     paid_in_full              NaN           NaN           NaN  \n",
              "freq          503686              NaN           NaN           NaN  \n",
              "mean             NaN     1.341954e+05  1.341954e+05  1.341954e+05  \n",
              "std              NaN     2.105699e+05  2.105699e+05  2.105699e+05  \n",
              "min              NaN     5.000000e+02  5.000000e+02  5.000000e+02  \n",
              "1%               NaN     2.500000e+03  2.500000e+03  2.500000e+03  \n",
              "10%              NaN     9.000000e+03  9.000000e+03  9.000000e+03  \n",
              "25%              NaN     1.750000e+04  1.750000e+04  1.750000e+04  \n",
              "50%              NaN     5.000000e+04  5.000000e+04  5.000000e+04  \n",
              "75%              NaN     1.570000e+05  1.570000e+05  1.570000e+05  \n",
              "90%              NaN     3.750000e+05  3.750000e+05  3.750000e+05  \n",
              "99%              NaN     9.975000e+05  9.975000e+05  9.975000e+05  \n",
              "max              NaN     4.500000e+06  4.500000e+06  4.500000e+06  "
            ]
          },
          "execution_count": 24,
          "metadata": {},
          "output_type": "execute_result"
        }
      ],
      "source": [
        "data.describe(percentiles=[0.01, 0.10, 0.25, 0.50, 0.75, 0.90, 0.99], include='all')"
      ]
    },
    {
      "attachments": {},
      "cell_type": "markdown",
      "metadata": {
        "id": "Ca3Vk7bRhhuD"
      },
      "source": [
        "#### Finish Preprocessing Dataset"
      ]
    },
    {
      "cell_type": "code",
      "execution_count": 25,
      "metadata": {
        "colab": {
          "base_uri": "https://localhost:8080/"
        },
        "id": "w1h2qnCuhhuD",
        "outputId": "ef9cce00-d133-4276-d57b-89490727040b"
      },
      "outputs": [
        {
          "name": "stdout",
          "output_type": "stream",
          "text": [
            "<class 'pandas.core.frame.DataFrame'>\n",
            "RangeIndex: 614667 entries, 0 to 614666\n",
            "Data columns (total 18 columns):\n",
            " #   Column              Non-Null Count   Dtype  \n",
            "---  ------              --------------   -----  \n",
            " 0   state               614667 non-null  object \n",
            " 1   naics               614667 non-null  uint8  \n",
            " 2   approval_fy         614667 non-null  object \n",
            " 3   term                614667 non-null  uint16 \n",
            " 4   num_of_emp          614667 non-null  uint16 \n",
            " 5   new_exist           614667 non-null  object \n",
            " 6   created_job         614667 non-null  int64  \n",
            " 7   retained_job        614667 non-null  int64  \n",
            " 8   franchise_code      614667 non-null  int64  \n",
            " 9   urban_rural         614667 non-null  object \n",
            " 10  rev_line_cr         614667 non-null  object \n",
            " 11  low_doc             614667 non-null  object \n",
            " 12  disbursement_gross  614667 non-null  float32\n",
            " 13  balance_gross       614667 non-null  float32\n",
            " 14  charged_off_amt     614667 non-null  float32\n",
            " 15  gr_appv             614667 non-null  float32\n",
            " 16  sba_approval        614667 non-null  float32\n",
            " 17  label               614667 non-null  float32\n",
            "dtypes: float32(6), int64(3), object(6), uint16(2), uint8(1)\n",
            "memory usage: 59.2+ MB\n"
          ]
        }
      ],
      "source": [
        "data['label'] = data['mis_status'].replace(\n",
        "    {\n",
        "        \"charge_off\": 0,\n",
        "        \"CHGOFF\": 0,\n",
        "        \"paid_in_full\": 1,\n",
        "        \"P I F\": 1\n",
        "    }\n",
        "    ).astype(np.float32)\n",
        "\n",
        "data = data.drop(columns=['mis_status'])\n",
        "\n",
        "data.info()"
      ]
    },
    {
      "attachments": {},
      "cell_type": "markdown",
      "metadata": {
        "id": "iP2DvFwrhhuD"
      },
      "source": [
        "### Prepare Shared Pipeline Data & Stages/Steps"
      ]
    },
    {
      "attachments": {},
      "cell_type": "markdown",
      "metadata": {
        "id": "H6RHtHYfhhuD"
      },
      "source": [
        "#### Split Dataset into Training & Testing Datasets"
      ]
    },
    {
      "cell_type": "code",
      "execution_count": 26,
      "metadata": {
        "colab": {
          "base_uri": "https://localhost:8080/"
        },
        "id": "8BayQXNZhhuD",
        "outputId": "3598f1cc-cf83-40cc-f92a-1312cfca1f73"
      },
      "outputs": [
        {
          "name": "stdout",
          "output_type": "stream",
          "text": [
            "Training Input Dataset Shape: (461000, 17)\n",
            "Training Output Dataset Shape: (461000,)\n",
            "Evaluation Input Dataset Shape: (153667, 17)\n",
            "Evaluation Output Dataset Shape: (153667,)\n"
          ]
        }
      ],
      "source": [
        "y = data['label']\n",
        "X = data.drop(columns=['label'], axis=1)\n",
        "\n",
        "X_train, X_test, y_train, y_test = train_test_split(X, y, random_state=42)\n",
        "\n",
        "print(f\"Training Input Dataset Shape: {X_train.shape}\")\n",
        "print(f\"Training Output Dataset Shape: {y_train.shape}\")\n",
        "\n",
        "print(f\"Evaluation Input Dataset Shape: {X_test.shape}\")\n",
        "print(f\"Evaluation Output Dataset Shape: {y_test.shape}\")"
      ]
    },
    {
      "attachments": {},
      "cell_type": "markdown",
      "metadata": {
        "id": "HcbRxr7ThhuE"
      },
      "source": [
        "#### Define Column Lists for Transformers (Pipeline Stages) & Transform to Integer Values"
      ]
    },
    {
      "cell_type": "code",
      "execution_count": 27,
      "metadata": {
        "colab": {
          "base_uri": "https://localhost:8080/"
        },
        "id": "LuiW_Qk6hhuE",
        "outputId": "d8f66973-9d50-485b-9f21-3e484db5770e"
      },
      "outputs": [
        {
          "name": "stdout",
          "output_type": "stream",
          "text": [
            "18\n",
            "18\n"
          ]
        }
      ],
      "source": [
        "numerical_features = [\n",
        "    \"disbursement_gross\",\n",
        "    \"balance_gross\",\n",
        "    \"charged_off_amt\",\n",
        "    \"gr_appv\",\n",
        "    \"sba_approval\"]\n",
        "\n",
        "nominal_features = [x for x in data.columns\n",
        "                if x not in numerical_features\n",
        "                and x != 'label']\n",
        "\n",
        "print(len(data.columns))\n",
        "print(len(numerical_features + nominal_features + ['label']))"
      ]
    },
    {
      "attachments": {},
      "cell_type": "markdown",
      "metadata": {
        "id": "sGb8E3K8hhuE"
      },
      "source": [
        "#### Remove Outliers"
      ]
    },
    {
      "cell_type": "code",
      "execution_count": 28,
      "metadata": {
        "id": "2QMhqTeYhhuE"
      },
      "outputs": [],
      "source": [
        "# Remove outliers using the 'IQR * 1.5' rule\n",
        "def remove_outliers(df, features_to_remove):\n",
        "    df = pd.DataFrame(df).copy()\n",
        "    for feat in features_to_remove:\n",
        "        x = df[feat]\n",
        "        q1, q3 = x.quantile([0.25, 0.75])\n",
        "        iqr = q3-q1\n",
        "        ul = q3 + (iqr * 1.5)\n",
        "        ll = q1 - (iqr * 1.5)\n",
        "        neo_df = df[(df[feat] >= ll) | (df[feat] <= ul)]\n",
        "    return neo_df\n",
        "\n",
        "outlier_remover = FunctionTransformer(remove_outliers,\n",
        "                                      kw_args={\n",
        "                                          'features_to_remove': numerical_features\n",
        "                                          }\n",
        "                                      )"
      ]
    },
    {
      "attachments": {},
      "cell_type": "markdown",
      "metadata": {
        "id": "mi8-iZi8hhuE"
      },
      "source": [
        "#### Create Numerical Pipeline"
      ]
    },
    {
      "cell_type": "code",
      "execution_count": 29,
      "metadata": {
        "id": "pGwSKMFShhuE"
      },
      "outputs": [],
      "source": [
        "numerical_pipe = Pipeline(\n",
        "    [\n",
        "        (\n",
        "            'outlier_remover',\n",
        "            outlier_remover\n",
        "        ),\n",
        "        (\n",
        "            'scaler',\n",
        "            StandardScaler()\n",
        "        )\n",
        "    ]\n",
        ")"
      ]
    },
    {
      "attachments": {},
      "cell_type": "markdown",
      "metadata": {
        "id": "NppX3jJQhhuE"
      },
      "source": [
        "#### Create Nominal Pipeline"
      ]
    },
    {
      "cell_type": "code",
      "execution_count": 30,
      "metadata": {
        "id": "hWCC8ha7hhuE"
      },
      "outputs": [],
      "source": [
        "nominal_pipe = Pipeline(\n",
        "    [\n",
        "        (\n",
        "            'ohe',\n",
        "            OneHotEncoder(handle_unknown='ignore',\n",
        "                          dtype=np.float64)\n",
        "        )\n",
        "    ],\n",
        ")"
      ]
    },
    {
      "attachments": {},
      "cell_type": "markdown",
      "metadata": {
        "id": "Hav7mXGLhhuE"
      },
      "source": [
        "#### Combine Individual Column Pipelines Into Column Transformer"
      ]
    },
    {
      "cell_type": "code",
      "execution_count": 31,
      "metadata": {
        "id": "fuMdN3_MhhuE"
      },
      "outputs": [],
      "source": [
        "preprocessor = ColumnTransformer(\n",
        "    [\n",
        "        (\n",
        "            'numerical_ct',\n",
        "            numerical_pipe,\n",
        "            numerical_features\n",
        "        ),\n",
        "        (\n",
        "            'nominal_ct',\n",
        "            nominal_pipe,\n",
        "            nominal_features\n",
        "        )\n",
        "    ]\n",
        ")"
      ]
    },
    {
      "attachments": {},
      "cell_type": "markdown",
      "metadata": {
        "id": "XjLiJ5m4hhuE"
      },
      "source": [
        "#### Metrics Evaluation Method"
      ]
    },
    {
      "cell_type": "code",
      "execution_count": 32,
      "metadata": {
        "id": "VfC8E9BkhhuE"
      },
      "outputs": [],
      "source": [
        "def metrics_evaluation(classifier_type,\n",
        "                       y_test,\n",
        "                       y_pred_cv):\n",
        "\n",
        "\n",
        "    print(\"+-------------------------------------------------------------------------+\")\n",
        "    print(f\"\\tConfusion Matrix for {classifier_type}\")\n",
        "    print(\"+-------------------------------------------------------------------------+\")\n",
        "\n",
        "    cm = confusion_matrix(y_test,\n",
        "                          y_pred_cv)\n",
        "\n",
        "    display_cm = ConfusionMatrixDisplay(cm,\n",
        "                                        display_labels=[\n",
        "                                            \"Denied\",\n",
        "                                            \"Approved\"\n",
        "                                            ]\n",
        "                                        )\n",
        "\n",
        "    display_cm.plot()\n",
        "    plt.show()\n",
        "\n",
        "    print(\"+-----------------------------------------------------+\")\n",
        "    print(f\"\\tClassification Report for {classifier_type}\")\n",
        "    print(\"+-----------------------------------------------------+\")\n",
        "\n",
        "    print(classification_report(y_test,\n",
        "                                y_pred_cv,\n",
        "                                zero_division=0,\n",
        "                                target_names=[\n",
        "                                    \"Denied\",\n",
        "                                    \"Approved\"]\n",
        "                                )\n",
        "          )"
      ]
    },
    {
      "attachments": {},
      "cell_type": "markdown",
      "metadata": {
        "id": "935hMSLshhuE"
      },
      "source": [
        "### Auto-Sklearn Classifier"
      ]
    },
    {
      "attachments": {},
      "cell_type": "markdown",
      "metadata": {
        "id": "_upB5MHbhhuE"
      },
      "source": [
        "#### Define Pipeline"
      ]
    },
    {
      "cell_type": "code",
      "execution_count": 33,
      "metadata": {
        "id": "w_mnFu05hhuE"
      },
      "outputs": [],
      "source": [
        "def auto_sklearn_classifier():\n",
        "    \"\"\"\n",
        "    This function creates the Auto-Sklearn classifier.\n",
        "    \"\"\"\n",
        "    auto_sklearn_pipe = Pipeline(\n",
        "        [\n",
        "            (\n",
        "                'preprocessor',\n",
        "                preprocessor),\n",
        "            (\n",
        "                'truncated_svd',\n",
        "                TruncatedSVD(random_state=42,\n",
        "                             n_components=125)\n",
        "            ),\n",
        "            (\n",
        "                'smote',\n",
        "                SMOTE(random_state=42)\n",
        "            ),\n",
        "            (\n",
        "                'auto_sklearn_clf',\n",
        "                ASC(time_left_for_this_task=7200,\n",
        "                    seed=42,\n",
        "                    n_jobs=-1,\n",
        "                    memory_limit=12088)\n",
        "             ),\n",
        "        ]\n",
        "    )\n",
        "\n",
        "    return auto_sklearn_pipe"
      ]
    },
    {
      "attachments": {},
      "cell_type": "markdown",
      "metadata": {
        "id": "2HxNGlaDhhuE"
      },
      "source": [
        "#### Define Model"
      ]
    },
    {
      "cell_type": "code",
      "execution_count": 34,
      "metadata": {
        "colab": {
          "base_uri": "https://localhost:8080/"
        },
        "id": "JEx9IyGzhhuE",
        "outputId": "0f7138c4-ce91-4522-d777-a9b8a9910a2e"
      },
      "outputs": [
        {
          "data": {
            "text/plain": [
              "{'preprocessor': ColumnTransformer(transformers=[('numerical_ct',\n",
              "                                  Pipeline(steps=[('outlier_remover',\n",
              "                                                   FunctionTransformer(func=<function remove_outliers at 0x7f82329dc310>,\n",
              "                                                                       kw_args={'features_to_remove': ['disbursement_gross',\n",
              "                                                                                                       'balance_gross',\n",
              "                                                                                                       'charged_off_amt',\n",
              "                                                                                                       'gr_appv',\n",
              "                                                                                                       'sba_approval']})),\n",
              "                                                  ('scaler', StandardScaler())]),\n",
              "                                  ['disbursement_gross', 'balance_gross',\n",
              "                                   'charged_off_amt', 'gr_appv',\n",
              "                                   'sba_approval']),\n",
              "                                 ('nominal_ct',\n",
              "                                  Pipeline(steps=[('ohe',\n",
              "                                                   OneHotEncoder(handle_unknown='ignore'))]),\n",
              "                                  ['state', 'naics', 'approval_fy', 'term',\n",
              "                                   'num_of_emp', 'new_exist', 'created_job',\n",
              "                                   'retained_job', 'franchise_code',\n",
              "                                   'urban_rural', 'rev_line_cr', 'low_doc'])]),\n",
              " 'truncated_svd': TruncatedSVD(n_components=125, random_state=42),\n",
              " 'smote': SMOTE(random_state=42),\n",
              " 'auto_sklearn_clf': AutoSklearnClassifier(ensemble_class=<class 'autosklearn.ensembles.ensemble_selection.EnsembleSelection'>,\n",
              "                       memory_limit=12088, n_jobs=-1, seed=42,\n",
              "                       time_left_for_this_task=7200)}"
            ]
          },
          "execution_count": 34,
          "metadata": {},
          "output_type": "execute_result"
        }
      ],
      "source": [
        "auto_sklearn_clf = auto_sklearn_classifier()\n",
        "\n",
        "auto_sklearn_clf.named_steps"
      ]
    },
    {
      "attachments": {},
      "cell_type": "markdown",
      "metadata": {
        "id": "vdLz-Fq0hhuF"
      },
      "source": [
        "#### Fit Dataset to Auto-Sklearn Classifier"
      ]
    },
    {
      "cell_type": "code",
      "execution_count": 35,
      "metadata": {
        "id": "WuUPdcKNhhuF"
      },
      "outputs": [],
      "source": [
        "auto_sklearn_clf_model = auto_sklearn_clf.fit(X_train, y_train)"
      ]
    },
    {
      "attachments": {},
      "cell_type": "markdown",
      "metadata": {
        "id": "iTBuZln5knkp"
      },
      "source": [
        "#### Generate Predictions"
      ]
    },
    {
      "cell_type": "code",
      "execution_count": 36,
      "metadata": {
        "id": "Cfi9EDQpknb8"
      },
      "outputs": [],
      "source": [
        "predictions = auto_sklearn_clf_model.predict(X_test)"
      ]
    },
    {
      "attachments": {},
      "cell_type": "markdown",
      "metadata": {
        "id": "7HQA4X1ohhuF"
      },
      "source": [
        "#### Metrics Evaluation"
      ]
    },
    {
      "cell_type": "code",
      "execution_count": 37,
      "metadata": {
        "colab": {
          "base_uri": "https://localhost:8080/",
          "height": 709
        },
        "id": "4AsvQmyNhhuF",
        "outputId": "75d63672-9cbe-471d-cbd8-c1ebc5b8283b"
      },
      "outputs": [
        {
          "name": "stdout",
          "output_type": "stream",
          "text": [
            "+-------------------------------------------------------------------------+\n",
            "\tConfusion Matrix for Auto Sklearn\n",
            "+-------------------------------------------------------------------------+\n"
          ]
        },
        {
          "data": {
            "image/png": "[encoded data removed]",
            "text/plain": [
              "<Figure size 640x480 with 2 Axes>"
            ]
          },
          "metadata": {},
          "output_type": "display_data"
        },
        {
          "name": "stdout",
          "output_type": "stream",
          "text": [
            "+-----------------------------------------------------+\n",
            "\tClassification Report for Auto Sklearn\n",
            "+-----------------------------------------------------+\n",
            "              precision    recall  f1-score   support\n",
            "\n",
            "      Denied       0.77      0.87      0.81     27806\n",
            "    Approved       0.97      0.94      0.96    125861\n",
            "\n",
            "    accuracy                           0.93    153667\n",
            "   macro avg       0.87      0.90      0.88    153667\n",
            "weighted avg       0.93      0.93      0.93    153667\n",
            "\n"
          ]
        }
      ],
      "source": [
        "metrics_evaluation(\"Auto Sklearn\",\n",
        "                       y_test,\n",
        "                       predictions)"
      ]
    },
    {
      "attachments": {},
      "cell_type": "markdown",
      "metadata": {
        "id": "jbgm5bs_hhuI"
      },
      "source": [
        "### Notes & Other Takeaways From This Project\n",
        "****\n",
        "- While it is not the best results from an Auto-Sklearn Project, these are definitely excellent results nonetheless.\n",
        "- This project took twice as long yet yielded the same results. What I learned from this is unless the dataset has a very large number of samples and/or features, stick with the default one hour training duration.\n",
        "\n",
        "****"
      ]
    },
    {
      "attachments": {},
      "cell_type": "markdown",
      "metadata": {
        "id": "YBUKPOXvkCsm"
      },
      "source": [
        "### Citation\n",
        "\n",
        "- Auto-Sklearn\n",
        "  > @inproceedings{feurer-neurips15a, title = {Efficient and Robust Automated Machine Learning}, author = {Feurer, Matthias and Klein, Aaron and Eggensperger, Katharina and Springenberg, Jost and Blum, Manuel and Hutter, Frank}, booktitle = {Advances in Neural Information Processing Systems 28 (2015)}, pages = {2962--2970}, year = {2015}}\n",
        "\n",
        "  > @article{feurer-arxiv20a, title = {Auto-Sklearn 2.0: Hands-free AutoML via Meta-Learning}, author = {Feurer, Matthias and Eggensperger, Katharina and Falkner, Stefan and Lindauer, Marius and Hutter, Frank}, journal = {arXiv:2007.04074 [cs.LG]}, year = {2020},}"
      ]
    }
  ],
  "metadata": {
    "colab": {
      "provenance": []
    },
    "kernelspec": {
      "display_name": "dl",
      "language": "python",
      "name": "python3"
    },
    "language_info": {
      "codemirror_mode": {
        "name": "ipython",
        "version": 3
      },
      "file_extension": ".py",
      "mimetype": "text/x-python",
      "name": "python",
      "nbconvert_exporter": "python",
      "pygments_lexer": "ipython3",
      "version": "3.9.12"
    },
    "orig_nbformat": 4
  },
  "nbformat": 4,
  "nbformat_minor": 0
}
