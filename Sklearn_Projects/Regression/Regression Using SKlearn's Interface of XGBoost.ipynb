{
 "cells": [
  {
   "cell_type": "markdown",
   "id": "dc70e8e6",
   "metadata": {},
   "source": [
    "# MSRP Predictor - XGBoost Regression"
   ]
  },
  {
   "cell_type": "markdown",
   "id": "a2fc6f3a",
   "metadata": {},
   "source": [
    "#### Dataset Source:  https://www.kaggle.com/CooperUnion/cardataset"
   ]
  },
  {
   "cell_type": "markdown",
   "id": "c89b4088",
   "metadata": {},
   "source": [
    "This is the XGBoost version of the MSRP Predictor. Unfortunately, this version did not perform anywhere near as well as the Keras version."
   ]
  },
  {
   "cell_type": "markdown",
   "id": "3f1690b8",
   "metadata": {},
   "source": [
    "#### Import Necessary Libraries"
   ]
  },
  {
   "cell_type": "code",
   "execution_count": 1,
   "id": "cafc7ce8",
   "metadata": {},
   "outputs": [
    {
     "name": "stderr",
     "output_type": "stream",
     "text": [
      "/Users/briandunn/opt/anaconda3/envs/tensor/lib/python3.9/site-packages/xgboost/compat.py:36: FutureWarning: pandas.Int64Index is deprecated and will be removed from pandas in a future version. Use pandas.Index with the appropriate dtype instead.\n",
      "  from pandas import MultiIndex, Int64Index\n"
     ]
    }
   ],
   "source": [
    "import pandas as pd\n",
    "import numpy as np\n",
    "\n",
    "import matplotlib.pyplot as plt\n",
    "import seaborn as sns\n",
    "\n",
    "from sklearn.model_selection import train_test_split\n",
    "from sklearn.metrics import mean_squared_error as MSE\n",
    "from sklearn.metrics import r2_score, mean_absolute_error\n",
    "\n",
    "import xgboost as xgb\n",
    "from xgboost import XGBRegressor, plot_tree"
   ]
  },
  {
   "cell_type": "markdown",
   "id": "eb6bd676",
   "metadata": {},
   "source": [
    "#### Versions of Relevant Libraries"
   ]
  },
  {
   "cell_type": "code",
   "execution_count": 2,
   "id": "81b2159f",
   "metadata": {},
   "outputs": [
    {
     "name": "stdout",
     "output_type": "stream",
     "text": [
      "Pandas:    1.4.2\n",
      "NumPy:     1.21.5\n",
      "Seaborn:   0.11.2\n",
      "XGBoost:   1.5.0\n"
     ]
    }
   ],
   "source": [
    "print(\"Pandas:\".ljust(10, ' '), pd.__version__)\n",
    "print(\"NumPy:\".ljust(10, ' '), np.__version__)\n",
    "print(\"Seaborn:\".ljust(10, ' '), sns.__version__)\n",
    "print(\"XGBoost:\".ljust(10, ' '), xgb.__version__)"
   ]
  },
  {
   "cell_type": "markdown",
   "id": "5383ff57",
   "metadata": {},
   "source": [
    "#### Ingest Dataset, Drop Unnecessary Features, & Rename Other Features (as Necessary)"
   ]
  },
  {
   "cell_type": "code",
   "execution_count": 3,
   "id": "ba2ff947",
   "metadata": {},
   "outputs": [
    {
     "name": "stdout",
     "output_type": "stream",
     "text": [
      "<class 'pandas.core.frame.DataFrame'>\n",
      "Int64Index: 11812 entries, 0 to 11913\n",
      "Data columns (total 14 columns):\n",
      " #   Column         Non-Null Count  Dtype  \n",
      "---  ------         --------------  -----  \n",
      " 0   Make           11812 non-null  object \n",
      " 1   Year           11812 non-null  object \n",
      " 2   fuel_type      11812 non-null  object \n",
      " 3   hp             11812 non-null  float64\n",
      " 4   cylinders      11812 non-null  float64\n",
      " 5   transmission   11812 non-null  object \n",
      " 6   Driven_Wheels  11812 non-null  object \n",
      " 7   # of Doors     11812 non-null  float64\n",
      " 8   Vehicle Size   11812 non-null  object \n",
      " 9   Vehicle Style  11812 non-null  object \n",
      " 10  highway MPG    11812 non-null  int64  \n",
      " 11  city mpg       11812 non-null  int64  \n",
      " 12  Popularity     11812 non-null  int64  \n",
      " 13  target         11812 non-null  int64  \n",
      "dtypes: float64(3), int64(4), object(7)\n",
      "memory usage: 1.4+ MB\n"
     ]
    }
   ],
   "source": [
    "data = pd.read_csv('Car Features and MSRP/data.csv')\n",
    "\n",
    "data.drop(columns=['Market Category', 'Model'], inplace=True)\n",
    "\n",
    "data.rename(columns={'Engine Fuel Type' : 'fuel_type', \n",
    "                     'Engine HP' : 'hp', \n",
    "                     'Engine Cylinders' : 'cylinders', \n",
    "                     'Transmission Type' : 'transmission', \n",
    "                     'Number of Doors' : '# of Doors', \n",
    "                     'MSRP' : 'target'}, inplace=True)\n",
    "\n",
    "data['Year'] = data['Year'].astype(str)\n",
    "\n",
    "data = data.dropna()\n",
    "\n",
    "data.info()"
   ]
  },
  {
   "cell_type": "markdown",
   "id": "208b2eb1",
   "metadata": {},
   "source": [
    "#### More Information about Dataset"
   ]
  },
  {
   "cell_type": "code",
   "execution_count": 4,
   "id": "38d9a4d8",
   "metadata": {},
   "outputs": [
    {
     "data": {
      "text/html": [
       "<div>\n",
       "<style scoped>\n",
       "    .dataframe tbody tr th:only-of-type {\n",
       "        vertical-align: middle;\n",
       "    }\n",
       "\n",
       "    .dataframe tbody tr th {\n",
       "        vertical-align: top;\n",
       "    }\n",
       "\n",
       "    .dataframe thead th {\n",
       "        text-align: right;\n",
       "    }\n",
       "</style>\n",
       "<table border=\"1\" class=\"dataframe\">\n",
       "  <thead>\n",
       "    <tr style=\"text-align: right;\">\n",
       "      <th></th>\n",
       "      <th>hp</th>\n",
       "      <th>cylinders</th>\n",
       "      <th># of Doors</th>\n",
       "      <th>highway MPG</th>\n",
       "      <th>city mpg</th>\n",
       "      <th>Popularity</th>\n",
       "      <th>target</th>\n",
       "    </tr>\n",
       "  </thead>\n",
       "  <tbody>\n",
       "    <tr>\n",
       "      <th>count</th>\n",
       "      <td>11812.000000</td>\n",
       "      <td>11812.000000</td>\n",
       "      <td>11812.000000</td>\n",
       "      <td>11812.000000</td>\n",
       "      <td>11812.000000</td>\n",
       "      <td>11812.000000</td>\n",
       "      <td>1.181200e+04</td>\n",
       "    </tr>\n",
       "    <tr>\n",
       "      <th>mean</th>\n",
       "      <td>249.504487</td>\n",
       "      <td>5.649424</td>\n",
       "      <td>3.432526</td>\n",
       "      <td>26.320945</td>\n",
       "      <td>19.328141</td>\n",
       "      <td>1553.679902</td>\n",
       "      <td>4.055994e+04</td>\n",
       "    </tr>\n",
       "    <tr>\n",
       "      <th>std</th>\n",
       "      <td>109.206947</td>\n",
       "      <td>1.751646</td>\n",
       "      <td>0.882919</td>\n",
       "      <td>7.443589</td>\n",
       "      <td>6.527734</td>\n",
       "      <td>1440.067820</td>\n",
       "      <td>6.028413e+04</td>\n",
       "    </tr>\n",
       "    <tr>\n",
       "      <th>min</th>\n",
       "      <td>55.000000</td>\n",
       "      <td>0.000000</td>\n",
       "      <td>2.000000</td>\n",
       "      <td>12.000000</td>\n",
       "      <td>7.000000</td>\n",
       "      <td>2.000000</td>\n",
       "      <td>2.000000e+03</td>\n",
       "    </tr>\n",
       "    <tr>\n",
       "      <th>25%</th>\n",
       "      <td>170.000000</td>\n",
       "      <td>4.000000</td>\n",
       "      <td>2.000000</td>\n",
       "      <td>22.000000</td>\n",
       "      <td>16.000000</td>\n",
       "      <td>549.000000</td>\n",
       "      <td>2.099000e+04</td>\n",
       "    </tr>\n",
       "    <tr>\n",
       "      <th>50%</th>\n",
       "      <td>227.000000</td>\n",
       "      <td>6.000000</td>\n",
       "      <td>4.000000</td>\n",
       "      <td>26.000000</td>\n",
       "      <td>18.000000</td>\n",
       "      <td>1385.000000</td>\n",
       "      <td>2.997000e+04</td>\n",
       "    </tr>\n",
       "    <tr>\n",
       "      <th>75%</th>\n",
       "      <td>300.000000</td>\n",
       "      <td>6.000000</td>\n",
       "      <td>4.000000</td>\n",
       "      <td>30.000000</td>\n",
       "      <td>22.000000</td>\n",
       "      <td>2009.000000</td>\n",
       "      <td>4.220500e+04</td>\n",
       "    </tr>\n",
       "    <tr>\n",
       "      <th>max</th>\n",
       "      <td>1001.000000</td>\n",
       "      <td>16.000000</td>\n",
       "      <td>4.000000</td>\n",
       "      <td>354.000000</td>\n",
       "      <td>137.000000</td>\n",
       "      <td>5657.000000</td>\n",
       "      <td>2.065902e+06</td>\n",
       "    </tr>\n",
       "  </tbody>\n",
       "</table>\n",
       "</div>"
      ],
      "text/plain": [
       "                 hp     cylinders    # of Doors   highway MPG      city mpg  \\\n",
       "count  11812.000000  11812.000000  11812.000000  11812.000000  11812.000000   \n",
       "mean     249.504487      5.649424      3.432526     26.320945     19.328141   \n",
       "std      109.206947      1.751646      0.882919      7.443589      6.527734   \n",
       "min       55.000000      0.000000      2.000000     12.000000      7.000000   \n",
       "25%      170.000000      4.000000      2.000000     22.000000     16.000000   \n",
       "50%      227.000000      6.000000      4.000000     26.000000     18.000000   \n",
       "75%      300.000000      6.000000      4.000000     30.000000     22.000000   \n",
       "max     1001.000000     16.000000      4.000000    354.000000    137.000000   \n",
       "\n",
       "         Popularity        target  \n",
       "count  11812.000000  1.181200e+04  \n",
       "mean    1553.679902  4.055994e+04  \n",
       "std     1440.067820  6.028413e+04  \n",
       "min        2.000000  2.000000e+03  \n",
       "25%      549.000000  2.099000e+04  \n",
       "50%     1385.000000  2.997000e+04  \n",
       "75%     2009.000000  4.220500e+04  \n",
       "max     5657.000000  2.065902e+06  "
      ]
     },
     "execution_count": 4,
     "metadata": {},
     "output_type": "execute_result"
    }
   ],
   "source": [
    "data.describe()"
   ]
  },
  {
   "cell_type": "markdown",
   "id": "3c1e2162",
   "metadata": {},
   "source": [
    "#### Numerical vs Categorical Features"
   ]
  },
  {
   "cell_type": "code",
   "execution_count": 5,
   "id": "dd751202",
   "metadata": {},
   "outputs": [
    {
     "name": "stdout",
     "output_type": "stream",
     "text": [
      "Numerical Features\n",
      "hp                 355\n",
      "cylinders          9\n",
      "# of Doors         3\n",
      "highway MPG        44\n",
      "city mpg           50\n",
      "Popularity         47\n",
      "\n",
      "----------------------\n",
      "\n",
      "Categorical Features\n",
      "Year               28\n",
      "Make               47\n",
      "fuel_type          9\n",
      "transmission       5\n",
      "Driven_Wheels      4\n",
      "Vehicle Size       3\n",
      "Vehicle Style      16\n"
     ]
    }
   ],
   "source": [
    "print('Numerical Features')\n",
    "\n",
    "numerical_features = ['hp', 'cylinders', '# of Doors', 'highway MPG', 'city mpg', 'Popularity']\n",
    "\n",
    "for x in numerical_features:\n",
    "    print(x.ljust(18, ' '), len(data[x].unique()))\n",
    "\n",
    "print('\\n----------------------\\n')\n",
    "\n",
    "print('Categorical Features')\n",
    "\n",
    "categorical_features = ['Year', 'Make', 'fuel_type', 'transmission', 'Driven_Wheels', 'Vehicle Size', 'Vehicle Style']\n",
    "\n",
    "for x in categorical_features:\n",
    "    print(x.ljust(18, ' '), len(data[x].unique()))\n"
   ]
  },
  {
   "cell_type": "markdown",
   "id": "53b384ce",
   "metadata": {},
   "source": [
    "#### List of Different Autombile Brands"
   ]
  },
  {
   "cell_type": "code",
   "execution_count": 6,
   "id": "a3edf83e",
   "metadata": {
    "scrolled": true
   },
   "outputs": [
    {
     "name": "stdout",
     "output_type": "stream",
     "text": [
      "['Acura', 'Alfa Romeo', 'Aston Martin', 'Audi', 'BMW', 'Bentley', 'Bugatti', 'Buick', 'Cadillac', 'Chevrolet', 'Chrysler', 'Dodge', 'FIAT', 'Ferrari', 'Ford', 'GMC', 'Genesis', 'HUMMER', 'Honda', 'Hyundai', 'Infiniti', 'Kia', 'Lamborghini', 'Land Rover', 'Lexus', 'Lincoln', 'Lotus', 'Maserati', 'Maybach', 'Mazda', 'McLaren', 'Mercedes-Benz', 'Mitsubishi', 'Nissan', 'Oldsmobile', 'Plymouth', 'Pontiac', 'Porsche', 'Rolls-Royce', 'Saab', 'Scion', 'Spyker', 'Subaru', 'Suzuki', 'Toyota', 'Volkswagen', 'Volvo']\n"
     ]
    }
   ],
   "source": [
    "print(sorted(data['Make'].unique()))"
   ]
  },
  {
   "cell_type": "markdown",
   "id": "95163361",
   "metadata": {},
   "source": [
    "#### Count of Each Transmission Type"
   ]
  },
  {
   "cell_type": "code",
   "execution_count": 7,
   "id": "6b74f923",
   "metadata": {},
   "outputs": [
    {
     "data": {
      "text/plain": [
       "AUTOMATIC           8231\n",
       "MANUAL              2922\n",
       "AUTOMATED_MANUAL     625\n",
       "UNKNOWN               19\n",
       "DIRECT_DRIVE          15\n",
       "Name: transmission, dtype: int64"
      ]
     },
     "execution_count": 7,
     "metadata": {},
     "output_type": "execute_result"
    }
   ],
   "source": [
    "data['transmission'].value_counts()"
   ]
  },
  {
   "cell_type": "markdown",
   "id": "7ae5e16d",
   "metadata": {},
   "source": [
    "#### Remove Outliers"
   ]
  },
  {
   "cell_type": "code",
   "execution_count": 8,
   "id": "d0f0ae9b",
   "metadata": {},
   "outputs": [],
   "source": [
    "cols_to_check = ['hp', 'cylinders', '# of Doors', 'highway MPG','city mpg', 'Popularity', 'target']\n",
    "\n",
    "# Remove outliers using the 'IQR * 1.5' rule\n",
    "def remove_outliers(df, feature):\n",
    "    q1, q3 = np.percentile(df[feature], [25,75])\n",
    "    iqr = q3-q1\n",
    "    ul = q3 + (iqr * 1.5)\n",
    "    ll = q1 - (iqr * 1.5)\n",
    "    neo_data = df[(df[feature].values > ll) & (df[feature].values < ul)]\n",
    "    return neo_data\n",
    "\n",
    "\n",
    "for x in cols_to_check:\n",
    "    data = remove_outliers(data, x)\n"
   ]
  },
  {
   "cell_type": "markdown",
   "id": "872f7fc2",
   "metadata": {},
   "source": [
    "#### Display Correlation Matrix"
   ]
  },
  {
   "cell_type": "code",
   "execution_count": 9,
   "id": "dcfcfdfc",
   "metadata": {
    "scrolled": false
   },
   "outputs": [
    {
     "data": {
      "image/png": "[encoded data removed]",
      "text/plain": [
       "<Figure size 576x576 with 2 Axes>"
      ]
     },
     "metadata": {
      "needs_background": "light"
     },
     "output_type": "display_data"
    }
   ],
   "source": [
    "plt.figure(figsize=(8, 8))\n",
    "plt.title('Correlation Matrix\\n')\n",
    "sns.heatmap(data.corr(), \n",
    "            annot=True, \n",
    "            xticklabels=True, \n",
    "            yticklabels=True, \n",
    "            square=True,\n",
    "            vmin=-1.0, \n",
    "            vmax=1.0, \n",
    "            cmap=\"Blues\")\n",
    "\n",
    "plt.show()"
   ]
  },
  {
   "cell_type": "markdown",
   "id": "0bd3ecb9",
   "metadata": {},
   "source": [
    "#### Make Dataset Sparse"
   ]
  },
  {
   "cell_type": "code",
   "execution_count": 10,
   "id": "c8dce18f",
   "metadata": {},
   "outputs": [
    {
     "name": "stdout",
     "output_type": "stream",
     "text": [
      "<class 'pandas.core.frame.DataFrame'>\n",
      "Int64Index: 9539 entries, 0 to 11913\n",
      "Columns: 107 entries, hp to Wagon\n",
      "dtypes: float64(3), int64(4), uint8(100)\n",
      "memory usage: 1.7 MB\n"
     ]
    }
   ],
   "source": [
    "for x in categorical_features:\n",
    "    sparse_data = pd.DataFrame(pd.get_dummies(data[x]))\n",
    "    data = data.join(sparse_data)\n",
    "    \n",
    "# Remove the unnecessary features\n",
    "data.drop(columns=categorical_features, inplace=True)\n",
    "\n",
    "data.info()"
   ]
  },
  {
   "cell_type": "markdown",
   "id": "26b785f3",
   "metadata": {},
   "source": [
    "#### Split Dataset into Training & Testing Dataset as Well as Features & Labels"
   ]
  },
  {
   "cell_type": "code",
   "execution_count": 11,
   "id": "c5138d91",
   "metadata": {},
   "outputs": [
    {
     "name": "stdout",
     "output_type": "stream",
     "text": [
      "(7631, 106)\n",
      "(7631,)\n",
      "(1908, 106)\n",
      "(1908,)\n"
     ]
    }
   ],
   "source": [
    "y = data.loc[:, 'target']\n",
    "X = data.loc[:, data.columns != 'target']\n",
    "\n",
    "X_train, X_test, y_train, y_test = train_test_split(X, y, test_size=0.20)\n",
    "\n",
    "print(X_train.shape)\n",
    "print(y_train.shape)\n",
    "print(X_test.shape)\n",
    "print(y_test.shape)"
   ]
  },
  {
   "cell_type": "markdown",
   "id": "7748869e",
   "metadata": {},
   "source": [
    "#### Define Parameters & XGBRegressor"
   ]
  },
  {
   "cell_type": "code",
   "execution_count": 12,
   "id": "8ab2c86c",
   "metadata": {},
   "outputs": [],
   "source": [
    "param = {\"booster\":\"dart\", \"objective\":\"reg:squarederror\"}\n",
    "\n",
    "model = XGBRegressor(**param,\n",
    "                     learning_rate=0.135,\n",
    "                     n_estimators=250,\n",
    "                     reg_alpha=0.25, \n",
    "                     reg_lambda=0.25,\n",
    "                     random_state=42,\n",
    "                     verbosity=1, \n",
    "                     tree_method='approx',\n",
    "                     eval_metric='mae')"
   ]
  },
  {
   "cell_type": "markdown",
   "id": "ac638a1d",
   "metadata": {},
   "source": [
    "#### Fit Model to Training Dataset"
   ]
  },
  {
   "cell_type": "code",
   "execution_count": null,
   "id": "0dc808cb",
   "metadata": {},
   "outputs": [
    {
     "name": "stdout",
     "output_type": "stream",
     "text": [
      "[0]\tvalidation_0-mae:25027.89258\n",
      "[1]\tvalidation_0-mae:21829.16406\n"
     ]
    },
    {
     "name": "stderr",
     "output_type": "stream",
     "text": [
      "/Users/briandunn/opt/anaconda3/envs/tensor/lib/python3.9/site-packages/xgboost/data.py:250: FutureWarning: pandas.Int64Index is deprecated and will be removed from pandas in a future version. Use pandas.Index with the appropriate dtype instead.\n",
      "  elif isinstance(data.columns, (pd.Int64Index, pd.RangeIndex)):\n"
     ]
    },
    {
     "name": "stdout",
     "output_type": "stream",
     "text": [
      "[2]\tvalidation_0-mae:19078.15039\n",
      "[3]\tvalidation_0-mae:16725.71875\n",
      "[4]\tvalidation_0-mae:14738.88086\n",
      "[5]\tvalidation_0-mae:13006.06738\n",
      "[6]\tvalidation_0-mae:11459.80664\n",
      "[7]\tvalidation_0-mae:10191.54004\n",
      "[8]\tvalidation_0-mae:9023.04590\n",
      "[9]\tvalidation_0-mae:8028.26318\n",
      "[10]\tvalidation_0-mae:7219.56641\n",
      "[11]\tvalidation_0-mae:6559.84375\n",
      "[12]\tvalidation_0-mae:5990.25732\n",
      "[13]\tvalidation_0-mae:5494.96631\n",
      "[14]\tvalidation_0-mae:5109.40674\n",
      "[15]\tvalidation_0-mae:4816.58252\n",
      "[16]\tvalidation_0-mae:4565.81689\n",
      "[17]\tvalidation_0-mae:4366.94043\n",
      "[18]\tvalidation_0-mae:4211.54785\n",
      "[19]\tvalidation_0-mae:4076.45679\n",
      "[20]\tvalidation_0-mae:3953.95142\n",
      "[21]\tvalidation_0-mae:3867.42847\n",
      "[22]\tvalidation_0-mae:3788.29932\n",
      "[23]\tvalidation_0-mae:3723.96069\n",
      "[24]\tvalidation_0-mae:3671.53345\n",
      "[25]\tvalidation_0-mae:3622.03345\n",
      "[26]\tvalidation_0-mae:3581.37817\n",
      "[27]\tvalidation_0-mae:3548.38428\n",
      "[28]\tvalidation_0-mae:3507.80518\n",
      "[29]\tvalidation_0-mae:3465.31421\n",
      "[30]\tvalidation_0-mae:3446.18994\n",
      "[31]\tvalidation_0-mae:3417.23315\n",
      "[32]\tvalidation_0-mae:3374.45410\n",
      "[33]\tvalidation_0-mae:3359.22803\n",
      "[34]\tvalidation_0-mae:3337.36060\n",
      "[35]\tvalidation_0-mae:3320.98438\n",
      "[36]\tvalidation_0-mae:3299.84863\n",
      "[37]\tvalidation_0-mae:3277.89136\n",
      "[38]\tvalidation_0-mae:3263.35986\n",
      "[39]\tvalidation_0-mae:3236.36499\n",
      "[40]\tvalidation_0-mae:3226.05737\n",
      "[41]\tvalidation_0-mae:3208.75049\n",
      "[42]\tvalidation_0-mae:3193.66113\n",
      "[43]\tvalidation_0-mae:3181.71655\n",
      "[44]\tvalidation_0-mae:3163.47998\n",
      "[45]\tvalidation_0-mae:3152.10913\n",
      "[46]\tvalidation_0-mae:3134.74902\n",
      "[47]\tvalidation_0-mae:3115.10498\n",
      "[48]\tvalidation_0-mae:3099.53296\n",
      "[49]\tvalidation_0-mae:3090.27295\n",
      "[50]\tvalidation_0-mae:3078.86328\n",
      "[51]\tvalidation_0-mae:3059.27612\n",
      "[52]\tvalidation_0-mae:3048.71753\n",
      "[53]\tvalidation_0-mae:3040.80835\n",
      "[54]\tvalidation_0-mae:3033.88965\n",
      "[55]\tvalidation_0-mae:3019.02612\n",
      "[56]\tvalidation_0-mae:3009.93018\n",
      "[57]\tvalidation_0-mae:2995.60303\n",
      "[58]\tvalidation_0-mae:2986.85230\n",
      "[59]\tvalidation_0-mae:2972.58887\n",
      "[60]\tvalidation_0-mae:2954.45166\n",
      "[61]\tvalidation_0-mae:2947.52100\n",
      "[62]\tvalidation_0-mae:2940.19605\n",
      "[63]\tvalidation_0-mae:2931.88159\n",
      "[64]\tvalidation_0-mae:2926.49292\n",
      "[65]\tvalidation_0-mae:2916.18408\n",
      "[66]\tvalidation_0-mae:2905.09448\n",
      "[67]\tvalidation_0-mae:2895.36694\n",
      "[68]\tvalidation_0-mae:2888.34839\n",
      "[69]\tvalidation_0-mae:2876.39209\n",
      "[70]\tvalidation_0-mae:2869.05981\n",
      "[71]\tvalidation_0-mae:2861.63647\n",
      "[72]\tvalidation_0-mae:2853.53101\n",
      "[73]\tvalidation_0-mae:2847.58643\n",
      "[74]\tvalidation_0-mae:2831.04297\n",
      "[75]\tvalidation_0-mae:2825.12256\n",
      "[76]\tvalidation_0-mae:2807.47583\n",
      "[77]\tvalidation_0-mae:2807.15356\n",
      "[78]\tvalidation_0-mae:2802.93213\n",
      "[79]\tvalidation_0-mae:2796.95459\n",
      "[80]\tvalidation_0-mae:2790.25488\n",
      "[81]\tvalidation_0-mae:2782.58984\n",
      "[82]\tvalidation_0-mae:2773.34277\n",
      "[83]\tvalidation_0-mae:2762.31348\n",
      "[84]\tvalidation_0-mae:2755.36182\n",
      "[85]\tvalidation_0-mae:2749.34277\n",
      "[86]\tvalidation_0-mae:2745.37524\n",
      "[87]\tvalidation_0-mae:2742.76099\n",
      "[88]\tvalidation_0-mae:2738.30737\n",
      "[89]\tvalidation_0-mae:2728.13721\n",
      "[90]\tvalidation_0-mae:2723.05933\n",
      "[91]\tvalidation_0-mae:2719.41528\n",
      "[92]\tvalidation_0-mae:2711.45801\n",
      "[93]\tvalidation_0-mae:2705.89307\n",
      "[94]\tvalidation_0-mae:2700.28516\n",
      "[95]\tvalidation_0-mae:2695.39209\n",
      "[96]\tvalidation_0-mae:2689.71094\n",
      "[97]\tvalidation_0-mae:2685.85474\n",
      "[98]\tvalidation_0-mae:2682.63135\n",
      "[99]\tvalidation_0-mae:2677.67871\n",
      "[100]\tvalidation_0-mae:2673.73120\n",
      "[101]\tvalidation_0-mae:2668.59131\n",
      "[102]\tvalidation_0-mae:2665.61353\n",
      "[103]\tvalidation_0-mae:2662.23901\n",
      "[104]\tvalidation_0-mae:2659.99683\n",
      "[105]\tvalidation_0-mae:2657.00635\n",
      "[106]\tvalidation_0-mae:2653.95947\n",
      "[107]\tvalidation_0-mae:2650.23999\n",
      "[108]\tvalidation_0-mae:2646.92578\n",
      "[109]\tvalidation_0-mae:2643.66333\n",
      "[110]\tvalidation_0-mae:2637.27856\n",
      "[111]\tvalidation_0-mae:2633.42236\n",
      "[112]\tvalidation_0-mae:2632.28857\n",
      "[113]\tvalidation_0-mae:2629.04175\n",
      "[114]\tvalidation_0-mae:2625.90723\n",
      "[115]\tvalidation_0-mae:2622.87183\n",
      "[116]\tvalidation_0-mae:2617.58106\n",
      "[117]\tvalidation_0-mae:2614.21387\n",
      "[118]\tvalidation_0-mae:2610.92139\n",
      "[119]\tvalidation_0-mae:2609.29565\n",
      "[120]\tvalidation_0-mae:2604.84644\n",
      "[121]\tvalidation_0-mae:2604.33594\n",
      "[122]\tvalidation_0-mae:2603.91772\n",
      "[123]\tvalidation_0-mae:2600.55640\n",
      "[124]\tvalidation_0-mae:2599.96216\n",
      "[125]\tvalidation_0-mae:2597.66162\n",
      "[126]\tvalidation_0-mae:2595.62549\n",
      "[127]\tvalidation_0-mae:2591.66480\n",
      "[128]\tvalidation_0-mae:2588.03271\n",
      "[129]\tvalidation_0-mae:2582.52295\n",
      "[130]\tvalidation_0-mae:2581.88769\n",
      "[131]\tvalidation_0-mae:2577.79175\n",
      "[132]\tvalidation_0-mae:2577.30566\n",
      "[133]\tvalidation_0-mae:2575.06519\n",
      "[134]\tvalidation_0-mae:2574.11548\n",
      "[135]\tvalidation_0-mae:2572.73682\n",
      "[136]\tvalidation_0-mae:2565.80395\n",
      "[137]\tvalidation_0-mae:2563.41846\n",
      "[138]\tvalidation_0-mae:2555.43262\n",
      "[139]\tvalidation_0-mae:2552.26758\n",
      "[140]\tvalidation_0-mae:2548.29248\n",
      "[141]\tvalidation_0-mae:2546.02661\n",
      "[142]\tvalidation_0-mae:2545.43115\n",
      "[143]\tvalidation_0-mae:2544.74951\n",
      "[144]\tvalidation_0-mae:2543.04443\n",
      "[145]\tvalidation_0-mae:2541.01172\n",
      "[146]\tvalidation_0-mae:2541.64160\n",
      "[147]\tvalidation_0-mae:2540.14160\n",
      "[148]\tvalidation_0-mae:2537.48315\n",
      "[149]\tvalidation_0-mae:2532.83862\n",
      "[150]\tvalidation_0-mae:2530.91480\n",
      "[151]\tvalidation_0-mae:2529.55249\n",
      "[152]\tvalidation_0-mae:2529.44971\n"
     ]
    }
   ],
   "source": [
    "model.fit(X_train, y_train, eval_set=[(X_test, y_test)])"
   ]
  },
  {
   "cell_type": "markdown",
   "id": "87cc91e1",
   "metadata": {},
   "source": [
    "#### Make Predictions"
   ]
  },
  {
   "cell_type": "code",
   "execution_count": null,
   "id": "e59bec21",
   "metadata": {},
   "outputs": [],
   "source": [
    "y_pred = model.predict(X_test)\n",
    "preds = [round(value) for value in y_pred]"
   ]
  },
  {
   "cell_type": "markdown",
   "id": "fe627f15",
   "metadata": {},
   "source": [
    "#### Evaluate Results"
   ]
  },
  {
   "cell_type": "code",
   "execution_count": null,
   "id": "17f85b8a",
   "metadata": {},
   "outputs": [],
   "source": [
    "rmse = round(MSE(y_test, preds, squared=False),2)\n",
    "mse = round(MSE(y_test, preds, squared=True),2)\n",
    "mae = round(mean_absolute_error(y_test, preds),2)\n",
    "\n",
    "print(\"RMSE:\".rjust(10, ' '), str(rmse).rjust(12))\n",
    "print('MSE:'.rjust(10, ' '), str(mse).rjust(12))\n",
    "print(\"MAE:\".rjust(10, ' '), str(mae).rjust(12))"
   ]
  },
  {
   "cell_type": "markdown",
   "id": "382f8471",
   "metadata": {},
   "source": [
    "#### Visualize: Feature Importances'"
   ]
  },
  {
   "cell_type": "code",
   "execution_count": null,
   "id": "e0e48f9a",
   "metadata": {},
   "outputs": [],
   "source": [
    "plt.figure(figsize=(15,20))\n",
    "plt.title(\"Feature Importances'\")\n",
    "plt.xlabel(\"Feature Importances'\")\n",
    "plt.ylabel('Features')\n",
    "plt.barh(X_test.columns[0:59], model.feature_importances_[0:59], height=0.75, color='green')\n",
    "plt.show()"
   ]
  },
  {
   "cell_type": "code",
   "execution_count": null,
   "id": "05d3ae76",
   "metadata": {},
   "outputs": [],
   "source": [
    "plt.figure(figsize=(15,20))\n",
    "plt.title(\"Feature Importances'\")\n",
    "plt.xlabel(\"Feature Importances'\")\n",
    "plt.ylabel('Features')\n",
    "plt.barh(X_test.columns[60:], model.feature_importances_[60:], height=0.50, color='green')\n",
    "plt.show()"
   ]
  },
  {
   "cell_type": "markdown",
   "id": "8c235e35",
   "metadata": {},
   "source": [
    "#### Save Model"
   ]
  },
  {
   "cell_type": "code",
   "execution_count": null,
   "id": "1019389f",
   "metadata": {},
   "outputs": [],
   "source": [
    "model.save_model('MSRP Predictor-XGBoost Regression.json')"
   ]
  }
 ],
 "metadata": {
  "kernelspec": {
   "display_name": "Python 3 (ipykernel)",
   "language": "python",
   "name": "python3"
  },
  "language_info": {
   "codemirror_mode": {
    "name": "ipython",
    "version": 3
   },
   "file_extension": ".py",
   "mimetype": "text/x-python",
   "name": "python",
   "nbconvert_exporter": "python",
   "pygments_lexer": "ipython3",
   "version": "3.9.12"
  }
 },
 "nbformat": 4,
 "nbformat_minor": 5
}
